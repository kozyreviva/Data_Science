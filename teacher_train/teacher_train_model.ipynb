{
  "cells": [
    {
      "cell_type": "markdown",
      "metadata": {
        "id": "IHiTRg-kLKaC"
      },
      "source": [
        "# Отток клиентов"
      ]
    },
    {
      "cell_type": "markdown",
      "metadata": {
        "id": "dLokH47JLKaE"
      },
      "source": [
        "Из «Бета-Банка» стали уходить клиенты. Каждый месяц. Немного, но заметно. Банковские маркетологи посчитали: сохранять текущих клиентов дешевле, чем привлекать новых.\n",
        "\n",
        "Нужно спрогнозировать, уйдёт клиент из банка в ближайшее время или нет. Предоставлены исторические данные о поведении клиентов и расторжении договоров с банком. \n",
        "\n",
        "Необходимо постройть модель с предельно большим значением *F1*-меры. \n",
        "\n",
        "Источник данных: [https://www.kaggle.com/barelydedicated/bank-customer-churn-modeling](https://www.kaggle.com/barelydedicated/bank-customer-churn-modeling)"
      ]
    },
    {
      "cell_type": "markdown",
      "metadata": {
        "id": "wpSKDW7uLKaG"
      },
      "source": [
        "## Подготовка данных"
      ]
    },
    {
      "cell_type": "markdown",
      "metadata": {
        "id": "HvImmRwpLKaH"
      },
      "source": [
        "Загрузка библиотек."
      ]
    },
    {
      "cell_type": "code",
      "execution_count": 16,
      "metadata": {
        "id": "R0oSbpykLKaJ"
      },
      "outputs": [],
      "source": [
        "#загрузка библиотек\n",
        "import pandas as pd\n",
        "import numpy as np\n",
        "import seaborn as sns\n",
        "import matplotlib.pyplot as plt\n",
        "import plotly.express as px\n",
        "from sklearn.preprocessing import OrdinalEncoder\n",
        "from sklearn.preprocessing import StandardScaler\n",
        "from sklearn.model_selection import train_test_split\n",
        "from sklearn.tree import DecisionTreeClassifier\n",
        "from sklearn.ensemble import RandomForestClassifier\n",
        "from sklearn.linear_model import LogisticRegression\n",
        "from sklearn.utils import shuffle\n",
        "from sklearn.metrics import f1_score\n",
        "from sklearn.metrics import roc_auc_score"
      ]
    },
    {
      "cell_type": "markdown",
      "metadata": {
        "id": "5XjN-hubLKaM"
      },
      "source": [
        "Открытие файла."
      ]
    },
    {
      "cell_type": "code",
      "execution_count": 17,
      "metadata": {
        "colab": {
          "base_uri": "https://localhost:8080/",
          "height": 237
        },
        "id": "evyPa9gwLKaO",
        "outputId": "ac305183-96ea-4d86-ee8e-0610366bb0e9",
        "scrolled": false
      },
      "outputs": [
        {
          "output_type": "execute_result",
          "data": {
            "text/plain": [
              "           CustomerId   Surname  CreditScore Geography  Gender  Age  Tenure  \\\n",
              "RowNumber                                                                     \n",
              "1            15634602  Hargrave          619    France  Female   42     2.0   \n",
              "2            15647311      Hill          608     Spain  Female   41     1.0   \n",
              "3            15619304      Onio          502    France  Female   42     8.0   \n",
              "4            15701354      Boni          699    France  Female   39     1.0   \n",
              "5            15737888  Mitchell          850     Spain  Female   43     2.0   \n",
              "\n",
              "             Balance  NumOfProducts  HasCrCard  IsActiveMember  \\\n",
              "RowNumber                                                        \n",
              "1               0.00              1          1               1   \n",
              "2           83807.86              1          0               1   \n",
              "3          159660.80              3          1               0   \n",
              "4               0.00              2          0               0   \n",
              "5          125510.82              1          1               1   \n",
              "\n",
              "           EstimatedSalary  Exited  \n",
              "RowNumber                           \n",
              "1                101348.88       1  \n",
              "2                112542.58       0  \n",
              "3                113931.57       1  \n",
              "4                 93826.63       0  \n",
              "5                 79084.10       0  "
            ],
            "text/html": [
              "\n",
              "  <div id=\"df-f4e1d3f1-7cb8-4381-9f68-30aa4c128e52\">\n",
              "    <div class=\"colab-df-container\">\n",
              "      <div>\n",
              "<style scoped>\n",
              "    .dataframe tbody tr th:only-of-type {\n",
              "        vertical-align: middle;\n",
              "    }\n",
              "\n",
              "    .dataframe tbody tr th {\n",
              "        vertical-align: top;\n",
              "    }\n",
              "\n",
              "    .dataframe thead th {\n",
              "        text-align: right;\n",
              "    }\n",
              "</style>\n",
              "<table border=\"1\" class=\"dataframe\">\n",
              "  <thead>\n",
              "    <tr style=\"text-align: right;\">\n",
              "      <th></th>\n",
              "      <th>CustomerId</th>\n",
              "      <th>Surname</th>\n",
              "      <th>CreditScore</th>\n",
              "      <th>Geography</th>\n",
              "      <th>Gender</th>\n",
              "      <th>Age</th>\n",
              "      <th>Tenure</th>\n",
              "      <th>Balance</th>\n",
              "      <th>NumOfProducts</th>\n",
              "      <th>HasCrCard</th>\n",
              "      <th>IsActiveMember</th>\n",
              "      <th>EstimatedSalary</th>\n",
              "      <th>Exited</th>\n",
              "    </tr>\n",
              "    <tr>\n",
              "      <th>RowNumber</th>\n",
              "      <th></th>\n",
              "      <th></th>\n",
              "      <th></th>\n",
              "      <th></th>\n",
              "      <th></th>\n",
              "      <th></th>\n",
              "      <th></th>\n",
              "      <th></th>\n",
              "      <th></th>\n",
              "      <th></th>\n",
              "      <th></th>\n",
              "      <th></th>\n",
              "      <th></th>\n",
              "    </tr>\n",
              "  </thead>\n",
              "  <tbody>\n",
              "    <tr>\n",
              "      <th>1</th>\n",
              "      <td>15634602</td>\n",
              "      <td>Hargrave</td>\n",
              "      <td>619</td>\n",
              "      <td>France</td>\n",
              "      <td>Female</td>\n",
              "      <td>42</td>\n",
              "      <td>2.0</td>\n",
              "      <td>0.00</td>\n",
              "      <td>1</td>\n",
              "      <td>1</td>\n",
              "      <td>1</td>\n",
              "      <td>101348.88</td>\n",
              "      <td>1</td>\n",
              "    </tr>\n",
              "    <tr>\n",
              "      <th>2</th>\n",
              "      <td>15647311</td>\n",
              "      <td>Hill</td>\n",
              "      <td>608</td>\n",
              "      <td>Spain</td>\n",
              "      <td>Female</td>\n",
              "      <td>41</td>\n",
              "      <td>1.0</td>\n",
              "      <td>83807.86</td>\n",
              "      <td>1</td>\n",
              "      <td>0</td>\n",
              "      <td>1</td>\n",
              "      <td>112542.58</td>\n",
              "      <td>0</td>\n",
              "    </tr>\n",
              "    <tr>\n",
              "      <th>3</th>\n",
              "      <td>15619304</td>\n",
              "      <td>Onio</td>\n",
              "      <td>502</td>\n",
              "      <td>France</td>\n",
              "      <td>Female</td>\n",
              "      <td>42</td>\n",
              "      <td>8.0</td>\n",
              "      <td>159660.80</td>\n",
              "      <td>3</td>\n",
              "      <td>1</td>\n",
              "      <td>0</td>\n",
              "      <td>113931.57</td>\n",
              "      <td>1</td>\n",
              "    </tr>\n",
              "    <tr>\n",
              "      <th>4</th>\n",
              "      <td>15701354</td>\n",
              "      <td>Boni</td>\n",
              "      <td>699</td>\n",
              "      <td>France</td>\n",
              "      <td>Female</td>\n",
              "      <td>39</td>\n",
              "      <td>1.0</td>\n",
              "      <td>0.00</td>\n",
              "      <td>2</td>\n",
              "      <td>0</td>\n",
              "      <td>0</td>\n",
              "      <td>93826.63</td>\n",
              "      <td>0</td>\n",
              "    </tr>\n",
              "    <tr>\n",
              "      <th>5</th>\n",
              "      <td>15737888</td>\n",
              "      <td>Mitchell</td>\n",
              "      <td>850</td>\n",
              "      <td>Spain</td>\n",
              "      <td>Female</td>\n",
              "      <td>43</td>\n",
              "      <td>2.0</td>\n",
              "      <td>125510.82</td>\n",
              "      <td>1</td>\n",
              "      <td>1</td>\n",
              "      <td>1</td>\n",
              "      <td>79084.10</td>\n",
              "      <td>0</td>\n",
              "    </tr>\n",
              "  </tbody>\n",
              "</table>\n",
              "</div>\n",
              "      <button class=\"colab-df-convert\" onclick=\"convertToInteractive('df-f4e1d3f1-7cb8-4381-9f68-30aa4c128e52')\"\n",
              "              title=\"Convert this dataframe to an interactive table.\"\n",
              "              style=\"display:none;\">\n",
              "        \n",
              "  <svg xmlns=\"http://www.w3.org/2000/svg\" height=\"24px\"viewBox=\"0 0 24 24\"\n",
              "       width=\"24px\">\n",
              "    <path d=\"M0 0h24v24H0V0z\" fill=\"none\"/>\n",
              "    <path d=\"M18.56 5.44l.94 2.06.94-2.06 2.06-.94-2.06-.94-.94-2.06-.94 2.06-2.06.94zm-11 1L8.5 8.5l.94-2.06 2.06-.94-2.06-.94L8.5 2.5l-.94 2.06-2.06.94zm10 10l.94 2.06.94-2.06 2.06-.94-2.06-.94-.94-2.06-.94 2.06-2.06.94z\"/><path d=\"M17.41 7.96l-1.37-1.37c-.4-.4-.92-.59-1.43-.59-.52 0-1.04.2-1.43.59L10.3 9.45l-7.72 7.72c-.78.78-.78 2.05 0 2.83L4 21.41c.39.39.9.59 1.41.59.51 0 1.02-.2 1.41-.59l7.78-7.78 2.81-2.81c.8-.78.8-2.07 0-2.86zM5.41 20L4 18.59l7.72-7.72 1.47 1.35L5.41 20z\"/>\n",
              "  </svg>\n",
              "      </button>\n",
              "      \n",
              "  <style>\n",
              "    .colab-df-container {\n",
              "      display:flex;\n",
              "      flex-wrap:wrap;\n",
              "      gap: 12px;\n",
              "    }\n",
              "\n",
              "    .colab-df-convert {\n",
              "      background-color: #E8F0FE;\n",
              "      border: none;\n",
              "      border-radius: 50%;\n",
              "      cursor: pointer;\n",
              "      display: none;\n",
              "      fill: #1967D2;\n",
              "      height: 32px;\n",
              "      padding: 0 0 0 0;\n",
              "      width: 32px;\n",
              "    }\n",
              "\n",
              "    .colab-df-convert:hover {\n",
              "      background-color: #E2EBFA;\n",
              "      box-shadow: 0px 1px 2px rgba(60, 64, 67, 0.3), 0px 1px 3px 1px rgba(60, 64, 67, 0.15);\n",
              "      fill: #174EA6;\n",
              "    }\n",
              "\n",
              "    [theme=dark] .colab-df-convert {\n",
              "      background-color: #3B4455;\n",
              "      fill: #D2E3FC;\n",
              "    }\n",
              "\n",
              "    [theme=dark] .colab-df-convert:hover {\n",
              "      background-color: #434B5C;\n",
              "      box-shadow: 0px 1px 3px 1px rgba(0, 0, 0, 0.15);\n",
              "      filter: drop-shadow(0px 1px 2px rgba(0, 0, 0, 0.3));\n",
              "      fill: #FFFFFF;\n",
              "    }\n",
              "  </style>\n",
              "\n",
              "      <script>\n",
              "        const buttonEl =\n",
              "          document.querySelector('#df-f4e1d3f1-7cb8-4381-9f68-30aa4c128e52 button.colab-df-convert');\n",
              "        buttonEl.style.display =\n",
              "          google.colab.kernel.accessAllowed ? 'block' : 'none';\n",
              "\n",
              "        async function convertToInteractive(key) {\n",
              "          const element = document.querySelector('#df-f4e1d3f1-7cb8-4381-9f68-30aa4c128e52');\n",
              "          const dataTable =\n",
              "            await google.colab.kernel.invokeFunction('convertToInteractive',\n",
              "                                                     [key], {});\n",
              "          if (!dataTable) return;\n",
              "\n",
              "          const docLinkHtml = 'Like what you see? Visit the ' +\n",
              "            '<a target=\"_blank\" href=https://colab.research.google.com/notebooks/data_table.ipynb>data table notebook</a>'\n",
              "            + ' to learn more about interactive tables.';\n",
              "          element.innerHTML = '';\n",
              "          dataTable['output_type'] = 'display_data';\n",
              "          await google.colab.output.renderOutput(dataTable, element);\n",
              "          const docLink = document.createElement('div');\n",
              "          docLink.innerHTML = docLinkHtml;\n",
              "          element.appendChild(docLink);\n",
              "        }\n",
              "      </script>\n",
              "    </div>\n",
              "  </div>\n",
              "  "
            ]
          },
          "metadata": {},
          "execution_count": 17
        }
      ],
      "source": [
        "#сохранение датафрейма в переменную\n",
        "try:\n",
        "    df = pd.read_csv(\"/datasets/Churn.csv\", index_col = 0)\n",
        "except:\n",
        "    df = pd.read_csv(\"Churn.csv\",index_col = 0)\n",
        "\n",
        "df.head()"
      ]
    },
    {
      "cell_type": "markdown",
      "metadata": {
        "id": "0B2L_lvjLKaQ"
      },
      "source": [
        "Вывод информации о таблице."
      ]
    },
    {
      "cell_type": "code",
      "execution_count": 18,
      "metadata": {
        "colab": {
          "base_uri": "https://localhost:8080/"
        },
        "id": "rMly0N0eLKaS",
        "outputId": "1c2d41dd-3ded-4bf2-d781-a87a2607045d",
        "scrolled": true
      },
      "outputs": [
        {
          "output_type": "stream",
          "name": "stdout",
          "text": [
            "<class 'pandas.core.frame.DataFrame'>\n",
            "Int64Index: 10000 entries, 1 to 10000\n",
            "Data columns (total 13 columns):\n",
            " #   Column           Non-Null Count  Dtype  \n",
            "---  ------           --------------  -----  \n",
            " 0   CustomerId       10000 non-null  int64  \n",
            " 1   Surname          10000 non-null  object \n",
            " 2   CreditScore      10000 non-null  int64  \n",
            " 3   Geography        10000 non-null  object \n",
            " 4   Gender           10000 non-null  object \n",
            " 5   Age              10000 non-null  int64  \n",
            " 6   Tenure           9091 non-null   float64\n",
            " 7   Balance          10000 non-null  float64\n",
            " 8   NumOfProducts    10000 non-null  int64  \n",
            " 9   HasCrCard        10000 non-null  int64  \n",
            " 10  IsActiveMember   10000 non-null  int64  \n",
            " 11  EstimatedSalary  10000 non-null  float64\n",
            " 12  Exited           10000 non-null  int64  \n",
            "dtypes: float64(3), int64(7), object(3)\n",
            "memory usage: 1.1+ MB\n"
          ]
        }
      ],
      "source": [
        "#информация о таблице\n",
        "df.info()"
      ]
    },
    {
      "cell_type": "markdown",
      "metadata": {
        "id": "5DjuOKxMLKaT"
      },
      "source": [
        "**Первичные выводы**\n",
        "\n",
        "В данном датафрейме имеются ряд неточностей и пропусков что повлияют на корректную работу с данными и построение моделей.\n",
        "К к таким недостатком можно отнести:\n",
        "* Неправильный регистр названия столбцов.\n",
        "* Пропуски в столбце.  \n",
        "\n",
        "Также в датафрейме имеются 2 столбца с неинформативными данными для обучения модели customer_id и surname. Данные столбцы исключим из датафрейма.\n"
      ]
    },
    {
      "cell_type": "markdown",
      "metadata": {
        "id": "rsLTB9coxznC"
      },
      "source": [
        "Сперва изменим регистра на змеиный.  \n",
        "Для простоты исравления добавим функцию и применим ее на названия столбцов."
      ]
    },
    {
      "cell_type": "code",
      "execution_count": 19,
      "metadata": {
        "id": "gvlDyU1zzUMc"
      },
      "outputs": [],
      "source": [
        "#функция изменения регистра\n",
        "def camel_to_snake(str, sep='_'):\n",
        "    snake_register = ''\n",
        "    for i in str:\n",
        "        if i.isupper():\n",
        "            snake_register += sep + i.lower()\n",
        "        else:\n",
        "            snake_register += i\n",
        "    return snake_register.lstrip(sep)"
      ]
    },
    {
      "cell_type": "code",
      "execution_count": 20,
      "metadata": {
        "id": "RWB31vnPzWbP"
      },
      "outputs": [],
      "source": [
        "#применение функции на названия столбцов\n",
        "df.columns  = [camel_to_snake(x) for x in df]"
      ]
    },
    {
      "cell_type": "markdown",
      "metadata": {
        "id": "G_ReygZ22c9z"
      },
      "source": [
        "Проверим изменения."
      ]
    },
    {
      "cell_type": "code",
      "execution_count": 21,
      "metadata": {
        "colab": {
          "base_uri": "https://localhost:8080/"
        },
        "id": "oFvKjYW52SAh",
        "outputId": "12389e49-8a8e-48d3-ec56-59530ef42de4"
      },
      "outputs": [
        {
          "output_type": "execute_result",
          "data": {
            "text/plain": [
              "Index(['customer_id', 'surname', 'credit_score', 'geography', 'gender', 'age',\n",
              "       'tenure', 'balance', 'num_of_products', 'has_cr_card',\n",
              "       'is_active_member', 'estimated_salary', 'exited'],\n",
              "      dtype='object')"
            ]
          },
          "metadata": {},
          "execution_count": 21
        }
      ],
      "source": [
        "#вывод названия столбцов\n",
        "df.columns"
      ]
    },
    {
      "cell_type": "markdown",
      "metadata": {
        "id": "xEsJdnst2RIQ"
      },
      "source": [
        "Обработаем пропуски в столбце Tenure.  \n",
        "Выведем уникальные значения для лучшего понимания данных которые необходимо обработать."
      ]
    },
    {
      "cell_type": "code",
      "execution_count": 22,
      "metadata": {
        "colab": {
          "base_uri": "https://localhost:8080/"
        },
        "id": "8QglyHbmLKaU",
        "outputId": "e2ce02d0-4077-43c7-c19f-a6774716c8b3",
        "scrolled": false
      },
      "outputs": [
        {
          "output_type": "execute_result",
          "data": {
            "text/plain": [
              "array([ 2.,  1.,  8.,  7.,  4.,  6.,  3., 10.,  5.,  9.,  0., nan])"
            ]
          },
          "metadata": {},
          "execution_count": 22
        }
      ],
      "source": [
        "#вывод уникальных значений\n",
        "df.tenure.unique()"
      ]
    },
    {
      "cell_type": "markdown",
      "metadata": {
        "id": "Vf0FYOBNLKaV"
      },
      "source": [
        "Посмотрим количество каждых значений."
      ]
    },
    {
      "cell_type": "code",
      "execution_count": 23,
      "metadata": {
        "colab": {
          "base_uri": "https://localhost:8080/"
        },
        "id": "UHVrKp0lLKaW",
        "outputId": "c5d4de65-bff9-4a65-89ad-a0b56a364293"
      },
      "outputs": [
        {
          "output_type": "execute_result",
          "data": {
            "text/plain": [
              "1.0     952\n",
              "2.0     950\n",
              "8.0     933\n",
              "3.0     928\n",
              "5.0     927\n",
              "7.0     925\n",
              "4.0     885\n",
              "9.0     882\n",
              "6.0     881\n",
              "10.0    446\n",
              "0.0     382\n",
              "Name: tenure, dtype: int64"
            ]
          },
          "metadata": {},
          "execution_count": 23
        }
      ],
      "source": [
        "#вывод количества каждого значения\n",
        "df.tenure.value_counts()"
      ]
    },
    {
      "cell_type": "markdown",
      "metadata": {
        "id": "8xwYwzfrLKaX"
      },
      "source": [
        "Содержашиеся значения имеют разброс от 1 до 10, также значения типа int.  \n",
        "Т.к данных недостаточно для корректного заполнения пропусков. Просто заполним пропуски нулями и предположим что клиенты нулевого года.  \n"
      ]
    },
    {
      "cell_type": "code",
      "execution_count": 24,
      "metadata": {
        "id": "Gvr-wQGULKaY",
        "scrolled": true
      },
      "outputs": [],
      "source": [
        "#заполнение пропусков \n",
        "df[\"tenure\"] = df[\"tenure\"].fillna(0)"
      ]
    },
    {
      "cell_type": "markdown",
      "metadata": {
        "id": "jwOeyhE0LKaZ"
      },
      "source": [
        "Проверим изменения."
      ]
    },
    {
      "cell_type": "code",
      "execution_count": 25,
      "metadata": {
        "colab": {
          "base_uri": "https://localhost:8080/"
        },
        "id": "nsB0MTogLKaa",
        "outputId": "ec595bf3-3855-47f5-8aae-aa7db32625c2",
        "scrolled": true
      },
      "outputs": [
        {
          "output_type": "execute_result",
          "data": {
            "text/plain": [
              "0.0     1291\n",
              "1.0      952\n",
              "2.0      950\n",
              "8.0      933\n",
              "3.0      928\n",
              "5.0      927\n",
              "7.0      925\n",
              "4.0      885\n",
              "9.0      882\n",
              "6.0      881\n",
              "10.0     446\n",
              "Name: tenure, dtype: int64"
            ]
          },
          "metadata": {},
          "execution_count": 25
        }
      ],
      "source": [
        "#вывод количества каждого значения\n",
        "df.tenure.value_counts()"
      ]
    },
    {
      "cell_type": "markdown",
      "metadata": {
        "id": "5fiVhh-2LKab"
      },
      "source": [
        "Пропуски заполнены   \n",
        "Приведём данный столбец к типу int."
      ]
    },
    {
      "cell_type": "code",
      "execution_count": 26,
      "metadata": {
        "id": "V8imjCUnLKab"
      },
      "outputs": [],
      "source": [
        "#смена типа данных\n",
        "df.tenure = df.tenure.astype(int)"
      ]
    },
    {
      "cell_type": "markdown",
      "metadata": {
        "id": "Px1ePHhJQnHM"
      },
      "source": [
        "Осталось удалить неинформативные столбцы."
      ]
    },
    {
      "cell_type": "code",
      "execution_count": 27,
      "metadata": {
        "id": "-qjZaHKeQnHM"
      },
      "outputs": [],
      "source": [
        "#удаление столбцов\n",
        "df = df.drop([\"surname\",\"customer_id\"],axis = 1)"
      ]
    },
    {
      "cell_type": "markdown",
      "metadata": {
        "id": "AZgEHr55LKac"
      },
      "source": [
        "\n",
        "\n",
        "Проверим признаки на мультиколлинеарность.  \n",
        "Выставим пороговое значение корреляции 0.7."
      ]
    },
    {
      "cell_type": "code",
      "execution_count": 28,
      "metadata": {
        "colab": {
          "base_uri": "https://localhost:8080/",
          "height": 537
        },
        "id": "Uohb5LfWLKad",
        "outputId": "728b6c16-3fd5-4c00-f6d2-4ea3700a67c8",
        "scrolled": false
      },
      "outputs": [
        {
          "output_type": "display_data",
          "data": {
            "text/plain": [
              "<Figure size 720x504 with 2 Axes>"
            ],
            "image/png": "[encoded data removed]"
          },
          "metadata": {}
        }
      ],
      "source": [
        "#выделим значения для сокрытия их в тепловой карте\n",
        "upp_mat = np.triu(df.corr())\n",
        "#построение тепловой карты корреляции признаков\n",
        "sns.set(rc = {'figure.figsize':(10,7)})\n",
        "sns.heatmap(df.corr(),vmin = -1, vmax = +1, annot = True, cmap = 'coolwarm', mask = upp_mat)\n",
        "plt.title(\"Корреляция признаков\")\n",
        "plt.show()"
      ]
    },
    {
      "cell_type": "markdown",
      "metadata": {
        "id": "dFZ5JwYKLKae"
      },
      "source": [
        "Мультиколлинеарность отсутствует. "
      ]
    },
    {
      "cell_type": "markdown",
      "metadata": {
        "id": "S_MZDaz6QnHN"
      },
      "source": [
        "Для правильного обучения модели применим для cтолбцов прямое кодирование. Сохраним в новую перемунную."
      ]
    },
    {
      "cell_type": "code",
      "execution_count": 29,
      "metadata": {
        "scrolled": true,
        "id": "0ozCfAznQnHN"
      },
      "outputs": [],
      "source": [
        "#кодирование признаков\n",
        "df_ohe = pd.get_dummies(df, columns = [\"gender\", \"geography\"], drop_first = True)"
      ]
    },
    {
      "cell_type": "markdown",
      "metadata": {
        "id": "suXoYmmkLKaf"
      },
      "source": [
        "Выделим из датафрейма признаки и целевой признак."
      ]
    },
    {
      "cell_type": "code",
      "execution_count": 30,
      "metadata": {
        "id": "6vlpDg5nLKag"
      },
      "outputs": [],
      "source": [
        "#выделение признаков\n",
        "features = df_ohe.drop(\"exited\",axis =1)\n",
        "target = df_ohe[\"exited\"]"
      ]
    },
    {
      "cell_type": "markdown",
      "metadata": {
        "id": "_YZ45PhaLKag"
      },
      "source": [
        "Разделение признаков на обучающие,валидационные и тестовые."
      ]
    },
    {
      "cell_type": "code",
      "execution_count": 31,
      "metadata": {
        "id": "RPCSjjzRLKah"
      },
      "outputs": [],
      "source": [
        "#разделение признаков\n",
        "features_train,features_test,target_train,target_test = train_test_split(features,\n",
        "                                                                         target,\n",
        "                                                                         test_size = 0.4,\n",
        "                                                                         random_state = 12345)\n",
        "features_test,features_valid,target_test,target_valid = train_test_split(features_test,\n",
        "                                                                         target_test,\n",
        "                                                                         test_size = 0.5,\n",
        "                                                                         random_state = 12345)"
      ]
    },
    {
      "cell_type": "markdown",
      "metadata": {
        "id": "-y2L6lWXLKai"
      },
      "source": [
        "Проверим соотношение данных в каждой ваборке."
      ]
    },
    {
      "cell_type": "code",
      "execution_count": 32,
      "metadata": {
        "colab": {
          "base_uri": "https://localhost:8080/"
        },
        "id": "j9uHVTtALKai",
        "outputId": "d415be63-9b91-4e27-bb0c-efb69d1263b1",
        "scrolled": true
      },
      "outputs": [
        {
          "output_type": "stream",
          "name": "stdout",
          "text": [
            "(6000, 11)\n",
            "(2000, 11)\n",
            "(2000, 11)\n"
          ]
        }
      ],
      "source": [
        "#вывод количества объектов в каждой выборке\n",
        "print(features_train.shape)\n",
        "print(features_valid.shape)\n",
        "print(features_test.shape)"
      ]
    },
    {
      "cell_type": "markdown",
      "metadata": {
        "id": "QUrjbBiNLKaj"
      },
      "source": [
        "Данные распределены хорошо.\n",
        "\n",
        "Отмасштабируем признаки для того чтобы модель не выделяла признаки с высокими значениями как наиболее выжные."
      ]
    },
    {
      "cell_type": "code",
      "execution_count": 33,
      "metadata": {
        "id": "GqqR93IPlHa9"
      },
      "outputs": [],
      "source": [
        "#выделение признаков для масштабирования\n",
        "numeric = [\"credit_score\", \"balance\",\"estimated_salary\",\"age\"]\n",
        "#создание объекта структуры данных\n",
        "scaler = StandardScaler()\n",
        "scaler.fit(features_train[numeric])\n",
        "#трансформация признаков\n",
        "features_train[numeric] = scaler.transform(features_train[numeric])\n",
        "features_valid[numeric] = scaler.transform(features_valid[numeric])\n",
        "features_test[numeric] = scaler.transform(features_test[numeric])"
      ]
    },
    {
      "cell_type": "markdown",
      "metadata": {
        "id": "lyAlU7RDq4VQ"
      },
      "source": [
        "**Вывод**\n",
        "\n",
        "Для дальнейшей работы по построению модели были обработаны и изменины ряд данных.\n",
        "* Был изменён регистр столбцов и заполнены пропуски в столбце Tenure.\n",
        "* Был произведен поиск зависимостей признаков чтобы избежать мультиколлинеарности что влияет на обучение модели.\n",
        "* Было применено порядковое кодирование на некоторые признаки типа object.\n",
        "* Произведено разделение на обучающую,валидационную, тестовую выборки.\n",
        "* произведено масштабирование признаков.\n",
        "\n",
        "Данные подготовлены для дальнейшего обучения модели."
      ]
    },
    {
      "cell_type": "markdown",
      "metadata": {
        "id": "xvTYglBqLKaj"
      },
      "source": [
        "## Исследование задачи"
      ]
    },
    {
      "cell_type": "markdown",
      "metadata": {
        "id": "STCFLnesPuoN"
      },
      "source": [
        "Выберем 3 модели для построения прогнозов.\n",
        "* DecisionTreeClassifier\n",
        "* RandomForestClassifie\n",
        "* LogisticRegressor  \n",
        "Обучим эти модели на тренировочных данных без учета баланса классов. Для проверки одновременно и точности и полноты используем f1-меру.\n",
        "\n",
        "Так же для каждой модели будем считать AUC_ROC."
      ]
    },
    {
      "cell_type": "markdown",
      "metadata": {
        "id": "A70Yx7scQnHQ"
      },
      "source": [
        "Для дальнейшей работы напишем несколько функций поиска оптимальных моделей. Добавим возможность балансировки классов."
      ]
    },
    {
      "cell_type": "code",
      "execution_count": 34,
      "metadata": {
        "id": "hE1UTr5FQnHQ"
      },
      "outputs": [],
      "source": [
        "#Функция для случайного леса\n",
        "def random_forest(features_train, target_train, features_test, target_test, balance = None):\n",
        "    best_forest_depht = 0\n",
        "    best_nest = 0\n",
        "    best_f1 = 0\n",
        "    auc_roc = 0\n",
        "    best_model = RandomForestClassifier()\n",
        "\n",
        "    for est in range(10, 101, 10):\n",
        "        for depth in range(1,20):\n",
        "            model = RandomForestClassifier(random_state = 12345,\n",
        "                                       n_estimators = est, \n",
        "                                       max_depth = depth)\n",
        "            model.fit(features_train, target_train)\n",
        "            predictions = model.predict(features_test)\n",
        "            f1 = f1_score(target_test,predictions)\n",
        "            if f1>best_f1:\n",
        "                best_f1 =f1\n",
        "                best_forest_depth = depth\n",
        "                best_nest = est\n",
        "                best_model = model\n",
        "            \n",
        "    probabilities_test = best_model.predict_proba(features_test)\n",
        "    probabilities_one_test = probabilities_test[:, 1]\n",
        "    auc_roc = roc_auc_score(target_test,probabilities_one_test)\n",
        "\n",
        "    print(\"Лучшая модель Случайного леса\")\n",
        "    print(\"f1-мера:\",best_f1)\n",
        "    print(\"Глубина деревьев:\",best_forest_depth)\n",
        "    print(\"Количество деревьев:\",best_nest)\n",
        "    print(\"AUC_ROC:\",auc_roc)"
      ]
    },
    {
      "cell_type": "code",
      "execution_count": 35,
      "metadata": {
        "id": "1WzzFfUGQnHR"
      },
      "outputs": [],
      "source": [
        "#Функция для дерева решений\n",
        "def decision_tree(features_train, target_train, features_test, target_test, balance = None):\n",
        "    best_tree_depht = 0\n",
        "    best_f1 = 0\n",
        "    auc_roc = 0\n",
        "    best_model = DecisionTreeClassifier()\n",
        "\n",
        "    for depth in range(1,20):\n",
        "        model = DecisionTreeClassifier(random_state = 12345,\n",
        "                                       max_depth = depth,\n",
        "                                       class_weight = balance)\n",
        "        model.fit(features_train, target_train)\n",
        "        predictions = model.predict(features_test)\n",
        "        f1 = f1_score(target_test, predictions)\n",
        "        if f1 > best_f1:\n",
        "            best_f1 = f1\n",
        "            best_tree_depth = depth\n",
        "            best_model = model\n",
        "            \n",
        "    probabilities_test = best_model.predict_proba(features_test)\n",
        "    probabilities_one_test = probabilities_test[:, 1]\n",
        "    auc_roc = roc_auc_score(target_test,probabilities_one_test)\n",
        "    \n",
        "    print(\"Лучшая модель Дерева решений\")\n",
        "    print(\"f1-мера:\",best_f1)\n",
        "    print(\"Глубина дерева:\",best_tree_depth)\n",
        "    print(\"AUC_ROC:\",auc_roc)"
      ]
    },
    {
      "cell_type": "markdown",
      "metadata": {
        "id": "akTqJGtnQnHR"
      },
      "source": [
        "Приступим к поиску лучшей модели для прогноза."
      ]
    },
    {
      "cell_type": "code",
      "execution_count": 36,
      "metadata": {
        "colab": {
          "base_uri": "https://localhost:8080/"
        },
        "id": "P9B5zdWpLKak",
        "outputId": "99ca5d25-9411-47a8-a3d5-0311a2819285",
        "scrolled": false
      },
      "outputs": [
        {
          "output_type": "stream",
          "name": "stdout",
          "text": [
            "Лучшая модель Дерева решений\n",
            "f1-мера: 0.5337423312883436\n",
            "Глубина дерева: 6\n",
            "AUC_ROC: 0.8394526219847661\n"
          ]
        }
      ],
      "source": [
        "#построение модели\n",
        "decision_tree(features_train,target_train,features_valid,target_valid)"
      ]
    },
    {
      "cell_type": "code",
      "execution_count": 37,
      "metadata": {
        "id": "m-GCK_UgQnHS",
        "outputId": "ef59f906-b160-459d-9a98-a1ee40ba92c3",
        "colab": {
          "base_uri": "https://localhost:8080/"
        }
      },
      "outputs": [
        {
          "output_type": "stream",
          "name": "stdout",
          "text": [
            "Лучшая модель Случайного леса\n",
            "f1-мера: 0.5621301775147929\n",
            "Глубина деревьев: 18\n",
            "Количество деревьев: 80\n",
            "AUC_ROC: 0.8520052588105314\n"
          ]
        }
      ],
      "source": [
        "#построение модели\n",
        "random_forest(features_train,target_train,features_valid,target_valid)"
      ]
    },
    {
      "cell_type": "code",
      "execution_count": 38,
      "metadata": {
        "colab": {
          "base_uri": "https://localhost:8080/"
        },
        "id": "UMrhlg8ZLKam",
        "outputId": "a66f3303-6715-40b9-e0b3-4113f52b6bf3"
      },
      "outputs": [
        {
          "output_type": "stream",
          "name": "stdout",
          "text": [
            "f1-мера: 0.2743055555555555\n",
            "AUC_ROC: 0.7387804296694054\n"
          ]
        }
      ],
      "source": [
        "#Логистическая регрессия\n",
        "\n",
        "auc_roc = 0\n",
        "\n",
        "#подсчет точноси для логистической регрессии\n",
        "model = LogisticRegression(random_state = 12345, solver='liblinear')\n",
        "model.fit(features_train, target_train)\n",
        "predictions = model.predict(features_valid)\n",
        "f1 = f1_score(target_valid,predictions)\n",
        "probabilities_valid = model.predict_proba(features_valid)\n",
        "probabilities_one_valid = probabilities_valid[:, 1]\n",
        "auc_roc = roc_auc_score(target_valid,probabilities_one_valid)\n",
        "        \n",
        "print(\"f1-мера:\",f1)\n",
        "print(\"AUC_ROC:\",auc_roc)"
      ]
    },
    {
      "cell_type": "markdown",
      "metadata": {
        "id": "RyULE1Ruzb6_"
      },
      "source": [
        "**Выводы**\n",
        "\n",
        "Построив 3 разные модели мы видим что наибольшую f1-меру показала модель случайного леса. Т.к модель случайного леса создает независмые деревья а потом усредняет ответы то выделим эту модель как наиболее подходящую для прогнозирования.  \n",
        "AUC_ROC для этой модели также высок, это означает что чем выше этот показатель тем истинней и постоянней способность модели к прогнозированию.  \n",
        "В дальнейшем будем использовать эту модель."
      ]
    },
    {
      "cell_type": "markdown",
      "metadata": {
        "id": "mBL4XKt0LKan"
      },
      "source": [
        "## Борьба с дисбалансом"
      ]
    },
    {
      "cell_type": "markdown",
      "metadata": {
        "id": "Bi_7pJFIQMS2"
      },
      "source": [
        "Модель рандомного леса была выделена как наиболее подходящая для построения прогнозов. Но т.к. данные возможно имеют дисбаланс классов то это тоже влияет на точность модели и приводит к тому что определённый класс становится более значимым.  \n",
        "Также применим модель дерева решиений для сравнения моделей при балансе классов.\n",
        "\n",
        "Чтобы этого избежать применим 3 метода для балансировки классов и посмотрим какой из них даёт больщую точность."
      ]
    },
    {
      "cell_type": "markdown",
      "metadata": {
        "id": "2-Rbz12k9Xgp"
      },
      "source": [
        "Проверим какой класс является редким и покажем это на столбчатой диаграмме."
      ]
    },
    {
      "cell_type": "code",
      "execution_count": 39,
      "metadata": {
        "colab": {
          "base_uri": "https://localhost:8080/"
        },
        "id": "JgOka8eh8kdg",
        "outputId": "1aaf8469-6a0d-4cd1-eef0-9c8064e09b9a",
        "scrolled": true
      },
      "outputs": [
        {
          "output_type": "execute_result",
          "data": {
            "text/plain": [
              "0    0.800667\n",
              "1    0.199333\n",
              "Name: exited, dtype: float64"
            ]
          },
          "metadata": {},
          "execution_count": 39
        }
      ],
      "source": [
        "#вывод количества значений каждого класса\n",
        "target_train.value_counts(normalize= True)"
      ]
    },
    {
      "cell_type": "code",
      "execution_count": 40,
      "metadata": {
        "id": "lDXC6F_IQnHU",
        "outputId": "b952b52c-7270-4647-85f0-83e715686690",
        "colab": {
          "base_uri": "https://localhost:8080/",
          "height": 542
        }
      },
      "outputs": [
        {
          "output_type": "display_data",
          "data": {
            "text/html": [
              "<html>\n",
              "<head><meta charset=\"utf-8\" /></head>\n",
              "<body>\n",
              "    <div>            <script src=\"https://cdnjs.cloudflare.com/ajax/libs/mathjax/2.7.5/MathJax.js?config=TeX-AMS-MML_SVG\"></script><script type=\"text/javascript\">if (window.MathJax) {MathJax.Hub.Config({SVG: {font: \"STIX-Web\"}});}</script>                <script type=\"text/javascript\">window.PlotlyConfig = {MathJaxConfig: 'local'};</script>\n",
              "        <script src=\"https://cdn.plot.ly/plotly-2.8.3.min.js\"></script>                <div id=\"81378e9f-7bff-4c2d-be1e-652c156758eb\" class=\"plotly-graph-div\" style=\"height:525px; width:100%;\"></div>            <script type=\"text/javascript\">                                    window.PLOTLYENV=window.PLOTLYENV || {};                                    if (document.getElementById(\"81378e9f-7bff-4c2d-be1e-652c156758eb\")) {                    Plotly.newPlot(                        \"81378e9f-7bff-4c2d-be1e-652c156758eb\",                        [{\"alignmentgroup\":\"True\",\"hovertemplate\":\"variable=exited<br>index=%{x}<br>value=%{y}<extra></extra>\",\"legendgroup\":\"exited\",\"marker\":{\"color\":\"#636efa\",\"pattern\":{\"shape\":\"\"}},\"name\":\"exited\",\"offsetgroup\":\"exited\",\"orientation\":\"v\",\"showlegend\":true,\"textposition\":\"auto\",\"x\":[0,1],\"xaxis\":\"x\",\"y\":[4804,1196],\"yaxis\":\"y\",\"type\":\"bar\"}],                        {\"template\":{\"data\":{\"bar\":[{\"error_x\":{\"color\":\"#2a3f5f\"},\"error_y\":{\"color\":\"#2a3f5f\"},\"marker\":{\"line\":{\"color\":\"#E5ECF6\",\"width\":0.5},\"pattern\":{\"fillmode\":\"overlay\",\"size\":10,\"solidity\":0.2}},\"type\":\"bar\"}],\"barpolar\":[{\"marker\":{\"line\":{\"color\":\"#E5ECF6\",\"width\":0.5},\"pattern\":{\"fillmode\":\"overlay\",\"size\":10,\"solidity\":0.2}},\"type\":\"barpolar\"}],\"carpet\":[{\"aaxis\":{\"endlinecolor\":\"#2a3f5f\",\"gridcolor\":\"white\",\"linecolor\":\"white\",\"minorgridcolor\":\"white\",\"startlinecolor\":\"#2a3f5f\"},\"baxis\":{\"endlinecolor\":\"#2a3f5f\",\"gridcolor\":\"white\",\"linecolor\":\"white\",\"minorgridcolor\":\"white\",\"startlinecolor\":\"#2a3f5f\"},\"type\":\"carpet\"}],\"choropleth\":[{\"colorbar\":{\"outlinewidth\":0,\"ticks\":\"\"},\"type\":\"choropleth\"}],\"contour\":[{\"colorbar\":{\"outlinewidth\":0,\"ticks\":\"\"},\"colorscale\":[[0.0,\"#0d0887\"],[0.1111111111111111,\"#46039f\"],[0.2222222222222222,\"#7201a8\"],[0.3333333333333333,\"#9c179e\"],[0.4444444444444444,\"#bd3786\"],[0.5555555555555556,\"#d8576b\"],[0.6666666666666666,\"#ed7953\"],[0.7777777777777778,\"#fb9f3a\"],[0.8888888888888888,\"#fdca26\"],[1.0,\"#f0f921\"]],\"type\":\"contour\"}],\"contourcarpet\":[{\"colorbar\":{\"outlinewidth\":0,\"ticks\":\"\"},\"type\":\"contourcarpet\"}],\"heatmap\":[{\"colorbar\":{\"outlinewidth\":0,\"ticks\":\"\"},\"colorscale\":[[0.0,\"#0d0887\"],[0.1111111111111111,\"#46039f\"],[0.2222222222222222,\"#7201a8\"],[0.3333333333333333,\"#9c179e\"],[0.4444444444444444,\"#bd3786\"],[0.5555555555555556,\"#d8576b\"],[0.6666666666666666,\"#ed7953\"],[0.7777777777777778,\"#fb9f3a\"],[0.8888888888888888,\"#fdca26\"],[1.0,\"#f0f921\"]],\"type\":\"heatmap\"}],\"heatmapgl\":[{\"colorbar\":{\"outlinewidth\":0,\"ticks\":\"\"},\"colorscale\":[[0.0,\"#0d0887\"],[0.1111111111111111,\"#46039f\"],[0.2222222222222222,\"#7201a8\"],[0.3333333333333333,\"#9c179e\"],[0.4444444444444444,\"#bd3786\"],[0.5555555555555556,\"#d8576b\"],[0.6666666666666666,\"#ed7953\"],[0.7777777777777778,\"#fb9f3a\"],[0.8888888888888888,\"#fdca26\"],[1.0,\"#f0f921\"]],\"type\":\"heatmapgl\"}],\"histogram\":[{\"marker\":{\"pattern\":{\"fillmode\":\"overlay\",\"size\":10,\"solidity\":0.2}},\"type\":\"histogram\"}],\"histogram2d\":[{\"colorbar\":{\"outlinewidth\":0,\"ticks\":\"\"},\"colorscale\":[[0.0,\"#0d0887\"],[0.1111111111111111,\"#46039f\"],[0.2222222222222222,\"#7201a8\"],[0.3333333333333333,\"#9c179e\"],[0.4444444444444444,\"#bd3786\"],[0.5555555555555556,\"#d8576b\"],[0.6666666666666666,\"#ed7953\"],[0.7777777777777778,\"#fb9f3a\"],[0.8888888888888888,\"#fdca26\"],[1.0,\"#f0f921\"]],\"type\":\"histogram2d\"}],\"histogram2dcontour\":[{\"colorbar\":{\"outlinewidth\":0,\"ticks\":\"\"},\"colorscale\":[[0.0,\"#0d0887\"],[0.1111111111111111,\"#46039f\"],[0.2222222222222222,\"#7201a8\"],[0.3333333333333333,\"#9c179e\"],[0.4444444444444444,\"#bd3786\"],[0.5555555555555556,\"#d8576b\"],[0.6666666666666666,\"#ed7953\"],[0.7777777777777778,\"#fb9f3a\"],[0.8888888888888888,\"#fdca26\"],[1.0,\"#f0f921\"]],\"type\":\"histogram2dcontour\"}],\"mesh3d\":[{\"colorbar\":{\"outlinewidth\":0,\"ticks\":\"\"},\"type\":\"mesh3d\"}],\"parcoords\":[{\"line\":{\"colorbar\":{\"outlinewidth\":0,\"ticks\":\"\"}},\"type\":\"parcoords\"}],\"pie\":[{\"automargin\":true,\"type\":\"pie\"}],\"scatter\":[{\"marker\":{\"colorbar\":{\"outlinewidth\":0,\"ticks\":\"\"}},\"type\":\"scatter\"}],\"scatter3d\":[{\"line\":{\"colorbar\":{\"outlinewidth\":0,\"ticks\":\"\"}},\"marker\":{\"colorbar\":{\"outlinewidth\":0,\"ticks\":\"\"}},\"type\":\"scatter3d\"}],\"scattercarpet\":[{\"marker\":{\"colorbar\":{\"outlinewidth\":0,\"ticks\":\"\"}},\"type\":\"scattercarpet\"}],\"scattergeo\":[{\"marker\":{\"colorbar\":{\"outlinewidth\":0,\"ticks\":\"\"}},\"type\":\"scattergeo\"}],\"scattergl\":[{\"marker\":{\"colorbar\":{\"outlinewidth\":0,\"ticks\":\"\"}},\"type\":\"scattergl\"}],\"scattermapbox\":[{\"marker\":{\"colorbar\":{\"outlinewidth\":0,\"ticks\":\"\"}},\"type\":\"scattermapbox\"}],\"scatterpolar\":[{\"marker\":{\"colorbar\":{\"outlinewidth\":0,\"ticks\":\"\"}},\"type\":\"scatterpolar\"}],\"scatterpolargl\":[{\"marker\":{\"colorbar\":{\"outlinewidth\":0,\"ticks\":\"\"}},\"type\":\"scatterpolargl\"}],\"scatterternary\":[{\"marker\":{\"colorbar\":{\"outlinewidth\":0,\"ticks\":\"\"}},\"type\":\"scatterternary\"}],\"surface\":[{\"colorbar\":{\"outlinewidth\":0,\"ticks\":\"\"},\"colorscale\":[[0.0,\"#0d0887\"],[0.1111111111111111,\"#46039f\"],[0.2222222222222222,\"#7201a8\"],[0.3333333333333333,\"#9c179e\"],[0.4444444444444444,\"#bd3786\"],[0.5555555555555556,\"#d8576b\"],[0.6666666666666666,\"#ed7953\"],[0.7777777777777778,\"#fb9f3a\"],[0.8888888888888888,\"#fdca26\"],[1.0,\"#f0f921\"]],\"type\":\"surface\"}],\"table\":[{\"cells\":{\"fill\":{\"color\":\"#EBF0F8\"},\"line\":{\"color\":\"white\"}},\"header\":{\"fill\":{\"color\":\"#C8D4E3\"},\"line\":{\"color\":\"white\"}},\"type\":\"table\"}]},\"layout\":{\"annotationdefaults\":{\"arrowcolor\":\"#2a3f5f\",\"arrowhead\":0,\"arrowwidth\":1},\"autotypenumbers\":\"strict\",\"coloraxis\":{\"colorbar\":{\"outlinewidth\":0,\"ticks\":\"\"}},\"colorscale\":{\"diverging\":[[0,\"#8e0152\"],[0.1,\"#c51b7d\"],[0.2,\"#de77ae\"],[0.3,\"#f1b6da\"],[0.4,\"#fde0ef\"],[0.5,\"#f7f7f7\"],[0.6,\"#e6f5d0\"],[0.7,\"#b8e186\"],[0.8,\"#7fbc41\"],[0.9,\"#4d9221\"],[1,\"#276419\"]],\"sequential\":[[0.0,\"#0d0887\"],[0.1111111111111111,\"#46039f\"],[0.2222222222222222,\"#7201a8\"],[0.3333333333333333,\"#9c179e\"],[0.4444444444444444,\"#bd3786\"],[0.5555555555555556,\"#d8576b\"],[0.6666666666666666,\"#ed7953\"],[0.7777777777777778,\"#fb9f3a\"],[0.8888888888888888,\"#fdca26\"],[1.0,\"#f0f921\"]],\"sequentialminus\":[[0.0,\"#0d0887\"],[0.1111111111111111,\"#46039f\"],[0.2222222222222222,\"#7201a8\"],[0.3333333333333333,\"#9c179e\"],[0.4444444444444444,\"#bd3786\"],[0.5555555555555556,\"#d8576b\"],[0.6666666666666666,\"#ed7953\"],[0.7777777777777778,\"#fb9f3a\"],[0.8888888888888888,\"#fdca26\"],[1.0,\"#f0f921\"]]},\"colorway\":[\"#636efa\",\"#EF553B\",\"#00cc96\",\"#ab63fa\",\"#FFA15A\",\"#19d3f3\",\"#FF6692\",\"#B6E880\",\"#FF97FF\",\"#FECB52\"],\"font\":{\"color\":\"#2a3f5f\"},\"geo\":{\"bgcolor\":\"white\",\"lakecolor\":\"white\",\"landcolor\":\"#E5ECF6\",\"showlakes\":true,\"showland\":true,\"subunitcolor\":\"white\"},\"hoverlabel\":{\"align\":\"left\"},\"hovermode\":\"closest\",\"mapbox\":{\"style\":\"light\"},\"paper_bgcolor\":\"white\",\"plot_bgcolor\":\"#E5ECF6\",\"polar\":{\"angularaxis\":{\"gridcolor\":\"white\",\"linecolor\":\"white\",\"ticks\":\"\"},\"bgcolor\":\"#E5ECF6\",\"radialaxis\":{\"gridcolor\":\"white\",\"linecolor\":\"white\",\"ticks\":\"\"}},\"scene\":{\"xaxis\":{\"backgroundcolor\":\"#E5ECF6\",\"gridcolor\":\"white\",\"gridwidth\":2,\"linecolor\":\"white\",\"showbackground\":true,\"ticks\":\"\",\"zerolinecolor\":\"white\"},\"yaxis\":{\"backgroundcolor\":\"#E5ECF6\",\"gridcolor\":\"white\",\"gridwidth\":2,\"linecolor\":\"white\",\"showbackground\":true,\"ticks\":\"\",\"zerolinecolor\":\"white\"},\"zaxis\":{\"backgroundcolor\":\"#E5ECF6\",\"gridcolor\":\"white\",\"gridwidth\":2,\"linecolor\":\"white\",\"showbackground\":true,\"ticks\":\"\",\"zerolinecolor\":\"white\"}},\"shapedefaults\":{\"line\":{\"color\":\"#2a3f5f\"}},\"ternary\":{\"aaxis\":{\"gridcolor\":\"white\",\"linecolor\":\"white\",\"ticks\":\"\"},\"baxis\":{\"gridcolor\":\"white\",\"linecolor\":\"white\",\"ticks\":\"\"},\"bgcolor\":\"#E5ECF6\",\"caxis\":{\"gridcolor\":\"white\",\"linecolor\":\"white\",\"ticks\":\"\"}},\"title\":{\"x\":0.05},\"xaxis\":{\"automargin\":true,\"gridcolor\":\"white\",\"linecolor\":\"white\",\"ticks\":\"\",\"title\":{\"standoff\":15},\"zerolinecolor\":\"white\",\"zerolinewidth\":2},\"yaxis\":{\"automargin\":true,\"gridcolor\":\"white\",\"linecolor\":\"white\",\"ticks\":\"\",\"title\":{\"standoff\":15},\"zerolinecolor\":\"white\",\"zerolinewidth\":2}}},\"xaxis\":{\"anchor\":\"y\",\"domain\":[0.0,1.0],\"title\":{\"text\":\"index\"}},\"yaxis\":{\"anchor\":\"x\",\"domain\":[0.0,1.0],\"title\":{\"text\":\"value\"}},\"legend\":{\"title\":{\"text\":\"variable\"},\"tracegroupgap\":0},\"title\":{\"text\":\"\\u0421\\u043e\\u043e\\u0442\\u043d\\u043e\\u0448\\u0435\\u043d\\u0438\\u0435 \\u043a\\u043b\\u0430\\u0441\\u0441\\u043e\\u0432\"},\"barmode\":\"relative\"},                        {\"responsive\": true}                    ).then(function(){\n",
              "                            \n",
              "var gd = document.getElementById('81378e9f-7bff-4c2d-be1e-652c156758eb');\n",
              "var x = new MutationObserver(function (mutations, observer) {{\n",
              "        var display = window.getComputedStyle(gd).display;\n",
              "        if (!display || display === 'none') {{\n",
              "            console.log([gd, 'removed!']);\n",
              "            Plotly.purge(gd);\n",
              "            observer.disconnect();\n",
              "        }}\n",
              "}});\n",
              "\n",
              "// Listen for the removal of the full notebook cells\n",
              "var notebookContainer = gd.closest('#notebook-container');\n",
              "if (notebookContainer) {{\n",
              "    x.observe(notebookContainer, {childList: true});\n",
              "}}\n",
              "\n",
              "// Listen for the clearing of the current output cell\n",
              "var outputEl = gd.closest('.output');\n",
              "if (outputEl) {{\n",
              "    x.observe(outputEl, {childList: true});\n",
              "}}\n",
              "\n",
              "                        })                };                            </script>        </div>\n",
              "</body>\n",
              "</html>"
            ]
          },
          "metadata": {}
        }
      ],
      "source": [
        "#построение диаграммы\n",
        "fig = px.bar(target_train.value_counts(),\n",
        "             title = \"Соотношение классов\")\n",
        "fig.show()"
      ]
    },
    {
      "cell_type": "markdown",
      "metadata": {
        "id": "ovawAiqJ9rTw"
      },
      "source": [
        "Видно что класс \"1\" является редким."
      ]
    },
    {
      "cell_type": "markdown",
      "metadata": {
        "id": "PwYH5SwX6HOi"
      },
      "source": [
        "Напишем функцию upsampled которая увеличивает количество объектов редкого класса.  \n",
        "Сразу можно сказать что из за увеличения выборки модель обучается лучше и даёт прогноз точнее.\n",
        "\n",
        "Запишим выборки в новые переменные."
      ]
    },
    {
      "cell_type": "code",
      "execution_count": null,
      "metadata": {
        "id": "aNactc4SLKao"
      },
      "outputs": [],
      "source": [
        "#функция увеличивающая количество редкого класса\n",
        "\n",
        "def upsample(features, target, repeat):\n",
        "    features_zeros = features[target == 0]\n",
        "    features_ones = features[target == 1]\n",
        "    target_zeros = target[target == 0]\n",
        "    target_ones = target[target == 1]\n",
        "\n",
        "    features_upsampled = pd.concat([features_zeros] + [features_ones] * repeat)\n",
        "    target_upsampled = pd.concat([target_zeros] + [target_ones] * repeat)\n",
        "    \n",
        "    features_upsampled, target_upsampled = shuffle(\n",
        "        features_upsampled, target_upsampled, random_state=12345)\n",
        "    \n",
        "    return features_upsampled, target_upsampled\n",
        "\n",
        "#создание новых переменных\n",
        "features_upsampled, target_upsampled = upsample(features_train, target_train, 3)"
      ]
    },
    {
      "cell_type": "markdown",
      "metadata": {
        "id": "Udxrahpi6_II"
      },
      "source": [
        "Применим новые обучающие выборки для обучения моделей."
      ]
    },
    {
      "cell_type": "code",
      "execution_count": null,
      "metadata": {
        "id": "gZ0KnOcWQnHV",
        "outputId": "48c2f866-980d-4978-d431-14bd4408d984"
      },
      "outputs": [
        {
          "name": "stdout",
          "output_type": "stream",
          "text": [
            "Лучшая модель Случайного леса\n",
            "f1-мера: 0.6205191594561187\n",
            "Глубина деревьев: 12\n",
            "Количество деревьев: 10\n",
            "AUC_ROC: 0.8443996216294817\n"
          ]
        }
      ],
      "source": [
        "#построение модели\n",
        "random_forest(features_upsampled,target_upsampled,features_valid,target_valid)"
      ]
    },
    {
      "cell_type": "code",
      "execution_count": null,
      "metadata": {
        "id": "1mg5zNESQnHW",
        "outputId": "5408be13-4829-49f9-f9c0-91df9ed04078"
      },
      "outputs": [
        {
          "name": "stdout",
          "output_type": "stream",
          "text": [
            "Лучшая модель Дерева решений\n",
            "f1-мера: 0.5851780558229066\n",
            "Глубина дерева: 7\n",
            "AUC_ROC: 0.813748461558065\n"
          ]
        }
      ],
      "source": [
        "#построение модели\n",
        "decision_tree(features_upsampled,target_upsampled,features_valid,target_valid)"
      ]
    },
    {
      "cell_type": "markdown",
      "metadata": {
        "id": "ThzI7b5-6h5t"
      },
      "source": [
        "Напишем функцию downsample для понижения количества преобладающего класса."
      ]
    },
    {
      "cell_type": "code",
      "execution_count": null,
      "metadata": {
        "id": "1x2ZaewL_Uue"
      },
      "outputs": [],
      "source": [
        "#функция уменьшения объектов преообладающего класса\n",
        "\n",
        "def downsample(features, target, fraction):\n",
        "    features_zeros = features[target == 0]\n",
        "    features_ones = features[target == 1]\n",
        "    target_zeros = target[target == 0]\n",
        "    target_ones = target[target == 1]\n",
        "\n",
        "    features_downsampled = pd.concat(\n",
        "        [features_zeros.sample(frac=fraction, random_state=12345)] + [features_ones])\n",
        "    target_downsampled = pd.concat(\n",
        "        [target_zeros.sample(frac=fraction, random_state=12345)] + [target_ones])\n",
        "    \n",
        "    features_downsampled, target_downsampled = shuffle(\n",
        "        features_downsampled, target_downsampled, random_state=12345)\n",
        "    \n",
        "    return features_downsampled, target_downsampled\n",
        "\n",
        "#создание новых переменных\n",
        "features_downsampled, target_downsampled = downsample(features_train, target_train, 0.3)"
      ]
    },
    {
      "cell_type": "markdown",
      "metadata": {
        "id": "WvLwzsxWBQN8"
      },
      "source": [
        "Применим новые обучающие выборки для обучения моделей."
      ]
    },
    {
      "cell_type": "code",
      "execution_count": null,
      "metadata": {
        "id": "ejJuG4u3QnHW",
        "outputId": "8fc0157f-f5b4-4d1c-8c3b-36d5a2892a56"
      },
      "outputs": [
        {
          "name": "stdout",
          "output_type": "stream",
          "text": [
            "Лучшая модель Случайного леса\n",
            "f1-мера: 0.6058091286307055\n",
            "Глубина деревьев: 8\n",
            "Количество деревьев: 10\n",
            "AUC_ROC: 0.8456318742682563\n"
          ]
        }
      ],
      "source": [
        "#построение модели\n",
        "random_forest(features_downsampled,target_downsampled,features_valid,target_valid)"
      ]
    },
    {
      "cell_type": "code",
      "execution_count": null,
      "metadata": {
        "id": "7OTLGMBMQnHX",
        "outputId": "aba6508e-8afa-47cc-ed25-e848e8096e0b"
      },
      "outputs": [
        {
          "name": "stdout",
          "output_type": "stream",
          "text": [
            "Лучшая модель Дерева решений\n",
            "f1-мера: 0.5905905905905907\n",
            "Глубина дерева: 5\n",
            "AUC_ROC: 0.8287671027521808\n"
          ]
        }
      ],
      "source": [
        "#построение модели\n",
        "decision_tree(features_downsampled,target_downsampled,features_valid,target_valid)"
      ]
    },
    {
      "cell_type": "markdown",
      "metadata": {
        "id": "HggqXv8_CWwM"
      },
      "source": [
        "Измерим точность с балансировкой классов через передачу агрумента class_weight."
      ]
    },
    {
      "cell_type": "code",
      "execution_count": null,
      "metadata": {
        "id": "ajK-6DEdQnHX",
        "outputId": "cd9ae95d-2293-4e58-c8b8-cbc9f1e59ab0"
      },
      "outputs": [
        {
          "name": "stdout",
          "output_type": "stream",
          "text": [
            "Лучшая модель Случайного леса\n",
            "f1-мера: 0.5621301775147929\n",
            "Глубина деревьев: 18\n",
            "Количество деревьев: 80\n",
            "AUC_ROC: 0.8520052588105314\n"
          ]
        }
      ],
      "source": [
        "#построение модели\n",
        "random_forest(features_train,target_train,features_valid,target_valid,balance = \"balanced\")"
      ]
    },
    {
      "cell_type": "code",
      "execution_count": null,
      "metadata": {
        "id": "yHEypF0mQnHX",
        "outputId": "1fcc06ba-189e-4565-e259-c59826e5d663"
      },
      "outputs": [
        {
          "name": "stdout",
          "output_type": "stream",
          "text": [
            "Лучшая модель Дерева решений\n",
            "f1-мера: 0.5809128630705395\n",
            "Глубина дерева: 5\n",
            "AUC_ROC: 0.8355347481752318\n"
          ]
        }
      ],
      "source": [
        "#построение модели\n",
        "decision_tree(features_train,target_train,features_valid,target_valid,balance = \"balanced\")"
      ]
    },
    {
      "cell_type": "markdown",
      "metadata": {
        "id": "neyHrlnjeoMX"
      },
      "source": [
        "**Вывод**\n",
        "\n",
        "Рассмотрев модели с балансировкой классов по 3 разным методам можно прийти к заключению, что метод в котором увеличивается выборка путем повышения объекта редкого класса наиболее эффективен.  Он увеличил показатель f1-меры до 62%. AUC_ROC осталась почти на томже уровне что говорит что при применении модели на тестовой выборке f1-мера не должна сильно меняться. Модель случайного леса опять же показал лучший результат в отличии от дерева решений."
      ]
    },
    {
      "cell_type": "markdown",
      "metadata": {
        "id": "yhaUmg-PLKao"
      },
      "source": [
        "## Тестирование модели"
      ]
    },
    {
      "cell_type": "markdown",
      "metadata": {
        "id": "ZqU0_Kyc8t--"
      },
      "source": [
        "Из проведённых исследований складывается вывод о том что модель RandomForestClassifier с гиперпараметрами max_depth = 12 и n_estimators = 10 наиболее подходящая модель для данной задачи. Но перед этим объединим тестовую и валидационную выборки и применим метод увеличения объектов редкого класса для нахождения лучшего результата.  \n",
        "\n",
        "Проверим данную модель и на тестовых данных и узнаем показатели f1-меры и AUC_ROC. "
      ]
    },
    {
      "cell_type": "code",
      "execution_count": null,
      "metadata": {
        "id": "vCTePnApQnHZ"
      },
      "outputs": [],
      "source": [
        "#объединение выборок\n",
        "features_train_valid = pd.concat([features_train] + [features_valid])\n",
        "target_train_valid = pd.concat([target_train] + [target_valid])\n",
        "\n",
        "#перемешивание выборки\n",
        "features_train_valid, target_train_valid = shuffle(features_train_valid, \n",
        "                                                   target_train_valid, \n",
        "                                                   random_state=12345)"
      ]
    },
    {
      "cell_type": "code",
      "execution_count": null,
      "metadata": {
        "id": "o_izX_sQQnHZ"
      },
      "outputs": [],
      "source": [
        "#увеличение выборки\n",
        "features_tv_upsampled, target_tv_upsampled = upsample(features_train_valid, \n",
        "                                                      target_train_valid,\n",
        "                                                      2)"
      ]
    },
    {
      "cell_type": "code",
      "execution_count": null,
      "metadata": {
        "colab": {
          "base_uri": "https://localhost:8080/"
        },
        "id": "vtwwKJhILKao",
        "outputId": "f6335912-b359-44bb-cf23-1a73f1fc3804"
      },
      "outputs": [
        {
          "name": "stdout",
          "output_type": "stream",
          "text": [
            "f1-мера: 0.6187419768934531\n",
            "AUC_ROC: 0.8433876323955504\n"
          ]
        }
      ],
      "source": [
        "#обучение модели случайного леса с оптимальными гиперпараметрами и балансом классов\n",
        "model = RandomForestClassifier(random_state = 12345,\n",
        "                               n_estimators = 10, \n",
        "                               max_depth =12)\n",
        "model.fit(features_tv_upsampled, target_tv_upsampled)\n",
        "predictions = model.predict(features_test)\n",
        "probabilities_test = model.predict_proba(features_test)\n",
        "probabilities_one_test = probabilities_test[:, 1]\n",
        "auc_roc = roc_auc_score(target_test,probabilities_one_test)\n",
        "print(\"f1-мера:\",f1_score(target_test,predictions))\n",
        "print(\"AUC_ROC:\",auc_roc)"
      ]
    },
    {
      "cell_type": "markdown",
      "metadata": {
        "id": "-iLRW-nu-vMZ"
      },
      "source": [
        "Видим что модель справилась с поставленной задачей в пороговом значении f1-меры - 0.59."
      ]
    }
  ],
  "metadata": {
    "ExecuteTimeLog": [
      {
        "duration": 367,
        "start_time": "2022-04-25T18:39:02.845Z"
      },
      {
        "duration": 49,
        "start_time": "2022-04-25T18:40:16.005Z"
      },
      {
        "duration": 19,
        "start_time": "2022-04-25T18:40:25.087Z"
      },
      {
        "duration": 73,
        "start_time": "2022-04-27T05:11:29.759Z"
      },
      {
        "duration": 197,
        "start_time": "2022-04-27T05:11:37.116Z"
      },
      {
        "duration": 0,
        "start_time": "2022-04-27T05:11:37.317Z"
      },
      {
        "duration": 0,
        "start_time": "2022-04-27T05:11:37.319Z"
      },
      {
        "duration": 0,
        "start_time": "2022-04-27T05:11:37.321Z"
      },
      {
        "duration": 1482,
        "start_time": "2022-04-27T05:11:53.433Z"
      },
      {
        "duration": 69,
        "start_time": "2022-04-27T05:11:55.853Z"
      },
      {
        "duration": 19,
        "start_time": "2022-04-27T05:11:58.953Z"
      },
      {
        "duration": 6,
        "start_time": "2022-04-27T05:12:02.174Z"
      },
      {
        "duration": 23,
        "start_time": "2022-04-27T05:19:23.745Z"
      },
      {
        "duration": 9,
        "start_time": "2022-04-27T05:19:51.885Z"
      },
      {
        "duration": 8,
        "start_time": "2022-04-27T05:24:43.896Z"
      },
      {
        "duration": 10,
        "start_time": "2022-04-27T05:25:14.935Z"
      },
      {
        "duration": 9,
        "start_time": "2022-04-27T05:25:24.536Z"
      },
      {
        "duration": 84,
        "start_time": "2022-04-27T05:28:46.849Z"
      },
      {
        "duration": 4,
        "start_time": "2022-04-27T05:28:53.231Z"
      },
      {
        "duration": 12,
        "start_time": "2022-04-27T05:28:58.338Z"
      },
      {
        "duration": 11,
        "start_time": "2022-04-27T05:30:29.593Z"
      },
      {
        "duration": 13,
        "start_time": "2022-04-27T05:32:23.679Z"
      },
      {
        "duration": 11,
        "start_time": "2022-04-27T05:32:29.116Z"
      },
      {
        "duration": 11,
        "start_time": "2022-04-27T05:32:49.525Z"
      },
      {
        "duration": 12,
        "start_time": "2022-04-27T05:32:56.134Z"
      },
      {
        "duration": 5,
        "start_time": "2022-04-27T05:35:53.959Z"
      },
      {
        "duration": 12,
        "start_time": "2022-04-27T05:36:17.804Z"
      },
      {
        "duration": 4,
        "start_time": "2022-04-27T05:36:58.711Z"
      },
      {
        "duration": 52,
        "start_time": "2022-04-27T05:36:58.718Z"
      },
      {
        "duration": 19,
        "start_time": "2022-04-27T05:36:58.773Z"
      },
      {
        "duration": 5,
        "start_time": "2022-04-27T05:36:58.794Z"
      },
      {
        "duration": 9,
        "start_time": "2022-04-27T05:36:58.810Z"
      },
      {
        "duration": 11,
        "start_time": "2022-04-27T05:36:58.862Z"
      },
      {
        "duration": 4,
        "start_time": "2022-04-27T05:37:18.601Z"
      },
      {
        "duration": 52,
        "start_time": "2022-04-27T05:37:18.608Z"
      },
      {
        "duration": 18,
        "start_time": "2022-04-27T05:37:18.662Z"
      },
      {
        "duration": 6,
        "start_time": "2022-04-27T05:37:18.692Z"
      },
      {
        "duration": 12,
        "start_time": "2022-04-27T05:37:18.700Z"
      },
      {
        "duration": 9,
        "start_time": "2022-04-27T05:37:18.714Z"
      },
      {
        "duration": 3,
        "start_time": "2022-04-27T05:37:32.291Z"
      },
      {
        "duration": 65,
        "start_time": "2022-04-27T05:37:32.297Z"
      },
      {
        "duration": 18,
        "start_time": "2022-04-27T05:37:32.364Z"
      },
      {
        "duration": 19,
        "start_time": "2022-04-27T05:37:32.384Z"
      },
      {
        "duration": 20,
        "start_time": "2022-04-27T05:37:32.405Z"
      },
      {
        "duration": 16,
        "start_time": "2022-04-27T05:37:32.427Z"
      },
      {
        "duration": 1146,
        "start_time": "2022-04-27T11:05:51.852Z"
      },
      {
        "duration": 41,
        "start_time": "2022-04-27T11:05:53.001Z"
      },
      {
        "duration": 14,
        "start_time": "2022-04-27T11:05:53.043Z"
      },
      {
        "duration": 11,
        "start_time": "2022-04-27T11:05:53.059Z"
      },
      {
        "duration": 9,
        "start_time": "2022-04-27T11:05:53.072Z"
      },
      {
        "duration": 7,
        "start_time": "2022-04-27T11:05:53.082Z"
      },
      {
        "duration": 3,
        "start_time": "2022-04-27T11:06:11.455Z"
      },
      {
        "duration": 41,
        "start_time": "2022-04-27T11:06:11.460Z"
      },
      {
        "duration": 11,
        "start_time": "2022-04-27T11:06:11.503Z"
      },
      {
        "duration": 7,
        "start_time": "2022-04-27T11:06:11.516Z"
      },
      {
        "duration": 8,
        "start_time": "2022-04-27T11:06:11.525Z"
      },
      {
        "duration": 16,
        "start_time": "2022-04-27T11:06:11.534Z"
      },
      {
        "duration": 91,
        "start_time": "2022-04-27T11:07:21.390Z"
      },
      {
        "duration": 2,
        "start_time": "2022-04-27T11:07:26.416Z"
      },
      {
        "duration": 39,
        "start_time": "2022-04-27T11:07:26.435Z"
      },
      {
        "duration": 11,
        "start_time": "2022-04-27T11:07:26.476Z"
      },
      {
        "duration": 4,
        "start_time": "2022-04-27T11:07:26.488Z"
      },
      {
        "duration": 9,
        "start_time": "2022-04-27T11:07:26.494Z"
      },
      {
        "duration": 9,
        "start_time": "2022-04-27T11:07:26.505Z"
      },
      {
        "duration": 7,
        "start_time": "2022-04-27T11:07:42.437Z"
      },
      {
        "duration": 3,
        "start_time": "2022-04-27T11:12:18.601Z"
      },
      {
        "duration": 40,
        "start_time": "2022-04-27T11:12:18.610Z"
      },
      {
        "duration": 17,
        "start_time": "2022-04-27T11:12:18.652Z"
      },
      {
        "duration": 4,
        "start_time": "2022-04-27T11:12:18.670Z"
      },
      {
        "duration": 7,
        "start_time": "2022-04-27T11:12:18.676Z"
      },
      {
        "duration": 9,
        "start_time": "2022-04-27T11:12:18.685Z"
      },
      {
        "duration": 10,
        "start_time": "2022-04-27T11:13:43.360Z"
      },
      {
        "duration": 6,
        "start_time": "2022-04-27T11:13:47.818Z"
      },
      {
        "duration": 5,
        "start_time": "2022-04-27T11:13:50.491Z"
      },
      {
        "duration": 1423,
        "start_time": "2022-04-27T18:34:23.787Z"
      },
      {
        "duration": 115,
        "start_time": "2022-04-27T18:34:25.213Z"
      },
      {
        "duration": 18,
        "start_time": "2022-04-27T18:34:25.331Z"
      },
      {
        "duration": 9,
        "start_time": "2022-04-27T18:34:25.352Z"
      },
      {
        "duration": 8,
        "start_time": "2022-04-27T18:34:25.364Z"
      },
      {
        "duration": 13,
        "start_time": "2022-04-27T18:34:25.374Z"
      },
      {
        "duration": 4,
        "start_time": "2022-04-27T18:35:21.656Z"
      },
      {
        "duration": 48,
        "start_time": "2022-04-27T18:35:21.662Z"
      },
      {
        "duration": 16,
        "start_time": "2022-04-27T18:35:21.713Z"
      },
      {
        "duration": 23,
        "start_time": "2022-04-27T18:35:21.731Z"
      },
      {
        "duration": 14,
        "start_time": "2022-04-27T18:35:21.756Z"
      },
      {
        "duration": 154,
        "start_time": "2022-04-27T18:35:21.772Z"
      },
      {
        "duration": 14,
        "start_time": "2022-04-27T18:35:29.118Z"
      },
      {
        "duration": 25,
        "start_time": "2022-04-27T18:35:45.326Z"
      },
      {
        "duration": 18,
        "start_time": "2022-04-27T18:35:52.193Z"
      },
      {
        "duration": 18,
        "start_time": "2022-04-27T18:36:08.799Z"
      },
      {
        "duration": 5,
        "start_time": "2022-04-27T18:37:15.580Z"
      },
      {
        "duration": 5,
        "start_time": "2022-04-27T18:37:21.077Z"
      },
      {
        "duration": 70,
        "start_time": "2022-04-27T18:37:21.086Z"
      },
      {
        "duration": 20,
        "start_time": "2022-04-27T18:37:21.159Z"
      },
      {
        "duration": 26,
        "start_time": "2022-04-27T18:37:21.181Z"
      },
      {
        "duration": 24,
        "start_time": "2022-04-27T18:37:21.209Z"
      },
      {
        "duration": 34,
        "start_time": "2022-04-27T18:37:21.235Z"
      },
      {
        "duration": 23,
        "start_time": "2022-04-27T18:37:45.382Z"
      },
      {
        "duration": 4,
        "start_time": "2022-04-27T18:37:52.749Z"
      },
      {
        "duration": 47,
        "start_time": "2022-04-27T18:37:52.756Z"
      },
      {
        "duration": 18,
        "start_time": "2022-04-27T18:37:52.805Z"
      },
      {
        "duration": 29,
        "start_time": "2022-04-27T18:37:52.826Z"
      },
      {
        "duration": 10,
        "start_time": "2022-04-27T18:37:52.859Z"
      },
      {
        "duration": 12,
        "start_time": "2022-04-27T18:37:52.872Z"
      },
      {
        "duration": 21,
        "start_time": "2022-04-27T18:38:17.312Z"
      },
      {
        "duration": 4,
        "start_time": "2022-04-27T18:38:25.210Z"
      },
      {
        "duration": 46,
        "start_time": "2022-04-27T18:38:25.219Z"
      },
      {
        "duration": 17,
        "start_time": "2022-04-27T18:38:25.268Z"
      },
      {
        "duration": 6,
        "start_time": "2022-04-27T18:38:25.287Z"
      },
      {
        "duration": 11,
        "start_time": "2022-04-27T18:38:25.296Z"
      },
      {
        "duration": 58,
        "start_time": "2022-04-27T18:38:25.309Z"
      },
      {
        "duration": 3,
        "start_time": "2022-04-27T18:38:53.507Z"
      },
      {
        "duration": 44,
        "start_time": "2022-04-27T18:38:53.516Z"
      },
      {
        "duration": 18,
        "start_time": "2022-04-27T18:38:53.563Z"
      },
      {
        "duration": 6,
        "start_time": "2022-04-27T18:38:53.583Z"
      },
      {
        "duration": 11,
        "start_time": "2022-04-27T18:38:53.592Z"
      },
      {
        "duration": 60,
        "start_time": "2022-04-27T18:38:53.604Z"
      },
      {
        "duration": 9,
        "start_time": "2022-04-27T18:39:39.494Z"
      },
      {
        "duration": 3,
        "start_time": "2022-04-27T18:40:54.512Z"
      },
      {
        "duration": 47,
        "start_time": "2022-04-27T18:40:54.518Z"
      },
      {
        "duration": 17,
        "start_time": "2022-04-27T18:40:54.568Z"
      },
      {
        "duration": 6,
        "start_time": "2022-04-27T18:40:54.588Z"
      },
      {
        "duration": 9,
        "start_time": "2022-04-27T18:40:54.597Z"
      },
      {
        "duration": 56,
        "start_time": "2022-04-27T18:40:54.608Z"
      },
      {
        "duration": 1,
        "start_time": "2022-04-27T18:40:54.665Z"
      },
      {
        "duration": 16,
        "start_time": "2022-04-27T18:41:09.950Z"
      },
      {
        "duration": 8,
        "start_time": "2022-04-27T18:41:12.532Z"
      },
      {
        "duration": 4,
        "start_time": "2022-04-27T18:41:26.364Z"
      },
      {
        "duration": 50,
        "start_time": "2022-04-27T18:41:26.376Z"
      },
      {
        "duration": 23,
        "start_time": "2022-04-27T18:41:26.429Z"
      },
      {
        "duration": 7,
        "start_time": "2022-04-27T18:41:26.455Z"
      },
      {
        "duration": 12,
        "start_time": "2022-04-27T18:41:26.464Z"
      },
      {
        "duration": 15,
        "start_time": "2022-04-27T18:41:26.479Z"
      },
      {
        "duration": 9,
        "start_time": "2022-04-27T18:41:26.496Z"
      },
      {
        "duration": 3,
        "start_time": "2022-04-27T18:46:31.381Z"
      },
      {
        "duration": 4,
        "start_time": "2022-04-27T18:46:51.207Z"
      },
      {
        "duration": 42,
        "start_time": "2022-04-27T18:46:51.219Z"
      },
      {
        "duration": 17,
        "start_time": "2022-04-27T18:46:51.263Z"
      },
      {
        "duration": 12,
        "start_time": "2022-04-27T18:46:51.282Z"
      },
      {
        "duration": 11,
        "start_time": "2022-04-27T18:46:51.296Z"
      },
      {
        "duration": 314,
        "start_time": "2022-04-27T18:46:51.309Z"
      },
      {
        "duration": 8,
        "start_time": "2022-04-27T18:46:51.625Z"
      },
      {
        "duration": 6,
        "start_time": "2022-04-27T18:49:54.511Z"
      },
      {
        "duration": 5,
        "start_time": "2022-04-27T18:53:40.096Z"
      },
      {
        "duration": 18,
        "start_time": "2022-04-27T18:53:54.604Z"
      },
      {
        "duration": 21,
        "start_time": "2022-04-27T19:05:21.366Z"
      },
      {
        "duration": 1043,
        "start_time": "2022-04-27T19:05:45.274Z"
      },
      {
        "duration": 1309,
        "start_time": "2022-04-27T19:05:48.884Z"
      },
      {
        "duration": 16,
        "start_time": "2022-04-27T19:08:44.343Z"
      },
      {
        "duration": 5,
        "start_time": "2022-04-27T19:10:01.456Z"
      },
      {
        "duration": 1007,
        "start_time": "2022-04-27T19:10:10.907Z"
      },
      {
        "duration": 104,
        "start_time": "2022-04-27T19:11:05.396Z"
      },
      {
        "duration": 35,
        "start_time": "2022-04-27T19:11:20.353Z"
      },
      {
        "duration": 1112,
        "start_time": "2022-04-27T19:11:33.146Z"
      },
      {
        "duration": 38,
        "start_time": "2022-04-27T19:15:20.627Z"
      },
      {
        "duration": 1592,
        "start_time": "2022-04-27T19:15:46.077Z"
      },
      {
        "duration": 1183,
        "start_time": "2022-04-27T19:29:02.398Z"
      },
      {
        "duration": 204,
        "start_time": "2022-04-27T19:29:31.050Z"
      },
      {
        "duration": 299,
        "start_time": "2022-04-27T19:32:46.368Z"
      },
      {
        "duration": 200,
        "start_time": "2022-04-27T19:33:17.200Z"
      },
      {
        "duration": 204,
        "start_time": "2022-04-27T19:34:15.521Z"
      },
      {
        "duration": 190,
        "start_time": "2022-04-27T19:34:48.252Z"
      },
      {
        "duration": 1068,
        "start_time": "2022-04-27T19:35:09.652Z"
      },
      {
        "duration": 1084,
        "start_time": "2022-04-27T19:35:42.747Z"
      },
      {
        "duration": 1112,
        "start_time": "2022-04-27T19:36:04.073Z"
      },
      {
        "duration": 1406,
        "start_time": "2022-04-27T19:37:01.778Z"
      },
      {
        "duration": 1202,
        "start_time": "2022-04-27T19:37:16.698Z"
      },
      {
        "duration": 1249,
        "start_time": "2022-04-27T19:37:25.392Z"
      },
      {
        "duration": 1251,
        "start_time": "2022-04-27T19:37:42.817Z"
      },
      {
        "duration": 1103,
        "start_time": "2022-04-27T19:37:47.983Z"
      },
      {
        "duration": 4,
        "start_time": "2022-04-27T19:37:54.573Z"
      },
      {
        "duration": 47,
        "start_time": "2022-04-27T19:37:54.579Z"
      },
      {
        "duration": 17,
        "start_time": "2022-04-27T19:37:54.628Z"
      },
      {
        "duration": 12,
        "start_time": "2022-04-27T19:37:54.648Z"
      },
      {
        "duration": 11,
        "start_time": "2022-04-27T19:37:54.662Z"
      },
      {
        "duration": 301,
        "start_time": "2022-04-27T19:37:54.675Z"
      },
      {
        "duration": 11,
        "start_time": "2022-04-27T19:37:54.978Z"
      },
      {
        "duration": 5,
        "start_time": "2022-04-27T19:37:54.991Z"
      },
      {
        "duration": 1115,
        "start_time": "2022-04-27T19:37:54.998Z"
      },
      {
        "duration": 1109,
        "start_time": "2022-04-27T19:38:11.268Z"
      },
      {
        "duration": 1151,
        "start_time": "2022-04-27T19:38:23.484Z"
      },
      {
        "duration": 5,
        "start_time": "2022-04-27T19:38:29.821Z"
      },
      {
        "duration": 49,
        "start_time": "2022-04-27T19:38:29.828Z"
      },
      {
        "duration": 19,
        "start_time": "2022-04-27T19:38:29.880Z"
      },
      {
        "duration": 7,
        "start_time": "2022-04-27T19:38:29.903Z"
      },
      {
        "duration": 49,
        "start_time": "2022-04-27T19:38:29.912Z"
      },
      {
        "duration": 299,
        "start_time": "2022-04-27T19:38:29.964Z"
      },
      {
        "duration": 8,
        "start_time": "2022-04-27T19:38:30.265Z"
      },
      {
        "duration": 15,
        "start_time": "2022-04-27T19:38:30.275Z"
      },
      {
        "duration": 1264,
        "start_time": "2022-04-27T19:38:30.293Z"
      },
      {
        "duration": 5,
        "start_time": "2022-04-27T19:38:44.430Z"
      },
      {
        "duration": 70,
        "start_time": "2022-04-27T19:38:44.437Z"
      },
      {
        "duration": 17,
        "start_time": "2022-04-27T19:38:44.510Z"
      },
      {
        "duration": 12,
        "start_time": "2022-04-27T19:38:44.529Z"
      },
      {
        "duration": 35,
        "start_time": "2022-04-27T19:38:44.542Z"
      },
      {
        "duration": 304,
        "start_time": "2022-04-27T19:38:44.580Z"
      },
      {
        "duration": 9,
        "start_time": "2022-04-27T19:38:44.886Z"
      },
      {
        "duration": 9,
        "start_time": "2022-04-27T19:38:44.897Z"
      },
      {
        "duration": 1184,
        "start_time": "2022-04-27T19:38:44.908Z"
      },
      {
        "duration": 20,
        "start_time": "2022-04-27T19:40:25.077Z"
      },
      {
        "duration": 5,
        "start_time": "2022-04-27T19:40:46.980Z"
      },
      {
        "duration": 2285,
        "start_time": "2022-04-28T06:56:42.422Z"
      },
      {
        "duration": 5,
        "start_time": "2022-04-28T07:02:28.527Z"
      },
      {
        "duration": 66,
        "start_time": "2022-04-28T07:02:28.535Z"
      },
      {
        "duration": 34,
        "start_time": "2022-04-28T07:02:28.604Z"
      },
      {
        "duration": 19,
        "start_time": "2022-04-28T07:02:28.642Z"
      },
      {
        "duration": 36,
        "start_time": "2022-04-28T07:02:28.663Z"
      },
      {
        "duration": 312,
        "start_time": "2022-04-28T07:02:28.701Z"
      },
      {
        "duration": 13,
        "start_time": "2022-04-28T07:02:29.015Z"
      },
      {
        "duration": 34,
        "start_time": "2022-04-28T07:02:29.031Z"
      },
      {
        "duration": 1159,
        "start_time": "2022-04-28T07:02:29.068Z"
      },
      {
        "duration": 57,
        "start_time": "2022-04-28T07:02:30.230Z"
      },
      {
        "duration": 42,
        "start_time": "2022-04-28T07:02:30.289Z"
      },
      {
        "duration": 1352,
        "start_time": "2022-04-28T07:02:39.385Z"
      },
      {
        "duration": 6,
        "start_time": "2022-04-28T07:18:36.244Z"
      },
      {
        "duration": 11,
        "start_time": "2022-04-28T07:24:38.032Z"
      },
      {
        "duration": 10,
        "start_time": "2022-04-28T07:30:10.041Z"
      },
      {
        "duration": 5,
        "start_time": "2022-04-28T07:30:11.560Z"
      },
      {
        "duration": 5,
        "start_time": "2022-04-28T07:34:33.906Z"
      },
      {
        "duration": 222,
        "start_time": "2022-04-28T07:42:53.340Z"
      },
      {
        "duration": 6,
        "start_time": "2022-04-28T07:42:59.239Z"
      },
      {
        "duration": 414,
        "start_time": "2022-04-28T07:44:19.601Z"
      },
      {
        "duration": 1023,
        "start_time": "2022-04-28T07:45:52.782Z"
      },
      {
        "duration": 213,
        "start_time": "2022-04-28T07:49:36.417Z"
      },
      {
        "duration": 0,
        "start_time": "2022-04-28T07:49:36.634Z"
      },
      {
        "duration": 145,
        "start_time": "2022-04-28T07:50:03.397Z"
      },
      {
        "duration": 1048,
        "start_time": "2022-04-28T07:50:08.125Z"
      },
      {
        "duration": 161,
        "start_time": "2022-04-28T07:50:25.365Z"
      },
      {
        "duration": 2270,
        "start_time": "2022-05-01T17:24:33.842Z"
      },
      {
        "duration": 57,
        "start_time": "2022-05-01T17:24:36.115Z"
      },
      {
        "duration": 22,
        "start_time": "2022-05-01T17:24:36.174Z"
      },
      {
        "duration": 6,
        "start_time": "2022-05-01T17:24:36.199Z"
      },
      {
        "duration": 8,
        "start_time": "2022-05-01T17:24:36.208Z"
      },
      {
        "duration": 12,
        "start_time": "2022-05-01T17:24:36.218Z"
      },
      {
        "duration": 11,
        "start_time": "2022-05-01T17:24:36.232Z"
      },
      {
        "duration": 15,
        "start_time": "2022-05-01T17:24:36.245Z"
      },
      {
        "duration": 31,
        "start_time": "2022-05-01T17:24:36.262Z"
      },
      {
        "duration": 9,
        "start_time": "2022-05-01T17:24:36.297Z"
      },
      {
        "duration": 7,
        "start_time": "2022-05-01T17:24:36.308Z"
      },
      {
        "duration": 942,
        "start_time": "2022-05-01T17:24:36.317Z"
      },
      {
        "duration": 45,
        "start_time": "2022-05-01T17:24:37.261Z"
      },
      {
        "duration": 6,
        "start_time": "2022-05-01T17:24:37.308Z"
      },
      {
        "duration": 10,
        "start_time": "2022-05-01T17:24:37.316Z"
      },
      {
        "duration": 6,
        "start_time": "2022-05-01T17:24:37.328Z"
      },
      {
        "duration": 76,
        "start_time": "2022-05-01T17:24:37.336Z"
      },
      {
        "duration": 907,
        "start_time": "2022-05-01T17:24:37.414Z"
      },
      {
        "duration": 90422,
        "start_time": "2022-05-01T17:24:38.323Z"
      },
      {
        "duration": 148,
        "start_time": "2022-05-01T17:26:08.747Z"
      },
      {
        "duration": 99,
        "start_time": "2022-05-01T17:26:08.898Z"
      },
      {
        "duration": 23,
        "start_time": "2022-05-01T17:26:08.999Z"
      },
      {
        "duration": 117062,
        "start_time": "2022-05-01T17:26:09.025Z"
      },
      {
        "duration": 17,
        "start_time": "2022-05-01T17:28:06.089Z"
      },
      {
        "duration": 49734,
        "start_time": "2022-05-01T17:28:06.108Z"
      },
      {
        "duration": 90004,
        "start_time": "2022-05-01T17:28:55.845Z"
      },
      {
        "duration": 828,
        "start_time": "2022-05-01T17:30:25.851Z"
      },
      {
        "duration": 34,
        "start_time": "2022-05-01T19:09:09.065Z"
      },
      {
        "duration": 32,
        "start_time": "2022-05-01T19:10:29.061Z"
      },
      {
        "duration": 7,
        "start_time": "2022-05-01T19:15:15.355Z"
      },
      {
        "duration": 7,
        "start_time": "2022-05-01T19:15:33.354Z"
      },
      {
        "duration": 6,
        "start_time": "2022-05-01T19:15:54.666Z"
      },
      {
        "duration": 6,
        "start_time": "2022-05-01T19:15:58.233Z"
      },
      {
        "duration": 66,
        "start_time": "2022-05-02T05:54:27.213Z"
      },
      {
        "duration": 7,
        "start_time": "2022-05-02T05:54:32.808Z"
      },
      {
        "duration": 51,
        "start_time": "2022-05-03T15:06:03.721Z"
      },
      {
        "duration": 1700,
        "start_time": "2022-05-03T15:06:13.983Z"
      },
      {
        "duration": 47,
        "start_time": "2022-05-03T15:06:15.685Z"
      },
      {
        "duration": 17,
        "start_time": "2022-05-03T15:06:15.733Z"
      },
      {
        "duration": 5,
        "start_time": "2022-05-03T15:06:15.753Z"
      },
      {
        "duration": 6,
        "start_time": "2022-05-03T15:06:15.759Z"
      },
      {
        "duration": 6,
        "start_time": "2022-05-03T15:06:15.767Z"
      },
      {
        "duration": 38,
        "start_time": "2022-05-03T15:06:15.775Z"
      },
      {
        "duration": 8,
        "start_time": "2022-05-03T15:06:15.815Z"
      },
      {
        "duration": 6,
        "start_time": "2022-05-03T15:06:15.825Z"
      },
      {
        "duration": 9,
        "start_time": "2022-05-03T15:06:15.834Z"
      },
      {
        "duration": 4,
        "start_time": "2022-05-03T15:06:15.845Z"
      },
      {
        "duration": 6,
        "start_time": "2022-05-03T15:06:18.184Z"
      },
      {
        "duration": 678,
        "start_time": "2022-05-03T15:06:21.571Z"
      },
      {
        "duration": 711,
        "start_time": "2022-05-03T15:06:28.996Z"
      },
      {
        "duration": 105,
        "start_time": "2022-05-03T15:15:54.598Z"
      },
      {
        "duration": 15,
        "start_time": "2022-05-03T15:16:07.099Z"
      },
      {
        "duration": 12,
        "start_time": "2022-05-03T15:16:16.140Z"
      },
      {
        "duration": 25,
        "start_time": "2022-05-03T15:16:50.552Z"
      },
      {
        "duration": 4,
        "start_time": "2022-05-03T15:17:59.603Z"
      },
      {
        "duration": 42,
        "start_time": "2022-05-03T15:17:59.609Z"
      },
      {
        "duration": 13,
        "start_time": "2022-05-03T15:17:59.653Z"
      },
      {
        "duration": 4,
        "start_time": "2022-05-03T15:17:59.668Z"
      },
      {
        "duration": 9,
        "start_time": "2022-05-03T15:17:59.674Z"
      },
      {
        "duration": 6,
        "start_time": "2022-05-03T15:17:59.708Z"
      },
      {
        "duration": 5,
        "start_time": "2022-05-03T15:17:59.716Z"
      },
      {
        "duration": 10,
        "start_time": "2022-05-03T15:17:59.723Z"
      },
      {
        "duration": 9,
        "start_time": "2022-05-03T15:17:59.735Z"
      },
      {
        "duration": 9,
        "start_time": "2022-05-03T15:17:59.746Z"
      },
      {
        "duration": 5,
        "start_time": "2022-05-03T15:17:59.757Z"
      },
      {
        "duration": 43,
        "start_time": "2022-05-03T15:17:59.764Z"
      },
      {
        "duration": 744,
        "start_time": "2022-05-03T15:17:59.810Z"
      },
      {
        "duration": 22,
        "start_time": "2022-05-03T15:18:03.979Z"
      },
      {
        "duration": 23,
        "start_time": "2022-05-03T15:23:28.925Z"
      },
      {
        "duration": 6,
        "start_time": "2022-05-03T15:30:18.938Z"
      },
      {
        "duration": 58,
        "start_time": "2022-05-03T15:30:18.947Z"
      },
      {
        "duration": 20,
        "start_time": "2022-05-03T15:30:19.008Z"
      },
      {
        "duration": 5,
        "start_time": "2022-05-03T15:30:19.031Z"
      },
      {
        "duration": 5,
        "start_time": "2022-05-03T15:30:19.039Z"
      },
      {
        "duration": 7,
        "start_time": "2022-05-03T15:30:19.047Z"
      },
      {
        "duration": 7,
        "start_time": "2022-05-03T15:30:19.057Z"
      },
      {
        "duration": 43,
        "start_time": "2022-05-03T15:30:19.066Z"
      },
      {
        "duration": 6,
        "start_time": "2022-05-03T15:30:19.113Z"
      },
      {
        "duration": 12,
        "start_time": "2022-05-03T15:30:19.121Z"
      },
      {
        "duration": 5,
        "start_time": "2022-05-03T15:30:19.135Z"
      },
      {
        "duration": 8,
        "start_time": "2022-05-03T15:30:19.142Z"
      },
      {
        "duration": 922,
        "start_time": "2022-05-03T15:30:19.153Z"
      },
      {
        "duration": 13,
        "start_time": "2022-05-03T15:30:20.077Z"
      },
      {
        "duration": 19,
        "start_time": "2022-05-03T15:30:20.092Z"
      },
      {
        "duration": 21,
        "start_time": "2022-05-03T15:30:20.113Z"
      },
      {
        "duration": 9,
        "start_time": "2022-05-03T15:30:20.137Z"
      },
      {
        "duration": 42,
        "start_time": "2022-05-03T15:30:22.039Z"
      },
      {
        "duration": 5,
        "start_time": "2022-05-03T15:30:26.900Z"
      },
      {
        "duration": 40,
        "start_time": "2022-05-03T15:30:39.572Z"
      },
      {
        "duration": 20,
        "start_time": "2022-05-03T15:31:34.152Z"
      },
      {
        "duration": 7,
        "start_time": "2022-05-03T15:33:22.695Z"
      },
      {
        "duration": 50,
        "start_time": "2022-05-03T15:33:22.705Z"
      },
      {
        "duration": 16,
        "start_time": "2022-05-03T15:33:22.758Z"
      },
      {
        "duration": 30,
        "start_time": "2022-05-03T15:33:22.777Z"
      },
      {
        "duration": 10,
        "start_time": "2022-05-03T15:33:22.810Z"
      },
      {
        "duration": 13,
        "start_time": "2022-05-03T15:33:22.823Z"
      },
      {
        "duration": 6,
        "start_time": "2022-05-03T15:33:22.840Z"
      },
      {
        "duration": 12,
        "start_time": "2022-05-03T15:33:22.849Z"
      },
      {
        "duration": 3,
        "start_time": "2022-05-03T15:33:22.864Z"
      },
      {
        "duration": 40,
        "start_time": "2022-05-03T15:33:22.869Z"
      },
      {
        "duration": 5,
        "start_time": "2022-05-03T15:33:22.911Z"
      },
      {
        "duration": 9,
        "start_time": "2022-05-03T15:33:22.918Z"
      },
      {
        "duration": 956,
        "start_time": "2022-05-03T15:33:22.930Z"
      },
      {
        "duration": 21,
        "start_time": "2022-05-03T15:33:23.888Z"
      },
      {
        "duration": 7,
        "start_time": "2022-05-03T15:33:23.912Z"
      },
      {
        "duration": 13,
        "start_time": "2022-05-03T15:33:23.922Z"
      },
      {
        "duration": 4,
        "start_time": "2022-05-03T15:33:23.938Z"
      },
      {
        "duration": 19,
        "start_time": "2022-05-03T15:33:23.944Z"
      },
      {
        "duration": 39,
        "start_time": "2022-05-03T15:33:31.611Z"
      },
      {
        "duration": 667,
        "start_time": "2022-05-03T15:34:09.167Z"
      },
      {
        "duration": 62632,
        "start_time": "2022-05-03T15:34:15.716Z"
      },
      {
        "duration": 5,
        "start_time": "2022-05-03T15:35:36.219Z"
      },
      {
        "duration": 56,
        "start_time": "2022-05-03T15:35:36.228Z"
      },
      {
        "duration": 26,
        "start_time": "2022-05-03T15:35:36.286Z"
      },
      {
        "duration": 5,
        "start_time": "2022-05-03T15:35:36.314Z"
      },
      {
        "duration": 5,
        "start_time": "2022-05-03T15:35:36.323Z"
      },
      {
        "duration": 6,
        "start_time": "2022-05-03T15:35:36.331Z"
      },
      {
        "duration": 7,
        "start_time": "2022-05-03T15:35:36.339Z"
      },
      {
        "duration": 9,
        "start_time": "2022-05-03T15:35:36.349Z"
      },
      {
        "duration": 5,
        "start_time": "2022-05-03T15:35:36.406Z"
      },
      {
        "duration": 9,
        "start_time": "2022-05-03T15:35:36.413Z"
      },
      {
        "duration": 5,
        "start_time": "2022-05-03T15:35:36.424Z"
      },
      {
        "duration": 6,
        "start_time": "2022-05-03T15:35:36.431Z"
      },
      {
        "duration": 1008,
        "start_time": "2022-05-03T15:35:36.439Z"
      },
      {
        "duration": 14,
        "start_time": "2022-05-03T15:35:37.452Z"
      },
      {
        "duration": 6,
        "start_time": "2022-05-03T15:35:37.469Z"
      },
      {
        "duration": 36,
        "start_time": "2022-05-03T15:35:37.477Z"
      },
      {
        "duration": 10,
        "start_time": "2022-05-03T15:35:37.515Z"
      },
      {
        "duration": 23,
        "start_time": "2022-05-03T15:35:37.527Z"
      },
      {
        "duration": 41,
        "start_time": "2022-05-03T15:35:55.846Z"
      },
      {
        "duration": 12,
        "start_time": "2022-05-03T15:42:00.644Z"
      },
      {
        "duration": 495,
        "start_time": "2022-05-03T15:57:27.486Z"
      },
      {
        "duration": 59395,
        "start_time": "2022-05-03T16:00:51.353Z"
      },
      {
        "duration": 129,
        "start_time": "2022-05-03T16:03:22.280Z"
      },
      {
        "duration": 8,
        "start_time": "2022-05-03T16:03:27.923Z"
      },
      {
        "duration": 10,
        "start_time": "2022-05-03T16:05:23.733Z"
      },
      {
        "duration": 9,
        "start_time": "2022-05-03T16:05:36.554Z"
      },
      {
        "duration": 140,
        "start_time": "2022-05-03T16:05:44.827Z"
      },
      {
        "duration": 90,
        "start_time": "2022-05-03T16:12:13.155Z"
      },
      {
        "duration": 1082,
        "start_time": "2022-05-03T16:14:03.485Z"
      },
      {
        "duration": 14,
        "start_time": "2022-05-03T16:14:09.878Z"
      },
      {
        "duration": 10,
        "start_time": "2022-05-03T16:14:31.858Z"
      },
      {
        "duration": 80,
        "start_time": "2022-05-03T16:15:07.647Z"
      },
      {
        "duration": 381,
        "start_time": "2022-05-03T16:15:22.982Z"
      },
      {
        "duration": 186,
        "start_time": "2022-05-03T16:15:28.816Z"
      },
      {
        "duration": 7,
        "start_time": "2022-05-03T16:16:22.136Z"
      },
      {
        "duration": 19,
        "start_time": "2022-05-03T16:17:10.389Z"
      },
      {
        "duration": 7,
        "start_time": "2022-05-03T16:17:26.479Z"
      },
      {
        "duration": 14,
        "start_time": "2022-05-03T16:19:01.642Z"
      },
      {
        "duration": 15,
        "start_time": "2022-05-03T16:21:18.108Z"
      },
      {
        "duration": 53,
        "start_time": "2022-05-03T16:21:27.193Z"
      },
      {
        "duration": 16,
        "start_time": "2022-05-03T16:59:03.422Z"
      },
      {
        "duration": 8,
        "start_time": "2022-05-03T16:59:11.162Z"
      },
      {
        "duration": 23,
        "start_time": "2022-05-03T16:59:15.996Z"
      },
      {
        "duration": 12,
        "start_time": "2022-05-03T16:59:45.436Z"
      },
      {
        "duration": 12,
        "start_time": "2022-05-03T17:00:09.065Z"
      },
      {
        "duration": 16,
        "start_time": "2022-05-03T17:00:22.402Z"
      },
      {
        "duration": 4,
        "start_time": "2022-05-03T17:02:27.342Z"
      },
      {
        "duration": 511,
        "start_time": "2022-05-03T17:02:36.707Z"
      },
      {
        "duration": 516,
        "start_time": "2022-05-03T17:02:52.170Z"
      },
      {
        "duration": 13,
        "start_time": "2022-05-03T17:02:56.566Z"
      },
      {
        "duration": 27,
        "start_time": "2022-05-03T18:59:34.211Z"
      },
      {
        "duration": 5,
        "start_time": "2022-05-03T18:59:45.750Z"
      },
      {
        "duration": 631,
        "start_time": "2022-05-03T18:59:51.801Z"
      },
      {
        "duration": 934,
        "start_time": "2022-05-03T19:12:43.562Z"
      },
      {
        "duration": 15,
        "start_time": "2022-05-03T19:14:12.182Z"
      },
      {
        "duration": 6,
        "start_time": "2022-05-03T19:14:22.474Z"
      },
      {
        "duration": 6,
        "start_time": "2022-05-03T19:14:30.243Z"
      },
      {
        "duration": 791,
        "start_time": "2022-05-03T19:14:35.539Z"
      },
      {
        "duration": 65535,
        "start_time": "2022-05-03T19:14:39.998Z"
      },
      {
        "duration": 13,
        "start_time": "2022-05-03T19:15:53.626Z"
      },
      {
        "duration": 8,
        "start_time": "2022-05-03T19:16:18.483Z"
      },
      {
        "duration": 11,
        "start_time": "2022-05-03T19:16:26.029Z"
      },
      {
        "duration": 7,
        "start_time": "2022-05-03T19:21:00.311Z"
      },
      {
        "duration": 11,
        "start_time": "2022-05-03T19:21:08.572Z"
      },
      {
        "duration": 9,
        "start_time": "2022-05-03T19:22:19.677Z"
      },
      {
        "duration": 15,
        "start_time": "2022-05-03T19:22:28.458Z"
      },
      {
        "duration": 83,
        "start_time": "2022-05-03T19:27:10.444Z"
      },
      {
        "duration": 6,
        "start_time": "2022-05-03T19:27:35.591Z"
      },
      {
        "duration": 7,
        "start_time": "2022-05-03T19:27:51.249Z"
      },
      {
        "duration": 26,
        "start_time": "2022-05-03T19:29:32.174Z"
      },
      {
        "duration": 9,
        "start_time": "2022-05-03T19:30:02.713Z"
      },
      {
        "duration": 979,
        "start_time": "2022-05-03T19:30:05.353Z"
      },
      {
        "duration": 63881,
        "start_time": "2022-05-03T19:31:38.071Z"
      },
      {
        "duration": 6,
        "start_time": "2022-05-03T19:34:08.193Z"
      },
      {
        "duration": 511,
        "start_time": "2022-05-03T19:34:13.643Z"
      },
      {
        "duration": 614,
        "start_time": "2022-05-03T19:42:27.499Z"
      },
      {
        "duration": 530,
        "start_time": "2022-05-03T19:43:26.248Z"
      },
      {
        "duration": 76275,
        "start_time": "2022-05-03T19:44:06.993Z"
      },
      {
        "duration": 37315,
        "start_time": "2022-05-03T19:51:36.870Z"
      },
      {
        "duration": 283,
        "start_time": "2022-05-03T19:54:01.404Z"
      },
      {
        "duration": 62660,
        "start_time": "2022-05-03T19:59:16.836Z"
      },
      {
        "duration": 487,
        "start_time": "2022-05-03T20:00:28.292Z"
      },
      {
        "duration": 123,
        "start_time": "2022-05-03T20:13:25.401Z"
      },
      {
        "duration": 111,
        "start_time": "2022-05-03T20:13:30.241Z"
      },
      {
        "duration": 71,
        "start_time": "2022-05-03T20:30:05.569Z"
      },
      {
        "duration": 9,
        "start_time": "2022-05-03T20:30:32.150Z"
      },
      {
        "duration": 12,
        "start_time": "2022-05-03T20:32:41.670Z"
      },
      {
        "duration": 131,
        "start_time": "2022-05-03T20:33:04.533Z"
      },
      {
        "duration": 12,
        "start_time": "2022-05-03T20:33:10.838Z"
      },
      {
        "duration": 142,
        "start_time": "2022-05-03T20:33:12.919Z"
      },
      {
        "duration": 9,
        "start_time": "2022-05-03T20:33:23.749Z"
      },
      {
        "duration": 5,
        "start_time": "2022-05-03T20:33:44.190Z"
      },
      {
        "duration": 46,
        "start_time": "2022-05-03T20:33:44.197Z"
      },
      {
        "duration": 12,
        "start_time": "2022-05-03T20:33:44.245Z"
      },
      {
        "duration": 4,
        "start_time": "2022-05-03T20:33:44.259Z"
      },
      {
        "duration": 5,
        "start_time": "2022-05-03T20:33:44.264Z"
      },
      {
        "duration": 5,
        "start_time": "2022-05-03T20:33:44.271Z"
      },
      {
        "duration": 31,
        "start_time": "2022-05-03T20:33:44.278Z"
      },
      {
        "duration": 12,
        "start_time": "2022-05-03T20:33:44.312Z"
      },
      {
        "duration": 3,
        "start_time": "2022-05-03T20:33:44.328Z"
      },
      {
        "duration": 7,
        "start_time": "2022-05-03T20:33:44.333Z"
      },
      {
        "duration": 4,
        "start_time": "2022-05-03T20:33:44.342Z"
      },
      {
        "duration": 8,
        "start_time": "2022-05-03T20:33:44.347Z"
      },
      {
        "duration": 878,
        "start_time": "2022-05-03T20:33:44.357Z"
      },
      {
        "duration": 10,
        "start_time": "2022-05-03T20:33:45.236Z"
      },
      {
        "duration": 5,
        "start_time": "2022-05-03T20:33:45.248Z"
      },
      {
        "duration": 8,
        "start_time": "2022-05-03T20:33:45.254Z"
      },
      {
        "duration": 3,
        "start_time": "2022-05-03T20:33:45.264Z"
      },
      {
        "duration": 48,
        "start_time": "2022-05-03T20:33:45.268Z"
      },
      {
        "duration": 30,
        "start_time": "2022-05-03T20:33:45.318Z"
      },
      {
        "duration": 5,
        "start_time": "2022-05-03T20:33:45.351Z"
      },
      {
        "duration": 9,
        "start_time": "2022-05-03T20:33:45.358Z"
      },
      {
        "duration": 494,
        "start_time": "2022-05-03T20:33:45.368Z"
      },
      {
        "duration": 61361,
        "start_time": "2022-05-03T20:33:45.863Z"
      },
      {
        "duration": 100,
        "start_time": "2022-05-03T20:34:47.226Z"
      },
      {
        "duration": 86,
        "start_time": "2022-05-03T20:34:47.329Z"
      },
      {
        "duration": 55,
        "start_time": "2022-05-03T20:34:47.418Z"
      },
      {
        "duration": 49,
        "start_time": "2022-05-03T20:34:47.475Z"
      },
      {
        "duration": 78827,
        "start_time": "2022-05-03T20:34:47.526Z"
      },
      {
        "duration": 598,
        "start_time": "2022-05-03T20:36:06.355Z"
      },
      {
        "duration": 12,
        "start_time": "2022-05-03T20:36:06.955Z"
      },
      {
        "duration": 37322,
        "start_time": "2022-05-03T20:36:06.969Z"
      },
      {
        "duration": 267,
        "start_time": "2022-05-03T20:36:44.293Z"
      },
      {
        "duration": 62190,
        "start_time": "2022-05-03T20:36:44.562Z"
      },
      {
        "duration": 525,
        "start_time": "2022-05-03T20:37:46.754Z"
      },
      {
        "duration": 8,
        "start_time": "2022-05-03T20:37:47.280Z"
      },
      {
        "duration": 27,
        "start_time": "2022-05-03T20:37:47.289Z"
      },
      {
        "duration": 147,
        "start_time": "2022-05-03T20:37:47.318Z"
      },
      {
        "duration": 11,
        "start_time": "2022-05-03T20:39:02.281Z"
      },
      {
        "duration": 151,
        "start_time": "2022-05-03T20:39:06.194Z"
      },
      {
        "duration": 15,
        "start_time": "2022-05-03T20:39:20.399Z"
      },
      {
        "duration": 137,
        "start_time": "2022-05-03T20:39:23.084Z"
      },
      {
        "duration": 12,
        "start_time": "2022-05-03T20:39:36.143Z"
      },
      {
        "duration": 112,
        "start_time": "2022-05-03T20:39:41.838Z"
      },
      {
        "duration": 12,
        "start_time": "2022-05-03T20:39:45.752Z"
      },
      {
        "duration": 167,
        "start_time": "2022-05-03T20:39:48.363Z"
      },
      {
        "duration": 12,
        "start_time": "2022-05-03T20:40:00.484Z"
      },
      {
        "duration": 162,
        "start_time": "2022-05-03T20:40:02.468Z"
      },
      {
        "duration": 17,
        "start_time": "2022-05-03T20:40:10.802Z"
      },
      {
        "duration": 144,
        "start_time": "2022-05-03T20:40:13.218Z"
      },
      {
        "duration": 16,
        "start_time": "2022-05-03T20:40:19.710Z"
      },
      {
        "duration": 131,
        "start_time": "2022-05-03T20:40:21.835Z"
      },
      {
        "duration": 5,
        "start_time": "2022-05-03T20:41:01.823Z"
      },
      {
        "duration": 5,
        "start_time": "2022-05-03T20:41:05.959Z"
      },
      {
        "duration": 10,
        "start_time": "2022-05-03T20:41:41.300Z"
      },
      {
        "duration": 6,
        "start_time": "2022-05-03T20:41:47.281Z"
      },
      {
        "duration": 12,
        "start_time": "2022-05-03T20:42:41.751Z"
      },
      {
        "duration": 483,
        "start_time": "2022-05-03T20:42:45.730Z"
      },
      {
        "duration": 65514,
        "start_time": "2022-05-03T20:42:50.561Z"
      },
      {
        "duration": 140,
        "start_time": "2022-05-03T20:44:22.460Z"
      },
      {
        "duration": 14,
        "start_time": "2022-05-03T20:45:17.840Z"
      },
      {
        "duration": 123,
        "start_time": "2022-05-03T20:45:41.920Z"
      },
      {
        "duration": 123,
        "start_time": "2022-05-03T20:46:11.810Z"
      },
      {
        "duration": 5,
        "start_time": "2022-05-03T20:46:39.326Z"
      },
      {
        "duration": 49,
        "start_time": "2022-05-03T20:46:39.333Z"
      },
      {
        "duration": 23,
        "start_time": "2022-05-03T20:46:39.384Z"
      },
      {
        "duration": 4,
        "start_time": "2022-05-03T20:46:39.409Z"
      },
      {
        "duration": 5,
        "start_time": "2022-05-03T20:46:39.415Z"
      },
      {
        "duration": 9,
        "start_time": "2022-05-03T20:46:39.422Z"
      },
      {
        "duration": 8,
        "start_time": "2022-05-03T20:46:39.432Z"
      },
      {
        "duration": 6,
        "start_time": "2022-05-03T20:46:39.442Z"
      },
      {
        "duration": 4,
        "start_time": "2022-05-03T20:46:39.450Z"
      },
      {
        "duration": 8,
        "start_time": "2022-05-03T20:46:39.455Z"
      },
      {
        "duration": 4,
        "start_time": "2022-05-03T20:46:39.507Z"
      },
      {
        "duration": 7,
        "start_time": "2022-05-03T20:46:39.513Z"
      },
      {
        "duration": 615,
        "start_time": "2022-05-03T20:46:39.521Z"
      },
      {
        "duration": 11,
        "start_time": "2022-05-03T20:46:40.138Z"
      },
      {
        "duration": 5,
        "start_time": "2022-05-03T20:46:40.151Z"
      },
      {
        "duration": 8,
        "start_time": "2022-05-03T20:46:40.158Z"
      },
      {
        "duration": 4,
        "start_time": "2022-05-03T20:46:40.168Z"
      },
      {
        "duration": 41,
        "start_time": "2022-05-03T20:46:40.174Z"
      },
      {
        "duration": 27,
        "start_time": "2022-05-03T20:46:40.217Z"
      },
      {
        "duration": 8,
        "start_time": "2022-05-03T20:46:40.246Z"
      },
      {
        "duration": 7,
        "start_time": "2022-05-03T20:46:40.256Z"
      },
      {
        "duration": 479,
        "start_time": "2022-05-03T20:46:40.265Z"
      },
      {
        "duration": 57666,
        "start_time": "2022-05-03T20:46:40.745Z"
      },
      {
        "duration": 28,
        "start_time": "2022-05-03T20:47:38.413Z"
      },
      {
        "duration": 9,
        "start_time": "2022-05-03T20:47:38.509Z"
      },
      {
        "duration": 58,
        "start_time": "2022-05-03T20:47:38.607Z"
      },
      {
        "duration": 12,
        "start_time": "2022-05-03T20:47:38.667Z"
      },
      {
        "duration": 72195,
        "start_time": "2022-05-03T20:47:38.681Z"
      },
      {
        "duration": 523,
        "start_time": "2022-05-03T20:48:50.880Z"
      },
      {
        "duration": 16,
        "start_time": "2022-05-03T20:48:51.405Z"
      },
      {
        "duration": 34694,
        "start_time": "2022-05-03T20:48:51.424Z"
      },
      {
        "duration": 248,
        "start_time": "2022-05-03T20:49:26.119Z"
      },
      {
        "duration": 57773,
        "start_time": "2022-05-03T20:49:26.368Z"
      },
      {
        "duration": 458,
        "start_time": "2022-05-03T20:50:24.143Z"
      },
      {
        "duration": 10,
        "start_time": "2022-05-03T20:50:24.602Z"
      },
      {
        "duration": 5,
        "start_time": "2022-05-03T20:50:24.614Z"
      },
      {
        "duration": 14,
        "start_time": "2022-05-03T20:50:24.621Z"
      },
      {
        "duration": 135,
        "start_time": "2022-05-03T20:50:24.637Z"
      },
      {
        "duration": 68,
        "start_time": "2022-05-03T21:15:56.373Z"
      },
      {
        "duration": 4,
        "start_time": "2022-05-03T21:32:36.949Z"
      },
      {
        "duration": 40,
        "start_time": "2022-05-03T21:32:36.956Z"
      },
      {
        "duration": 16,
        "start_time": "2022-05-03T21:32:36.998Z"
      },
      {
        "duration": 5,
        "start_time": "2022-05-03T21:32:37.017Z"
      },
      {
        "duration": 5,
        "start_time": "2022-05-03T21:32:37.023Z"
      },
      {
        "duration": 7,
        "start_time": "2022-05-03T21:32:37.029Z"
      },
      {
        "duration": 7,
        "start_time": "2022-05-03T21:32:37.037Z"
      },
      {
        "duration": 9,
        "start_time": "2022-05-03T21:32:37.046Z"
      },
      {
        "duration": 3,
        "start_time": "2022-05-03T21:32:37.057Z"
      },
      {
        "duration": 7,
        "start_time": "2022-05-03T21:32:37.062Z"
      },
      {
        "duration": 36,
        "start_time": "2022-05-03T21:32:37.071Z"
      },
      {
        "duration": 5,
        "start_time": "2022-05-03T21:32:37.109Z"
      },
      {
        "duration": 622,
        "start_time": "2022-05-03T21:32:37.116Z"
      },
      {
        "duration": 9,
        "start_time": "2022-05-03T21:32:37.740Z"
      },
      {
        "duration": 6,
        "start_time": "2022-05-03T21:32:37.751Z"
      },
      {
        "duration": 10,
        "start_time": "2022-05-03T21:32:37.758Z"
      },
      {
        "duration": 4,
        "start_time": "2022-05-03T21:32:37.769Z"
      },
      {
        "duration": 53,
        "start_time": "2022-05-03T21:32:37.775Z"
      },
      {
        "duration": 7,
        "start_time": "2022-05-03T21:32:37.830Z"
      },
      {
        "duration": 6,
        "start_time": "2022-05-03T21:32:37.839Z"
      },
      {
        "duration": 469,
        "start_time": "2022-05-03T21:32:37.847Z"
      },
      {
        "duration": 58604,
        "start_time": "2022-05-03T21:32:38.318Z"
      },
      {
        "duration": 84,
        "start_time": "2022-05-03T21:33:36.924Z"
      },
      {
        "duration": 9,
        "start_time": "2022-05-03T21:33:37.013Z"
      },
      {
        "duration": 54,
        "start_time": "2022-05-03T21:33:37.108Z"
      },
      {
        "duration": 13,
        "start_time": "2022-05-03T21:33:37.163Z"
      },
      {
        "duration": 73083,
        "start_time": "2022-05-03T21:33:37.177Z"
      },
      {
        "duration": 535,
        "start_time": "2022-05-03T21:34:50.261Z"
      },
      {
        "duration": 19,
        "start_time": "2022-05-03T21:34:50.797Z"
      },
      {
        "duration": 34619,
        "start_time": "2022-05-03T21:34:50.818Z"
      },
      {
        "duration": 261,
        "start_time": "2022-05-03T21:35:25.439Z"
      },
      {
        "duration": 1626,
        "start_time": "2022-05-04T19:58:23.158Z"
      },
      {
        "duration": 50,
        "start_time": "2022-05-04T19:58:24.786Z"
      },
      {
        "duration": 11,
        "start_time": "2022-05-04T19:58:24.837Z"
      },
      {
        "duration": 9,
        "start_time": "2022-05-04T19:58:24.849Z"
      },
      {
        "duration": 31,
        "start_time": "2022-05-04T19:58:24.859Z"
      },
      {
        "duration": 7,
        "start_time": "2022-05-04T19:58:24.891Z"
      },
      {
        "duration": 5,
        "start_time": "2022-05-04T19:58:24.900Z"
      },
      {
        "duration": 6,
        "start_time": "2022-05-04T19:58:24.906Z"
      },
      {
        "duration": 6,
        "start_time": "2022-05-04T19:58:24.913Z"
      },
      {
        "duration": 5,
        "start_time": "2022-05-04T19:58:24.921Z"
      },
      {
        "duration": 8,
        "start_time": "2022-05-04T19:58:24.927Z"
      },
      {
        "duration": 12,
        "start_time": "2022-05-04T19:58:24.936Z"
      },
      {
        "duration": 540,
        "start_time": "2022-05-04T19:58:24.949Z"
      },
      {
        "duration": 15,
        "start_time": "2022-05-04T19:58:25.491Z"
      },
      {
        "duration": 5,
        "start_time": "2022-05-04T19:58:25.508Z"
      },
      {
        "duration": 7,
        "start_time": "2022-05-04T19:58:25.514Z"
      },
      {
        "duration": 3,
        "start_time": "2022-05-04T19:58:25.523Z"
      },
      {
        "duration": 23,
        "start_time": "2022-05-04T19:58:25.527Z"
      },
      {
        "duration": 4,
        "start_time": "2022-05-04T19:58:25.552Z"
      },
      {
        "duration": 4,
        "start_time": "2022-05-04T19:58:25.558Z"
      },
      {
        "duration": 420,
        "start_time": "2022-05-04T19:58:25.564Z"
      },
      {
        "duration": 48436,
        "start_time": "2022-05-04T19:58:25.985Z"
      },
      {
        "duration": 78,
        "start_time": "2022-05-04T19:59:14.423Z"
      },
      {
        "duration": 99,
        "start_time": "2022-05-04T19:59:14.503Z"
      },
      {
        "duration": 423,
        "start_time": "2022-05-04T19:59:14.603Z"
      },
      {
        "duration": 11,
        "start_time": "2022-05-04T19:59:15.028Z"
      },
      {
        "duration": 61662,
        "start_time": "2022-05-04T19:59:15.040Z"
      },
      {
        "duration": 472,
        "start_time": "2022-05-04T20:00:16.705Z"
      },
      {
        "duration": 11,
        "start_time": "2022-05-04T20:00:17.178Z"
      },
      {
        "duration": 28891,
        "start_time": "2022-05-04T20:00:17.200Z"
      },
      {
        "duration": 219,
        "start_time": "2022-05-04T20:00:46.093Z"
      },
      {
        "duration": 47890,
        "start_time": "2022-05-04T20:00:46.314Z"
      },
      {
        "duration": 394,
        "start_time": "2022-05-04T20:01:34.206Z"
      },
      {
        "duration": 7,
        "start_time": "2022-05-04T20:01:34.602Z"
      },
      {
        "duration": 11,
        "start_time": "2022-05-04T20:01:34.610Z"
      },
      {
        "duration": 114,
        "start_time": "2022-05-04T20:01:34.623Z"
      }
    ],
    "colab": {
      "collapsed_sections": [],
      "provenance": []
    },
    "kernelspec": {
      "display_name": "Python 3 (ipykernel)",
      "language": "python",
      "name": "python3"
    },
    "language_info": {
      "codemirror_mode": {
        "name": "ipython",
        "version": 3
      },
      "file_extension": ".py",
      "mimetype": "text/x-python",
      "name": "python",
      "nbconvert_exporter": "python",
      "pygments_lexer": "ipython3",
      "version": "3.9.7"
    },
    "toc": {
      "base_numbering": 1,
      "nav_menu": {},
      "number_sections": true,
      "sideBar": true,
      "skip_h1_title": true,
      "title_cell": "Содержание",
      "title_sidebar": "Contents",
      "toc_cell": true,
      "toc_position": {},
      "toc_section_display": true,
      "toc_window_display": true
    }
  },
  "nbformat": 4,
  "nbformat_minor": 0
}