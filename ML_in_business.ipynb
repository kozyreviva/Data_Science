{
  "cells": [
    {
      "cell_type": "markdown",
      "metadata": {
        "id": "view-in-github",
        "colab_type": "text"
      },
      "source": [
        "<a href=\"https://colab.research.google.com/github/kozyreviva/Data_Science/blob/main/ML_in_business.ipynb\" target=\"_parent\"><img src=\"https://colab.research.google.com/assets/colab-badge.svg\" alt=\"Open In Colab\"/></a>"
      ]
    },
    {
      "cell_type": "markdown",
      "metadata": {
        "id": "kIrCXmmT-Aqg"
      },
      "source": [
        "# Выбор локации для скважины"
      ]
    },
    {
      "cell_type": "markdown",
      "metadata": {
        "id": "XOq0XVMX-Aql"
      },
      "source": [
        "Допустим, вы работаете в добывающей компании «ГлавРосГосНефть». Нужно решить, где бурить новую скважину.\n",
        "\n",
        "Вам предоставлены пробы нефти в трёх регионах: в каждом 10 000 месторождений, где измерили качество нефти и объём её запасов. Постройте модель машинного обучения, которая поможет определить регион, где добыча принесёт наибольшую прибыль. Проанализируйте возможную прибыль и риски техникой *Bootstrap.*\n",
        "\n",
        "Шаги для выбора локации:\n",
        "\n",
        "- В избранном регионе ищут месторождения, для каждого определяют значения признаков;\n",
        "- Строят модель и оценивают объём запасов;\n",
        "- Выбирают месторождения с самым высокими оценками значений. Количество месторождений зависит от бюджета компании и стоимости разработки одной скважины;\n",
        "- Прибыль равна суммарной прибыли отобранных месторождений."
      ]
    },
    {
      "cell_type": "markdown",
      "metadata": {
        "id": "t-jWTTfo-Aqm"
      },
      "source": [
        "## Загрузка и подготовка данных"
      ]
    },
    {
      "cell_type": "markdown",
      "metadata": {
        "id": "edceykQ_3QNm"
      },
      "source": [
        "Импортируеми библиотеки."
      ]
    },
    {
      "cell_type": "code",
      "execution_count": null,
      "metadata": {
        "id": "_rFW20Qr-Aqn"
      },
      "outputs": [],
      "source": [
        "#установка библиотек\n",
        "import pandas as pd\n",
        "import numpy as np\n",
        "from math import sqrt\n",
        "from sklearn.model_selection import train_test_split\n",
        "from sklearn.linear_model import LinearRegression\n",
        "from sklearn.metrics import mean_squared_error\n",
        "from scipy import stats as st"
      ]
    },
    {
      "cell_type": "markdown",
      "metadata": {
        "id": "iQJ7M8f3RggB"
      },
      "source": [
        "<div class=\"alert alert-block alert-success\">\n",
        "<b>Успех:</b> Отлично, что все импорты собраны в первой ячейке ноутбука! Если у того, кто будет запускать твой ноутбук будут отсутствовать некоторые библиотеки, то он это увидит сразу, а не в процессе!\n",
        "</div>"
      ]
    },
    {
      "cell_type": "markdown",
      "metadata": {
        "id": "z_TFoy8o3byu"
      },
      "source": [
        "Сохраним датафреймы в переменные."
      ]
    },
    {
      "cell_type": "code",
      "execution_count": null,
      "metadata": {
        "id": "LVk9BzIB-Aqo"
      },
      "outputs": [],
      "source": [
        "#сохранение файлов\n",
        "try:\n",
        "  df_geo_0 = pd.read_csv(\"/datasets/geo_data_0.csv\")\n",
        "  df_geo_1 = pd.read_csv(\"/datasets/geo_data_1.csv\")\n",
        "  df_geo_2 = pd.read_csv(\"/datasets/geo_data_2.csv\")\n",
        "except:\n",
        "  df_geo_0 = pd.read_csv(\"geo_data_0.csv\")\n",
        "  df_geo_1 = pd.read_csv(\"geo_data_1.csv\")\n",
        "  df_geo_2 = pd.read_csv(\"geo_data_2.csv\")"
      ]
    },
    {
      "cell_type": "markdown",
      "metadata": {
        "id": "oZBGQ5-03s4a"
      },
      "source": [
        "Откроем каждые файл и посмотрим на содержимое. Также посмотрим информацию о данных."
      ]
    },
    {
      "cell_type": "code",
      "execution_count": null,
      "metadata": {
        "colab": {
          "base_uri": "https://localhost:8080/",
          "height": 206
        },
        "id": "HCLce4yLzys0",
        "outputId": "e4026835-a812-44a3-de18-4e3f42f6f75d"
      },
      "outputs": [
        {
          "data": {
            "text/html": [
              "<div>\n",
              "<style scoped>\n",
              "    .dataframe tbody tr th:only-of-type {\n",
              "        vertical-align: middle;\n",
              "    }\n",
              "\n",
              "    .dataframe tbody tr th {\n",
              "        vertical-align: top;\n",
              "    }\n",
              "\n",
              "    .dataframe thead th {\n",
              "        text-align: right;\n",
              "    }\n",
              "</style>\n",
              "<table border=\"1\" class=\"dataframe\">\n",
              "  <thead>\n",
              "    <tr style=\"text-align: right;\">\n",
              "      <th></th>\n",
              "      <th>id</th>\n",
              "      <th>f0</th>\n",
              "      <th>f1</th>\n",
              "      <th>f2</th>\n",
              "      <th>product</th>\n",
              "    </tr>\n",
              "  </thead>\n",
              "  <tbody>\n",
              "    <tr>\n",
              "      <th>0</th>\n",
              "      <td>txEyH</td>\n",
              "      <td>0.705745</td>\n",
              "      <td>-0.497823</td>\n",
              "      <td>1.221170</td>\n",
              "      <td>105.280062</td>\n",
              "    </tr>\n",
              "    <tr>\n",
              "      <th>1</th>\n",
              "      <td>2acmU</td>\n",
              "      <td>1.334711</td>\n",
              "      <td>-0.340164</td>\n",
              "      <td>4.365080</td>\n",
              "      <td>73.037750</td>\n",
              "    </tr>\n",
              "    <tr>\n",
              "      <th>2</th>\n",
              "      <td>409Wp</td>\n",
              "      <td>1.022732</td>\n",
              "      <td>0.151990</td>\n",
              "      <td>1.419926</td>\n",
              "      <td>85.265647</td>\n",
              "    </tr>\n",
              "    <tr>\n",
              "      <th>3</th>\n",
              "      <td>iJLyR</td>\n",
              "      <td>-0.032172</td>\n",
              "      <td>0.139033</td>\n",
              "      <td>2.978566</td>\n",
              "      <td>168.620776</td>\n",
              "    </tr>\n",
              "    <tr>\n",
              "      <th>4</th>\n",
              "      <td>Xdl7t</td>\n",
              "      <td>1.988431</td>\n",
              "      <td>0.155413</td>\n",
              "      <td>4.751769</td>\n",
              "      <td>154.036647</td>\n",
              "    </tr>\n",
              "  </tbody>\n",
              "</table>\n",
              "</div>"
            ],
            "text/plain": [
              "      id        f0        f1        f2     product\n",
              "0  txEyH  0.705745 -0.497823  1.221170  105.280062\n",
              "1  2acmU  1.334711 -0.340164  4.365080   73.037750\n",
              "2  409Wp  1.022732  0.151990  1.419926   85.265647\n",
              "3  iJLyR -0.032172  0.139033  2.978566  168.620776\n",
              "4  Xdl7t  1.988431  0.155413  4.751769  154.036647"
            ]
          },
          "execution_count": 182,
          "metadata": {},
          "output_type": "execute_result"
        }
      ],
      "source": [
        "#вывод 5 строк таблицы\n",
        "df_geo_0.head()"
      ]
    },
    {
      "cell_type": "code",
      "execution_count": null,
      "metadata": {
        "colab": {
          "base_uri": "https://localhost:8080/"
        },
        "id": "86kbRJlS0UWP",
        "outputId": "df098f94-54d5-4db3-e467-1da0e84ba0f5"
      },
      "outputs": [
        {
          "name": "stdout",
          "output_type": "stream",
          "text": [
            "<class 'pandas.core.frame.DataFrame'>\n",
            "RangeIndex: 100000 entries, 0 to 99999\n",
            "Data columns (total 5 columns):\n",
            " #   Column   Non-Null Count   Dtype  \n",
            "---  ------   --------------   -----  \n",
            " 0   id       100000 non-null  object \n",
            " 1   f0       100000 non-null  float64\n",
            " 2   f1       100000 non-null  float64\n",
            " 3   f2       100000 non-null  float64\n",
            " 4   product  100000 non-null  float64\n",
            "dtypes: float64(4), object(1)\n",
            "memory usage: 3.8+ MB\n"
          ]
        }
      ],
      "source": [
        "#вывод информации\n",
        "df_geo_0.info()"
      ]
    },
    {
      "cell_type": "code",
      "execution_count": null,
      "metadata": {
        "colab": {
          "base_uri": "https://localhost:8080/",
          "height": 206
        },
        "id": "Nkbg_1spz5Go",
        "outputId": "d5e5de45-c700-44d8-92a8-486b4e564985"
      },
      "outputs": [
        {
          "data": {
            "text/html": [
              "<div>\n",
              "<style scoped>\n",
              "    .dataframe tbody tr th:only-of-type {\n",
              "        vertical-align: middle;\n",
              "    }\n",
              "\n",
              "    .dataframe tbody tr th {\n",
              "        vertical-align: top;\n",
              "    }\n",
              "\n",
              "    .dataframe thead th {\n",
              "        text-align: right;\n",
              "    }\n",
              "</style>\n",
              "<table border=\"1\" class=\"dataframe\">\n",
              "  <thead>\n",
              "    <tr style=\"text-align: right;\">\n",
              "      <th></th>\n",
              "      <th>id</th>\n",
              "      <th>f0</th>\n",
              "      <th>f1</th>\n",
              "      <th>f2</th>\n",
              "      <th>product</th>\n",
              "    </tr>\n",
              "  </thead>\n",
              "  <tbody>\n",
              "    <tr>\n",
              "      <th>0</th>\n",
              "      <td>kBEdx</td>\n",
              "      <td>-15.001348</td>\n",
              "      <td>-8.276000</td>\n",
              "      <td>-0.005876</td>\n",
              "      <td>3.179103</td>\n",
              "    </tr>\n",
              "    <tr>\n",
              "      <th>1</th>\n",
              "      <td>62mP7</td>\n",
              "      <td>14.272088</td>\n",
              "      <td>-3.475083</td>\n",
              "      <td>0.999183</td>\n",
              "      <td>26.953261</td>\n",
              "    </tr>\n",
              "    <tr>\n",
              "      <th>2</th>\n",
              "      <td>vyE1P</td>\n",
              "      <td>6.263187</td>\n",
              "      <td>-5.948386</td>\n",
              "      <td>5.001160</td>\n",
              "      <td>134.766305</td>\n",
              "    </tr>\n",
              "    <tr>\n",
              "      <th>3</th>\n",
              "      <td>KcrkZ</td>\n",
              "      <td>-13.081196</td>\n",
              "      <td>-11.506057</td>\n",
              "      <td>4.999415</td>\n",
              "      <td>137.945408</td>\n",
              "    </tr>\n",
              "    <tr>\n",
              "      <th>4</th>\n",
              "      <td>AHL4O</td>\n",
              "      <td>12.702195</td>\n",
              "      <td>-8.147433</td>\n",
              "      <td>5.004363</td>\n",
              "      <td>134.766305</td>\n",
              "    </tr>\n",
              "  </tbody>\n",
              "</table>\n",
              "</div>"
            ],
            "text/plain": [
              "      id         f0         f1        f2     product\n",
              "0  kBEdx -15.001348  -8.276000 -0.005876    3.179103\n",
              "1  62mP7  14.272088  -3.475083  0.999183   26.953261\n",
              "2  vyE1P   6.263187  -5.948386  5.001160  134.766305\n",
              "3  KcrkZ -13.081196 -11.506057  4.999415  137.945408\n",
              "4  AHL4O  12.702195  -8.147433  5.004363  134.766305"
            ]
          },
          "execution_count": 184,
          "metadata": {},
          "output_type": "execute_result"
        }
      ],
      "source": [
        "#вывод 5 строк таблицы\n",
        "df_geo_1.head()"
      ]
    },
    {
      "cell_type": "code",
      "execution_count": null,
      "metadata": {
        "colab": {
          "base_uri": "https://localhost:8080/"
        },
        "id": "hlgv4Mwr0afz",
        "outputId": "10ecb9af-7b62-46bb-c28e-876a60722eb8"
      },
      "outputs": [
        {
          "name": "stdout",
          "output_type": "stream",
          "text": [
            "<class 'pandas.core.frame.DataFrame'>\n",
            "RangeIndex: 100000 entries, 0 to 99999\n",
            "Data columns (total 5 columns):\n",
            " #   Column   Non-Null Count   Dtype  \n",
            "---  ------   --------------   -----  \n",
            " 0   id       100000 non-null  object \n",
            " 1   f0       100000 non-null  float64\n",
            " 2   f1       100000 non-null  float64\n",
            " 3   f2       100000 non-null  float64\n",
            " 4   product  100000 non-null  float64\n",
            "dtypes: float64(4), object(1)\n",
            "memory usage: 3.8+ MB\n"
          ]
        }
      ],
      "source": [
        "#вывод информации\n",
        "df_geo_1.info()"
      ]
    },
    {
      "cell_type": "code",
      "execution_count": null,
      "metadata": {
        "colab": {
          "base_uri": "https://localhost:8080/",
          "height": 206
        },
        "id": "F4hj3rJYz740",
        "outputId": "68b94905-ce1f-4a3e-fe17-cd154b310b5a"
      },
      "outputs": [
        {
          "data": {
            "text/html": [
              "<div>\n",
              "<style scoped>\n",
              "    .dataframe tbody tr th:only-of-type {\n",
              "        vertical-align: middle;\n",
              "    }\n",
              "\n",
              "    .dataframe tbody tr th {\n",
              "        vertical-align: top;\n",
              "    }\n",
              "\n",
              "    .dataframe thead th {\n",
              "        text-align: right;\n",
              "    }\n",
              "</style>\n",
              "<table border=\"1\" class=\"dataframe\">\n",
              "  <thead>\n",
              "    <tr style=\"text-align: right;\">\n",
              "      <th></th>\n",
              "      <th>id</th>\n",
              "      <th>f0</th>\n",
              "      <th>f1</th>\n",
              "      <th>f2</th>\n",
              "      <th>product</th>\n",
              "    </tr>\n",
              "  </thead>\n",
              "  <tbody>\n",
              "    <tr>\n",
              "      <th>0</th>\n",
              "      <td>fwXo0</td>\n",
              "      <td>-1.146987</td>\n",
              "      <td>0.963328</td>\n",
              "      <td>-0.828965</td>\n",
              "      <td>27.758673</td>\n",
              "    </tr>\n",
              "    <tr>\n",
              "      <th>1</th>\n",
              "      <td>WJtFt</td>\n",
              "      <td>0.262778</td>\n",
              "      <td>0.269839</td>\n",
              "      <td>-2.530187</td>\n",
              "      <td>56.069697</td>\n",
              "    </tr>\n",
              "    <tr>\n",
              "      <th>2</th>\n",
              "      <td>ovLUW</td>\n",
              "      <td>0.194587</td>\n",
              "      <td>0.289035</td>\n",
              "      <td>-5.586433</td>\n",
              "      <td>62.871910</td>\n",
              "    </tr>\n",
              "    <tr>\n",
              "      <th>3</th>\n",
              "      <td>q6cA6</td>\n",
              "      <td>2.236060</td>\n",
              "      <td>-0.553760</td>\n",
              "      <td>0.930038</td>\n",
              "      <td>114.572842</td>\n",
              "    </tr>\n",
              "    <tr>\n",
              "      <th>4</th>\n",
              "      <td>WPMUX</td>\n",
              "      <td>-0.515993</td>\n",
              "      <td>1.716266</td>\n",
              "      <td>5.899011</td>\n",
              "      <td>149.600746</td>\n",
              "    </tr>\n",
              "  </tbody>\n",
              "</table>\n",
              "</div>"
            ],
            "text/plain": [
              "      id        f0        f1        f2     product\n",
              "0  fwXo0 -1.146987  0.963328 -0.828965   27.758673\n",
              "1  WJtFt  0.262778  0.269839 -2.530187   56.069697\n",
              "2  ovLUW  0.194587  0.289035 -5.586433   62.871910\n",
              "3  q6cA6  2.236060 -0.553760  0.930038  114.572842\n",
              "4  WPMUX -0.515993  1.716266  5.899011  149.600746"
            ]
          },
          "execution_count": 186,
          "metadata": {},
          "output_type": "execute_result"
        }
      ],
      "source": [
        "#вывод 5 строк таблицы\n",
        "df_geo_2.head()"
      ]
    },
    {
      "cell_type": "code",
      "execution_count": null,
      "metadata": {
        "colab": {
          "base_uri": "https://localhost:8080/"
        },
        "id": "_kxlSmnY0fvO",
        "outputId": "d445db54-b547-4902-8043-d5cd755eeb30"
      },
      "outputs": [
        {
          "name": "stdout",
          "output_type": "stream",
          "text": [
            "<class 'pandas.core.frame.DataFrame'>\n",
            "RangeIndex: 100000 entries, 0 to 99999\n",
            "Data columns (total 5 columns):\n",
            " #   Column   Non-Null Count   Dtype  \n",
            "---  ------   --------------   -----  \n",
            " 0   id       100000 non-null  object \n",
            " 1   f0       100000 non-null  float64\n",
            " 2   f1       100000 non-null  float64\n",
            " 3   f2       100000 non-null  float64\n",
            " 4   product  100000 non-null  float64\n",
            "dtypes: float64(4), object(1)\n",
            "memory usage: 3.8+ MB\n"
          ]
        }
      ],
      "source": [
        "#вывод информации\n",
        "df_geo_2.info()"
      ]
    },
    {
      "cell_type": "markdown",
      "metadata": {
        "id": "hvBVMuo75hXy"
      },
      "source": [
        "**Краткие выводы**\n",
        "\n",
        "Каждый из датафреймов имеет одинаковое количество объектов похожих по признакам. В датафреймах нет пропусков, поэтому заполнение не требуется. Первый признак \"id\" в каждой таблице не информативен для построения модели, при разделени таблиц не будем его включать."
      ]
    },
    {
      "cell_type": "markdown",
      "metadata": {
        "id": "uZ7wJwVf6xy9"
      },
      "source": [
        "Подготовим данные.  \n",
        "Разделим таблицы на обычные и целевой признаки."
      ]
    },
    {
      "cell_type": "code",
      "execution_count": null,
      "metadata": {
        "id": "FxrvKSFZ-Aqp"
      },
      "outputs": [],
      "source": [
        "#разделение признаков\n",
        "features_geo_0 = df_geo_0.drop([\"id\",\"product\"],axis =1)\n",
        "target_geo_0 = df_geo_0[\"product\"]"
      ]
    },
    {
      "cell_type": "code",
      "execution_count": null,
      "metadata": {
        "id": "oikr1O8m303e"
      },
      "outputs": [],
      "source": [
        "#разделение признаков\n",
        "features_geo_1 = df_geo_1.drop([\"id\",\"product\"],axis =1)\n",
        "target_geo_1 = df_geo_1[\"product\"]"
      ]
    },
    {
      "cell_type": "code",
      "execution_count": null,
      "metadata": {
        "id": "Hjr2s4x-31sc"
      },
      "outputs": [],
      "source": [
        "#разделение признаков\n",
        "features_geo_2 = df_geo_2.drop([\"id\",\"product\"],axis =1)\n",
        "target_geo_2 = df_geo_2[\"product\"]"
      ]
    },
    {
      "cell_type": "markdown",
      "metadata": {
        "id": "kSFFEUcP7vTI"
      },
      "source": [
        "Разделение произведено, пристопим к обучению модели."
      ]
    },
    {
      "cell_type": "markdown",
      "metadata": {
        "id": "tK3HbH4g-Aqp"
      },
      "source": [
        "## Обучение и проверка модели"
      ]
    },
    {
      "cell_type": "markdown",
      "metadata": {
        "id": "rnR51lrf77wu"
      },
      "source": [
        "Каждый датафрейм будет обучаться на своей собственной модели LinearRegression. Но перед этим разделим данные на обучающую и вылидационную выборки в соотношении 75:25."
      ]
    },
    {
      "cell_type": "code",
      "execution_count": null,
      "metadata": {
        "id": "BKUFLaDt-Aqr"
      },
      "outputs": [],
      "source": [
        "#разделение на обучающую и валидационную выборки\n",
        "features_geo_0_train, features_geo_0_valid, target_geo_0_train, target_geo_0_valid = train_test_split(features_geo_0,\n",
        "                                                                                                       target_geo_0,\n",
        "                                                                                                       test_size = 0.25, \n",
        "                                                                                                       random_state = 12345)"
      ]
    },
    {
      "cell_type": "code",
      "execution_count": null,
      "metadata": {
        "id": "GX-Dq5d-5m7V"
      },
      "outputs": [],
      "source": [
        "#разделение на обучающую и валидационную выборки\n",
        "features_geo_1_train, features_geo_1_valid, target_geo_1_train, target_geo_1_valid = train_test_split(features_geo_1,\n",
        "                                                                                                      target_geo_1,\n",
        "                                                                                                      test_size = 0.25,\n",
        "                                                                                                      random_state = 12345)"
      ]
    },
    {
      "cell_type": "code",
      "execution_count": null,
      "metadata": {
        "id": "EaaqUWud5mM2"
      },
      "outputs": [],
      "source": [
        "#разделение на обучающую и валидационную выборки\n",
        "features_geo_2_train, features_geo_2_valid, target_geo_2_train, target_geo_2_valid = train_test_split(features_geo_2,\n",
        "                                                                                                      target_geo_2,\n",
        "                                                                                                      test_size = 0.25,\n",
        "                                                                                                      random_state = 12345)"
      ]
    },
    {
      "cell_type": "markdown",
      "metadata": {
        "id": "lhqcNHC89WSu"
      },
      "source": [
        "Разделение на выборки произведено, приступим к обучению модели.  \n",
        "Результы с предсказаниями и правильными ответами сохраним в валидационной выборке."
      ]
    },
    {
      "cell_type": "code",
      "execution_count": null,
      "metadata": {
        "id": "r3Xg9nCE7a-w",
        "outputId": "670b70dd-ef4b-4726-cd8c-b2529c2e2745"
      },
      "outputs": [
        {
          "name": "stderr",
          "output_type": "stream",
          "text": [
            "/tmp/ipykernel_37/1917869126.py:5: SettingWithCopyWarning: \n",
            "A value is trying to be set on a copy of a slice from a DataFrame.\n",
            "Try using .loc[row_indexer,col_indexer] = value instead\n",
            "\n",
            "See the caveats in the documentation: https://pandas.pydata.org/pandas-docs/stable/user_guide/indexing.html#returning-a-view-versus-a-copy\n",
            "  features_geo_0_valid[\"product\"] = target_geo_0_valid\n",
            "/tmp/ipykernel_37/1917869126.py:6: SettingWithCopyWarning: \n",
            "A value is trying to be set on a copy of a slice from a DataFrame.\n",
            "Try using .loc[row_indexer,col_indexer] = value instead\n",
            "\n",
            "See the caveats in the documentation: https://pandas.pydata.org/pandas-docs/stable/user_guide/indexing.html#returning-a-view-versus-a-copy\n",
            "  features_geo_0_valid[\"predicted\"] = predictions\n"
          ]
        }
      ],
      "source": [
        "#обучение модели и сохранение данных\n",
        "model = LinearRegression()\n",
        "model.fit(features_geo_0_train,target_geo_0_train)\n",
        "predictions = model.predict(features_geo_0_valid)\n",
        "features_geo_0_valid[\"product\"] = target_geo_0_valid\n",
        "features_geo_0_valid[\"predicted\"] = predictions"
      ]
    },
    {
      "cell_type": "code",
      "execution_count": null,
      "metadata": {
        "id": "WMF21Q7eFifu",
        "outputId": "fdf215b6-5a20-4880-a823-92a13121481c"
      },
      "outputs": [
        {
          "name": "stderr",
          "output_type": "stream",
          "text": [
            "/tmp/ipykernel_37/2015538118.py:5: SettingWithCopyWarning: \n",
            "A value is trying to be set on a copy of a slice from a DataFrame.\n",
            "Try using .loc[row_indexer,col_indexer] = value instead\n",
            "\n",
            "See the caveats in the documentation: https://pandas.pydata.org/pandas-docs/stable/user_guide/indexing.html#returning-a-view-versus-a-copy\n",
            "  features_geo_1_valid[\"product\"] = target_geo_1_valid\n",
            "/tmp/ipykernel_37/2015538118.py:6: SettingWithCopyWarning: \n",
            "A value is trying to be set on a copy of a slice from a DataFrame.\n",
            "Try using .loc[row_indexer,col_indexer] = value instead\n",
            "\n",
            "See the caveats in the documentation: https://pandas.pydata.org/pandas-docs/stable/user_guide/indexing.html#returning-a-view-versus-a-copy\n",
            "  features_geo_1_valid[\"predicted\"] = predictions\n"
          ]
        }
      ],
      "source": [
        "#обучение модели и сохранение данных\n",
        "model = LinearRegression()\n",
        "model.fit(features_geo_1_train,target_geo_1_train)\n",
        "predictions = model.predict(features_geo_1_valid)\n",
        "features_geo_1_valid[\"product\"] = target_geo_1_valid\n",
        "features_geo_1_valid[\"predicted\"] = predictions"
      ]
    },
    {
      "cell_type": "code",
      "execution_count": null,
      "metadata": {
        "id": "71zWTveeFrQU",
        "outputId": "bbfe3c04-676e-489f-df4b-1be272372ff3"
      },
      "outputs": [
        {
          "name": "stderr",
          "output_type": "stream",
          "text": [
            "/tmp/ipykernel_37/1641942003.py:5: SettingWithCopyWarning: \n",
            "A value is trying to be set on a copy of a slice from a DataFrame.\n",
            "Try using .loc[row_indexer,col_indexer] = value instead\n",
            "\n",
            "See the caveats in the documentation: https://pandas.pydata.org/pandas-docs/stable/user_guide/indexing.html#returning-a-view-versus-a-copy\n",
            "  features_geo_2_valid[\"product\"] = target_geo_2_valid\n",
            "/tmp/ipykernel_37/1641942003.py:6: SettingWithCopyWarning: \n",
            "A value is trying to be set on a copy of a slice from a DataFrame.\n",
            "Try using .loc[row_indexer,col_indexer] = value instead\n",
            "\n",
            "See the caveats in the documentation: https://pandas.pydata.org/pandas-docs/stable/user_guide/indexing.html#returning-a-view-versus-a-copy\n",
            "  features_geo_2_valid[\"predicted\"] = predictions\n"
          ]
        }
      ],
      "source": [
        "#обучение модели и сохранение данных\n",
        "model = LinearRegression()\n",
        "model.fit(features_geo_2_train,target_geo_2_train)\n",
        "predictions = model.predict(features_geo_2_valid)\n",
        "features_geo_2_valid[\"product\"] = target_geo_2_valid\n",
        "features_geo_2_valid[\"predicted\"] = predictions"
      ]
    },
    {
      "cell_type": "markdown",
      "metadata": {
        "id": "KI0SrG83zRH-"
      },
      "source": [
        "Проверим изменения."
      ]
    },
    {
      "cell_type": "code",
      "execution_count": null,
      "metadata": {
        "colab": {
          "base_uri": "https://localhost:8080/",
          "height": 206
        },
        "id": "3YDD204yzWyh",
        "outputId": "85a32b50-5d08-4167-dd0a-eb7a7d217910"
      },
      "outputs": [
        {
          "data": {
            "text/html": [
              "<div>\n",
              "<style scoped>\n",
              "    .dataframe tbody tr th:only-of-type {\n",
              "        vertical-align: middle;\n",
              "    }\n",
              "\n",
              "    .dataframe tbody tr th {\n",
              "        vertical-align: top;\n",
              "    }\n",
              "\n",
              "    .dataframe thead th {\n",
              "        text-align: right;\n",
              "    }\n",
              "</style>\n",
              "<table border=\"1\" class=\"dataframe\">\n",
              "  <thead>\n",
              "    <tr style=\"text-align: right;\">\n",
              "      <th></th>\n",
              "      <th>f0</th>\n",
              "      <th>f1</th>\n",
              "      <th>f2</th>\n",
              "      <th>product</th>\n",
              "      <th>predicted</th>\n",
              "    </tr>\n",
              "  </thead>\n",
              "  <tbody>\n",
              "    <tr>\n",
              "      <th>71751</th>\n",
              "      <td>0.948970</td>\n",
              "      <td>-0.057547</td>\n",
              "      <td>2.095727</td>\n",
              "      <td>10.038645</td>\n",
              "      <td>95.894952</td>\n",
              "    </tr>\n",
              "    <tr>\n",
              "      <th>80493</th>\n",
              "      <td>0.992974</td>\n",
              "      <td>0.206671</td>\n",
              "      <td>-0.142278</td>\n",
              "      <td>114.551489</td>\n",
              "      <td>77.572583</td>\n",
              "    </tr>\n",
              "    <tr>\n",
              "      <th>2655</th>\n",
              "      <td>1.199854</td>\n",
              "      <td>-0.563356</td>\n",
              "      <td>-1.852991</td>\n",
              "      <td>132.603635</td>\n",
              "      <td>77.892640</td>\n",
              "    </tr>\n",
              "    <tr>\n",
              "      <th>53233</th>\n",
              "      <td>0.691422</td>\n",
              "      <td>-0.433347</td>\n",
              "      <td>0.564974</td>\n",
              "      <td>169.072125</td>\n",
              "      <td>90.175134</td>\n",
              "    </tr>\n",
              "    <tr>\n",
              "      <th>91141</th>\n",
              "      <td>0.420772</td>\n",
              "      <td>0.972638</td>\n",
              "      <td>0.736190</td>\n",
              "      <td>122.325180</td>\n",
              "      <td>70.510088</td>\n",
              "    </tr>\n",
              "  </tbody>\n",
              "</table>\n",
              "</div>"
            ],
            "text/plain": [
              "             f0        f1        f2     product  predicted\n",
              "71751  0.948970 -0.057547  2.095727   10.038645  95.894952\n",
              "80493  0.992974  0.206671 -0.142278  114.551489  77.572583\n",
              "2655   1.199854 -0.563356 -1.852991  132.603635  77.892640\n",
              "53233  0.691422 -0.433347  0.564974  169.072125  90.175134\n",
              "91141  0.420772  0.972638  0.736190  122.325180  70.510088"
            ]
          },
          "execution_count": 197,
          "metadata": {},
          "output_type": "execute_result"
        }
      ],
      "source": [
        "#вывод таблицы\n",
        "features_geo_0_valid.head()"
      ]
    },
    {
      "cell_type": "code",
      "execution_count": null,
      "metadata": {
        "colab": {
          "base_uri": "https://localhost:8080/",
          "height": 206
        },
        "id": "UoXhkyNxzeTg",
        "outputId": "0baa72d0-94a9-4e31-e78f-4dc31eb1c16d"
      },
      "outputs": [
        {
          "data": {
            "text/html": [
              "<div>\n",
              "<style scoped>\n",
              "    .dataframe tbody tr th:only-of-type {\n",
              "        vertical-align: middle;\n",
              "    }\n",
              "\n",
              "    .dataframe tbody tr th {\n",
              "        vertical-align: top;\n",
              "    }\n",
              "\n",
              "    .dataframe thead th {\n",
              "        text-align: right;\n",
              "    }\n",
              "</style>\n",
              "<table border=\"1\" class=\"dataframe\">\n",
              "  <thead>\n",
              "    <tr style=\"text-align: right;\">\n",
              "      <th></th>\n",
              "      <th>f0</th>\n",
              "      <th>f1</th>\n",
              "      <th>f2</th>\n",
              "      <th>product</th>\n",
              "      <th>predicted</th>\n",
              "    </tr>\n",
              "  </thead>\n",
              "  <tbody>\n",
              "    <tr>\n",
              "      <th>71751</th>\n",
              "      <td>-0.371866</td>\n",
              "      <td>-1.862494</td>\n",
              "      <td>3.002210</td>\n",
              "      <td>80.859783</td>\n",
              "      <td>82.663314</td>\n",
              "    </tr>\n",
              "    <tr>\n",
              "      <th>80493</th>\n",
              "      <td>9.015122</td>\n",
              "      <td>-13.881455</td>\n",
              "      <td>1.995363</td>\n",
              "      <td>53.906522</td>\n",
              "      <td>54.431786</td>\n",
              "    </tr>\n",
              "    <tr>\n",
              "      <th>2655</th>\n",
              "      <td>-6.507568</td>\n",
              "      <td>-4.817448</td>\n",
              "      <td>1.003449</td>\n",
              "      <td>30.132364</td>\n",
              "      <td>29.748760</td>\n",
              "    </tr>\n",
              "    <tr>\n",
              "      <th>53233</th>\n",
              "      <td>14.560845</td>\n",
              "      <td>-10.667755</td>\n",
              "      <td>1.995175</td>\n",
              "      <td>53.906522</td>\n",
              "      <td>53.552133</td>\n",
              "    </tr>\n",
              "    <tr>\n",
              "      <th>91141</th>\n",
              "      <td>6.090476</td>\n",
              "      <td>-4.494723</td>\n",
              "      <td>0.013815</td>\n",
              "      <td>0.000000</td>\n",
              "      <td>1.243856</td>\n",
              "    </tr>\n",
              "  </tbody>\n",
              "</table>\n",
              "</div>"
            ],
            "text/plain": [
              "              f0         f1        f2    product  predicted\n",
              "71751  -0.371866  -1.862494  3.002210  80.859783  82.663314\n",
              "80493   9.015122 -13.881455  1.995363  53.906522  54.431786\n",
              "2655   -6.507568  -4.817448  1.003449  30.132364  29.748760\n",
              "53233  14.560845 -10.667755  1.995175  53.906522  53.552133\n",
              "91141   6.090476  -4.494723  0.013815   0.000000   1.243856"
            ]
          },
          "execution_count": 198,
          "metadata": {},
          "output_type": "execute_result"
        }
      ],
      "source": [
        "#вывод таблицы\n",
        "features_geo_1_valid.head()"
      ]
    },
    {
      "cell_type": "code",
      "execution_count": null,
      "metadata": {
        "colab": {
          "base_uri": "https://localhost:8080/",
          "height": 206
        },
        "id": "AWM17Y-6zjUx",
        "outputId": "7b285b54-8117-479c-857b-8f34f18e7edd"
      },
      "outputs": [
        {
          "data": {
            "text/html": [
              "<div>\n",
              "<style scoped>\n",
              "    .dataframe tbody tr th:only-of-type {\n",
              "        vertical-align: middle;\n",
              "    }\n",
              "\n",
              "    .dataframe tbody tr th {\n",
              "        vertical-align: top;\n",
              "    }\n",
              "\n",
              "    .dataframe thead th {\n",
              "        text-align: right;\n",
              "    }\n",
              "</style>\n",
              "<table border=\"1\" class=\"dataframe\">\n",
              "  <thead>\n",
              "    <tr style=\"text-align: right;\">\n",
              "      <th></th>\n",
              "      <th>f0</th>\n",
              "      <th>f1</th>\n",
              "      <th>f2</th>\n",
              "      <th>product</th>\n",
              "      <th>predicted</th>\n",
              "    </tr>\n",
              "  </thead>\n",
              "  <tbody>\n",
              "    <tr>\n",
              "      <th>71751</th>\n",
              "      <td>-1.444717</td>\n",
              "      <td>-3.861599</td>\n",
              "      <td>2.225805</td>\n",
              "      <td>61.212375</td>\n",
              "      <td>93.599633</td>\n",
              "    </tr>\n",
              "    <tr>\n",
              "      <th>80493</th>\n",
              "      <td>-1.418617</td>\n",
              "      <td>1.276544</td>\n",
              "      <td>-0.976433</td>\n",
              "      <td>41.850118</td>\n",
              "      <td>75.105159</td>\n",
              "    </tr>\n",
              "    <tr>\n",
              "      <th>2655</th>\n",
              "      <td>-4.587649</td>\n",
              "      <td>-0.413199</td>\n",
              "      <td>1.649268</td>\n",
              "      <td>57.776581</td>\n",
              "      <td>90.066809</td>\n",
              "    </tr>\n",
              "    <tr>\n",
              "      <th>53233</th>\n",
              "      <td>1.871584</td>\n",
              "      <td>1.619101</td>\n",
              "      <td>4.273555</td>\n",
              "      <td>100.053761</td>\n",
              "      <td>105.162375</td>\n",
              "    </tr>\n",
              "    <tr>\n",
              "      <th>91141</th>\n",
              "      <td>-2.028785</td>\n",
              "      <td>4.128167</td>\n",
              "      <td>6.089547</td>\n",
              "      <td>109.897122</td>\n",
              "      <td>115.303310</td>\n",
              "    </tr>\n",
              "  </tbody>\n",
              "</table>\n",
              "</div>"
            ],
            "text/plain": [
              "             f0        f1        f2     product   predicted\n",
              "71751 -1.444717 -3.861599  2.225805   61.212375   93.599633\n",
              "80493 -1.418617  1.276544 -0.976433   41.850118   75.105159\n",
              "2655  -4.587649 -0.413199  1.649268   57.776581   90.066809\n",
              "53233  1.871584  1.619101  4.273555  100.053761  105.162375\n",
              "91141 -2.028785  4.128167  6.089547  109.897122  115.303310"
            ]
          },
          "execution_count": 199,
          "metadata": {},
          "output_type": "execute_result"
        }
      ],
      "source": [
        "#вывод таблицы\n",
        "features_geo_2_valid.head()"
      ]
    },
    {
      "cell_type": "markdown",
      "metadata": {
        "id": "IkQjCt899Pw8"
      },
      "source": [
        "Выведем средний запас предсказанного сырья для каждого региона."
      ]
    },
    {
      "cell_type": "code",
      "execution_count": null,
      "metadata": {
        "colab": {
          "base_uri": "https://localhost:8080/"
        },
        "id": "3qEZwtzG-ltf",
        "outputId": "352f0317-f11c-437c-a341-571f621fc7b4"
      },
      "outputs": [
        {
          "name": "stdout",
          "output_type": "stream",
          "text": [
            "Предсказанные средний объём сырься в geo_0: 92.59256778438035\n",
            "Предсказанные средний объём сырься в geo_1: 68.728546895446\n",
            "Предсказанные средний объём сырься в geo_2: 94.96504596800489\n"
          ]
        }
      ],
      "source": [
        "#вывод среднего объёма сырья по регионам\n",
        "print(\"Предсказанные средний объём сырься в geo_0:\",features_geo_0_valid[\"predicted\"].mean())\n",
        "print(\"Предсказанные средний объём сырься в geo_1:\",features_geo_1_valid[\"predicted\"].mean())\n",
        "print(\"Предсказанные средний объём сырься в geo_2:\",features_geo_2_valid[\"predicted\"].mean())"
      ]
    },
    {
      "cell_type": "markdown",
      "metadata": {
        "id": "32KjEH-1Q-HY"
      },
      "source": [
        "Выведем квадратный корень из средней квадратичной ошибки "
      ]
    },
    {
      "cell_type": "code",
      "execution_count": null,
      "metadata": {
        "colab": {
          "base_uri": "https://localhost:8080/"
        },
        "id": "KGswjaIdBtxi",
        "outputId": "c90ecd2b-a226-48b9-ad42-241d203158c2"
      },
      "outputs": [
        {
          "name": "stdout",
          "output_type": "stream",
          "text": [
            "RMSE для geo_0: 37.5794217150813\n",
            "RMSE для geo_1: 0.893099286775617\n",
            "RMSE для geo_2: 40.02970873393434\n"
          ]
        }
      ],
      "source": [
        "#вывод RMSE для регионов\n",
        "print(\"RMSE для geo_0:\",sqrt(mean_squared_error(features_geo_0_valid[\"product\"],features_geo_0_valid[\"predicted\"])))\n",
        "print(\"RMSE для geo_1:\",sqrt(mean_squared_error(features_geo_1_valid[\"product\"],features_geo_1_valid[\"predicted\"])))\n",
        "print(\"RMSE для geo_2:\",sqrt(mean_squared_error(features_geo_2_valid[\"product\"],features_geo_2_valid[\"predicted\"])))"
      ]
    },
    {
      "cell_type": "markdown",
      "metadata": {
        "id": "oHRFkAO0TuWe"
      },
      "source": [
        "**Выводы**\n",
        "\n",
        "Обученные модели дали хорошие предсказательные результаты по каждому региону. Из RMSE можно увидеть что регион \"geo_1\" имеет наименьшую ошибку близкую к 0, остальны регионы имеют почти схожие результаты. При этом регион geo_0 имеет запас предсказанного сырья на ~24 тыс барелей меньше чем другие регионы."
      ]
    },
    {
      "cell_type": "markdown",
      "metadata": {
        "id": "0rSip7iQ-Aqq"
      },
      "source": [
        "## Подготовка к расчёту прибыли"
      ]
    },
    {
      "cell_type": "markdown",
      "metadata": {
        "id": "0sF-NLUo_WJe"
      },
      "source": [
        "Подготовим необходимые переменные.  \n",
        "У нас имеется бюджет на разработку скважин - 10 миллиардов.\n",
        "Точек исследования - 500.  \n",
        "Лучших точек для разработки - 200.\n",
        "Цена за баррель(тысячу) - 450000.\n",
        "\n",
        "Также cохраним RandomState в переменную."
      ]
    },
    {
      "cell_type": "code",
      "execution_count": null,
      "metadata": {
        "id": "-IjLQVzL0ULi"
      },
      "outputs": [],
      "source": [
        "#определение переменных\n",
        "INCOME = 450000\n",
        "POINTS = 500\n",
        "BEST_POINTS = 200\n",
        "BUDGET = 10000000000\n",
        "state = np.random.RandomState(12345)"
      ]
    },
    {
      "cell_type": "markdown",
      "metadata": {
        "id": "SJ1RG_kVyrVp"
      },
      "source": [
        "Сохраним реальный объём и предсказания в отдельные переменные для всех регионов."
      ]
    },
    {
      "cell_type": "code",
      "execution_count": null,
      "metadata": {
        "id": "bo5gz6uy3MKN"
      },
      "outputs": [],
      "source": [
        "#сохранение столбцов из датафрейма в отдельные переменные\n",
        "geo_0_target = features_geo_0_valid[\"product\"]\n",
        "geo_0_predictions = features_geo_0_valid[\"predicted\"]"
      ]
    },
    {
      "cell_type": "code",
      "execution_count": null,
      "metadata": {
        "id": "FjrZPsPv7fiL"
      },
      "outputs": [],
      "source": [
        "#сохранение столбцов из датафрейма в отдельные переменные\n",
        "geo_1_target = features_geo_1_valid[\"product\"]\n",
        "geo_1_predictions = features_geo_1_valid[\"predicted\"]"
      ]
    },
    {
      "cell_type": "code",
      "execution_count": null,
      "metadata": {
        "id": "xu6BqYYv7fNd"
      },
      "outputs": [],
      "source": [
        "#сохранение столбцов из датафрейма в отдельные переменные\n",
        "geo_2_target = features_geo_2_valid[\"product\"]\n",
        "geo_2_predictions = features_geo_2_valid[\"predicted\"]"
      ]
    },
    {
      "cell_type": "markdown",
      "metadata": {
        "id": "DgTBT5ODy5BX"
      },
      "source": [
        "Произведем необходимый объём сырья для безубыточной разработки и сравним со средними в регионах.  \n",
        "\n",
        "Безубыточный объём получим: бюджет / количество лучших скважин планируемых к разработке / цена за тысячу баррель."
      ]
    },
    {
      "cell_type": "code",
      "execution_count": null,
      "metadata": {
        "colab": {
          "base_uri": "https://localhost:8080/"
        },
        "id": "dtr24jth1eO6",
        "outputId": "f6f13634-158d-49a8-a873-5626ea02692e"
      },
      "outputs": [
        {
          "name": "stdout",
          "output_type": "stream",
          "text": [
            "Безубыточный объём сырья: 111.11111111111111\n",
            "Средний объём по geo_0: 92.07859674082927\n",
            "Средний объём по geo_1: 68.72313602435997\n",
            "Средний объём по geo_2: 94.88423280885438\n"
          ]
        }
      ],
      "source": [
        "#нахождение безубыточного объёма\n",
        "point_non_waste = 10000000000/200/450000\n",
        "#вывод данных\n",
        "print(\"Безубыточный объём сырья:\",point_non_waste)\n",
        "print(\"Средний объём по geo_0:\",geo_0_target.mean())\n",
        "print(\"Средний объём по geo_1:\",geo_1_target.mean())\n",
        "print(\"Средний объём по geo_2:\",geo_2_target.mean())"
      ]
    },
    {
      "cell_type": "markdown",
      "metadata": {
        "id": "BP2D9omi-YWv"
      },
      "source": [
        "**Выводы** \n",
        "\n",
        "Необходимые данные сохранены в отдельные переменные. \n",
        "\n",
        "Сравнивая безубыточный объём сырья со средним объёмом в регионах,можно сказать что средняя добыча в каждом регионе как минимум на 20 тысяч баррелей меньше."
      ]
    },
    {
      "cell_type": "markdown",
      "metadata": {
        "id": "kSn_NIln0ESt"
      },
      "source": [
        "Напишем функцию для подсчета прибыли по лучшим предсказанным скважинам."
      ]
    },
    {
      "cell_type": "code",
      "execution_count": null,
      "metadata": {
        "id": "LNPdSIXPye2E"
      },
      "outputs": [],
      "source": [
        "#функция нахождения прибыли от разработки\n",
        "def profit(target, predictions, count):\n",
        "    probs_sorted = predictions.sort_values(ascending=False)\n",
        "    selected = target[probs_sorted.index][:count]\n",
        "    return INCOME * selected.sum()"
      ]
    },
    {
      "cell_type": "markdown",
      "metadata": {
        "id": "uceCetTD-Aqr"
      },
      "source": [
        "## Расчёт прибыли и рисков "
      ]
    },
    {
      "cell_type": "markdown",
      "metadata": {
        "id": "E9dRGQho2Rq6"
      },
      "source": [
        "Перед расчентом прибыли напишем фунцию \"bootstrap\" в которой применим технику Bootstrap с 1000 выборок, для нахождения распределения прибыли. Фунеция возвращает объектв типа Series."
      ]
    },
    {
      "cell_type": "code",
      "execution_count": null,
      "metadata": {
        "id": "eWQpK1lP0OZa"
      },
      "outputs": [],
      "source": [
        "#функция техники bootstrap для нахождения распределения прибыли\n",
        "def bootstrap(target,predictions):\n",
        "    values = []\n",
        "\n",
        "    #применение Bootstrap\n",
        "    for i in range(1000):\n",
        "        target_subsample = target.sample(n = POINTS, replace = True, random_state = state)\n",
        "        predictions_subsample = predictions[target_subsample.index]\n",
        "\n",
        "        values.append(profit(target_subsample,predictions_subsample,BEST_POINTS))\n",
        "\n",
        "    #перевод в другой формат и возврат значения\n",
        "    return pd.Series(values)"
      ]
    },
    {
      "cell_type": "markdown",
      "metadata": {
        "id": "KWzPXmPBRggO"
      },
      "source": [
        "Применим фунцию для geo_0."
      ]
    },
    {
      "cell_type": "code",
      "execution_count": null,
      "metadata": {
        "id": "vEHLbNhuRggP"
      },
      "outputs": [],
      "source": [
        "values_geo_0 = bootstrap(geo_0_target,geo_0_predictions)"
      ]
    },
    {
      "cell_type": "markdown",
      "metadata": {
        "id": "AJy9Nsai487O"
      },
      "source": [
        "Найдем среднее по получившейся прибыли.  \n",
        "Найдём 95% доверительный интервал.\n",
        "Посчитаем вероятность убытков."
      ]
    },
    {
      "cell_type": "code",
      "execution_count": null,
      "metadata": {
        "id": "9d2CtsZY0M42"
      },
      "outputs": [],
      "source": [
        "#нахождение среднего, доверительного интервала, процент риска убытков\n",
        "mean_geo_0 = values_geo_0.mean()\n",
        "upper_geo_0 = values_geo_0.quantile(0.975)\n",
        "lower_geo_0 = values_geo_0.quantile(0.025)\n",
        "loss_geo_0 = (values_geo_0 < BUDGET).mean()"
      ]
    },
    {
      "cell_type": "markdown",
      "metadata": {
        "id": "geHmS0fi5c4a"
      },
      "source": [
        "Такие же действия произведём с данныеми по другим регионам."
      ]
    },
    {
      "cell_type": "code",
      "execution_count": null,
      "metadata": {
        "id": "Dtzf75Xm-Aqs"
      },
      "outputs": [],
      "source": [
        "values_geo_1 = bootstrap(geo_1_target,geo_1_predictions)"
      ]
    },
    {
      "cell_type": "code",
      "execution_count": null,
      "metadata": {
        "id": "6zlSwGouAdsv"
      },
      "outputs": [],
      "source": [
        "#нахождение среднего, доверительного интервала, процент риска убытков\n",
        "mean_geo_1 = values_geo_1.mean()\n",
        "upper_geo_1 = values_geo_1.quantile(0.975)\n",
        "lower_geo_1 = values_geo_1.quantile(0.025)\n",
        "loss_geo_1 = (values_geo_1 < BUDGET).mean()"
      ]
    },
    {
      "cell_type": "code",
      "execution_count": null,
      "metadata": {
        "id": "vM9hnBmLAdh_"
      },
      "outputs": [],
      "source": [
        "values_geo_2 = bootstrap(geo_2_target,geo_2_predictions)"
      ]
    },
    {
      "cell_type": "code",
      "execution_count": null,
      "metadata": {
        "id": "fDWqqRZlAjJZ"
      },
      "outputs": [],
      "source": [
        "#нахождение среднего и доверительного интервала\n",
        "mean_geo_2 = values_geo_2.mean()\n",
        "upper_geo_2 = values_geo_2.quantile(0.975)\n",
        "lower_geo_2 = values_geo_2.quantile(0.025)\n",
        "loss_geo_2 = (values_geo_2 < BUDGET).mean()"
      ]
    },
    {
      "cell_type": "markdown",
      "metadata": {
        "id": "482wB8vg7R3v"
      },
      "source": [
        "Все необходимы операции произведены и сохранены в переменные.  \n",
        "\n",
        "Приступим к поиску региона с наилучшими показателями и минимальным риском убытков.  \n",
        "Выведем все данные по регионам."
      ]
    },
    {
      "cell_type": "code",
      "execution_count": null,
      "metadata": {
        "colab": {
          "base_uri": "https://localhost:8080/"
        },
        "id": "NuHOC_mr6MrS",
        "outputId": "70b7326a-0cd7-430a-d2b6-cc7f6aaf6a5d"
      },
      "outputs": [
        {
          "name": "stdout",
          "output_type": "stream",
          "text": [
            "Средняя прибыль по geo_0: 10425938526.910593\n",
            "97.5% квантиль: 10947976353.35837\n",
            "2.5% квантиль: 9897909905.162064\n",
            "Вероятность убытков по geo_0: 6.0%\n"
          ]
        }
      ],
      "source": [
        "#вывод данных по региону\n",
        "print(\"Средняя прибыль по geo_0:\",mean_geo_0)\n",
        "print(\"97.5% квантиль:\",upper_geo_0)\n",
        "print(\"2.5% квантиль:\",lower_geo_0)\n",
        "print(\"Вероятность убытков по geo_0: {:.1%}\".format(loss_geo_0))"
      ]
    },
    {
      "cell_type": "code",
      "execution_count": null,
      "metadata": {
        "colab": {
          "base_uri": "https://localhost:8080/"
        },
        "id": "wcCfnbC7AdpR",
        "outputId": "e1346ccc-0d8c-4f16-a1fe-d604d761f961"
      },
      "outputs": [
        {
          "name": "stdout",
          "output_type": "stream",
          "text": [
            "Средняя прибыль по geo_1: 10518259493.697325\n",
            "97.5% квантиль: 10953612982.066908\n",
            "2.5% квантиль: 10128123231.433084\n",
            "Вероятность убытков по geo_1: 0.3%\n"
          ]
        }
      ],
      "source": [
        "#вывод данных по региону\n",
        "print(\"Средняя прибыль по geo_1:\",mean_geo_1)\n",
        "print(\"97.5% квантиль:\",upper_geo_1)\n",
        "print(\"2.5% квантиль:\",lower_geo_1)\n",
        "print(\"Вероятность убытков по geo_1: {:.1%}\".format(loss_geo_1))"
      ]
    },
    {
      "cell_type": "code",
      "execution_count": null,
      "metadata": {
        "colab": {
          "base_uri": "https://localhost:8080/"
        },
        "id": "CYQjHvELAdRF",
        "outputId": "c1f45055-163b-49ea-bb1b-fc8e415de95d"
      },
      "outputs": [
        {
          "name": "stdout",
          "output_type": "stream",
          "text": [
            "Средняя прибыль по geo_2: 10420194005.34405\n",
            "97.5% квантиль: 10989629939.844574\n",
            "2.5% квантиль: 9884147390.839989\n",
            "Вероятность убытков по geo_2: 6.2%\n"
          ]
        }
      ],
      "source": [
        "#вывод данных по региону\n",
        "print(\"Средняя прибыль по geo_2:\",mean_geo_2)\n",
        "print(\"97.5% квантиль:\",upper_geo_2)\n",
        "print(\"2.5% квантиль:\",lower_geo_2)\n",
        "print(\"Вероятность убытков по geo_2: {:.1%}\".format(loss_geo_2))"
      ]
    },
    {
      "cell_type": "markdown",
      "metadata": {
        "id": "vi-313IxcMlr"
      },
      "source": [
        "Из выведенных данных видно, что доверительный интервал и средний показатель в регионе geo_1 выше чем у остальных регионов. Также риск убытков составляет 0.3% а в остальных 6 и более процента."
      ]
    },
    {
      "cell_type": "markdown",
      "metadata": {
        "id": "3tuXkXbCcBqz"
      },
      "source": [
        "**Общий вывод** \n",
        "\n",
        "После произведённой работы можно придти к однозначным выводам.  Регион geo_1 имеет самый низкий процент риска убытков из представленных регионов он ниже порогового значения в 2.5%. Также средний показатель дохода в этом регионе выше на ~95 миллионов чем в остальных регионах. Можно добавить что средний объём сырья хоть и меньше чем в других регионах это никак не повлияет на прибыль."
      ]
    }
  ],
  "metadata": {
    "ExecuteTimeLog": [
      {
        "duration": 498,
        "start_time": "2022-05-07T09:59:26.460Z"
      },
      {
        "duration": 1286,
        "start_time": "2022-05-11T08:02:14.615Z"
      },
      {
        "duration": 5021,
        "start_time": "2022-05-11T08:02:15.903Z"
      },
      {
        "duration": 17,
        "start_time": "2022-05-11T08:02:20.926Z"
      },
      {
        "duration": 16,
        "start_time": "2022-05-11T08:02:20.945Z"
      },
      {
        "duration": 10,
        "start_time": "2022-05-11T08:02:20.962Z"
      },
      {
        "duration": 26,
        "start_time": "2022-05-11T08:02:20.973Z"
      },
      {
        "duration": 24,
        "start_time": "2022-05-11T08:02:21.001Z"
      },
      {
        "duration": 23,
        "start_time": "2022-05-11T08:02:21.027Z"
      },
      {
        "duration": 5,
        "start_time": "2022-05-11T08:02:21.052Z"
      },
      {
        "duration": 10,
        "start_time": "2022-05-11T08:02:21.061Z"
      },
      {
        "duration": 9,
        "start_time": "2022-05-11T08:02:21.073Z"
      },
      {
        "duration": 46,
        "start_time": "2022-05-11T08:02:21.085Z"
      },
      {
        "duration": 17,
        "start_time": "2022-05-11T08:02:21.134Z"
      },
      {
        "duration": 15,
        "start_time": "2022-05-11T08:02:21.153Z"
      },
      {
        "duration": 62,
        "start_time": "2022-05-11T08:02:21.170Z"
      },
      {
        "duration": 188,
        "start_time": "2022-05-11T08:02:21.235Z"
      },
      {
        "duration": 109,
        "start_time": "2022-05-11T08:02:21.431Z"
      },
      {
        "duration": 102,
        "start_time": "2022-05-11T08:02:21.623Z"
      },
      {
        "duration": 10,
        "start_time": "2022-05-11T08:02:21.727Z"
      },
      {
        "duration": 16,
        "start_time": "2022-05-11T08:02:21.738Z"
      },
      {
        "duration": 14,
        "start_time": "2022-05-11T08:02:21.756Z"
      },
      {
        "duration": 8,
        "start_time": "2022-05-11T08:02:21.771Z"
      },
      {
        "duration": 4,
        "start_time": "2022-05-11T08:02:21.780Z"
      },
      {
        "duration": 5,
        "start_time": "2022-05-11T08:02:21.786Z"
      },
      {
        "duration": 4,
        "start_time": "2022-05-11T08:02:21.823Z"
      },
      {
        "duration": 11,
        "start_time": "2022-05-11T08:02:21.829Z"
      },
      {
        "duration": 10,
        "start_time": "2022-05-11T08:02:21.841Z"
      },
      {
        "duration": 4,
        "start_time": "2022-05-11T08:02:21.854Z"
      },
      {
        "duration": 1234,
        "start_time": "2022-05-11T08:02:21.859Z"
      },
      {
        "duration": 6,
        "start_time": "2022-05-11T08:02:23.095Z"
      },
      {
        "duration": 115,
        "start_time": "2022-05-11T08:02:23.104Z"
      },
      {
        "duration": 0,
        "start_time": "2022-05-11T08:02:23.221Z"
      },
      {
        "duration": 0,
        "start_time": "2022-05-11T08:02:23.222Z"
      },
      {
        "duration": 0,
        "start_time": "2022-05-11T08:02:23.224Z"
      },
      {
        "duration": 0,
        "start_time": "2022-05-11T08:02:23.225Z"
      },
      {
        "duration": 0,
        "start_time": "2022-05-11T08:02:23.226Z"
      },
      {
        "duration": 0,
        "start_time": "2022-05-11T08:02:23.226Z"
      },
      {
        "duration": 0,
        "start_time": "2022-05-11T08:02:23.227Z"
      },
      {
        "duration": 0,
        "start_time": "2022-05-11T08:02:23.228Z"
      },
      {
        "duration": 0,
        "start_time": "2022-05-11T08:02:23.229Z"
      },
      {
        "duration": 3,
        "start_time": "2022-05-11T08:04:42.415Z"
      },
      {
        "duration": 376,
        "start_time": "2022-05-11T08:04:42.421Z"
      },
      {
        "duration": 9,
        "start_time": "2022-05-11T08:04:42.798Z"
      },
      {
        "duration": 26,
        "start_time": "2022-05-11T08:04:42.810Z"
      },
      {
        "duration": 8,
        "start_time": "2022-05-11T08:04:42.838Z"
      },
      {
        "duration": 17,
        "start_time": "2022-05-11T08:04:42.847Z"
      },
      {
        "duration": 9,
        "start_time": "2022-05-11T08:04:42.865Z"
      },
      {
        "duration": 17,
        "start_time": "2022-05-11T08:04:42.875Z"
      },
      {
        "duration": 28,
        "start_time": "2022-05-11T08:04:42.895Z"
      },
      {
        "duration": 6,
        "start_time": "2022-05-11T08:04:42.925Z"
      },
      {
        "duration": 7,
        "start_time": "2022-05-11T08:04:42.932Z"
      },
      {
        "duration": 13,
        "start_time": "2022-05-11T08:04:42.940Z"
      },
      {
        "duration": 12,
        "start_time": "2022-05-11T08:04:42.954Z"
      },
      {
        "duration": 20,
        "start_time": "2022-05-11T08:04:42.968Z"
      },
      {
        "duration": 42,
        "start_time": "2022-05-11T08:04:42.990Z"
      },
      {
        "duration": 108,
        "start_time": "2022-05-11T08:04:43.125Z"
      },
      {
        "duration": 107,
        "start_time": "2022-05-11T08:04:43.324Z"
      },
      {
        "duration": 191,
        "start_time": "2022-05-11T08:04:43.433Z"
      },
      {
        "duration": 9,
        "start_time": "2022-05-11T08:04:43.625Z"
      },
      {
        "duration": 24,
        "start_time": "2022-05-11T08:04:43.635Z"
      },
      {
        "duration": 10,
        "start_time": "2022-05-11T08:04:43.661Z"
      },
      {
        "duration": 15,
        "start_time": "2022-05-11T08:04:43.673Z"
      },
      {
        "duration": 9,
        "start_time": "2022-05-11T08:04:43.690Z"
      },
      {
        "duration": 10,
        "start_time": "2022-05-11T08:04:43.702Z"
      },
      {
        "duration": 10,
        "start_time": "2022-05-11T08:04:43.714Z"
      },
      {
        "duration": 14,
        "start_time": "2022-05-11T08:04:43.725Z"
      },
      {
        "duration": 10,
        "start_time": "2022-05-11T08:04:43.741Z"
      },
      {
        "duration": 4,
        "start_time": "2022-05-11T08:04:43.753Z"
      },
      {
        "duration": 1266,
        "start_time": "2022-05-11T08:04:43.759Z"
      },
      {
        "duration": 5,
        "start_time": "2022-05-11T08:04:45.026Z"
      },
      {
        "duration": 30,
        "start_time": "2022-05-11T08:04:45.033Z"
      },
      {
        "duration": 1163,
        "start_time": "2022-05-11T08:04:45.065Z"
      },
      {
        "duration": 5,
        "start_time": "2022-05-11T08:04:46.229Z"
      },
      {
        "duration": 15,
        "start_time": "2022-05-11T08:04:46.235Z"
      },
      {
        "duration": 14,
        "start_time": "2022-05-11T08:04:46.251Z"
      },
      {
        "duration": 0,
        "start_time": "2022-05-11T08:04:46.266Z"
      },
      {
        "duration": 0,
        "start_time": "2022-05-11T08:04:46.268Z"
      },
      {
        "duration": 0,
        "start_time": "2022-05-11T08:04:46.269Z"
      },
      {
        "duration": 0,
        "start_time": "2022-05-11T08:04:46.270Z"
      },
      {
        "duration": 0,
        "start_time": "2022-05-11T08:04:46.272Z"
      },
      {
        "duration": 1213,
        "start_time": "2022-05-11T08:05:16.155Z"
      },
      {
        "duration": 5,
        "start_time": "2022-05-11T08:05:18.395Z"
      },
      {
        "duration": 9,
        "start_time": "2022-05-11T08:05:18.938Z"
      },
      {
        "duration": 47,
        "start_time": "2022-05-11T08:05:37.032Z"
      },
      {
        "duration": 4,
        "start_time": "2022-05-11T08:05:43.999Z"
      },
      {
        "duration": 4,
        "start_time": "2022-05-11T08:05:44.651Z"
      },
      {
        "duration": 4,
        "start_time": "2022-05-11T08:05:45.223Z"
      },
      {
        "duration": 4,
        "start_time": "2022-05-11T08:06:29.834Z"
      },
      {
        "duration": 3,
        "start_time": "2022-05-11T08:06:32.219Z"
      },
      {
        "duration": 5,
        "start_time": "2022-05-11T08:06:32.697Z"
      },
      {
        "duration": 4,
        "start_time": "2022-05-11T08:06:33.189Z"
      },
      {
        "duration": 4,
        "start_time": "2022-05-11T08:07:04.528Z"
      },
      {
        "duration": 5,
        "start_time": "2022-05-11T08:07:17.573Z"
      },
      {
        "duration": 5,
        "start_time": "2022-05-11T08:09:08.346Z"
      },
      {
        "duration": 10,
        "start_time": "2022-05-11T08:09:12.327Z"
      },
      {
        "duration": 5,
        "start_time": "2022-05-11T08:09:21.658Z"
      },
      {
        "duration": 5,
        "start_time": "2022-05-11T08:09:25.484Z"
      },
      {
        "duration": 6,
        "start_time": "2022-05-11T08:09:31.536Z"
      },
      {
        "duration": 4,
        "start_time": "2022-05-11T08:09:53.132Z"
      },
      {
        "duration": 3,
        "start_time": "2022-05-11T08:09:55.624Z"
      },
      {
        "duration": 5,
        "start_time": "2022-05-11T08:10:05.141Z"
      },
      {
        "duration": 4,
        "start_time": "2022-05-11T08:10:07.916Z"
      },
      {
        "duration": 6,
        "start_time": "2022-05-11T08:22:18.259Z"
      },
      {
        "duration": 6,
        "start_time": "2022-05-11T08:22:20.920Z"
      },
      {
        "duration": 6,
        "start_time": "2022-05-11T08:22:33.475Z"
      },
      {
        "duration": 8,
        "start_time": "2022-05-11T08:24:05.066Z"
      },
      {
        "duration": 4,
        "start_time": "2022-05-11T08:28:13.224Z"
      },
      {
        "duration": 405,
        "start_time": "2022-05-11T08:28:13.232Z"
      },
      {
        "duration": 9,
        "start_time": "2022-05-11T08:28:13.639Z"
      },
      {
        "duration": 19,
        "start_time": "2022-05-11T08:28:13.651Z"
      },
      {
        "duration": 10,
        "start_time": "2022-05-11T08:28:13.673Z"
      },
      {
        "duration": 39,
        "start_time": "2022-05-11T08:28:13.685Z"
      },
      {
        "duration": 9,
        "start_time": "2022-05-11T08:28:13.726Z"
      },
      {
        "duration": 19,
        "start_time": "2022-05-11T08:28:13.738Z"
      },
      {
        "duration": 4,
        "start_time": "2022-05-11T08:28:13.759Z"
      },
      {
        "duration": 10,
        "start_time": "2022-05-11T08:28:13.765Z"
      },
      {
        "duration": 7,
        "start_time": "2022-05-11T08:28:13.778Z"
      },
      {
        "duration": 40,
        "start_time": "2022-05-11T08:28:13.786Z"
      },
      {
        "duration": 12,
        "start_time": "2022-05-11T08:28:13.828Z"
      },
      {
        "duration": 11,
        "start_time": "2022-05-11T08:28:13.842Z"
      },
      {
        "duration": 73,
        "start_time": "2022-05-11T08:28:13.855Z"
      },
      {
        "duration": 104,
        "start_time": "2022-05-11T08:28:13.930Z"
      },
      {
        "duration": 192,
        "start_time": "2022-05-11T08:28:14.038Z"
      },
      {
        "duration": 92,
        "start_time": "2022-05-11T08:28:14.233Z"
      },
      {
        "duration": 97,
        "start_time": "2022-05-11T08:28:14.329Z"
      },
      {
        "duration": 13,
        "start_time": "2022-05-11T08:28:14.429Z"
      },
      {
        "duration": 7,
        "start_time": "2022-05-11T08:28:14.444Z"
      },
      {
        "duration": 8,
        "start_time": "2022-05-11T08:28:14.453Z"
      },
      {
        "duration": 3,
        "start_time": "2022-05-11T08:28:14.464Z"
      },
      {
        "duration": 4,
        "start_time": "2022-05-11T08:28:14.469Z"
      },
      {
        "duration": 5,
        "start_time": "2022-05-11T08:28:14.475Z"
      },
      {
        "duration": 8,
        "start_time": "2022-05-11T08:28:14.523Z"
      },
      {
        "duration": 8,
        "start_time": "2022-05-11T08:28:14.533Z"
      },
      {
        "duration": 7,
        "start_time": "2022-05-11T08:28:14.543Z"
      },
      {
        "duration": 1455,
        "start_time": "2022-05-11T08:28:14.555Z"
      },
      {
        "duration": 11,
        "start_time": "2022-05-11T08:28:16.012Z"
      },
      {
        "duration": 1357,
        "start_time": "2022-05-11T08:28:16.025Z"
      },
      {
        "duration": 7,
        "start_time": "2022-05-11T08:28:17.384Z"
      },
      {
        "duration": 1484,
        "start_time": "2022-05-11T08:28:17.393Z"
      },
      {
        "duration": 7,
        "start_time": "2022-05-11T08:28:18.879Z"
      },
      {
        "duration": 9,
        "start_time": "2022-05-11T08:28:18.887Z"
      },
      {
        "duration": 27,
        "start_time": "2022-05-11T08:28:18.898Z"
      },
      {
        "duration": 12,
        "start_time": "2022-05-11T08:28:18.927Z"
      },
      {
        "duration": 50,
        "start_time": "2022-05-11T08:29:06.451Z"
      },
      {
        "duration": 24,
        "start_time": "2022-05-11T08:29:15.569Z"
      },
      {
        "duration": 188,
        "start_time": "2022-05-11T08:29:49.218Z"
      },
      {
        "duration": 224,
        "start_time": "2022-05-11T08:29:55.771Z"
      },
      {
        "duration": 21,
        "start_time": "2022-05-11T08:29:58.837Z"
      },
      {
        "duration": 21,
        "start_time": "2022-05-11T08:30:07.414Z"
      },
      {
        "duration": 4,
        "start_time": "2022-05-11T08:30:16.290Z"
      },
      {
        "duration": 8808,
        "start_time": "2022-05-11T08:30:16.297Z"
      },
      {
        "duration": 9,
        "start_time": "2022-05-11T08:30:25.107Z"
      },
      {
        "duration": 19,
        "start_time": "2022-05-11T08:30:25.118Z"
      },
      {
        "duration": 9,
        "start_time": "2022-05-11T08:30:25.139Z"
      },
      {
        "duration": 21,
        "start_time": "2022-05-11T08:30:25.150Z"
      },
      {
        "duration": 9,
        "start_time": "2022-05-11T08:30:25.173Z"
      },
      {
        "duration": 16,
        "start_time": "2022-05-11T08:30:25.184Z"
      },
      {
        "duration": 22,
        "start_time": "2022-05-11T08:30:25.202Z"
      },
      {
        "duration": 5,
        "start_time": "2022-05-11T08:30:25.226Z"
      },
      {
        "duration": 6,
        "start_time": "2022-05-11T08:30:25.235Z"
      },
      {
        "duration": 66,
        "start_time": "2022-05-11T08:30:25.243Z"
      },
      {
        "duration": 14,
        "start_time": "2022-05-11T08:30:25.311Z"
      },
      {
        "duration": 12,
        "start_time": "2022-05-11T08:30:25.327Z"
      },
      {
        "duration": 85,
        "start_time": "2022-05-11T08:30:25.341Z"
      },
      {
        "duration": 107,
        "start_time": "2022-05-11T08:30:25.430Z"
      },
      {
        "duration": 192,
        "start_time": "2022-05-11T08:30:25.538Z"
      },
      {
        "duration": 191,
        "start_time": "2022-05-11T08:30:25.734Z"
      },
      {
        "duration": 9,
        "start_time": "2022-05-11T08:30:25.927Z"
      },
      {
        "duration": 9,
        "start_time": "2022-05-11T08:30:25.938Z"
      },
      {
        "duration": 7,
        "start_time": "2022-05-11T08:30:25.949Z"
      },
      {
        "duration": 9,
        "start_time": "2022-05-11T08:30:25.957Z"
      },
      {
        "duration": 3,
        "start_time": "2022-05-11T08:30:25.968Z"
      },
      {
        "duration": 5,
        "start_time": "2022-05-11T08:30:25.972Z"
      },
      {
        "duration": 44,
        "start_time": "2022-05-11T08:30:25.979Z"
      },
      {
        "duration": 14,
        "start_time": "2022-05-11T08:30:26.025Z"
      },
      {
        "duration": 11,
        "start_time": "2022-05-11T08:30:26.040Z"
      },
      {
        "duration": 8,
        "start_time": "2022-05-11T08:30:26.053Z"
      },
      {
        "duration": 1192,
        "start_time": "2022-05-11T08:30:26.064Z"
      },
      {
        "duration": 5,
        "start_time": "2022-05-11T08:30:27.258Z"
      },
      {
        "duration": 1157,
        "start_time": "2022-05-11T08:30:27.265Z"
      },
      {
        "duration": 5,
        "start_time": "2022-05-11T08:30:28.424Z"
      },
      {
        "duration": 1219,
        "start_time": "2022-05-11T08:30:28.431Z"
      },
      {
        "duration": 5,
        "start_time": "2022-05-11T08:30:29.652Z"
      },
      {
        "duration": 7,
        "start_time": "2022-05-11T08:30:29.658Z"
      },
      {
        "duration": 6,
        "start_time": "2022-05-11T08:30:29.667Z"
      },
      {
        "duration": 7,
        "start_time": "2022-05-11T08:30:29.674Z"
      },
      {
        "duration": 11,
        "start_time": "2022-05-11T08:57:06.802Z"
      },
      {
        "duration": 186,
        "start_time": "2022-05-11T08:57:13.666Z"
      },
      {
        "duration": 6,
        "start_time": "2022-05-11T08:57:27.528Z"
      },
      {
        "duration": 19,
        "start_time": "2022-05-11T08:57:29.993Z"
      },
      {
        "duration": 4,
        "start_time": "2022-05-11T08:57:48.571Z"
      },
      {
        "duration": 1614,
        "start_time": "2022-05-11T08:57:57.598Z"
      },
      {
        "duration": 7,
        "start_time": "2022-05-11T08:57:59.421Z"
      },
      {
        "duration": 3,
        "start_time": "2022-05-11T08:58:37.713Z"
      },
      {
        "duration": 1139,
        "start_time": "2022-05-11T08:58:37.719Z"
      },
      {
        "duration": 12,
        "start_time": "2022-05-11T08:58:38.861Z"
      },
      {
        "duration": 31,
        "start_time": "2022-05-11T08:58:38.875Z"
      },
      {
        "duration": 18,
        "start_time": "2022-05-11T08:58:38.909Z"
      },
      {
        "duration": 32,
        "start_time": "2022-05-11T08:58:38.930Z"
      },
      {
        "duration": 14,
        "start_time": "2022-05-11T08:58:38.965Z"
      },
      {
        "duration": 21,
        "start_time": "2022-05-11T08:58:38.980Z"
      },
      {
        "duration": 6,
        "start_time": "2022-05-11T08:58:39.031Z"
      },
      {
        "duration": 22,
        "start_time": "2022-05-11T08:58:39.039Z"
      },
      {
        "duration": 9,
        "start_time": "2022-05-11T08:58:39.065Z"
      },
      {
        "duration": 23,
        "start_time": "2022-05-11T08:58:39.076Z"
      },
      {
        "duration": 15,
        "start_time": "2022-05-11T08:58:39.101Z"
      },
      {
        "duration": 28,
        "start_time": "2022-05-11T08:58:39.118Z"
      },
      {
        "duration": 79,
        "start_time": "2022-05-11T08:58:39.148Z"
      },
      {
        "duration": 111,
        "start_time": "2022-05-11T08:58:39.230Z"
      },
      {
        "duration": 206,
        "start_time": "2022-05-11T08:58:39.344Z"
      },
      {
        "duration": 178,
        "start_time": "2022-05-11T08:58:39.553Z"
      },
      {
        "duration": 11,
        "start_time": "2022-05-11T08:58:39.732Z"
      },
      {
        "duration": 11,
        "start_time": "2022-05-11T08:58:39.745Z"
      },
      {
        "duration": 6,
        "start_time": "2022-05-11T08:58:39.758Z"
      },
      {
        "duration": 8,
        "start_time": "2022-05-11T08:58:39.767Z"
      },
      {
        "duration": 4,
        "start_time": "2022-05-11T08:58:39.778Z"
      },
      {
        "duration": 41,
        "start_time": "2022-05-11T08:58:39.784Z"
      },
      {
        "duration": 9,
        "start_time": "2022-05-11T08:58:39.827Z"
      },
      {
        "duration": 9,
        "start_time": "2022-05-11T08:58:39.840Z"
      },
      {
        "duration": 8,
        "start_time": "2022-05-11T08:58:39.851Z"
      },
      {
        "duration": 12,
        "start_time": "2022-05-11T08:58:39.861Z"
      },
      {
        "duration": 6,
        "start_time": "2022-05-11T08:58:39.878Z"
      },
      {
        "duration": 1545,
        "start_time": "2022-05-11T08:58:39.886Z"
      },
      {
        "duration": 9,
        "start_time": "2022-05-11T08:58:41.433Z"
      },
      {
        "duration": 1703,
        "start_time": "2022-05-11T08:58:41.447Z"
      },
      {
        "duration": 7,
        "start_time": "2022-05-11T08:58:43.153Z"
      },
      {
        "duration": 1334,
        "start_time": "2022-05-11T08:58:43.162Z"
      },
      {
        "duration": 6,
        "start_time": "2022-05-11T08:58:44.498Z"
      },
      {
        "duration": 5,
        "start_time": "2022-05-11T08:58:44.505Z"
      },
      {
        "duration": 5,
        "start_time": "2022-05-11T08:58:44.527Z"
      },
      {
        "duration": 12,
        "start_time": "2022-05-11T08:58:44.535Z"
      }
    ],
    "colab": {
      "collapsed_sections": [],
      "name": "ML_in_business.ipynb",
      "provenance": [],
      "include_colab_link": true
    },
    "kernelspec": {
      "display_name": "Python 3 (ipykernel)",
      "language": "python",
      "name": "python3"
    },
    "language_info": {
      "codemirror_mode": {
        "name": "ipython",
        "version": 3
      },
      "file_extension": ".py",
      "mimetype": "text/x-python",
      "name": "python",
      "nbconvert_exporter": "python",
      "pygments_lexer": "ipython3",
      "version": "3.9.7"
    },
    "toc": {
      "base_numbering": 1,
      "nav_menu": {},
      "number_sections": true,
      "sideBar": true,
      "skip_h1_title": true,
      "title_cell": "Table of Contents",
      "title_sidebar": "Contents",
      "toc_cell": false,
      "toc_position": {},
      "toc_section_display": true,
      "toc_window_display": false
    }
  },
  "nbformat": 4,
  "nbformat_minor": 0
}