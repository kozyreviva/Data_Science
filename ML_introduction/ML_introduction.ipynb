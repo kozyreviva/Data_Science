{
  "cells": [
    {
      "cell_type": "markdown",
      "metadata": {
        "id": "YhkOWGibgKje"
      },
      "source": [
        "# ВВЕДЕНИЕ В МАШИННОЕ ОБУЧЕНИЕ\n",
        "\n",
        "## Описание проекта\n",
        "\n",
        "Оператор мобильной связи «Мегалайн» хочет построить систему, способную проанализировать поведение клиентов и предложить пользователям новые тарифы: «Смарт» или «Ультра».\n",
        "\n",
        "В нашем распоряжении данные о поведении клиентов, которые уже перешли на эти тарифы. Нужно построить модель для задачи классификации, которая выберет подходящий тариф.\n",
        "\n",
        "Необходимо постройте модель с максимально большим значением accuracy. Нужно довести долю правильных ответов по крайней мере до 0.75.\n",
        "\n",
        "\n",
        "\n",
        "**План работы**\n",
        " * Открыть файл с данными и изучить его. Путь к файлу: datasets/users_behavior.csv. Скачать датасет.\n",
        " * Разделить исходные данные на обучающую, валидационную и тестовую выборки.\n",
        " * Исследовать качество разных моделей, меняя гиперпараметры. Кратко написать выводы исследования.\n",
        " * Проверить качество модели на тестовой выборке.\n",
        " * Дополнительное задание: проверить модель на вменяемость."
      ]
    },
    {
      "cell_type": "markdown",
      "metadata": {
        "id": "osVwKz4XsYlv"
      },
      "source": [
        "## Работа над проектом"
      ]
    },
    {
      "cell_type": "markdown",
      "metadata": {
        "id": "ZXS0R5Z5iMPv"
      },
      "source": [
        "Подключение библиотек."
      ]
    },
    {
      "cell_type": "code",
      "execution_count": null,
      "metadata": {
        "id": "iachnwH2iTu5"
      },
      "outputs": [],
      "source": [
        "#подключение библиотек\n",
        "import pandas as pd\n",
        "from sklearn.tree import DecisionTreeClassifier\n",
        "from sklearn.ensemble import RandomForestClassifier\n",
        "from sklearn.linear_model import LogisticRegression\n",
        "from sklearn.model_selection import train_test_split\n",
        "from sklearn.metrics import mean_squared_error\n",
        "from sklearn.metrics import accuracy_score\n",
        "import matplotlib.pyplot as plt\n",
        "import seaborn as sns\n",
        "import numpy as np"
      ]
    },
    {
      "cell_type": "markdown",
      "metadata": {
        "id": "B2WOLG__hmLY"
      },
      "source": [
        "### Открытие файла"
      ]
    },
    {
      "cell_type": "code",
      "execution_count": null,
      "metadata": {
        "id": "ptvIsrfSfuKA"
      },
      "outputs": [],
      "source": [
        "#датафрейм сохраняем в переменную\n",
        "try:\n",
        "  df = pd.read_csv(\"/datasets/users_behavior.csv\")\n",
        "except:\n",
        "  df = pd.read_csv(\"users_behavior.csv\")"
      ]
    },
    {
      "cell_type": "markdown",
      "metadata": {
        "id": "J2YW0Fpfj0xB"
      },
      "source": [
        "Просмотр датафрейма."
      ]
    },
    {
      "cell_type": "code",
      "execution_count": null,
      "metadata": {
        "colab": {
          "base_uri": "https://localhost:8080/",
          "height": 206
        },
        "id": "w47KL9rIjeZ_",
        "outputId": "45d07e75-830e-4def-b970-926d67d581a8"
      },
      "outputs": [
        {
          "data": {
            "text/html": [
              "<div>\n",
              "<style scoped>\n",
              "    .dataframe tbody tr th:only-of-type {\n",
              "        vertical-align: middle;\n",
              "    }\n",
              "\n",
              "    .dataframe tbody tr th {\n",
              "        vertical-align: top;\n",
              "    }\n",
              "\n",
              "    .dataframe thead th {\n",
              "        text-align: right;\n",
              "    }\n",
              "</style>\n",
              "<table border=\"1\" class=\"dataframe\">\n",
              "  <thead>\n",
              "    <tr style=\"text-align: right;\">\n",
              "      <th></th>\n",
              "      <th>calls</th>\n",
              "      <th>minutes</th>\n",
              "      <th>messages</th>\n",
              "      <th>mb_used</th>\n",
              "      <th>is_ultra</th>\n",
              "    </tr>\n",
              "  </thead>\n",
              "  <tbody>\n",
              "    <tr>\n",
              "      <th>0</th>\n",
              "      <td>40.0</td>\n",
              "      <td>311.90</td>\n",
              "      <td>83.0</td>\n",
              "      <td>19915.42</td>\n",
              "      <td>0</td>\n",
              "    </tr>\n",
              "    <tr>\n",
              "      <th>1</th>\n",
              "      <td>85.0</td>\n",
              "      <td>516.75</td>\n",
              "      <td>56.0</td>\n",
              "      <td>22696.96</td>\n",
              "      <td>0</td>\n",
              "    </tr>\n",
              "    <tr>\n",
              "      <th>2</th>\n",
              "      <td>77.0</td>\n",
              "      <td>467.66</td>\n",
              "      <td>86.0</td>\n",
              "      <td>21060.45</td>\n",
              "      <td>0</td>\n",
              "    </tr>\n",
              "    <tr>\n",
              "      <th>3</th>\n",
              "      <td>106.0</td>\n",
              "      <td>745.53</td>\n",
              "      <td>81.0</td>\n",
              "      <td>8437.39</td>\n",
              "      <td>1</td>\n",
              "    </tr>\n",
              "    <tr>\n",
              "      <th>4</th>\n",
              "      <td>66.0</td>\n",
              "      <td>418.74</td>\n",
              "      <td>1.0</td>\n",
              "      <td>14502.75</td>\n",
              "      <td>0</td>\n",
              "    </tr>\n",
              "  </tbody>\n",
              "</table>\n",
              "</div>"
            ],
            "text/plain": [
              "   calls  minutes  messages   mb_used  is_ultra\n",
              "0   40.0   311.90      83.0  19915.42         0\n",
              "1   85.0   516.75      56.0  22696.96         0\n",
              "2   77.0   467.66      86.0  21060.45         0\n",
              "3  106.0   745.53      81.0   8437.39         1\n",
              "4   66.0   418.74       1.0  14502.75         0"
            ]
          },
          "execution_count": 33,
          "metadata": {},
          "output_type": "execute_result"
        }
      ],
      "source": [
        "#вывод первых 5 строк датафрейма\n",
        "df.head()"
      ]
    },
    {
      "cell_type": "code",
      "execution_count": null,
      "metadata": {
        "colab": {
          "base_uri": "https://localhost:8080/"
        },
        "id": "8Jf36KRKzBIb",
        "outputId": "290cf5b0-3086-485b-e5e8-b3fe8c552569"
      },
      "outputs": [
        {
          "data": {
            "text/plain": [
              "calls       float64\n",
              "minutes     float64\n",
              "messages    float64\n",
              "mb_used     float64\n",
              "is_ultra      int64\n",
              "dtype: object"
            ]
          },
          "execution_count": 34,
          "metadata": {},
          "output_type": "execute_result"
        }
      ],
      "source": [
        "#типы данных в признаках\n",
        "df.dtypes"
      ]
    },
    {
      "cell_type": "markdown",
      "metadata": {
        "id": "v2WSll8xySIf"
      },
      "source": [
        "#### Вывод\n",
        "\n",
        "Из датафрейма видно что целевой признак относится к задаче классификации, соответственно модели будут подбираться соответствующие. В таблице 4  простых признака и 1 целевой признак. В каждом признаке содержится количественные данные."
      ]
    },
    {
      "cell_type": "markdown",
      "metadata": {
        "id": "lz7guY3ltLwd"
      },
      "source": [
        "### Построение прогноза"
      ]
    },
    {
      "cell_type": "markdown",
      "metadata": {
        "id": "Lj8l2bs2jXvT"
      },
      "source": [
        "Для построения обучающих моделей необходимо разделить датафрейм на признаки и целевой признак. \n",
        "Но перед этим обратим внимание на мультиколлерантность признаков.  \n",
        "Для этого построим тепловую карту корреляции для датафрейма чтобы определить зависимые признаки.\n",
        "Сразу определим допустимую корреляцию в 0.6."
      ]
    },
    {
      "cell_type": "code",
      "execution_count": null,
      "metadata": {
        "scrolled": true,
        "id": "6FVSv-10P52L",
        "outputId": "460d28b1-f316-4d9a-a27f-b468f594b8f0"
      },
      "outputs": [
        {
          "data": {
            "image/png": "[encoded data removed]",
            "text/plain": [
              "<Figure size 432x288 with 2 Axes>"
            ]
          },
          "metadata": {
            "needs_background": "light"
          },
          "output_type": "display_data"
        }
      ],
      "source": [
        "#выделим значения для сокрытия их в тепловой карте\n",
        "upp_mat = np.triu(df.corr())\n",
        "#построение тепловой карты корреляции признаков\n",
        "sns.heatmap(df.corr(),vmin = -1, vmax = +1, annot = True, cmap = 'coolwarm', mask = upp_mat)\n",
        "plt.title(\"Корреляция признаков\")\n",
        "plt.show()"
      ]
    },
    {
      "cell_type": "markdown",
      "metadata": {
        "id": "y_z5Yv2_P52M"
      },
      "source": [
        "Из тепловой карты видно что минуты и звонки превышают значимое значение зависимости.\n",
        "\n",
        "Построим диаграмму рассеяния для няглядности."
      ]
    },
    {
      "cell_type": "code",
      "execution_count": null,
      "metadata": {
        "scrolled": true,
        "id": "zTFvXEZxP52M",
        "outputId": "d7027894-6d3c-4cc2-e963-075e65da4c6e"
      },
      "outputs": [
        {
          "data": {
            "image/png": "[encoded data removed]",
            "text/plain": [
              "<Figure size 432x288 with 1 Axes>"
            ]
          },
          "metadata": {
            "needs_background": "light"
          },
          "output_type": "display_data"
        }
      ],
      "source": [
        "#диаграмма рассеяния\n",
        "sns.regplot(data = df, x = \"calls\", \n",
        "            y = \"minutes\", \n",
        "            ci = None,\n",
        "            line_kws={\"color\": \"red\"})\n",
        "plt.title(\"Диаграмма рассеяния для звонков и минут\")\n",
        "plt.show()"
      ]
    },
    {
      "cell_type": "markdown",
      "metadata": {
        "id": "73Iu4o6BP52M"
      },
      "source": [
        "На диаграмме видна явная положительная зависимость, это говорит мультиколлинеарности.  \n",
        "Для того чтобы исключить мультиколлинеарность удалим один из признаков и построим модель без него."
      ]
    },
    {
      "cell_type": "code",
      "execution_count": null,
      "metadata": {
        "id": "bqzXY2Md7FDr"
      },
      "outputs": [],
      "source": [
        "#сохранение признаков\n",
        "features = df.drop([\"is_ultra\",\"calls\"], axis = 1)\n",
        "target = df[\"is_ultra\"]"
      ]
    },
    {
      "cell_type": "markdown",
      "metadata": {
        "id": "fWSTDYGe8wek"
      },
      "source": [
        "Для обучения моделей разделим поделим признаки на 3 части. \n",
        "\n",
        "* Тренировочную - для обучения модели\n",
        "* Валидационную - для проверки подели\n",
        "* Тестовую - для оценки готовой модели\n",
        "\n",
        "Т.к. мы пользуемся одним набором данных, то поделим признаки сначало в соотношении 80/20/20"
      ]
    },
    {
      "cell_type": "code",
      "execution_count": null,
      "metadata": {
        "id": "Ji5N7vrk8xGk"
      },
      "outputs": [],
      "source": [
        "#деление на тренировочную и тестовую выборки\n",
        "features_train, features_test, target_train, target_test = train_test_split(features,\n",
        "                                                                            target,\n",
        "                                                                            random_state = 12345,\n",
        "                                                                            test_size = 0.4)"
      ]
    },
    {
      "cell_type": "markdown",
      "metadata": {
        "id": "7DryTDux9nF4"
      },
      "source": [
        "Поделим тестовую выборку пополам."
      ]
    },
    {
      "cell_type": "code",
      "execution_count": null,
      "metadata": {
        "id": "Dga0cFfr9nqz"
      },
      "outputs": [],
      "source": [
        "#деление не тестовую и валидационную выборки\n",
        "features_test, features_valid, target_test, target_valid = train_test_split(features_test, \n",
        "                                                                            target_test,\n",
        "                                                                            random_state = 12345,\n",
        "                                                                            test_size = 0.5)"
      ]
    },
    {
      "cell_type": "markdown",
      "metadata": {
        "id": "CMtZ37txP52P"
      },
      "source": [
        "Проверим соотношение объектов в каждой из выборок."
      ]
    },
    {
      "cell_type": "code",
      "execution_count": null,
      "metadata": {
        "id": "-N9PxM2hP52P",
        "outputId": "0b413385-ca71-43e3-a4e9-7b0a81219d53"
      },
      "outputs": [
        {
          "name": "stdout",
          "output_type": "stream",
          "text": [
            "(1928, 3)\n",
            "(643, 3)\n",
            "(643, 3)\n"
          ]
        }
      ],
      "source": [
        "print(features_train.shape)\n",
        "print(features_valid.shape)\n",
        "print(features_test.shape)"
      ]
    },
    {
      "cell_type": "markdown",
      "metadata": {
        "id": "SF0HFit1P52P"
      },
      "source": [
        "Выборки разделились хорошо."
      ]
    },
    {
      "cell_type": "markdown",
      "metadata": {
        "id": "5o8_oGZs-mBV"
      },
      "source": [
        "Подберем наилучшую модель для более точного прогноза.\n",
        "Чтобы оценить качество модели для задач классификации будет пользоваться  метрикой accuracy_score.\n",
        "\n",
        "\n",
        "Дерево решений.\n",
        "Зададим гиперпараметры. Для псевдослучайности random_state зададим 12345. Глубину дерева max_depth подберем в цикле для того чтобы избежать недообучения и переобучения. Выведем наилучшую точность и гиперпараметр."
      ]
    },
    {
      "cell_type": "code",
      "execution_count": null,
      "metadata": {
        "colab": {
          "base_uri": "https://localhost:8080/"
        },
        "id": "MWfcZOQH-38d",
        "outputId": "dc16875f-bd1d-4e08-d167-a882b3eba5b3"
      },
      "outputs": [
        {
          "name": "stdout",
          "output_type": "stream",
          "text": [
            "0.7962674961119751\n",
            "7\n"
          ]
        }
      ],
      "source": [
        "#нахождение наилучших параметров для дерева решений\n",
        "best_tree_depht = 0\n",
        "best_accuracy = 0\n",
        "\n",
        "\n",
        "for depth in range(1,11):\n",
        "        model = DecisionTreeClassifier(random_state = 12345,max_depth = depth)\n",
        "        model.fit(features_train, target_train)\n",
        "        predictions = model.predict(features_valid)\n",
        "        accuracy = accuracy_score(target_valid, predictions)\n",
        "        if accuracy > best_accuracy:\n",
        "            best_accuracy = accuracy \n",
        "            best_tree_depth = depth\n",
        "            best_model = model\n",
        "\n",
        "\n",
        "print(best_accuracy)\n",
        "print(best_tree_depth)\n",
        "\n"
      ]
    },
    {
      "cell_type": "code",
      "execution_count": null,
      "metadata": {
        "id": "KqOsPHUgP52Q"
      },
      "outputs": [],
      "source": []
    },
    {
      "cell_type": "markdown",
      "metadata": {
        "id": "vhDBqXNRW4Ne"
      },
      "source": [
        "Случайный лес.\n",
        "Зададим гиперпараметры. Для псевдослучайности random_state зададим 12345. Глубину дерева max_depth подберем в цикле от 1 до 10. Количество деревьев подберем в цикле с шагом 10. Выведем наилучшую точность и гиперпараметры."
      ]
    },
    {
      "cell_type": "code",
      "execution_count": null,
      "metadata": {
        "colab": {
          "base_uri": "https://localhost:8080/"
        },
        "id": "ob3nQXnlXl32",
        "outputId": "9e8d5318-c1a6-4d29-a439-88d4b00fb65d"
      },
      "outputs": [
        {
          "name": "stdout",
          "output_type": "stream",
          "text": [
            "0.8087091757387247\n",
            "8\n",
            "10\n"
          ]
        }
      ],
      "source": [
        "#нахождение наилучших параметров для случайного леса\n",
        "best_forest_depht = 0\n",
        "best_nest = 0\n",
        "best_accuracy = 0\n",
        "\n",
        "\n",
        "for est in range(10, 51, 5):\n",
        "    for depth in range(1,11):\n",
        "        model = RandomForestClassifier(random_state = 12345,n_estimators = est, max_depth = depth)\n",
        "        model.fit(features_train, target_train)\n",
        "        predictions = model.predict(features_valid)\n",
        "        accuracy = accuracy_score(target_valid,predictions)\n",
        "        if accuracy>best_accuracy:\n",
        "            best_accuracy =accuracy\n",
        "            best_forest_depth = depth\n",
        "            best_nest = est\n",
        "\n",
        "\n",
        "print(best_accuracy)\n",
        "print(best_forest_depth)\n",
        "print(best_nest)\n"
      ]
    },
    {
      "cell_type": "markdown",
      "metadata": {
        "id": "gz4MPmPqXGNS"
      },
      "source": [
        "Логистическая регрессия.\n",
        "\n",
        "Выведем точность модели."
      ]
    },
    {
      "cell_type": "code",
      "execution_count": null,
      "metadata": {
        "colab": {
          "base_uri": "https://localhost:8080/"
        },
        "id": "72dmLyroY4Ng",
        "outputId": "507673b4-09d2-4451-8972-2af7b018ee87"
      },
      "outputs": [
        {
          "name": "stdout",
          "output_type": "stream",
          "text": [
            "0.6982892690513219\n"
          ]
        }
      ],
      "source": [
        "# подсчет точноси для логистической регрессии\n",
        "model = LogisticRegression(random_state = 12345)\n",
        "model.fit(features_train, target_train)\n",
        "predictions = model.predict(features_valid)\n",
        "accuracy = accuracy_score(target_valid,predictions)\n",
        "        \n",
        "print(accuracy)\n",
        "\n"
      ]
    },
    {
      "cell_type": "markdown",
      "metadata": {
        "id": "-tz40UkZXLVU"
      },
      "source": [
        "#### Выводы\n",
        "\n",
        "Как видим,  модель \"Случайный лес\" показала наибольшую точность в 80%. Количество деревьев 10 и глубина 8, такие гиперараметры дали наилучший результат. Логистическая регрессия показала худший результат.\n",
        "\n",
        "Оценим готовую модель случайного леса на тестовой выборке."
      ]
    },
    {
      "cell_type": "code",
      "execution_count": null,
      "metadata": {
        "colab": {
          "base_uri": "https://localhost:8080/"
        },
        "id": "zvosSE9PRnAs",
        "outputId": "4c51fec7-40dd-4079-914c-65870277521b"
      },
      "outputs": [
        {
          "name": "stdout",
          "output_type": "stream",
          "text": [
            "0.7869362363919129\n"
          ]
        }
      ],
      "source": [
        "model = RandomForestClassifier(random_state = 12345, n_estimators = 10, max_depth = 9)\n",
        "model.fit(features_train,target_train)\n",
        "predictions = model.predict(features_test)\n",
        "\n",
        "print(accuracy_score(target_test,predictions))"
      ]
    },
    {
      "cell_type": "markdown",
      "metadata": {
        "id": "tWl2PjiICnQk"
      },
      "source": [
        "Из результатов видно что доля правильных ответов при сравнении выборок составляет 78%. Это почти 8 из 10 правильных ответов.\n"
      ]
    }
  ],
  "metadata": {
    "ExecuteTimeLog": [
      {
        "duration": 2579,
        "start_time": "2022-04-20T13:48:23.694Z"
      },
      {
        "duration": 29,
        "start_time": "2022-04-20T13:48:26.275Z"
      },
      {
        "duration": 21,
        "start_time": "2022-04-20T13:48:26.315Z"
      },
      {
        "duration": 5,
        "start_time": "2022-04-20T13:48:26.720Z"
      },
      {
        "duration": 5,
        "start_time": "2022-04-20T13:48:28.484Z"
      },
      {
        "duration": 5,
        "start_time": "2022-04-20T13:48:56.665Z"
      },
      {
        "duration": 7,
        "start_time": "2022-04-20T13:48:57.650Z"
      },
      {
        "duration": 5,
        "start_time": "2022-04-20T13:48:58.047Z"
      },
      {
        "duration": 80,
        "start_time": "2022-04-20T13:49:23.465Z"
      },
      {
        "duration": 7534,
        "start_time": "2022-04-20T13:50:06.556Z"
      },
      {
        "duration": 27,
        "start_time": "2022-04-20T13:50:14.092Z"
      },
      {
        "duration": 53,
        "start_time": "2022-04-20T13:50:35.147Z"
      },
      {
        "duration": 1557,
        "start_time": "2022-04-21T06:39:56.351Z"
      },
      {
        "duration": 13,
        "start_time": "2022-04-21T06:39:58.543Z"
      },
      {
        "duration": 2,
        "start_time": "2022-04-21T06:41:16.004Z"
      },
      {
        "duration": 259,
        "start_time": "2022-04-21T06:43:02.176Z"
      },
      {
        "duration": 4,
        "start_time": "2022-04-21T06:43:12.464Z"
      },
      {
        "duration": 16,
        "start_time": "2022-04-21T06:43:12.470Z"
      },
      {
        "duration": 16,
        "start_time": "2022-04-21T06:43:12.488Z"
      },
      {
        "duration": 6,
        "start_time": "2022-04-21T06:43:12.505Z"
      },
      {
        "duration": 32,
        "start_time": "2022-04-21T06:43:29.356Z"
      },
      {
        "duration": 146,
        "start_time": "2022-04-21T06:44:33.204Z"
      },
      {
        "duration": 12,
        "start_time": "2022-04-21T06:45:29.684Z"
      },
      {
        "duration": 33,
        "start_time": "2022-04-21T06:45:39.395Z"
      },
      {
        "duration": 88,
        "start_time": "2022-04-21T06:48:09.064Z"
      },
      {
        "duration": 31,
        "start_time": "2022-04-21T06:48:25.425Z"
      },
      {
        "duration": 34,
        "start_time": "2022-04-21T06:53:00.108Z"
      },
      {
        "duration": 12,
        "start_time": "2022-04-21T06:54:38.948Z"
      },
      {
        "duration": 478,
        "start_time": "2022-04-21T06:54:47.727Z"
      },
      {
        "duration": 307,
        "start_time": "2022-04-21T06:55:02.216Z"
      },
      {
        "duration": 282,
        "start_time": "2022-04-21T06:55:34.928Z"
      },
      {
        "duration": 331,
        "start_time": "2022-04-21T06:56:16.255Z"
      },
      {
        "duration": 294,
        "start_time": "2022-04-21T06:56:37.825Z"
      },
      {
        "duration": 383,
        "start_time": "2022-04-21T06:56:55.647Z"
      },
      {
        "duration": 324,
        "start_time": "2022-04-21T06:59:24.041Z"
      },
      {
        "duration": 329,
        "start_time": "2022-04-21T07:04:11.596Z"
      },
      {
        "duration": 4,
        "start_time": "2022-04-21T07:06:46.552Z"
      },
      {
        "duration": 57,
        "start_time": "2022-04-21T07:11:42.305Z"
      },
      {
        "duration": 61,
        "start_time": "2022-04-21T07:11:47.970Z"
      },
      {
        "duration": 3,
        "start_time": "2022-04-21T07:12:18.884Z"
      },
      {
        "duration": 19,
        "start_time": "2022-04-21T07:12:49.635Z"
      },
      {
        "duration": 18,
        "start_time": "2022-04-21T07:13:18.422Z"
      },
      {
        "duration": 16,
        "start_time": "2022-04-21T07:13:38.900Z"
      },
      {
        "duration": 21,
        "start_time": "2022-04-21T07:14:01.266Z"
      },
      {
        "duration": 16,
        "start_time": "2022-04-21T07:16:55.472Z"
      },
      {
        "duration": 114,
        "start_time": "2022-04-21T07:18:57.119Z"
      },
      {
        "duration": 152,
        "start_time": "2022-04-21T07:19:26.556Z"
      },
      {
        "duration": 152,
        "start_time": "2022-04-21T07:20:08.467Z"
      },
      {
        "duration": 4,
        "start_time": "2022-04-21T07:20:47.893Z"
      },
      {
        "duration": 5,
        "start_time": "2022-04-21T07:20:50.264Z"
      },
      {
        "duration": 5,
        "start_time": "2022-04-21T07:20:53.025Z"
      },
      {
        "duration": 63,
        "start_time": "2022-04-21T07:20:56.205Z"
      },
      {
        "duration": 5469,
        "start_time": "2022-04-21T07:21:00.899Z"
      },
      {
        "duration": 19,
        "start_time": "2022-04-21T07:21:09.993Z"
      },
      {
        "duration": 4,
        "start_time": "2022-04-21T07:21:36.316Z"
      },
      {
        "duration": 5,
        "start_time": "2022-04-21T07:21:38.664Z"
      },
      {
        "duration": 5,
        "start_time": "2022-04-21T07:21:40.876Z"
      },
      {
        "duration": 58,
        "start_time": "2022-04-21T07:21:44.409Z"
      },
      {
        "duration": 5223,
        "start_time": "2022-04-21T07:21:49.266Z"
      },
      {
        "duration": 18,
        "start_time": "2022-04-21T07:21:59.468Z"
      },
      {
        "duration": 30,
        "start_time": "2022-04-21T07:22:35.825Z"
      },
      {
        "duration": 3,
        "start_time": "2022-04-21T07:22:46.837Z"
      },
      {
        "duration": 5,
        "start_time": "2022-04-21T07:22:48.593Z"
      },
      {
        "duration": 6,
        "start_time": "2022-04-21T07:22:50.854Z"
      },
      {
        "duration": 65,
        "start_time": "2022-04-21T07:22:53.165Z"
      },
      {
        "duration": 4,
        "start_time": "2022-04-21T07:31:59.188Z"
      },
      {
        "duration": 7,
        "start_time": "2022-04-21T07:32:01.752Z"
      },
      {
        "duration": 6,
        "start_time": "2022-04-21T07:32:04.101Z"
      },
      {
        "duration": 63,
        "start_time": "2022-04-21T07:32:06.421Z"
      },
      {
        "duration": 5899,
        "start_time": "2022-04-21T07:32:10.704Z"
      },
      {
        "duration": 18,
        "start_time": "2022-04-21T07:32:21.610Z"
      },
      {
        "duration": 34,
        "start_time": "2022-04-21T07:32:29.060Z"
      },
      {
        "duration": 162,
        "start_time": "2022-04-21T07:37:47.596Z"
      },
      {
        "duration": 13,
        "start_time": "2022-04-21T07:38:05.576Z"
      },
      {
        "duration": 12,
        "start_time": "2022-04-21T07:40:05.461Z"
      },
      {
        "duration": 162,
        "start_time": "2022-04-21T07:40:21.880Z"
      },
      {
        "duration": 14,
        "start_time": "2022-04-21T07:46:38.460Z"
      },
      {
        "duration": 4,
        "start_time": "2022-04-21T07:47:00.121Z"
      },
      {
        "duration": 1662,
        "start_time": "2022-04-21T14:32:49.161Z"
      },
      {
        "duration": 15,
        "start_time": "2022-04-21T14:32:50.825Z"
      },
      {
        "duration": 13,
        "start_time": "2022-04-21T14:32:50.842Z"
      },
      {
        "duration": 4,
        "start_time": "2022-04-21T14:32:50.857Z"
      },
      {
        "duration": 372,
        "start_time": "2022-04-21T14:32:50.874Z"
      },
      {
        "duration": 145,
        "start_time": "2022-04-21T14:32:51.248Z"
      },
      {
        "duration": 117,
        "start_time": "2022-04-21T14:32:54.064Z"
      },
      {
        "duration": 4,
        "start_time": "2022-04-21T14:33:03.684Z"
      },
      {
        "duration": 14,
        "start_time": "2022-04-21T14:33:04.963Z"
      },
      {
        "duration": 11,
        "start_time": "2022-04-21T14:33:06.283Z"
      },
      {
        "duration": 6,
        "start_time": "2022-04-21T14:33:07.723Z"
      },
      {
        "duration": 329,
        "start_time": "2022-04-21T14:33:10.844Z"
      },
      {
        "duration": 217,
        "start_time": "2022-04-21T14:33:12.426Z"
      },
      {
        "duration": 146,
        "start_time": "2022-04-21T14:33:17.313Z"
      },
      {
        "duration": 4,
        "start_time": "2022-04-21T14:33:21.865Z"
      },
      {
        "duration": 5,
        "start_time": "2022-04-21T14:33:24.263Z"
      },
      {
        "duration": 5,
        "start_time": "2022-04-21T14:33:26.185Z"
      },
      {
        "duration": 3,
        "start_time": "2022-04-21T14:33:28.657Z"
      },
      {
        "duration": 62,
        "start_time": "2022-04-21T14:33:34.676Z"
      },
      {
        "duration": 6270,
        "start_time": "2022-04-21T14:33:38.469Z"
      },
      {
        "duration": 37,
        "start_time": "2022-04-21T14:33:49.777Z"
      },
      {
        "duration": 41,
        "start_time": "2022-04-21T14:33:56.465Z"
      },
      {
        "duration": 5,
        "start_time": "2022-04-21T14:34:14.984Z"
      },
      {
        "duration": 4,
        "start_time": "2022-04-21T14:34:18.488Z"
      },
      {
        "duration": 16,
        "start_time": "2022-04-21T14:34:18.494Z"
      },
      {
        "duration": 9,
        "start_time": "2022-04-21T14:34:18.512Z"
      },
      {
        "duration": 8,
        "start_time": "2022-04-21T14:34:18.522Z"
      },
      {
        "duration": 352,
        "start_time": "2022-04-21T14:34:18.532Z"
      },
      {
        "duration": 145,
        "start_time": "2022-04-21T14:34:18.886Z"
      },
      {
        "duration": 4,
        "start_time": "2022-04-21T14:34:19.033Z"
      },
      {
        "duration": 3,
        "start_time": "2022-04-21T14:34:26.802Z"
      },
      {
        "duration": 18,
        "start_time": "2022-04-21T14:34:26.807Z"
      },
      {
        "duration": 9,
        "start_time": "2022-04-21T14:34:26.827Z"
      },
      {
        "duration": 7,
        "start_time": "2022-04-21T14:34:26.838Z"
      },
      {
        "duration": 339,
        "start_time": "2022-04-21T14:34:26.847Z"
      },
      {
        "duration": 143,
        "start_time": "2022-04-21T14:34:27.188Z"
      },
      {
        "duration": 5,
        "start_time": "2022-04-21T14:34:27.333Z"
      },
      {
        "duration": 10,
        "start_time": "2022-04-21T14:34:27.340Z"
      },
      {
        "duration": 7,
        "start_time": "2022-04-21T14:34:27.352Z"
      },
      {
        "duration": 4,
        "start_time": "2022-04-21T14:34:27.373Z"
      },
      {
        "duration": 64,
        "start_time": "2022-04-21T14:34:27.379Z"
      },
      {
        "duration": 5328,
        "start_time": "2022-04-21T14:34:27.446Z"
      },
      {
        "duration": 19,
        "start_time": "2022-04-21T14:34:32.777Z"
      },
      {
        "duration": 35,
        "start_time": "2022-04-21T14:34:32.798Z"
      }
    ],
    "colab": {
      "collapsed_sections": [],
      "provenance": []
    },
    "kernelspec": {
      "display_name": "Python 3 (ipykernel)",
      "language": "python",
      "name": "python3"
    },
    "language_info": {
      "codemirror_mode": {
        "name": "ipython",
        "version": 3
      },
      "file_extension": ".py",
      "mimetype": "text/x-python",
      "name": "python",
      "nbconvert_exporter": "python",
      "pygments_lexer": "ipython3",
      "version": "3.9.7"
    },
    "toc": {
      "base_numbering": 1,
      "nav_menu": {},
      "number_sections": true,
      "sideBar": true,
      "skip_h1_title": true,
      "title_cell": "Table of Contents",
      "title_sidebar": "Contents",
      "toc_cell": false,
      "toc_position": {},
      "toc_section_display": true,
      "toc_window_display": false
    }
  },
  "nbformat": 4,
  "nbformat_minor": 0
}