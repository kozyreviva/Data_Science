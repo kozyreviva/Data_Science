{
  "cells": [
    {
      "cell_type": "markdown",
      "metadata": {
        "id": "UhqlNjMDgiaN"
      },
      "source": [
        "# Определение стоимости автомобилей"
      ]
    },
    {
      "cell_type": "markdown",
      "metadata": {
        "id": "ZHwK_NDVgiaO"
      },
      "source": [
        "Сервис по продаже автомобилей с пробегом «Не бит, не крашен» разрабатывает приложение для привлечения новых клиентов. В нём можно быстро узнать рыночную стоимость своего автомобиля. В вашем распоряжении исторические данные: технические характеристики, комплектации и цены автомобилей. Вам нужно построить модель для определения стоимости. \n",
        "\n",
        "Заказчику важны:\n",
        "\n",
        "- качество предсказания;\n",
        "- скорость предсказания;\n",
        "- время обучения."
      ]
    },
    {
      "cell_type": "markdown",
      "metadata": {
        "id": "nEjlt-57giaQ"
      },
      "source": [
        "## Подготовка данных"
      ]
    },
    {
      "cell_type": "markdown",
      "metadata": {
        "id": "ITZJlbWUgiaQ"
      },
      "source": [
        "Загрузим необходимые библиотеки."
      ]
    },
    {
      "cell_type": "code",
      "execution_count": 8,
      "metadata": {
        "id": "68LPXn-8giaS"
      },
      "outputs": [],
      "source": [
        "#загрузка библиотек\n",
        "import pandas as pd\n",
        "import numpy as np\n",
        "from math import sqrt\n",
        "import seaborn as sns\n",
        "import matplotlib.pyplot as plt\n",
        "from sklearn.preprocessing import OrdinalEncoder\n",
        "from sklearn.model_selection import train_test_split\n",
        "from sklearn.tree import DecisionTreeRegressor\n",
        "from sklearn.ensemble import RandomForestRegressor\n",
        "from sklearn.linear_model import LinearRegression\n",
        "from lightgbm import LGBMRegressor\n",
        "from sklearn.model_selection import GridSearchCV\n",
        "from sklearn.model_selection import cross_val_score\n",
        "from sklearn.metrics import mean_squared_error"
      ]
    },
    {
      "cell_type": "markdown",
      "metadata": {
        "id": "LQBTwT_sgiaU"
      },
      "source": [
        "Сохраним датафрейм в переменную."
      ]
    },
    {
      "cell_type": "code",
      "execution_count": 9,
      "metadata": {
        "id": "WsltMpdygiaW"
      },
      "outputs": [],
      "source": [
        "#загрузка датафрейма\n",
        "try:\n",
        "    df = pd.read_csv(\"/datasets/autos.csv\")\n",
        "except:\n",
        "    df = pd.read_csv(\"autos.csv\")\n"
      ]
    },
    {
      "cell_type": "markdown",
      "metadata": {
        "id": "5LpQDYWbgiaW"
      },
      "source": [
        "Проверим содержание датафрейма"
      ]
    },
    {
      "cell_type": "code",
      "execution_count": 10,
      "metadata": {
        "scrolled": false,
        "id": "pnzqNfzIgiaX",
        "outputId": "6e03481f-bb25-4565-ceb0-ede97061077d",
        "colab": {
          "base_uri": "https://localhost:8080/",
          "height": 774
        }
      },
      "outputs": [
        {
          "output_type": "execute_result",
          "data": {
            "text/plain": [
              "           DateCrawled  Price  VehicleType  RegistrationYear Gearbox  Power  \\\n",
              "0  2016-03-24 11:52:17    480          NaN              1993  manual      0   \n",
              "1  2016-03-24 10:58:45  18300        coupe              2011  manual    190   \n",
              "2  2016-03-14 12:52:21   9800          suv              2004    auto    163   \n",
              "3  2016-03-17 16:54:04   1500        small              2001  manual     75   \n",
              "4  2016-03-31 17:25:20   3600        small              2008  manual     69   \n",
              "5  2016-04-04 17:36:23    650        sedan              1995  manual    102   \n",
              "6  2016-04-01 20:48:51   2200  convertible              2004  manual    109   \n",
              "7  2016-03-21 18:54:38      0        sedan              1980  manual     50   \n",
              "8  2016-04-04 23:42:13  14500          bus              2014  manual    125   \n",
              "9  2016-03-17 10:53:50    999        small              1998  manual    101   \n",
              "\n",
              "     Model  Kilometer  RegistrationMonth  FuelType       Brand NotRepaired  \\\n",
              "0     golf     150000                  0    petrol  volkswagen         NaN   \n",
              "1      NaN     125000                  5  gasoline        audi         yes   \n",
              "2    grand     125000                  8  gasoline        jeep         NaN   \n",
              "3     golf     150000                  6    petrol  volkswagen          no   \n",
              "4    fabia      90000                  7  gasoline       skoda          no   \n",
              "5      3er     150000                 10    petrol         bmw         yes   \n",
              "6  2_reihe     150000                  8    petrol     peugeot          no   \n",
              "7    other      40000                  7    petrol  volkswagen          no   \n",
              "8    c_max      30000                  8    petrol        ford         NaN   \n",
              "9     golf     150000                  0       NaN  volkswagen         NaN   \n",
              "\n",
              "           DateCreated  NumberOfPictures  PostalCode             LastSeen  \n",
              "0  2016-03-24 00:00:00                 0       70435  2016-04-07 03:16:57  \n",
              "1  2016-03-24 00:00:00                 0       66954  2016-04-07 01:46:50  \n",
              "2  2016-03-14 00:00:00                 0       90480  2016-04-05 12:47:46  \n",
              "3  2016-03-17 00:00:00                 0       91074  2016-03-17 17:40:17  \n",
              "4  2016-03-31 00:00:00                 0       60437  2016-04-06 10:17:21  \n",
              "5  2016-04-04 00:00:00                 0       33775  2016-04-06 19:17:07  \n",
              "6  2016-04-01 00:00:00                 0       67112  2016-04-05 18:18:39  \n",
              "7  2016-03-21 00:00:00                 0       19348  2016-03-25 16:47:58  \n",
              "8  2016-04-04 00:00:00                 0       94505  2016-04-04 23:42:13  \n",
              "9  2016-03-17 00:00:00                 0       27472  2016-03-31 17:17:06  "
            ],
            "text/html": [
              "\n",
              "  <div id=\"df-52d71eea-356e-48e7-9ed5-33330a30944d\">\n",
              "    <div class=\"colab-df-container\">\n",
              "      <div>\n",
              "<style scoped>\n",
              "    .dataframe tbody tr th:only-of-type {\n",
              "        vertical-align: middle;\n",
              "    }\n",
              "\n",
              "    .dataframe tbody tr th {\n",
              "        vertical-align: top;\n",
              "    }\n",
              "\n",
              "    .dataframe thead th {\n",
              "        text-align: right;\n",
              "    }\n",
              "</style>\n",
              "<table border=\"1\" class=\"dataframe\">\n",
              "  <thead>\n",
              "    <tr style=\"text-align: right;\">\n",
              "      <th></th>\n",
              "      <th>DateCrawled</th>\n",
              "      <th>Price</th>\n",
              "      <th>VehicleType</th>\n",
              "      <th>RegistrationYear</th>\n",
              "      <th>Gearbox</th>\n",
              "      <th>Power</th>\n",
              "      <th>Model</th>\n",
              "      <th>Kilometer</th>\n",
              "      <th>RegistrationMonth</th>\n",
              "      <th>FuelType</th>\n",
              "      <th>Brand</th>\n",
              "      <th>NotRepaired</th>\n",
              "      <th>DateCreated</th>\n",
              "      <th>NumberOfPictures</th>\n",
              "      <th>PostalCode</th>\n",
              "      <th>LastSeen</th>\n",
              "    </tr>\n",
              "  </thead>\n",
              "  <tbody>\n",
              "    <tr>\n",
              "      <th>0</th>\n",
              "      <td>2016-03-24 11:52:17</td>\n",
              "      <td>480</td>\n",
              "      <td>NaN</td>\n",
              "      <td>1993</td>\n",
              "      <td>manual</td>\n",
              "      <td>0</td>\n",
              "      <td>golf</td>\n",
              "      <td>150000</td>\n",
              "      <td>0</td>\n",
              "      <td>petrol</td>\n",
              "      <td>volkswagen</td>\n",
              "      <td>NaN</td>\n",
              "      <td>2016-03-24 00:00:00</td>\n",
              "      <td>0</td>\n",
              "      <td>70435</td>\n",
              "      <td>2016-04-07 03:16:57</td>\n",
              "    </tr>\n",
              "    <tr>\n",
              "      <th>1</th>\n",
              "      <td>2016-03-24 10:58:45</td>\n",
              "      <td>18300</td>\n",
              "      <td>coupe</td>\n",
              "      <td>2011</td>\n",
              "      <td>manual</td>\n",
              "      <td>190</td>\n",
              "      <td>NaN</td>\n",
              "      <td>125000</td>\n",
              "      <td>5</td>\n",
              "      <td>gasoline</td>\n",
              "      <td>audi</td>\n",
              "      <td>yes</td>\n",
              "      <td>2016-03-24 00:00:00</td>\n",
              "      <td>0</td>\n",
              "      <td>66954</td>\n",
              "      <td>2016-04-07 01:46:50</td>\n",
              "    </tr>\n",
              "    <tr>\n",
              "      <th>2</th>\n",
              "      <td>2016-03-14 12:52:21</td>\n",
              "      <td>9800</td>\n",
              "      <td>suv</td>\n",
              "      <td>2004</td>\n",
              "      <td>auto</td>\n",
              "      <td>163</td>\n",
              "      <td>grand</td>\n",
              "      <td>125000</td>\n",
              "      <td>8</td>\n",
              "      <td>gasoline</td>\n",
              "      <td>jeep</td>\n",
              "      <td>NaN</td>\n",
              "      <td>2016-03-14 00:00:00</td>\n",
              "      <td>0</td>\n",
              "      <td>90480</td>\n",
              "      <td>2016-04-05 12:47:46</td>\n",
              "    </tr>\n",
              "    <tr>\n",
              "      <th>3</th>\n",
              "      <td>2016-03-17 16:54:04</td>\n",
              "      <td>1500</td>\n",
              "      <td>small</td>\n",
              "      <td>2001</td>\n",
              "      <td>manual</td>\n",
              "      <td>75</td>\n",
              "      <td>golf</td>\n",
              "      <td>150000</td>\n",
              "      <td>6</td>\n",
              "      <td>petrol</td>\n",
              "      <td>volkswagen</td>\n",
              "      <td>no</td>\n",
              "      <td>2016-03-17 00:00:00</td>\n",
              "      <td>0</td>\n",
              "      <td>91074</td>\n",
              "      <td>2016-03-17 17:40:17</td>\n",
              "    </tr>\n",
              "    <tr>\n",
              "      <th>4</th>\n",
              "      <td>2016-03-31 17:25:20</td>\n",
              "      <td>3600</td>\n",
              "      <td>small</td>\n",
              "      <td>2008</td>\n",
              "      <td>manual</td>\n",
              "      <td>69</td>\n",
              "      <td>fabia</td>\n",
              "      <td>90000</td>\n",
              "      <td>7</td>\n",
              "      <td>gasoline</td>\n",
              "      <td>skoda</td>\n",
              "      <td>no</td>\n",
              "      <td>2016-03-31 00:00:00</td>\n",
              "      <td>0</td>\n",
              "      <td>60437</td>\n",
              "      <td>2016-04-06 10:17:21</td>\n",
              "    </tr>\n",
              "    <tr>\n",
              "      <th>5</th>\n",
              "      <td>2016-04-04 17:36:23</td>\n",
              "      <td>650</td>\n",
              "      <td>sedan</td>\n",
              "      <td>1995</td>\n",
              "      <td>manual</td>\n",
              "      <td>102</td>\n",
              "      <td>3er</td>\n",
              "      <td>150000</td>\n",
              "      <td>10</td>\n",
              "      <td>petrol</td>\n",
              "      <td>bmw</td>\n",
              "      <td>yes</td>\n",
              "      <td>2016-04-04 00:00:00</td>\n",
              "      <td>0</td>\n",
              "      <td>33775</td>\n",
              "      <td>2016-04-06 19:17:07</td>\n",
              "    </tr>\n",
              "    <tr>\n",
              "      <th>6</th>\n",
              "      <td>2016-04-01 20:48:51</td>\n",
              "      <td>2200</td>\n",
              "      <td>convertible</td>\n",
              "      <td>2004</td>\n",
              "      <td>manual</td>\n",
              "      <td>109</td>\n",
              "      <td>2_reihe</td>\n",
              "      <td>150000</td>\n",
              "      <td>8</td>\n",
              "      <td>petrol</td>\n",
              "      <td>peugeot</td>\n",
              "      <td>no</td>\n",
              "      <td>2016-04-01 00:00:00</td>\n",
              "      <td>0</td>\n",
              "      <td>67112</td>\n",
              "      <td>2016-04-05 18:18:39</td>\n",
              "    </tr>\n",
              "    <tr>\n",
              "      <th>7</th>\n",
              "      <td>2016-03-21 18:54:38</td>\n",
              "      <td>0</td>\n",
              "      <td>sedan</td>\n",
              "      <td>1980</td>\n",
              "      <td>manual</td>\n",
              "      <td>50</td>\n",
              "      <td>other</td>\n",
              "      <td>40000</td>\n",
              "      <td>7</td>\n",
              "      <td>petrol</td>\n",
              "      <td>volkswagen</td>\n",
              "      <td>no</td>\n",
              "      <td>2016-03-21 00:00:00</td>\n",
              "      <td>0</td>\n",
              "      <td>19348</td>\n",
              "      <td>2016-03-25 16:47:58</td>\n",
              "    </tr>\n",
              "    <tr>\n",
              "      <th>8</th>\n",
              "      <td>2016-04-04 23:42:13</td>\n",
              "      <td>14500</td>\n",
              "      <td>bus</td>\n",
              "      <td>2014</td>\n",
              "      <td>manual</td>\n",
              "      <td>125</td>\n",
              "      <td>c_max</td>\n",
              "      <td>30000</td>\n",
              "      <td>8</td>\n",
              "      <td>petrol</td>\n",
              "      <td>ford</td>\n",
              "      <td>NaN</td>\n",
              "      <td>2016-04-04 00:00:00</td>\n",
              "      <td>0</td>\n",
              "      <td>94505</td>\n",
              "      <td>2016-04-04 23:42:13</td>\n",
              "    </tr>\n",
              "    <tr>\n",
              "      <th>9</th>\n",
              "      <td>2016-03-17 10:53:50</td>\n",
              "      <td>999</td>\n",
              "      <td>small</td>\n",
              "      <td>1998</td>\n",
              "      <td>manual</td>\n",
              "      <td>101</td>\n",
              "      <td>golf</td>\n",
              "      <td>150000</td>\n",
              "      <td>0</td>\n",
              "      <td>NaN</td>\n",
              "      <td>volkswagen</td>\n",
              "      <td>NaN</td>\n",
              "      <td>2016-03-17 00:00:00</td>\n",
              "      <td>0</td>\n",
              "      <td>27472</td>\n",
              "      <td>2016-03-31 17:17:06</td>\n",
              "    </tr>\n",
              "  </tbody>\n",
              "</table>\n",
              "</div>\n",
              "      <button class=\"colab-df-convert\" onclick=\"convertToInteractive('df-52d71eea-356e-48e7-9ed5-33330a30944d')\"\n",
              "              title=\"Convert this dataframe to an interactive table.\"\n",
              "              style=\"display:none;\">\n",
              "        \n",
              "  <svg xmlns=\"http://www.w3.org/2000/svg\" height=\"24px\"viewBox=\"0 0 24 24\"\n",
              "       width=\"24px\">\n",
              "    <path d=\"M0 0h24v24H0V0z\" fill=\"none\"/>\n",
              "    <path d=\"M18.56 5.44l.94 2.06.94-2.06 2.06-.94-2.06-.94-.94-2.06-.94 2.06-2.06.94zm-11 1L8.5 8.5l.94-2.06 2.06-.94-2.06-.94L8.5 2.5l-.94 2.06-2.06.94zm10 10l.94 2.06.94-2.06 2.06-.94-2.06-.94-.94-2.06-.94 2.06-2.06.94z\"/><path d=\"M17.41 7.96l-1.37-1.37c-.4-.4-.92-.59-1.43-.59-.52 0-1.04.2-1.43.59L10.3 9.45l-7.72 7.72c-.78.78-.78 2.05 0 2.83L4 21.41c.39.39.9.59 1.41.59.51 0 1.02-.2 1.41-.59l7.78-7.78 2.81-2.81c.8-.78.8-2.07 0-2.86zM5.41 20L4 18.59l7.72-7.72 1.47 1.35L5.41 20z\"/>\n",
              "  </svg>\n",
              "      </button>\n",
              "      \n",
              "  <style>\n",
              "    .colab-df-container {\n",
              "      display:flex;\n",
              "      flex-wrap:wrap;\n",
              "      gap: 12px;\n",
              "    }\n",
              "\n",
              "    .colab-df-convert {\n",
              "      background-color: #E8F0FE;\n",
              "      border: none;\n",
              "      border-radius: 50%;\n",
              "      cursor: pointer;\n",
              "      display: none;\n",
              "      fill: #1967D2;\n",
              "      height: 32px;\n",
              "      padding: 0 0 0 0;\n",
              "      width: 32px;\n",
              "    }\n",
              "\n",
              "    .colab-df-convert:hover {\n",
              "      background-color: #E2EBFA;\n",
              "      box-shadow: 0px 1px 2px rgba(60, 64, 67, 0.3), 0px 1px 3px 1px rgba(60, 64, 67, 0.15);\n",
              "      fill: #174EA6;\n",
              "    }\n",
              "\n",
              "    [theme=dark] .colab-df-convert {\n",
              "      background-color: #3B4455;\n",
              "      fill: #D2E3FC;\n",
              "    }\n",
              "\n",
              "    [theme=dark] .colab-df-convert:hover {\n",
              "      background-color: #434B5C;\n",
              "      box-shadow: 0px 1px 3px 1px rgba(0, 0, 0, 0.15);\n",
              "      filter: drop-shadow(0px 1px 2px rgba(0, 0, 0, 0.3));\n",
              "      fill: #FFFFFF;\n",
              "    }\n",
              "  </style>\n",
              "\n",
              "      <script>\n",
              "        const buttonEl =\n",
              "          document.querySelector('#df-52d71eea-356e-48e7-9ed5-33330a30944d button.colab-df-convert');\n",
              "        buttonEl.style.display =\n",
              "          google.colab.kernel.accessAllowed ? 'block' : 'none';\n",
              "\n",
              "        async function convertToInteractive(key) {\n",
              "          const element = document.querySelector('#df-52d71eea-356e-48e7-9ed5-33330a30944d');\n",
              "          const dataTable =\n",
              "            await google.colab.kernel.invokeFunction('convertToInteractive',\n",
              "                                                     [key], {});\n",
              "          if (!dataTable) return;\n",
              "\n",
              "          const docLinkHtml = 'Like what you see? Visit the ' +\n",
              "            '<a target=\"_blank\" href=https://colab.research.google.com/notebooks/data_table.ipynb>data table notebook</a>'\n",
              "            + ' to learn more about interactive tables.';\n",
              "          element.innerHTML = '';\n",
              "          dataTable['output_type'] = 'display_data';\n",
              "          await google.colab.output.renderOutput(dataTable, element);\n",
              "          const docLink = document.createElement('div');\n",
              "          docLink.innerHTML = docLinkHtml;\n",
              "          element.appendChild(docLink);\n",
              "        }\n",
              "      </script>\n",
              "    </div>\n",
              "  </div>\n",
              "  "
            ]
          },
          "metadata": {},
          "execution_count": 10
        }
      ],
      "source": [
        "#вывод таблицы\n",
        "df.head(10)"
      ]
    },
    {
      "cell_type": "code",
      "execution_count": 11,
      "metadata": {
        "id": "fesZZCYMgiaZ",
        "outputId": "2769d490-e613-489c-d56a-63a9d56cb216",
        "colab": {
          "base_uri": "https://localhost:8080/"
        }
      },
      "outputs": [
        {
          "output_type": "execute_result",
          "data": {
            "text/plain": [
              "(354369, 16)"
            ]
          },
          "metadata": {},
          "execution_count": 11
        }
      ],
      "source": [
        "#Вывод формы\n",
        "df.shape"
      ]
    },
    {
      "cell_type": "code",
      "execution_count": 12,
      "metadata": {
        "scrolled": false,
        "id": "V1WwfTgugiaa",
        "outputId": "553429cd-3313-4a5a-90cb-40482a38a78f",
        "colab": {
          "base_uri": "https://localhost:8080/"
        }
      },
      "outputs": [
        {
          "output_type": "stream",
          "name": "stdout",
          "text": [
            "<class 'pandas.core.frame.DataFrame'>\n",
            "RangeIndex: 354369 entries, 0 to 354368\n",
            "Data columns (total 16 columns):\n",
            " #   Column             Non-Null Count   Dtype \n",
            "---  ------             --------------   ----- \n",
            " 0   DateCrawled        354369 non-null  object\n",
            " 1   Price              354369 non-null  int64 \n",
            " 2   VehicleType        316879 non-null  object\n",
            " 3   RegistrationYear   354369 non-null  int64 \n",
            " 4   Gearbox            334536 non-null  object\n",
            " 5   Power              354369 non-null  int64 \n",
            " 6   Model              334664 non-null  object\n",
            " 7   Kilometer          354369 non-null  int64 \n",
            " 8   RegistrationMonth  354369 non-null  int64 \n",
            " 9   FuelType           321474 non-null  object\n",
            " 10  Brand              354369 non-null  object\n",
            " 11  NotRepaired        283215 non-null  object\n",
            " 12  DateCreated        354369 non-null  object\n",
            " 13  NumberOfPictures   354369 non-null  int64 \n",
            " 14  PostalCode         354369 non-null  int64 \n",
            " 15  LastSeen           354369 non-null  object\n",
            "dtypes: int64(7), object(9)\n",
            "memory usage: 43.3+ MB\n"
          ]
        }
      ],
      "source": [
        "#вывод информации\n",
        "df.info()"
      ]
    },
    {
      "cell_type": "markdown",
      "metadata": {
        "id": "nqNI7MPUgiac"
      },
      "source": [
        "**Краткие выводы:**  \n",
        "В датафрейме присутствуют пропуски и неинформативные столбцы.\n",
        "Также датафрейм имеет столбцы с категориальными данными типа object, что может вызвать затреднение в обученнии модели.\n",
        "В столбце цены можно увидеть нулевые значения что можно считаль аномалией. Надо определить порог цены и улалить строки ниже порогового значения."
      ]
    },
    {
      "cell_type": "markdown",
      "metadata": {
        "id": "EGaMN7_Dgiac"
      },
      "source": [
        "Проверим значения столбца Price."
      ]
    },
    {
      "cell_type": "code",
      "execution_count": 13,
      "metadata": {
        "scrolled": true,
        "id": "FTk-0hR6giae",
        "outputId": "a17301b6-1cd6-4ffc-f7d7-67be0541daa2",
        "colab": {
          "base_uri": "https://localhost:8080/"
        }
      },
      "outputs": [
        {
          "output_type": "execute_result",
          "data": {
            "text/plain": [
              "0        10772\n",
              "500       5670\n",
              "1500      5394\n",
              "1000      4649\n",
              "1200      4594\n",
              "         ...  \n",
              "1368         1\n",
              "233          1\n",
              "11080        1\n",
              "16340        1\n",
              "10985        1\n",
              "Name: Price, Length: 3731, dtype: int64"
            ]
          },
          "metadata": {},
          "execution_count": 13
        }
      ],
      "source": [
        "#вывод значений\n",
        "df[\"Price\"].value_counts()"
      ]
    },
    {
      "cell_type": "markdown",
      "metadata": {
        "id": "KOsmlwOfgiaf"
      },
      "source": [
        "Видно что нулевых значений очень много, это аномальные значения.Определим разумный порог цены и удалим строки ниже этого порога.  \n",
        "Заодно удалим неинформативные столбцы."
      ]
    },
    {
      "cell_type": "code",
      "execution_count": 14,
      "metadata": {
        "scrolled": true,
        "id": "jf7GcS_xgiag"
      },
      "outputs": [],
      "source": [
        "#удаление строк ниже порогового значения\n",
        "df = df.drop(df.query('Price < 1500').index)\n",
        "#удаление неинформативных столбцов\n",
        "df = df.drop([\"DateCrawled\",\"RegistrationMonth\",\"DateCreated\",\"NumberOfPictures\",\"PostalCode\",\"LastSeen\"],axis = 1)"
      ]
    },
    {
      "cell_type": "markdown",
      "metadata": {
        "id": "E-FMEY6Ggiag"
      },
      "source": [
        "Проверим пропуски в столбцах."
      ]
    },
    {
      "cell_type": "code",
      "execution_count": 15,
      "metadata": {
        "scrolled": false,
        "id": "HwQZu_Uegiah",
        "outputId": "f28dd596-967f-4d26-ee5d-a9185ae85bc9",
        "colab": {
          "base_uri": "https://localhost:8080/"
        }
      },
      "outputs": [
        {
          "output_type": "execute_result",
          "data": {
            "text/plain": [
              "Price                   0\n",
              "VehicleType         16169\n",
              "RegistrationYear        0\n",
              "Gearbox              8367\n",
              "Power                   0\n",
              "Model                9444\n",
              "Kilometer               0\n",
              "FuelType            13704\n",
              "Brand                   0\n",
              "NotRepaired         33993\n",
              "dtype: int64"
            ]
          },
          "metadata": {},
          "execution_count": 15
        }
      ],
      "source": [
        "#вывод количества пропусков\n",
        "df.isna().sum()"
      ]
    },
    {
      "cell_type": "markdown",
      "metadata": {
        "id": "Ti8Si4q8giai"
      },
      "source": [
        "Видно что столбцы содержащие пропуски имеют категориальные переменный типа object.  \n",
        "Т.к. значения объектовые и заполнение пропусков подходящими значениями затруднителен, то применим заглушку для каждого из столбцов. "
      ]
    },
    {
      "cell_type": "code",
      "execution_count": 16,
      "metadata": {
        "id": "QmgllWbtgiai"
      },
      "outputs": [],
      "source": [
        "#заполнение пропусков\n",
        "df[[\"VehicleType\",\"Gearbox\",\"Model\",\"FuelType\",\"NotRepaired\"]] = df[[\"VehicleType\",\"Gearbox\",\"Model\",\"FuelType\",\"NotRepaired\"]].fillna(\"Unknown\")"
      ]
    },
    {
      "cell_type": "code",
      "execution_count": 17,
      "metadata": {
        "scrolled": true,
        "id": "yd5ED0HNgiaj",
        "outputId": "f8f363eb-983c-44ef-8d1d-475def516cd0",
        "colab": {
          "base_uri": "https://localhost:8080/"
        }
      },
      "outputs": [
        {
          "output_type": "execute_result",
          "data": {
            "text/plain": [
              "Price               0\n",
              "VehicleType         0\n",
              "RegistrationYear    0\n",
              "Gearbox             0\n",
              "Power               0\n",
              "Model               0\n",
              "Kilometer           0\n",
              "FuelType            0\n",
              "Brand               0\n",
              "NotRepaired         0\n",
              "dtype: int64"
            ]
          },
          "metadata": {},
          "execution_count": 17
        }
      ],
      "source": [
        "#проверка на наличие пропусков\n",
        "df.isna().sum()"
      ]
    },
    {
      "cell_type": "markdown",
      "metadata": {
        "id": "0fpvQhgqgiak"
      },
      "source": [
        "В столбцах RegistrationYear и Power присутствуют аномальные значения, исправим их."
      ]
    },
    {
      "cell_type": "code",
      "execution_count": 18,
      "metadata": {
        "id": "Rw16xstngiak"
      },
      "outputs": [],
      "source": [
        "#выбросы исправляем на медианное значение\n",
        "Q1 =  df['RegistrationYear'].quantile(0.25)\n",
        "Q3 = df['RegistrationYear'].quantile(0.75)\n",
        "IQR = Q3 - Q1\n",
        "(df.loc[(df['RegistrationYear'] < Q1-1.5*IQR ) | (df['RegistrationYear'] > Q3+1.5*IQR),\n",
        "        ['RegistrationYear']]) = df[\"RegistrationYear\"].median()"
      ]
    },
    {
      "cell_type": "code",
      "execution_count": 19,
      "metadata": {
        "id": "keFWjz8Egial"
      },
      "outputs": [],
      "source": [
        "#выбросы исправляем на медиaнное значение\n",
        "Q1 =  df['Power'].quantile(0.25)\n",
        "Q3 = df['Power'].quantile(0.75)\n",
        "IQR = Q3 - Q1\n",
        "(df.loc[(df['Power'] < Q1-1.5*IQR ) | (df['Power'] > Q3+1.5*IQR),\n",
        "        ['Power']]) = df[\"Power\"].median()\n",
        "df.loc[df[\"Power\"]< 50,[\"Power\"]] = df[\"Power\"].median()"
      ]
    },
    {
      "cell_type": "markdown",
      "metadata": {
        "id": "BeKkJ4Ydgial"
      },
      "source": [
        "Применим порядковое кодирование для перевода объектовых значений в числовые."
      ]
    },
    {
      "cell_type": "code",
      "execution_count": 20,
      "metadata": {
        "scrolled": false,
        "id": "o_3oSsDbgiam",
        "outputId": "5beeb86c-9e41-46dc-f8e7-ee92374815ee",
        "colab": {
          "base_uri": "https://localhost:8080/",
          "height": 300
        }
      },
      "outputs": [
        {
          "output_type": "execute_result",
          "data": {
            "text/plain": [
              "               Price  RegistrationYear          Power      Kilometer\n",
              "count  238013.000000     238013.000000  238013.000000  238013.000000\n",
              "mean     6227.769966       2005.509695     126.619874  123970.035250\n",
              "std      4500.906613          5.065233      42.656028   39163.706657\n",
              "min      1500.000000       1992.000000      50.000000    5000.000000\n",
              "25%      2699.000000       2002.000000     101.000000  100000.000000\n",
              "50%      4700.000000       2005.000000     118.000000  150000.000000\n",
              "75%      8500.000000       2009.000000     150.000000  150000.000000\n",
              "max     20000.000000       2019.000000     258.000000  150000.000000"
            ],
            "text/html": [
              "\n",
              "  <div id=\"df-6c6719c0-57b0-4c74-8988-08651c67aff1\">\n",
              "    <div class=\"colab-df-container\">\n",
              "      <div>\n",
              "<style scoped>\n",
              "    .dataframe tbody tr th:only-of-type {\n",
              "        vertical-align: middle;\n",
              "    }\n",
              "\n",
              "    .dataframe tbody tr th {\n",
              "        vertical-align: top;\n",
              "    }\n",
              "\n",
              "    .dataframe thead th {\n",
              "        text-align: right;\n",
              "    }\n",
              "</style>\n",
              "<table border=\"1\" class=\"dataframe\">\n",
              "  <thead>\n",
              "    <tr style=\"text-align: right;\">\n",
              "      <th></th>\n",
              "      <th>Price</th>\n",
              "      <th>RegistrationYear</th>\n",
              "      <th>Power</th>\n",
              "      <th>Kilometer</th>\n",
              "    </tr>\n",
              "  </thead>\n",
              "  <tbody>\n",
              "    <tr>\n",
              "      <th>count</th>\n",
              "      <td>238013.000000</td>\n",
              "      <td>238013.000000</td>\n",
              "      <td>238013.000000</td>\n",
              "      <td>238013.000000</td>\n",
              "    </tr>\n",
              "    <tr>\n",
              "      <th>mean</th>\n",
              "      <td>6227.769966</td>\n",
              "      <td>2005.509695</td>\n",
              "      <td>126.619874</td>\n",
              "      <td>123970.035250</td>\n",
              "    </tr>\n",
              "    <tr>\n",
              "      <th>std</th>\n",
              "      <td>4500.906613</td>\n",
              "      <td>5.065233</td>\n",
              "      <td>42.656028</td>\n",
              "      <td>39163.706657</td>\n",
              "    </tr>\n",
              "    <tr>\n",
              "      <th>min</th>\n",
              "      <td>1500.000000</td>\n",
              "      <td>1992.000000</td>\n",
              "      <td>50.000000</td>\n",
              "      <td>5000.000000</td>\n",
              "    </tr>\n",
              "    <tr>\n",
              "      <th>25%</th>\n",
              "      <td>2699.000000</td>\n",
              "      <td>2002.000000</td>\n",
              "      <td>101.000000</td>\n",
              "      <td>100000.000000</td>\n",
              "    </tr>\n",
              "    <tr>\n",
              "      <th>50%</th>\n",
              "      <td>4700.000000</td>\n",
              "      <td>2005.000000</td>\n",
              "      <td>118.000000</td>\n",
              "      <td>150000.000000</td>\n",
              "    </tr>\n",
              "    <tr>\n",
              "      <th>75%</th>\n",
              "      <td>8500.000000</td>\n",
              "      <td>2009.000000</td>\n",
              "      <td>150.000000</td>\n",
              "      <td>150000.000000</td>\n",
              "    </tr>\n",
              "    <tr>\n",
              "      <th>max</th>\n",
              "      <td>20000.000000</td>\n",
              "      <td>2019.000000</td>\n",
              "      <td>258.000000</td>\n",
              "      <td>150000.000000</td>\n",
              "    </tr>\n",
              "  </tbody>\n",
              "</table>\n",
              "</div>\n",
              "      <button class=\"colab-df-convert\" onclick=\"convertToInteractive('df-6c6719c0-57b0-4c74-8988-08651c67aff1')\"\n",
              "              title=\"Convert this dataframe to an interactive table.\"\n",
              "              style=\"display:none;\">\n",
              "        \n",
              "  <svg xmlns=\"http://www.w3.org/2000/svg\" height=\"24px\"viewBox=\"0 0 24 24\"\n",
              "       width=\"24px\">\n",
              "    <path d=\"M0 0h24v24H0V0z\" fill=\"none\"/>\n",
              "    <path d=\"M18.56 5.44l.94 2.06.94-2.06 2.06-.94-2.06-.94-.94-2.06-.94 2.06-2.06.94zm-11 1L8.5 8.5l.94-2.06 2.06-.94-2.06-.94L8.5 2.5l-.94 2.06-2.06.94zm10 10l.94 2.06.94-2.06 2.06-.94-2.06-.94-.94-2.06-.94 2.06-2.06.94z\"/><path d=\"M17.41 7.96l-1.37-1.37c-.4-.4-.92-.59-1.43-.59-.52 0-1.04.2-1.43.59L10.3 9.45l-7.72 7.72c-.78.78-.78 2.05 0 2.83L4 21.41c.39.39.9.59 1.41.59.51 0 1.02-.2 1.41-.59l7.78-7.78 2.81-2.81c.8-.78.8-2.07 0-2.86zM5.41 20L4 18.59l7.72-7.72 1.47 1.35L5.41 20z\"/>\n",
              "  </svg>\n",
              "      </button>\n",
              "      \n",
              "  <style>\n",
              "    .colab-df-container {\n",
              "      display:flex;\n",
              "      flex-wrap:wrap;\n",
              "      gap: 12px;\n",
              "    }\n",
              "\n",
              "    .colab-df-convert {\n",
              "      background-color: #E8F0FE;\n",
              "      border: none;\n",
              "      border-radius: 50%;\n",
              "      cursor: pointer;\n",
              "      display: none;\n",
              "      fill: #1967D2;\n",
              "      height: 32px;\n",
              "      padding: 0 0 0 0;\n",
              "      width: 32px;\n",
              "    }\n",
              "\n",
              "    .colab-df-convert:hover {\n",
              "      background-color: #E2EBFA;\n",
              "      box-shadow: 0px 1px 2px rgba(60, 64, 67, 0.3), 0px 1px 3px 1px rgba(60, 64, 67, 0.15);\n",
              "      fill: #174EA6;\n",
              "    }\n",
              "\n",
              "    [theme=dark] .colab-df-convert {\n",
              "      background-color: #3B4455;\n",
              "      fill: #D2E3FC;\n",
              "    }\n",
              "\n",
              "    [theme=dark] .colab-df-convert:hover {\n",
              "      background-color: #434B5C;\n",
              "      box-shadow: 0px 1px 3px 1px rgba(0, 0, 0, 0.15);\n",
              "      filter: drop-shadow(0px 1px 2px rgba(0, 0, 0, 0.3));\n",
              "      fill: #FFFFFF;\n",
              "    }\n",
              "  </style>\n",
              "\n",
              "      <script>\n",
              "        const buttonEl =\n",
              "          document.querySelector('#df-6c6719c0-57b0-4c74-8988-08651c67aff1 button.colab-df-convert');\n",
              "        buttonEl.style.display =\n",
              "          google.colab.kernel.accessAllowed ? 'block' : 'none';\n",
              "\n",
              "        async function convertToInteractive(key) {\n",
              "          const element = document.querySelector('#df-6c6719c0-57b0-4c74-8988-08651c67aff1');\n",
              "          const dataTable =\n",
              "            await google.colab.kernel.invokeFunction('convertToInteractive',\n",
              "                                                     [key], {});\n",
              "          if (!dataTable) return;\n",
              "\n",
              "          const docLinkHtml = 'Like what you see? Visit the ' +\n",
              "            '<a target=\"_blank\" href=https://colab.research.google.com/notebooks/data_table.ipynb>data table notebook</a>'\n",
              "            + ' to learn more about interactive tables.';\n",
              "          element.innerHTML = '';\n",
              "          dataTable['output_type'] = 'display_data';\n",
              "          await google.colab.output.renderOutput(dataTable, element);\n",
              "          const docLink = document.createElement('div');\n",
              "          docLink.innerHTML = docLinkHtml;\n",
              "          element.appendChild(docLink);\n",
              "        }\n",
              "      </script>\n",
              "    </div>\n",
              "  </div>\n",
              "  "
            ]
          },
          "metadata": {},
          "execution_count": 20
        }
      ],
      "source": [
        "# код ревьюера\n",
        "\n",
        "df.describe()"
      ]
    },
    {
      "cell_type": "code",
      "execution_count": 21,
      "metadata": {
        "id": "T0EDIoCogian"
      },
      "outputs": [],
      "source": [
        "#кодирование данных\n",
        "encoder = OrdinalEncoder()\n",
        "df_ordinal = pd.DataFrame(encoder.fit_transform(df), columns=df.columns)"
      ]
    },
    {
      "cell_type": "markdown",
      "metadata": {
        "id": "KQP8Ewuggiao"
      },
      "source": [
        "Выведем новый датафрейм."
      ]
    },
    {
      "cell_type": "code",
      "execution_count": 22,
      "metadata": {
        "scrolled": false,
        "id": "brKogTzDgiap",
        "outputId": "7c24e090-d8e3-4053-c610-e03831b37561",
        "colab": {
          "base_uri": "https://localhost:8080/",
          "height": 206
        }
      },
      "outputs": [
        {
          "output_type": "execute_result",
          "data": {
            "text/plain": [
              "    Price  VehicleType  RegistrationYear  Gearbox  Power  Model  Kilometer  \\\n",
              "0  2891.0          3.0              19.0      2.0  140.0   26.0       11.0   \n",
              "1  1894.0          7.0              12.0      1.0  113.0  117.0       11.0   \n",
              "2     0.0          6.0               9.0      2.0   25.0  116.0       12.0   \n",
              "3   637.0          6.0              16.0      2.0   19.0  101.0        9.0   \n",
              "4   227.0          2.0              12.0      2.0   59.0    8.0       12.0   \n",
              "\n",
              "   FuelType  Brand  NotRepaired  \n",
              "0       3.0    1.0          2.0  \n",
              "1       3.0   14.0          0.0  \n",
              "2       7.0   38.0          1.0  \n",
              "3       3.0   31.0          1.0  \n",
              "4       7.0   25.0          1.0  "
            ],
            "text/html": [
              "\n",
              "  <div id=\"df-d22aeb9a-0fb3-437e-a6b0-19985842a20c\">\n",
              "    <div class=\"colab-df-container\">\n",
              "      <div>\n",
              "<style scoped>\n",
              "    .dataframe tbody tr th:only-of-type {\n",
              "        vertical-align: middle;\n",
              "    }\n",
              "\n",
              "    .dataframe tbody tr th {\n",
              "        vertical-align: top;\n",
              "    }\n",
              "\n",
              "    .dataframe thead th {\n",
              "        text-align: right;\n",
              "    }\n",
              "</style>\n",
              "<table border=\"1\" class=\"dataframe\">\n",
              "  <thead>\n",
              "    <tr style=\"text-align: right;\">\n",
              "      <th></th>\n",
              "      <th>Price</th>\n",
              "      <th>VehicleType</th>\n",
              "      <th>RegistrationYear</th>\n",
              "      <th>Gearbox</th>\n",
              "      <th>Power</th>\n",
              "      <th>Model</th>\n",
              "      <th>Kilometer</th>\n",
              "      <th>FuelType</th>\n",
              "      <th>Brand</th>\n",
              "      <th>NotRepaired</th>\n",
              "    </tr>\n",
              "  </thead>\n",
              "  <tbody>\n",
              "    <tr>\n",
              "      <th>0</th>\n",
              "      <td>2891.0</td>\n",
              "      <td>3.0</td>\n",
              "      <td>19.0</td>\n",
              "      <td>2.0</td>\n",
              "      <td>140.0</td>\n",
              "      <td>26.0</td>\n",
              "      <td>11.0</td>\n",
              "      <td>3.0</td>\n",
              "      <td>1.0</td>\n",
              "      <td>2.0</td>\n",
              "    </tr>\n",
              "    <tr>\n",
              "      <th>1</th>\n",
              "      <td>1894.0</td>\n",
              "      <td>7.0</td>\n",
              "      <td>12.0</td>\n",
              "      <td>1.0</td>\n",
              "      <td>113.0</td>\n",
              "      <td>117.0</td>\n",
              "      <td>11.0</td>\n",
              "      <td>3.0</td>\n",
              "      <td>14.0</td>\n",
              "      <td>0.0</td>\n",
              "    </tr>\n",
              "    <tr>\n",
              "      <th>2</th>\n",
              "      <td>0.0</td>\n",
              "      <td>6.0</td>\n",
              "      <td>9.0</td>\n",
              "      <td>2.0</td>\n",
              "      <td>25.0</td>\n",
              "      <td>116.0</td>\n",
              "      <td>12.0</td>\n",
              "      <td>7.0</td>\n",
              "      <td>38.0</td>\n",
              "      <td>1.0</td>\n",
              "    </tr>\n",
              "    <tr>\n",
              "      <th>3</th>\n",
              "      <td>637.0</td>\n",
              "      <td>6.0</td>\n",
              "      <td>16.0</td>\n",
              "      <td>2.0</td>\n",
              "      <td>19.0</td>\n",
              "      <td>101.0</td>\n",
              "      <td>9.0</td>\n",
              "      <td>3.0</td>\n",
              "      <td>31.0</td>\n",
              "      <td>1.0</td>\n",
              "    </tr>\n",
              "    <tr>\n",
              "      <th>4</th>\n",
              "      <td>227.0</td>\n",
              "      <td>2.0</td>\n",
              "      <td>12.0</td>\n",
              "      <td>2.0</td>\n",
              "      <td>59.0</td>\n",
              "      <td>8.0</td>\n",
              "      <td>12.0</td>\n",
              "      <td>7.0</td>\n",
              "      <td>25.0</td>\n",
              "      <td>1.0</td>\n",
              "    </tr>\n",
              "  </tbody>\n",
              "</table>\n",
              "</div>\n",
              "      <button class=\"colab-df-convert\" onclick=\"convertToInteractive('df-d22aeb9a-0fb3-437e-a6b0-19985842a20c')\"\n",
              "              title=\"Convert this dataframe to an interactive table.\"\n",
              "              style=\"display:none;\">\n",
              "        \n",
              "  <svg xmlns=\"http://www.w3.org/2000/svg\" height=\"24px\"viewBox=\"0 0 24 24\"\n",
              "       width=\"24px\">\n",
              "    <path d=\"M0 0h24v24H0V0z\" fill=\"none\"/>\n",
              "    <path d=\"M18.56 5.44l.94 2.06.94-2.06 2.06-.94-2.06-.94-.94-2.06-.94 2.06-2.06.94zm-11 1L8.5 8.5l.94-2.06 2.06-.94-2.06-.94L8.5 2.5l-.94 2.06-2.06.94zm10 10l.94 2.06.94-2.06 2.06-.94-2.06-.94-.94-2.06-.94 2.06-2.06.94z\"/><path d=\"M17.41 7.96l-1.37-1.37c-.4-.4-.92-.59-1.43-.59-.52 0-1.04.2-1.43.59L10.3 9.45l-7.72 7.72c-.78.78-.78 2.05 0 2.83L4 21.41c.39.39.9.59 1.41.59.51 0 1.02-.2 1.41-.59l7.78-7.78 2.81-2.81c.8-.78.8-2.07 0-2.86zM5.41 20L4 18.59l7.72-7.72 1.47 1.35L5.41 20z\"/>\n",
              "  </svg>\n",
              "      </button>\n",
              "      \n",
              "  <style>\n",
              "    .colab-df-container {\n",
              "      display:flex;\n",
              "      flex-wrap:wrap;\n",
              "      gap: 12px;\n",
              "    }\n",
              "\n",
              "    .colab-df-convert {\n",
              "      background-color: #E8F0FE;\n",
              "      border: none;\n",
              "      border-radius: 50%;\n",
              "      cursor: pointer;\n",
              "      display: none;\n",
              "      fill: #1967D2;\n",
              "      height: 32px;\n",
              "      padding: 0 0 0 0;\n",
              "      width: 32px;\n",
              "    }\n",
              "\n",
              "    .colab-df-convert:hover {\n",
              "      background-color: #E2EBFA;\n",
              "      box-shadow: 0px 1px 2px rgba(60, 64, 67, 0.3), 0px 1px 3px 1px rgba(60, 64, 67, 0.15);\n",
              "      fill: #174EA6;\n",
              "    }\n",
              "\n",
              "    [theme=dark] .colab-df-convert {\n",
              "      background-color: #3B4455;\n",
              "      fill: #D2E3FC;\n",
              "    }\n",
              "\n",
              "    [theme=dark] .colab-df-convert:hover {\n",
              "      background-color: #434B5C;\n",
              "      box-shadow: 0px 1px 3px 1px rgba(0, 0, 0, 0.15);\n",
              "      filter: drop-shadow(0px 1px 2px rgba(0, 0, 0, 0.3));\n",
              "      fill: #FFFFFF;\n",
              "    }\n",
              "  </style>\n",
              "\n",
              "      <script>\n",
              "        const buttonEl =\n",
              "          document.querySelector('#df-d22aeb9a-0fb3-437e-a6b0-19985842a20c button.colab-df-convert');\n",
              "        buttonEl.style.display =\n",
              "          google.colab.kernel.accessAllowed ? 'block' : 'none';\n",
              "\n",
              "        async function convertToInteractive(key) {\n",
              "          const element = document.querySelector('#df-d22aeb9a-0fb3-437e-a6b0-19985842a20c');\n",
              "          const dataTable =\n",
              "            await google.colab.kernel.invokeFunction('convertToInteractive',\n",
              "                                                     [key], {});\n",
              "          if (!dataTable) return;\n",
              "\n",
              "          const docLinkHtml = 'Like what you see? Visit the ' +\n",
              "            '<a target=\"_blank\" href=https://colab.research.google.com/notebooks/data_table.ipynb>data table notebook</a>'\n",
              "            + ' to learn more about interactive tables.';\n",
              "          element.innerHTML = '';\n",
              "          dataTable['output_type'] = 'display_data';\n",
              "          await google.colab.output.renderOutput(dataTable, element);\n",
              "          const docLink = document.createElement('div');\n",
              "          docLink.innerHTML = docLinkHtml;\n",
              "          element.appendChild(docLink);\n",
              "        }\n",
              "      </script>\n",
              "    </div>\n",
              "  </div>\n",
              "  "
            ]
          },
          "metadata": {},
          "execution_count": 22
        }
      ],
      "source": [
        "#вывод таблицы\n",
        "df_ordinal.head()"
      ]
    },
    {
      "cell_type": "markdown",
      "metadata": {
        "id": "HBOs0PWpgiap"
      },
      "source": [
        "Чтобы избежать мультиколлинеарности проверим признаки на корреляцию.\n",
        "Пороговое значение 0.7."
      ]
    },
    {
      "cell_type": "code",
      "execution_count": 23,
      "metadata": {
        "scrolled": false,
        "id": "dbmxsDbigiaq",
        "outputId": "32344998-7260-469f-b1c1-60819dd3befe",
        "colab": {
          "base_uri": "https://localhost:8080/",
          "height": 527
        }
      },
      "outputs": [
        {
          "output_type": "display_data",
          "data": {
            "text/plain": [
              "<Figure size 720x504 with 2 Axes>"
            ],
            "image/png": "[encoded data removed]"
          },
          "metadata": {}
        }
      ],
      "source": [
        "#выделим значения для сокрытия их в тепловой карте\n",
        "upp_mat = np.triu(df_ordinal.corr())\n",
        "#построение тепловой карты корреляции признаков\n",
        "sns.set(rc = {'figure.figsize':(10,7)})\n",
        "sns.heatmap(df_ordinal.corr(),vmin = -1, vmax = +1, annot = True, cmap = 'coolwarm', mask = upp_mat)\n",
        "plt.title(\"Корреляция признаков\")\n",
        "plt.show()"
      ]
    },
    {
      "cell_type": "markdown",
      "metadata": {
        "id": "rQpM1PBkgiar"
      },
      "source": [
        "Видим что корреляция между признаками не сильная.\n"
      ]
    },
    {
      "cell_type": "markdown",
      "metadata": {
        "id": "tmeaBf_Rgiar"
      },
      "source": [
        "Т.к значения в таблице целые то переведём их в тип int"
      ]
    },
    {
      "cell_type": "code",
      "execution_count": 24,
      "metadata": {
        "scrolled": true,
        "id": "6VWsump4gias"
      },
      "outputs": [],
      "source": [
        "#смена типа данных\n",
        "df_ordinal = df_ordinal.astype(int)"
      ]
    },
    {
      "cell_type": "markdown",
      "metadata": {
        "id": "zlQ2Yy7ugias"
      },
      "source": [
        "Разделим датафрейм на признаки и целевой признак."
      ]
    },
    {
      "cell_type": "code",
      "execution_count": 25,
      "metadata": {
        "id": "dVBRHvO1giat"
      },
      "outputs": [],
      "source": [
        "#запись признаков в переменные\n",
        "features = df_ordinal.drop(\"Price\", axis = 1)\n",
        "target = df_ordinal.Price"
      ]
    },
    {
      "cell_type": "markdown",
      "metadata": {
        "id": "J1-UDkOigiat"
      },
      "source": [
        "Разделим признаки на выборки. Обучающую и тестовую."
      ]
    },
    {
      "cell_type": "code",
      "execution_count": 26,
      "metadata": {
        "id": "swRXhhgQgiau"
      },
      "outputs": [],
      "source": [
        "#разделение на выборки\n",
        "features_train, features_test, target_train, target_test = train_test_split(features,\n",
        "                                                                            target, \n",
        "                                                                            test_size = 0.25,\n",
        "                                                                          random_state = 12345)"
      ]
    },
    {
      "cell_type": "markdown",
      "metadata": {
        "id": "0EFuIRDkgiav"
      },
      "source": [
        "## Обучение моделей"
      ]
    },
    {
      "cell_type": "markdown",
      "metadata": {
        "id": "uzHJ_CF_giav"
      },
      "source": [
        "Обучим несколько моделей и посмотрим на время работы ячейки. Для оценки качества применим метрику RMSE"
      ]
    },
    {
      "cell_type": "code",
      "execution_count": 27,
      "metadata": {
        "id": "aRkQRMVBgiaw",
        "outputId": "4f1ce4fe-3bc6-4ec7-ba17-85671089be07",
        "colab": {
          "base_uri": "https://localhost:8080/"
        }
      },
      "outputs": [
        {
          "output_type": "stream",
          "name": "stdout",
          "text": [
            "дерево решений\n",
            "{'max_depth': 15}\n",
            "307.1897279259707\n",
            "CPU times: user 12.6 s, sys: 49.7 ms, total: 12.6 s\n",
            "Wall time: 13 s\n"
          ]
        }
      ],
      "source": [
        "%%time\n",
        "#модель случайного леса\n",
        "model_tree = DecisionTreeRegressor(random_state = 12345)\n",
        "\n",
        "params = [{\"max_depth\": np.arange(1,21,2)}]\n",
        "gs_tree = GridSearchCV(estimator = model_tree,\n",
        "                      param_grid=params,\n",
        "                      scoring=\"neg_root_mean_squared_error\",\n",
        "                      cv=4)\n",
        "gs_tree.fit(features_train, target_train)\n",
        "print(\"дерево решений\")\n",
        "print(gs_tree.best_params_)\n",
        "print(abs(gs_tree.score(features_train, target_train)))"
      ]
    },
    {
      "cell_type": "code",
      "execution_count": 28,
      "metadata": {
        "id": "CnHk-5Cpgiay",
        "outputId": "8247b920-fe2b-460f-af62-6af66c0d6a67",
        "colab": {
          "base_uri": "https://localhost:8080/"
        }
      },
      "outputs": [
        {
          "output_type": "stream",
          "name": "stdout",
          "text": [
            "Рандомынй лес\n",
            "{'max_depth': 15, 'n_estimators': 50}\n",
            "285.4630317489089\n",
            "CPU times: user 13min 17s, sys: 2.06 s, total: 13min 20s\n",
            "Wall time: 13min 24s\n"
          ]
        }
      ],
      "source": [
        "%%time\n",
        "#модель случайного леса\n",
        "model_rf = RandomForestRegressor(random_state = 12345)\n",
        "\n",
        "params = [{\"n_estimators\": np.arange(10,51,10),\n",
        "      \"max_depth\": np.arange(1,16,2)}]\n",
        "gs_rf = GridSearchCV(estimator = model_rf,\n",
        "                      param_grid=params,\n",
        "                      scoring=\"neg_root_mean_squared_error\",\n",
        "                      cv=4)\n",
        "gs_rf.fit(features_train, target_train)\n",
        "print(\"Рандомынй лес\")\n",
        "print(gs_rf.best_params_)\n",
        "print(abs(gs_rf.score(features_train, target_train)))"
      ]
    },
    {
      "cell_type": "code",
      "execution_count": 29,
      "metadata": {
        "id": "J8hMJQU1giaz",
        "outputId": "0a13d490-b9ff-4486-d59e-5df4e8c5b1ab",
        "colab": {
          "base_uri": "https://localhost:8080/"
        }
      },
      "outputs": [
        {
          "output_type": "stream",
          "name": "stdout",
          "text": [
            "Линейная регрессия\n",
            "600.4577717525176\n",
            "CPU times: user 232 ms, sys: 150 ms, total: 382 ms\n",
            "Wall time: 226 ms\n"
          ]
        }
      ],
      "source": [
        "%%time\n",
        "#модель линейной регрессии\n",
        "model = LinearRegression()\n",
        "\n",
        "# < посчитайте оценки, вызвав функцию cross_value_score с пятью блоками >\n",
        "scores = cross_val_score(model, \n",
        "                         features_train.values, \n",
        "                         target_train.values, \n",
        "                         cv = 4,\n",
        "                         scoring = \"neg_root_mean_squared_error\")\n",
        "final_score = scores.mean()\n",
        "print(\"Линейная регрессия\")\n",
        "print(abs(final_score))"
      ]
    },
    {
      "cell_type": "code",
      "execution_count": 30,
      "metadata": {
        "scrolled": false,
        "id": "oOryQtVHgia0",
        "colab": {
          "base_uri": "https://localhost:8080/"
        },
        "outputId": "398418e8-c088-4c0f-fccb-45859b798acd"
      },
      "outputs": [
        {
          "output_type": "stream",
          "name": "stdout",
          "text": [
            "LightGBM\n",
            "{'max_depth': 17, 'n_estimators': 50}\n",
            "385.70960756704346\n",
            "CPU times: user 3min 6s, sys: 1.55 s, total: 3min 8s\n",
            "Wall time: 1min 40s\n"
          ]
        }
      ],
      "source": [
        "%%time\n",
        "#модель случайного леса\n",
        "model_LGBM = LGBMRegressor()\n",
        "\n",
        "params = [{\"n_estimators\": np.arange(10,51,10),\n",
        "      \"max_depth\": np.arange(1,21,2)}]\n",
        "gs_LGBM = GridSearchCV(estimator = model_LGBM,\n",
        "                      param_grid=params,\n",
        "                      scoring=\"neg_root_mean_squared_error\",\n",
        "                      cv=4)\n",
        "gs_LGBM.fit(features_train, target_train)\n",
        "print(\"LightGBM\")\n",
        "print(gs_LGBM.best_params_)\n",
        "print(abs(gs_LGBM.score(features_train, target_train)))"
      ]
    },
    {
      "cell_type": "markdown",
      "metadata": {
        "id": "OUV9AGCNgia1"
      },
      "source": [
        "## Анализ моделей"
      ]
    },
    {
      "cell_type": "markdown",
      "metadata": {
        "id": "GnNmYFT8gia1"
      },
      "source": [
        "Проверим качество моделей на тестовой выборке."
      ]
    },
    {
      "cell_type": "code",
      "execution_count": 31,
      "metadata": {
        "id": "93uwTOVfgia2",
        "colab": {
          "base_uri": "https://localhost:8080/"
        },
        "outputId": "ca0b707b-7f04-48bf-f07d-65d61e96770d"
      },
      "outputs": [
        {
          "output_type": "stream",
          "name": "stdout",
          "text": [
            "Дерево решений\n",
            "RMSE: 397.23146938486104\n"
          ]
        }
      ],
      "source": [
        "#оценка качества дерева решений\n",
        "predictions = gs_tree.predict(features_test)\n",
        "rmse = sqrt(mean_squared_error(target_test,predictions))\n",
        "\n",
        "print(\"Дерево решений\")\n",
        "print(\"RMSE:\",rmse)"
      ]
    },
    {
      "cell_type": "code",
      "execution_count": 32,
      "metadata": {
        "id": "rZVn_yxhgia2",
        "colab": {
          "base_uri": "https://localhost:8080/"
        },
        "outputId": "3250e48b-77c8-46c3-c4d1-4c75bc82f4c5"
      },
      "outputs": [
        {
          "output_type": "stream",
          "name": "stdout",
          "text": [
            "Рандомный лес\n",
            "RMSE: 351.48692955740705\n"
          ]
        }
      ],
      "source": [
        "#оценка качества рандомного леса\n",
        "predictions = gs_rf.predict(features_test)\n",
        "rmse = sqrt(mean_squared_error(target_test,predictions))\n",
        "\n",
        "print(\"Рандомный лес\")\n",
        "print(\"RMSE:\",rmse)"
      ]
    },
    {
      "cell_type": "code",
      "execution_count": 33,
      "metadata": {
        "scrolled": true,
        "id": "itbHxB6Pgia3",
        "colab": {
          "base_uri": "https://localhost:8080/"
        },
        "outputId": "5f9cc731-973c-47ae-a8be-1c3602e86ee9"
      },
      "outputs": [
        {
          "output_type": "stream",
          "name": "stdout",
          "text": [
            "LightGBM\n",
            "RMSE: 386.64549006227975\n"
          ]
        }
      ],
      "source": [
        "#оценка качества LightGBM\n",
        "predictions = gs_LGBM.predict(features_test)\n",
        "rmse = sqrt(mean_squared_error(target_test,predictions))\n",
        "\n",
        "print(\"LightGBM\")\n",
        "print(\"RMSE:\",rmse)"
      ]
    },
    {
      "cell_type": "markdown",
      "metadata": {
        "id": "sXk5JSM6gia4"
      },
      "source": [
        "Обучив модели и проверив их качество на тестовых выборках, можно сказать что порой градиентный бустинг не всегда эффективен в плане времени выполнения кода. "
      ]
    }
  ],
  "metadata": {
    "ExecuteTimeLog": [
      {
        "duration": 413,
        "start_time": "2022-06-20T09:44:59.240Z"
      },
      {
        "duration": 2703,
        "start_time": "2022-06-20T09:45:40.420Z"
      },
      {
        "duration": 18,
        "start_time": "2022-06-20T09:45:56.460Z"
      },
      {
        "duration": 137,
        "start_time": "2022-06-20T09:46:10.859Z"
      },
      {
        "duration": 126,
        "start_time": "2022-06-20T09:47:46.139Z"
      },
      {
        "duration": 119,
        "start_time": "2022-06-20T09:47:53.379Z"
      },
      {
        "duration": 63,
        "start_time": "2022-06-20T09:48:49.298Z"
      },
      {
        "duration": 10,
        "start_time": "2022-06-20T09:48:56.259Z"
      },
      {
        "duration": 3,
        "start_time": "2022-06-20T09:49:21.820Z"
      },
      {
        "duration": 65,
        "start_time": "2022-06-22T16:13:17.726Z"
      },
      {
        "duration": 445,
        "start_time": "2022-06-22T16:13:26.188Z"
      },
      {
        "duration": 1530,
        "start_time": "2022-06-22T16:13:26.635Z"
      },
      {
        "duration": 24,
        "start_time": "2022-06-22T16:13:28.168Z"
      },
      {
        "duration": 5,
        "start_time": "2022-06-22T16:13:28.194Z"
      },
      {
        "duration": 166,
        "start_time": "2022-06-22T16:13:28.203Z"
      },
      {
        "duration": 222,
        "start_time": "2022-06-22T16:13:28.371Z"
      },
      {
        "duration": 32,
        "start_time": "2022-06-22T16:13:28.595Z"
      },
      {
        "duration": 9,
        "start_time": "2022-06-22T16:13:35.970Z"
      },
      {
        "duration": 8,
        "start_time": "2022-06-22T16:13:55.991Z"
      },
      {
        "duration": 9,
        "start_time": "2022-06-22T16:14:01.135Z"
      },
      {
        "duration": 45,
        "start_time": "2022-06-22T16:14:13.235Z"
      },
      {
        "duration": 10,
        "start_time": "2022-06-22T16:16:00.115Z"
      },
      {
        "duration": 58,
        "start_time": "2022-06-22T16:16:30.445Z"
      },
      {
        "duration": 40,
        "start_time": "2022-06-22T16:16:47.767Z"
      },
      {
        "duration": 49,
        "start_time": "2022-06-22T16:17:00.097Z"
      },
      {
        "duration": 10,
        "start_time": "2022-06-22T16:17:13.674Z"
      },
      {
        "duration": 11,
        "start_time": "2022-06-22T16:17:15.621Z"
      },
      {
        "duration": 14,
        "start_time": "2022-06-22T16:17:27.990Z"
      },
      {
        "duration": 23,
        "start_time": "2022-06-22T16:17:31.735Z"
      },
      {
        "duration": 18,
        "start_time": "2022-06-22T16:17:56.069Z"
      },
      {
        "duration": 15,
        "start_time": "2022-06-22T16:18:04.214Z"
      },
      {
        "duration": 58,
        "start_time": "2022-06-22T16:18:08.166Z"
      },
      {
        "duration": 21,
        "start_time": "2022-06-22T16:18:11.112Z"
      },
      {
        "duration": 47,
        "start_time": "2022-06-22T16:18:57.196Z"
      },
      {
        "duration": 10,
        "start_time": "2022-06-22T16:19:47.325Z"
      },
      {
        "duration": 10,
        "start_time": "2022-06-22T16:19:51.690Z"
      },
      {
        "duration": 50,
        "start_time": "2022-06-22T16:20:21.885Z"
      },
      {
        "duration": 61,
        "start_time": "2022-06-22T16:20:39.014Z"
      },
      {
        "duration": 11,
        "start_time": "2022-06-22T16:21:49.901Z"
      },
      {
        "duration": 41,
        "start_time": "2022-06-22T16:22:12.231Z"
      },
      {
        "duration": 34,
        "start_time": "2022-06-22T16:22:19.795Z"
      },
      {
        "duration": 22,
        "start_time": "2022-06-22T16:22:49.334Z"
      },
      {
        "duration": 44,
        "start_time": "2022-06-22T16:24:12.893Z"
      },
      {
        "duration": 233,
        "start_time": "2022-06-22T16:24:47.173Z"
      },
      {
        "duration": 244,
        "start_time": "2022-06-22T16:25:16.291Z"
      },
      {
        "duration": 232,
        "start_time": "2022-06-22T16:26:44.684Z"
      },
      {
        "duration": 3,
        "start_time": "2022-06-22T16:26:58.959Z"
      },
      {
        "duration": 112,
        "start_time": "2022-06-22T16:27:02.421Z"
      },
      {
        "duration": 26,
        "start_time": "2022-06-22T16:27:17.731Z"
      },
      {
        "duration": 217,
        "start_time": "2022-06-22T16:27:29.896Z"
      },
      {
        "duration": 8,
        "start_time": "2022-06-22T16:27:49.965Z"
      },
      {
        "duration": 12,
        "start_time": "2022-06-22T16:28:00.182Z"
      },
      {
        "duration": 9,
        "start_time": "2022-06-22T16:28:06.926Z"
      },
      {
        "duration": 31,
        "start_time": "2022-06-22T16:28:38.451Z"
      },
      {
        "duration": 202,
        "start_time": "2022-06-22T16:29:00.685Z"
      },
      {
        "duration": 125,
        "start_time": "2022-06-22T16:29:15.877Z"
      },
      {
        "duration": 109,
        "start_time": "2022-06-22T16:30:02.427Z"
      },
      {
        "duration": 68,
        "start_time": "2022-06-22T16:30:24.195Z"
      },
      {
        "duration": 105,
        "start_time": "2022-06-22T16:30:25.323Z"
      },
      {
        "duration": 3,
        "start_time": "2022-06-22T16:30:34.380Z"
      },
      {
        "duration": 960,
        "start_time": "2022-06-22T16:30:34.387Z"
      },
      {
        "duration": 16,
        "start_time": "2022-06-22T16:30:35.352Z"
      },
      {
        "duration": 10,
        "start_time": "2022-06-22T16:30:35.370Z"
      },
      {
        "duration": 142,
        "start_time": "2022-06-22T16:30:35.383Z"
      },
      {
        "duration": 126,
        "start_time": "2022-06-22T16:30:35.527Z"
      },
      {
        "duration": 65,
        "start_time": "2022-06-22T16:30:35.655Z"
      },
      {
        "duration": 138,
        "start_time": "2022-06-22T16:30:35.723Z"
      },
      {
        "duration": 369,
        "start_time": "2022-06-23T10:04:11.457Z"
      },
      {
        "duration": 1127,
        "start_time": "2022-06-23T10:04:11.828Z"
      },
      {
        "duration": 23,
        "start_time": "2022-06-23T10:04:12.957Z"
      },
      {
        "duration": 4,
        "start_time": "2022-06-23T10:04:12.982Z"
      },
      {
        "duration": 154,
        "start_time": "2022-06-23T10:04:12.988Z"
      },
      {
        "duration": 129,
        "start_time": "2022-06-23T10:04:13.144Z"
      },
      {
        "duration": 83,
        "start_time": "2022-06-23T10:04:13.274Z"
      },
      {
        "duration": 117,
        "start_time": "2022-06-23T10:04:13.358Z"
      },
      {
        "duration": 997,
        "start_time": "2022-06-23T10:04:13.476Z"
      },
      {
        "duration": 1113,
        "start_time": "2022-06-23T10:05:18.732Z"
      },
      {
        "duration": 110,
        "start_time": "2022-06-23T10:06:32.255Z"
      },
      {
        "duration": 116,
        "start_time": "2022-06-23T10:06:36.970Z"
      },
      {
        "duration": 9,
        "start_time": "2022-06-23T10:07:02.477Z"
      },
      {
        "duration": 3,
        "start_time": "2022-06-23T10:07:20.123Z"
      },
      {
        "duration": 69,
        "start_time": "2022-06-23T10:07:24.334Z"
      },
      {
        "duration": 1081,
        "start_time": "2022-06-23T10:12:28.483Z"
      },
      {
        "duration": 532,
        "start_time": "2022-06-23T10:12:35.930Z"
      },
      {
        "duration": 2883,
        "start_time": "2022-06-23T10:19:16.923Z"
      },
      {
        "duration": 21,
        "start_time": "2022-06-23T10:19:19.808Z"
      },
      {
        "duration": 13,
        "start_time": "2022-06-23T10:19:24.528Z"
      },
      {
        "duration": 21,
        "start_time": "2022-06-23T10:19:37.638Z"
      },
      {
        "duration": 2311,
        "start_time": "2022-06-24T12:24:15.744Z"
      },
      {
        "duration": 1093,
        "start_time": "2022-06-24T12:24:18.057Z"
      },
      {
        "duration": 17,
        "start_time": "2022-06-24T12:24:19.152Z"
      },
      {
        "duration": 4,
        "start_time": "2022-06-24T12:24:19.171Z"
      },
      {
        "duration": 135,
        "start_time": "2022-06-24T12:24:19.177Z"
      },
      {
        "duration": 120,
        "start_time": "2022-06-24T12:24:19.313Z"
      },
      {
        "duration": 208,
        "start_time": "2022-06-24T12:24:19.435Z"
      },
      {
        "duration": 0,
        "start_time": "2022-06-24T12:24:19.644Z"
      },
      {
        "duration": 0,
        "start_time": "2022-06-24T12:24:19.646Z"
      },
      {
        "duration": 0,
        "start_time": "2022-06-24T12:24:19.647Z"
      },
      {
        "duration": 0,
        "start_time": "2022-06-24T12:24:19.658Z"
      },
      {
        "duration": 0,
        "start_time": "2022-06-24T12:24:19.659Z"
      },
      {
        "duration": 0,
        "start_time": "2022-06-24T12:24:19.660Z"
      },
      {
        "duration": 0,
        "start_time": "2022-06-24T12:24:19.661Z"
      },
      {
        "duration": 89,
        "start_time": "2022-06-24T12:24:38.741Z"
      },
      {
        "duration": 108,
        "start_time": "2022-06-24T12:24:58.940Z"
      },
      {
        "duration": 65,
        "start_time": "2022-06-24T12:25:02.901Z"
      },
      {
        "duration": 13,
        "start_time": "2022-06-24T12:25:07.048Z"
      },
      {
        "duration": 4,
        "start_time": "2022-06-24T12:25:50.090Z"
      },
      {
        "duration": 817,
        "start_time": "2022-06-24T12:25:50.098Z"
      },
      {
        "duration": 14,
        "start_time": "2022-06-24T12:25:50.916Z"
      },
      {
        "duration": 8,
        "start_time": "2022-06-24T12:25:50.932Z"
      },
      {
        "duration": 141,
        "start_time": "2022-06-24T12:25:50.941Z"
      },
      {
        "duration": 127,
        "start_time": "2022-06-24T12:25:51.083Z"
      },
      {
        "duration": 106,
        "start_time": "2022-06-24T12:25:51.212Z"
      },
      {
        "duration": 74,
        "start_time": "2022-06-24T12:25:51.320Z"
      },
      {
        "duration": 103,
        "start_time": "2022-06-24T12:25:51.396Z"
      },
      {
        "duration": 69,
        "start_time": "2022-06-24T12:25:51.500Z"
      },
      {
        "duration": 38,
        "start_time": "2022-06-24T12:25:51.572Z"
      },
      {
        "duration": 0,
        "start_time": "2022-06-24T12:25:51.612Z"
      },
      {
        "duration": 0,
        "start_time": "2022-06-24T12:25:51.613Z"
      },
      {
        "duration": 0,
        "start_time": "2022-06-24T12:25:51.614Z"
      },
      {
        "duration": 447,
        "start_time": "2022-06-24T12:26:04.128Z"
      },
      {
        "duration": 587,
        "start_time": "2022-06-24T12:26:14.482Z"
      },
      {
        "duration": 15,
        "start_time": "2022-06-24T12:26:16.096Z"
      },
      {
        "duration": 11,
        "start_time": "2022-06-24T12:37:12.624Z"
      },
      {
        "duration": 234,
        "start_time": "2022-06-24T12:38:13.564Z"
      },
      {
        "duration": 272,
        "start_time": "2022-06-24T12:38:56.820Z"
      },
      {
        "duration": 298,
        "start_time": "2022-06-24T12:40:09.055Z"
      },
      {
        "duration": 6,
        "start_time": "2022-06-24T12:40:36.418Z"
      },
      {
        "duration": 3,
        "start_time": "2022-06-24T12:40:50.280Z"
      },
      {
        "duration": 774,
        "start_time": "2022-06-24T12:40:50.287Z"
      },
      {
        "duration": 15,
        "start_time": "2022-06-24T12:40:51.063Z"
      },
      {
        "duration": 16,
        "start_time": "2022-06-24T12:40:51.079Z"
      },
      {
        "duration": 124,
        "start_time": "2022-06-24T12:40:51.097Z"
      },
      {
        "duration": 118,
        "start_time": "2022-06-24T12:40:51.223Z"
      },
      {
        "duration": 88,
        "start_time": "2022-06-24T12:40:51.342Z"
      },
      {
        "duration": 74,
        "start_time": "2022-06-24T12:40:51.432Z"
      },
      {
        "duration": 96,
        "start_time": "2022-06-24T12:40:51.507Z"
      },
      {
        "duration": 71,
        "start_time": "2022-06-24T12:40:51.604Z"
      },
      {
        "duration": 382,
        "start_time": "2022-06-24T12:40:51.677Z"
      },
      {
        "duration": 600,
        "start_time": "2022-06-24T12:40:52.061Z"
      },
      {
        "duration": 16,
        "start_time": "2022-06-24T12:40:52.662Z"
      },
      {
        "duration": 14,
        "start_time": "2022-06-24T12:40:52.680Z"
      },
      {
        "duration": 221,
        "start_time": "2022-06-24T12:41:02.659Z"
      },
      {
        "duration": 11,
        "start_time": "2022-06-24T12:41:20.451Z"
      },
      {
        "duration": 14,
        "start_time": "2022-06-24T12:41:27.096Z"
      },
      {
        "duration": 310,
        "start_time": "2022-06-24T12:42:04.582Z"
      },
      {
        "duration": 11,
        "start_time": "2022-06-24T12:44:00.022Z"
      },
      {
        "duration": 79,
        "start_time": "2022-06-24T12:44:04.715Z"
      },
      {
        "duration": 50,
        "start_time": "2022-06-24T12:44:40.599Z"
      },
      {
        "duration": 45,
        "start_time": "2022-06-24T12:45:19.212Z"
      },
      {
        "duration": 11,
        "start_time": "2022-06-24T12:46:39.510Z"
      },
      {
        "duration": 4,
        "start_time": "2022-06-24T12:46:47.242Z"
      },
      {
        "duration": 769,
        "start_time": "2022-06-24T12:46:47.247Z"
      },
      {
        "duration": 13,
        "start_time": "2022-06-24T12:46:48.019Z"
      },
      {
        "duration": 11,
        "start_time": "2022-06-24T12:46:48.034Z"
      },
      {
        "duration": 130,
        "start_time": "2022-06-24T12:46:48.047Z"
      },
      {
        "duration": 124,
        "start_time": "2022-06-24T12:46:48.179Z"
      },
      {
        "duration": 95,
        "start_time": "2022-06-24T12:46:48.305Z"
      },
      {
        "duration": 77,
        "start_time": "2022-06-24T12:46:48.401Z"
      },
      {
        "duration": 109,
        "start_time": "2022-06-24T12:46:48.479Z"
      },
      {
        "duration": 73,
        "start_time": "2022-06-24T12:46:48.589Z"
      },
      {
        "duration": 367,
        "start_time": "2022-06-24T12:46:48.665Z"
      },
      {
        "duration": 572,
        "start_time": "2022-06-24T12:46:49.033Z"
      },
      {
        "duration": 22,
        "start_time": "2022-06-24T12:46:49.607Z"
      },
      {
        "duration": 356,
        "start_time": "2022-06-24T12:47:15.280Z"
      },
      {
        "duration": 344,
        "start_time": "2022-06-24T12:47:24.444Z"
      },
      {
        "duration": 352,
        "start_time": "2022-06-24T12:47:31.126Z"
      },
      {
        "duration": 421,
        "start_time": "2022-06-24T12:47:39.675Z"
      },
      {
        "duration": 338,
        "start_time": "2022-06-24T12:47:43.882Z"
      },
      {
        "duration": 568,
        "start_time": "2022-06-24T12:47:45.878Z"
      },
      {
        "duration": 3,
        "start_time": "2022-06-24T12:47:53.905Z"
      },
      {
        "duration": 722,
        "start_time": "2022-06-24T12:47:53.911Z"
      },
      {
        "duration": 13,
        "start_time": "2022-06-24T12:47:54.635Z"
      },
      {
        "duration": 11,
        "start_time": "2022-06-24T12:47:54.650Z"
      },
      {
        "duration": 134,
        "start_time": "2022-06-24T12:47:54.663Z"
      },
      {
        "duration": 120,
        "start_time": "2022-06-24T12:47:54.798Z"
      },
      {
        "duration": 90,
        "start_time": "2022-06-24T12:47:54.919Z"
      },
      {
        "duration": 75,
        "start_time": "2022-06-24T12:47:55.011Z"
      },
      {
        "duration": 97,
        "start_time": "2022-06-24T12:47:55.088Z"
      },
      {
        "duration": 77,
        "start_time": "2022-06-24T12:47:55.187Z"
      },
      {
        "duration": 355,
        "start_time": "2022-06-24T12:47:55.267Z"
      },
      {
        "duration": 585,
        "start_time": "2022-06-24T12:47:55.624Z"
      },
      {
        "duration": 354,
        "start_time": "2022-06-24T12:48:20.669Z"
      },
      {
        "duration": 399,
        "start_time": "2022-06-24T12:48:23.196Z"
      },
      {
        "duration": 363,
        "start_time": "2022-06-24T12:48:27.581Z"
      },
      {
        "duration": 363,
        "start_time": "2022-06-24T12:48:36.177Z"
      },
      {
        "duration": 314,
        "start_time": "2022-06-24T12:48:38.959Z"
      },
      {
        "duration": 323,
        "start_time": "2022-06-24T12:48:45.248Z"
      },
      {
        "duration": 382,
        "start_time": "2022-06-24T12:48:49.085Z"
      },
      {
        "duration": 355,
        "start_time": "2022-06-24T12:48:51.775Z"
      },
      {
        "duration": 3,
        "start_time": "2022-06-24T12:48:55.200Z"
      },
      {
        "duration": 776,
        "start_time": "2022-06-24T12:48:55.206Z"
      },
      {
        "duration": 14,
        "start_time": "2022-06-24T12:48:55.985Z"
      },
      {
        "duration": 7,
        "start_time": "2022-06-24T12:48:56.001Z"
      },
      {
        "duration": 143,
        "start_time": "2022-06-24T12:48:56.010Z"
      },
      {
        "duration": 122,
        "start_time": "2022-06-24T12:48:56.155Z"
      },
      {
        "duration": 91,
        "start_time": "2022-06-24T12:48:56.279Z"
      },
      {
        "duration": 87,
        "start_time": "2022-06-24T12:48:56.372Z"
      },
      {
        "duration": 87,
        "start_time": "2022-06-24T12:48:56.460Z"
      },
      {
        "duration": 78,
        "start_time": "2022-06-24T12:48:56.549Z"
      },
      {
        "duration": 455,
        "start_time": "2022-06-24T12:48:56.630Z"
      },
      {
        "duration": 600,
        "start_time": "2022-06-24T12:49:01.325Z"
      },
      {
        "duration": 23,
        "start_time": "2022-06-24T12:49:03.887Z"
      },
      {
        "duration": 14,
        "start_time": "2022-06-24T12:49:15.051Z"
      },
      {
        "duration": 9,
        "start_time": "2022-06-24T12:56:11.095Z"
      },
      {
        "duration": 833,
        "start_time": "2022-06-24T12:56:36.680Z"
      },
      {
        "duration": 31,
        "start_time": "2022-06-24T12:56:42.383Z"
      },
      {
        "duration": 9,
        "start_time": "2022-06-24T12:57:00.006Z"
      },
      {
        "duration": 3,
        "start_time": "2022-06-24T12:57:16.838Z"
      },
      {
        "duration": 725,
        "start_time": "2022-06-24T12:57:16.903Z"
      },
      {
        "duration": 13,
        "start_time": "2022-06-24T12:57:17.630Z"
      },
      {
        "duration": 16,
        "start_time": "2022-06-24T12:57:17.644Z"
      },
      {
        "duration": 128,
        "start_time": "2022-06-24T12:57:17.662Z"
      },
      {
        "duration": 8,
        "start_time": "2022-06-24T12:57:24.140Z"
      },
      {
        "duration": 15,
        "start_time": "2022-06-24T13:05:01.075Z"
      },
      {
        "duration": 86,
        "start_time": "2022-06-24T13:15:23.108Z"
      },
      {
        "duration": 54,
        "start_time": "2022-06-24T13:15:25.230Z"
      },
      {
        "duration": 52,
        "start_time": "2022-06-24T13:25:51.325Z"
      },
      {
        "duration": 61,
        "start_time": "2022-06-24T13:26:16.359Z"
      },
      {
        "duration": 426,
        "start_time": "2022-06-24T13:29:44.924Z"
      },
      {
        "duration": 14,
        "start_time": "2022-06-24T13:29:47.396Z"
      },
      {
        "duration": 807,
        "start_time": "2022-06-24T13:30:12.473Z"
      },
      {
        "duration": 835,
        "start_time": "2022-06-24T13:30:23.877Z"
      },
      {
        "duration": 778,
        "start_time": "2022-06-24T13:33:18.739Z"
      },
      {
        "duration": 24,
        "start_time": "2022-06-24T13:35:13.379Z"
      },
      {
        "duration": 6,
        "start_time": "2022-06-24T13:36:49.387Z"
      },
      {
        "duration": 89,
        "start_time": "2022-06-24T13:39:00.105Z"
      },
      {
        "duration": 3,
        "start_time": "2022-06-24T13:40:01.203Z"
      },
      {
        "duration": 777,
        "start_time": "2022-06-24T13:40:01.209Z"
      },
      {
        "duration": 15,
        "start_time": "2022-06-24T13:40:01.988Z"
      },
      {
        "duration": 51,
        "start_time": "2022-06-24T13:40:02.005Z"
      },
      {
        "duration": 145,
        "start_time": "2022-06-24T13:40:02.058Z"
      },
      {
        "duration": 39,
        "start_time": "2022-06-24T13:40:02.205Z"
      },
      {
        "duration": 134,
        "start_time": "2022-06-24T13:40:02.245Z"
      },
      {
        "duration": 55,
        "start_time": "2022-06-24T13:40:02.381Z"
      },
      {
        "duration": 82,
        "start_time": "2022-06-24T13:40:02.438Z"
      },
      {
        "duration": 67,
        "start_time": "2022-06-24T13:40:02.522Z"
      },
      {
        "duration": 480,
        "start_time": "2022-06-24T13:40:02.592Z"
      },
      {
        "duration": 16,
        "start_time": "2022-06-24T13:40:03.074Z"
      },
      {
        "duration": 824,
        "start_time": "2022-06-24T13:40:03.092Z"
      },
      {
        "duration": 24,
        "start_time": "2022-06-24T13:40:03.918Z"
      },
      {
        "duration": 43,
        "start_time": "2022-06-24T13:40:03.943Z"
      },
      {
        "duration": 0,
        "start_time": "2022-06-24T13:40:03.988Z"
      },
      {
        "duration": 7,
        "start_time": "2022-06-24T13:40:32.605Z"
      },
      {
        "duration": 88,
        "start_time": "2022-06-24T13:40:36.913Z"
      },
      {
        "duration": 86,
        "start_time": "2022-06-24T13:41:35.973Z"
      },
      {
        "duration": 58,
        "start_time": "2022-06-24T13:41:47.375Z"
      },
      {
        "duration": 80,
        "start_time": "2022-06-24T13:41:52.108Z"
      },
      {
        "duration": 129,
        "start_time": "2022-06-24T13:42:24.288Z"
      },
      {
        "duration": 51,
        "start_time": "2022-06-24T13:42:59.586Z"
      },
      {
        "duration": 42,
        "start_time": "2022-06-24T13:43:37.579Z"
      },
      {
        "duration": 1510,
        "start_time": "2022-06-24T19:40:58.479Z"
      },
      {
        "duration": 9,
        "start_time": "2022-06-24T19:41:05.015Z"
      },
      {
        "duration": 4,
        "start_time": "2022-06-24T19:44:21.543Z"
      },
      {
        "duration": 11,
        "start_time": "2022-06-24T19:45:54.805Z"
      },
      {
        "duration": 11,
        "start_time": "2022-06-24T19:46:02.458Z"
      },
      {
        "duration": 9,
        "start_time": "2022-06-24T19:46:40.515Z"
      },
      {
        "duration": 9,
        "start_time": "2022-06-24T19:46:50.613Z"
      },
      {
        "duration": 3,
        "start_time": "2022-06-24T19:47:01.978Z"
      },
      {
        "duration": 3,
        "start_time": "2022-06-24T19:53:21.800Z"
      },
      {
        "duration": 946,
        "start_time": "2022-06-24T19:53:21.805Z"
      },
      {
        "duration": 16,
        "start_time": "2022-06-24T19:53:22.753Z"
      },
      {
        "duration": 3,
        "start_time": "2022-06-24T19:53:22.771Z"
      },
      {
        "duration": 114,
        "start_time": "2022-06-24T19:53:22.775Z"
      },
      {
        "duration": 12,
        "start_time": "2022-06-24T19:53:22.890Z"
      },
      {
        "duration": 112,
        "start_time": "2022-06-24T19:53:22.903Z"
      },
      {
        "duration": 47,
        "start_time": "2022-06-24T19:53:23.017Z"
      },
      {
        "duration": 94,
        "start_time": "2022-06-24T19:53:23.065Z"
      },
      {
        "duration": 43,
        "start_time": "2022-06-24T19:53:23.160Z"
      },
      {
        "duration": 369,
        "start_time": "2022-06-24T19:53:23.205Z"
      },
      {
        "duration": 12,
        "start_time": "2022-06-24T19:53:23.575Z"
      },
      {
        "duration": 808,
        "start_time": "2022-06-24T19:53:23.589Z"
      },
      {
        "duration": 25,
        "start_time": "2022-06-24T19:53:24.399Z"
      },
      {
        "duration": 7,
        "start_time": "2022-06-24T19:53:24.426Z"
      },
      {
        "duration": 48,
        "start_time": "2022-06-24T19:53:24.435Z"
      },
      {
        "duration": 5,
        "start_time": "2022-06-24T19:53:24.485Z"
      },
      {
        "duration": 56,
        "start_time": "2022-06-24T19:54:36.975Z"
      },
      {
        "duration": 3,
        "start_time": "2022-06-24T19:54:47.531Z"
      },
      {
        "duration": 52,
        "start_time": "2022-06-24T19:54:58.152Z"
      },
      {
        "duration": 4,
        "start_time": "2022-06-24T19:55:17.179Z"
      },
      {
        "duration": 57,
        "start_time": "2022-06-24T19:55:20.287Z"
      },
      {
        "duration": 4,
        "start_time": "2022-06-24T19:56:08.979Z"
      },
      {
        "duration": 55,
        "start_time": "2022-06-24T19:56:12.028Z"
      },
      {
        "duration": 4,
        "start_time": "2022-06-24T19:57:38.869Z"
      },
      {
        "duration": 4,
        "start_time": "2022-06-24T19:58:24.910Z"
      },
      {
        "duration": 5209,
        "start_time": "2022-06-24T19:58:31.362Z"
      },
      {
        "duration": 18,
        "start_time": "2022-06-24T20:01:18.886Z"
      },
      {
        "duration": 5416,
        "start_time": "2022-06-24T20:05:09.177Z"
      },
      {
        "duration": 9,
        "start_time": "2022-06-24T20:10:42.328Z"
      },
      {
        "duration": 53,
        "start_time": "2022-06-24T20:10:48.984Z"
      },
      {
        "duration": 5,
        "start_time": "2022-06-24T20:11:14.523Z"
      },
      {
        "duration": 289,
        "start_time": "2022-06-24T20:11:17.282Z"
      },
      {
        "duration": 4,
        "start_time": "2022-06-24T20:11:33.859Z"
      },
      {
        "duration": 0,
        "start_time": "2022-06-24T20:24:19.100Z"
      },
      {
        "duration": 0,
        "start_time": "2022-06-24T20:24:19.101Z"
      },
      {
        "duration": 4,
        "start_time": "2022-06-24T20:24:25.560Z"
      },
      {
        "duration": 780,
        "start_time": "2022-06-24T20:24:25.566Z"
      },
      {
        "duration": 14,
        "start_time": "2022-06-24T20:24:26.348Z"
      },
      {
        "duration": 6,
        "start_time": "2022-06-24T20:24:26.364Z"
      },
      {
        "duration": 133,
        "start_time": "2022-06-24T20:24:26.372Z"
      },
      {
        "duration": 8,
        "start_time": "2022-06-24T20:24:26.507Z"
      },
      {
        "duration": 114,
        "start_time": "2022-06-24T20:24:26.516Z"
      },
      {
        "duration": 55,
        "start_time": "2022-06-24T20:24:26.631Z"
      },
      {
        "duration": 73,
        "start_time": "2022-06-24T20:24:26.687Z"
      },
      {
        "duration": 48,
        "start_time": "2022-06-24T20:24:26.762Z"
      },
      {
        "duration": 435,
        "start_time": "2022-06-24T20:24:26.813Z"
      },
      {
        "duration": 12,
        "start_time": "2022-06-24T20:24:27.249Z"
      },
      {
        "duration": 707,
        "start_time": "2022-06-24T20:24:27.263Z"
      },
      {
        "duration": 23,
        "start_time": "2022-06-24T20:24:27.972Z"
      },
      {
        "duration": 8,
        "start_time": "2022-06-24T20:24:27.997Z"
      },
      {
        "duration": 53,
        "start_time": "2022-06-24T20:24:28.006Z"
      },
      {
        "duration": 5,
        "start_time": "2022-06-24T20:24:28.061Z"
      },
      {
        "duration": 7,
        "start_time": "2022-06-24T20:24:28.067Z"
      },
      {
        "duration": 5264,
        "start_time": "2022-06-24T20:24:28.076Z"
      },
      {
        "duration": 50695,
        "start_time": "2022-06-24T20:24:33.341Z"
      },
      {
        "duration": 4,
        "start_time": "2022-06-24T20:25:53.228Z"
      },
      {
        "duration": 304820,
        "start_time": "2022-06-24T20:25:57.278Z"
      },
      {
        "duration": 26,
        "start_time": "2022-06-24T20:36:01.587Z"
      },
      {
        "duration": 7,
        "start_time": "2022-06-24T20:46:25.405Z"
      },
      {
        "duration": 11,
        "start_time": "2022-06-24T20:48:11.420Z"
      },
      {
        "duration": 4,
        "start_time": "2022-06-24T20:48:51.792Z"
      },
      {
        "duration": 9,
        "start_time": "2022-06-24T20:48:57.122Z"
      },
      {
        "duration": 11,
        "start_time": "2022-06-24T20:48:59.447Z"
      },
      {
        "duration": 10,
        "start_time": "2022-06-24T20:49:58.911Z"
      },
      {
        "duration": 305,
        "start_time": "2022-06-24T20:50:09.949Z"
      },
      {
        "duration": 117,
        "start_time": "2022-06-24T20:50:43.836Z"
      },
      {
        "duration": 1532,
        "start_time": "2022-06-26T10:24:52.755Z"
      },
      {
        "duration": 1027,
        "start_time": "2022-06-26T10:24:54.289Z"
      },
      {
        "duration": 18,
        "start_time": "2022-06-26T10:24:55.317Z"
      },
      {
        "duration": 4,
        "start_time": "2022-06-26T10:24:55.337Z"
      },
      {
        "duration": 126,
        "start_time": "2022-06-26T10:24:55.343Z"
      },
      {
        "duration": 14,
        "start_time": "2022-06-26T10:24:55.471Z"
      },
      {
        "duration": 129,
        "start_time": "2022-06-26T10:24:55.487Z"
      },
      {
        "duration": 50,
        "start_time": "2022-06-26T10:24:55.618Z"
      },
      {
        "duration": 69,
        "start_time": "2022-06-26T10:24:55.670Z"
      },
      {
        "duration": 54,
        "start_time": "2022-06-26T10:24:55.742Z"
      },
      {
        "duration": 409,
        "start_time": "2022-06-26T10:24:55.798Z"
      },
      {
        "duration": 14,
        "start_time": "2022-06-26T10:24:56.209Z"
      },
      {
        "duration": 860,
        "start_time": "2022-06-26T10:24:56.225Z"
      },
      {
        "duration": 26,
        "start_time": "2022-06-26T10:24:57.088Z"
      },
      {
        "duration": 7,
        "start_time": "2022-06-26T10:24:57.116Z"
      },
      {
        "duration": 40,
        "start_time": "2022-06-26T10:24:57.125Z"
      },
      {
        "duration": 4,
        "start_time": "2022-06-26T10:24:57.167Z"
      },
      {
        "duration": 7,
        "start_time": "2022-06-26T10:24:57.173Z"
      },
      {
        "duration": 120,
        "start_time": "2022-06-26T10:24:57.181Z"
      },
      {
        "duration": 0,
        "start_time": "2022-06-26T10:24:57.302Z"
      },
      {
        "duration": 0,
        "start_time": "2022-06-26T10:24:57.304Z"
      },
      {
        "duration": 0,
        "start_time": "2022-06-26T10:24:57.305Z"
      },
      {
        "duration": 0,
        "start_time": "2022-06-26T10:24:57.306Z"
      },
      {
        "duration": 3,
        "start_time": "2022-06-26T10:25:26.896Z"
      },
      {
        "duration": 705,
        "start_time": "2022-06-26T10:25:26.901Z"
      },
      {
        "duration": 15,
        "start_time": "2022-06-26T10:25:27.608Z"
      },
      {
        "duration": 5,
        "start_time": "2022-06-26T10:25:27.624Z"
      },
      {
        "duration": 109,
        "start_time": "2022-06-26T10:25:27.631Z"
      },
      {
        "duration": 8,
        "start_time": "2022-06-26T10:25:27.742Z"
      },
      {
        "duration": 107,
        "start_time": "2022-06-26T10:25:27.752Z"
      },
      {
        "duration": 47,
        "start_time": "2022-06-26T10:25:27.861Z"
      },
      {
        "duration": 65,
        "start_time": "2022-06-26T10:25:27.910Z"
      },
      {
        "duration": 44,
        "start_time": "2022-06-26T10:25:27.977Z"
      },
      {
        "duration": 422,
        "start_time": "2022-06-26T10:25:28.023Z"
      },
      {
        "duration": 21,
        "start_time": "2022-06-26T10:25:28.448Z"
      },
      {
        "duration": 836,
        "start_time": "2022-06-26T10:25:28.471Z"
      },
      {
        "duration": 24,
        "start_time": "2022-06-26T10:25:29.309Z"
      },
      {
        "duration": 7,
        "start_time": "2022-06-26T10:25:29.335Z"
      },
      {
        "duration": 52,
        "start_time": "2022-06-26T10:25:29.344Z"
      },
      {
        "duration": 4,
        "start_time": "2022-06-26T10:25:29.398Z"
      },
      {
        "duration": 6,
        "start_time": "2022-06-26T10:25:29.404Z"
      },
      {
        "duration": 13,
        "start_time": "2022-06-26T10:25:29.411Z"
      },
      {
        "duration": 0,
        "start_time": "2022-06-26T10:25:29.426Z"
      },
      {
        "duration": 0,
        "start_time": "2022-06-26T10:25:29.427Z"
      },
      {
        "duration": 0,
        "start_time": "2022-06-26T10:25:29.428Z"
      },
      {
        "duration": 14,
        "start_time": "2022-06-26T10:26:10.824Z"
      },
      {
        "duration": 5819,
        "start_time": "2022-06-26T10:26:14.544Z"
      },
      {
        "duration": 13,
        "start_time": "2022-06-26T10:26:50.850Z"
      },
      {
        "duration": 11,
        "start_time": "2022-06-26T10:27:35.134Z"
      },
      {
        "duration": 4,
        "start_time": "2022-06-26T10:27:46.126Z"
      },
      {
        "duration": 14,
        "start_time": "2022-06-26T10:27:49.596Z"
      },
      {
        "duration": 77,
        "start_time": "2022-06-26T10:29:10.251Z"
      },
      {
        "duration": 312563,
        "start_time": "2022-06-26T10:29:16.405Z"
      },
      {
        "duration": 79,
        "start_time": "2022-06-26T10:35:18.492Z"
      },
      {
        "duration": 12,
        "start_time": "2022-06-26T10:35:23.891Z"
      },
      {
        "duration": 13,
        "start_time": "2022-06-26T10:35:37.236Z"
      },
      {
        "duration": 2213,
        "start_time": "2022-06-26T10:35:57.410Z"
      },
      {
        "duration": 1731,
        "start_time": "2022-06-26T10:37:12.448Z"
      },
      {
        "duration": 1622,
        "start_time": "2022-06-26T10:38:11.012Z"
      },
      {
        "duration": 49,
        "start_time": "2022-06-26T11:01:06.070Z"
      },
      {
        "duration": 2079,
        "start_time": "2022-06-26T11:01:13.489Z"
      },
      {
        "duration": 1595,
        "start_time": "2022-06-26T11:01:25.889Z"
      },
      {
        "duration": 2357,
        "start_time": "2022-06-26T11:01:33.717Z"
      },
      {
        "duration": 3417,
        "start_time": "2022-06-26T11:01:40.870Z"
      },
      {
        "duration": 3,
        "start_time": "2022-06-26T11:06:43.418Z"
      },
      {
        "duration": 3,
        "start_time": "2022-06-26T11:06:48.875Z"
      },
      {
        "duration": 3804,
        "start_time": "2022-06-26T11:10:33.381Z"
      },
      {
        "duration": 1479,
        "start_time": "2022-06-26T11:10:54.165Z"
      },
      {
        "duration": 305353,
        "start_time": "2022-06-26T11:11:21.514Z"
      },
      {
        "duration": 1674,
        "start_time": "2022-06-26T14:47:06.956Z"
      },
      {
        "duration": 5,
        "start_time": "2022-06-26T14:51:29.085Z"
      },
      {
        "duration": 1116,
        "start_time": "2022-06-26T14:51:29.093Z"
      },
      {
        "duration": 17,
        "start_time": "2022-06-26T14:51:30.212Z"
      },
      {
        "duration": 10,
        "start_time": "2022-06-26T14:51:30.230Z"
      },
      {
        "duration": 126,
        "start_time": "2022-06-26T14:51:30.243Z"
      },
      {
        "duration": 14,
        "start_time": "2022-06-26T14:51:30.371Z"
      },
      {
        "duration": 126,
        "start_time": "2022-06-26T14:51:30.386Z"
      },
      {
        "duration": 42,
        "start_time": "2022-06-26T14:51:30.514Z"
      },
      {
        "duration": 98,
        "start_time": "2022-06-26T14:51:30.566Z"
      },
      {
        "duration": 63,
        "start_time": "2022-06-26T14:51:30.666Z"
      },
      {
        "duration": 443,
        "start_time": "2022-06-26T14:51:30.731Z"
      },
      {
        "duration": 14,
        "start_time": "2022-06-26T14:51:31.176Z"
      },
      {
        "duration": 877,
        "start_time": "2022-06-26T14:51:31.192Z"
      },
      {
        "duration": 27,
        "start_time": "2022-06-26T14:51:32.073Z"
      },
      {
        "duration": 7,
        "start_time": "2022-06-26T14:51:32.102Z"
      },
      {
        "duration": 45,
        "start_time": "2022-06-26T14:51:32.111Z"
      },
      {
        "duration": 6,
        "start_time": "2022-06-26T14:51:32.167Z"
      },
      {
        "duration": 11,
        "start_time": "2022-06-26T14:51:32.175Z"
      },
      {
        "duration": 6430,
        "start_time": "2022-06-26T14:51:32.188Z"
      },
      {
        "duration": 361244,
        "start_time": "2022-06-26T14:51:38.620Z"
      },
      {
        "duration": 105,
        "start_time": "2022-06-26T14:57:39.865Z"
      },
      {
        "duration": 1864,
        "start_time": "2022-06-26T14:57:39.972Z"
      },
      {
        "duration": 235854,
        "start_time": "2022-06-26T14:57:41.838Z"
      },
      {
        "duration": 1496,
        "start_time": "2022-06-28T02:31:02.951Z"
      },
      {
        "duration": 970,
        "start_time": "2022-06-28T02:31:04.449Z"
      },
      {
        "duration": 17,
        "start_time": "2022-06-28T02:31:05.420Z"
      },
      {
        "duration": 4,
        "start_time": "2022-06-28T02:31:05.439Z"
      },
      {
        "duration": 113,
        "start_time": "2022-06-28T02:31:05.444Z"
      },
      {
        "duration": 13,
        "start_time": "2022-06-28T02:31:05.558Z"
      },
      {
        "duration": 120,
        "start_time": "2022-06-28T02:31:05.572Z"
      },
      {
        "duration": 42,
        "start_time": "2022-06-28T02:31:05.694Z"
      },
      {
        "duration": 76,
        "start_time": "2022-06-28T02:31:05.738Z"
      },
      {
        "duration": 46,
        "start_time": "2022-06-28T02:31:05.816Z"
      },
      {
        "duration": 378,
        "start_time": "2022-06-28T02:31:05.863Z"
      },
      {
        "duration": 20,
        "start_time": "2022-06-28T02:31:06.242Z"
      },
      {
        "duration": 825,
        "start_time": "2022-06-28T02:31:06.264Z"
      },
      {
        "duration": 25,
        "start_time": "2022-06-28T02:31:07.091Z"
      },
      {
        "duration": 7,
        "start_time": "2022-06-28T02:31:07.117Z"
      },
      {
        "duration": 39,
        "start_time": "2022-06-28T02:31:07.125Z"
      },
      {
        "duration": 5,
        "start_time": "2022-06-28T02:31:07.165Z"
      },
      {
        "duration": 6,
        "start_time": "2022-06-28T02:31:07.172Z"
      },
      {
        "duration": 5403,
        "start_time": "2022-06-28T02:31:07.180Z"
      },
      {
        "duration": 300772,
        "start_time": "2022-06-28T02:31:12.585Z"
      },
      {
        "duration": 294,
        "start_time": "2022-06-28T02:36:13.358Z"
      },
      {
        "duration": 1678,
        "start_time": "2022-06-28T02:36:13.653Z"
      },
      {
        "duration": 220435,
        "start_time": "2022-06-28T02:36:15.333Z"
      },
      {
        "duration": 861758,
        "start_time": "2022-06-28T02:39:55.771Z"
      },
      {
        "duration": 0,
        "start_time": "2022-06-28T02:54:17.532Z"
      },
      {
        "duration": 0,
        "start_time": "2022-06-28T02:54:17.533Z"
      },
      {
        "duration": 0,
        "start_time": "2022-06-28T02:54:17.535Z"
      },
      {
        "duration": 4,
        "start_time": "2022-06-28T02:54:52.667Z"
      },
      {
        "duration": 26,
        "start_time": "2022-06-28T02:56:24.038Z"
      },
      {
        "duration": 806,
        "start_time": "2022-06-28T02:56:26.313Z"
      },
      {
        "duration": 7,
        "start_time": "2022-06-28T02:56:29.030Z"
      },
      {
        "duration": 12,
        "start_time": "2022-06-28T02:58:34.966Z"
      },
      {
        "duration": 305,
        "start_time": "2022-06-28T02:58:37.363Z"
      },
      {
        "duration": 5,
        "start_time": "2022-06-28T02:59:58.555Z"
      },
      {
        "duration": 4,
        "start_time": "2022-06-28T03:00:04.958Z"
      },
      {
        "duration": 2591,
        "start_time": "2022-06-28T03:00:19.016Z"
      },
      {
        "duration": 17,
        "start_time": "2022-06-28T03:01:35.566Z"
      },
      {
        "duration": 17,
        "start_time": "2022-06-28T03:11:50.029Z"
      },
      {
        "duration": 4,
        "start_time": "2022-06-28T03:11:53.235Z"
      },
      {
        "duration": 1967,
        "start_time": "2022-06-28T09:22:05.238Z"
      },
      {
        "duration": 1068,
        "start_time": "2022-06-28T09:22:07.207Z"
      },
      {
        "duration": 16,
        "start_time": "2022-06-28T09:22:08.277Z"
      },
      {
        "duration": 4,
        "start_time": "2022-06-28T09:22:08.295Z"
      },
      {
        "duration": 136,
        "start_time": "2022-06-28T09:22:08.300Z"
      },
      {
        "duration": 15,
        "start_time": "2022-06-28T09:22:08.906Z"
      },
      {
        "duration": 118,
        "start_time": "2022-06-28T09:22:09.588Z"
      },
      {
        "duration": 63,
        "start_time": "2022-06-28T09:22:10.269Z"
      },
      {
        "duration": 73,
        "start_time": "2022-06-28T09:22:10.954Z"
      },
      {
        "duration": 45,
        "start_time": "2022-06-28T09:22:11.264Z"
      },
      {
        "duration": 43,
        "start_time": "2022-06-28T09:22:12.237Z"
      },
      {
        "duration": 401,
        "start_time": "2022-06-28T09:22:30.373Z"
      },
      {
        "duration": 15,
        "start_time": "2022-06-28T09:22:31.671Z"
      },
      {
        "duration": 911,
        "start_time": "2022-06-28T09:22:33.502Z"
      },
      {
        "duration": 26,
        "start_time": "2022-06-28T09:22:35.850Z"
      },
      {
        "duration": 8,
        "start_time": "2022-06-28T09:22:37.344Z"
      },
      {
        "duration": 42,
        "start_time": "2022-06-28T09:22:38.349Z"
      },
      {
        "duration": 120,
        "start_time": "2022-06-28T09:22:41.642Z"
      },
      {
        "duration": 1564,
        "start_time": "2022-06-28T15:28:43.428Z"
      },
      {
        "duration": 1029,
        "start_time": "2022-06-28T15:28:44.994Z"
      },
      {
        "duration": 18,
        "start_time": "2022-06-28T15:28:46.025Z"
      },
      {
        "duration": 4,
        "start_time": "2022-06-28T15:28:46.044Z"
      },
      {
        "duration": 144,
        "start_time": "2022-06-28T15:28:46.050Z"
      },
      {
        "duration": 13,
        "start_time": "2022-06-28T15:28:46.195Z"
      },
      {
        "duration": 137,
        "start_time": "2022-06-28T15:28:46.210Z"
      },
      {
        "duration": 57,
        "start_time": "2022-06-28T15:28:46.348Z"
      },
      {
        "duration": 94,
        "start_time": "2022-06-28T15:28:46.407Z"
      },
      {
        "duration": 72,
        "start_time": "2022-06-28T15:28:46.503Z"
      },
      {
        "duration": 50,
        "start_time": "2022-06-28T15:28:46.576Z"
      },
      {
        "duration": 448,
        "start_time": "2022-06-28T15:28:46.628Z"
      },
      {
        "duration": 13,
        "start_time": "2022-06-28T15:28:47.078Z"
      },
      {
        "duration": 938,
        "start_time": "2022-06-28T15:28:47.093Z"
      },
      {
        "duration": 26,
        "start_time": "2022-06-28T15:28:48.033Z"
      },
      {
        "duration": 7,
        "start_time": "2022-06-28T15:28:48.060Z"
      },
      {
        "duration": 43,
        "start_time": "2022-06-28T15:28:48.069Z"
      },
      {
        "duration": 117,
        "start_time": "2022-06-28T15:29:15.545Z"
      },
      {
        "duration": 11,
        "start_time": "2022-06-28T15:29:23.036Z"
      },
      {
        "duration": 5,
        "start_time": "2022-06-28T15:30:41.400Z"
      },
      {
        "duration": 13,
        "start_time": "2022-06-28T15:30:57.560Z"
      },
      {
        "duration": 17,
        "start_time": "2022-06-28T15:31:24.699Z"
      },
      {
        "duration": 10074,
        "start_time": "2022-06-28T15:31:46.087Z"
      },
      {
        "duration": 15,
        "start_time": "2022-06-28T15:34:48.698Z"
      },
      {
        "duration": 10085,
        "start_time": "2022-06-28T15:34:54.140Z"
      },
      {
        "duration": 53,
        "start_time": "2022-06-28T15:49:33.728Z"
      },
      {
        "duration": 79,
        "start_time": "2022-06-28T15:50:03.836Z"
      },
      {
        "duration": 10229,
        "start_time": "2022-06-28T15:50:10.195Z"
      },
      {
        "duration": 667136,
        "start_time": "2022-06-28T15:51:58.464Z"
      },
      {
        "duration": 106,
        "start_time": "2022-06-28T16:03:34.386Z"
      },
      {
        "duration": 5,
        "start_time": "2022-06-28T16:03:42.506Z"
      },
      {
        "duration": 82,
        "start_time": "2022-06-28T16:03:54.126Z"
      },
      {
        "duration": 749,
        "start_time": "2022-06-28T16:04:18.695Z"
      },
      {
        "duration": 231260,
        "start_time": "2022-06-28T16:04:43.273Z"
      },
      {
        "duration": 93,
        "start_time": "2022-06-28T16:10:19.562Z"
      },
      {
        "duration": 0,
        "start_time": "2022-06-28T16:10:19.657Z"
      },
      {
        "duration": 0,
        "start_time": "2022-06-28T16:10:19.658Z"
      },
      {
        "duration": 0,
        "start_time": "2022-06-28T16:10:19.659Z"
      },
      {
        "duration": 0,
        "start_time": "2022-06-28T16:10:19.660Z"
      },
      {
        "duration": 0,
        "start_time": "2022-06-28T16:10:19.662Z"
      },
      {
        "duration": 0,
        "start_time": "2022-06-28T16:10:19.663Z"
      },
      {
        "duration": 74,
        "start_time": "2022-06-28T16:10:19.693Z"
      },
      {
        "duration": 0,
        "start_time": "2022-06-28T16:10:19.769Z"
      },
      {
        "duration": 0,
        "start_time": "2022-06-28T16:10:19.771Z"
      },
      {
        "duration": 0,
        "start_time": "2022-06-28T16:10:19.772Z"
      },
      {
        "duration": 0,
        "start_time": "2022-06-28T16:10:19.775Z"
      },
      {
        "duration": 0,
        "start_time": "2022-06-28T16:10:19.776Z"
      },
      {
        "duration": 0,
        "start_time": "2022-06-28T16:10:19.778Z"
      },
      {
        "duration": 0,
        "start_time": "2022-06-28T16:10:19.779Z"
      },
      {
        "duration": 12,
        "start_time": "2022-06-28T16:10:19.817Z"
      },
      {
        "duration": 14,
        "start_time": "2022-06-28T16:10:19.831Z"
      },
      {
        "duration": 47,
        "start_time": "2022-06-28T16:10:19.847Z"
      },
      {
        "duration": 9920,
        "start_time": "2022-06-28T16:10:19.896Z"
      },
      {
        "duration": 635329,
        "start_time": "2022-06-28T16:10:29.818Z"
      },
      {
        "duration": 602,
        "start_time": "2022-06-28T16:21:05.149Z"
      },
      {
        "duration": 325071,
        "start_time": "2022-06-28T16:21:05.753Z"
      },
      {
        "duration": 15,
        "start_time": "2022-06-28T16:26:30.826Z"
      },
      {
        "duration": 609,
        "start_time": "2022-06-28T16:26:30.843Z"
      },
      {
        "duration": 270,
        "start_time": "2022-06-28T16:26:31.454Z"
      },
      {
        "duration": 52,
        "start_time": "2022-06-28T18:18:21.247Z"
      },
      {
        "duration": 1544,
        "start_time": "2022-06-28T18:18:21.434Z"
      },
      {
        "duration": 1041,
        "start_time": "2022-06-28T18:18:22.980Z"
      },
      {
        "duration": 17,
        "start_time": "2022-06-28T18:18:24.023Z"
      },
      {
        "duration": 4,
        "start_time": "2022-06-28T18:18:24.041Z"
      },
      {
        "duration": 143,
        "start_time": "2022-06-28T18:18:24.046Z"
      },
      {
        "duration": 13,
        "start_time": "2022-06-28T18:18:24.191Z"
      },
      {
        "duration": 136,
        "start_time": "2022-06-28T18:18:24.206Z"
      },
      {
        "duration": 55,
        "start_time": "2022-06-28T18:18:24.344Z"
      },
      {
        "duration": 90,
        "start_time": "2022-06-28T18:18:24.400Z"
      },
      {
        "duration": 62,
        "start_time": "2022-06-28T18:18:24.492Z"
      },
      {
        "duration": 40,
        "start_time": "2022-06-28T18:18:24.556Z"
      },
      {
        "duration": 943,
        "start_time": "2022-06-28T18:31:19.975Z"
      },
      {
        "duration": 879,
        "start_time": "2022-06-28T18:31:38.802Z"
      },
      {
        "duration": 1091,
        "start_time": "2022-06-28T18:32:14.887Z"
      },
      {
        "duration": 769,
        "start_time": "2022-06-28T18:32:27.381Z"
      },
      {
        "duration": 23,
        "start_time": "2022-06-28T18:32:51.355Z"
      },
      {
        "duration": 129,
        "start_time": "2022-06-28T18:33:07.423Z"
      },
      {
        "duration": 12,
        "start_time": "2022-06-28T18:35:29.714Z"
      },
      {
        "duration": 10,
        "start_time": "2022-06-28T18:35:33.913Z"
      },
      {
        "duration": 118,
        "start_time": "2022-06-28T18:35:40.855Z"
      },
      {
        "duration": 117,
        "start_time": "2022-06-28T18:39:03.870Z"
      },
      {
        "duration": 134,
        "start_time": "2022-06-28T18:39:07.834Z"
      },
      {
        "duration": 278,
        "start_time": "2022-06-28T18:39:14.714Z"
      },
      {
        "duration": 1351,
        "start_time": "2022-06-28T18:39:20.034Z"
      },
      {
        "duration": 829,
        "start_time": "2022-06-28T18:40:30.495Z"
      },
      {
        "duration": 250,
        "start_time": "2022-06-28T18:40:49.243Z"
      },
      {
        "duration": 407,
        "start_time": "2022-06-28T18:40:57.861Z"
      },
      {
        "duration": 191,
        "start_time": "2022-06-28T18:41:50.576Z"
      },
      {
        "duration": 181,
        "start_time": "2022-06-28T18:42:07.735Z"
      },
      {
        "duration": 137,
        "start_time": "2022-06-28T18:42:15.183Z"
      },
      {
        "duration": 194,
        "start_time": "2022-06-28T18:42:44.057Z"
      },
      {
        "duration": 286,
        "start_time": "2022-06-28T18:43:21.415Z"
      },
      {
        "duration": 196,
        "start_time": "2022-06-28T18:43:37.236Z"
      },
      {
        "duration": 173,
        "start_time": "2022-06-28T18:44:10.282Z"
      },
      {
        "duration": 185,
        "start_time": "2022-06-28T18:44:14.683Z"
      },
      {
        "duration": 178,
        "start_time": "2022-06-28T18:44:38.356Z"
      },
      {
        "duration": 21,
        "start_time": "2022-06-28T18:45:20.685Z"
      },
      {
        "duration": 183,
        "start_time": "2022-06-28T18:45:48.783Z"
      },
      {
        "duration": 43,
        "start_time": "2022-06-28T18:45:55.755Z"
      },
      {
        "duration": 22,
        "start_time": "2022-06-28T18:46:09.616Z"
      },
      {
        "duration": 28,
        "start_time": "2022-06-28T18:47:02.896Z"
      },
      {
        "duration": 27,
        "start_time": "2022-06-28T18:47:22.016Z"
      },
      {
        "duration": 24,
        "start_time": "2022-06-28T18:47:44.986Z"
      },
      {
        "duration": 48,
        "start_time": "2022-06-28T18:48:04.517Z"
      },
      {
        "duration": 18,
        "start_time": "2022-06-28T18:50:09.678Z"
      },
      {
        "duration": 45,
        "start_time": "2022-06-28T18:51:20.936Z"
      },
      {
        "duration": 17,
        "start_time": "2022-06-28T18:52:47.909Z"
      },
      {
        "duration": 18,
        "start_time": "2022-06-28T18:55:26.256Z"
      },
      {
        "duration": 44,
        "start_time": "2022-06-28T18:55:28.996Z"
      },
      {
        "duration": 45,
        "start_time": "2022-06-28T18:55:37.816Z"
      },
      {
        "duration": 188,
        "start_time": "2022-06-28T18:55:42.356Z"
      },
      {
        "duration": 45,
        "start_time": "2022-06-28T18:55:51.288Z"
      },
      {
        "duration": 364,
        "start_time": "2022-06-28T18:56:01.989Z"
      },
      {
        "duration": 19,
        "start_time": "2022-06-28T18:56:05.716Z"
      },
      {
        "duration": 182,
        "start_time": "2022-06-28T18:56:10.456Z"
      },
      {
        "duration": 17,
        "start_time": "2022-06-28T18:56:13.996Z"
      },
      {
        "duration": 168,
        "start_time": "2022-06-28T18:56:16.836Z"
      },
      {
        "duration": 73,
        "start_time": "2022-06-28T18:56:30.646Z"
      },
      {
        "duration": 0,
        "start_time": "2022-06-28T18:56:30.720Z"
      },
      {
        "duration": 0,
        "start_time": "2022-06-28T18:56:30.722Z"
      },
      {
        "duration": 0,
        "start_time": "2022-06-28T18:56:30.723Z"
      },
      {
        "duration": 0,
        "start_time": "2022-06-28T18:56:30.724Z"
      },
      {
        "duration": 0,
        "start_time": "2022-06-28T18:56:30.725Z"
      },
      {
        "duration": 0,
        "start_time": "2022-06-28T18:56:30.726Z"
      },
      {
        "duration": 0,
        "start_time": "2022-06-28T18:56:30.726Z"
      },
      {
        "duration": 0,
        "start_time": "2022-06-28T18:56:30.727Z"
      },
      {
        "duration": 0,
        "start_time": "2022-06-28T18:56:30.728Z"
      },
      {
        "duration": 0,
        "start_time": "2022-06-28T18:56:30.729Z"
      },
      {
        "duration": 166,
        "start_time": "2022-06-28T18:56:41.136Z"
      },
      {
        "duration": 174,
        "start_time": "2022-06-28T18:56:44.148Z"
      },
      {
        "duration": 178,
        "start_time": "2022-06-28T18:56:55.736Z"
      },
      {
        "duration": 60,
        "start_time": "2022-06-28T18:57:02.790Z"
      },
      {
        "duration": 0,
        "start_time": "2022-06-28T18:57:02.852Z"
      },
      {
        "duration": 0,
        "start_time": "2022-06-28T18:57:02.853Z"
      },
      {
        "duration": 0,
        "start_time": "2022-06-28T18:57:02.854Z"
      },
      {
        "duration": 0,
        "start_time": "2022-06-28T18:57:02.855Z"
      },
      {
        "duration": 0,
        "start_time": "2022-06-28T18:57:02.856Z"
      },
      {
        "duration": 0,
        "start_time": "2022-06-28T18:57:02.857Z"
      },
      {
        "duration": 0,
        "start_time": "2022-06-28T18:57:02.858Z"
      },
      {
        "duration": 0,
        "start_time": "2022-06-28T18:57:02.859Z"
      },
      {
        "duration": 0,
        "start_time": "2022-06-28T18:57:02.860Z"
      },
      {
        "duration": 0,
        "start_time": "2022-06-28T18:57:02.861Z"
      },
      {
        "duration": 0,
        "start_time": "2022-06-28T18:57:02.862Z"
      },
      {
        "duration": 169,
        "start_time": "2022-06-28T18:57:12.093Z"
      },
      {
        "duration": 52,
        "start_time": "2022-06-28T18:57:32.405Z"
      },
      {
        "duration": 0,
        "start_time": "2022-06-28T18:57:32.458Z"
      },
      {
        "duration": 0,
        "start_time": "2022-06-28T18:57:32.459Z"
      },
      {
        "duration": 0,
        "start_time": "2022-06-28T18:57:32.460Z"
      },
      {
        "duration": 0,
        "start_time": "2022-06-28T18:57:32.461Z"
      },
      {
        "duration": 0,
        "start_time": "2022-06-28T18:57:32.462Z"
      },
      {
        "duration": 0,
        "start_time": "2022-06-28T18:57:32.463Z"
      },
      {
        "duration": 0,
        "start_time": "2022-06-28T18:57:32.464Z"
      },
      {
        "duration": 0,
        "start_time": "2022-06-28T18:57:32.465Z"
      },
      {
        "duration": 0,
        "start_time": "2022-06-28T18:57:32.466Z"
      },
      {
        "duration": 0,
        "start_time": "2022-06-28T18:57:32.467Z"
      },
      {
        "duration": 177,
        "start_time": "2022-06-28T18:57:40.624Z"
      },
      {
        "duration": 45,
        "start_time": "2022-06-28T18:57:44.424Z"
      },
      {
        "duration": 18,
        "start_time": "2022-06-28T18:57:58.557Z"
      },
      {
        "duration": 46,
        "start_time": "2022-06-28T18:58:01.036Z"
      },
      {
        "duration": 10,
        "start_time": "2022-06-28T18:58:53.856Z"
      },
      {
        "duration": 52,
        "start_time": "2022-06-28T18:59:33.218Z"
      },
      {
        "duration": 0,
        "start_time": "2022-06-28T18:59:33.272Z"
      },
      {
        "duration": 0,
        "start_time": "2022-06-28T18:59:33.273Z"
      },
      {
        "duration": 0,
        "start_time": "2022-06-28T18:59:33.274Z"
      },
      {
        "duration": 0,
        "start_time": "2022-06-28T18:59:33.275Z"
      },
      {
        "duration": 0,
        "start_time": "2022-06-28T18:59:33.277Z"
      },
      {
        "duration": 0,
        "start_time": "2022-06-28T18:59:33.278Z"
      },
      {
        "duration": 0,
        "start_time": "2022-06-28T18:59:33.279Z"
      },
      {
        "duration": 0,
        "start_time": "2022-06-28T18:59:33.280Z"
      },
      {
        "duration": 0,
        "start_time": "2022-06-28T18:59:33.281Z"
      },
      {
        "duration": 0,
        "start_time": "2022-06-28T18:59:33.282Z"
      },
      {
        "duration": 0,
        "start_time": "2022-06-28T18:59:33.283Z"
      },
      {
        "duration": 16,
        "start_time": "2022-06-28T18:59:33.286Z"
      },
      {
        "duration": 7,
        "start_time": "2022-06-28T18:59:33.304Z"
      },
      {
        "duration": 55,
        "start_time": "2022-06-28T18:59:33.313Z"
      },
      {
        "duration": 453,
        "start_time": "2022-06-28T18:59:33.370Z"
      },
      {
        "duration": 15,
        "start_time": "2022-06-28T18:59:33.826Z"
      },
      {
        "duration": 911,
        "start_time": "2022-06-28T18:59:33.842Z"
      },
      {
        "duration": 25,
        "start_time": "2022-06-28T18:59:34.755Z"
      },
      {
        "duration": 9,
        "start_time": "2022-06-28T18:59:34.782Z"
      },
      {
        "duration": 48,
        "start_time": "2022-06-28T18:59:34.792Z"
      },
      {
        "duration": 9688,
        "start_time": "2022-06-28T18:59:34.842Z"
      },
      {
        "duration": 987,
        "start_time": "2022-06-28T18:59:44.532Z"
      },
      {
        "duration": 806,
        "start_time": "2022-06-28T18:59:45.521Z"
      },
      {
        "duration": 69776,
        "start_time": "2022-06-28T18:59:46.329Z"
      },
      {
        "duration": 14,
        "start_time": "2022-06-28T19:00:56.107Z"
      },
      {
        "duration": 15,
        "start_time": "2022-06-28T19:00:56.122Z"
      },
      {
        "duration": 0,
        "start_time": "2022-06-28T19:00:56.139Z"
      },
      {
        "duration": 0,
        "start_time": "2022-06-28T19:00:56.142Z"
      },
      {
        "duration": 19,
        "start_time": "2022-06-28T19:01:02.192Z"
      },
      {
        "duration": 505,
        "start_time": "2022-06-28T19:01:18.529Z"
      },
      {
        "duration": 17,
        "start_time": "2022-06-28T19:01:41.028Z"
      },
      {
        "duration": 17,
        "start_time": "2022-06-28T19:01:51.089Z"
      },
      {
        "duration": 43,
        "start_time": "2022-06-28T19:01:53.557Z"
      },
      {
        "duration": 14,
        "start_time": "2022-06-28T19:02:11.044Z"
      },
      {
        "duration": 53,
        "start_time": "2022-06-28T19:02:13.184Z"
      },
      {
        "duration": 15,
        "start_time": "2022-06-28T19:02:55.209Z"
      },
      {
        "duration": 49,
        "start_time": "2022-06-28T19:03:26.377Z"
      },
      {
        "duration": 31,
        "start_time": "2022-06-28T19:03:48.108Z"
      },
      {
        "duration": 18,
        "start_time": "2022-06-28T19:03:53.517Z"
      },
      {
        "duration": 68,
        "start_time": "2022-06-28T19:04:09.344Z"
      },
      {
        "duration": 19,
        "start_time": "2022-06-28T19:04:31.765Z"
      },
      {
        "duration": 220,
        "start_time": "2022-06-28T19:04:45.437Z"
      },
      {
        "duration": 217,
        "start_time": "2022-06-28T19:04:52.256Z"
      },
      {
        "duration": 48,
        "start_time": "2022-06-28T19:04:56.816Z"
      },
      {
        "duration": 17,
        "start_time": "2022-06-28T19:08:03.786Z"
      },
      {
        "duration": 20,
        "start_time": "2022-06-28T19:08:33.493Z"
      },
      {
        "duration": 18,
        "start_time": "2022-06-28T19:09:41.794Z"
      },
      {
        "duration": 14,
        "start_time": "2022-06-28T19:10:05.538Z"
      },
      {
        "duration": 232,
        "start_time": "2022-06-28T19:10:09.487Z"
      },
      {
        "duration": 44,
        "start_time": "2022-06-28T19:10:14.557Z"
      },
      {
        "duration": 46,
        "start_time": "2022-06-28T19:10:17.537Z"
      },
      {
        "duration": 43,
        "start_time": "2022-06-28T19:10:59.461Z"
      },
      {
        "duration": 0,
        "start_time": "2022-06-28T19:10:59.507Z"
      },
      {
        "duration": 0,
        "start_time": "2022-06-28T19:10:59.508Z"
      },
      {
        "duration": 0,
        "start_time": "2022-06-28T19:10:59.510Z"
      },
      {
        "duration": 0,
        "start_time": "2022-06-28T19:10:59.511Z"
      },
      {
        "duration": 0,
        "start_time": "2022-06-28T19:10:59.513Z"
      },
      {
        "duration": 0,
        "start_time": "2022-06-28T19:10:59.514Z"
      },
      {
        "duration": 59,
        "start_time": "2022-06-28T19:10:59.518Z"
      },
      {
        "duration": 0,
        "start_time": "2022-06-28T19:10:59.578Z"
      },
      {
        "duration": 0,
        "start_time": "2022-06-28T19:10:59.579Z"
      },
      {
        "duration": 0,
        "start_time": "2022-06-28T19:10:59.580Z"
      },
      {
        "duration": 434,
        "start_time": "2022-06-28T19:11:09.361Z"
      },
      {
        "duration": 14,
        "start_time": "2022-06-28T19:11:19.485Z"
      },
      {
        "duration": 134,
        "start_time": "2022-06-28T19:22:00.091Z"
      },
      {
        "duration": 0,
        "start_time": "2022-06-28T19:22:00.227Z"
      },
      {
        "duration": 0,
        "start_time": "2022-06-28T19:22:00.229Z"
      },
      {
        "duration": 0,
        "start_time": "2022-06-28T19:22:00.230Z"
      },
      {
        "duration": 13,
        "start_time": "2022-06-28T19:22:00.234Z"
      },
      {
        "duration": 84,
        "start_time": "2022-06-28T19:22:00.249Z"
      },
      {
        "duration": 21,
        "start_time": "2022-06-28T19:22:00.336Z"
      },
      {
        "duration": 68,
        "start_time": "2022-06-28T19:22:00.359Z"
      },
      {
        "duration": 0,
        "start_time": "2022-06-28T19:22:00.429Z"
      },
      {
        "duration": 0,
        "start_time": "2022-06-28T19:22:00.430Z"
      },
      {
        "duration": 0,
        "start_time": "2022-06-28T19:22:00.431Z"
      },
      {
        "duration": 218,
        "start_time": "2022-06-28T19:22:09.191Z"
      },
      {
        "duration": 14,
        "start_time": "2022-06-28T19:22:12.878Z"
      },
      {
        "duration": 215,
        "start_time": "2022-06-28T19:22:16.101Z"
      },
      {
        "duration": 51,
        "start_time": "2022-06-28T19:22:20.644Z"
      },
      {
        "duration": 741,
        "start_time": "2022-06-28T19:24:02.987Z"
      },
      {
        "duration": 20,
        "start_time": "2022-06-28T19:24:13.052Z"
      },
      {
        "duration": 44,
        "start_time": "2022-06-28T19:24:15.304Z"
      },
      {
        "duration": 57,
        "start_time": "2022-06-28T19:24:27.090Z"
      },
      {
        "duration": 0,
        "start_time": "2022-06-28T19:24:27.149Z"
      },
      {
        "duration": 0,
        "start_time": "2022-06-28T19:24:27.150Z"
      },
      {
        "duration": 0,
        "start_time": "2022-06-28T19:24:27.151Z"
      },
      {
        "duration": 0,
        "start_time": "2022-06-28T19:24:27.152Z"
      },
      {
        "duration": 0,
        "start_time": "2022-06-28T19:24:27.154Z"
      },
      {
        "duration": 0,
        "start_time": "2022-06-28T19:24:27.155Z"
      },
      {
        "duration": 0,
        "start_time": "2022-06-28T19:24:27.156Z"
      },
      {
        "duration": 0,
        "start_time": "2022-06-28T19:24:27.157Z"
      },
      {
        "duration": 0,
        "start_time": "2022-06-28T19:24:27.158Z"
      },
      {
        "duration": 0,
        "start_time": "2022-06-28T19:24:27.159Z"
      },
      {
        "duration": 234,
        "start_time": "2022-06-28T19:24:27.161Z"
      },
      {
        "duration": 18,
        "start_time": "2022-06-28T19:24:27.397Z"
      },
      {
        "duration": 49,
        "start_time": "2022-06-28T19:24:30.533Z"
      },
      {
        "duration": 741,
        "start_time": "2022-06-28T19:24:57.125Z"
      },
      {
        "duration": 237,
        "start_time": "2022-06-28T19:25:02.185Z"
      },
      {
        "duration": 92,
        "start_time": "2022-06-28T19:25:10.589Z"
      },
      {
        "duration": 33,
        "start_time": "2022-06-28T19:25:19.005Z"
      },
      {
        "duration": 246,
        "start_time": "2022-06-28T19:25:25.236Z"
      },
      {
        "duration": 103,
        "start_time": "2022-06-28T19:25:29.440Z"
      },
      {
        "duration": 4,
        "start_time": "2022-06-28T19:26:57.392Z"
      },
      {
        "duration": 755,
        "start_time": "2022-06-28T19:26:57.398Z"
      },
      {
        "duration": 13,
        "start_time": "2022-06-28T19:26:58.154Z"
      },
      {
        "duration": 12,
        "start_time": "2022-06-28T19:26:58.168Z"
      },
      {
        "duration": 134,
        "start_time": "2022-06-28T19:26:58.182Z"
      },
      {
        "duration": 10,
        "start_time": "2022-06-28T19:26:58.318Z"
      },
      {
        "duration": 88,
        "start_time": "2022-06-28T19:26:58.330Z"
      },
      {
        "duration": 78,
        "start_time": "2022-06-28T19:26:58.426Z"
      },
      {
        "duration": 91,
        "start_time": "2022-06-28T19:26:58.506Z"
      },
      {
        "duration": 77,
        "start_time": "2022-06-28T19:26:58.599Z"
      },
      {
        "duration": 236,
        "start_time": "2022-06-28T19:26:58.678Z"
      },
      {
        "duration": 46,
        "start_time": "2022-06-28T19:26:58.916Z"
      },
      {
        "duration": 126,
        "start_time": "2022-06-28T19:27:24.486Z"
      },
      {
        "duration": 19,
        "start_time": "2022-06-28T19:27:51.785Z"
      },
      {
        "duration": 51,
        "start_time": "2022-06-28T19:27:59.093Z"
      },
      {
        "duration": 4,
        "start_time": "2022-06-28T19:28:07.045Z"
      },
      {
        "duration": 852,
        "start_time": "2022-06-28T19:28:07.052Z"
      },
      {
        "duration": 20,
        "start_time": "2022-06-28T19:28:07.907Z"
      },
      {
        "duration": 14,
        "start_time": "2022-06-28T19:28:07.929Z"
      },
      {
        "duration": 145,
        "start_time": "2022-06-28T19:28:07.945Z"
      },
      {
        "duration": 8,
        "start_time": "2022-06-28T19:28:08.092Z"
      },
      {
        "duration": 99,
        "start_time": "2022-06-28T19:28:08.102Z"
      },
      {
        "duration": 55,
        "start_time": "2022-06-28T19:28:08.202Z"
      },
      {
        "duration": 76,
        "start_time": "2022-06-28T19:28:08.259Z"
      },
      {
        "duration": 52,
        "start_time": "2022-06-28T19:28:08.337Z"
      },
      {
        "duration": 231,
        "start_time": "2022-06-28T19:28:08.391Z"
      },
      {
        "duration": 23,
        "start_time": "2022-06-28T19:28:08.623Z"
      },
      {
        "duration": 44,
        "start_time": "2022-06-28T19:28:10.388Z"
      },
      {
        "duration": 17,
        "start_time": "2022-06-28T19:28:23.445Z"
      },
      {
        "duration": 46,
        "start_time": "2022-06-28T19:28:25.585Z"
      },
      {
        "duration": 5,
        "start_time": "2022-06-28T19:28:47.409Z"
      },
      {
        "duration": 731,
        "start_time": "2022-06-28T19:28:47.416Z"
      },
      {
        "duration": 14,
        "start_time": "2022-06-28T19:28:48.149Z"
      },
      {
        "duration": 9,
        "start_time": "2022-06-28T19:28:48.164Z"
      },
      {
        "duration": 130,
        "start_time": "2022-06-28T19:28:48.174Z"
      },
      {
        "duration": 8,
        "start_time": "2022-06-28T19:28:48.306Z"
      },
      {
        "duration": 90,
        "start_time": "2022-06-28T19:28:48.326Z"
      },
      {
        "duration": 56,
        "start_time": "2022-06-28T19:28:48.418Z"
      },
      {
        "duration": 77,
        "start_time": "2022-06-28T19:28:48.476Z"
      },
      {
        "duration": 54,
        "start_time": "2022-06-28T19:28:48.556Z"
      },
      {
        "duration": 233,
        "start_time": "2022-06-28T19:28:48.611Z"
      },
      {
        "duration": 19,
        "start_time": "2022-06-28T19:28:48.845Z"
      },
      {
        "duration": 42,
        "start_time": "2022-06-28T19:28:48.865Z"
      },
      {
        "duration": 451,
        "start_time": "2022-06-28T19:28:48.909Z"
      },
      {
        "duration": 14,
        "start_time": "2022-06-28T19:28:49.361Z"
      },
      {
        "duration": 820,
        "start_time": "2022-06-28T19:28:49.377Z"
      },
      {
        "duration": 19,
        "start_time": "2022-06-28T19:28:50.199Z"
      },
      {
        "duration": 14,
        "start_time": "2022-06-28T19:28:50.219Z"
      },
      {
        "duration": 61,
        "start_time": "2022-06-28T19:28:50.234Z"
      },
      {
        "duration": 3109,
        "start_time": "2022-06-28T19:28:50.296Z"
      },
      {
        "duration": 454,
        "start_time": "2022-06-28T19:28:53.409Z"
      },
      {
        "duration": 581,
        "start_time": "2022-06-28T19:28:53.865Z"
      },
      {
        "duration": 36873,
        "start_time": "2022-06-28T19:28:54.448Z"
      },
      {
        "duration": 14,
        "start_time": "2022-06-28T19:29:31.323Z"
      },
      {
        "duration": 0,
        "start_time": "2022-06-28T19:29:31.339Z"
      },
      {
        "duration": 0,
        "start_time": "2022-06-28T19:29:31.341Z"
      },
      {
        "duration": 0,
        "start_time": "2022-06-28T19:29:31.347Z"
      },
      {
        "duration": 0,
        "start_time": "2022-06-28T19:29:31.350Z"
      },
      {
        "duration": 0,
        "start_time": "2022-06-28T19:29:31.351Z"
      },
      {
        "duration": 0,
        "start_time": "2022-06-28T19:29:31.352Z"
      },
      {
        "duration": 0,
        "start_time": "2022-06-28T19:29:31.353Z"
      },
      {
        "duration": 0,
        "start_time": "2022-06-28T19:29:31.355Z"
      },
      {
        "duration": 0,
        "start_time": "2022-06-28T19:29:31.357Z"
      },
      {
        "duration": 0,
        "start_time": "2022-06-28T19:29:31.358Z"
      },
      {
        "duration": 0,
        "start_time": "2022-06-28T19:29:31.359Z"
      },
      {
        "duration": 0,
        "start_time": "2022-06-28T19:29:31.361Z"
      },
      {
        "duration": 688,
        "start_time": "2022-06-28T19:29:36.032Z"
      },
      {
        "duration": 19,
        "start_time": "2022-06-28T19:29:42.844Z"
      },
      {
        "duration": 4,
        "start_time": "2022-06-28T19:29:43.444Z"
      },
      {
        "duration": 122,
        "start_time": "2022-06-28T19:29:44.345Z"
      },
      {
        "duration": 8,
        "start_time": "2022-06-28T19:29:46.845Z"
      },
      {
        "duration": 90,
        "start_time": "2022-06-28T19:29:48.905Z"
      },
      {
        "duration": 55,
        "start_time": "2022-06-28T19:29:49.993Z"
      },
      {
        "duration": 68,
        "start_time": "2022-06-28T19:29:52.625Z"
      },
      {
        "duration": 54,
        "start_time": "2022-06-28T19:29:53.593Z"
      },
      {
        "duration": 226,
        "start_time": "2022-06-28T19:29:58.632Z"
      },
      {
        "duration": 42,
        "start_time": "2022-06-28T19:30:04.945Z"
      },
      {
        "duration": 20,
        "start_time": "2022-06-28T19:30:08.786Z"
      },
      {
        "duration": 53,
        "start_time": "2022-06-28T19:30:11.505Z"
      },
      {
        "duration": 20,
        "start_time": "2022-06-28T19:31:24.193Z"
      },
      {
        "duration": 50,
        "start_time": "2022-06-28T19:31:28.445Z"
      },
      {
        "duration": 9614,
        "start_time": "2022-06-28T19:31:58.161Z"
      },
      {
        "duration": 122398,
        "start_time": "2022-06-28T19:32:15.573Z"
      },
      {
        "duration": 46,
        "start_time": "2022-06-28T19:34:17.973Z"
      },
      {
        "duration": 47,
        "start_time": "2022-06-28T19:34:20.084Z"
      },
      {
        "duration": 18,
        "start_time": "2022-06-28T19:34:22.986Z"
      },
      {
        "duration": 49,
        "start_time": "2022-06-28T19:34:26.305Z"
      },
      {
        "duration": 4,
        "start_time": "2022-06-28T19:34:44.013Z"
      },
      {
        "duration": 746,
        "start_time": "2022-06-28T19:34:44.125Z"
      },
      {
        "duration": 15,
        "start_time": "2022-06-28T19:34:44.873Z"
      },
      {
        "duration": 5,
        "start_time": "2022-06-28T19:34:44.890Z"
      },
      {
        "duration": 137,
        "start_time": "2022-06-28T19:34:44.897Z"
      },
      {
        "duration": 8,
        "start_time": "2022-06-28T19:34:45.037Z"
      },
      {
        "duration": 98,
        "start_time": "2022-06-28T19:34:45.047Z"
      },
      {
        "duration": 53,
        "start_time": "2022-06-28T19:34:45.147Z"
      },
      {
        "duration": 76,
        "start_time": "2022-06-28T19:34:45.201Z"
      },
      {
        "duration": 55,
        "start_time": "2022-06-28T19:34:45.279Z"
      },
      {
        "duration": 20,
        "start_time": "2022-06-28T19:34:51.787Z"
      },
      {
        "duration": 45,
        "start_time": "2022-06-28T19:34:55.498Z"
      },
      {
        "duration": 19,
        "start_time": "2022-06-28T19:35:20.941Z"
      },
      {
        "duration": 46,
        "start_time": "2022-06-28T19:35:24.015Z"
      },
      {
        "duration": 164,
        "start_time": "2022-06-28T19:36:03.114Z"
      },
      {
        "duration": 5,
        "start_time": "2022-06-28T19:36:18.949Z"
      },
      {
        "duration": 727,
        "start_time": "2022-06-28T19:36:18.956Z"
      },
      {
        "duration": 14,
        "start_time": "2022-06-28T19:36:19.685Z"
      },
      {
        "duration": 8,
        "start_time": "2022-06-28T19:36:19.701Z"
      },
      {
        "duration": 137,
        "start_time": "2022-06-28T19:36:19.710Z"
      },
      {
        "duration": 8,
        "start_time": "2022-06-28T19:36:19.848Z"
      },
      {
        "duration": 104,
        "start_time": "2022-06-28T19:36:19.858Z"
      },
      {
        "duration": 67,
        "start_time": "2022-06-28T19:36:19.964Z"
      },
      {
        "duration": 67,
        "start_time": "2022-06-28T19:36:20.033Z"
      },
      {
        "duration": 65,
        "start_time": "2022-06-28T19:36:20.102Z"
      },
      {
        "duration": 172,
        "start_time": "2022-06-28T19:36:24.796Z"
      },
      {
        "duration": 535,
        "start_time": "2022-06-28T19:36:37.344Z"
      },
      {
        "duration": 288,
        "start_time": "2022-06-28T19:36:58.188Z"
      },
      {
        "duration": 21,
        "start_time": "2022-06-28T19:37:59.221Z"
      },
      {
        "duration": 264,
        "start_time": "2022-06-28T19:38:04.096Z"
      },
      {
        "duration": 266,
        "start_time": "2022-06-28T19:38:29.653Z"
      },
      {
        "duration": 5,
        "start_time": "2022-06-28T19:40:31.712Z"
      },
      {
        "duration": 715,
        "start_time": "2022-06-28T19:40:31.846Z"
      },
      {
        "duration": 15,
        "start_time": "2022-06-28T19:40:32.563Z"
      },
      {
        "duration": 9,
        "start_time": "2022-06-28T19:40:32.580Z"
      },
      {
        "duration": 154,
        "start_time": "2022-06-28T19:40:32.590Z"
      },
      {
        "duration": 8,
        "start_time": "2022-06-28T19:40:32.746Z"
      },
      {
        "duration": 105,
        "start_time": "2022-06-28T19:40:32.756Z"
      },
      {
        "duration": 65,
        "start_time": "2022-06-28T19:40:32.863Z"
      },
      {
        "duration": 67,
        "start_time": "2022-06-28T19:40:32.930Z"
      },
      {
        "duration": 67,
        "start_time": "2022-06-28T19:40:32.998Z"
      },
      {
        "duration": 39,
        "start_time": "2022-06-28T19:40:33.067Z"
      },
      {
        "duration": 60,
        "start_time": "2022-06-28T19:41:01.095Z"
      },
      {
        "duration": 303,
        "start_time": "2022-06-28T19:41:05.590Z"
      },
      {
        "duration": 42,
        "start_time": "2022-06-28T19:41:10.205Z"
      },
      {
        "duration": 291,
        "start_time": "2022-06-28T19:41:13.036Z"
      },
      {
        "duration": 54,
        "start_time": "2022-06-28T19:41:22.785Z"
      },
      {
        "duration": 9574,
        "start_time": "2022-06-28T19:41:31.554Z"
      },
      {
        "duration": 6,
        "start_time": "2022-06-28T19:41:41.131Z"
      },
      {
        "duration": 812,
        "start_time": "2022-06-28T19:41:41.139Z"
      },
      {
        "duration": 16,
        "start_time": "2022-06-28T19:41:41.953Z"
      },
      {
        "duration": 7,
        "start_time": "2022-06-28T19:41:41.970Z"
      },
      {
        "duration": 149,
        "start_time": "2022-06-28T19:41:41.978Z"
      },
      {
        "duration": 11,
        "start_time": "2022-06-28T19:41:42.129Z"
      },
      {
        "duration": 100,
        "start_time": "2022-06-28T19:41:42.142Z"
      },
      {
        "duration": 57,
        "start_time": "2022-06-28T19:41:42.244Z"
      },
      {
        "duration": 89,
        "start_time": "2022-06-28T19:41:42.303Z"
      },
      {
        "duration": 56,
        "start_time": "2022-06-28T19:41:42.394Z"
      },
      {
        "duration": 27,
        "start_time": "2022-06-28T19:41:42.452Z"
      },
      {
        "duration": 52,
        "start_time": "2022-06-28T19:41:42.481Z"
      },
      {
        "duration": 303,
        "start_time": "2022-06-28T19:41:42.535Z"
      },
      {
        "duration": 54,
        "start_time": "2022-06-28T19:41:42.841Z"
      },
      {
        "duration": 88,
        "start_time": "2022-06-28T19:41:42.897Z"
      },
      {
        "duration": 0,
        "start_time": "2022-06-28T19:41:42.987Z"
      },
      {
        "duration": 0,
        "start_time": "2022-06-28T19:41:42.988Z"
      },
      {
        "duration": 0,
        "start_time": "2022-06-28T19:41:42.989Z"
      },
      {
        "duration": 0,
        "start_time": "2022-06-28T19:41:42.990Z"
      },
      {
        "duration": 0,
        "start_time": "2022-06-28T19:41:42.991Z"
      },
      {
        "duration": 9652,
        "start_time": "2022-06-28T19:41:49.001Z"
      },
      {
        "duration": 654,
        "start_time": "2022-06-28T19:42:05.994Z"
      },
      {
        "duration": 11927,
        "start_time": "2022-06-28T19:42:42.542Z"
      },
      {
        "duration": 4,
        "start_time": "2022-06-28T19:43:06.488Z"
      },
      {
        "duration": 735,
        "start_time": "2022-06-28T19:43:06.494Z"
      },
      {
        "duration": 15,
        "start_time": "2022-06-28T19:43:07.230Z"
      },
      {
        "duration": 7,
        "start_time": "2022-06-28T19:43:07.247Z"
      },
      {
        "duration": 155,
        "start_time": "2022-06-28T19:43:07.256Z"
      },
      {
        "duration": 20,
        "start_time": "2022-06-28T19:43:07.413Z"
      },
      {
        "duration": 109,
        "start_time": "2022-06-28T19:43:07.434Z"
      },
      {
        "duration": 57,
        "start_time": "2022-06-28T19:43:07.545Z"
      },
      {
        "duration": 78,
        "start_time": "2022-06-28T19:43:07.604Z"
      },
      {
        "duration": 81,
        "start_time": "2022-06-28T19:43:07.685Z"
      },
      {
        "duration": 18,
        "start_time": "2022-06-28T19:43:07.767Z"
      },
      {
        "duration": 60,
        "start_time": "2022-06-28T19:43:07.787Z"
      },
      {
        "duration": 294,
        "start_time": "2022-06-28T19:43:07.850Z"
      },
      {
        "duration": 55,
        "start_time": "2022-06-28T19:43:08.146Z"
      },
      {
        "duration": 88,
        "start_time": "2022-06-28T19:43:08.203Z"
      },
      {
        "duration": 0,
        "start_time": "2022-06-28T19:43:08.293Z"
      },
      {
        "duration": 0,
        "start_time": "2022-06-28T19:43:08.294Z"
      },
      {
        "duration": 0,
        "start_time": "2022-06-28T19:43:08.296Z"
      },
      {
        "duration": 0,
        "start_time": "2022-06-28T19:43:08.298Z"
      },
      {
        "duration": 0,
        "start_time": "2022-06-28T19:43:08.299Z"
      },
      {
        "duration": 9634,
        "start_time": "2022-06-28T19:43:12.617Z"
      },
      {
        "duration": 737,
        "start_time": "2022-06-28T19:43:30.395Z"
      },
      {
        "duration": 7,
        "start_time": "2022-06-28T19:47:49.906Z"
      },
      {
        "duration": 703,
        "start_time": "2022-06-28T19:47:50.047Z"
      },
      {
        "duration": 16,
        "start_time": "2022-06-28T19:47:50.753Z"
      },
      {
        "duration": 5,
        "start_time": "2022-06-28T19:47:50.770Z"
      },
      {
        "duration": 136,
        "start_time": "2022-06-28T19:47:50.777Z"
      },
      {
        "duration": 14,
        "start_time": "2022-06-28T19:47:50.915Z"
      },
      {
        "duration": 111,
        "start_time": "2022-06-28T19:47:50.931Z"
      },
      {
        "duration": 54,
        "start_time": "2022-06-28T19:47:51.044Z"
      },
      {
        "duration": 78,
        "start_time": "2022-06-28T19:47:51.100Z"
      },
      {
        "duration": 62,
        "start_time": "2022-06-28T19:47:51.180Z"
      },
      {
        "duration": 20,
        "start_time": "2022-06-28T19:47:51.244Z"
      },
      {
        "duration": 42,
        "start_time": "2022-06-28T19:47:51.265Z"
      },
      {
        "duration": 56,
        "start_time": "2022-06-28T19:47:51.327Z"
      },
      {
        "duration": 105,
        "start_time": "2022-06-28T19:47:51.384Z"
      },
      {
        "duration": 0,
        "start_time": "2022-06-28T19:47:51.491Z"
      },
      {
        "duration": 0,
        "start_time": "2022-06-28T19:47:51.492Z"
      },
      {
        "duration": 0,
        "start_time": "2022-06-28T19:47:51.493Z"
      },
      {
        "duration": 0,
        "start_time": "2022-06-28T19:47:51.494Z"
      },
      {
        "duration": 0,
        "start_time": "2022-06-28T19:47:51.496Z"
      },
      {
        "duration": 0,
        "start_time": "2022-06-28T19:47:51.497Z"
      },
      {
        "duration": 0,
        "start_time": "2022-06-28T19:47:51.498Z"
      },
      {
        "duration": 0,
        "start_time": "2022-06-28T19:47:51.498Z"
      },
      {
        "duration": 0,
        "start_time": "2022-06-28T19:47:51.499Z"
      },
      {
        "duration": 0,
        "start_time": "2022-06-28T19:47:51.501Z"
      },
      {
        "duration": 0,
        "start_time": "2022-06-28T19:47:51.502Z"
      },
      {
        "duration": 0,
        "start_time": "2022-06-28T19:47:51.503Z"
      },
      {
        "duration": 3,
        "start_time": "2022-06-28T19:48:24.588Z"
      },
      {
        "duration": 708,
        "start_time": "2022-06-28T19:48:24.593Z"
      },
      {
        "duration": 13,
        "start_time": "2022-06-28T19:48:25.302Z"
      },
      {
        "duration": 13,
        "start_time": "2022-06-28T19:48:25.317Z"
      },
      {
        "duration": 128,
        "start_time": "2022-06-28T19:48:25.333Z"
      },
      {
        "duration": 9,
        "start_time": "2022-06-28T19:48:25.463Z"
      },
      {
        "duration": 113,
        "start_time": "2022-06-28T19:48:25.474Z"
      },
      {
        "duration": 56,
        "start_time": "2022-06-28T19:48:25.589Z"
      },
      {
        "duration": 83,
        "start_time": "2022-06-28T19:48:25.647Z"
      },
      {
        "duration": 55,
        "start_time": "2022-06-28T19:48:25.732Z"
      },
      {
        "duration": 34,
        "start_time": "2022-06-28T19:48:25.789Z"
      },
      {
        "duration": 43,
        "start_time": "2022-06-28T19:48:25.825Z"
      },
      {
        "duration": 64,
        "start_time": "2022-06-28T19:48:25.870Z"
      },
      {
        "duration": 83,
        "start_time": "2022-06-28T19:48:25.936Z"
      },
      {
        "duration": 0,
        "start_time": "2022-06-28T19:48:26.027Z"
      },
      {
        "duration": 0,
        "start_time": "2022-06-28T19:48:26.028Z"
      },
      {
        "duration": 0,
        "start_time": "2022-06-28T19:48:26.029Z"
      },
      {
        "duration": 0,
        "start_time": "2022-06-28T19:48:26.030Z"
      },
      {
        "duration": 0,
        "start_time": "2022-06-28T19:48:26.031Z"
      },
      {
        "duration": 0,
        "start_time": "2022-06-28T19:48:26.032Z"
      },
      {
        "duration": 0,
        "start_time": "2022-06-28T19:48:26.033Z"
      },
      {
        "duration": 0,
        "start_time": "2022-06-28T19:48:26.034Z"
      },
      {
        "duration": 0,
        "start_time": "2022-06-28T19:48:26.036Z"
      },
      {
        "duration": 0,
        "start_time": "2022-06-28T19:48:26.038Z"
      },
      {
        "duration": 0,
        "start_time": "2022-06-28T19:48:26.040Z"
      },
      {
        "duration": 0,
        "start_time": "2022-06-28T19:48:26.041Z"
      },
      {
        "duration": 88,
        "start_time": "2022-06-28T19:49:56.304Z"
      },
      {
        "duration": 8,
        "start_time": "2022-06-28T19:51:50.718Z"
      },
      {
        "duration": 96,
        "start_time": "2022-06-28T19:52:19.206Z"
      },
      {
        "duration": 3,
        "start_time": "2022-06-28T19:52:56.106Z"
      },
      {
        "duration": 62,
        "start_time": "2022-06-28T19:53:22.086Z"
      },
      {
        "duration": 61,
        "start_time": "2022-06-28T19:55:03.127Z"
      },
      {
        "duration": 64,
        "start_time": "2022-06-28T19:59:12.838Z"
      },
      {
        "duration": 13,
        "start_time": "2022-06-28T20:01:43.693Z"
      },
      {
        "duration": 8,
        "start_time": "2022-06-28T20:01:57.846Z"
      },
      {
        "duration": 806,
        "start_time": "2022-06-28T20:02:15.328Z"
      },
      {
        "duration": 12,
        "start_time": "2022-06-28T20:02:41.168Z"
      },
      {
        "duration": 72,
        "start_time": "2022-06-28T20:03:10.775Z"
      },
      {
        "duration": 4,
        "start_time": "2022-06-28T20:03:35.647Z"
      },
      {
        "duration": 701,
        "start_time": "2022-06-28T20:03:35.655Z"
      },
      {
        "duration": 17,
        "start_time": "2022-06-28T20:03:36.358Z"
      },
      {
        "duration": 49,
        "start_time": "2022-06-28T20:03:36.376Z"
      },
      {
        "duration": 137,
        "start_time": "2022-06-28T20:03:36.427Z"
      },
      {
        "duration": 8,
        "start_time": "2022-06-28T20:03:36.566Z"
      },
      {
        "duration": 117,
        "start_time": "2022-06-28T20:03:36.575Z"
      },
      {
        "duration": 57,
        "start_time": "2022-06-28T20:03:36.693Z"
      },
      {
        "duration": 84,
        "start_time": "2022-06-28T20:03:36.751Z"
      },
      {
        "duration": 53,
        "start_time": "2022-06-28T20:03:36.837Z"
      },
      {
        "duration": 42,
        "start_time": "2022-06-28T20:03:36.892Z"
      },
      {
        "duration": 40,
        "start_time": "2022-06-28T20:03:36.936Z"
      },
      {
        "duration": 70,
        "start_time": "2022-06-28T20:03:36.978Z"
      },
      {
        "duration": 67,
        "start_time": "2022-06-28T20:03:37.050Z"
      },
      {
        "duration": 73,
        "start_time": "2022-06-28T20:03:37.128Z"
      },
      {
        "duration": 5,
        "start_time": "2022-06-28T20:06:13.886Z"
      },
      {
        "duration": 721,
        "start_time": "2022-06-28T20:06:14.006Z"
      },
      {
        "duration": 15,
        "start_time": "2022-06-28T20:06:14.728Z"
      },
      {
        "duration": 12,
        "start_time": "2022-06-28T20:06:14.744Z"
      },
      {
        "duration": 149,
        "start_time": "2022-06-28T20:06:14.757Z"
      },
      {
        "duration": 36,
        "start_time": "2022-06-28T20:06:14.908Z"
      },
      {
        "duration": 98,
        "start_time": "2022-06-28T20:06:14.946Z"
      },
      {
        "duration": 58,
        "start_time": "2022-06-28T20:06:15.046Z"
      },
      {
        "duration": 84,
        "start_time": "2022-06-28T20:06:15.105Z"
      },
      {
        "duration": 55,
        "start_time": "2022-06-28T20:06:20.078Z"
      },
      {
        "duration": 42,
        "start_time": "2022-06-28T20:06:25.125Z"
      },
      {
        "duration": 59,
        "start_time": "2022-06-28T20:06:34.697Z"
      },
      {
        "duration": 453,
        "start_time": "2022-06-28T20:06:55.846Z"
      },
      {
        "duration": 20,
        "start_time": "2022-06-28T20:07:21.376Z"
      },
      {
        "duration": 62,
        "start_time": "2022-06-28T20:07:24.978Z"
      },
      {
        "duration": 46,
        "start_time": "2022-06-28T20:07:30.806Z"
      },
      {
        "duration": 62,
        "start_time": "2022-06-28T20:07:34.946Z"
      },
      {
        "duration": 4,
        "start_time": "2022-06-28T20:08:07.887Z"
      },
      {
        "duration": 721,
        "start_time": "2022-06-28T20:08:07.893Z"
      },
      {
        "duration": 17,
        "start_time": "2022-06-28T20:08:08.616Z"
      },
      {
        "duration": 16,
        "start_time": "2022-06-28T20:08:08.634Z"
      },
      {
        "duration": 136,
        "start_time": "2022-06-28T20:08:08.652Z"
      },
      {
        "duration": 8,
        "start_time": "2022-06-28T20:08:08.789Z"
      },
      {
        "duration": 108,
        "start_time": "2022-06-28T20:08:08.799Z"
      },
      {
        "duration": 60,
        "start_time": "2022-06-28T20:08:08.909Z"
      },
      {
        "duration": 81,
        "start_time": "2022-06-28T20:08:08.971Z"
      },
      {
        "duration": 56,
        "start_time": "2022-06-28T20:08:09.054Z"
      },
      {
        "duration": 60,
        "start_time": "2022-06-28T20:08:16.046Z"
      },
      {
        "duration": 47,
        "start_time": "2022-06-28T20:08:24.473Z"
      },
      {
        "duration": 63,
        "start_time": "2022-06-28T20:08:29.206Z"
      },
      {
        "duration": 4,
        "start_time": "2022-06-28T20:09:19.299Z"
      },
      {
        "duration": 710,
        "start_time": "2022-06-28T20:09:19.420Z"
      },
      {
        "duration": 13,
        "start_time": "2022-06-28T20:09:20.132Z"
      },
      {
        "duration": 12,
        "start_time": "2022-06-28T20:09:20.147Z"
      },
      {
        "duration": 133,
        "start_time": "2022-06-28T20:09:20.160Z"
      },
      {
        "duration": 8,
        "start_time": "2022-06-28T20:09:20.295Z"
      },
      {
        "duration": 100,
        "start_time": "2022-06-28T20:09:20.304Z"
      },
      {
        "duration": 56,
        "start_time": "2022-06-28T20:09:20.405Z"
      },
      {
        "duration": 79,
        "start_time": "2022-06-28T20:09:20.463Z"
      },
      {
        "duration": 53,
        "start_time": "2022-06-28T20:09:20.544Z"
      },
      {
        "duration": 44,
        "start_time": "2022-06-28T20:09:24.527Z"
      },
      {
        "duration": 39,
        "start_time": "2022-06-28T20:10:47.027Z"
      },
      {
        "duration": 67,
        "start_time": "2022-06-28T20:10:51.776Z"
      },
      {
        "duration": 4,
        "start_time": "2022-06-28T20:14:44.142Z"
      },
      {
        "duration": 16,
        "start_time": "2022-06-28T20:14:53.986Z"
      },
      {
        "duration": 66,
        "start_time": "2022-06-28T20:15:05.506Z"
      },
      {
        "duration": 87,
        "start_time": "2022-06-28T20:15:11.426Z"
      },
      {
        "duration": 16,
        "start_time": "2022-06-28T20:15:18.685Z"
      },
      {
        "duration": 61,
        "start_time": "2022-06-28T20:15:36.295Z"
      },
      {
        "duration": 68,
        "start_time": "2022-06-28T20:15:42.713Z"
      },
      {
        "duration": 20,
        "start_time": "2022-06-28T20:16:30.356Z"
      },
      {
        "duration": 3,
        "start_time": "2022-06-28T20:16:45.095Z"
      },
      {
        "duration": 704,
        "start_time": "2022-06-28T20:16:45.226Z"
      },
      {
        "duration": 14,
        "start_time": "2022-06-28T20:16:45.931Z"
      },
      {
        "duration": 11,
        "start_time": "2022-06-28T20:16:45.946Z"
      },
      {
        "duration": 131,
        "start_time": "2022-06-28T20:16:45.958Z"
      },
      {
        "duration": 7,
        "start_time": "2022-06-28T20:16:46.091Z"
      },
      {
        "duration": 105,
        "start_time": "2022-06-28T20:16:46.100Z"
      },
      {
        "duration": 55,
        "start_time": "2022-06-28T20:16:46.207Z"
      },
      {
        "duration": 74,
        "start_time": "2022-06-28T20:16:46.263Z"
      },
      {
        "duration": 56,
        "start_time": "2022-06-28T20:16:46.339Z"
      },
      {
        "duration": 59,
        "start_time": "2022-06-28T20:16:51.346Z"
      },
      {
        "duration": 21,
        "start_time": "2022-06-28T20:16:58.526Z"
      },
      {
        "duration": 60,
        "start_time": "2022-06-28T20:17:02.295Z"
      },
      {
        "duration": 20,
        "start_time": "2022-06-28T20:17:07.039Z"
      },
      {
        "duration": 60,
        "start_time": "2022-06-28T20:17:10.106Z"
      },
      {
        "duration": 4,
        "start_time": "2022-06-28T20:17:50.795Z"
      },
      {
        "duration": 715,
        "start_time": "2022-06-28T20:17:50.800Z"
      },
      {
        "duration": 19,
        "start_time": "2022-06-28T20:17:51.518Z"
      },
      {
        "duration": 7,
        "start_time": "2022-06-28T20:17:51.538Z"
      },
      {
        "duration": 147,
        "start_time": "2022-06-28T20:17:51.547Z"
      },
      {
        "duration": 8,
        "start_time": "2022-06-28T20:17:51.696Z"
      },
      {
        "duration": 104,
        "start_time": "2022-06-28T20:17:51.705Z"
      },
      {
        "duration": 61,
        "start_time": "2022-06-28T20:17:51.811Z"
      },
      {
        "duration": 72,
        "start_time": "2022-06-28T20:17:51.874Z"
      },
      {
        "duration": 54,
        "start_time": "2022-06-28T20:17:51.948Z"
      },
      {
        "duration": 39,
        "start_time": "2022-06-28T20:17:52.003Z"
      },
      {
        "duration": 25,
        "start_time": "2022-06-28T20:17:53.854Z"
      },
      {
        "duration": 50,
        "start_time": "2022-06-28T20:17:57.094Z"
      },
      {
        "duration": 60,
        "start_time": "2022-06-28T20:18:00.526Z"
      },
      {
        "duration": 452,
        "start_time": "2022-06-28T20:18:05.818Z"
      },
      {
        "duration": 15,
        "start_time": "2022-06-28T20:18:09.047Z"
      },
      {
        "duration": 839,
        "start_time": "2022-06-28T20:18:14.955Z"
      },
      {
        "duration": 24,
        "start_time": "2022-06-28T20:18:17.617Z"
      },
      {
        "duration": 7,
        "start_time": "2022-06-28T20:18:18.786Z"
      },
      {
        "duration": 30,
        "start_time": "2022-06-28T20:18:25.745Z"
      },
      {
        "duration": 9550,
        "start_time": "2022-06-28T20:18:28.494Z"
      },
      {
        "duration": 664,
        "start_time": "2022-06-28T20:18:47.587Z"
      },
      {
        "duration": 1989,
        "start_time": "2022-06-29T16:40:01.555Z"
      },
      {
        "duration": 1224,
        "start_time": "2022-06-29T16:40:03.546Z"
      },
      {
        "duration": 19,
        "start_time": "2022-06-29T16:40:04.772Z"
      },
      {
        "duration": 4,
        "start_time": "2022-06-29T16:40:04.793Z"
      },
      {
        "duration": 164,
        "start_time": "2022-06-29T16:40:04.799Z"
      },
      {
        "duration": 16,
        "start_time": "2022-06-29T16:40:04.965Z"
      },
      {
        "duration": 148,
        "start_time": "2022-06-29T16:40:04.982Z"
      },
      {
        "duration": 59,
        "start_time": "2022-06-29T16:40:05.131Z"
      },
      {
        "duration": 106,
        "start_time": "2022-06-29T16:40:05.192Z"
      },
      {
        "duration": 72,
        "start_time": "2022-06-29T16:40:05.302Z"
      },
      {
        "duration": 23,
        "start_time": "2022-06-29T16:40:05.376Z"
      },
      {
        "duration": 49,
        "start_time": "2022-06-29T16:40:05.402Z"
      },
      {
        "duration": 50,
        "start_time": "2022-06-29T16:40:05.453Z"
      },
      {
        "duration": 507,
        "start_time": "2022-06-29T16:40:05.505Z"
      },
      {
        "duration": 18,
        "start_time": "2022-06-29T16:40:06.013Z"
      },
      {
        "duration": 990,
        "start_time": "2022-06-29T16:40:06.032Z"
      },
      {
        "duration": 30,
        "start_time": "2022-06-29T16:40:07.024Z"
      },
      {
        "duration": 8,
        "start_time": "2022-06-29T16:40:07.056Z"
      },
      {
        "duration": 61,
        "start_time": "2022-06-29T16:40:07.066Z"
      },
      {
        "duration": 10795,
        "start_time": "2022-06-29T16:40:07.129Z"
      },
      {
        "duration": 674021,
        "start_time": "2022-06-29T16:40:17.927Z"
      },
      {
        "duration": 596,
        "start_time": "2022-06-29T16:51:31.950Z"
      }
    ],
    "kernelspec": {
      "display_name": "Python 3 (ipykernel)",
      "language": "python",
      "name": "python3"
    },
    "language_info": {
      "codemirror_mode": {
        "name": "ipython",
        "version": 3
      },
      "file_extension": ".py",
      "mimetype": "text/x-python",
      "name": "python",
      "nbconvert_exporter": "python",
      "pygments_lexer": "ipython3",
      "version": "3.9.5"
    },
    "toc": {
      "base_numbering": 1,
      "nav_menu": {},
      "number_sections": true,
      "sideBar": true,
      "skip_h1_title": true,
      "title_cell": "Table of Contents",
      "title_sidebar": "Contents",
      "toc_cell": false,
      "toc_position": {},
      "toc_section_display": true,
      "toc_window_display": false
    },
    "colab": {
      "provenance": [],
      "collapsed_sections": []
    }
  },
  "nbformat": 4,
  "nbformat_minor": 0
}