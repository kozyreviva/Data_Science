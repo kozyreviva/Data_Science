{
  "cells": [
    {
      "cell_type": "markdown",
      "metadata": {
        "id": "view-in-github",
        "colab_type": "text"
      },
      "source": [
        "<a href=\"https://colab.research.google.com/github/kozyreviva/Data_Science/blob/main/%D0%A1%D0%B1%D0%BE%D1%80%D0%BD%D1%8B%D0%B9_%D0%BF%D1%80%D0%BE%D0%B5%D0%BA%D1%82_1_.ipynb\" target=\"_parent\"><img src=\"https://colab.research.google.com/assets/colab-badge.svg\" alt=\"Open In Colab\"/></a>"
      ]
    },
    {
      "cell_type": "markdown",
      "source": [
        "<div class=\"alert alert-info\">\n",
        "<b>Комментарий студента:</b>\n",
        "<br>Привет ревьюер!!!) Сборный проект дался мне тяжело т.к я п пытался  написать его качественно и учитывая все те наставления которые мне давали предыдущие ревьюеры. От тебя я бы тоже жотел получить побольше коментариев и твоих советов. Спасибо!!! P.S. Я бы хотел потом пойти в Яндекс работать, так что можешь ориентироваться на их требования к проекту.\n",
        "</div>"
      ],
      "metadata": {
        "id": "78DDUEyCvCrJ"
      }
    },
    {
      "cell_type": "markdown",
      "source": [
        "**ОПИСАНИЕ ПРОЕКТА**\n",
        "\n",
        "Дана база данных и интернет-магазина который продаёт по всему миру\n",
        "компьютерные игры. База собрана из открытых источников в которой содержатся  исторические данные о\n",
        "продажах игр, оценки пользователей и экспертов, жанры и платформы\n",
        "(например, Xboxили PlayStation). Нужно выявить определяющие успешность\n",
        "игры закономерности. Это позволит сделать ставку на потенциально популярный\n",
        "продукт и спланировать рекламные кампании.\n",
        "\n",
        "Перед нами данные до 2016 года. Представим, что сейчас декабрь 2016 г., и нам нужно спланировать рекламную компанию на 2017-й. Нужно отработать принцип работы с данными.\n",
        "\n",
        "В наборе данных попадается аббревиатура ESRB (Entertainment Software Rating\n",
        "Board) — это ассоциация, определяющая возрастной рейтинг компьютерных\n",
        "игр. ESRB оценивает игровой контент и присваивает ему подходящую возрастную\n",
        "категорию, например, «Для взрослых», «Для детей младшего возраста» или «Для\n",
        "подростков».\n",
        "\n",
        "**План работы**\n",
        "\n",
        "* Открытие файла с данными и изучение общую информации;\n",
        "* Подготовка данных\n",
        "    * Заменить названия столбцов;\n",
        "    * Преобразование данные в нужные типы;\n",
        "    * Обработать пропуски при необходимости;\n",
        "    * Посчитать суммарные продажи во всех регионах и записать их в отдельный\n",
        "столбец.\n",
        "* Провести исследовательский анализ данных\n",
        "    * Посмотреть сколько игр выпускалось в разные годы;\n",
        "    * Посмотреть, как менялись продажи по платформам. Выберать платформы с\n",
        "наибольшими суммарными продажами и построить распределение по годам;\n",
        "    * Взять данные за соответствующий актуальный период. Актуальный\n",
        "период определите самостоятельно в результате исследования предыдущих\n",
        "вопросов. Основной фактор — эти данные помогут построить прогноз на 2017\n",
        "год;\n",
        "    * Не учитывать в работе данные за предыдущие годы;\n",
        "    * Какие платформы лидируют по продажам, растут или падают? Выбрать\n",
        "несколько потенциально прибыльных платформ;\n",
        "    * Построить график «ящик с усами» по глобальным продажам игр в разбивке по\n",
        "платформам;\n",
        "    * Посмотреть, как влияют на продажи внутри одной популярной платформы\n",
        "отзывы пользователей и критиков. Построить диаграмму рассеяния и\n",
        "посчитать корреляцию между отзывами и продажами;\n",
        "    * Соотнести выводы с продажами игр на других платформах.\n",
        "    * Посмотреть на общее распределение игр по жанрам;\n",
        "* Составить портрет пользователя каждого региона\n",
        "    * Определите для пользователя каждого региона (NA, EU, JP):\n",
        "        * Самые популярные платформы (топ-5);\n",
        "        * Самые популярные жанры (топ-5);\n",
        "        * Влияет ли рейтинг ESRB на продажи в отдельном регионе?\n",
        "* Проверка гипотез:\n",
        "    * Средние пользовательские рейтинги платформ Xbox One и PC одинаковые;\n",
        "    * Средние пользовательские рейтинги жанров Action и Sports разные.\n",
        "* Общий вывод."
      ],
      "metadata": {
        "id": "BDJC2rRCss2l"
      }
    },
    {
      "cell_type": "markdown",
      "source": [
        "**РАБОТА НАД ПРОЕКТОМ**"
      ],
      "metadata": {
        "id": "B0xSCgSrydLo"
      }
    },
    {
      "cell_type": "markdown",
      "source": [
        "**Открытие файла**"
      ],
      "metadata": {
        "id": "ABWI-iAAytXg"
      }
    },
    {
      "cell_type": "markdown",
      "source": [
        "Подключим необходимые библиотеки."
      ],
      "metadata": {
        "id": "uvujB-k3Nsqa"
      }
    },
    {
      "cell_type": "code",
      "execution_count": 156,
      "metadata": {
        "id": "XNhKsW0xd7yz"
      },
      "outputs": [],
      "source": [
        "import pandas as pd                                                             #подключение библиотек\n",
        "import numpy as np\n",
        "from scipy import stats as st\n",
        "import matplotlib.pyplot as plt\n",
        "import seaborn as sns"
      ]
    },
    {
      "cell_type": "markdown",
      "source": [
        "Загрузим датафрейм и сохраним в переменную."
      ],
      "metadata": {
        "id": "yB9gRgl6OThw"
      }
    },
    {
      "cell_type": "code",
      "source": [
        "try:                                                                            #загрузка датафрейма\n",
        "  df = pd.read_csv(\"/datasets/games.csv\")\n",
        "except:\n",
        "  df = pd.read_csv(\"Games csv.csv\")"
      ],
      "metadata": {
        "id": "10L4iw60eGXi"
      },
      "execution_count": 157,
      "outputs": []
    },
    {
      "cell_type": "markdown",
      "source": [
        "Выведем на экран таблицу."
      ],
      "metadata": {
        "id": "6kbqRg7ROmeL"
      }
    },
    {
      "cell_type": "code",
      "source": [
        "df.head(10)                                                                     #вывод на экнан таблицы"
      ],
      "metadata": {
        "colab": {
          "base_uri": "https://localhost:8080/",
          "height": 407
        },
        "id": "b4I5RGBPePgG",
        "outputId": "c21ecfec-e6bb-472f-a56f-71cade577b9e"
      },
      "execution_count": 158,
      "outputs": [
        {
          "output_type": "execute_result",
          "data": {
            "text/plain": [
              "                        Name Platform  Year_of_Release         Genre  \\\n",
              "0                 Wii Sports      Wii           2006.0        Sports   \n",
              "1          Super Mario Bros.      NES           1985.0      Platform   \n",
              "2             Mario Kart Wii      Wii           2008.0        Racing   \n",
              "3          Wii Sports Resort      Wii           2009.0        Sports   \n",
              "4   Pokemon Red/Pokemon Blue       GB           1996.0  Role-Playing   \n",
              "5                     Tetris       GB           1989.0        Puzzle   \n",
              "6      New Super Mario Bros.       DS           2006.0      Platform   \n",
              "7                   Wii Play      Wii           2006.0          Misc   \n",
              "8  New Super Mario Bros. Wii      Wii           2009.0      Platform   \n",
              "9                  Duck Hunt      NES           1984.0       Shooter   \n",
              "\n",
              "   NA_sales  EU_sales  JP_sales  Other_sales  Critic_Score User_Score Rating  \n",
              "0     41.36     28.96      3.77         8.45          76.0          8      E  \n",
              "1     29.08      3.58      6.81         0.77           NaN        NaN    NaN  \n",
              "2     15.68     12.76      3.79         3.29          82.0        8.3      E  \n",
              "3     15.61     10.93      3.28         2.95          80.0          8      E  \n",
              "4     11.27      8.89     10.22         1.00           NaN        NaN    NaN  \n",
              "5     23.20      2.26      4.22         0.58           NaN        NaN    NaN  \n",
              "6     11.28      9.14      6.50         2.88          89.0        8.5      E  \n",
              "7     13.96      9.18      2.93         2.84          58.0        6.6      E  \n",
              "8     14.44      6.94      4.70         2.24          87.0        8.4      E  \n",
              "9     26.93      0.63      0.28         0.47           NaN        NaN    NaN  "
            ],
            "text/html": [
              "\n",
              "  <div id=\"df-dcafbf03-b639-4bf4-b369-8b14729846fa\">\n",
              "    <div class=\"colab-df-container\">\n",
              "      <div>\n",
              "<style scoped>\n",
              "    .dataframe tbody tr th:only-of-type {\n",
              "        vertical-align: middle;\n",
              "    }\n",
              "\n",
              "    .dataframe tbody tr th {\n",
              "        vertical-align: top;\n",
              "    }\n",
              "\n",
              "    .dataframe thead th {\n",
              "        text-align: right;\n",
              "    }\n",
              "</style>\n",
              "<table border=\"1\" class=\"dataframe\">\n",
              "  <thead>\n",
              "    <tr style=\"text-align: right;\">\n",
              "      <th></th>\n",
              "      <th>Name</th>\n",
              "      <th>Platform</th>\n",
              "      <th>Year_of_Release</th>\n",
              "      <th>Genre</th>\n",
              "      <th>NA_sales</th>\n",
              "      <th>EU_sales</th>\n",
              "      <th>JP_sales</th>\n",
              "      <th>Other_sales</th>\n",
              "      <th>Critic_Score</th>\n",
              "      <th>User_Score</th>\n",
              "      <th>Rating</th>\n",
              "    </tr>\n",
              "  </thead>\n",
              "  <tbody>\n",
              "    <tr>\n",
              "      <th>0</th>\n",
              "      <td>Wii Sports</td>\n",
              "      <td>Wii</td>\n",
              "      <td>2006.0</td>\n",
              "      <td>Sports</td>\n",
              "      <td>41.36</td>\n",
              "      <td>28.96</td>\n",
              "      <td>3.77</td>\n",
              "      <td>8.45</td>\n",
              "      <td>76.0</td>\n",
              "      <td>8</td>\n",
              "      <td>E</td>\n",
              "    </tr>\n",
              "    <tr>\n",
              "      <th>1</th>\n",
              "      <td>Super Mario Bros.</td>\n",
              "      <td>NES</td>\n",
              "      <td>1985.0</td>\n",
              "      <td>Platform</td>\n",
              "      <td>29.08</td>\n",
              "      <td>3.58</td>\n",
              "      <td>6.81</td>\n",
              "      <td>0.77</td>\n",
              "      <td>NaN</td>\n",
              "      <td>NaN</td>\n",
              "      <td>NaN</td>\n",
              "    </tr>\n",
              "    <tr>\n",
              "      <th>2</th>\n",
              "      <td>Mario Kart Wii</td>\n",
              "      <td>Wii</td>\n",
              "      <td>2008.0</td>\n",
              "      <td>Racing</td>\n",
              "      <td>15.68</td>\n",
              "      <td>12.76</td>\n",
              "      <td>3.79</td>\n",
              "      <td>3.29</td>\n",
              "      <td>82.0</td>\n",
              "      <td>8.3</td>\n",
              "      <td>E</td>\n",
              "    </tr>\n",
              "    <tr>\n",
              "      <th>3</th>\n",
              "      <td>Wii Sports Resort</td>\n",
              "      <td>Wii</td>\n",
              "      <td>2009.0</td>\n",
              "      <td>Sports</td>\n",
              "      <td>15.61</td>\n",
              "      <td>10.93</td>\n",
              "      <td>3.28</td>\n",
              "      <td>2.95</td>\n",
              "      <td>80.0</td>\n",
              "      <td>8</td>\n",
              "      <td>E</td>\n",
              "    </tr>\n",
              "    <tr>\n",
              "      <th>4</th>\n",
              "      <td>Pokemon Red/Pokemon Blue</td>\n",
              "      <td>GB</td>\n",
              "      <td>1996.0</td>\n",
              "      <td>Role-Playing</td>\n",
              "      <td>11.27</td>\n",
              "      <td>8.89</td>\n",
              "      <td>10.22</td>\n",
              "      <td>1.00</td>\n",
              "      <td>NaN</td>\n",
              "      <td>NaN</td>\n",
              "      <td>NaN</td>\n",
              "    </tr>\n",
              "    <tr>\n",
              "      <th>5</th>\n",
              "      <td>Tetris</td>\n",
              "      <td>GB</td>\n",
              "      <td>1989.0</td>\n",
              "      <td>Puzzle</td>\n",
              "      <td>23.20</td>\n",
              "      <td>2.26</td>\n",
              "      <td>4.22</td>\n",
              "      <td>0.58</td>\n",
              "      <td>NaN</td>\n",
              "      <td>NaN</td>\n",
              "      <td>NaN</td>\n",
              "    </tr>\n",
              "    <tr>\n",
              "      <th>6</th>\n",
              "      <td>New Super Mario Bros.</td>\n",
              "      <td>DS</td>\n",
              "      <td>2006.0</td>\n",
              "      <td>Platform</td>\n",
              "      <td>11.28</td>\n",
              "      <td>9.14</td>\n",
              "      <td>6.50</td>\n",
              "      <td>2.88</td>\n",
              "      <td>89.0</td>\n",
              "      <td>8.5</td>\n",
              "      <td>E</td>\n",
              "    </tr>\n",
              "    <tr>\n",
              "      <th>7</th>\n",
              "      <td>Wii Play</td>\n",
              "      <td>Wii</td>\n",
              "      <td>2006.0</td>\n",
              "      <td>Misc</td>\n",
              "      <td>13.96</td>\n",
              "      <td>9.18</td>\n",
              "      <td>2.93</td>\n",
              "      <td>2.84</td>\n",
              "      <td>58.0</td>\n",
              "      <td>6.6</td>\n",
              "      <td>E</td>\n",
              "    </tr>\n",
              "    <tr>\n",
              "      <th>8</th>\n",
              "      <td>New Super Mario Bros. Wii</td>\n",
              "      <td>Wii</td>\n",
              "      <td>2009.0</td>\n",
              "      <td>Platform</td>\n",
              "      <td>14.44</td>\n",
              "      <td>6.94</td>\n",
              "      <td>4.70</td>\n",
              "      <td>2.24</td>\n",
              "      <td>87.0</td>\n",
              "      <td>8.4</td>\n",
              "      <td>E</td>\n",
              "    </tr>\n",
              "    <tr>\n",
              "      <th>9</th>\n",
              "      <td>Duck Hunt</td>\n",
              "      <td>NES</td>\n",
              "      <td>1984.0</td>\n",
              "      <td>Shooter</td>\n",
              "      <td>26.93</td>\n",
              "      <td>0.63</td>\n",
              "      <td>0.28</td>\n",
              "      <td>0.47</td>\n",
              "      <td>NaN</td>\n",
              "      <td>NaN</td>\n",
              "      <td>NaN</td>\n",
              "    </tr>\n",
              "  </tbody>\n",
              "</table>\n",
              "</div>\n",
              "      <button class=\"colab-df-convert\" onclick=\"convertToInteractive('df-dcafbf03-b639-4bf4-b369-8b14729846fa')\"\n",
              "              title=\"Convert this dataframe to an interactive table.\"\n",
              "              style=\"display:none;\">\n",
              "        \n",
              "  <svg xmlns=\"http://www.w3.org/2000/svg\" height=\"24px\"viewBox=\"0 0 24 24\"\n",
              "       width=\"24px\">\n",
              "    <path d=\"M0 0h24v24H0V0z\" fill=\"none\"/>\n",
              "    <path d=\"M18.56 5.44l.94 2.06.94-2.06 2.06-.94-2.06-.94-.94-2.06-.94 2.06-2.06.94zm-11 1L8.5 8.5l.94-2.06 2.06-.94-2.06-.94L8.5 2.5l-.94 2.06-2.06.94zm10 10l.94 2.06.94-2.06 2.06-.94-2.06-.94-.94-2.06-.94 2.06-2.06.94z\"/><path d=\"M17.41 7.96l-1.37-1.37c-.4-.4-.92-.59-1.43-.59-.52 0-1.04.2-1.43.59L10.3 9.45l-7.72 7.72c-.78.78-.78 2.05 0 2.83L4 21.41c.39.39.9.59 1.41.59.51 0 1.02-.2 1.41-.59l7.78-7.78 2.81-2.81c.8-.78.8-2.07 0-2.86zM5.41 20L4 18.59l7.72-7.72 1.47 1.35L5.41 20z\"/>\n",
              "  </svg>\n",
              "      </button>\n",
              "      \n",
              "  <style>\n",
              "    .colab-df-container {\n",
              "      display:flex;\n",
              "      flex-wrap:wrap;\n",
              "      gap: 12px;\n",
              "    }\n",
              "\n",
              "    .colab-df-convert {\n",
              "      background-color: #E8F0FE;\n",
              "      border: none;\n",
              "      border-radius: 50%;\n",
              "      cursor: pointer;\n",
              "      display: none;\n",
              "      fill: #1967D2;\n",
              "      height: 32px;\n",
              "      padding: 0 0 0 0;\n",
              "      width: 32px;\n",
              "    }\n",
              "\n",
              "    .colab-df-convert:hover {\n",
              "      background-color: #E2EBFA;\n",
              "      box-shadow: 0px 1px 2px rgba(60, 64, 67, 0.3), 0px 1px 3px 1px rgba(60, 64, 67, 0.15);\n",
              "      fill: #174EA6;\n",
              "    }\n",
              "\n",
              "    [theme=dark] .colab-df-convert {\n",
              "      background-color: #3B4455;\n",
              "      fill: #D2E3FC;\n",
              "    }\n",
              "\n",
              "    [theme=dark] .colab-df-convert:hover {\n",
              "      background-color: #434B5C;\n",
              "      box-shadow: 0px 1px 3px 1px rgba(0, 0, 0, 0.15);\n",
              "      filter: drop-shadow(0px 1px 2px rgba(0, 0, 0, 0.3));\n",
              "      fill: #FFFFFF;\n",
              "    }\n",
              "  </style>\n",
              "\n",
              "      <script>\n",
              "        const buttonEl =\n",
              "          document.querySelector('#df-dcafbf03-b639-4bf4-b369-8b14729846fa button.colab-df-convert');\n",
              "        buttonEl.style.display =\n",
              "          google.colab.kernel.accessAllowed ? 'block' : 'none';\n",
              "\n",
              "        async function convertToInteractive(key) {\n",
              "          const element = document.querySelector('#df-dcafbf03-b639-4bf4-b369-8b14729846fa');\n",
              "          const dataTable =\n",
              "            await google.colab.kernel.invokeFunction('convertToInteractive',\n",
              "                                                     [key], {});\n",
              "          if (!dataTable) return;\n",
              "\n",
              "          const docLinkHtml = 'Like what you see? Visit the ' +\n",
              "            '<a target=\"_blank\" href=https://colab.research.google.com/notebooks/data_table.ipynb>data table notebook</a>'\n",
              "            + ' to learn more about interactive tables.';\n",
              "          element.innerHTML = '';\n",
              "          dataTable['output_type'] = 'display_data';\n",
              "          await google.colab.output.renderOutput(dataTable, element);\n",
              "          const docLink = document.createElement('div');\n",
              "          docLink.innerHTML = docLinkHtml;\n",
              "          element.appendChild(docLink);\n",
              "        }\n",
              "      </script>\n",
              "    </div>\n",
              "  </div>\n",
              "  "
            ]
          },
          "metadata": {},
          "execution_count": 158
        }
      ]
    },
    {
      "cell_type": "markdown",
      "source": [
        "**Описание данных**\n",
        "\n",
        "* Name — название игры\n",
        "* Platform — платформа\n",
        "* Year_of_Release — год выпуска\n",
        "* Genre — жанр игры\n",
        "* NA_sales — продажи в Северной Америке (миллионы проданных копий)\n",
        "* EU_sales — продажи в Европе (миллионы проданных копий)\n",
        "* JP_sales — продажи в Японии (миллионы проданных копий)\n",
        "* Other_sales — продажи в других странах (миллионы проданных копий)\n",
        "* Critic_Score — оценка критиков (максимум 100)\n",
        "* User_Score — оценка пользователей (максимум 10)\n",
        "* Rating — рейтинг от организации ESRB (англ. Entertainment Software Rating\n",
        "Board). Эта ассоциация определяет рейтинг компьютерных игр и присваивает\n",
        "им подходящую возрастную категорию.\n",
        "\n",
        "\n",
        "Получим общую информацию о таблице."
      ],
      "metadata": {
        "id": "RZ5InGWPOt5b"
      }
    },
    {
      "cell_type": "code",
      "source": [
        "df.info()"
      ],
      "metadata": {
        "colab": {
          "base_uri": "https://localhost:8080/"
        },
        "id": "fwWQ0CiVedh4",
        "outputId": "c972d76e-ca89-4b9a-9813-22280e518310"
      },
      "execution_count": 159,
      "outputs": [
        {
          "output_type": "stream",
          "name": "stdout",
          "text": [
            "<class 'pandas.core.frame.DataFrame'>\n",
            "RangeIndex: 16715 entries, 0 to 16714\n",
            "Data columns (total 11 columns):\n",
            " #   Column           Non-Null Count  Dtype  \n",
            "---  ------           --------------  -----  \n",
            " 0   Name             16713 non-null  object \n",
            " 1   Platform         16715 non-null  object \n",
            " 2   Year_of_Release  16446 non-null  float64\n",
            " 3   Genre            16713 non-null  object \n",
            " 4   NA_sales         16715 non-null  float64\n",
            " 5   EU_sales         16715 non-null  float64\n",
            " 6   JP_sales         16715 non-null  float64\n",
            " 7   Other_sales      16715 non-null  float64\n",
            " 8   Critic_Score     8137 non-null   float64\n",
            " 9   User_Score       10014 non-null  object \n",
            " 10  Rating           9949 non-null   object \n",
            "dtypes: float64(6), object(5)\n",
            "memory usage: 1.4+ MB\n"
          ]
        }
      ]
    },
    {
      "cell_type": "markdown",
      "source": [
        "**Первичные выводы**\n",
        "\n",
        "В таблце есть ряд ощибок. Такие как неправильный формат записи названий столбцов, неправильный тип данных и наличие пропусков. \n",
        "\n",
        "Названия столбцов необходимо привести к змеиному геристру со всеми строчными буквами.\n",
        "\n",
        "Типы данных для даты нужно изменить а в другис столбцах необходимо детальное рассмотрение и в случае если такая необходимость будет также изменить.\n",
        "\n",
        "Пропуски в таблице будут рассматриваться детально и где необходимо заполняться подходящими значениями, оставляться без изменений или удаляться.\n"
      ],
      "metadata": {
        "id": "SwdYFn-JPGbF"
      }
    },
    {
      "cell_type": "markdown",
      "source": [
        "--------------------------------------------------------------------------------"
      ],
      "metadata": {
        "id": "FjnCAIFASTNz"
      }
    },
    {
      "cell_type": "markdown",
      "source": [
        "**ПРЕДОБРАБОТКА ДАННЫХ**"
      ],
      "metadata": {
        "id": "xkUsGkpXE4Fm"
      }
    },
    {
      "cell_type": "markdown",
      "source": [
        "Приступим к исправлению ошибок.\n",
        "\n",
        "Изменим регистр в названиях столбцов."
      ],
      "metadata": {
        "id": "Jf87PwuASaEe"
      }
    },
    {
      "cell_type": "code",
      "source": [
        "df.columns = df.columns.str.lower()                                             #изменение регистра на нижний"
      ],
      "metadata": {
        "id": "POEhqc8igzFO"
      },
      "execution_count": 160,
      "outputs": []
    },
    {
      "cell_type": "markdown",
      "source": [
        "Проверим изменения"
      ],
      "metadata": {
        "id": "CiHYuKvMSq4K"
      }
    },
    {
      "cell_type": "code",
      "source": [
        "df.columns                                                                      #вывод названий столбцов"
      ],
      "metadata": {
        "id": "OLGy0r5-hdAU",
        "colab": {
          "base_uri": "https://localhost:8080/"
        },
        "outputId": "65d9c318-5b70-495a-83b5-7b7d88c0f8bc"
      },
      "execution_count": 161,
      "outputs": [
        {
          "output_type": "execute_result",
          "data": {
            "text/plain": [
              "Index(['name', 'platform', 'year_of_release', 'genre', 'na_sales', 'eu_sales',\n",
              "       'jp_sales', 'other_sales', 'critic_score', 'user_score', 'rating'],\n",
              "      dtype='object')"
            ]
          },
          "metadata": {},
          "execution_count": 161
        }
      ]
    },
    {
      "cell_type": "markdown",
      "source": [
        "Приступим к изменению типов данных.\n",
        "\n",
        "Сперва поменяем тип столбца 'year_of_release'. Можно заметить что столбец состоит из года выпуска и можно просто поменять тип на 'int', но в столбце присутствуют пропущенные значения. Поэтому пропуски в столбце и примим решение что с ними делать. Применим сортировку по продажам в Северной Америке."
      ],
      "metadata": {
        "id": "ksqH4loMS5J1"
      }
    },
    {
      "cell_type": "code",
      "source": [
        "df.query('year_of_release.isna()',engine = \"python\").sort_values(by = \"na_sales\",ascending = False)          #срез по пропускам и применение сортировки                "
      ],
      "metadata": {
        "colab": {
          "base_uri": "https://localhost:8080/",
          "height": 554
        },
        "id": "uerP1SJ1ezeP",
        "outputId": "71eaf00a-f9c9-4f1c-98a1-412ed9af6ed2"
      },
      "execution_count": 162,
      "outputs": [
        {
          "output_type": "execute_result",
          "data": {
            "text/plain": [
              "                                                    name platform  \\\n",
              "183                                      Madden NFL 2004      PS2   \n",
              "609                                       Space Invaders     2600   \n",
              "657             Frogger's Adventures: Temple of the Frog      GBA   \n",
              "627                                            Rock Band     X360   \n",
              "456                           LEGO Batman: The Videogame      Wii   \n",
              "...                                                  ...      ...   \n",
              "11000                                        Demon Chaos      PS2   \n",
              "10837                                   Egg Monster Hero       DS   \n",
              "15022  Umineko no Naku Koro ni San: Shinjitsu to Gens...      PS3   \n",
              "10764                          Luminous Arc 2 (JP sales)       DS   \n",
              "8364                                Sword of the Samurai      PS2   \n",
              "\n",
              "       year_of_release         genre  na_sales  eu_sales  jp_sales  \\\n",
              "183                NaN        Sports      4.26      0.26      0.01   \n",
              "609                NaN       Shooter      2.36      0.14      0.00   \n",
              "657                NaN     Adventure      2.15      0.18      0.00   \n",
              "627                NaN          Misc      1.93      0.33      0.00   \n",
              "456                NaN        Action      1.80      0.97      0.00   \n",
              "...                ...           ...       ...       ...       ...   \n",
              "11000              NaN        Action      0.00      0.00      0.09   \n",
              "10837              NaN  Role-Playing      0.00      0.00      0.09   \n",
              "15022              NaN     Adventure      0.00      0.00      0.02   \n",
              "10764              NaN  Role-Playing      0.00      0.00      0.10   \n",
              "8364               NaN      Fighting      0.00      0.00      0.17   \n",
              "\n",
              "       other_sales  critic_score user_score rating  \n",
              "183           0.71          94.0        8.5      E  \n",
              "609           0.03           NaN        NaN    NaN  \n",
              "657           0.07          73.0        tbd      E  \n",
              "627           0.21          92.0        8.2      T  \n",
              "456           0.29          74.0        7.9   E10+  \n",
              "...            ...           ...        ...    ...  \n",
              "11000         0.00           NaN        NaN    NaN  \n",
              "10837         0.00           NaN        NaN      E  \n",
              "15022         0.00           NaN        NaN    NaN  \n",
              "10764         0.00           NaN        NaN    NaN  \n",
              "8364          0.00           NaN        NaN    NaN  \n",
              "\n",
              "[269 rows x 11 columns]"
            ],
            "text/html": [
              "\n",
              "  <div id=\"df-0ba087b7-52b7-4b7b-a21b-a9c184e51e59\">\n",
              "    <div class=\"colab-df-container\">\n",
              "      <div>\n",
              "<style scoped>\n",
              "    .dataframe tbody tr th:only-of-type {\n",
              "        vertical-align: middle;\n",
              "    }\n",
              "\n",
              "    .dataframe tbody tr th {\n",
              "        vertical-align: top;\n",
              "    }\n",
              "\n",
              "    .dataframe thead th {\n",
              "        text-align: right;\n",
              "    }\n",
              "</style>\n",
              "<table border=\"1\" class=\"dataframe\">\n",
              "  <thead>\n",
              "    <tr style=\"text-align: right;\">\n",
              "      <th></th>\n",
              "      <th>name</th>\n",
              "      <th>platform</th>\n",
              "      <th>year_of_release</th>\n",
              "      <th>genre</th>\n",
              "      <th>na_sales</th>\n",
              "      <th>eu_sales</th>\n",
              "      <th>jp_sales</th>\n",
              "      <th>other_sales</th>\n",
              "      <th>critic_score</th>\n",
              "      <th>user_score</th>\n",
              "      <th>rating</th>\n",
              "    </tr>\n",
              "  </thead>\n",
              "  <tbody>\n",
              "    <tr>\n",
              "      <th>183</th>\n",
              "      <td>Madden NFL 2004</td>\n",
              "      <td>PS2</td>\n",
              "      <td>NaN</td>\n",
              "      <td>Sports</td>\n",
              "      <td>4.26</td>\n",
              "      <td>0.26</td>\n",
              "      <td>0.01</td>\n",
              "      <td>0.71</td>\n",
              "      <td>94.0</td>\n",
              "      <td>8.5</td>\n",
              "      <td>E</td>\n",
              "    </tr>\n",
              "    <tr>\n",
              "      <th>609</th>\n",
              "      <td>Space Invaders</td>\n",
              "      <td>2600</td>\n",
              "      <td>NaN</td>\n",
              "      <td>Shooter</td>\n",
              "      <td>2.36</td>\n",
              "      <td>0.14</td>\n",
              "      <td>0.00</td>\n",
              "      <td>0.03</td>\n",
              "      <td>NaN</td>\n",
              "      <td>NaN</td>\n",
              "      <td>NaN</td>\n",
              "    </tr>\n",
              "    <tr>\n",
              "      <th>657</th>\n",
              "      <td>Frogger's Adventures: Temple of the Frog</td>\n",
              "      <td>GBA</td>\n",
              "      <td>NaN</td>\n",
              "      <td>Adventure</td>\n",
              "      <td>2.15</td>\n",
              "      <td>0.18</td>\n",
              "      <td>0.00</td>\n",
              "      <td>0.07</td>\n",
              "      <td>73.0</td>\n",
              "      <td>tbd</td>\n",
              "      <td>E</td>\n",
              "    </tr>\n",
              "    <tr>\n",
              "      <th>627</th>\n",
              "      <td>Rock Band</td>\n",
              "      <td>X360</td>\n",
              "      <td>NaN</td>\n",
              "      <td>Misc</td>\n",
              "      <td>1.93</td>\n",
              "      <td>0.33</td>\n",
              "      <td>0.00</td>\n",
              "      <td>0.21</td>\n",
              "      <td>92.0</td>\n",
              "      <td>8.2</td>\n",
              "      <td>T</td>\n",
              "    </tr>\n",
              "    <tr>\n",
              "      <th>456</th>\n",
              "      <td>LEGO Batman: The Videogame</td>\n",
              "      <td>Wii</td>\n",
              "      <td>NaN</td>\n",
              "      <td>Action</td>\n",
              "      <td>1.80</td>\n",
              "      <td>0.97</td>\n",
              "      <td>0.00</td>\n",
              "      <td>0.29</td>\n",
              "      <td>74.0</td>\n",
              "      <td>7.9</td>\n",
              "      <td>E10+</td>\n",
              "    </tr>\n",
              "    <tr>\n",
              "      <th>...</th>\n",
              "      <td>...</td>\n",
              "      <td>...</td>\n",
              "      <td>...</td>\n",
              "      <td>...</td>\n",
              "      <td>...</td>\n",
              "      <td>...</td>\n",
              "      <td>...</td>\n",
              "      <td>...</td>\n",
              "      <td>...</td>\n",
              "      <td>...</td>\n",
              "      <td>...</td>\n",
              "    </tr>\n",
              "    <tr>\n",
              "      <th>11000</th>\n",
              "      <td>Demon Chaos</td>\n",
              "      <td>PS2</td>\n",
              "      <td>NaN</td>\n",
              "      <td>Action</td>\n",
              "      <td>0.00</td>\n",
              "      <td>0.00</td>\n",
              "      <td>0.09</td>\n",
              "      <td>0.00</td>\n",
              "      <td>NaN</td>\n",
              "      <td>NaN</td>\n",
              "      <td>NaN</td>\n",
              "    </tr>\n",
              "    <tr>\n",
              "      <th>10837</th>\n",
              "      <td>Egg Monster Hero</td>\n",
              "      <td>DS</td>\n",
              "      <td>NaN</td>\n",
              "      <td>Role-Playing</td>\n",
              "      <td>0.00</td>\n",
              "      <td>0.00</td>\n",
              "      <td>0.09</td>\n",
              "      <td>0.00</td>\n",
              "      <td>NaN</td>\n",
              "      <td>NaN</td>\n",
              "      <td>E</td>\n",
              "    </tr>\n",
              "    <tr>\n",
              "      <th>15022</th>\n",
              "      <td>Umineko no Naku Koro ni San: Shinjitsu to Gens...</td>\n",
              "      <td>PS3</td>\n",
              "      <td>NaN</td>\n",
              "      <td>Adventure</td>\n",
              "      <td>0.00</td>\n",
              "      <td>0.00</td>\n",
              "      <td>0.02</td>\n",
              "      <td>0.00</td>\n",
              "      <td>NaN</td>\n",
              "      <td>NaN</td>\n",
              "      <td>NaN</td>\n",
              "    </tr>\n",
              "    <tr>\n",
              "      <th>10764</th>\n",
              "      <td>Luminous Arc 2 (JP sales)</td>\n",
              "      <td>DS</td>\n",
              "      <td>NaN</td>\n",
              "      <td>Role-Playing</td>\n",
              "      <td>0.00</td>\n",
              "      <td>0.00</td>\n",
              "      <td>0.10</td>\n",
              "      <td>0.00</td>\n",
              "      <td>NaN</td>\n",
              "      <td>NaN</td>\n",
              "      <td>NaN</td>\n",
              "    </tr>\n",
              "    <tr>\n",
              "      <th>8364</th>\n",
              "      <td>Sword of the Samurai</td>\n",
              "      <td>PS2</td>\n",
              "      <td>NaN</td>\n",
              "      <td>Fighting</td>\n",
              "      <td>0.00</td>\n",
              "      <td>0.00</td>\n",
              "      <td>0.17</td>\n",
              "      <td>0.00</td>\n",
              "      <td>NaN</td>\n",
              "      <td>NaN</td>\n",
              "      <td>NaN</td>\n",
              "    </tr>\n",
              "  </tbody>\n",
              "</table>\n",
              "<p>269 rows × 11 columns</p>\n",
              "</div>\n",
              "      <button class=\"colab-df-convert\" onclick=\"convertToInteractive('df-0ba087b7-52b7-4b7b-a21b-a9c184e51e59')\"\n",
              "              title=\"Convert this dataframe to an interactive table.\"\n",
              "              style=\"display:none;\">\n",
              "        \n",
              "  <svg xmlns=\"http://www.w3.org/2000/svg\" height=\"24px\"viewBox=\"0 0 24 24\"\n",
              "       width=\"24px\">\n",
              "    <path d=\"M0 0h24v24H0V0z\" fill=\"none\"/>\n",
              "    <path d=\"M18.56 5.44l.94 2.06.94-2.06 2.06-.94-2.06-.94-.94-2.06-.94 2.06-2.06.94zm-11 1L8.5 8.5l.94-2.06 2.06-.94-2.06-.94L8.5 2.5l-.94 2.06-2.06.94zm10 10l.94 2.06.94-2.06 2.06-.94-2.06-.94-.94-2.06-.94 2.06-2.06.94z\"/><path d=\"M17.41 7.96l-1.37-1.37c-.4-.4-.92-.59-1.43-.59-.52 0-1.04.2-1.43.59L10.3 9.45l-7.72 7.72c-.78.78-.78 2.05 0 2.83L4 21.41c.39.39.9.59 1.41.59.51 0 1.02-.2 1.41-.59l7.78-7.78 2.81-2.81c.8-.78.8-2.07 0-2.86zM5.41 20L4 18.59l7.72-7.72 1.47 1.35L5.41 20z\"/>\n",
              "  </svg>\n",
              "      </button>\n",
              "      \n",
              "  <style>\n",
              "    .colab-df-container {\n",
              "      display:flex;\n",
              "      flex-wrap:wrap;\n",
              "      gap: 12px;\n",
              "    }\n",
              "\n",
              "    .colab-df-convert {\n",
              "      background-color: #E8F0FE;\n",
              "      border: none;\n",
              "      border-radius: 50%;\n",
              "      cursor: pointer;\n",
              "      display: none;\n",
              "      fill: #1967D2;\n",
              "      height: 32px;\n",
              "      padding: 0 0 0 0;\n",
              "      width: 32px;\n",
              "    }\n",
              "\n",
              "    .colab-df-convert:hover {\n",
              "      background-color: #E2EBFA;\n",
              "      box-shadow: 0px 1px 2px rgba(60, 64, 67, 0.3), 0px 1px 3px 1px rgba(60, 64, 67, 0.15);\n",
              "      fill: #174EA6;\n",
              "    }\n",
              "\n",
              "    [theme=dark] .colab-df-convert {\n",
              "      background-color: #3B4455;\n",
              "      fill: #D2E3FC;\n",
              "    }\n",
              "\n",
              "    [theme=dark] .colab-df-convert:hover {\n",
              "      background-color: #434B5C;\n",
              "      box-shadow: 0px 1px 3px 1px rgba(0, 0, 0, 0.15);\n",
              "      filter: drop-shadow(0px 1px 2px rgba(0, 0, 0, 0.3));\n",
              "      fill: #FFFFFF;\n",
              "    }\n",
              "  </style>\n",
              "\n",
              "      <script>\n",
              "        const buttonEl =\n",
              "          document.querySelector('#df-0ba087b7-52b7-4b7b-a21b-a9c184e51e59 button.colab-df-convert');\n",
              "        buttonEl.style.display =\n",
              "          google.colab.kernel.accessAllowed ? 'block' : 'none';\n",
              "\n",
              "        async function convertToInteractive(key) {\n",
              "          const element = document.querySelector('#df-0ba087b7-52b7-4b7b-a21b-a9c184e51e59');\n",
              "          const dataTable =\n",
              "            await google.colab.kernel.invokeFunction('convertToInteractive',\n",
              "                                                     [key], {});\n",
              "          if (!dataTable) return;\n",
              "\n",
              "          const docLinkHtml = 'Like what you see? Visit the ' +\n",
              "            '<a target=\"_blank\" href=https://colab.research.google.com/notebooks/data_table.ipynb>data table notebook</a>'\n",
              "            + ' to learn more about interactive tables.';\n",
              "          element.innerHTML = '';\n",
              "          dataTable['output_type'] = 'display_data';\n",
              "          await google.colab.output.renderOutput(dataTable, element);\n",
              "          const docLink = document.createElement('div');\n",
              "          docLink.innerHTML = docLinkHtml;\n",
              "          element.appendChild(docLink);\n",
              "        }\n",
              "      </script>\n",
              "    </div>\n",
              "  </div>\n",
              "  "
            ]
          },
          "metadata": {},
          "execution_count": 162
        }
      ]
    },
    {
      "cell_type": "markdown",
      "source": [
        "Видим что игры которые указаны без года выпуска имеют очень малое количество продаж по всему миру, а в некоторых присутствуют пропуски по рейтингу.\n",
        "Ввиду того что такие данные не информативны и по ним трудно делать какие-то выводы можно их удалить.\n",
        "\n",
        "Удалим пропуски в столбце 'year_of_release' и изменим тип."
      ],
      "metadata": {
        "id": "uEq0ml75hNy3"
      }
    },
    {
      "cell_type": "code",
      "source": [
        "df = df.dropna(subset = [\"year_of_release\"]).copy()                                                                     #удаление пропусков\n",
        "df.year_of_release = df.year_of_release.astype(int)                                                                     #изменение типа данных"
      ],
      "metadata": {
        "id": "3ycD4GtOhwng"
      },
      "execution_count": 163,
      "outputs": []
    },
    {
      "cell_type": "markdown",
      "source": [
        "Для столбцов с объёмом продаж по всем регионам тип данных 'float' допустим. Его изменять не будем.\n",
        "\n",
        "Обработаем столбцы 'critic_score', 'user_score' и 'rating'.\n",
        "Выведем на экран пропуски в столбце 'critic_score'."
      ],
      "metadata": {
        "id": "wHDO_8LwludP"
      }
    },
    {
      "cell_type": "code",
      "source": [
        "df.query(\"critic_score.isna()\",engine = \"python\")                                                                       #срез по пропускам"
      ],
      "metadata": {
        "colab": {
          "base_uri": "https://localhost:8080/",
          "height": 502
        },
        "id": "PXinbOfQSlF-",
        "outputId": "5512fd67-1ff3-4e3b-e8f0-a29086277437"
      },
      "execution_count": 164,
      "outputs": [
        {
          "output_type": "execute_result",
          "data": {
            "text/plain": [
              "                                name platform  year_of_release         genre  \\\n",
              "1                  Super Mario Bros.      NES             1985      Platform   \n",
              "4           Pokemon Red/Pokemon Blue       GB             1996  Role-Playing   \n",
              "5                             Tetris       GB             1989        Puzzle   \n",
              "9                          Duck Hunt      NES             1984       Shooter   \n",
              "10                        Nintendogs       DS             2005    Simulation   \n",
              "...                              ...      ...              ...           ...   \n",
              "16710  Samurai Warriors: Sanada Maru      PS3             2016        Action   \n",
              "16711               LMA Manager 2007     X360             2006        Sports   \n",
              "16712        Haitaka no Psychedelica      PSV             2016     Adventure   \n",
              "16713               Spirits & Spells      GBA             2003      Platform   \n",
              "16714            Winning Post 8 2016      PSV             2016    Simulation   \n",
              "\n",
              "       na_sales  eu_sales  jp_sales  other_sales  critic_score user_score  \\\n",
              "1         29.08      3.58      6.81         0.77           NaN        NaN   \n",
              "4         11.27      8.89     10.22         1.00           NaN        NaN   \n",
              "5         23.20      2.26      4.22         0.58           NaN        NaN   \n",
              "9         26.93      0.63      0.28         0.47           NaN        NaN   \n",
              "10         9.05     10.95      1.93         2.74           NaN        NaN   \n",
              "...         ...       ...       ...          ...           ...        ...   \n",
              "16710      0.00      0.00      0.01         0.00           NaN        NaN   \n",
              "16711      0.00      0.01      0.00         0.00           NaN        NaN   \n",
              "16712      0.00      0.00      0.01         0.00           NaN        NaN   \n",
              "16713      0.01      0.00      0.00         0.00           NaN        NaN   \n",
              "16714      0.00      0.00      0.01         0.00           NaN        NaN   \n",
              "\n",
              "      rating  \n",
              "1        NaN  \n",
              "4        NaN  \n",
              "5        NaN  \n",
              "9        NaN  \n",
              "10       NaN  \n",
              "...      ...  \n",
              "16710    NaN  \n",
              "16711    NaN  \n",
              "16712    NaN  \n",
              "16713    NaN  \n",
              "16714    NaN  \n",
              "\n",
              "[8463 rows x 11 columns]"
            ],
            "text/html": [
              "\n",
              "  <div id=\"df-2a305c8a-29c1-4196-b5ca-a1d0f44372f6\">\n",
              "    <div class=\"colab-df-container\">\n",
              "      <div>\n",
              "<style scoped>\n",
              "    .dataframe tbody tr th:only-of-type {\n",
              "        vertical-align: middle;\n",
              "    }\n",
              "\n",
              "    .dataframe tbody tr th {\n",
              "        vertical-align: top;\n",
              "    }\n",
              "\n",
              "    .dataframe thead th {\n",
              "        text-align: right;\n",
              "    }\n",
              "</style>\n",
              "<table border=\"1\" class=\"dataframe\">\n",
              "  <thead>\n",
              "    <tr style=\"text-align: right;\">\n",
              "      <th></th>\n",
              "      <th>name</th>\n",
              "      <th>platform</th>\n",
              "      <th>year_of_release</th>\n",
              "      <th>genre</th>\n",
              "      <th>na_sales</th>\n",
              "      <th>eu_sales</th>\n",
              "      <th>jp_sales</th>\n",
              "      <th>other_sales</th>\n",
              "      <th>critic_score</th>\n",
              "      <th>user_score</th>\n",
              "      <th>rating</th>\n",
              "    </tr>\n",
              "  </thead>\n",
              "  <tbody>\n",
              "    <tr>\n",
              "      <th>1</th>\n",
              "      <td>Super Mario Bros.</td>\n",
              "      <td>NES</td>\n",
              "      <td>1985</td>\n",
              "      <td>Platform</td>\n",
              "      <td>29.08</td>\n",
              "      <td>3.58</td>\n",
              "      <td>6.81</td>\n",
              "      <td>0.77</td>\n",
              "      <td>NaN</td>\n",
              "      <td>NaN</td>\n",
              "      <td>NaN</td>\n",
              "    </tr>\n",
              "    <tr>\n",
              "      <th>4</th>\n",
              "      <td>Pokemon Red/Pokemon Blue</td>\n",
              "      <td>GB</td>\n",
              "      <td>1996</td>\n",
              "      <td>Role-Playing</td>\n",
              "      <td>11.27</td>\n",
              "      <td>8.89</td>\n",
              "      <td>10.22</td>\n",
              "      <td>1.00</td>\n",
              "      <td>NaN</td>\n",
              "      <td>NaN</td>\n",
              "      <td>NaN</td>\n",
              "    </tr>\n",
              "    <tr>\n",
              "      <th>5</th>\n",
              "      <td>Tetris</td>\n",
              "      <td>GB</td>\n",
              "      <td>1989</td>\n",
              "      <td>Puzzle</td>\n",
              "      <td>23.20</td>\n",
              "      <td>2.26</td>\n",
              "      <td>4.22</td>\n",
              "      <td>0.58</td>\n",
              "      <td>NaN</td>\n",
              "      <td>NaN</td>\n",
              "      <td>NaN</td>\n",
              "    </tr>\n",
              "    <tr>\n",
              "      <th>9</th>\n",
              "      <td>Duck Hunt</td>\n",
              "      <td>NES</td>\n",
              "      <td>1984</td>\n",
              "      <td>Shooter</td>\n",
              "      <td>26.93</td>\n",
              "      <td>0.63</td>\n",
              "      <td>0.28</td>\n",
              "      <td>0.47</td>\n",
              "      <td>NaN</td>\n",
              "      <td>NaN</td>\n",
              "      <td>NaN</td>\n",
              "    </tr>\n",
              "    <tr>\n",
              "      <th>10</th>\n",
              "      <td>Nintendogs</td>\n",
              "      <td>DS</td>\n",
              "      <td>2005</td>\n",
              "      <td>Simulation</td>\n",
              "      <td>9.05</td>\n",
              "      <td>10.95</td>\n",
              "      <td>1.93</td>\n",
              "      <td>2.74</td>\n",
              "      <td>NaN</td>\n",
              "      <td>NaN</td>\n",
              "      <td>NaN</td>\n",
              "    </tr>\n",
              "    <tr>\n",
              "      <th>...</th>\n",
              "      <td>...</td>\n",
              "      <td>...</td>\n",
              "      <td>...</td>\n",
              "      <td>...</td>\n",
              "      <td>...</td>\n",
              "      <td>...</td>\n",
              "      <td>...</td>\n",
              "      <td>...</td>\n",
              "      <td>...</td>\n",
              "      <td>...</td>\n",
              "      <td>...</td>\n",
              "    </tr>\n",
              "    <tr>\n",
              "      <th>16710</th>\n",
              "      <td>Samurai Warriors: Sanada Maru</td>\n",
              "      <td>PS3</td>\n",
              "      <td>2016</td>\n",
              "      <td>Action</td>\n",
              "      <td>0.00</td>\n",
              "      <td>0.00</td>\n",
              "      <td>0.01</td>\n",
              "      <td>0.00</td>\n",
              "      <td>NaN</td>\n",
              "      <td>NaN</td>\n",
              "      <td>NaN</td>\n",
              "    </tr>\n",
              "    <tr>\n",
              "      <th>16711</th>\n",
              "      <td>LMA Manager 2007</td>\n",
              "      <td>X360</td>\n",
              "      <td>2006</td>\n",
              "      <td>Sports</td>\n",
              "      <td>0.00</td>\n",
              "      <td>0.01</td>\n",
              "      <td>0.00</td>\n",
              "      <td>0.00</td>\n",
              "      <td>NaN</td>\n",
              "      <td>NaN</td>\n",
              "      <td>NaN</td>\n",
              "    </tr>\n",
              "    <tr>\n",
              "      <th>16712</th>\n",
              "      <td>Haitaka no Psychedelica</td>\n",
              "      <td>PSV</td>\n",
              "      <td>2016</td>\n",
              "      <td>Adventure</td>\n",
              "      <td>0.00</td>\n",
              "      <td>0.00</td>\n",
              "      <td>0.01</td>\n",
              "      <td>0.00</td>\n",
              "      <td>NaN</td>\n",
              "      <td>NaN</td>\n",
              "      <td>NaN</td>\n",
              "    </tr>\n",
              "    <tr>\n",
              "      <th>16713</th>\n",
              "      <td>Spirits &amp; Spells</td>\n",
              "      <td>GBA</td>\n",
              "      <td>2003</td>\n",
              "      <td>Platform</td>\n",
              "      <td>0.01</td>\n",
              "      <td>0.00</td>\n",
              "      <td>0.00</td>\n",
              "      <td>0.00</td>\n",
              "      <td>NaN</td>\n",
              "      <td>NaN</td>\n",
              "      <td>NaN</td>\n",
              "    </tr>\n",
              "    <tr>\n",
              "      <th>16714</th>\n",
              "      <td>Winning Post 8 2016</td>\n",
              "      <td>PSV</td>\n",
              "      <td>2016</td>\n",
              "      <td>Simulation</td>\n",
              "      <td>0.00</td>\n",
              "      <td>0.00</td>\n",
              "      <td>0.01</td>\n",
              "      <td>0.00</td>\n",
              "      <td>NaN</td>\n",
              "      <td>NaN</td>\n",
              "      <td>NaN</td>\n",
              "    </tr>\n",
              "  </tbody>\n",
              "</table>\n",
              "<p>8463 rows × 11 columns</p>\n",
              "</div>\n",
              "      <button class=\"colab-df-convert\" onclick=\"convertToInteractive('df-2a305c8a-29c1-4196-b5ca-a1d0f44372f6')\"\n",
              "              title=\"Convert this dataframe to an interactive table.\"\n",
              "              style=\"display:none;\">\n",
              "        \n",
              "  <svg xmlns=\"http://www.w3.org/2000/svg\" height=\"24px\"viewBox=\"0 0 24 24\"\n",
              "       width=\"24px\">\n",
              "    <path d=\"M0 0h24v24H0V0z\" fill=\"none\"/>\n",
              "    <path d=\"M18.56 5.44l.94 2.06.94-2.06 2.06-.94-2.06-.94-.94-2.06-.94 2.06-2.06.94zm-11 1L8.5 8.5l.94-2.06 2.06-.94-2.06-.94L8.5 2.5l-.94 2.06-2.06.94zm10 10l.94 2.06.94-2.06 2.06-.94-2.06-.94-.94-2.06-.94 2.06-2.06.94z\"/><path d=\"M17.41 7.96l-1.37-1.37c-.4-.4-.92-.59-1.43-.59-.52 0-1.04.2-1.43.59L10.3 9.45l-7.72 7.72c-.78.78-.78 2.05 0 2.83L4 21.41c.39.39.9.59 1.41.59.51 0 1.02-.2 1.41-.59l7.78-7.78 2.81-2.81c.8-.78.8-2.07 0-2.86zM5.41 20L4 18.59l7.72-7.72 1.47 1.35L5.41 20z\"/>\n",
              "  </svg>\n",
              "      </button>\n",
              "      \n",
              "  <style>\n",
              "    .colab-df-container {\n",
              "      display:flex;\n",
              "      flex-wrap:wrap;\n",
              "      gap: 12px;\n",
              "    }\n",
              "\n",
              "    .colab-df-convert {\n",
              "      background-color: #E8F0FE;\n",
              "      border: none;\n",
              "      border-radius: 50%;\n",
              "      cursor: pointer;\n",
              "      display: none;\n",
              "      fill: #1967D2;\n",
              "      height: 32px;\n",
              "      padding: 0 0 0 0;\n",
              "      width: 32px;\n",
              "    }\n",
              "\n",
              "    .colab-df-convert:hover {\n",
              "      background-color: #E2EBFA;\n",
              "      box-shadow: 0px 1px 2px rgba(60, 64, 67, 0.3), 0px 1px 3px 1px rgba(60, 64, 67, 0.15);\n",
              "      fill: #174EA6;\n",
              "    }\n",
              "\n",
              "    [theme=dark] .colab-df-convert {\n",
              "      background-color: #3B4455;\n",
              "      fill: #D2E3FC;\n",
              "    }\n",
              "\n",
              "    [theme=dark] .colab-df-convert:hover {\n",
              "      background-color: #434B5C;\n",
              "      box-shadow: 0px 1px 3px 1px rgba(0, 0, 0, 0.15);\n",
              "      filter: drop-shadow(0px 1px 2px rgba(0, 0, 0, 0.3));\n",
              "      fill: #FFFFFF;\n",
              "    }\n",
              "  </style>\n",
              "\n",
              "      <script>\n",
              "        const buttonEl =\n",
              "          document.querySelector('#df-2a305c8a-29c1-4196-b5ca-a1d0f44372f6 button.colab-df-convert');\n",
              "        buttonEl.style.display =\n",
              "          google.colab.kernel.accessAllowed ? 'block' : 'none';\n",
              "\n",
              "        async function convertToInteractive(key) {\n",
              "          const element = document.querySelector('#df-2a305c8a-29c1-4196-b5ca-a1d0f44372f6');\n",
              "          const dataTable =\n",
              "            await google.colab.kernel.invokeFunction('convertToInteractive',\n",
              "                                                     [key], {});\n",
              "          if (!dataTable) return;\n",
              "\n",
              "          const docLinkHtml = 'Like what you see? Visit the ' +\n",
              "            '<a target=\"_blank\" href=https://colab.research.google.com/notebooks/data_table.ipynb>data table notebook</a>'\n",
              "            + ' to learn more about interactive tables.';\n",
              "          element.innerHTML = '';\n",
              "          dataTable['output_type'] = 'display_data';\n",
              "          await google.colab.output.renderOutput(dataTable, element);\n",
              "          const docLink = document.createElement('div');\n",
              "          docLink.innerHTML = docLinkHtml;\n",
              "          element.appendChild(docLink);\n",
              "        }\n",
              "      </script>\n",
              "    </div>\n",
              "  </div>\n",
              "  "
            ]
          },
          "metadata": {},
          "execution_count": 164
        }
      ]
    },
    {
      "cell_type": "markdown",
      "source": [
        "Видим что в строках с пропусками в столбце 'critic_score' имеются пропуски в столбцах 'user_score' и 'rating', а также можно заметить что продажи по большенству игр не превышают миллиона копий.\n",
        "\n",
        "Несмотря на то что строк с пропусками больше 8 тысяч такие данные не следует удалить, из-за того что они могут дать количественную информацию по некоторым вопросам. Но и заменять проауски медианным или средним значением не логично,потому отталкиваясь от других показателей пропуск будет не объективен.\n",
        "\n",
        "Для заполнения пропуска поставим 'заглушку' и в случае ответа на вопросы которые будут затрагивать данные из этих столбцов, просто не будем принимать их в расчёт.\n",
        "\n",
        "-1 будет означать 'заглушку' для 'user_score' и 'critic_score', а 'Unknown' для 'rating'.\n",
        "\n",
        " "
      ],
      "metadata": {
        "id": "35RRKEK2ZtgD"
      }
    },
    {
      "cell_type": "code",
      "source": [
        "df[\"critic_score\"] = df[\"critic_score\"].fillna(-1)                              #заполнение пропусков            \n",
        "df[\"user_score\"] = df[\"user_score\"].fillna(-1)    \n",
        "df[\"rating\"] = df[\"rating\"].fillna(\"Unknown\")                                                                                               #заполнение пропусков"
      ],
      "metadata": {
        "id": "kWCJ04MGlu3E"
      },
      "execution_count": 165,
      "outputs": []
    },
    {
      "cell_type": "markdown",
      "source": [
        "Проверим столбец 'user_score'.\n",
        "\n",
        "Выведем уникальные значения на экран."
      ],
      "metadata": {
        "id": "Lo062jvk8bzl"
      }
    },
    {
      "cell_type": "code",
      "source": [
        "df.user_score.unique()                                                                                               #вывод уникальных значений"
      ],
      "metadata": {
        "colab": {
          "base_uri": "https://localhost:8080/"
        },
        "id": "O_TfWSb39vNq",
        "outputId": "395c74c2-7fb8-4d0c-f113-6dd571a3849c"
      },
      "execution_count": 166,
      "outputs": [
        {
          "output_type": "execute_result",
          "data": {
            "text/plain": [
              "array(['8', -1, '8.3', '8.5', '6.6', '8.4', '8.6', '7.7', '6.3', '7.4',\n",
              "       '8.2', '9', '7.9', '8.1', '8.7', '7.1', '3.4', '5.3', '4.8', '3.2',\n",
              "       '8.9', '6.4', '7.8', '7.5', '2.6', '7.2', '9.2', '7', '7.3', '4.3',\n",
              "       '7.6', '5.7', '5', '9.1', '6.5', 'tbd', '8.8', '6.9', '9.4', '6.8',\n",
              "       '6.1', '6.7', '5.4', '4', '4.9', '4.5', '9.3', '6.2', '4.2', '6',\n",
              "       '3.7', '4.1', '5.8', '5.6', '5.5', '4.4', '4.6', '5.9', '3.9',\n",
              "       '3.1', '2.9', '5.2', '3.3', '4.7', '5.1', '3.5', '2.5', '1.9', '3',\n",
              "       '2.7', '2.2', '2', '9.5', '2.1', '3.6', '2.8', '1.8', '3.8', '0',\n",
              "       '1.6', '9.6', '2.4', '1.7', '1.1', '0.3', '1.5', '0.7', '1.2',\n",
              "       '2.3', '0.5', '1.3', '0.2', '0.6', '1.4', '0.9', '1', '9.7'],\n",
              "      dtype=object)"
            ]
          },
          "metadata": {},
          "execution_count": 166
        }
      ]
    },
    {
      "cell_type": "markdown",
      "source": [
        "В этом столбце содержатся значения типа 'object', но данные вида 'float'.\n",
        "\n",
        "В столбце имеются строки со значением 'tbd', что приводит к неправильному формату. Предположим что 'tbd' это аббревиатура 'too bad'.\n",
        "\n",
        "Выведем все строки с 'tbd'."
      ],
      "metadata": {
        "id": "pYxjHhLt97nd"
      }
    },
    {
      "cell_type": "code",
      "source": [
        "df.query('user_score == \"tbd\"')                                                                                        #срез данных по значению 'tbd'"
      ],
      "metadata": {
        "colab": {
          "base_uri": "https://localhost:8080/",
          "height": 502
        },
        "id": "NKNMyuQl_ydH",
        "outputId": "e6cb8a1b-0576-4c91-bd54-2eac3cb3cd64"
      },
      "execution_count": 167,
      "outputs": [
        {
          "output_type": "execute_result",
          "data": {
            "text/plain": [
              "                                 name platform  year_of_release       genre  \\\n",
              "119                     Zumba Fitness      Wii             2010      Sports   \n",
              "301    Namco Museum: 50th Anniversary      PS2             2005        Misc   \n",
              "520                   Zumba Fitness 2      Wii             2011      Sports   \n",
              "645                      uDraw Studio      Wii             2010        Misc   \n",
              "718                   Just Dance Kids      Wii             2010        Misc   \n",
              "...                               ...      ...              ...         ...   \n",
              "16695                 Planet Monsters      GBA             2001      Action   \n",
              "16697                Bust-A-Move 3000       GC             2003      Puzzle   \n",
              "16698                Mega Brain Boost       DS             2008      Puzzle   \n",
              "16704                        Plushees       DS             2008  Simulation   \n",
              "16706   Men in Black II: Alien Escape       GC             2003     Shooter   \n",
              "\n",
              "       na_sales  eu_sales  jp_sales  other_sales  critic_score user_score  \\\n",
              "119        3.45      2.59       0.0         0.66          -1.0        tbd   \n",
              "301        2.08      1.35       0.0         0.54          61.0        tbd   \n",
              "520        1.51      1.03       0.0         0.27          -1.0        tbd   \n",
              "645        1.65      0.57       0.0         0.20          71.0        tbd   \n",
              "718        1.52      0.54       0.0         0.18          -1.0        tbd   \n",
              "...         ...       ...       ...          ...           ...        ...   \n",
              "16695      0.01      0.00       0.0         0.00          67.0        tbd   \n",
              "16697      0.01      0.00       0.0         0.00          53.0        tbd   \n",
              "16698      0.01      0.00       0.0         0.00          48.0        tbd   \n",
              "16704      0.01      0.00       0.0         0.00          -1.0        tbd   \n",
              "16706      0.01      0.00       0.0         0.00          -1.0        tbd   \n",
              "\n",
              "      rating  \n",
              "119        E  \n",
              "301     E10+  \n",
              "520        T  \n",
              "645        E  \n",
              "718        E  \n",
              "...      ...  \n",
              "16695      E  \n",
              "16697      E  \n",
              "16698      E  \n",
              "16704      E  \n",
              "16706      T  \n",
              "\n",
              "[2376 rows x 11 columns]"
            ],
            "text/html": [
              "\n",
              "  <div id=\"df-fe30b542-c76a-462c-8d49-f00fce1a9297\">\n",
              "    <div class=\"colab-df-container\">\n",
              "      <div>\n",
              "<style scoped>\n",
              "    .dataframe tbody tr th:only-of-type {\n",
              "        vertical-align: middle;\n",
              "    }\n",
              "\n",
              "    .dataframe tbody tr th {\n",
              "        vertical-align: top;\n",
              "    }\n",
              "\n",
              "    .dataframe thead th {\n",
              "        text-align: right;\n",
              "    }\n",
              "</style>\n",
              "<table border=\"1\" class=\"dataframe\">\n",
              "  <thead>\n",
              "    <tr style=\"text-align: right;\">\n",
              "      <th></th>\n",
              "      <th>name</th>\n",
              "      <th>platform</th>\n",
              "      <th>year_of_release</th>\n",
              "      <th>genre</th>\n",
              "      <th>na_sales</th>\n",
              "      <th>eu_sales</th>\n",
              "      <th>jp_sales</th>\n",
              "      <th>other_sales</th>\n",
              "      <th>critic_score</th>\n",
              "      <th>user_score</th>\n",
              "      <th>rating</th>\n",
              "    </tr>\n",
              "  </thead>\n",
              "  <tbody>\n",
              "    <tr>\n",
              "      <th>119</th>\n",
              "      <td>Zumba Fitness</td>\n",
              "      <td>Wii</td>\n",
              "      <td>2010</td>\n",
              "      <td>Sports</td>\n",
              "      <td>3.45</td>\n",
              "      <td>2.59</td>\n",
              "      <td>0.0</td>\n",
              "      <td>0.66</td>\n",
              "      <td>-1.0</td>\n",
              "      <td>tbd</td>\n",
              "      <td>E</td>\n",
              "    </tr>\n",
              "    <tr>\n",
              "      <th>301</th>\n",
              "      <td>Namco Museum: 50th Anniversary</td>\n",
              "      <td>PS2</td>\n",
              "      <td>2005</td>\n",
              "      <td>Misc</td>\n",
              "      <td>2.08</td>\n",
              "      <td>1.35</td>\n",
              "      <td>0.0</td>\n",
              "      <td>0.54</td>\n",
              "      <td>61.0</td>\n",
              "      <td>tbd</td>\n",
              "      <td>E10+</td>\n",
              "    </tr>\n",
              "    <tr>\n",
              "      <th>520</th>\n",
              "      <td>Zumba Fitness 2</td>\n",
              "      <td>Wii</td>\n",
              "      <td>2011</td>\n",
              "      <td>Sports</td>\n",
              "      <td>1.51</td>\n",
              "      <td>1.03</td>\n",
              "      <td>0.0</td>\n",
              "      <td>0.27</td>\n",
              "      <td>-1.0</td>\n",
              "      <td>tbd</td>\n",
              "      <td>T</td>\n",
              "    </tr>\n",
              "    <tr>\n",
              "      <th>645</th>\n",
              "      <td>uDraw Studio</td>\n",
              "      <td>Wii</td>\n",
              "      <td>2010</td>\n",
              "      <td>Misc</td>\n",
              "      <td>1.65</td>\n",
              "      <td>0.57</td>\n",
              "      <td>0.0</td>\n",
              "      <td>0.20</td>\n",
              "      <td>71.0</td>\n",
              "      <td>tbd</td>\n",
              "      <td>E</td>\n",
              "    </tr>\n",
              "    <tr>\n",
              "      <th>718</th>\n",
              "      <td>Just Dance Kids</td>\n",
              "      <td>Wii</td>\n",
              "      <td>2010</td>\n",
              "      <td>Misc</td>\n",
              "      <td>1.52</td>\n",
              "      <td>0.54</td>\n",
              "      <td>0.0</td>\n",
              "      <td>0.18</td>\n",
              "      <td>-1.0</td>\n",
              "      <td>tbd</td>\n",
              "      <td>E</td>\n",
              "    </tr>\n",
              "    <tr>\n",
              "      <th>...</th>\n",
              "      <td>...</td>\n",
              "      <td>...</td>\n",
              "      <td>...</td>\n",
              "      <td>...</td>\n",
              "      <td>...</td>\n",
              "      <td>...</td>\n",
              "      <td>...</td>\n",
              "      <td>...</td>\n",
              "      <td>...</td>\n",
              "      <td>...</td>\n",
              "      <td>...</td>\n",
              "    </tr>\n",
              "    <tr>\n",
              "      <th>16695</th>\n",
              "      <td>Planet Monsters</td>\n",
              "      <td>GBA</td>\n",
              "      <td>2001</td>\n",
              "      <td>Action</td>\n",
              "      <td>0.01</td>\n",
              "      <td>0.00</td>\n",
              "      <td>0.0</td>\n",
              "      <td>0.00</td>\n",
              "      <td>67.0</td>\n",
              "      <td>tbd</td>\n",
              "      <td>E</td>\n",
              "    </tr>\n",
              "    <tr>\n",
              "      <th>16697</th>\n",
              "      <td>Bust-A-Move 3000</td>\n",
              "      <td>GC</td>\n",
              "      <td>2003</td>\n",
              "      <td>Puzzle</td>\n",
              "      <td>0.01</td>\n",
              "      <td>0.00</td>\n",
              "      <td>0.0</td>\n",
              "      <td>0.00</td>\n",
              "      <td>53.0</td>\n",
              "      <td>tbd</td>\n",
              "      <td>E</td>\n",
              "    </tr>\n",
              "    <tr>\n",
              "      <th>16698</th>\n",
              "      <td>Mega Brain Boost</td>\n",
              "      <td>DS</td>\n",
              "      <td>2008</td>\n",
              "      <td>Puzzle</td>\n",
              "      <td>0.01</td>\n",
              "      <td>0.00</td>\n",
              "      <td>0.0</td>\n",
              "      <td>0.00</td>\n",
              "      <td>48.0</td>\n",
              "      <td>tbd</td>\n",
              "      <td>E</td>\n",
              "    </tr>\n",
              "    <tr>\n",
              "      <th>16704</th>\n",
              "      <td>Plushees</td>\n",
              "      <td>DS</td>\n",
              "      <td>2008</td>\n",
              "      <td>Simulation</td>\n",
              "      <td>0.01</td>\n",
              "      <td>0.00</td>\n",
              "      <td>0.0</td>\n",
              "      <td>0.00</td>\n",
              "      <td>-1.0</td>\n",
              "      <td>tbd</td>\n",
              "      <td>E</td>\n",
              "    </tr>\n",
              "    <tr>\n",
              "      <th>16706</th>\n",
              "      <td>Men in Black II: Alien Escape</td>\n",
              "      <td>GC</td>\n",
              "      <td>2003</td>\n",
              "      <td>Shooter</td>\n",
              "      <td>0.01</td>\n",
              "      <td>0.00</td>\n",
              "      <td>0.0</td>\n",
              "      <td>0.00</td>\n",
              "      <td>-1.0</td>\n",
              "      <td>tbd</td>\n",
              "      <td>T</td>\n",
              "    </tr>\n",
              "  </tbody>\n",
              "</table>\n",
              "<p>2376 rows × 11 columns</p>\n",
              "</div>\n",
              "      <button class=\"colab-df-convert\" onclick=\"convertToInteractive('df-fe30b542-c76a-462c-8d49-f00fce1a9297')\"\n",
              "              title=\"Convert this dataframe to an interactive table.\"\n",
              "              style=\"display:none;\">\n",
              "        \n",
              "  <svg xmlns=\"http://www.w3.org/2000/svg\" height=\"24px\"viewBox=\"0 0 24 24\"\n",
              "       width=\"24px\">\n",
              "    <path d=\"M0 0h24v24H0V0z\" fill=\"none\"/>\n",
              "    <path d=\"M18.56 5.44l.94 2.06.94-2.06 2.06-.94-2.06-.94-.94-2.06-.94 2.06-2.06.94zm-11 1L8.5 8.5l.94-2.06 2.06-.94-2.06-.94L8.5 2.5l-.94 2.06-2.06.94zm10 10l.94 2.06.94-2.06 2.06-.94-2.06-.94-.94-2.06-.94 2.06-2.06.94z\"/><path d=\"M17.41 7.96l-1.37-1.37c-.4-.4-.92-.59-1.43-.59-.52 0-1.04.2-1.43.59L10.3 9.45l-7.72 7.72c-.78.78-.78 2.05 0 2.83L4 21.41c.39.39.9.59 1.41.59.51 0 1.02-.2 1.41-.59l7.78-7.78 2.81-2.81c.8-.78.8-2.07 0-2.86zM5.41 20L4 18.59l7.72-7.72 1.47 1.35L5.41 20z\"/>\n",
              "  </svg>\n",
              "      </button>\n",
              "      \n",
              "  <style>\n",
              "    .colab-df-container {\n",
              "      display:flex;\n",
              "      flex-wrap:wrap;\n",
              "      gap: 12px;\n",
              "    }\n",
              "\n",
              "    .colab-df-convert {\n",
              "      background-color: #E8F0FE;\n",
              "      border: none;\n",
              "      border-radius: 50%;\n",
              "      cursor: pointer;\n",
              "      display: none;\n",
              "      fill: #1967D2;\n",
              "      height: 32px;\n",
              "      padding: 0 0 0 0;\n",
              "      width: 32px;\n",
              "    }\n",
              "\n",
              "    .colab-df-convert:hover {\n",
              "      background-color: #E2EBFA;\n",
              "      box-shadow: 0px 1px 2px rgba(60, 64, 67, 0.3), 0px 1px 3px 1px rgba(60, 64, 67, 0.15);\n",
              "      fill: #174EA6;\n",
              "    }\n",
              "\n",
              "    [theme=dark] .colab-df-convert {\n",
              "      background-color: #3B4455;\n",
              "      fill: #D2E3FC;\n",
              "    }\n",
              "\n",
              "    [theme=dark] .colab-df-convert:hover {\n",
              "      background-color: #434B5C;\n",
              "      box-shadow: 0px 1px 3px 1px rgba(0, 0, 0, 0.15);\n",
              "      filter: drop-shadow(0px 1px 2px rgba(0, 0, 0, 0.3));\n",
              "      fill: #FFFFFF;\n",
              "    }\n",
              "  </style>\n",
              "\n",
              "      <script>\n",
              "        const buttonEl =\n",
              "          document.querySelector('#df-fe30b542-c76a-462c-8d49-f00fce1a9297 button.colab-df-convert');\n",
              "        buttonEl.style.display =\n",
              "          google.colab.kernel.accessAllowed ? 'block' : 'none';\n",
              "\n",
              "        async function convertToInteractive(key) {\n",
              "          const element = document.querySelector('#df-fe30b542-c76a-462c-8d49-f00fce1a9297');\n",
              "          const dataTable =\n",
              "            await google.colab.kernel.invokeFunction('convertToInteractive',\n",
              "                                                     [key], {});\n",
              "          if (!dataTable) return;\n",
              "\n",
              "          const docLinkHtml = 'Like what you see? Visit the ' +\n",
              "            '<a target=\"_blank\" href=https://colab.research.google.com/notebooks/data_table.ipynb>data table notebook</a>'\n",
              "            + ' to learn more about interactive tables.';\n",
              "          element.innerHTML = '';\n",
              "          dataTable['output_type'] = 'display_data';\n",
              "          await google.colab.output.renderOutput(dataTable, element);\n",
              "          const docLink = document.createElement('div');\n",
              "          docLink.innerHTML = docLinkHtml;\n",
              "          element.appendChild(docLink);\n",
              "        }\n",
              "      </script>\n",
              "    </div>\n",
              "  </div>\n",
              "  "
            ]
          },
          "metadata": {},
          "execution_count": 167
        }
      ]
    },
    {
      "cell_type": "markdown",
      "source": [
        "Из данных видно что показатели по продажам крайне малы. Значение 'tbd' можно перевести в значение '0', а затем поменять данные на тип 'float'.\n"
      ],
      "metadata": {
        "id": "YwcyY0GNpMSg"
      }
    },
    {
      "cell_type": "code",
      "source": [
        "df.user_score = df.user_score.replace(\"tbd\",\"0\")                                                                     #изменения значения на 0\n",
        "df.user_score = pd.to_numeric(df.user_score)                                                                         #изменение типа данных"
      ],
      "metadata": {
        "id": "9WxD3Ioc2yeQ"
      },
      "execution_count": 168,
      "outputs": []
    },
    {
      "cell_type": "markdown",
      "source": [
        "Проверим изменения."
      ],
      "metadata": {
        "id": "M7pAGZli2xiL"
      }
    },
    {
      "cell_type": "code",
      "source": [
        "df.user_score.unique()                                                                                               #вывод уникальных значений"
      ],
      "metadata": {
        "colab": {
          "base_uri": "https://localhost:8080/"
        },
        "id": "izdcKgJhA5FG",
        "outputId": "14cd2f5e-1b39-47b6-ebed-1b5df59714f7"
      },
      "execution_count": 169,
      "outputs": [
        {
          "output_type": "execute_result",
          "data": {
            "text/plain": [
              "array([ 8. , -1. ,  8.3,  8.5,  6.6,  8.4,  8.6,  7.7,  6.3,  7.4,  8.2,\n",
              "        9. ,  7.9,  8.1,  8.7,  7.1,  3.4,  5.3,  4.8,  3.2,  8.9,  6.4,\n",
              "        7.8,  7.5,  2.6,  7.2,  9.2,  7. ,  7.3,  4.3,  7.6,  5.7,  5. ,\n",
              "        9.1,  6.5,  0. ,  8.8,  6.9,  9.4,  6.8,  6.1,  6.7,  5.4,  4. ,\n",
              "        4.9,  4.5,  9.3,  6.2,  4.2,  6. ,  3.7,  4.1,  5.8,  5.6,  5.5,\n",
              "        4.4,  4.6,  5.9,  3.9,  3.1,  2.9,  5.2,  3.3,  4.7,  5.1,  3.5,\n",
              "        2.5,  1.9,  3. ,  2.7,  2.2,  2. ,  9.5,  2.1,  3.6,  2.8,  1.8,\n",
              "        3.8,  1.6,  9.6,  2.4,  1.7,  1.1,  0.3,  1.5,  0.7,  1.2,  2.3,\n",
              "        0.5,  1.3,  0.2,  0.6,  1.4,  0.9,  1. ,  9.7])"
            ]
          },
          "metadata": {},
          "execution_count": 169
        }
      ]
    },
    {
      "cell_type": "markdown",
      "source": [
        "Подсчитаем суммарные продажи во всех регионах и сохраним в отдельный столбец 'total_sales'."
      ],
      "metadata": {
        "id": "6UFfmLzICT7X"
      }
    },
    {
      "cell_type": "code",
      "source": [
        "df[\"global_sales\"] = df.na_sales + df.eu_sales + df.jp_sales + df.other_sales                                        #добавление столбца"
      ],
      "metadata": {
        "id": "NpEYmif0DB57"
      },
      "execution_count": 170,
      "outputs": []
    },
    {
      "cell_type": "markdown",
      "source": [
        "Выведем на экран таблицу."
      ],
      "metadata": {
        "id": "1bPWKnfcDZOC"
      }
    },
    {
      "cell_type": "code",
      "source": [
        "df.head()                                                                                                            #вывод таблицы на экран"
      ],
      "metadata": {
        "colab": {
          "base_uri": "https://localhost:8080/",
          "height": 319
        },
        "id": "2zzdZIC9DfWo",
        "outputId": "9b5c17e7-7ac6-4e5d-9011-19ca20c11437"
      },
      "execution_count": 171,
      "outputs": [
        {
          "output_type": "execute_result",
          "data": {
            "text/plain": [
              "                       name platform  year_of_release         genre  na_sales  \\\n",
              "0                Wii Sports      Wii             2006        Sports     41.36   \n",
              "1         Super Mario Bros.      NES             1985      Platform     29.08   \n",
              "2            Mario Kart Wii      Wii             2008        Racing     15.68   \n",
              "3         Wii Sports Resort      Wii             2009        Sports     15.61   \n",
              "4  Pokemon Red/Pokemon Blue       GB             1996  Role-Playing     11.27   \n",
              "\n",
              "   eu_sales  jp_sales  other_sales  critic_score  user_score   rating  \\\n",
              "0     28.96      3.77         8.45          76.0         8.0        E   \n",
              "1      3.58      6.81         0.77          -1.0        -1.0  Unknown   \n",
              "2     12.76      3.79         3.29          82.0         8.3        E   \n",
              "3     10.93      3.28         2.95          80.0         8.0        E   \n",
              "4      8.89     10.22         1.00          -1.0        -1.0  Unknown   \n",
              "\n",
              "   global_sales  \n",
              "0         82.54  \n",
              "1         40.24  \n",
              "2         35.52  \n",
              "3         32.77  \n",
              "4         31.38  "
            ],
            "text/html": [
              "\n",
              "  <div id=\"df-ab4f293a-db2c-4bd2-94be-69079a33898d\">\n",
              "    <div class=\"colab-df-container\">\n",
              "      <div>\n",
              "<style scoped>\n",
              "    .dataframe tbody tr th:only-of-type {\n",
              "        vertical-align: middle;\n",
              "    }\n",
              "\n",
              "    .dataframe tbody tr th {\n",
              "        vertical-align: top;\n",
              "    }\n",
              "\n",
              "    .dataframe thead th {\n",
              "        text-align: right;\n",
              "    }\n",
              "</style>\n",
              "<table border=\"1\" class=\"dataframe\">\n",
              "  <thead>\n",
              "    <tr style=\"text-align: right;\">\n",
              "      <th></th>\n",
              "      <th>name</th>\n",
              "      <th>platform</th>\n",
              "      <th>year_of_release</th>\n",
              "      <th>genre</th>\n",
              "      <th>na_sales</th>\n",
              "      <th>eu_sales</th>\n",
              "      <th>jp_sales</th>\n",
              "      <th>other_sales</th>\n",
              "      <th>critic_score</th>\n",
              "      <th>user_score</th>\n",
              "      <th>rating</th>\n",
              "      <th>global_sales</th>\n",
              "    </tr>\n",
              "  </thead>\n",
              "  <tbody>\n",
              "    <tr>\n",
              "      <th>0</th>\n",
              "      <td>Wii Sports</td>\n",
              "      <td>Wii</td>\n",
              "      <td>2006</td>\n",
              "      <td>Sports</td>\n",
              "      <td>41.36</td>\n",
              "      <td>28.96</td>\n",
              "      <td>3.77</td>\n",
              "      <td>8.45</td>\n",
              "      <td>76.0</td>\n",
              "      <td>8.0</td>\n",
              "      <td>E</td>\n",
              "      <td>82.54</td>\n",
              "    </tr>\n",
              "    <tr>\n",
              "      <th>1</th>\n",
              "      <td>Super Mario Bros.</td>\n",
              "      <td>NES</td>\n",
              "      <td>1985</td>\n",
              "      <td>Platform</td>\n",
              "      <td>29.08</td>\n",
              "      <td>3.58</td>\n",
              "      <td>6.81</td>\n",
              "      <td>0.77</td>\n",
              "      <td>-1.0</td>\n",
              "      <td>-1.0</td>\n",
              "      <td>Unknown</td>\n",
              "      <td>40.24</td>\n",
              "    </tr>\n",
              "    <tr>\n",
              "      <th>2</th>\n",
              "      <td>Mario Kart Wii</td>\n",
              "      <td>Wii</td>\n",
              "      <td>2008</td>\n",
              "      <td>Racing</td>\n",
              "      <td>15.68</td>\n",
              "      <td>12.76</td>\n",
              "      <td>3.79</td>\n",
              "      <td>3.29</td>\n",
              "      <td>82.0</td>\n",
              "      <td>8.3</td>\n",
              "      <td>E</td>\n",
              "      <td>35.52</td>\n",
              "    </tr>\n",
              "    <tr>\n",
              "      <th>3</th>\n",
              "      <td>Wii Sports Resort</td>\n",
              "      <td>Wii</td>\n",
              "      <td>2009</td>\n",
              "      <td>Sports</td>\n",
              "      <td>15.61</td>\n",
              "      <td>10.93</td>\n",
              "      <td>3.28</td>\n",
              "      <td>2.95</td>\n",
              "      <td>80.0</td>\n",
              "      <td>8.0</td>\n",
              "      <td>E</td>\n",
              "      <td>32.77</td>\n",
              "    </tr>\n",
              "    <tr>\n",
              "      <th>4</th>\n",
              "      <td>Pokemon Red/Pokemon Blue</td>\n",
              "      <td>GB</td>\n",
              "      <td>1996</td>\n",
              "      <td>Role-Playing</td>\n",
              "      <td>11.27</td>\n",
              "      <td>8.89</td>\n",
              "      <td>10.22</td>\n",
              "      <td>1.00</td>\n",
              "      <td>-1.0</td>\n",
              "      <td>-1.0</td>\n",
              "      <td>Unknown</td>\n",
              "      <td>31.38</td>\n",
              "    </tr>\n",
              "  </tbody>\n",
              "</table>\n",
              "</div>\n",
              "      <button class=\"colab-df-convert\" onclick=\"convertToInteractive('df-ab4f293a-db2c-4bd2-94be-69079a33898d')\"\n",
              "              title=\"Convert this dataframe to an interactive table.\"\n",
              "              style=\"display:none;\">\n",
              "        \n",
              "  <svg xmlns=\"http://www.w3.org/2000/svg\" height=\"24px\"viewBox=\"0 0 24 24\"\n",
              "       width=\"24px\">\n",
              "    <path d=\"M0 0h24v24H0V0z\" fill=\"none\"/>\n",
              "    <path d=\"M18.56 5.44l.94 2.06.94-2.06 2.06-.94-2.06-.94-.94-2.06-.94 2.06-2.06.94zm-11 1L8.5 8.5l.94-2.06 2.06-.94-2.06-.94L8.5 2.5l-.94 2.06-2.06.94zm10 10l.94 2.06.94-2.06 2.06-.94-2.06-.94-.94-2.06-.94 2.06-2.06.94z\"/><path d=\"M17.41 7.96l-1.37-1.37c-.4-.4-.92-.59-1.43-.59-.52 0-1.04.2-1.43.59L10.3 9.45l-7.72 7.72c-.78.78-.78 2.05 0 2.83L4 21.41c.39.39.9.59 1.41.59.51 0 1.02-.2 1.41-.59l7.78-7.78 2.81-2.81c.8-.78.8-2.07 0-2.86zM5.41 20L4 18.59l7.72-7.72 1.47 1.35L5.41 20z\"/>\n",
              "  </svg>\n",
              "      </button>\n",
              "      \n",
              "  <style>\n",
              "    .colab-df-container {\n",
              "      display:flex;\n",
              "      flex-wrap:wrap;\n",
              "      gap: 12px;\n",
              "    }\n",
              "\n",
              "    .colab-df-convert {\n",
              "      background-color: #E8F0FE;\n",
              "      border: none;\n",
              "      border-radius: 50%;\n",
              "      cursor: pointer;\n",
              "      display: none;\n",
              "      fill: #1967D2;\n",
              "      height: 32px;\n",
              "      padding: 0 0 0 0;\n",
              "      width: 32px;\n",
              "    }\n",
              "\n",
              "    .colab-df-convert:hover {\n",
              "      background-color: #E2EBFA;\n",
              "      box-shadow: 0px 1px 2px rgba(60, 64, 67, 0.3), 0px 1px 3px 1px rgba(60, 64, 67, 0.15);\n",
              "      fill: #174EA6;\n",
              "    }\n",
              "\n",
              "    [theme=dark] .colab-df-convert {\n",
              "      background-color: #3B4455;\n",
              "      fill: #D2E3FC;\n",
              "    }\n",
              "\n",
              "    [theme=dark] .colab-df-convert:hover {\n",
              "      background-color: #434B5C;\n",
              "      box-shadow: 0px 1px 3px 1px rgba(0, 0, 0, 0.15);\n",
              "      filter: drop-shadow(0px 1px 2px rgba(0, 0, 0, 0.3));\n",
              "      fill: #FFFFFF;\n",
              "    }\n",
              "  </style>\n",
              "\n",
              "      <script>\n",
              "        const buttonEl =\n",
              "          document.querySelector('#df-ab4f293a-db2c-4bd2-94be-69079a33898d button.colab-df-convert');\n",
              "        buttonEl.style.display =\n",
              "          google.colab.kernel.accessAllowed ? 'block' : 'none';\n",
              "\n",
              "        async function convertToInteractive(key) {\n",
              "          const element = document.querySelector('#df-ab4f293a-db2c-4bd2-94be-69079a33898d');\n",
              "          const dataTable =\n",
              "            await google.colab.kernel.invokeFunction('convertToInteractive',\n",
              "                                                     [key], {});\n",
              "          if (!dataTable) return;\n",
              "\n",
              "          const docLinkHtml = 'Like what you see? Visit the ' +\n",
              "            '<a target=\"_blank\" href=https://colab.research.google.com/notebooks/data_table.ipynb>data table notebook</a>'\n",
              "            + ' to learn more about interactive tables.';\n",
              "          element.innerHTML = '';\n",
              "          dataTable['output_type'] = 'display_data';\n",
              "          await google.colab.output.renderOutput(dataTable, element);\n",
              "          const docLink = document.createElement('div');\n",
              "          docLink.innerHTML = docLinkHtml;\n",
              "          element.appendChild(docLink);\n",
              "        }\n",
              "      </script>\n",
              "    </div>\n",
              "  </div>\n",
              "  "
            ]
          },
          "metadata": {},
          "execution_count": 171
        }
      ]
    },
    {
      "cell_type": "markdown",
      "source": [
        "**Вывод**\n",
        "\n",
        "Обработанный датафрейм в первую очередь имел неправильный регистр в названиях столбцов.\n",
        "\n",
        "Также присутствует наличие пропусков в столбцах рейтинга игр. Такие пропуски были оставлены с применнение 'заглушки'. Их образование указывает на изначальную невозможность оценить игру. Такими причинами может быть то что игры продавались малым тиражом и их просто напросто не оценивали,либо из-зи года выпуска игры. Старые игры не были доступны большенству людей и о них просто не знали, поэтому невозможно было дать объективную оценку.\n",
        "\n",
        "Были изменены типы данных в столбцах 'year_of_release' и 'user_score'.\n",
        "В 'user_score' было обработана аббревиатура 'tbd' обозначающая низкий рейтинг игры.\n",
        "\n",
        "Произведён подсчёт продаж каждой игры по всему миру."
      ],
      "metadata": {
        "id": "LXkeQ98P70Yw"
      }
    },
    {
      "cell_type": "markdown",
      "source": [
        "--------------------------------------------------------------------------------"
      ],
      "metadata": {
        "id": "Dy--C7j5EBlL"
      }
    },
    {
      "cell_type": "markdown",
      "source": [
        "**ИССЛЕДОВАТЕЛЬСКИЙ АНАЛИЗ ДАННЫХ**"
      ],
      "metadata": {
        "id": "aABYe1A0Epq-"
      }
    },
    {
      "cell_type": "markdown",
      "source": [
        "**Посмотрите, сколько игр выпускалось в разные годы. Важны ли данные за все\n",
        "периоды?**"
      ],
      "metadata": {
        "id": "D_NRL7IEFCcZ"
      }
    },
    {
      "cell_type": "markdown",
      "source": [
        "Построим гистограмму выпуска игр по годам."
      ],
      "metadata": {
        "id": "s896WiyQFZLZ"
      }
    },
    {
      "cell_type": "code",
      "source": [
        "df.year_of_release.hist(bins = 22, figsize = (8,7), range = (1990, 2016))                                                                     #постройка гистограммы"
      ],
      "metadata": {
        "id": "kzK0WXDvmIIT",
        "colab": {
          "base_uri": "https://localhost:8080/",
          "height": 446
        },
        "outputId": "c3a9e256-24df-485d-833e-9bf130e2857e"
      },
      "execution_count": 172,
      "outputs": [
        {
          "output_type": "execute_result",
          "data": {
            "text/plain": [
              "<matplotlib.axes._subplots.AxesSubplot at 0x7f3ec19fe650>"
            ]
          },
          "metadata": {},
          "execution_count": 172
        },
        {
          "output_type": "display_data",
          "data": {
            "text/plain": [
              "<Figure size 576x504 with 1 Axes>"
            ],
            "image/png": "[encoded data removed]"
          },
          "metadata": {
            "needs_background": "light"
          }
        }
      ]
    },
    {
      "cell_type": "markdown",
      "source": [
        "Из гистограммы видно что активный рост происходит с начала 1995 года и по 2008 год. Но для построения прогнозов на 2017 год такой период не подходит поэтому лучше ориентироваться на ближайшие года с 2012 - 2016г."
      ],
      "metadata": {
        "id": "I3qtEYNQJs89"
      }
    },
    {
      "cell_type": "markdown",
      "source": [
        "**Посмотрите, как менялись продажи по платформам. Выберите платформы с\n",
        "наибольшими суммарными продажами и постройте распределение по годам.\n",
        "За какой характерный срок появляются новые и исчезают старые платформы?**"
      ],
      "metadata": {
        "id": "2YQGp-iXLX84"
      }
    },
    {
      "cell_type": "markdown",
      "source": [
        "Найдём платформы с наибольшими продажами."
      ],
      "metadata": {
        "id": "dta__aw73Zyl"
      }
    },
    {
      "cell_type": "code",
      "source": [
        "df.groupby(\"platform\")[\"global_sales\"].sum().sort_values(ascending = False)                                             #сортировка платформ по продажам\n"
      ],
      "metadata": {
        "colab": {
          "base_uri": "https://localhost:8080/"
        },
        "id": "LmtoW57PtujC",
        "outputId": "c5050312-6609-43a6-96b0-da8f6eda5485"
      },
      "execution_count": 173,
      "outputs": [
        {
          "output_type": "execute_result",
          "data": {
            "text/plain": [
              "platform\n",
              "PS2     1233.56\n",
              "X360     961.24\n",
              "PS3      931.34\n",
              "Wii      891.18\n",
              "DS       802.78\n",
              "PS       727.58\n",
              "PS4      314.14\n",
              "GBA      312.88\n",
              "PSP      289.53\n",
              "3DS      257.81\n",
              "PC       255.76\n",
              "GB       254.43\n",
              "XB       251.57\n",
              "NES      251.05\n",
              "N64      218.01\n",
              "SNES     200.04\n",
              "GC       196.73\n",
              "XOne     159.32\n",
              "2600      86.48\n",
              "WiiU      82.19\n",
              "PSV       53.81\n",
              "SAT       33.59\n",
              "GEN       30.77\n",
              "DC        15.95\n",
              "SCD        1.86\n",
              "NG         1.44\n",
              "WS         1.42\n",
              "TG16       0.16\n",
              "3DO        0.10\n",
              "GG         0.04\n",
              "PCFX       0.03\n",
              "Name: global_sales, dtype: float64"
            ]
          },
          "metadata": {},
          "execution_count": 173
        }
      ]
    },
    {
      "cell_type": "markdown",
      "source": [
        "Возьмём первые 4 и постром столбиковую диаграмму."
      ],
      "metadata": {
        "id": "V2ji40f7341n"
      }
    },
    {
      "cell_type": "code",
      "source": [
        "platforms = (df.groupby(\"platform\")[\"global_sales\"].sum().\n",
        "               sort_values(ascending = False).head(4).index.values)                                    #спиcок из платформ"
      ],
      "metadata": {
        "id": "8s-sq0VNwvGI"
      },
      "execution_count": 174,
      "outputs": []
    },
    {
      "cell_type": "code",
      "source": [
        "platforms_df = df.pivot_table(index = \"year_of_release\", columns = \"platform\",values = \"global_sales\", aggfunc = sum)       #построение сводной таблицы"
      ],
      "metadata": {
        "id": "TFhaqYFtIuJg"
      },
      "execution_count": 175,
      "outputs": []
    },
    {
      "cell_type": "code",
      "source": [
        "platforms_df.plot(y = platforms, kind = \"bar\", figsize = (15,10))                                                  #вывод столбиковой диаграммы"
      ],
      "metadata": {
        "colab": {
          "base_uri": "https://localhost:8080/",
          "height": 639
        },
        "id": "SAuVJ1VAR5ub",
        "outputId": "345ff2b5-cdc9-454f-c776-d6b993ddb9e5"
      },
      "execution_count": 176,
      "outputs": [
        {
          "output_type": "execute_result",
          "data": {
            "text/plain": [
              "<matplotlib.axes._subplots.AxesSubplot at 0x7f3ec185aad0>"
            ]
          },
          "metadata": {},
          "execution_count": 176
        },
        {
          "output_type": "display_data",
          "data": {
            "text/plain": [
              "<Figure size 1080x720 with 1 Axes>"
            ],
            "image/png": "[encoded data removed]"
          },
          "metadata": {
            "needs_background": "light"
          }
        }
      ]
    },
    {
      "cell_type": "markdown",
      "source": [
        "Для 4 платформ можно заметить одинаковые особенности.\n",
        "\n",
        "Из диаграмм видно что скорость появления таких платформ примерно год.\n",
        "Время существования(популярности) от 3-5 лет,  а потом в течении 3-4 лет использование платформы прекращается."
      ],
      "metadata": {
        "id": "E5Ld-T684tGS"
      }
    },
    {
      "cell_type": "markdown",
      "source": [
        "**Возьмите данные за соответствующий актуальный период. Актуальный\n",
        "период определите самостоятельно в результате исследования предыдущих\n",
        "вопросов. Основной фактор — эти данные помогут построить прогноз на 2017\n",
        "год.**"
      ],
      "metadata": {
        "id": "I5pJ2_dHh124"
      }
    },
    {
      "cell_type": "markdown",
      "source": [
        "Для построения прогноза на 2017 год необходимы данные примерно за 4 прошедших года. По таким данным можно определить набирающую популярность платформу и примерный срок ее существования.\n",
        "\n",
        "Сохраним в переменную данные с 2012 года.\n",
        "Выведем таблицу на экран."
      ],
      "metadata": {
        "id": "JVUNPTcx_df_"
      }
    },
    {
      "cell_type": "code",
      "source": [
        "topical_df = df.query('year_of_release >= 2011')                                                                             #срез по году\n",
        "topical_df                                                                                                                   #вывод таблицы"
      ],
      "metadata": {
        "colab": {
          "base_uri": "https://localhost:8080/",
          "height": 730
        },
        "id": "8VKVtTWsh75h",
        "outputId": "293b99fe-9b02-4cd9-b094-be812852ad05"
      },
      "execution_count": 177,
      "outputs": [
        {
          "output_type": "execute_result",
          "data": {
            "text/plain": [
              "                                 name platform  year_of_release         genre  \\\n",
              "16                 Grand Theft Auto V      PS3             2013        Action   \n",
              "23                 Grand Theft Auto V     X360             2013        Action   \n",
              "29     Call of Duty: Modern Warfare 3     X360             2011       Shooter   \n",
              "31          Call of Duty: Black Ops 3      PS4             2015       Shooter   \n",
              "33                Pokemon X/Pokemon Y      3DS             2013  Role-Playing   \n",
              "...                               ...      ...              ...           ...   \n",
              "16703                Strawberry Nauts      PSV             2016     Adventure   \n",
              "16707                Aiyoku no Eustia      PSV             2014          Misc   \n",
              "16710   Samurai Warriors: Sanada Maru      PS3             2016        Action   \n",
              "16712         Haitaka no Psychedelica      PSV             2016     Adventure   \n",
              "16714             Winning Post 8 2016      PSV             2016    Simulation   \n",
              "\n",
              "       na_sales  eu_sales  jp_sales  other_sales  critic_score  user_score  \\\n",
              "16         7.02      9.09      0.98         3.96          97.0         8.2   \n",
              "23         9.66      5.14      0.06         1.41          97.0         8.1   \n",
              "29         9.04      4.24      0.13         1.32          88.0         3.4   \n",
              "31         6.03      5.86      0.36         2.38          -1.0        -1.0   \n",
              "33         5.28      4.19      4.35         0.78          -1.0        -1.0   \n",
              "...         ...       ...       ...          ...           ...         ...   \n",
              "16703      0.00      0.00      0.01         0.00          -1.0        -1.0   \n",
              "16707      0.00      0.00      0.01         0.00          -1.0        -1.0   \n",
              "16710      0.00      0.00      0.01         0.00          -1.0        -1.0   \n",
              "16712      0.00      0.00      0.01         0.00          -1.0        -1.0   \n",
              "16714      0.00      0.00      0.01         0.00          -1.0        -1.0   \n",
              "\n",
              "        rating  global_sales  \n",
              "16           M         21.05  \n",
              "23           M         16.27  \n",
              "29           M         14.73  \n",
              "31     Unknown         14.63  \n",
              "33     Unknown         14.60  \n",
              "...        ...           ...  \n",
              "16703  Unknown          0.01  \n",
              "16707  Unknown          0.01  \n",
              "16710  Unknown          0.01  \n",
              "16712  Unknown          0.01  \n",
              "16714  Unknown          0.01  \n",
              "\n",
              "[4022 rows x 12 columns]"
            ],
            "text/html": [
              "\n",
              "  <div id=\"df-b642f3af-dea5-4003-9ce6-0358b2fe86f8\">\n",
              "    <div class=\"colab-df-container\">\n",
              "      <div>\n",
              "<style scoped>\n",
              "    .dataframe tbody tr th:only-of-type {\n",
              "        vertical-align: middle;\n",
              "    }\n",
              "\n",
              "    .dataframe tbody tr th {\n",
              "        vertical-align: top;\n",
              "    }\n",
              "\n",
              "    .dataframe thead th {\n",
              "        text-align: right;\n",
              "    }\n",
              "</style>\n",
              "<table border=\"1\" class=\"dataframe\">\n",
              "  <thead>\n",
              "    <tr style=\"text-align: right;\">\n",
              "      <th></th>\n",
              "      <th>name</th>\n",
              "      <th>platform</th>\n",
              "      <th>year_of_release</th>\n",
              "      <th>genre</th>\n",
              "      <th>na_sales</th>\n",
              "      <th>eu_sales</th>\n",
              "      <th>jp_sales</th>\n",
              "      <th>other_sales</th>\n",
              "      <th>critic_score</th>\n",
              "      <th>user_score</th>\n",
              "      <th>rating</th>\n",
              "      <th>global_sales</th>\n",
              "    </tr>\n",
              "  </thead>\n",
              "  <tbody>\n",
              "    <tr>\n",
              "      <th>16</th>\n",
              "      <td>Grand Theft Auto V</td>\n",
              "      <td>PS3</td>\n",
              "      <td>2013</td>\n",
              "      <td>Action</td>\n",
              "      <td>7.02</td>\n",
              "      <td>9.09</td>\n",
              "      <td>0.98</td>\n",
              "      <td>3.96</td>\n",
              "      <td>97.0</td>\n",
              "      <td>8.2</td>\n",
              "      <td>M</td>\n",
              "      <td>21.05</td>\n",
              "    </tr>\n",
              "    <tr>\n",
              "      <th>23</th>\n",
              "      <td>Grand Theft Auto V</td>\n",
              "      <td>X360</td>\n",
              "      <td>2013</td>\n",
              "      <td>Action</td>\n",
              "      <td>9.66</td>\n",
              "      <td>5.14</td>\n",
              "      <td>0.06</td>\n",
              "      <td>1.41</td>\n",
              "      <td>97.0</td>\n",
              "      <td>8.1</td>\n",
              "      <td>M</td>\n",
              "      <td>16.27</td>\n",
              "    </tr>\n",
              "    <tr>\n",
              "      <th>29</th>\n",
              "      <td>Call of Duty: Modern Warfare 3</td>\n",
              "      <td>X360</td>\n",
              "      <td>2011</td>\n",
              "      <td>Shooter</td>\n",
              "      <td>9.04</td>\n",
              "      <td>4.24</td>\n",
              "      <td>0.13</td>\n",
              "      <td>1.32</td>\n",
              "      <td>88.0</td>\n",
              "      <td>3.4</td>\n",
              "      <td>M</td>\n",
              "      <td>14.73</td>\n",
              "    </tr>\n",
              "    <tr>\n",
              "      <th>31</th>\n",
              "      <td>Call of Duty: Black Ops 3</td>\n",
              "      <td>PS4</td>\n",
              "      <td>2015</td>\n",
              "      <td>Shooter</td>\n",
              "      <td>6.03</td>\n",
              "      <td>5.86</td>\n",
              "      <td>0.36</td>\n",
              "      <td>2.38</td>\n",
              "      <td>-1.0</td>\n",
              "      <td>-1.0</td>\n",
              "      <td>Unknown</td>\n",
              "      <td>14.63</td>\n",
              "    </tr>\n",
              "    <tr>\n",
              "      <th>33</th>\n",
              "      <td>Pokemon X/Pokemon Y</td>\n",
              "      <td>3DS</td>\n",
              "      <td>2013</td>\n",
              "      <td>Role-Playing</td>\n",
              "      <td>5.28</td>\n",
              "      <td>4.19</td>\n",
              "      <td>4.35</td>\n",
              "      <td>0.78</td>\n",
              "      <td>-1.0</td>\n",
              "      <td>-1.0</td>\n",
              "      <td>Unknown</td>\n",
              "      <td>14.60</td>\n",
              "    </tr>\n",
              "    <tr>\n",
              "      <th>...</th>\n",
              "      <td>...</td>\n",
              "      <td>...</td>\n",
              "      <td>...</td>\n",
              "      <td>...</td>\n",
              "      <td>...</td>\n",
              "      <td>...</td>\n",
              "      <td>...</td>\n",
              "      <td>...</td>\n",
              "      <td>...</td>\n",
              "      <td>...</td>\n",
              "      <td>...</td>\n",
              "      <td>...</td>\n",
              "    </tr>\n",
              "    <tr>\n",
              "      <th>16703</th>\n",
              "      <td>Strawberry Nauts</td>\n",
              "      <td>PSV</td>\n",
              "      <td>2016</td>\n",
              "      <td>Adventure</td>\n",
              "      <td>0.00</td>\n",
              "      <td>0.00</td>\n",
              "      <td>0.01</td>\n",
              "      <td>0.00</td>\n",
              "      <td>-1.0</td>\n",
              "      <td>-1.0</td>\n",
              "      <td>Unknown</td>\n",
              "      <td>0.01</td>\n",
              "    </tr>\n",
              "    <tr>\n",
              "      <th>16707</th>\n",
              "      <td>Aiyoku no Eustia</td>\n",
              "      <td>PSV</td>\n",
              "      <td>2014</td>\n",
              "      <td>Misc</td>\n",
              "      <td>0.00</td>\n",
              "      <td>0.00</td>\n",
              "      <td>0.01</td>\n",
              "      <td>0.00</td>\n",
              "      <td>-1.0</td>\n",
              "      <td>-1.0</td>\n",
              "      <td>Unknown</td>\n",
              "      <td>0.01</td>\n",
              "    </tr>\n",
              "    <tr>\n",
              "      <th>16710</th>\n",
              "      <td>Samurai Warriors: Sanada Maru</td>\n",
              "      <td>PS3</td>\n",
              "      <td>2016</td>\n",
              "      <td>Action</td>\n",
              "      <td>0.00</td>\n",
              "      <td>0.00</td>\n",
              "      <td>0.01</td>\n",
              "      <td>0.00</td>\n",
              "      <td>-1.0</td>\n",
              "      <td>-1.0</td>\n",
              "      <td>Unknown</td>\n",
              "      <td>0.01</td>\n",
              "    </tr>\n",
              "    <tr>\n",
              "      <th>16712</th>\n",
              "      <td>Haitaka no Psychedelica</td>\n",
              "      <td>PSV</td>\n",
              "      <td>2016</td>\n",
              "      <td>Adventure</td>\n",
              "      <td>0.00</td>\n",
              "      <td>0.00</td>\n",
              "      <td>0.01</td>\n",
              "      <td>0.00</td>\n",
              "      <td>-1.0</td>\n",
              "      <td>-1.0</td>\n",
              "      <td>Unknown</td>\n",
              "      <td>0.01</td>\n",
              "    </tr>\n",
              "    <tr>\n",
              "      <th>16714</th>\n",
              "      <td>Winning Post 8 2016</td>\n",
              "      <td>PSV</td>\n",
              "      <td>2016</td>\n",
              "      <td>Simulation</td>\n",
              "      <td>0.00</td>\n",
              "      <td>0.00</td>\n",
              "      <td>0.01</td>\n",
              "      <td>0.00</td>\n",
              "      <td>-1.0</td>\n",
              "      <td>-1.0</td>\n",
              "      <td>Unknown</td>\n",
              "      <td>0.01</td>\n",
              "    </tr>\n",
              "  </tbody>\n",
              "</table>\n",
              "<p>4022 rows × 12 columns</p>\n",
              "</div>\n",
              "      <button class=\"colab-df-convert\" onclick=\"convertToInteractive('df-b642f3af-dea5-4003-9ce6-0358b2fe86f8')\"\n",
              "              title=\"Convert this dataframe to an interactive table.\"\n",
              "              style=\"display:none;\">\n",
              "        \n",
              "  <svg xmlns=\"http://www.w3.org/2000/svg\" height=\"24px\"viewBox=\"0 0 24 24\"\n",
              "       width=\"24px\">\n",
              "    <path d=\"M0 0h24v24H0V0z\" fill=\"none\"/>\n",
              "    <path d=\"M18.56 5.44l.94 2.06.94-2.06 2.06-.94-2.06-.94-.94-2.06-.94 2.06-2.06.94zm-11 1L8.5 8.5l.94-2.06 2.06-.94-2.06-.94L8.5 2.5l-.94 2.06-2.06.94zm10 10l.94 2.06.94-2.06 2.06-.94-2.06-.94-.94-2.06-.94 2.06-2.06.94z\"/><path d=\"M17.41 7.96l-1.37-1.37c-.4-.4-.92-.59-1.43-.59-.52 0-1.04.2-1.43.59L10.3 9.45l-7.72 7.72c-.78.78-.78 2.05 0 2.83L4 21.41c.39.39.9.59 1.41.59.51 0 1.02-.2 1.41-.59l7.78-7.78 2.81-2.81c.8-.78.8-2.07 0-2.86zM5.41 20L4 18.59l7.72-7.72 1.47 1.35L5.41 20z\"/>\n",
              "  </svg>\n",
              "      </button>\n",
              "      \n",
              "  <style>\n",
              "    .colab-df-container {\n",
              "      display:flex;\n",
              "      flex-wrap:wrap;\n",
              "      gap: 12px;\n",
              "    }\n",
              "\n",
              "    .colab-df-convert {\n",
              "      background-color: #E8F0FE;\n",
              "      border: none;\n",
              "      border-radius: 50%;\n",
              "      cursor: pointer;\n",
              "      display: none;\n",
              "      fill: #1967D2;\n",
              "      height: 32px;\n",
              "      padding: 0 0 0 0;\n",
              "      width: 32px;\n",
              "    }\n",
              "\n",
              "    .colab-df-convert:hover {\n",
              "      background-color: #E2EBFA;\n",
              "      box-shadow: 0px 1px 2px rgba(60, 64, 67, 0.3), 0px 1px 3px 1px rgba(60, 64, 67, 0.15);\n",
              "      fill: #174EA6;\n",
              "    }\n",
              "\n",
              "    [theme=dark] .colab-df-convert {\n",
              "      background-color: #3B4455;\n",
              "      fill: #D2E3FC;\n",
              "    }\n",
              "\n",
              "    [theme=dark] .colab-df-convert:hover {\n",
              "      background-color: #434B5C;\n",
              "      box-shadow: 0px 1px 3px 1px rgba(0, 0, 0, 0.15);\n",
              "      filter: drop-shadow(0px 1px 2px rgba(0, 0, 0, 0.3));\n",
              "      fill: #FFFFFF;\n",
              "    }\n",
              "  </style>\n",
              "\n",
              "      <script>\n",
              "        const buttonEl =\n",
              "          document.querySelector('#df-b642f3af-dea5-4003-9ce6-0358b2fe86f8 button.colab-df-convert');\n",
              "        buttonEl.style.display =\n",
              "          google.colab.kernel.accessAllowed ? 'block' : 'none';\n",
              "\n",
              "        async function convertToInteractive(key) {\n",
              "          const element = document.querySelector('#df-b642f3af-dea5-4003-9ce6-0358b2fe86f8');\n",
              "          const dataTable =\n",
              "            await google.colab.kernel.invokeFunction('convertToInteractive',\n",
              "                                                     [key], {});\n",
              "          if (!dataTable) return;\n",
              "\n",
              "          const docLinkHtml = 'Like what you see? Visit the ' +\n",
              "            '<a target=\"_blank\" href=https://colab.research.google.com/notebooks/data_table.ipynb>data table notebook</a>'\n",
              "            + ' to learn more about interactive tables.';\n",
              "          element.innerHTML = '';\n",
              "          dataTable['output_type'] = 'display_data';\n",
              "          await google.colab.output.renderOutput(dataTable, element);\n",
              "          const docLink = document.createElement('div');\n",
              "          docLink.innerHTML = docLinkHtml;\n",
              "          element.appendChild(docLink);\n",
              "        }\n",
              "      </script>\n",
              "    </div>\n",
              "  </div>\n",
              "  "
            ]
          },
          "metadata": {},
          "execution_count": 177
        }
      ]
    },
    {
      "cell_type": "markdown",
      "source": [
        "**Какие платформы лидируют по продажам, растут или падают? Выберите\n",
        "несколько потенциально прибыльных платформ.**"
      ],
      "metadata": {
        "id": "qWc3qucwo7bW"
      }
    },
    {
      "cell_type": "markdown",
      "source": [
        "Выведем  список платформ лидирующие по продажам с 2012 года."
      ],
      "metadata": {
        "id": "--e8lf5ICv83"
      }
    },
    {
      "cell_type": "code",
      "source": [
        "topical_platforms = (topical_df.groupby(\"platform\")[\"global_sales\"].sum().\n",
        "                               sort_values(ascending = False).head(7).index.values)                    #список из платформ\n",
        "topical_platforms                                                                                                                               #вывод списка на экран"
      ],
      "metadata": {
        "colab": {
          "base_uri": "https://localhost:8080/"
        },
        "id": "iw1DVUnQ7UKq",
        "outputId": "0c2e5825-4e28-462d-e0f9-14bf126d9abf"
      },
      "execution_count": 178,
      "outputs": [
        {
          "output_type": "execute_result",
          "data": {
            "text/plain": [
              "array(['PS3', 'X360', 'PS4', '3DS', 'XOne', 'PC', 'Wii'], dtype=object)"
            ]
          },
          "metadata": {},
          "execution_count": 178
        }
      ]
    },
    {
      "cell_type": "markdown",
      "source": [
        "Построим диаграмму с платформами из этого списка по годам."
      ],
      "metadata": {
        "id": "MFeqZ3CkDGqX"
      }
    },
    {
      "cell_type": "code",
      "source": [
        "(topical_df.pivot_table(index = \"year_of_release\", columns = \"platform\",values = \"global_sales\", aggfunc = sum).\n",
        "           plot(y = topical_platforms, kind = \"bar\",figsize = (12,10)))"
      ],
      "metadata": {
        "colab": {
          "base_uri": "https://localhost:8080/",
          "height": 639
        },
        "id": "7T9tVWLdjDMN",
        "outputId": "f2a97617-2c91-4711-852a-47613b6a6142"
      },
      "execution_count": 179,
      "outputs": [
        {
          "output_type": "execute_result",
          "data": {
            "text/plain": [
              "<matplotlib.axes._subplots.AxesSubplot at 0x7f3ec1633f90>"
            ]
          },
          "metadata": {},
          "execution_count": 179
        },
        {
          "output_type": "display_data",
          "data": {
            "text/plain": [
              "<Figure size 864x720 with 1 Axes>"
            ],
            "image/png": "[encoded data removed]"
          },
          "metadata": {
            "needs_background": "light"
          }
        }
      ]
    },
    {
      "cell_type": "markdown",
      "source": [
        "Диаграмма показывает общий спад на всех платформах,вероятно это сказано тем что год еще не закончен и данные не полные. Тем не менее можно заметить что c момента выпуска 'ps4' и 'XOne' прошло 3 года что говорит о потанцеале платформ.\n",
        "\n",
        "Также можно заметить довольно стабильные показатели на '3DS','PC' и 'WiiU'.\n",
        "Показатели платформ 'ps3' и 'X360'  достигли минимума."
      ],
      "metadata": {
        "id": "UKdOH5S3DiSD"
      }
    },
    {
      "cell_type": "markdown",
      "source": [
        "**Постройте график «ящик с усами» по глобальным продажам игр в разбивке по\n",
        "платформам. Опишите результат.**"
      ],
      "metadata": {
        "id": "WQOl0AJ-9Q3U"
      }
    },
    {
      "cell_type": "markdown",
      "source": [
        "Построим 'boxplot' по глобальным продажам в разбивке по платформам из 'актуальной таблицы'."
      ],
      "metadata": {
        "id": "IEaFgjYyNA_1"
      }
    },
    {
      "cell_type": "code",
      "source": [
        "plt.figure(figsize = (14,8))                                                    #диаграмма размаха\n",
        "plt.ylim(0,2.5)\n",
        "sns.boxplot(x=\"platform\", y=\"global_sales\", data=topical_df)\n"
      ],
      "metadata": {
        "id": "DOhx7Tngp3EW",
        "colab": {
          "base_uri": "https://localhost:8080/",
          "height": 518
        },
        "outputId": "f364d38b-83ce-49b0-ea12-7dfd83be28df"
      },
      "execution_count": 180,
      "outputs": [
        {
          "output_type": "execute_result",
          "data": {
            "text/plain": [
              "<matplotlib.axes._subplots.AxesSubplot at 0x7f3ec154a250>"
            ]
          },
          "metadata": {},
          "execution_count": 180
        },
        {
          "output_type": "display_data",
          "data": {
            "text/plain": [
              "<Figure size 1008x576 with 1 Axes>"
            ],
            "image/png": "[encoded data removed]"
          },
          "metadata": {
            "needs_background": "light"
          }
        }
      ]
    },
    {
      "cell_type": "markdown",
      "source": [
        "Из диаграммы видно что самыми популярной были платформы 'X360', 'ps4',\"XOne\",'WiiU' и 'ps3'. Остальные платформы не имеют таких высоких продаж."
      ],
      "metadata": {
        "id": "d0fJ9jgYNk__"
      }
    },
    {
      "cell_type": "markdown",
      "source": [
        "**Посмотрите, как влияют на продажи внутри одной популярной платформы\n",
        "отзывы пользователей и критиков. Постройте диаграмму рассеяния и\n",
        "посчитайте корреляцию между отзывами и продажами. Сформулируйте\n",
        "выводы.**"
      ],
      "metadata": {
        "id": "P6jY_q8iPBk9"
      }
    },
    {
      "cell_type": "markdown",
      "source": [
        "Выберем платформу 'PS4' для постройки диаграмм рассеяния.\n",
        "\n",
        "Посмотрим на взаимосвязь между отзывами критиков и глобальными продажами."
      ],
      "metadata": {
        "id": "HIKySXlDRipw"
      }
    },
    {
      "cell_type": "code",
      "source": [
        "(topical_df.query('critic_score != -1 and platform  == \"PS4\"').\n",
        "           plot(y = \"global_sales\", x = \"critic_score\", kind = \"scatter\", ylim = (-0.4,5)))            #диаграмма рассеяния"
      ],
      "metadata": {
        "colab": {
          "base_uri": "https://localhost:8080/",
          "height": 302
        },
        "id": "Siv6PwFf6GLR",
        "outputId": "1bf3cd97-3b0c-4b92-f268-e4c7dfa3d80f"
      },
      "execution_count": 181,
      "outputs": [
        {
          "output_type": "execute_result",
          "data": {
            "text/plain": [
              "<matplotlib.axes._subplots.AxesSubplot at 0x7f3ec1633b10>"
            ]
          },
          "metadata": {},
          "execution_count": 181
        },
        {
          "output_type": "display_data",
          "data": {
            "text/plain": [
              "<Figure size 432x288 with 1 Axes>"
            ],
            "image/png": "[encoded data removed]"
          },
          "metadata": {
            "needs_background": "light"
          }
        }
      ]
    },
    {
      "cell_type": "markdown",
      "source": [
        "Проверим зависимость."
      ],
      "metadata": {
        "id": "5fmpKAhiAJnz"
      }
    },
    {
      "cell_type": "code",
      "source": [
        "(topical_df.query('critic_score != -1 and platform  == \"PS4\"')[\"critic_score\"].\n",
        "           corr(topical_df.query('critic_score != -1 and platform  == \"PS4\"')[\"global_sales\"]))           #оценка зависимости"
      ],
      "metadata": {
        "id": "UE-3Z0YQMJ7a",
        "colab": {
          "base_uri": "https://localhost:8080/"
        },
        "outputId": "7aa5f948-cf97-429b-ff8c-9bf854186137"
      },
      "execution_count": 182,
      "outputs": [
        {
          "output_type": "execute_result",
          "data": {
            "text/plain": [
              "0.40656790206178095"
            ]
          },
          "metadata": {},
          "execution_count": 182
        }
      ]
    },
    {
      "cell_type": "markdown",
      "source": [
        "Посмотрим на взаимосвязь между отзывами пользователей и глобальными продажами."
      ],
      "metadata": {
        "id": "4zhoTb4JANxK"
      }
    },
    {
      "cell_type": "code",
      "source": [
        "(topical_df.query('user_score != -1 and platform  == \"PS4\"').\n",
        "           plot(y = \"global_sales\", x = \"user_score\", kind = \"scatter\", ylim = (-0.4,5)))          #диаграмма рассеяния"
      ],
      "metadata": {
        "colab": {
          "base_uri": "https://localhost:8080/",
          "height": 300
        },
        "id": "QsOV1O4X8pMI",
        "outputId": "7af7a3f5-a8d6-4a82-c35d-0e94fc33a9f6"
      },
      "execution_count": 183,
      "outputs": [
        {
          "output_type": "execute_result",
          "data": {
            "text/plain": [
              "<matplotlib.axes._subplots.AxesSubplot at 0x7f3ec1633f10>"
            ]
          },
          "metadata": {},
          "execution_count": 183
        },
        {
          "output_type": "display_data",
          "data": {
            "text/plain": [
              "<Figure size 432x288 with 1 Axes>"
            ],
            "image/png": "[encoded data removed]"
          },
          "metadata": {
            "needs_background": "light"
          }
        }
      ]
    },
    {
      "cell_type": "code",
      "source": [
        "(topical_df.query('user_score != -1 and platform  == \"PS4\"')[\"user_score\"].\n",
        "           corr(topical_df.query('user_score != -1 and platform  == \"PS4\"')[\"global_sales\"]))       #оценка зависимости"
      ],
      "metadata": {
        "colab": {
          "base_uri": "https://localhost:8080/"
        },
        "id": "nVMy2_9R9g5h",
        "outputId": "3be104cb-7c72-4048-c2e8-2be39a6e5b02"
      },
      "execution_count": 184,
      "outputs": [
        {
          "output_type": "execute_result",
          "data": {
            "text/plain": [
              "0.023279300963610326"
            ]
          },
          "metadata": {},
          "execution_count": 184
        }
      ]
    },
    {
      "cell_type": "markdown",
      "source": [
        "Из построенных диаграмм для платформы 'PS4' можно увидеть большую зависимость  между отзывами критиков и глобальными продажами. Диаграмма показывает небольшую нелинейную положительную зависимость.\n",
        "\n",
        "Для отзывов пользователей и глобальными ценами зависимости нет что показывает более рассеенные значения на диаграмме. \n",
        "Количество продаж не сильно зависит от голосов пользователей."
      ],
      "metadata": {
        "id": "EnEYh5qICR38"
      }
    },
    {
      "cell_type": "markdown",
      "source": [
        "**Соотнесите выводы с продажами игр на других платформах.**"
      ],
      "metadata": {
        "id": "ngRW78LxD4oH"
      }
    },
    {
      "cell_type": "markdown",
      "source": [
        "Построим диаграммы рассеяния для всех платформ и сравним зависимости.\n",
        "\n",
        "Построим диаграмму зависимости между оценками критиков и продажами."
      ],
      "metadata": {
        "id": "CS5s1DzUJNXQ"
      }
    },
    {
      "cell_type": "code",
      "source": [
        "plt.figure(figsize = (9,7))\n",
        "plt.ylim(-0.4,15)\n",
        "for name, group_df in topical_df.groupby(\"platform\"):\n",
        "  sns.scatterplot(data = group_df.query('platform == @name and critic_score != -1'), x = \"critic_score\", y = \"global_sales\")  #диаграмма рассеяния"
      ],
      "metadata": {
        "colab": {
          "base_uri": "https://localhost:8080/",
          "height": 443
        },
        "id": "tEyYnlhJ91aM",
        "outputId": "6fb90ee8-88bb-42ca-c3f3-c1c3bfa4f046"
      },
      "execution_count": 185,
      "outputs": [
        {
          "output_type": "display_data",
          "data": {
            "text/plain": [
              "<Figure size 648x504 with 1 Axes>"
            ],
            "image/png": "[encoded data removed]"
          },
          "metadata": {
            "needs_background": "light"
          }
        }
      ]
    },
    {
      "cell_type": "markdown",
      "source": [
        "Построим диаграмму зависимостей между оценками пользователей и  продажами."
      ],
      "metadata": {
        "id": "cylBUbZsJoRW"
      }
    },
    {
      "cell_type": "code",
      "source": [
        "plt.figure(figsize = (9,7))\n",
        "plt.ylim(-0.4,15)\n",
        "for name, group_df in topical_df.groupby(\"platform\"):\n",
        "  sns.scatterplot(data = group_df.query('platform == @name and user_score != -1'), x = \"user_score\", y = \"global_sales\")   #диаграмма рассеяния "
      ],
      "metadata": {
        "colab": {
          "base_uri": "https://localhost:8080/",
          "height": 442
        },
        "id": "O8zeQ-ifG8SA",
        "outputId": "548611d0-1230-4987-eb87-48c637ed150d"
      },
      "execution_count": 186,
      "outputs": [
        {
          "output_type": "display_data",
          "data": {
            "text/plain": [
              "<Figure size 648x504 with 1 Axes>"
            ],
            "image/png": "[encoded data removed]"
          },
          "metadata": {
            "needs_background": "light"
          }
        }
      ]
    },
    {
      "cell_type": "markdown",
      "source": [
        "Как и для отдельной платформы можно наблюдать нелинейную положительную зависимость между диаграмм между оценками критиков и глобальными продажами.\n",
        "\n",
        "Для диаграмм между оценками пользователей и продажами наблюдается всё такое же отсутствие зависимости и более рассеенные показатели. \n",
        "\n",
        "Исходя из построенных диаграмм можно предположить что продажи чуствительны к отзывам критиков поторые превышают 60 баллов."
      ],
      "metadata": {
        "id": "pFY4VKknK_iX"
      }
    },
    {
      "cell_type": "markdown",
      "source": [
        "**Посмотрите на общее распределение игр по жанрам. Что можно сказать о\n",
        "самых прибыльных жанрах? Выделяются ли жанры с высокими и низкими\n",
        "продажами?**"
      ],
      "metadata": {
        "id": "mZ_tWKyIOk2x"
      }
    },
    {
      "cell_type": "markdown",
      "source": [
        "Посчитаем выпущенные игры по жанрам."
      ],
      "metadata": {
        "id": "lKgCkXiHe4Hw"
      }
    },
    {
      "cell_type": "code",
      "source": [
        "topical_df.pivot_table(index = \"genre\", values = \"global_sales\", aggfunc = [\"count\",\"sum\"])                #сводная таблица"
      ],
      "metadata": {
        "id": "-zKlLk_BIEqi",
        "colab": {
          "base_uri": "https://localhost:8080/",
          "height": 488
        },
        "outputId": "e3d129c9-dc41-4175-a85a-b07323f2d927"
      },
      "execution_count": 187,
      "outputs": [
        {
          "output_type": "execute_result",
          "data": {
            "text/plain": [
              "                    count          sum\n",
              "             global_sales global_sales\n",
              "genre                                 \n",
              "Action               1269       557.80\n",
              "Adventure             410        45.04\n",
              "Fighting              159        66.90\n",
              "Misc                  375       139.42\n",
              "Platform              122        88.68\n",
              "Puzzle                 71         9.85\n",
              "Racing                180        88.31\n",
              "Role-Playing          465       245.63\n",
              "Shooter               329       402.91\n",
              "Simulation            136        50.26\n",
              "Sports                389       237.15\n",
              "Strategy              117        22.16"
            ],
            "text/html": [
              "\n",
              "  <div id=\"df-aeae54ef-3cda-4171-ae73-b12e959ec520\">\n",
              "    <div class=\"colab-df-container\">\n",
              "      <div>\n",
              "<style scoped>\n",
              "    .dataframe tbody tr th:only-of-type {\n",
              "        vertical-align: middle;\n",
              "    }\n",
              "\n",
              "    .dataframe tbody tr th {\n",
              "        vertical-align: top;\n",
              "    }\n",
              "\n",
              "    .dataframe thead tr th {\n",
              "        text-align: left;\n",
              "    }\n",
              "\n",
              "    .dataframe thead tr:last-of-type th {\n",
              "        text-align: right;\n",
              "    }\n",
              "</style>\n",
              "<table border=\"1\" class=\"dataframe\">\n",
              "  <thead>\n",
              "    <tr>\n",
              "      <th></th>\n",
              "      <th>count</th>\n",
              "      <th>sum</th>\n",
              "    </tr>\n",
              "    <tr>\n",
              "      <th></th>\n",
              "      <th>global_sales</th>\n",
              "      <th>global_sales</th>\n",
              "    </tr>\n",
              "    <tr>\n",
              "      <th>genre</th>\n",
              "      <th></th>\n",
              "      <th></th>\n",
              "    </tr>\n",
              "  </thead>\n",
              "  <tbody>\n",
              "    <tr>\n",
              "      <th>Action</th>\n",
              "      <td>1269</td>\n",
              "      <td>557.80</td>\n",
              "    </tr>\n",
              "    <tr>\n",
              "      <th>Adventure</th>\n",
              "      <td>410</td>\n",
              "      <td>45.04</td>\n",
              "    </tr>\n",
              "    <tr>\n",
              "      <th>Fighting</th>\n",
              "      <td>159</td>\n",
              "      <td>66.90</td>\n",
              "    </tr>\n",
              "    <tr>\n",
              "      <th>Misc</th>\n",
              "      <td>375</td>\n",
              "      <td>139.42</td>\n",
              "    </tr>\n",
              "    <tr>\n",
              "      <th>Platform</th>\n",
              "      <td>122</td>\n",
              "      <td>88.68</td>\n",
              "    </tr>\n",
              "    <tr>\n",
              "      <th>Puzzle</th>\n",
              "      <td>71</td>\n",
              "      <td>9.85</td>\n",
              "    </tr>\n",
              "    <tr>\n",
              "      <th>Racing</th>\n",
              "      <td>180</td>\n",
              "      <td>88.31</td>\n",
              "    </tr>\n",
              "    <tr>\n",
              "      <th>Role-Playing</th>\n",
              "      <td>465</td>\n",
              "      <td>245.63</td>\n",
              "    </tr>\n",
              "    <tr>\n",
              "      <th>Shooter</th>\n",
              "      <td>329</td>\n",
              "      <td>402.91</td>\n",
              "    </tr>\n",
              "    <tr>\n",
              "      <th>Simulation</th>\n",
              "      <td>136</td>\n",
              "      <td>50.26</td>\n",
              "    </tr>\n",
              "    <tr>\n",
              "      <th>Sports</th>\n",
              "      <td>389</td>\n",
              "      <td>237.15</td>\n",
              "    </tr>\n",
              "    <tr>\n",
              "      <th>Strategy</th>\n",
              "      <td>117</td>\n",
              "      <td>22.16</td>\n",
              "    </tr>\n",
              "  </tbody>\n",
              "</table>\n",
              "</div>\n",
              "      <button class=\"colab-df-convert\" onclick=\"convertToInteractive('df-aeae54ef-3cda-4171-ae73-b12e959ec520')\"\n",
              "              title=\"Convert this dataframe to an interactive table.\"\n",
              "              style=\"display:none;\">\n",
              "        \n",
              "  <svg xmlns=\"http://www.w3.org/2000/svg\" height=\"24px\"viewBox=\"0 0 24 24\"\n",
              "       width=\"24px\">\n",
              "    <path d=\"M0 0h24v24H0V0z\" fill=\"none\"/>\n",
              "    <path d=\"M18.56 5.44l.94 2.06.94-2.06 2.06-.94-2.06-.94-.94-2.06-.94 2.06-2.06.94zm-11 1L8.5 8.5l.94-2.06 2.06-.94-2.06-.94L8.5 2.5l-.94 2.06-2.06.94zm10 10l.94 2.06.94-2.06 2.06-.94-2.06-.94-.94-2.06-.94 2.06-2.06.94z\"/><path d=\"M17.41 7.96l-1.37-1.37c-.4-.4-.92-.59-1.43-.59-.52 0-1.04.2-1.43.59L10.3 9.45l-7.72 7.72c-.78.78-.78 2.05 0 2.83L4 21.41c.39.39.9.59 1.41.59.51 0 1.02-.2 1.41-.59l7.78-7.78 2.81-2.81c.8-.78.8-2.07 0-2.86zM5.41 20L4 18.59l7.72-7.72 1.47 1.35L5.41 20z\"/>\n",
              "  </svg>\n",
              "      </button>\n",
              "      \n",
              "  <style>\n",
              "    .colab-df-container {\n",
              "      display:flex;\n",
              "      flex-wrap:wrap;\n",
              "      gap: 12px;\n",
              "    }\n",
              "\n",
              "    .colab-df-convert {\n",
              "      background-color: #E8F0FE;\n",
              "      border: none;\n",
              "      border-radius: 50%;\n",
              "      cursor: pointer;\n",
              "      display: none;\n",
              "      fill: #1967D2;\n",
              "      height: 32px;\n",
              "      padding: 0 0 0 0;\n",
              "      width: 32px;\n",
              "    }\n",
              "\n",
              "    .colab-df-convert:hover {\n",
              "      background-color: #E2EBFA;\n",
              "      box-shadow: 0px 1px 2px rgba(60, 64, 67, 0.3), 0px 1px 3px 1px rgba(60, 64, 67, 0.15);\n",
              "      fill: #174EA6;\n",
              "    }\n",
              "\n",
              "    [theme=dark] .colab-df-convert {\n",
              "      background-color: #3B4455;\n",
              "      fill: #D2E3FC;\n",
              "    }\n",
              "\n",
              "    [theme=dark] .colab-df-convert:hover {\n",
              "      background-color: #434B5C;\n",
              "      box-shadow: 0px 1px 3px 1px rgba(0, 0, 0, 0.15);\n",
              "      filter: drop-shadow(0px 1px 2px rgba(0, 0, 0, 0.3));\n",
              "      fill: #FFFFFF;\n",
              "    }\n",
              "  </style>\n",
              "\n",
              "      <script>\n",
              "        const buttonEl =\n",
              "          document.querySelector('#df-aeae54ef-3cda-4171-ae73-b12e959ec520 button.colab-df-convert');\n",
              "        buttonEl.style.display =\n",
              "          google.colab.kernel.accessAllowed ? 'block' : 'none';\n",
              "\n",
              "        async function convertToInteractive(key) {\n",
              "          const element = document.querySelector('#df-aeae54ef-3cda-4171-ae73-b12e959ec520');\n",
              "          const dataTable =\n",
              "            await google.colab.kernel.invokeFunction('convertToInteractive',\n",
              "                                                     [key], {});\n",
              "          if (!dataTable) return;\n",
              "\n",
              "          const docLinkHtml = 'Like what you see? Visit the ' +\n",
              "            '<a target=\"_blank\" href=https://colab.research.google.com/notebooks/data_table.ipynb>data table notebook</a>'\n",
              "            + ' to learn more about interactive tables.';\n",
              "          element.innerHTML = '';\n",
              "          dataTable['output_type'] = 'display_data';\n",
              "          await google.colab.output.renderOutput(dataTable, element);\n",
              "          const docLink = document.createElement('div');\n",
              "          docLink.innerHTML = docLinkHtml;\n",
              "          element.appendChild(docLink);\n",
              "        }\n",
              "      </script>\n",
              "    </div>\n",
              "  </div>\n",
              "  "
            ]
          },
          "metadata": {},
          "execution_count": 187
        }
      ]
    },
    {
      "cell_type": "markdown",
      "source": [
        "Из полученной таблицы выделяем 'Action' как самый популярный по выпуску жанр. Далее идут 'Role_Playing', 'Adventure', 'Sport', 'Misc', 'Shooter'.\n",
        "Самый не популярный жанр 'Puzzle'. Общий доход по жанрам также показывает лидеров экшн и шутер.\n",
        "\n",
        "Теперь проверим каждый жанр на продажи."
      ],
      "metadata": {
        "id": "KuGVl_D2fG6F"
      }
    },
    {
      "cell_type": "code",
      "source": [
        "plt.figure(figsize = (14,8))\n",
        "plt.ylim(0,4)\n",
        "sns.boxplot(x=\"genre\", y=\"global_sales\", data=topical_df)                           "
      ],
      "metadata": {
        "id": "6Wdx73YgSiyz",
        "colab": {
          "base_uri": "https://localhost:8080/",
          "height": 518
        },
        "outputId": "ce8c16ac-0277-44a6-833e-c20d171fa6ba"
      },
      "execution_count": 188,
      "outputs": [
        {
          "output_type": "execute_result",
          "data": {
            "text/plain": [
              "<matplotlib.axes._subplots.AxesSubplot at 0x7f3ec110dc10>"
            ]
          },
          "metadata": {},
          "execution_count": 188
        },
        {
          "output_type": "display_data",
          "data": {
            "text/plain": [
              "<Figure size 1008x576 with 1 Axes>"
            ],
            "image/png": "[encoded data removed]"
          },
          "metadata": {
            "needs_background": "light"
          }
        }
      ]
    },
    {
      "cell_type": "markdown",
      "source": [
        "Из диаграммы видно что  жанр 'Shooter' более покупаем чем остальные. Затем идут 'Platform' и 'Sport'. Самые плохопродаваемые 'Adventure' и 'Puzzle'."
      ],
      "metadata": {
        "id": "JqAJHbFDgPd6"
      }
    },
    {
      "cell_type": "markdown",
      "source": [
        "**Вывод**\n",
        "\n",
        "При анализе данных мы определили актуальный период для прогнозирования.Рассмотрели платформы которые становились популярны за этот период, посмотрели на продажи по ним, оценили влияние отзывов на продажи и определили популярные жанры игр.\n",
        "\n",
        "Актуальный периуд был взят с 2012 года потому что на гстограмме видно что значительные изменения в количествевыпуска игр начинаются как раз с этого года. И для прогнозирования нам вполне хватит 4 лет.\n",
        "\n",
        "За взятый период видно что набирают популярность платформы PS4 и XBox One. У этих платформ есть потанцеал к росут, т.к. они появились только в 2013 году. А как мы выяснили на примере Х360 и PS3 что платформы живут примерно 6-8 лет.\n",
        "Также есть платформы которые не сильно подвержены устареванию, к ним можно отнести PC.\n",
        "\n",
        "Диаграммы рассеяния показывают большую зависимость от отзывов критиков на продажи игр. Пользователи склонны доверять экспертам.\n",
        "\n",
        "Игры вышедшие за этот период в основном продавались на платформах PS3, PS4, X360, XOne.\n",
        "\n",
        "Самыми прибыльными жанрами являются Экшн и Шутер, но если рассматривать жанры в которых одна выпущенная игра в основном имеет большее количество продаж то это Шутеры, платформеры и спортивные игры. "
      ],
      "metadata": {
        "id": "_4DsTfD5Leoq"
      }
    },
    {
      "cell_type": "markdown",
      "source": [
        "**СОСТАВЬТЕ ПОРТРЕТ ПОЛЬЗОВАТЕЛЯ КАЖДОГО РЕГИОНА**"
      ],
      "metadata": {
        "id": "KYxpjXGqhpw-"
      }
    },
    {
      "cell_type": "markdown",
      "source": [
        "**Самые популярные платформы (топ-5). Опишите различия в долях продаж.**"
      ],
      "metadata": {
        "id": "bENU17weh0oM"
      }
    },
    {
      "cell_type": "markdown",
      "source": [
        "Определим для каждого региона топ-5 платформ по убыванию."
      ],
      "metadata": {
        "id": "RQidjaR1Ae1o"
      }
    },
    {
      "cell_type": "code",
      "source": [
        " na_top_platform = topical_df.groupby(\"platform\")[\"na_sales\"].sum().sort_values(ascending = False).head(5).index.values       #определение топ-5 по регионам\n",
        " eu_top_platform = topical_df.groupby(\"platform\")[\"eu_sales\"].sum().sort_values(ascending = False).head(5).index.values\n",
        " jp_top_platform = topical_df.groupby(\"platform\")[\"jp_sales\"].sum().sort_values(ascending = False).head(5).index.values"
      ],
      "metadata": {
        "id": "SQy9LO-edL9f"
      },
      "execution_count": 189,
      "outputs": []
    },
    {
      "cell_type": "code",
      "source": [
        "print( \"Популярные платформы в Северной америке: \", na_top_platform)                              #вывод топ платформ\n",
        "print( \"Популярные платформы в Европе: \", eu_top_platform)\n",
        "print( \"Популярные платформы в Японии: \", jp_top_platform)"
      ],
      "metadata": {
        "colab": {
          "base_uri": "https://localhost:8080/"
        },
        "id": "zxEvETw61GMu",
        "outputId": "df235fab-cc92-41e2-a0b1-b0ff1c00eb76"
      },
      "execution_count": 190,
      "outputs": [
        {
          "output_type": "stream",
          "name": "stdout",
          "text": [
            "Популярные платформы в Северной америке:  ['X360' 'PS3' 'PS4' 'XOne' '3DS']\n",
            "Популярные платформы в Европе:  ['PS3' 'PS4' 'X360' '3DS' 'PC']\n",
            "Популярные платформы в Японии:  ['3DS' 'PS3' 'PSP' 'PSV' 'PS4']\n"
          ]
        }
      ]
    },
    {
      "cell_type": "markdown",
      "source": [
        "Результаты для каждого региона разные, но видно что ps3 попало в первую тройку во всех регионах.\n",
        "\n",
        "Построим круговые диаграммы для каждого региона чтобы посмотреть как распределены продажи по платформам.\n",
        "\n",
        "Построим круговую диаграмму для Северной Америке."
      ],
      "metadata": {
        "id": "GoydfciPAyTu"
      }
    },
    {
      "cell_type": "code",
      "source": [
        "plt.figure(figsize = [5,5])                                                                     #постройка диаграммы\n",
        "plt.pie(topical_df.groupby(\"platform\")[\"na_sales\"].sum().sort_values(ascending = False).head(5), \n",
        "        labels = na_top_platform,\n",
        "        autopct = \"%.1f\")"
      ],
      "metadata": {
        "colab": {
          "base_uri": "https://localhost:8080/",
          "height": 563
        },
        "id": "m9DmMNeK3Cdt",
        "outputId": "5742277b-cd4d-4d79-e527-3315b7261011"
      },
      "execution_count": 191,
      "outputs": [
        {
          "output_type": "execute_result",
          "data": {
            "text/plain": [
              "([<matplotlib.patches.Wedge at 0x7f3ec0fa4550>,\n",
              "  <matplotlib.patches.Wedge at 0x7f3ec0fa4d10>,\n",
              "  <matplotlib.patches.Wedge at 0x7f3ec0faf5d0>,\n",
              "  <matplotlib.patches.Wedge at 0x7f3ec0fafd50>,\n",
              "  <matplotlib.patches.Wedge at 0x7f3ec0f3c7d0>],\n",
              " [Text(0.5487811653512698, 0.953330599821333, 'X360'),\n",
              "  Text(-1.0610848245599183, 0.28999826738904483, 'PS3'),\n",
              "  Text(-0.5815416964835672, -0.9337072642166894, 'PS4'),\n",
              "  Text(0.4040696052614142, -1.0230971381564338, 'XOne'),\n",
              "  Text(1.0206786570352095, -0.41014031632211106, '3DS')],\n",
              " [Text(0.2993351811006925, 0.5199985089934543, '33.4'),\n",
              "  Text(-0.5787735406690462, 0.15818087312129717, '24.8'),\n",
              "  Text(-0.3172045617183094, -0.5092948713909214, '16.0'),\n",
              "  Text(0.22040160286986227, -0.5580529844489638, '13.7'),\n",
              "  Text(0.556733812928296, -0.22371289981206055, '12.2')])"
            ]
          },
          "metadata": {},
          "execution_count": 191
        },
        {
          "output_type": "display_data",
          "data": {
            "text/plain": [
              "<Figure size 360x360 with 1 Axes>"
            ],
            "image/png": "[encoded data removed]"
          },
          "metadata": {}
        }
      ]
    },
    {
      "cell_type": "markdown",
      "source": [
        "Наблюдаем что половина продаж из топ-5 по Америке приходится на X360 и PS3.\n",
        "\n",
        "Построим диаграмму для Европы."
      ],
      "metadata": {
        "id": "KDF6v2iyB-e8"
      }
    },
    {
      "cell_type": "code",
      "source": [
        "plt.figure(figsize = [5,5])                                                                       #постройка диаграммы\n",
        "plt.pie(topical_df.groupby(\"platform\")[\"eu_sales\"].sum().sort_values(ascending = False).head(5), \n",
        "        labels = eu_top_platform,\n",
        "        autopct = \"%.1f\")"
      ],
      "metadata": {
        "colab": {
          "base_uri": "https://localhost:8080/",
          "height": 563
        },
        "id": "TpZuXs1z4IzM",
        "outputId": "46d013b4-fa41-4553-e716-9118cdf02ecf"
      },
      "execution_count": 192,
      "outputs": [
        {
          "output_type": "execute_result",
          "data": {
            "text/plain": [
              "([<matplotlib.patches.Wedge at 0x7f3ec0efffd0>,\n",
              "  <matplotlib.patches.Wedge at 0x7f3ec0f0b7d0>,\n",
              "  <matplotlib.patches.Wedge at 0x7f3ec0f13090>,\n",
              "  <matplotlib.patches.Wedge at 0x7f3ec0f13810>,\n",
              "  <matplotlib.patches.Wedge at 0x7f3ec0f20290>],\n",
              " [Text(0.6396907998494167, 0.894871879426331, 'PS3'),\n",
              "  Text(-1.0047209819415084, 0.4478121798773356, 'PS4'),\n",
              "  Text(-0.5137296555099509, -0.9726673845923011, 'X360'),\n",
              "  Text(0.5779661045178389, -0.9359247737016446, '3DS'),\n",
              "  Text(1.0405325208677005, -0.35678014661232, 'PC')],\n",
              " [Text(0.34892225446331815, 0.4881119342325441, '30.2'),\n",
              "  Text(-0.54802962651355, 0.24426118902400124, '26.2'),\n",
              "  Text(-0.28021617573270047, -0.5305458461412551, '21.7'),\n",
              "  Text(0.3152542388279121, -0.5105044220190789, '11.4'),\n",
              "  Text(0.5675631932005638, -0.19460735269762905, '10.5')])"
            ]
          },
          "metadata": {},
          "execution_count": 192
        },
        {
          "output_type": "display_data",
          "data": {
            "text/plain": [
              "<Figure size 360x360 with 1 Axes>"
            ],
            "image/png": "[encoded data removed]"
          },
          "metadata": {}
        }
      ]
    },
    {
      "cell_type": "markdown",
      "source": [
        "В Европе половина продаж приходится на PS3 и PS4.\n",
        "\n",
        "Построим диаграмму для Японии."
      ],
      "metadata": {
        "id": "66IeyZiuCfmy"
      }
    },
    {
      "cell_type": "code",
      "source": [
        "plt.figure(figsize = [5,5])                                                                     #постройка диаграммы\n",
        "plt.pie(topical_df.groupby(\"platform\")[\"jp_sales\"].sum().sort_values(ascending = False).head(5), \n",
        "        labels = jp_top_platform,\n",
        "        autopct = \"%.1f\")"
      ],
      "metadata": {
        "colab": {
          "base_uri": "https://localhost:8080/",
          "height": 563
        },
        "id": "CM3X1jz78HYo",
        "outputId": "5d897b54-7dc7-468a-b375-580b0e5a7909"
      },
      "execution_count": 193,
      "outputs": [
        {
          "output_type": "execute_result",
          "data": {
            "text/plain": [
              "([<matplotlib.patches.Wedge at 0x7f3ec0ee1b10>,\n",
              "  <matplotlib.patches.Wedge at 0x7f3ec0eee310>,\n",
              "  <matplotlib.patches.Wedge at 0x7f3ec0eeeb90>,\n",
              "  <matplotlib.patches.Wedge at 0x7f3ec0e7a350>,\n",
              "  <matplotlib.patches.Wedge at 0x7f3ec0e7ad90>],\n",
              " [Text(0.08644743110236115, 1.0965978486463497, '3DS'),\n",
              "  Text(-0.9230631249327274, -0.5982929611732271, 'PS3'),\n",
              "  Text(0.10237367768838623, -1.095225835212334, 'PSP'),\n",
              "  Text(0.7685640995310823, -0.7869620225347452, 'PSV'),\n",
              "  Text(1.0693348435678485, -0.2579205155309, 'PS4')],\n",
              " [Text(0.04715314423765154, 0.5981442810798271, '47.5'),\n",
              "  Text(-0.503488977236033, -0.3263416151853965, '23.3'),\n",
              "  Text(0.05584018783002885, -0.5973959101158185, '11.3'),\n",
              "  Text(0.4192167815624085, -0.42925201229167914, '10.3'),\n",
              "  Text(0.5832735510370082, -0.14068391756230908, '7.5')])"
            ]
          },
          "metadata": {},
          "execution_count": 193
        },
        {
          "output_type": "display_data",
          "data": {
            "text/plain": [
              "<Figure size 360x360 with 1 Axes>"
            ],
            "image/png": "[encoded data removed]"
          },
          "metadata": {}
        }
      ]
    },
    {
      "cell_type": "markdown",
      "source": [
        "В янония одна платформа 3DS занимает почти половину продаж. На 20% отстаёт PS3.\n",
        "\n",
        "Из диаграмм видно что продажи игр на PS3 имеют 20% от топ-5 в кажом регионе. В Японском регионе помимо того что игры на одну платформу занимают почти половину от всех продаж из топ-5, так еще в отличии от других регионов в этот сиписок не попала X360. Это говорит о различии вкусов, доступности или популярности платформ в Японии."
      ],
      "metadata": {
        "id": "C6RzOYSxCzVn"
      }
    },
    {
      "cell_type": "markdown",
      "source": [
        "**Самые популярные жанры (топ-5). Поясните разницу.**"
      ],
      "metadata": {
        "id": "3AvAoBP0vWJW"
      }
    },
    {
      "cell_type": "markdown",
      "source": [
        "Определим топ-5 жанров в каждом регионе."
      ],
      "metadata": {
        "id": "vFoc7GwgzAIk"
      }
    },
    {
      "cell_type": "code",
      "source": [
        "na_top_genre = topical_df.groupby(\"genre\")[\"na_sales\"].sum().sort_values(ascending = False).head(5).index.values       #группировка топ-5 по жанрам\n",
        "eu_top_genre = topical_df.groupby(\"genre\")[\"eu_sales\"].sum().sort_values(ascending = False).head(5).index.values\n",
        "jp_top_genre = topical_df.groupby(\"genre\")[\"jp_sales\"].sum().sort_values(ascending = False).head(5).index.values"
      ],
      "metadata": {
        "id": "Kjk_BKLrvVjn"
      },
      "execution_count": 194,
      "outputs": []
    },
    {
      "cell_type": "markdown",
      "source": [
        "Выведем на экран результаты."
      ],
      "metadata": {
        "id": "aHAG1r-TzKQj"
      }
    },
    {
      "cell_type": "code",
      "source": [
        "print( \"Популярные жанры в Северной америке: \", na_top_genre)                              #вывод топ жанрам\n",
        "print( \"Популярные жанры в Европе: \", eu_top_genre)\n",
        "print( \"Популярные жанры в Японии: \", jp_top_genre)"
      ],
      "metadata": {
        "colab": {
          "base_uri": "https://localhost:8080/"
        },
        "id": "yxz9xdZsyNCp",
        "outputId": "c80c5ad9-d953-4d76-e216-ef0553537481"
      },
      "execution_count": 195,
      "outputs": [
        {
          "output_type": "stream",
          "name": "stdout",
          "text": [
            "Популярные жанры в Северной америке:  ['Action' 'Shooter' 'Sports' 'Role-Playing' 'Misc']\n",
            "Популярные жанры в Европе:  ['Action' 'Shooter' 'Sports' 'Role-Playing' 'Racing']\n",
            "Популярные жанры в Японии:  ['Role-Playing' 'Action' 'Misc' 'Fighting' 'Platform']\n"
          ]
        }
      ]
    },
    {
      "cell_type": "markdown",
      "source": [
        "Видим что в Европы и Америки примерно одинаковые вкусы по жанрам.\n",
        "Япония наоборот не играет в шутеры, зато на первом месте стоят ролевые игры."
      ],
      "metadata": {
        "id": "tvwA20eP1rla"
      }
    },
    {
      "cell_type": "markdown",
      "source": [
        "Посмотрим соотношениее жанров в каждом регионе.\n",
        "\n",
        "Построим круговую диаграмму с процентами для Америки."
      ],
      "metadata": {
        "id": "x462lNDizRwG"
      }
    },
    {
      "cell_type": "code",
      "source": [
        "plt.figure(figsize = [7,7])                                                                          #постройка диаграммы\n",
        "plt.pie(topical_df.groupby(\"genre\")[\"na_sales\"].sum().sort_values(ascending = False).head(5),\n",
        "        labels = na_top_genre,\n",
        "        autopct = \"%.1f\")"
      ],
      "metadata": {
        "colab": {
          "base_uri": "https://localhost:8080/",
          "height": 671
        },
        "id": "Z85s1lpq8MW-",
        "outputId": "073e7e99-8c6b-408c-ff55-e3633ca8f5db"
      },
      "execution_count": 196,
      "outputs": [
        {
          "output_type": "execute_result",
          "data": {
            "text/plain": [
              "([<matplotlib.patches.Wedge at 0x7f3ec0e43b90>,\n",
              "  <matplotlib.patches.Wedge at 0x7f3ec0e50350>,\n",
              "  <matplotlib.patches.Wedge at 0x7f3ec0e50150>,\n",
              "  <matplotlib.patches.Wedge at 0x7f3ec0e5b310>,\n",
              "  <matplotlib.patches.Wedge at 0x7f3ec0e5be90>],\n",
              " [Text(0.5423793174690493, 0.9569872914421635, 'Action'),\n",
              "  Text(-1.0888042522830057, 0.1565416884106117, 'Shooter'),\n",
              "  Text(-0.3548363526702035, -1.041196985600567, 'Sports'),\n",
              "  Text(0.5759652566110379, -0.9371574164338569, 'Role-Playing'),\n",
              "  Text(1.0446957030066149, -0.344399314923121, 'Misc')],\n",
              " [Text(0.29584326407402683, 0.5219930680593619, '33.6'),\n",
              "  Text(-0.5938932285180031, 0.08538637549669728, '28.3'),\n",
              "  Text(-0.19354710145647464, -0.5679256285094001, '15.8'),\n",
              "  Text(0.3141628672423843, -0.5111767726002855, '12.2'),\n",
              "  Text(0.5698340198217898, -0.18785417177624777, '10.1')])"
            ]
          },
          "metadata": {},
          "execution_count": 196
        },
        {
          "output_type": "display_data",
          "data": {
            "text/plain": [
              "<Figure size 504x504 with 1 Axes>"
            ],
            "image/png": "[encoded data removed]"
          },
          "metadata": {}
        }
      ]
    },
    {
      "cell_type": "markdown",
      "source": [
        "В Америке предпоситают Экшн игры и Шутеры, больше половины топ-5.\n",
        "\n",
        "Построим диаграмму для Европы."
      ],
      "metadata": {
        "id": "82hxCQWL29fY"
      }
    },
    {
      "cell_type": "code",
      "source": [
        "plt.figure(figsize = [7,7])                                                                           #постройка диаграммы\n",
        "plt.pie(topical_df.groupby(\"genre\")[\"eu_sales\"].sum().sort_values(ascending = False).head(5),\n",
        "        labels = eu_top_genre,\n",
        "        autopct = \"%.1f\")"
      ],
      "metadata": {
        "colab": {
          "base_uri": "https://localhost:8080/",
          "height": 671
        },
        "id": "mVLisk5-0Hpn",
        "outputId": "7b0a9a98-70d0-4e0b-a76e-257926908d97"
      },
      "execution_count": 197,
      "outputs": [
        {
          "output_type": "execute_result",
          "data": {
            "text/plain": [
              "([<matplotlib.patches.Wedge at 0x7f3ec0e285d0>,\n",
              "  <matplotlib.patches.Wedge at 0x7f3ec0e28d90>,\n",
              "  <matplotlib.patches.Wedge at 0x7f3ec0e35650>,\n",
              "  <matplotlib.patches.Wedge at 0x7f3ec0e35dd0>,\n",
              "  <matplotlib.patches.Wedge at 0x7f3ec0dbf850>],\n",
              " [Text(0.43759875706060086, 1.009211240434339, 'Action'),\n",
              "  Text(-1.098872956408656, -0.04978178053967887, 'Shooter'),\n",
              "  Text(-0.15980243737391195, -1.088330455794267, 'Sports'),\n",
              "  Text(0.7367111245624395, -0.8168578327628045, 'Role-Playing'),\n",
              "  Text(1.0693178650237627, -0.2579908981747659, 'Racing')],\n",
              " [Text(0.2386902311239641, 0.5504788584187303, '37.0'),\n",
              "  Text(-0.5993852489501759, -0.02715369847618847, '27.5'),\n",
              "  Text(-0.08716496584031559, -0.5936347940696002, '16.4'),\n",
              "  Text(0.4018424315795124, -0.4455588178706206, '11.6'),\n",
              "  Text(0.5832642900129613, -0.14072230809532682, '7.5')])"
            ]
          },
          "metadata": {},
          "execution_count": 197
        },
        {
          "output_type": "display_data",
          "data": {
            "text/plain": [
              "<Figure size 504x504 with 1 Axes>"
            ],
            "image/png": "[encoded data removed]"
          },
          "metadata": {}
        }
      ]
    },
    {
      "cell_type": "markdown",
      "source": [
        "Европейцы также предпочитают Экшн и Шутеры. Также больше половины топ-5.\n",
        "\n",
        "Построи диаграмму для Японии."
      ],
      "metadata": {
        "id": "cVAkWq2u3giF"
      }
    },
    {
      "cell_type": "code",
      "source": [
        "plt.figure(figsize = [7,7])                                                                          #постройка диаграммы\n",
        "plt.pie(topical_df.groupby(\"genre\")[\"jp_sales\"].sum().sort_values(ascending = False).head(5),\n",
        "        labels = jp_top_genre,\n",
        "        autopct = \"%.1f\")"
      ],
      "metadata": {
        "colab": {
          "base_uri": "https://localhost:8080/",
          "height": 671
        },
        "id": "t_F6_cU_0fS8",
        "outputId": "3c86e1be-54c6-4d24-b866-c70233a2b9a1"
      },
      "execution_count": 198,
      "outputs": [
        {
          "output_type": "execute_result",
          "data": {
            "text/plain": [
              "([<matplotlib.patches.Wedge at 0x7f3ec25ec550>,\n",
              "  <matplotlib.patches.Wedge at 0x7f3ec2146c90>,\n",
              "  <matplotlib.patches.Wedge at 0x7f3ec2be8ed0>,\n",
              "  <matplotlib.patches.Wedge at 0x7f3ec1b8df50>,\n",
              "  <matplotlib.patches.Wedge at 0x7f3ec1b95210>],\n",
              " [Text(0.23883090335058557, 1.073759656349941, 'Role-Playing'),\n",
              "  Text(-0.8828625420139479, -0.6561659332125299, 'Action'),\n",
              "  Text(0.4716561841860773, -0.9937506950533567, 'Misc'),\n",
              "  Text(0.8951421078844835, -0.6393126048281264, 'Fighting'),\n",
              "  Text(1.0768950855683714, -0.22426987019813863, 'Platform')],\n",
              " [Text(0.13027140182759211, 0.5856870852817859, '43.0'),\n",
              "  Text(-0.4815613865530624, -0.3579086908431981, '34.3'),\n",
              "  Text(0.25726700955604215, -0.5420458336654672, '9.5'),\n",
              "  Text(0.48825933157335455, -0.3487159662698871, '6.7'),\n",
              "  Text(0.5873973194009299, -0.12232902010807559, '6.5')])"
            ]
          },
          "metadata": {},
          "execution_count": 198
        },
        {
          "output_type": "display_data",
          "data": {
            "text/plain": [
              "<Figure size 504x504 with 1 Axes>"
            ],
            "image/png": "[encoded data removed]"
          },
          "metadata": {}
        }
      ]
    },
    {
      "cell_type": "markdown",
      "source": [
        "В Японии, в отличии от остальных регионов, идет преобладание 2 жанров, Ролевые игры и Экшн они занимают приблизительно по 1/3 из топ-5.\n",
        "\n",
        "Опять же видим что Японские вкусы отличаются от населения Европы и Америки.\n",
        "Идет преобладание Ролевых и Экшн игр, Шутеры даже не попали в топ-5.\n",
        "Американцы и Европейцы наоборот имеют похожие вкусы в играх об этом говорит почти одинаковая процентовка на диаграммах. Заметное отличие среди этид 2 регионов, то что в Европе вместо Misс игр играют в гонки."
      ],
      "metadata": {
        "id": "KpqNM_kq373U"
      }
    },
    {
      "cell_type": "markdown",
      "source": [
        "**Влияет ли рейтинг ESRB на продажи в отдельном регионе?**"
      ],
      "metadata": {
        "id": "EfglLVpz6gff"
      }
    },
    {
      "cell_type": "markdown",
      "source": [
        "Посчитаем рейтинг продаж игр по убыванию для всех регионов. Заранее исключим из выборки игры без рейтинга."
      ],
      "metadata": {
        "id": "m75odASTUwvA"
      }
    },
    {
      "cell_type": "code",
      "source": [
        "na_rating = topical_df.query('rating != \"Unknown\"').groupby(\"rating\")[\"na_sales\"].sum().sort_values(ascending = False).index.values       #группировка по рейтингу \n",
        "eu_rating = topical_df.query('rating != \"Unknown\"').groupby(\"rating\")[\"eu_sales\"].sum().sort_values(ascending = False).index.values\n",
        "jp_rating = topical_df.query('rating != \"Unknown\"').groupby(\"rating\")[\"jp_sales\"].sum().sort_values(ascending = False).index.values"
      ],
      "metadata": {
        "id": "eZxRIcVS0iXV"
      },
      "execution_count": 199,
      "outputs": []
    },
    {
      "cell_type": "markdown",
      "source": [
        "Выведем получившиеся результаты на экран."
      ],
      "metadata": {
        "id": "STnSZnYcVbri"
      }
    },
    {
      "cell_type": "code",
      "source": [
        "print( \"Рейтинг продаж игр в Северной америке: \", na_rating)                              #вывод рейтинга\n",
        "print( \"Рейтинг продаж игр в Европе: \", eu_rating)\n",
        "print( \"Рейтинг продаж игр в Японии: \", jp_rating)"
      ],
      "metadata": {
        "colab": {
          "base_uri": "https://localhost:8080/"
        },
        "id": "wZicPhKnQ4Gw",
        "outputId": "d6cfbe34-8808-43d6-b3ed-30efca0d1e73"
      },
      "execution_count": 200,
      "outputs": [
        {
          "output_type": "stream",
          "name": "stdout",
          "text": [
            "Рейтинг продаж игр в Северной америке:  ['M' 'E' 'E10+' 'T' 'EC' 'RP']\n",
            "Рейтинг продаж игр в Европе:  ['M' 'E' 'T' 'E10+' 'RP' 'EC']\n",
            "Рейтинг продаж игр в Японии:  ['E' 'T' 'M' 'E10+' 'EC' 'RP']\n"
          ]
        }
      ]
    },
    {
      "cell_type": "markdown",
      "source": [
        "Для наглядности построим кругивую диаграмму и посмотрим соотношения продаж игр по рейтингу.\n",
        "\n",
        "Построим диаграмму для Северной Америки."
      ],
      "metadata": {
        "id": "DqdMv08EVvkS"
      }
    },
    {
      "cell_type": "code",
      "source": [
        "plt.figure(figsize = [7,7])                                                             #постройка диаграммы\n",
        "plt.pie(topical_df.query('rating != \"Unknown\"').groupby(\"rating\")[\"na_sales\"].sum().sort_values(ascending = False),\n",
        "        labels  = na_rating,\n",
        "        autopct = \"%.1f\")"
      ],
      "metadata": {
        "colab": {
          "base_uri": "https://localhost:8080/",
          "height": 723
        },
        "id": "0gGjEkycSodo",
        "outputId": "9573e9a6-23bf-4497-ed85-16e7b81b8330"
      },
      "execution_count": 201,
      "outputs": [
        {
          "output_type": "execute_result",
          "data": {
            "text/plain": [
              "([<matplotlib.patches.Wedge at 0x7f3ec1ad9dd0>,\n",
              "  <matplotlib.patches.Wedge at 0x7f3ec2404d90>,\n",
              "  <matplotlib.patches.Wedge at 0x7f3ec1a1f2d0>,\n",
              "  <matplotlib.patches.Wedge at 0x7f3ec1a07450>,\n",
              "  <matplotlib.patches.Wedge at 0x7f3ec1b86050>,\n",
              "  <matplotlib.patches.Wedge at 0x7f3ec18bc190>],\n",
              " [Text(0.2167858905678939, 1.0784265749927926, 'M'),\n",
              "  Text(-1.0293305316860926, -0.38791578536948745, 'E'),\n",
              "  Text(0.07753602508621577, -1.09726394491655, 'E10+'),\n",
              "  Text(0.9705135326656728, -0.5177871019181498, 'T'),\n",
              "  Text(1.0999980804601828, -0.002054990003286939, 'EC'),\n",
              "  Text(1.099999999999817, 6.348332998810039e-07, 'RP')],\n",
              " [Text(0.11824684940066939, 0.5882326772687959, '43.7'),\n",
              "  Text(-0.5614530172833232, -0.21159042838335676, '24.1'),\n",
              "  Text(0.04229237731975405, -0.5985076063181182, '16.7'),\n",
              "  Text(0.5293710178176396, -0.28242932831899076, '15.5'),\n",
              "  Text(0.5999989529782814, -0.001120903638156512, '0.1'),\n",
              "  Text(0.5999999999999001, 3.462727090260021e-07, '0.0')])"
            ]
          },
          "metadata": {},
          "execution_count": 201
        },
        {
          "output_type": "display_data",
          "data": {
            "text/plain": [
              "<Figure size 504x504 with 1 Axes>"
            ],
            "image/png": "[encoded data removed]"
          },
          "metadata": {}
        }
      ]
    },
    {
      "cell_type": "markdown",
      "source": [
        "Построим диаграмму для Европы."
      ],
      "metadata": {
        "id": "tG01QxseXLa0"
      }
    },
    {
      "cell_type": "code",
      "source": [
        "plt.figure(figsize = [7,7])                                                                 #постройка диаграммы\n",
        "plt.pie(topical_df.query('rating != \"Unknown\"').groupby(\"rating\")[\"eu_sales\"].sum().sort_values(ascending = False),\n",
        "        labels  = eu_rating,\n",
        "        autopct = \"%.1f\")"
      ],
      "metadata": {
        "colab": {
          "base_uri": "https://localhost:8080/",
          "height": 723
        },
        "id": "lgYNd2dPTTxS",
        "outputId": "8eb9a909-4525-48b8-93a4-3ff65618dd99"
      },
      "execution_count": 202,
      "outputs": [
        {
          "output_type": "execute_result",
          "data": {
            "text/plain": [
              "([<matplotlib.patches.Wedge at 0x7f3ec19c0090>,\n",
              "  <matplotlib.patches.Wedge at 0x7f3ec1153c10>,\n",
              "  <matplotlib.patches.Wedge at 0x7f3ec11428d0>,\n",
              "  <matplotlib.patches.Wedge at 0x7f3ec1142190>,\n",
              "  <matplotlib.patches.Wedge at 0x7f3ec114d3d0>,\n",
              "  <matplotlib.patches.Wedge at 0x7f3ec1851150>],\n",
              " [Text(0.163873158551621, 1.0877249596779122, 'M'),\n",
              "  Text(-0.9622437481010991, -0.5329980949687801, 'E'),\n",
              "  Text(0.2317036685968034, -1.0753201430080173, 'T'),\n",
              "  Text(0.9936681012978107, -0.4718301648508751, 'E10+'),\n",
              "  Text(1.0999999839019694, -0.0001881905076865869, 'RP'),\n",
              "  Text(1.0999999999997245, -7.785558586299762e-07, 'EC')],\n",
              " [Text(0.08938535920997508, 0.5933045234606793, '45.2'),\n",
              "  Text(-0.524860226236963, -0.2907262336193346, '25.6'),\n",
              "  Text(0.12638381923462003, -0.5865382598225548, '15.0'),\n",
              "  Text(0.5420007825260785, -0.25736190810047727, '14.1'),\n",
              "  Text(0.599999991219256, -0.00010264936782904738, '0.0'),\n",
              "  Text(0.5999999999998497, -4.24666831979987e-07, '0.0')])"
            ]
          },
          "metadata": {},
          "execution_count": 202
        },
        {
          "output_type": "display_data",
          "data": {
            "text/plain": [
              "<Figure size 504x504 with 1 Axes>"
            ],
            "image/png": "[encoded data removed]"
          },
          "metadata": {}
        }
      ]
    },
    {
      "cell_type": "markdown",
      "source": [
        "Построим диаграмму для Японии."
      ],
      "metadata": {
        "id": "iFk1Bb7ZXRcw"
      }
    },
    {
      "cell_type": "code",
      "source": [
        "plt.figure(figsize = [7,7])                                                                           #постройка диаграммы\n",
        "plt.pie(topical_df.query('rating != \"Unknown\"').groupby(\"rating\")[\"jp_sales\"].sum().sort_values(ascending = False),\n",
        "        labels  = jp_rating,\n",
        "        autopct = \"%.1f\")"
      ],
      "metadata": {
        "colab": {
          "base_uri": "https://localhost:8080/",
          "height": 723
        },
        "id": "xeBR-VrjTiGf",
        "outputId": "d1b7eb45-e7d7-4d30-ae58-2638fb0eb106"
      },
      "execution_count": 203,
      "outputs": [
        {
          "output_type": "execute_result",
          "data": {
            "text/plain": [
              "([<matplotlib.patches.Wedge at 0x7f3ec1185810>,\n",
              "  <matplotlib.patches.Wedge at 0x7f3ec1a34950>,\n",
              "  <matplotlib.patches.Wedge at 0x7f3ec12ac5d0>,\n",
              "  <matplotlib.patches.Wedge at 0x7f3ec11d9ed0>,\n",
              "  <matplotlib.patches.Wedge at 0x7f3ec11d9a50>,\n",
              "  <matplotlib.patches.Wedge at 0x7f3ec117ed50>],\n",
              " [Text(0.5256847717251285, 0.9662585165349384, 'E'),\n",
              "  Text(-1.0997761184605963, 0.022192099128843085, 'T'),\n",
              "  Text(0.164067416043454, -1.087695675725901, 'M'),\n",
              "  Text(1.0412260681185284, -0.3547510043261752, 'E10+'),\n",
              "  Text(1.0999999999999568, -3.0896829841550223e-07, 'EC'),\n",
              "  Text(1.0999999999999568, -3.0896829841550223e-07, 'RP')],\n",
              " [Text(0.2867371482137064, 0.5270500999281482, '34.1'),\n",
              "  Text(-0.5998778827966889, 0.012104781343005317, '31.1'),\n",
              "  Text(0.08949131784188401, -0.593288550395946, '24.3'),\n",
              "  Text(0.5679414917010154, -0.19350054781427733, '10.5'),\n",
              "  Text(0.5999999999999763, -1.685281627720921e-07, '0.0'),\n",
              "  Text(0.5999999999999763, -1.685281627720921e-07, '0.0')])"
            ]
          },
          "metadata": {},
          "execution_count": 203
        },
        {
          "output_type": "display_data",
          "data": {
            "text/plain": [
              "<Figure size 504x504 with 1 Axes>"
            ],
            "image/png": "[encoded data removed]"
          },
          "metadata": {}
        }
      ]
    },
    {
      "cell_type": "markdown",
      "source": [
        "Из диаграмм видно что распределение игра по рейтингу в Европейский и Северной Америке очень похоже, разница всего в нескольких процентах.\n",
        "\n",
        "Рейтинг игр в японии напротив сильно отличается от остальных регионов. Здесь на первом месте по распределению стоият игры с рейтингом для всех(\"E\") потом идут игры для подростков (\"T\"), а потом для взрослых (\"M\").\n",
        "\n",
        "Логично предположить что такое распределение говорит о том что в Японии большенство игр покупают подростки, а затем только взрослые. В Европе и Америке наоборот."
      ],
      "metadata": {
        "id": "PuyZdf-nXXw0"
      }
    },
    {
      "cell_type": "markdown",
      "source": [
        "**Выводы**\n",
        "\n",
        "Исходя из рассмотренных распределений по жанрам, платформам, и рейтингу, построим промерныей портрет пользователя по каждому региону.\n",
        "Сразу можно выделить что в японском регионе пользователи имеют заметные отличия по всем 3 критериям оценки.\n",
        "\n",
        "Американский пользователь играет больше в Экшн или Шутер на платформе X360 и PS3 и ему в большенстве случаев от 17 лет.\n",
        "Европейский пользователь также предпочитает Экше или Шутер, играет на платформах PS3, PS4 и ему тоже от 17 лет.\n",
        "Японский пользователь это подросток от 13 лет, играть он любит в Ролевые игры и Экшн игры и предпочитает платформу 3DS и PS3."
      ],
      "metadata": {
        "id": "CQcl7CuecIWz"
      }
    },
    {
      "cell_type": "markdown",
      "source": [
        "**ПРОВЕРКА ГИПОТЕЗ**"
      ],
      "metadata": {
        "id": "K-Z9AH0EixGK"
      }
    },
    {
      "cell_type": "markdown",
      "source": [
        "**Средние пользовательские рейтинги платформ Xbox One и PC одинаковые**\n",
        "Сформируем гипотезы.\n",
        "\n",
        "Нулевая гипотеза: средние рейтинги по платформам одинаковые.\n",
        "\n",
        "Альтернативная гипотеза: средние рейтинги по платформам разные."
      ],
      "metadata": {
        "id": "kUcgQfV8Rep9"
      }
    },
    {
      "cell_type": "markdown",
      "source": [
        "Сохраним в переменных список из значений рейтинга по каждой платформе и исключим из списка \"заглушку\"."
      ],
      "metadata": {
        "id": "KaCRMRxfYcwv"
      }
    },
    {
      "cell_type": "code",
      "source": [
        "xbx_user_score = topical_df.query('user_score != -1 and platform == \"XOne\"')[\"user_score\"].values                #создание списков\n",
        "pc_user_score = topical_df.query('user_score != -1 and platform == \"PC\"')[\"user_score\"].values"
      ],
      "metadata": {
        "id": "Yek4rfKvTp_L"
      },
      "execution_count": 204,
      "outputs": []
    },
    {
      "cell_type": "markdown",
      "source": [
        "Применим метод st.ttest_ind() для проверки гипотезы."
      ],
      "metadata": {
        "id": "7fYfQB3uZe1G"
      }
    },
    {
      "cell_type": "code",
      "source": [
        "result = st.ttest_ind(xbx_user_score,pc_user_score)                                                            #подсчёт значимости"
      ],
      "metadata": {
        "id": "21ltbHGGUB0e"
      },
      "execution_count": 205,
      "outputs": []
    },
    {
      "cell_type": "markdown",
      "source": [
        "Выставим уровень альфа для определения статитической значимости в 5%."
      ],
      "metadata": {
        "id": "SPgndpaYbNc8"
      }
    },
    {
      "cell_type": "code",
      "source": [
        "alpha = .05                                                                                                  #уровень значимости"
      ],
      "metadata": {
        "id": "_RnlWptpVd2J"
      },
      "execution_count": 206,
      "outputs": []
    },
    {
      "cell_type": "markdown",
      "source": [
        "Сравним показатели и выведем результат."
      ],
      "metadata": {
        "id": "GiK5efN9bfnN"
      }
    },
    {
      "cell_type": "code",
      "source": [
        "print(\"P_value \",result.pvalue)                                                                              #вывод pvalue\n",
        "if(result.pvalue < alpha):                                                                                   #вывод результата\n",
        "    print(\"P-value меньше alpha. Разница статистически значимая. Отвергаем нулевую гипотезу.\")\n",
        "else:\n",
        "  print(\"Разница статистически незначима. Отвернуть нулевую гипотезу не получилось.\")"
      ],
      "metadata": {
        "colab": {
          "base_uri": "https://localhost:8080/"
        },
        "id": "BYUqEXJQVl-d",
        "outputId": "d190f8e1-6f39-456f-d56e-c14f80aa3a70"
      },
      "execution_count": 207,
      "outputs": [
        {
          "output_type": "stream",
          "name": "stdout",
          "text": [
            "P_value  0.7728168689375713\n",
            "Разница статистически незначима. Отвернуть нулевую гипотезу не получилось.\n"
          ]
        }
      ]
    },
    {
      "cell_type": "markdown",
      "source": [
        "Из результата следует что значение P-value 0.77. Это означает что при сравнении средних 2 выборок с вероятностью 77% такое различие могло получиться случайно. Следовательно это слишком большая вероятность что-бы делать вывод о значимом различии между средними выборок."
      ],
      "metadata": {
        "id": "sDhTs8f2by56"
      }
    },
    {
      "cell_type": "markdown",
      "source": [
        "**Средние пользовательские рейтинги жанров Action и Sports разные**"
      ],
      "metadata": {
        "id": "2qN9S3NZXEvq"
      }
    },
    {
      "cell_type": "markdown",
      "source": [
        "Построим гипотезы.\n",
        "\n",
        "Нулевая гипотеза: рейтинги равны.\n",
        "\n",
        "Алтернативная гипотеза: рейтинги разные."
      ],
      "metadata": {
        "id": "g_oOeGHzSrwX"
      }
    },
    {
      "cell_type": "markdown",
      "source": [
        "Создадим переменные с рейтингама по жанрам."
      ],
      "metadata": {
        "id": "6N6_S1quTQp0"
      }
    },
    {
      "cell_type": "code",
      "source": [
        "action_user_score = topical_df.query('user_score != -1 and genre == \"Action\"')[\"user_score\"].values               #создание переменной\n",
        "sports_user_score = topical_df.query('user_score != -1 and genre == \"Sports\"')[\"user_score\"].values"
      ],
      "metadata": {
        "id": "RmLtFJ_LWp-W"
      },
      "execution_count": 208,
      "outputs": []
    },
    {
      "cell_type": "markdown",
      "source": [
        "Методом st.ttest_ind() подсчитаем вероятност.  Установим уровень значимости на 5%."
      ],
      "metadata": {
        "id": "pjxoMM7QTo3y"
      }
    },
    {
      "cell_type": "code",
      "source": [
        "result = st.ttest_ind(action_user_score,sports_user_score)                                             #подсчёт значимости\n",
        "\n",
        "alpha = .05                                                                                            #урвень значимости"
      ],
      "metadata": {
        "id": "Panc-rSnSk4T"
      },
      "execution_count": 209,
      "outputs": []
    },
    {
      "cell_type": "markdown",
      "source": [
        "Выведем результат на экран."
      ],
      "metadata": {
        "id": "PT3E84rcpHzv"
      }
    },
    {
      "cell_type": "code",
      "source": [
        "print(result.pvalue)                                                                                   #вывод p-value\n",
        "if(result.pvalue > alpha):                                                                             #вывод результата\n",
        "  print(\"P-value больше alpha. Альтернативную гипотезу не удалость подтвердить. Результат статистически не значим.\")\n",
        "else:\n",
        "  print(\"P-value меньше alpha. Результат статистически значим. Отвергаем нулевую гипотезу.\")"
      ],
      "metadata": {
        "colab": {
          "base_uri": "https://localhost:8080/"
        },
        "id": "wOwdpJISULjc",
        "outputId": "7625e60f-49b2-4482-99eb-230167658cd9"
      },
      "execution_count": 210,
      "outputs": [
        {
          "output_type": "stream",
          "name": "stdout",
          "text": [
            "3.333976937939034e-14\n",
            "P-value меньше alpha. Результат статистически значим. Отвергаем нулевую гипотезу.\n"
          ]
        }
      ]
    },
    {
      "cell_type": "markdown",
      "source": [
        "Значение p-value показывает крайне мальнекую вероятность случайного различия средних этих выборок. Поэтому нулевую гипотезу отвергаем. На этом основании можно сказать что средние пользовательские рейтинги действительно разные. НО подтвирждением данной гипотезы мы не можем сказать больше или меньше."
      ],
      "metadata": {
        "id": "1l_W3QyUrTX-"
      }
    },
    {
      "cell_type": "markdown",
      "source": [
        "**ОБЩИЕ ВЫВОДЫ**"
      ],
      "metadata": {
        "id": "I2PmCo6ZsA2n"
      }
    },
    {
      "cell_type": "markdown",
      "source": [
        "В ходе работы с датафрейма был определён актуальный периоод для постройки прогнозов и планирования рекламных компаний. Этот период составляет 4 года с 2012 по 2016г. За этот срок было определено что идет обновление популярных платформ. Если в предыдущие года такими платформами были PS3 и X360, то сейчас нибрали популярность PS4 и XOne. Также нельзя исключать популярную в Японии платформу 3DS и стабильную для всех регионов PC."
      ],
      "metadata": {
        "id": "hw7hKVnKoxzX"
      }
    },
    {
      "cell_type": "code",
      "source": [
        "topical_df.query('platform == [\"XOne\",\"X360\",\"PS3\",\"PS4\",\"PC\",\"3DS\"]').pivot_table(index = \"platform\", columns = \"year_of_release\", values = \"global_sales\",aggfunc = \"count\").T.plot(kind = \"line\")"
      ],
      "metadata": {
        "colab": {
          "base_uri": "https://localhost:8080/",
          "height": 302
        },
        "id": "dAuOqKeed3S5",
        "outputId": "915c6b3e-385f-49af-f1a6-ac10d6edc1a3"
      },
      "execution_count": 211,
      "outputs": [
        {
          "output_type": "execute_result",
          "data": {
            "text/plain": [
              "<matplotlib.axes._subplots.AxesSubplot at 0x7f3ec11fe990>"
            ]
          },
          "metadata": {},
          "execution_count": 211
        },
        {
          "output_type": "display_data",
          "data": {
            "text/plain": [
              "<Figure size 432x288 with 1 Axes>"
            ],
            "image/png": "[encoded data removed]"
          },
          "metadata": {
            "needs_background": "light"
          }
        }
      ]
    },
    {
      "cell_type": "markdown",
      "source": [
        "Как видно из графика на больший выпуск игр приходится на ps4 и Xone. Остальные держатся на том же уровне или падают."
      ],
      "metadata": {
        "id": "DksEgPwPgMJ9"
      }
    },
    {
      "cell_type": "code",
      "source": [
        "topical_df.query('platform == [\"XOne\",\"X360\",\"PS3\",\"PS4\",\"PC\",\"3DS\"]').pivot_table(index = \"platform\", columns = \"year_of_release\", values = \"global_sales\",aggfunc = \"sum\").T.plot(kind = \"line\")"
      ],
      "metadata": {
        "colab": {
          "base_uri": "https://localhost:8080/",
          "height": 298
        },
        "id": "6Vvc0TYbiqzh",
        "outputId": "a245b5e6-0286-4677-910e-e2b377800577"
      },
      "execution_count": 212,
      "outputs": [
        {
          "output_type": "execute_result",
          "data": {
            "text/plain": [
              "<matplotlib.axes._subplots.AxesSubplot at 0x7f3ec0cb9d90>"
            ]
          },
          "metadata": {},
          "execution_count": 212
        },
        {
          "output_type": "display_data",
          "data": {
            "text/plain": [
              "<Figure size 432x288 with 1 Axes>"
            ],
            "image/png": "[encoded data removed]"
          },
          "metadata": {
            "needs_background": "light"
          }
        }
      ]
    },
    {
      "cell_type": "markdown",
      "source": [
        "За последний год видно падение продаж, но это может быть обусловлено тем что статистика за весь год не полностью собрана. Но опять же на графике видно большое падение в продажах на PS3 и X360 это еще раз доказывает спад популярности платформ."
      ],
      "metadata": {
        "id": "ao3obS4ai7ax"
      }
    },
    {
      "cell_type": "markdown",
      "source": [
        "За последние годы как мы выяснили Экшн, Шутер, Ролвые игры и Спортивные являлись популярными жанрами. Посмотрим на их динамику на графике."
      ],
      "metadata": {
        "id": "JF4ph7L1j8aw"
      }
    },
    {
      "cell_type": "code",
      "source": [
        "topical_df.pivot_table(index = \"genre\", columns = \"year_of_release\", values = \"global_sales\",aggfunc = \"count\").T.plot(kind = \"line\",figsize = [10,8])"
      ],
      "metadata": {
        "colab": {
          "base_uri": "https://localhost:8080/",
          "height": 515
        },
        "id": "cig2eXlHjtsD",
        "outputId": "73f96f2a-aa1c-4906-c46f-46086b5eaf8b"
      },
      "execution_count": 213,
      "outputs": [
        {
          "output_type": "execute_result",
          "data": {
            "text/plain": [
              "<matplotlib.axes._subplots.AxesSubplot at 0x7f3ec0de8e50>"
            ]
          },
          "metadata": {},
          "execution_count": 213
        },
        {
          "output_type": "display_data",
          "data": {
            "text/plain": [
              "<Figure size 720x576 with 1 Axes>"
            ],
            "image/png": "[encoded data removed]"
          },
          "metadata": {
            "needs_background": "light"
          }
        }
      ]
    },
    {
      "cell_type": "markdown",
      "source": [
        "Как видно они так и занимают лидирующие места по выпуску игр, причём жанр Экшн лидирует с большим отрывом. "
      ],
      "metadata": {
        "id": "cNPxm6nDllMd"
      }
    },
    {
      "cell_type": "code",
      "source": [
        "topical_df.pivot_table(index = \"genre\", columns = \"year_of_release\", values = \"global_sales\",aggfunc = \"sum\").T.plot(kind = \"line\",figsize = [10,8])"
      ],
      "metadata": {
        "colab": {
          "base_uri": "https://localhost:8080/",
          "height": 515
        },
        "id": "Mp1B4XOSrjKu",
        "outputId": "61e5ecff-eaf2-420b-b0a9-002b009cae3f"
      },
      "execution_count": 214,
      "outputs": [
        {
          "output_type": "execute_result",
          "data": {
            "text/plain": [
              "<matplotlib.axes._subplots.AxesSubplot at 0x7f3ec0b4f290>"
            ]
          },
          "metadata": {},
          "execution_count": 214
        },
        {
          "output_type": "display_data",
          "data": {
            "text/plain": [
              "<Figure size 720x576 with 1 Axes>"
            ],
            "image/png": "[encoded data removed]"
          },
          "metadata": {
            "needs_background": "light"
          }
        }
      ]
    },
    {
      "cell_type": "markdown",
      "source": [
        "Также эти жанты являются самыми доходными."
      ],
      "metadata": {
        "id": "Zetq-i84riyB"
      }
    },
    {
      "cell_type": "markdown",
      "source": [
        "Возрост пользователей для которых выпускают иры в Европе и Америке почти одинаков, а Японский регион характерен более молодой аудиторией. Это надо цчитывать для построения компаний для японского региона.\n",
        "\n",
        "Так же, как мы выснили, более точную оценку продукта дают критики, нежели пользователи. Это необходимо учитывать при планировании рекламных компаний."
      ],
      "metadata": {
        "id": "zvFG9BLMnD6g"
      }
    },
    {
      "cell_type": "code",
      "source": [
        ""
      ],
      "metadata": {
        "id": "VwbUEqt6sJxP"
      },
      "execution_count": 214,
      "outputs": []
    }
  ],
  "metadata": {
    "kernelspec": {
      "display_name": "Python 3",
      "language": "python",
      "name": "python3"
    },
    "language_info": {
      "codemirror_mode": {
        "name": "ipython",
        "version": 3
      },
      "file_extension": ".py",
      "mimetype": "text/x-python",
      "name": "python",
      "nbconvert_exporter": "python",
      "pygments_lexer": "ipython3",
      "version": "3.7.8"
    },
    "toc": {
      "base_numbering": 1,
      "nav_menu": {},
      "number_sections": true,
      "sideBar": true,
      "skip_h1_title": true,
      "title_cell": "Table of Contents",
      "title_sidebar": "Contents",
      "toc_cell": false,
      "toc_position": {},
      "toc_section_display": true,
      "toc_window_display": false
    },
    "colab": {
      "name": "Сборный проект - 1 .ipynb",
      "provenance": [],
      "collapsed_sections": [],
      "include_colab_link": true
    }
  },
  "nbformat": 4,
  "nbformat_minor": 0
}