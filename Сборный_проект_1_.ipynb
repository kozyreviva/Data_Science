{
  "cells": [
    {
      "cell_type": "markdown",
      "metadata": {
        "id": "view-in-github",
        "colab_type": "text"
      },
      "source": [
        "<a href=\"https://colab.research.google.com/github/kozyreviva/Data_Science/blob/main/%D0%A1%D0%B1%D0%BE%D1%80%D0%BD%D1%8B%D0%B9_%D0%BF%D1%80%D0%BE%D0%B5%D0%BA%D1%82_1_.ipynb\" target=\"_parent\"><img src=\"https://colab.research.google.com/assets/colab-badge.svg\" alt=\"Open In Colab\"/></a>"
      ]
    },
    {
      "cell_type": "markdown",
      "source": [
        "Подключим необходимые библиотеки."
      ],
      "metadata": {
        "id": "uvujB-k3Nsqa"
      }
    },
    {
      "cell_type": "code",
      "execution_count": 3,
      "metadata": {
        "id": "XNhKsW0xd7yz"
      },
      "outputs": [],
      "source": [
        "import pandas as pd                                                             #подключение библиотек\n",
        "import numpy as np\n",
        "from scipy import stats as st\n",
        "import matplotlib.pyplot as plt\n",
        "import seaborn as sns"
      ]
    },
    {
      "cell_type": "markdown",
      "source": [
        "Загрузим датафрейм и сохраним в переменную."
      ],
      "metadata": {
        "id": "yB9gRgl6OThw"
      }
    },
    {
      "cell_type": "code",
      "source": [
        "try:                                                                            #загрузка датафрейма\n",
        "  df = pd.read_csv(\"/datasets/games.csv\")\n",
        "except:\n",
        "  df = pd.read_csv(\"Games csv.csv\")"
      ],
      "metadata": {
        "id": "10L4iw60eGXi"
      },
      "execution_count": 4,
      "outputs": []
    },
    {
      "cell_type": "markdown",
      "source": [
        "Выведем на экран таблицу."
      ],
      "metadata": {
        "id": "6kbqRg7ROmeL"
      }
    },
    {
      "cell_type": "code",
      "source": [
        "df.head(10)                                                                     #вывод на экнан таблицы"
      ],
      "metadata": {
        "colab": {
          "base_uri": "https://localhost:8080/",
          "height": 407
        },
        "id": "b4I5RGBPePgG",
        "outputId": "c4fbf4c6-07a7-473c-edb1-2e0f177f6bed"
      },
      "execution_count": 5,
      "outputs": [
        {
          "output_type": "execute_result",
          "data": {
            "text/plain": [
              "                        Name Platform  Year_of_Release         Genre  \\\n",
              "0                 Wii Sports      Wii           2006.0        Sports   \n",
              "1          Super Mario Bros.      NES           1985.0      Platform   \n",
              "2             Mario Kart Wii      Wii           2008.0        Racing   \n",
              "3          Wii Sports Resort      Wii           2009.0        Sports   \n",
              "4   Pokemon Red/Pokemon Blue       GB           1996.0  Role-Playing   \n",
              "5                     Tetris       GB           1989.0        Puzzle   \n",
              "6      New Super Mario Bros.       DS           2006.0      Platform   \n",
              "7                   Wii Play      Wii           2006.0          Misc   \n",
              "8  New Super Mario Bros. Wii      Wii           2009.0      Platform   \n",
              "9                  Duck Hunt      NES           1984.0       Shooter   \n",
              "\n",
              "   NA_sales  EU_sales  JP_sales  Other_sales  Critic_Score User_Score Rating  \n",
              "0     41.36     28.96      3.77         8.45          76.0          8      E  \n",
              "1     29.08      3.58      6.81         0.77           NaN        NaN    NaN  \n",
              "2     15.68     12.76      3.79         3.29          82.0        8.3      E  \n",
              "3     15.61     10.93      3.28         2.95          80.0          8      E  \n",
              "4     11.27      8.89     10.22         1.00           NaN        NaN    NaN  \n",
              "5     23.20      2.26      4.22         0.58           NaN        NaN    NaN  \n",
              "6     11.28      9.14      6.50         2.88          89.0        8.5      E  \n",
              "7     13.96      9.18      2.93         2.84          58.0        6.6      E  \n",
              "8     14.44      6.94      4.70         2.24          87.0        8.4      E  \n",
              "9     26.93      0.63      0.28         0.47           NaN        NaN    NaN  "
            ],
            "text/html": [
              "\n",
              "  <div id=\"df-3a5c6ac6-816f-4599-8c3d-8dda925236f3\">\n",
              "    <div class=\"colab-df-container\">\n",
              "      <div>\n",
              "<style scoped>\n",
              "    .dataframe tbody tr th:only-of-type {\n",
              "        vertical-align: middle;\n",
              "    }\n",
              "\n",
              "    .dataframe tbody tr th {\n",
              "        vertical-align: top;\n",
              "    }\n",
              "\n",
              "    .dataframe thead th {\n",
              "        text-align: right;\n",
              "    }\n",
              "</style>\n",
              "<table border=\"1\" class=\"dataframe\">\n",
              "  <thead>\n",
              "    <tr style=\"text-align: right;\">\n",
              "      <th></th>\n",
              "      <th>Name</th>\n",
              "      <th>Platform</th>\n",
              "      <th>Year_of_Release</th>\n",
              "      <th>Genre</th>\n",
              "      <th>NA_sales</th>\n",
              "      <th>EU_sales</th>\n",
              "      <th>JP_sales</th>\n",
              "      <th>Other_sales</th>\n",
              "      <th>Critic_Score</th>\n",
              "      <th>User_Score</th>\n",
              "      <th>Rating</th>\n",
              "    </tr>\n",
              "  </thead>\n",
              "  <tbody>\n",
              "    <tr>\n",
              "      <th>0</th>\n",
              "      <td>Wii Sports</td>\n",
              "      <td>Wii</td>\n",
              "      <td>2006.0</td>\n",
              "      <td>Sports</td>\n",
              "      <td>41.36</td>\n",
              "      <td>28.96</td>\n",
              "      <td>3.77</td>\n",
              "      <td>8.45</td>\n",
              "      <td>76.0</td>\n",
              "      <td>8</td>\n",
              "      <td>E</td>\n",
              "    </tr>\n",
              "    <tr>\n",
              "      <th>1</th>\n",
              "      <td>Super Mario Bros.</td>\n",
              "      <td>NES</td>\n",
              "      <td>1985.0</td>\n",
              "      <td>Platform</td>\n",
              "      <td>29.08</td>\n",
              "      <td>3.58</td>\n",
              "      <td>6.81</td>\n",
              "      <td>0.77</td>\n",
              "      <td>NaN</td>\n",
              "      <td>NaN</td>\n",
              "      <td>NaN</td>\n",
              "    </tr>\n",
              "    <tr>\n",
              "      <th>2</th>\n",
              "      <td>Mario Kart Wii</td>\n",
              "      <td>Wii</td>\n",
              "      <td>2008.0</td>\n",
              "      <td>Racing</td>\n",
              "      <td>15.68</td>\n",
              "      <td>12.76</td>\n",
              "      <td>3.79</td>\n",
              "      <td>3.29</td>\n",
              "      <td>82.0</td>\n",
              "      <td>8.3</td>\n",
              "      <td>E</td>\n",
              "    </tr>\n",
              "    <tr>\n",
              "      <th>3</th>\n",
              "      <td>Wii Sports Resort</td>\n",
              "      <td>Wii</td>\n",
              "      <td>2009.0</td>\n",
              "      <td>Sports</td>\n",
              "      <td>15.61</td>\n",
              "      <td>10.93</td>\n",
              "      <td>3.28</td>\n",
              "      <td>2.95</td>\n",
              "      <td>80.0</td>\n",
              "      <td>8</td>\n",
              "      <td>E</td>\n",
              "    </tr>\n",
              "    <tr>\n",
              "      <th>4</th>\n",
              "      <td>Pokemon Red/Pokemon Blue</td>\n",
              "      <td>GB</td>\n",
              "      <td>1996.0</td>\n",
              "      <td>Role-Playing</td>\n",
              "      <td>11.27</td>\n",
              "      <td>8.89</td>\n",
              "      <td>10.22</td>\n",
              "      <td>1.00</td>\n",
              "      <td>NaN</td>\n",
              "      <td>NaN</td>\n",
              "      <td>NaN</td>\n",
              "    </tr>\n",
              "    <tr>\n",
              "      <th>5</th>\n",
              "      <td>Tetris</td>\n",
              "      <td>GB</td>\n",
              "      <td>1989.0</td>\n",
              "      <td>Puzzle</td>\n",
              "      <td>23.20</td>\n",
              "      <td>2.26</td>\n",
              "      <td>4.22</td>\n",
              "      <td>0.58</td>\n",
              "      <td>NaN</td>\n",
              "      <td>NaN</td>\n",
              "      <td>NaN</td>\n",
              "    </tr>\n",
              "    <tr>\n",
              "      <th>6</th>\n",
              "      <td>New Super Mario Bros.</td>\n",
              "      <td>DS</td>\n",
              "      <td>2006.0</td>\n",
              "      <td>Platform</td>\n",
              "      <td>11.28</td>\n",
              "      <td>9.14</td>\n",
              "      <td>6.50</td>\n",
              "      <td>2.88</td>\n",
              "      <td>89.0</td>\n",
              "      <td>8.5</td>\n",
              "      <td>E</td>\n",
              "    </tr>\n",
              "    <tr>\n",
              "      <th>7</th>\n",
              "      <td>Wii Play</td>\n",
              "      <td>Wii</td>\n",
              "      <td>2006.0</td>\n",
              "      <td>Misc</td>\n",
              "      <td>13.96</td>\n",
              "      <td>9.18</td>\n",
              "      <td>2.93</td>\n",
              "      <td>2.84</td>\n",
              "      <td>58.0</td>\n",
              "      <td>6.6</td>\n",
              "      <td>E</td>\n",
              "    </tr>\n",
              "    <tr>\n",
              "      <th>8</th>\n",
              "      <td>New Super Mario Bros. Wii</td>\n",
              "      <td>Wii</td>\n",
              "      <td>2009.0</td>\n",
              "      <td>Platform</td>\n",
              "      <td>14.44</td>\n",
              "      <td>6.94</td>\n",
              "      <td>4.70</td>\n",
              "      <td>2.24</td>\n",
              "      <td>87.0</td>\n",
              "      <td>8.4</td>\n",
              "      <td>E</td>\n",
              "    </tr>\n",
              "    <tr>\n",
              "      <th>9</th>\n",
              "      <td>Duck Hunt</td>\n",
              "      <td>NES</td>\n",
              "      <td>1984.0</td>\n",
              "      <td>Shooter</td>\n",
              "      <td>26.93</td>\n",
              "      <td>0.63</td>\n",
              "      <td>0.28</td>\n",
              "      <td>0.47</td>\n",
              "      <td>NaN</td>\n",
              "      <td>NaN</td>\n",
              "      <td>NaN</td>\n",
              "    </tr>\n",
              "  </tbody>\n",
              "</table>\n",
              "</div>\n",
              "      <button class=\"colab-df-convert\" onclick=\"convertToInteractive('df-3a5c6ac6-816f-4599-8c3d-8dda925236f3')\"\n",
              "              title=\"Convert this dataframe to an interactive table.\"\n",
              "              style=\"display:none;\">\n",
              "        \n",
              "  <svg xmlns=\"http://www.w3.org/2000/svg\" height=\"24px\"viewBox=\"0 0 24 24\"\n",
              "       width=\"24px\">\n",
              "    <path d=\"M0 0h24v24H0V0z\" fill=\"none\"/>\n",
              "    <path d=\"M18.56 5.44l.94 2.06.94-2.06 2.06-.94-2.06-.94-.94-2.06-.94 2.06-2.06.94zm-11 1L8.5 8.5l.94-2.06 2.06-.94-2.06-.94L8.5 2.5l-.94 2.06-2.06.94zm10 10l.94 2.06.94-2.06 2.06-.94-2.06-.94-.94-2.06-.94 2.06-2.06.94z\"/><path d=\"M17.41 7.96l-1.37-1.37c-.4-.4-.92-.59-1.43-.59-.52 0-1.04.2-1.43.59L10.3 9.45l-7.72 7.72c-.78.78-.78 2.05 0 2.83L4 21.41c.39.39.9.59 1.41.59.51 0 1.02-.2 1.41-.59l7.78-7.78 2.81-2.81c.8-.78.8-2.07 0-2.86zM5.41 20L4 18.59l7.72-7.72 1.47 1.35L5.41 20z\"/>\n",
              "  </svg>\n",
              "      </button>\n",
              "      \n",
              "  <style>\n",
              "    .colab-df-container {\n",
              "      display:flex;\n",
              "      flex-wrap:wrap;\n",
              "      gap: 12px;\n",
              "    }\n",
              "\n",
              "    .colab-df-convert {\n",
              "      background-color: #E8F0FE;\n",
              "      border: none;\n",
              "      border-radius: 50%;\n",
              "      cursor: pointer;\n",
              "      display: none;\n",
              "      fill: #1967D2;\n",
              "      height: 32px;\n",
              "      padding: 0 0 0 0;\n",
              "      width: 32px;\n",
              "    }\n",
              "\n",
              "    .colab-df-convert:hover {\n",
              "      background-color: #E2EBFA;\n",
              "      box-shadow: 0px 1px 2px rgba(60, 64, 67, 0.3), 0px 1px 3px 1px rgba(60, 64, 67, 0.15);\n",
              "      fill: #174EA6;\n",
              "    }\n",
              "\n",
              "    [theme=dark] .colab-df-convert {\n",
              "      background-color: #3B4455;\n",
              "      fill: #D2E3FC;\n",
              "    }\n",
              "\n",
              "    [theme=dark] .colab-df-convert:hover {\n",
              "      background-color: #434B5C;\n",
              "      box-shadow: 0px 1px 3px 1px rgba(0, 0, 0, 0.15);\n",
              "      filter: drop-shadow(0px 1px 2px rgba(0, 0, 0, 0.3));\n",
              "      fill: #FFFFFF;\n",
              "    }\n",
              "  </style>\n",
              "\n",
              "      <script>\n",
              "        const buttonEl =\n",
              "          document.querySelector('#df-3a5c6ac6-816f-4599-8c3d-8dda925236f3 button.colab-df-convert');\n",
              "        buttonEl.style.display =\n",
              "          google.colab.kernel.accessAllowed ? 'block' : 'none';\n",
              "\n",
              "        async function convertToInteractive(key) {\n",
              "          const element = document.querySelector('#df-3a5c6ac6-816f-4599-8c3d-8dda925236f3');\n",
              "          const dataTable =\n",
              "            await google.colab.kernel.invokeFunction('convertToInteractive',\n",
              "                                                     [key], {});\n",
              "          if (!dataTable) return;\n",
              "\n",
              "          const docLinkHtml = 'Like what you see? Visit the ' +\n",
              "            '<a target=\"_blank\" href=https://colab.research.google.com/notebooks/data_table.ipynb>data table notebook</a>'\n",
              "            + ' to learn more about interactive tables.';\n",
              "          element.innerHTML = '';\n",
              "          dataTable['output_type'] = 'display_data';\n",
              "          await google.colab.output.renderOutput(dataTable, element);\n",
              "          const docLink = document.createElement('div');\n",
              "          docLink.innerHTML = docLinkHtml;\n",
              "          element.appendChild(docLink);\n",
              "        }\n",
              "      </script>\n",
              "    </div>\n",
              "  </div>\n",
              "  "
            ]
          },
          "metadata": {},
          "execution_count": 5
        }
      ]
    },
    {
      "cell_type": "markdown",
      "source": [
        "**Описание данных**\n",
        "\n",
        "* Name — название игры\n",
        "* Platform — платформа\n",
        "* Year_of_Release — год выпуска\n",
        "* Genre — жанр игры\n",
        "* NA_sales — продажи в Северной Америке (миллионы проданных копий)\n",
        "* EU_sales — продажи в Европе (миллионы проданных копий)\n",
        "* JP_sales — продажи в Японии (миллионы проданных копий)\n",
        "* Other_sales — продажи в других странах (миллионы проданных копий)\n",
        "* Critic_Score — оценка критиков (максимум 100)\n",
        "* User_Score — оценка пользователей (максимум 10)\n",
        "* Rating — рейтинг от организации ESRB (англ. Entertainment Software Rating\n",
        "Board). Эта ассоциация определяет рейтинг компьютерных игр и присваивает\n",
        "им подходящую возрастную категорию.\n",
        "\n",
        "\n",
        "Получим общую информацию о таблице."
      ],
      "metadata": {
        "id": "RZ5InGWPOt5b"
      }
    },
    {
      "cell_type": "code",
      "source": [
        "df.info()"
      ],
      "metadata": {
        "colab": {
          "base_uri": "https://localhost:8080/"
        },
        "id": "fwWQ0CiVedh4",
        "outputId": "9ce7c326-94ba-4c62-e431-726ac02cc99e"
      },
      "execution_count": 6,
      "outputs": [
        {
          "output_type": "stream",
          "name": "stdout",
          "text": [
            "<class 'pandas.core.frame.DataFrame'>\n",
            "RangeIndex: 16715 entries, 0 to 16714\n",
            "Data columns (total 11 columns):\n",
            " #   Column           Non-Null Count  Dtype  \n",
            "---  ------           --------------  -----  \n",
            " 0   Name             16713 non-null  object \n",
            " 1   Platform         16715 non-null  object \n",
            " 2   Year_of_Release  16446 non-null  float64\n",
            " 3   Genre            16713 non-null  object \n",
            " 4   NA_sales         16715 non-null  float64\n",
            " 5   EU_sales         16715 non-null  float64\n",
            " 6   JP_sales         16715 non-null  float64\n",
            " 7   Other_sales      16715 non-null  float64\n",
            " 8   Critic_Score     8137 non-null   float64\n",
            " 9   User_Score       10014 non-null  object \n",
            " 10  Rating           9949 non-null   object \n",
            "dtypes: float64(6), object(5)\n",
            "memory usage: 1.4+ MB\n"
          ]
        }
      ]
    },
    {
      "cell_type": "markdown",
      "source": [
        "**Первичные выводы**\n",
        "\n",
        "В таблце есть ряд ощибок. Такие как неправильный формат записи названий столбцов, неправильный тип данных и наличие пропусков. \n",
        "\n",
        "Названия столбцов необходимо привести к змеиному геристру со всеми строчными буквами.\n",
        "\n",
        "Типы данных для даты нужно изменить а в другис столбцах необходимо детальное рассмотрение и в случае если такая необходимость будет также изменить.\n",
        "\n",
        "Пропуски в таблице будут рассматриваться детально и где необходимо заполняться подходящими значениями, оставляться без изменений или удаляться.\n"
      ],
      "metadata": {
        "id": "SwdYFn-JPGbF"
      }
    },
    {
      "cell_type": "markdown",
      "source": [
        "--------------------------------------------------------------------------------"
      ],
      "metadata": {
        "id": "FjnCAIFASTNz"
      }
    },
    {
      "cell_type": "markdown",
      "source": [
        "**ПРЕДОБРАБОТКА ДАННЫХ**"
      ],
      "metadata": {
        "id": "xkUsGkpXE4Fm"
      }
    },
    {
      "cell_type": "markdown",
      "source": [
        "Приступим к исправлению ошибок.\n",
        "\n",
        "Изменим регистр в названиях столбцов."
      ],
      "metadata": {
        "id": "Jf87PwuASaEe"
      }
    },
    {
      "cell_type": "code",
      "source": [
        "df.columns = df.columns.str.lower()                                             #изменение регистра на нижний"
      ],
      "metadata": {
        "id": "POEhqc8igzFO"
      },
      "execution_count": 7,
      "outputs": []
    },
    {
      "cell_type": "markdown",
      "source": [
        "Проверим изменения"
      ],
      "metadata": {
        "id": "CiHYuKvMSq4K"
      }
    },
    {
      "cell_type": "code",
      "source": [
        "df.columns                                                                      #вывод названий столбцов"
      ],
      "metadata": {
        "id": "OLGy0r5-hdAU",
        "colab": {
          "base_uri": "https://localhost:8080/"
        },
        "outputId": "2b233fdd-b263-429f-f40a-6d548096f7e4"
      },
      "execution_count": 8,
      "outputs": [
        {
          "output_type": "execute_result",
          "data": {
            "text/plain": [
              "Index(['name', 'platform', 'year_of_release', 'genre', 'na_sales', 'eu_sales',\n",
              "       'jp_sales', 'other_sales', 'critic_score', 'user_score', 'rating'],\n",
              "      dtype='object')"
            ]
          },
          "metadata": {},
          "execution_count": 8
        }
      ]
    },
    {
      "cell_type": "markdown",
      "source": [
        "Приступим к изменению типов данных.\n",
        "\n",
        "Сперва поменяем тип столбца 'year_of_release'. Можно заметить что столбец состоит из года выпуска и можно просто поменять тип на 'int', но в столбце присутствуют пропущенные значения. Поэтому пропуски в столбце и примим решение что с ними делать. Применим сортировку по продажам в Северной Америке."
      ],
      "metadata": {
        "id": "ksqH4loMS5J1"
      }
    },
    {
      "cell_type": "code",
      "source": [
        "df.query('year_of_release.isna()',engine = \"python\").sort_values(by = \"na_sales\",ascending = False)          #срез по пропускам и применение сортировки                "
      ],
      "metadata": {
        "colab": {
          "base_uri": "https://localhost:8080/",
          "height": 554
        },
        "id": "uerP1SJ1ezeP",
        "outputId": "1c76ac3d-3357-47ae-ce95-d336883dcff6"
      },
      "execution_count": 9,
      "outputs": [
        {
          "output_type": "execute_result",
          "data": {
            "text/plain": [
              "                                                    name platform  \\\n",
              "183                                      Madden NFL 2004      PS2   \n",
              "609                                       Space Invaders     2600   \n",
              "657             Frogger's Adventures: Temple of the Frog      GBA   \n",
              "627                                            Rock Band     X360   \n",
              "456                           LEGO Batman: The Videogame      Wii   \n",
              "...                                                  ...      ...   \n",
              "11000                                        Demon Chaos      PS2   \n",
              "10837                                   Egg Monster Hero       DS   \n",
              "15022  Umineko no Naku Koro ni San: Shinjitsu to Gens...      PS3   \n",
              "10764                          Luminous Arc 2 (JP sales)       DS   \n",
              "8364                                Sword of the Samurai      PS2   \n",
              "\n",
              "       year_of_release         genre  na_sales  eu_sales  jp_sales  \\\n",
              "183                NaN        Sports      4.26      0.26      0.01   \n",
              "609                NaN       Shooter      2.36      0.14      0.00   \n",
              "657                NaN     Adventure      2.15      0.18      0.00   \n",
              "627                NaN          Misc      1.93      0.33      0.00   \n",
              "456                NaN        Action      1.80      0.97      0.00   \n",
              "...                ...           ...       ...       ...       ...   \n",
              "11000              NaN        Action      0.00      0.00      0.09   \n",
              "10837              NaN  Role-Playing      0.00      0.00      0.09   \n",
              "15022              NaN     Adventure      0.00      0.00      0.02   \n",
              "10764              NaN  Role-Playing      0.00      0.00      0.10   \n",
              "8364               NaN      Fighting      0.00      0.00      0.17   \n",
              "\n",
              "       other_sales  critic_score user_score rating  \n",
              "183           0.71          94.0        8.5      E  \n",
              "609           0.03           NaN        NaN    NaN  \n",
              "657           0.07          73.0        tbd      E  \n",
              "627           0.21          92.0        8.2      T  \n",
              "456           0.29          74.0        7.9   E10+  \n",
              "...            ...           ...        ...    ...  \n",
              "11000         0.00           NaN        NaN    NaN  \n",
              "10837         0.00           NaN        NaN      E  \n",
              "15022         0.00           NaN        NaN    NaN  \n",
              "10764         0.00           NaN        NaN    NaN  \n",
              "8364          0.00           NaN        NaN    NaN  \n",
              "\n",
              "[269 rows x 11 columns]"
            ],
            "text/html": [
              "\n",
              "  <div id=\"df-495e49c7-fcd3-48ba-b47e-6dcffadce81d\">\n",
              "    <div class=\"colab-df-container\">\n",
              "      <div>\n",
              "<style scoped>\n",
              "    .dataframe tbody tr th:only-of-type {\n",
              "        vertical-align: middle;\n",
              "    }\n",
              "\n",
              "    .dataframe tbody tr th {\n",
              "        vertical-align: top;\n",
              "    }\n",
              "\n",
              "    .dataframe thead th {\n",
              "        text-align: right;\n",
              "    }\n",
              "</style>\n",
              "<table border=\"1\" class=\"dataframe\">\n",
              "  <thead>\n",
              "    <tr style=\"text-align: right;\">\n",
              "      <th></th>\n",
              "      <th>name</th>\n",
              "      <th>platform</th>\n",
              "      <th>year_of_release</th>\n",
              "      <th>genre</th>\n",
              "      <th>na_sales</th>\n",
              "      <th>eu_sales</th>\n",
              "      <th>jp_sales</th>\n",
              "      <th>other_sales</th>\n",
              "      <th>critic_score</th>\n",
              "      <th>user_score</th>\n",
              "      <th>rating</th>\n",
              "    </tr>\n",
              "  </thead>\n",
              "  <tbody>\n",
              "    <tr>\n",
              "      <th>183</th>\n",
              "      <td>Madden NFL 2004</td>\n",
              "      <td>PS2</td>\n",
              "      <td>NaN</td>\n",
              "      <td>Sports</td>\n",
              "      <td>4.26</td>\n",
              "      <td>0.26</td>\n",
              "      <td>0.01</td>\n",
              "      <td>0.71</td>\n",
              "      <td>94.0</td>\n",
              "      <td>8.5</td>\n",
              "      <td>E</td>\n",
              "    </tr>\n",
              "    <tr>\n",
              "      <th>609</th>\n",
              "      <td>Space Invaders</td>\n",
              "      <td>2600</td>\n",
              "      <td>NaN</td>\n",
              "      <td>Shooter</td>\n",
              "      <td>2.36</td>\n",
              "      <td>0.14</td>\n",
              "      <td>0.00</td>\n",
              "      <td>0.03</td>\n",
              "      <td>NaN</td>\n",
              "      <td>NaN</td>\n",
              "      <td>NaN</td>\n",
              "    </tr>\n",
              "    <tr>\n",
              "      <th>657</th>\n",
              "      <td>Frogger's Adventures: Temple of the Frog</td>\n",
              "      <td>GBA</td>\n",
              "      <td>NaN</td>\n",
              "      <td>Adventure</td>\n",
              "      <td>2.15</td>\n",
              "      <td>0.18</td>\n",
              "      <td>0.00</td>\n",
              "      <td>0.07</td>\n",
              "      <td>73.0</td>\n",
              "      <td>tbd</td>\n",
              "      <td>E</td>\n",
              "    </tr>\n",
              "    <tr>\n",
              "      <th>627</th>\n",
              "      <td>Rock Band</td>\n",
              "      <td>X360</td>\n",
              "      <td>NaN</td>\n",
              "      <td>Misc</td>\n",
              "      <td>1.93</td>\n",
              "      <td>0.33</td>\n",
              "      <td>0.00</td>\n",
              "      <td>0.21</td>\n",
              "      <td>92.0</td>\n",
              "      <td>8.2</td>\n",
              "      <td>T</td>\n",
              "    </tr>\n",
              "    <tr>\n",
              "      <th>456</th>\n",
              "      <td>LEGO Batman: The Videogame</td>\n",
              "      <td>Wii</td>\n",
              "      <td>NaN</td>\n",
              "      <td>Action</td>\n",
              "      <td>1.80</td>\n",
              "      <td>0.97</td>\n",
              "      <td>0.00</td>\n",
              "      <td>0.29</td>\n",
              "      <td>74.0</td>\n",
              "      <td>7.9</td>\n",
              "      <td>E10+</td>\n",
              "    </tr>\n",
              "    <tr>\n",
              "      <th>...</th>\n",
              "      <td>...</td>\n",
              "      <td>...</td>\n",
              "      <td>...</td>\n",
              "      <td>...</td>\n",
              "      <td>...</td>\n",
              "      <td>...</td>\n",
              "      <td>...</td>\n",
              "      <td>...</td>\n",
              "      <td>...</td>\n",
              "      <td>...</td>\n",
              "      <td>...</td>\n",
              "    </tr>\n",
              "    <tr>\n",
              "      <th>11000</th>\n",
              "      <td>Demon Chaos</td>\n",
              "      <td>PS2</td>\n",
              "      <td>NaN</td>\n",
              "      <td>Action</td>\n",
              "      <td>0.00</td>\n",
              "      <td>0.00</td>\n",
              "      <td>0.09</td>\n",
              "      <td>0.00</td>\n",
              "      <td>NaN</td>\n",
              "      <td>NaN</td>\n",
              "      <td>NaN</td>\n",
              "    </tr>\n",
              "    <tr>\n",
              "      <th>10837</th>\n",
              "      <td>Egg Monster Hero</td>\n",
              "      <td>DS</td>\n",
              "      <td>NaN</td>\n",
              "      <td>Role-Playing</td>\n",
              "      <td>0.00</td>\n",
              "      <td>0.00</td>\n",
              "      <td>0.09</td>\n",
              "      <td>0.00</td>\n",
              "      <td>NaN</td>\n",
              "      <td>NaN</td>\n",
              "      <td>E</td>\n",
              "    </tr>\n",
              "    <tr>\n",
              "      <th>15022</th>\n",
              "      <td>Umineko no Naku Koro ni San: Shinjitsu to Gens...</td>\n",
              "      <td>PS3</td>\n",
              "      <td>NaN</td>\n",
              "      <td>Adventure</td>\n",
              "      <td>0.00</td>\n",
              "      <td>0.00</td>\n",
              "      <td>0.02</td>\n",
              "      <td>0.00</td>\n",
              "      <td>NaN</td>\n",
              "      <td>NaN</td>\n",
              "      <td>NaN</td>\n",
              "    </tr>\n",
              "    <tr>\n",
              "      <th>10764</th>\n",
              "      <td>Luminous Arc 2 (JP sales)</td>\n",
              "      <td>DS</td>\n",
              "      <td>NaN</td>\n",
              "      <td>Role-Playing</td>\n",
              "      <td>0.00</td>\n",
              "      <td>0.00</td>\n",
              "      <td>0.10</td>\n",
              "      <td>0.00</td>\n",
              "      <td>NaN</td>\n",
              "      <td>NaN</td>\n",
              "      <td>NaN</td>\n",
              "    </tr>\n",
              "    <tr>\n",
              "      <th>8364</th>\n",
              "      <td>Sword of the Samurai</td>\n",
              "      <td>PS2</td>\n",
              "      <td>NaN</td>\n",
              "      <td>Fighting</td>\n",
              "      <td>0.00</td>\n",
              "      <td>0.00</td>\n",
              "      <td>0.17</td>\n",
              "      <td>0.00</td>\n",
              "      <td>NaN</td>\n",
              "      <td>NaN</td>\n",
              "      <td>NaN</td>\n",
              "    </tr>\n",
              "  </tbody>\n",
              "</table>\n",
              "<p>269 rows × 11 columns</p>\n",
              "</div>\n",
              "      <button class=\"colab-df-convert\" onclick=\"convertToInteractive('df-495e49c7-fcd3-48ba-b47e-6dcffadce81d')\"\n",
              "              title=\"Convert this dataframe to an interactive table.\"\n",
              "              style=\"display:none;\">\n",
              "        \n",
              "  <svg xmlns=\"http://www.w3.org/2000/svg\" height=\"24px\"viewBox=\"0 0 24 24\"\n",
              "       width=\"24px\">\n",
              "    <path d=\"M0 0h24v24H0V0z\" fill=\"none\"/>\n",
              "    <path d=\"M18.56 5.44l.94 2.06.94-2.06 2.06-.94-2.06-.94-.94-2.06-.94 2.06-2.06.94zm-11 1L8.5 8.5l.94-2.06 2.06-.94-2.06-.94L8.5 2.5l-.94 2.06-2.06.94zm10 10l.94 2.06.94-2.06 2.06-.94-2.06-.94-.94-2.06-.94 2.06-2.06.94z\"/><path d=\"M17.41 7.96l-1.37-1.37c-.4-.4-.92-.59-1.43-.59-.52 0-1.04.2-1.43.59L10.3 9.45l-7.72 7.72c-.78.78-.78 2.05 0 2.83L4 21.41c.39.39.9.59 1.41.59.51 0 1.02-.2 1.41-.59l7.78-7.78 2.81-2.81c.8-.78.8-2.07 0-2.86zM5.41 20L4 18.59l7.72-7.72 1.47 1.35L5.41 20z\"/>\n",
              "  </svg>\n",
              "      </button>\n",
              "      \n",
              "  <style>\n",
              "    .colab-df-container {\n",
              "      display:flex;\n",
              "      flex-wrap:wrap;\n",
              "      gap: 12px;\n",
              "    }\n",
              "\n",
              "    .colab-df-convert {\n",
              "      background-color: #E8F0FE;\n",
              "      border: none;\n",
              "      border-radius: 50%;\n",
              "      cursor: pointer;\n",
              "      display: none;\n",
              "      fill: #1967D2;\n",
              "      height: 32px;\n",
              "      padding: 0 0 0 0;\n",
              "      width: 32px;\n",
              "    }\n",
              "\n",
              "    .colab-df-convert:hover {\n",
              "      background-color: #E2EBFA;\n",
              "      box-shadow: 0px 1px 2px rgba(60, 64, 67, 0.3), 0px 1px 3px 1px rgba(60, 64, 67, 0.15);\n",
              "      fill: #174EA6;\n",
              "    }\n",
              "\n",
              "    [theme=dark] .colab-df-convert {\n",
              "      background-color: #3B4455;\n",
              "      fill: #D2E3FC;\n",
              "    }\n",
              "\n",
              "    [theme=dark] .colab-df-convert:hover {\n",
              "      background-color: #434B5C;\n",
              "      box-shadow: 0px 1px 3px 1px rgba(0, 0, 0, 0.15);\n",
              "      filter: drop-shadow(0px 1px 2px rgba(0, 0, 0, 0.3));\n",
              "      fill: #FFFFFF;\n",
              "    }\n",
              "  </style>\n",
              "\n",
              "      <script>\n",
              "        const buttonEl =\n",
              "          document.querySelector('#df-495e49c7-fcd3-48ba-b47e-6dcffadce81d button.colab-df-convert');\n",
              "        buttonEl.style.display =\n",
              "          google.colab.kernel.accessAllowed ? 'block' : 'none';\n",
              "\n",
              "        async function convertToInteractive(key) {\n",
              "          const element = document.querySelector('#df-495e49c7-fcd3-48ba-b47e-6dcffadce81d');\n",
              "          const dataTable =\n",
              "            await google.colab.kernel.invokeFunction('convertToInteractive',\n",
              "                                                     [key], {});\n",
              "          if (!dataTable) return;\n",
              "\n",
              "          const docLinkHtml = 'Like what you see? Visit the ' +\n",
              "            '<a target=\"_blank\" href=https://colab.research.google.com/notebooks/data_table.ipynb>data table notebook</a>'\n",
              "            + ' to learn more about interactive tables.';\n",
              "          element.innerHTML = '';\n",
              "          dataTable['output_type'] = 'display_data';\n",
              "          await google.colab.output.renderOutput(dataTable, element);\n",
              "          const docLink = document.createElement('div');\n",
              "          docLink.innerHTML = docLinkHtml;\n",
              "          element.appendChild(docLink);\n",
              "        }\n",
              "      </script>\n",
              "    </div>\n",
              "  </div>\n",
              "  "
            ]
          },
          "metadata": {},
          "execution_count": 9
        }
      ]
    },
    {
      "cell_type": "markdown",
      "source": [
        "Видим что игры которые указаны без года выпуска имеют очень малое количество продаж по всему миру, а в некоторых присутствуют пропуски по рейтингу.\n",
        "Ввиду того что такие данные не информативны и по ним трудно делать какие-то выводы можно их удалить.\n",
        "\n",
        "Удалим пропуски в столбце 'year_of_release' и изменим тип."
      ],
      "metadata": {
        "id": "uEq0ml75hNy3"
      }
    },
    {
      "cell_type": "code",
      "source": [
        "df = df.dropna(subset = [\"year_of_release\"]).copy()                                                                     #удаление пропусков\n",
        "df.year_of_release = df.year_of_release.astype(int)                                                                     #изменение типа данных"
      ],
      "metadata": {
        "id": "3ycD4GtOhwng"
      },
      "execution_count": 10,
      "outputs": []
    },
    {
      "cell_type": "markdown",
      "source": [
        "Для столбцов с объёмом продаж по всем регионам тип данных 'float' допустим. Его изменять не будем.\n",
        "\n",
        "Обработаем столбцы 'critic_score', 'user_score' и 'rating'.\n",
        "Выведем на экран пропуски в столбце 'critic_score'."
      ],
      "metadata": {
        "id": "wHDO_8LwludP"
      }
    },
    {
      "cell_type": "code",
      "source": [
        "df.query(\"critic_score.isna()\",engine = \"python\")                                                                       #срез по пропускам"
      ],
      "metadata": {
        "colab": {
          "base_uri": "https://localhost:8080/",
          "height": 502
        },
        "id": "PXinbOfQSlF-",
        "outputId": "8a3bc868-de41-4181-b0f4-bcf202926493"
      },
      "execution_count": 11,
      "outputs": [
        {
          "output_type": "execute_result",
          "data": {
            "text/plain": [
              "                                name platform  year_of_release         genre  \\\n",
              "1                  Super Mario Bros.      NES             1985      Platform   \n",
              "4           Pokemon Red/Pokemon Blue       GB             1996  Role-Playing   \n",
              "5                             Tetris       GB             1989        Puzzle   \n",
              "9                          Duck Hunt      NES             1984       Shooter   \n",
              "10                        Nintendogs       DS             2005    Simulation   \n",
              "...                              ...      ...              ...           ...   \n",
              "16710  Samurai Warriors: Sanada Maru      PS3             2016        Action   \n",
              "16711               LMA Manager 2007     X360             2006        Sports   \n",
              "16712        Haitaka no Psychedelica      PSV             2016     Adventure   \n",
              "16713               Spirits & Spells      GBA             2003      Platform   \n",
              "16714            Winning Post 8 2016      PSV             2016    Simulation   \n",
              "\n",
              "       na_sales  eu_sales  jp_sales  other_sales  critic_score user_score  \\\n",
              "1         29.08      3.58      6.81         0.77           NaN        NaN   \n",
              "4         11.27      8.89     10.22         1.00           NaN        NaN   \n",
              "5         23.20      2.26      4.22         0.58           NaN        NaN   \n",
              "9         26.93      0.63      0.28         0.47           NaN        NaN   \n",
              "10         9.05     10.95      1.93         2.74           NaN        NaN   \n",
              "...         ...       ...       ...          ...           ...        ...   \n",
              "16710      0.00      0.00      0.01         0.00           NaN        NaN   \n",
              "16711      0.00      0.01      0.00         0.00           NaN        NaN   \n",
              "16712      0.00      0.00      0.01         0.00           NaN        NaN   \n",
              "16713      0.01      0.00      0.00         0.00           NaN        NaN   \n",
              "16714      0.00      0.00      0.01         0.00           NaN        NaN   \n",
              "\n",
              "      rating  \n",
              "1        NaN  \n",
              "4        NaN  \n",
              "5        NaN  \n",
              "9        NaN  \n",
              "10       NaN  \n",
              "...      ...  \n",
              "16710    NaN  \n",
              "16711    NaN  \n",
              "16712    NaN  \n",
              "16713    NaN  \n",
              "16714    NaN  \n",
              "\n",
              "[8463 rows x 11 columns]"
            ],
            "text/html": [
              "\n",
              "  <div id=\"df-d7f4b16d-556a-438d-8466-b8226898123b\">\n",
              "    <div class=\"colab-df-container\">\n",
              "      <div>\n",
              "<style scoped>\n",
              "    .dataframe tbody tr th:only-of-type {\n",
              "        vertical-align: middle;\n",
              "    }\n",
              "\n",
              "    .dataframe tbody tr th {\n",
              "        vertical-align: top;\n",
              "    }\n",
              "\n",
              "    .dataframe thead th {\n",
              "        text-align: right;\n",
              "    }\n",
              "</style>\n",
              "<table border=\"1\" class=\"dataframe\">\n",
              "  <thead>\n",
              "    <tr style=\"text-align: right;\">\n",
              "      <th></th>\n",
              "      <th>name</th>\n",
              "      <th>platform</th>\n",
              "      <th>year_of_release</th>\n",
              "      <th>genre</th>\n",
              "      <th>na_sales</th>\n",
              "      <th>eu_sales</th>\n",
              "      <th>jp_sales</th>\n",
              "      <th>other_sales</th>\n",
              "      <th>critic_score</th>\n",
              "      <th>user_score</th>\n",
              "      <th>rating</th>\n",
              "    </tr>\n",
              "  </thead>\n",
              "  <tbody>\n",
              "    <tr>\n",
              "      <th>1</th>\n",
              "      <td>Super Mario Bros.</td>\n",
              "      <td>NES</td>\n",
              "      <td>1985</td>\n",
              "      <td>Platform</td>\n",
              "      <td>29.08</td>\n",
              "      <td>3.58</td>\n",
              "      <td>6.81</td>\n",
              "      <td>0.77</td>\n",
              "      <td>NaN</td>\n",
              "      <td>NaN</td>\n",
              "      <td>NaN</td>\n",
              "    </tr>\n",
              "    <tr>\n",
              "      <th>4</th>\n",
              "      <td>Pokemon Red/Pokemon Blue</td>\n",
              "      <td>GB</td>\n",
              "      <td>1996</td>\n",
              "      <td>Role-Playing</td>\n",
              "      <td>11.27</td>\n",
              "      <td>8.89</td>\n",
              "      <td>10.22</td>\n",
              "      <td>1.00</td>\n",
              "      <td>NaN</td>\n",
              "      <td>NaN</td>\n",
              "      <td>NaN</td>\n",
              "    </tr>\n",
              "    <tr>\n",
              "      <th>5</th>\n",
              "      <td>Tetris</td>\n",
              "      <td>GB</td>\n",
              "      <td>1989</td>\n",
              "      <td>Puzzle</td>\n",
              "      <td>23.20</td>\n",
              "      <td>2.26</td>\n",
              "      <td>4.22</td>\n",
              "      <td>0.58</td>\n",
              "      <td>NaN</td>\n",
              "      <td>NaN</td>\n",
              "      <td>NaN</td>\n",
              "    </tr>\n",
              "    <tr>\n",
              "      <th>9</th>\n",
              "      <td>Duck Hunt</td>\n",
              "      <td>NES</td>\n",
              "      <td>1984</td>\n",
              "      <td>Shooter</td>\n",
              "      <td>26.93</td>\n",
              "      <td>0.63</td>\n",
              "      <td>0.28</td>\n",
              "      <td>0.47</td>\n",
              "      <td>NaN</td>\n",
              "      <td>NaN</td>\n",
              "      <td>NaN</td>\n",
              "    </tr>\n",
              "    <tr>\n",
              "      <th>10</th>\n",
              "      <td>Nintendogs</td>\n",
              "      <td>DS</td>\n",
              "      <td>2005</td>\n",
              "      <td>Simulation</td>\n",
              "      <td>9.05</td>\n",
              "      <td>10.95</td>\n",
              "      <td>1.93</td>\n",
              "      <td>2.74</td>\n",
              "      <td>NaN</td>\n",
              "      <td>NaN</td>\n",
              "      <td>NaN</td>\n",
              "    </tr>\n",
              "    <tr>\n",
              "      <th>...</th>\n",
              "      <td>...</td>\n",
              "      <td>...</td>\n",
              "      <td>...</td>\n",
              "      <td>...</td>\n",
              "      <td>...</td>\n",
              "      <td>...</td>\n",
              "      <td>...</td>\n",
              "      <td>...</td>\n",
              "      <td>...</td>\n",
              "      <td>...</td>\n",
              "      <td>...</td>\n",
              "    </tr>\n",
              "    <tr>\n",
              "      <th>16710</th>\n",
              "      <td>Samurai Warriors: Sanada Maru</td>\n",
              "      <td>PS3</td>\n",
              "      <td>2016</td>\n",
              "      <td>Action</td>\n",
              "      <td>0.00</td>\n",
              "      <td>0.00</td>\n",
              "      <td>0.01</td>\n",
              "      <td>0.00</td>\n",
              "      <td>NaN</td>\n",
              "      <td>NaN</td>\n",
              "      <td>NaN</td>\n",
              "    </tr>\n",
              "    <tr>\n",
              "      <th>16711</th>\n",
              "      <td>LMA Manager 2007</td>\n",
              "      <td>X360</td>\n",
              "      <td>2006</td>\n",
              "      <td>Sports</td>\n",
              "      <td>0.00</td>\n",
              "      <td>0.01</td>\n",
              "      <td>0.00</td>\n",
              "      <td>0.00</td>\n",
              "      <td>NaN</td>\n",
              "      <td>NaN</td>\n",
              "      <td>NaN</td>\n",
              "    </tr>\n",
              "    <tr>\n",
              "      <th>16712</th>\n",
              "      <td>Haitaka no Psychedelica</td>\n",
              "      <td>PSV</td>\n",
              "      <td>2016</td>\n",
              "      <td>Adventure</td>\n",
              "      <td>0.00</td>\n",
              "      <td>0.00</td>\n",
              "      <td>0.01</td>\n",
              "      <td>0.00</td>\n",
              "      <td>NaN</td>\n",
              "      <td>NaN</td>\n",
              "      <td>NaN</td>\n",
              "    </tr>\n",
              "    <tr>\n",
              "      <th>16713</th>\n",
              "      <td>Spirits &amp; Spells</td>\n",
              "      <td>GBA</td>\n",
              "      <td>2003</td>\n",
              "      <td>Platform</td>\n",
              "      <td>0.01</td>\n",
              "      <td>0.00</td>\n",
              "      <td>0.00</td>\n",
              "      <td>0.00</td>\n",
              "      <td>NaN</td>\n",
              "      <td>NaN</td>\n",
              "      <td>NaN</td>\n",
              "    </tr>\n",
              "    <tr>\n",
              "      <th>16714</th>\n",
              "      <td>Winning Post 8 2016</td>\n",
              "      <td>PSV</td>\n",
              "      <td>2016</td>\n",
              "      <td>Simulation</td>\n",
              "      <td>0.00</td>\n",
              "      <td>0.00</td>\n",
              "      <td>0.01</td>\n",
              "      <td>0.00</td>\n",
              "      <td>NaN</td>\n",
              "      <td>NaN</td>\n",
              "      <td>NaN</td>\n",
              "    </tr>\n",
              "  </tbody>\n",
              "</table>\n",
              "<p>8463 rows × 11 columns</p>\n",
              "</div>\n",
              "      <button class=\"colab-df-convert\" onclick=\"convertToInteractive('df-d7f4b16d-556a-438d-8466-b8226898123b')\"\n",
              "              title=\"Convert this dataframe to an interactive table.\"\n",
              "              style=\"display:none;\">\n",
              "        \n",
              "  <svg xmlns=\"http://www.w3.org/2000/svg\" height=\"24px\"viewBox=\"0 0 24 24\"\n",
              "       width=\"24px\">\n",
              "    <path d=\"M0 0h24v24H0V0z\" fill=\"none\"/>\n",
              "    <path d=\"M18.56 5.44l.94 2.06.94-2.06 2.06-.94-2.06-.94-.94-2.06-.94 2.06-2.06.94zm-11 1L8.5 8.5l.94-2.06 2.06-.94-2.06-.94L8.5 2.5l-.94 2.06-2.06.94zm10 10l.94 2.06.94-2.06 2.06-.94-2.06-.94-.94-2.06-.94 2.06-2.06.94z\"/><path d=\"M17.41 7.96l-1.37-1.37c-.4-.4-.92-.59-1.43-.59-.52 0-1.04.2-1.43.59L10.3 9.45l-7.72 7.72c-.78.78-.78 2.05 0 2.83L4 21.41c.39.39.9.59 1.41.59.51 0 1.02-.2 1.41-.59l7.78-7.78 2.81-2.81c.8-.78.8-2.07 0-2.86zM5.41 20L4 18.59l7.72-7.72 1.47 1.35L5.41 20z\"/>\n",
              "  </svg>\n",
              "      </button>\n",
              "      \n",
              "  <style>\n",
              "    .colab-df-container {\n",
              "      display:flex;\n",
              "      flex-wrap:wrap;\n",
              "      gap: 12px;\n",
              "    }\n",
              "\n",
              "    .colab-df-convert {\n",
              "      background-color: #E8F0FE;\n",
              "      border: none;\n",
              "      border-radius: 50%;\n",
              "      cursor: pointer;\n",
              "      display: none;\n",
              "      fill: #1967D2;\n",
              "      height: 32px;\n",
              "      padding: 0 0 0 0;\n",
              "      width: 32px;\n",
              "    }\n",
              "\n",
              "    .colab-df-convert:hover {\n",
              "      background-color: #E2EBFA;\n",
              "      box-shadow: 0px 1px 2px rgba(60, 64, 67, 0.3), 0px 1px 3px 1px rgba(60, 64, 67, 0.15);\n",
              "      fill: #174EA6;\n",
              "    }\n",
              "\n",
              "    [theme=dark] .colab-df-convert {\n",
              "      background-color: #3B4455;\n",
              "      fill: #D2E3FC;\n",
              "    }\n",
              "\n",
              "    [theme=dark] .colab-df-convert:hover {\n",
              "      background-color: #434B5C;\n",
              "      box-shadow: 0px 1px 3px 1px rgba(0, 0, 0, 0.15);\n",
              "      filter: drop-shadow(0px 1px 2px rgba(0, 0, 0, 0.3));\n",
              "      fill: #FFFFFF;\n",
              "    }\n",
              "  </style>\n",
              "\n",
              "      <script>\n",
              "        const buttonEl =\n",
              "          document.querySelector('#df-d7f4b16d-556a-438d-8466-b8226898123b button.colab-df-convert');\n",
              "        buttonEl.style.display =\n",
              "          google.colab.kernel.accessAllowed ? 'block' : 'none';\n",
              "\n",
              "        async function convertToInteractive(key) {\n",
              "          const element = document.querySelector('#df-d7f4b16d-556a-438d-8466-b8226898123b');\n",
              "          const dataTable =\n",
              "            await google.colab.kernel.invokeFunction('convertToInteractive',\n",
              "                                                     [key], {});\n",
              "          if (!dataTable) return;\n",
              "\n",
              "          const docLinkHtml = 'Like what you see? Visit the ' +\n",
              "            '<a target=\"_blank\" href=https://colab.research.google.com/notebooks/data_table.ipynb>data table notebook</a>'\n",
              "            + ' to learn more about interactive tables.';\n",
              "          element.innerHTML = '';\n",
              "          dataTable['output_type'] = 'display_data';\n",
              "          await google.colab.output.renderOutput(dataTable, element);\n",
              "          const docLink = document.createElement('div');\n",
              "          docLink.innerHTML = docLinkHtml;\n",
              "          element.appendChild(docLink);\n",
              "        }\n",
              "      </script>\n",
              "    </div>\n",
              "  </div>\n",
              "  "
            ]
          },
          "metadata": {},
          "execution_count": 11
        }
      ]
    },
    {
      "cell_type": "markdown",
      "source": [
        "Видим что в строках с пропусками в столбце 'critic_score' имеются пропуски в столбцах 'user_score' и 'rating', а также можно заметить что продажи по большенству игр не превышают миллиона копий.\n",
        "\n",
        "Несмотря на то что строк с пропусками больше 8 тысяч такие данные не следует удалить, из-за того что они могут дать количественную информацию по некоторым вопросам. Но и заменять проауски медианным или средним значением не логично,потому отталкиваясь от других показателей пропуск будет не объективен.\n",
        "\n",
        "Для заполнения пропуска поставим 'заглушку' и в случае ответа на вопросы которые будут затрагивать данные из этих столбцов, просто не будем принимать их в расчёт.\n",
        "\n",
        "-1 будет означать 'заглушку' для 'user_score' и 'critic_score', а 'Unknown' для 'rating'.\n",
        "\n",
        " "
      ],
      "metadata": {
        "id": "35RRKEK2ZtgD"
      }
    },
    {
      "cell_type": "code",
      "source": [
        "df[\"critic_score\"] = df[\"critic_score\"].fillna(-1)  \n",
        "df[\"user_score\"] = df[\"user_score\"].fillna(-1)    \n",
        "df[\"rating\"] = df[\"rating\"].fillna(\"Unknown\")                                                                                               #заполнение пропусков"
      ],
      "metadata": {
        "id": "kWCJ04MGlu3E"
      },
      "execution_count": 12,
      "outputs": []
    },
    {
      "cell_type": "markdown",
      "source": [
        "Проверим столбец 'user_score'.\n",
        "\n",
        "Выведем уникальные значения на экран."
      ],
      "metadata": {
        "id": "Lo062jvk8bzl"
      }
    },
    {
      "cell_type": "code",
      "source": [
        "df.user_score.unique()                                                                                               #вывод уникальных значений"
      ],
      "metadata": {
        "colab": {
          "base_uri": "https://localhost:8080/"
        },
        "id": "O_TfWSb39vNq",
        "outputId": "fdb601bd-fa10-458e-c0ad-5916b753f729"
      },
      "execution_count": 13,
      "outputs": [
        {
          "output_type": "execute_result",
          "data": {
            "text/plain": [
              "array(['8', -1, '8.3', '8.5', '6.6', '8.4', '8.6', '7.7', '6.3', '7.4',\n",
              "       '8.2', '9', '7.9', '8.1', '8.7', '7.1', '3.4', '5.3', '4.8', '3.2',\n",
              "       '8.9', '6.4', '7.8', '7.5', '2.6', '7.2', '9.2', '7', '7.3', '4.3',\n",
              "       '7.6', '5.7', '5', '9.1', '6.5', 'tbd', '8.8', '6.9', '9.4', '6.8',\n",
              "       '6.1', '6.7', '5.4', '4', '4.9', '4.5', '9.3', '6.2', '4.2', '6',\n",
              "       '3.7', '4.1', '5.8', '5.6', '5.5', '4.4', '4.6', '5.9', '3.9',\n",
              "       '3.1', '2.9', '5.2', '3.3', '4.7', '5.1', '3.5', '2.5', '1.9', '3',\n",
              "       '2.7', '2.2', '2', '9.5', '2.1', '3.6', '2.8', '1.8', '3.8', '0',\n",
              "       '1.6', '9.6', '2.4', '1.7', '1.1', '0.3', '1.5', '0.7', '1.2',\n",
              "       '2.3', '0.5', '1.3', '0.2', '0.6', '1.4', '0.9', '1', '9.7'],\n",
              "      dtype=object)"
            ]
          },
          "metadata": {},
          "execution_count": 13
        }
      ]
    },
    {
      "cell_type": "markdown",
      "source": [
        "В этом столбце содержатся значения типа 'object', но данные вида 'float'.\n",
        "\n",
        "В столбце имеются строки со значением 'tbd', что приводит к неправильному формату. Предположим что 'tbd' это аббревиатура 'too bad'.\n",
        "\n",
        "Выведем все строки с 'tbd'."
      ],
      "metadata": {
        "id": "pYxjHhLt97nd"
      }
    },
    {
      "cell_type": "code",
      "source": [
        "df.query('user_score == \"tbd\"')                                                                                        #срез данных по значению 'tbd'"
      ],
      "metadata": {
        "colab": {
          "base_uri": "https://localhost:8080/",
          "height": 502
        },
        "id": "NKNMyuQl_ydH",
        "outputId": "c2aaeaf8-35a9-46c0-ff25-215e099866be"
      },
      "execution_count": 14,
      "outputs": [
        {
          "output_type": "execute_result",
          "data": {
            "text/plain": [
              "                                 name platform  year_of_release       genre  \\\n",
              "119                     Zumba Fitness      Wii             2010      Sports   \n",
              "301    Namco Museum: 50th Anniversary      PS2             2005        Misc   \n",
              "520                   Zumba Fitness 2      Wii             2011      Sports   \n",
              "645                      uDraw Studio      Wii             2010        Misc   \n",
              "718                   Just Dance Kids      Wii             2010        Misc   \n",
              "...                               ...      ...              ...         ...   \n",
              "16695                 Planet Monsters      GBA             2001      Action   \n",
              "16697                Bust-A-Move 3000       GC             2003      Puzzle   \n",
              "16698                Mega Brain Boost       DS             2008      Puzzle   \n",
              "16704                        Plushees       DS             2008  Simulation   \n",
              "16706   Men in Black II: Alien Escape       GC             2003     Shooter   \n",
              "\n",
              "       na_sales  eu_sales  jp_sales  other_sales  critic_score user_score  \\\n",
              "119        3.45      2.59       0.0         0.66          -1.0        tbd   \n",
              "301        2.08      1.35       0.0         0.54          61.0        tbd   \n",
              "520        1.51      1.03       0.0         0.27          -1.0        tbd   \n",
              "645        1.65      0.57       0.0         0.20          71.0        tbd   \n",
              "718        1.52      0.54       0.0         0.18          -1.0        tbd   \n",
              "...         ...       ...       ...          ...           ...        ...   \n",
              "16695      0.01      0.00       0.0         0.00          67.0        tbd   \n",
              "16697      0.01      0.00       0.0         0.00          53.0        tbd   \n",
              "16698      0.01      0.00       0.0         0.00          48.0        tbd   \n",
              "16704      0.01      0.00       0.0         0.00          -1.0        tbd   \n",
              "16706      0.01      0.00       0.0         0.00          -1.0        tbd   \n",
              "\n",
              "      rating  \n",
              "119        E  \n",
              "301     E10+  \n",
              "520        T  \n",
              "645        E  \n",
              "718        E  \n",
              "...      ...  \n",
              "16695      E  \n",
              "16697      E  \n",
              "16698      E  \n",
              "16704      E  \n",
              "16706      T  \n",
              "\n",
              "[2376 rows x 11 columns]"
            ],
            "text/html": [
              "\n",
              "  <div id=\"df-ee3ae26a-eca4-4946-9b35-b90481316554\">\n",
              "    <div class=\"colab-df-container\">\n",
              "      <div>\n",
              "<style scoped>\n",
              "    .dataframe tbody tr th:only-of-type {\n",
              "        vertical-align: middle;\n",
              "    }\n",
              "\n",
              "    .dataframe tbody tr th {\n",
              "        vertical-align: top;\n",
              "    }\n",
              "\n",
              "    .dataframe thead th {\n",
              "        text-align: right;\n",
              "    }\n",
              "</style>\n",
              "<table border=\"1\" class=\"dataframe\">\n",
              "  <thead>\n",
              "    <tr style=\"text-align: right;\">\n",
              "      <th></th>\n",
              "      <th>name</th>\n",
              "      <th>platform</th>\n",
              "      <th>year_of_release</th>\n",
              "      <th>genre</th>\n",
              "      <th>na_sales</th>\n",
              "      <th>eu_sales</th>\n",
              "      <th>jp_sales</th>\n",
              "      <th>other_sales</th>\n",
              "      <th>critic_score</th>\n",
              "      <th>user_score</th>\n",
              "      <th>rating</th>\n",
              "    </tr>\n",
              "  </thead>\n",
              "  <tbody>\n",
              "    <tr>\n",
              "      <th>119</th>\n",
              "      <td>Zumba Fitness</td>\n",
              "      <td>Wii</td>\n",
              "      <td>2010</td>\n",
              "      <td>Sports</td>\n",
              "      <td>3.45</td>\n",
              "      <td>2.59</td>\n",
              "      <td>0.0</td>\n",
              "      <td>0.66</td>\n",
              "      <td>-1.0</td>\n",
              "      <td>tbd</td>\n",
              "      <td>E</td>\n",
              "    </tr>\n",
              "    <tr>\n",
              "      <th>301</th>\n",
              "      <td>Namco Museum: 50th Anniversary</td>\n",
              "      <td>PS2</td>\n",
              "      <td>2005</td>\n",
              "      <td>Misc</td>\n",
              "      <td>2.08</td>\n",
              "      <td>1.35</td>\n",
              "      <td>0.0</td>\n",
              "      <td>0.54</td>\n",
              "      <td>61.0</td>\n",
              "      <td>tbd</td>\n",
              "      <td>E10+</td>\n",
              "    </tr>\n",
              "    <tr>\n",
              "      <th>520</th>\n",
              "      <td>Zumba Fitness 2</td>\n",
              "      <td>Wii</td>\n",
              "      <td>2011</td>\n",
              "      <td>Sports</td>\n",
              "      <td>1.51</td>\n",
              "      <td>1.03</td>\n",
              "      <td>0.0</td>\n",
              "      <td>0.27</td>\n",
              "      <td>-1.0</td>\n",
              "      <td>tbd</td>\n",
              "      <td>T</td>\n",
              "    </tr>\n",
              "    <tr>\n",
              "      <th>645</th>\n",
              "      <td>uDraw Studio</td>\n",
              "      <td>Wii</td>\n",
              "      <td>2010</td>\n",
              "      <td>Misc</td>\n",
              "      <td>1.65</td>\n",
              "      <td>0.57</td>\n",
              "      <td>0.0</td>\n",
              "      <td>0.20</td>\n",
              "      <td>71.0</td>\n",
              "      <td>tbd</td>\n",
              "      <td>E</td>\n",
              "    </tr>\n",
              "    <tr>\n",
              "      <th>718</th>\n",
              "      <td>Just Dance Kids</td>\n",
              "      <td>Wii</td>\n",
              "      <td>2010</td>\n",
              "      <td>Misc</td>\n",
              "      <td>1.52</td>\n",
              "      <td>0.54</td>\n",
              "      <td>0.0</td>\n",
              "      <td>0.18</td>\n",
              "      <td>-1.0</td>\n",
              "      <td>tbd</td>\n",
              "      <td>E</td>\n",
              "    </tr>\n",
              "    <tr>\n",
              "      <th>...</th>\n",
              "      <td>...</td>\n",
              "      <td>...</td>\n",
              "      <td>...</td>\n",
              "      <td>...</td>\n",
              "      <td>...</td>\n",
              "      <td>...</td>\n",
              "      <td>...</td>\n",
              "      <td>...</td>\n",
              "      <td>...</td>\n",
              "      <td>...</td>\n",
              "      <td>...</td>\n",
              "    </tr>\n",
              "    <tr>\n",
              "      <th>16695</th>\n",
              "      <td>Planet Monsters</td>\n",
              "      <td>GBA</td>\n",
              "      <td>2001</td>\n",
              "      <td>Action</td>\n",
              "      <td>0.01</td>\n",
              "      <td>0.00</td>\n",
              "      <td>0.0</td>\n",
              "      <td>0.00</td>\n",
              "      <td>67.0</td>\n",
              "      <td>tbd</td>\n",
              "      <td>E</td>\n",
              "    </tr>\n",
              "    <tr>\n",
              "      <th>16697</th>\n",
              "      <td>Bust-A-Move 3000</td>\n",
              "      <td>GC</td>\n",
              "      <td>2003</td>\n",
              "      <td>Puzzle</td>\n",
              "      <td>0.01</td>\n",
              "      <td>0.00</td>\n",
              "      <td>0.0</td>\n",
              "      <td>0.00</td>\n",
              "      <td>53.0</td>\n",
              "      <td>tbd</td>\n",
              "      <td>E</td>\n",
              "    </tr>\n",
              "    <tr>\n",
              "      <th>16698</th>\n",
              "      <td>Mega Brain Boost</td>\n",
              "      <td>DS</td>\n",
              "      <td>2008</td>\n",
              "      <td>Puzzle</td>\n",
              "      <td>0.01</td>\n",
              "      <td>0.00</td>\n",
              "      <td>0.0</td>\n",
              "      <td>0.00</td>\n",
              "      <td>48.0</td>\n",
              "      <td>tbd</td>\n",
              "      <td>E</td>\n",
              "    </tr>\n",
              "    <tr>\n",
              "      <th>16704</th>\n",
              "      <td>Plushees</td>\n",
              "      <td>DS</td>\n",
              "      <td>2008</td>\n",
              "      <td>Simulation</td>\n",
              "      <td>0.01</td>\n",
              "      <td>0.00</td>\n",
              "      <td>0.0</td>\n",
              "      <td>0.00</td>\n",
              "      <td>-1.0</td>\n",
              "      <td>tbd</td>\n",
              "      <td>E</td>\n",
              "    </tr>\n",
              "    <tr>\n",
              "      <th>16706</th>\n",
              "      <td>Men in Black II: Alien Escape</td>\n",
              "      <td>GC</td>\n",
              "      <td>2003</td>\n",
              "      <td>Shooter</td>\n",
              "      <td>0.01</td>\n",
              "      <td>0.00</td>\n",
              "      <td>0.0</td>\n",
              "      <td>0.00</td>\n",
              "      <td>-1.0</td>\n",
              "      <td>tbd</td>\n",
              "      <td>T</td>\n",
              "    </tr>\n",
              "  </tbody>\n",
              "</table>\n",
              "<p>2376 rows × 11 columns</p>\n",
              "</div>\n",
              "      <button class=\"colab-df-convert\" onclick=\"convertToInteractive('df-ee3ae26a-eca4-4946-9b35-b90481316554')\"\n",
              "              title=\"Convert this dataframe to an interactive table.\"\n",
              "              style=\"display:none;\">\n",
              "        \n",
              "  <svg xmlns=\"http://www.w3.org/2000/svg\" height=\"24px\"viewBox=\"0 0 24 24\"\n",
              "       width=\"24px\">\n",
              "    <path d=\"M0 0h24v24H0V0z\" fill=\"none\"/>\n",
              "    <path d=\"M18.56 5.44l.94 2.06.94-2.06 2.06-.94-2.06-.94-.94-2.06-.94 2.06-2.06.94zm-11 1L8.5 8.5l.94-2.06 2.06-.94-2.06-.94L8.5 2.5l-.94 2.06-2.06.94zm10 10l.94 2.06.94-2.06 2.06-.94-2.06-.94-.94-2.06-.94 2.06-2.06.94z\"/><path d=\"M17.41 7.96l-1.37-1.37c-.4-.4-.92-.59-1.43-.59-.52 0-1.04.2-1.43.59L10.3 9.45l-7.72 7.72c-.78.78-.78 2.05 0 2.83L4 21.41c.39.39.9.59 1.41.59.51 0 1.02-.2 1.41-.59l7.78-7.78 2.81-2.81c.8-.78.8-2.07 0-2.86zM5.41 20L4 18.59l7.72-7.72 1.47 1.35L5.41 20z\"/>\n",
              "  </svg>\n",
              "      </button>\n",
              "      \n",
              "  <style>\n",
              "    .colab-df-container {\n",
              "      display:flex;\n",
              "      flex-wrap:wrap;\n",
              "      gap: 12px;\n",
              "    }\n",
              "\n",
              "    .colab-df-convert {\n",
              "      background-color: #E8F0FE;\n",
              "      border: none;\n",
              "      border-radius: 50%;\n",
              "      cursor: pointer;\n",
              "      display: none;\n",
              "      fill: #1967D2;\n",
              "      height: 32px;\n",
              "      padding: 0 0 0 0;\n",
              "      width: 32px;\n",
              "    }\n",
              "\n",
              "    .colab-df-convert:hover {\n",
              "      background-color: #E2EBFA;\n",
              "      box-shadow: 0px 1px 2px rgba(60, 64, 67, 0.3), 0px 1px 3px 1px rgba(60, 64, 67, 0.15);\n",
              "      fill: #174EA6;\n",
              "    }\n",
              "\n",
              "    [theme=dark] .colab-df-convert {\n",
              "      background-color: #3B4455;\n",
              "      fill: #D2E3FC;\n",
              "    }\n",
              "\n",
              "    [theme=dark] .colab-df-convert:hover {\n",
              "      background-color: #434B5C;\n",
              "      box-shadow: 0px 1px 3px 1px rgba(0, 0, 0, 0.15);\n",
              "      filter: drop-shadow(0px 1px 2px rgba(0, 0, 0, 0.3));\n",
              "      fill: #FFFFFF;\n",
              "    }\n",
              "  </style>\n",
              "\n",
              "      <script>\n",
              "        const buttonEl =\n",
              "          document.querySelector('#df-ee3ae26a-eca4-4946-9b35-b90481316554 button.colab-df-convert');\n",
              "        buttonEl.style.display =\n",
              "          google.colab.kernel.accessAllowed ? 'block' : 'none';\n",
              "\n",
              "        async function convertToInteractive(key) {\n",
              "          const element = document.querySelector('#df-ee3ae26a-eca4-4946-9b35-b90481316554');\n",
              "          const dataTable =\n",
              "            await google.colab.kernel.invokeFunction('convertToInteractive',\n",
              "                                                     [key], {});\n",
              "          if (!dataTable) return;\n",
              "\n",
              "          const docLinkHtml = 'Like what you see? Visit the ' +\n",
              "            '<a target=\"_blank\" href=https://colab.research.google.com/notebooks/data_table.ipynb>data table notebook</a>'\n",
              "            + ' to learn more about interactive tables.';\n",
              "          element.innerHTML = '';\n",
              "          dataTable['output_type'] = 'display_data';\n",
              "          await google.colab.output.renderOutput(dataTable, element);\n",
              "          const docLink = document.createElement('div');\n",
              "          docLink.innerHTML = docLinkHtml;\n",
              "          element.appendChild(docLink);\n",
              "        }\n",
              "      </script>\n",
              "    </div>\n",
              "  </div>\n",
              "  "
            ]
          },
          "metadata": {},
          "execution_count": 14
        }
      ]
    },
    {
      "cell_type": "markdown",
      "source": [
        "Из данных видно что показатели по продажам крайне малы. Значение 'tbd' можно перевести в значение '0', а затем поменять данные на тип 'float'.\n"
      ],
      "metadata": {
        "id": "YwcyY0GNpMSg"
      }
    },
    {
      "cell_type": "code",
      "source": [
        "df.user_score = df.user_score.replace(\"tbd\",\"0\")                                                                     #изменения значения на 0\n",
        "df.user_score = pd.to_numeric(df.user_score)                                                                         #изменение типа данных"
      ],
      "metadata": {
        "id": "9WxD3Ioc2yeQ"
      },
      "execution_count": 15,
      "outputs": []
    },
    {
      "cell_type": "markdown",
      "source": [
        "Проверим изменения."
      ],
      "metadata": {
        "id": "M7pAGZli2xiL"
      }
    },
    {
      "cell_type": "code",
      "source": [
        "df.user_score.unique()                                                                                               #вывод уникальных значений"
      ],
      "metadata": {
        "colab": {
          "base_uri": "https://localhost:8080/"
        },
        "id": "izdcKgJhA5FG",
        "outputId": "15700a8a-227c-492a-de44-a08dbdce18dd"
      },
      "execution_count": 16,
      "outputs": [
        {
          "output_type": "execute_result",
          "data": {
            "text/plain": [
              "array([ 8. , -1. ,  8.3,  8.5,  6.6,  8.4,  8.6,  7.7,  6.3,  7.4,  8.2,\n",
              "        9. ,  7.9,  8.1,  8.7,  7.1,  3.4,  5.3,  4.8,  3.2,  8.9,  6.4,\n",
              "        7.8,  7.5,  2.6,  7.2,  9.2,  7. ,  7.3,  4.3,  7.6,  5.7,  5. ,\n",
              "        9.1,  6.5,  0. ,  8.8,  6.9,  9.4,  6.8,  6.1,  6.7,  5.4,  4. ,\n",
              "        4.9,  4.5,  9.3,  6.2,  4.2,  6. ,  3.7,  4.1,  5.8,  5.6,  5.5,\n",
              "        4.4,  4.6,  5.9,  3.9,  3.1,  2.9,  5.2,  3.3,  4.7,  5.1,  3.5,\n",
              "        2.5,  1.9,  3. ,  2.7,  2.2,  2. ,  9.5,  2.1,  3.6,  2.8,  1.8,\n",
              "        3.8,  1.6,  9.6,  2.4,  1.7,  1.1,  0.3,  1.5,  0.7,  1.2,  2.3,\n",
              "        0.5,  1.3,  0.2,  0.6,  1.4,  0.9,  1. ,  9.7])"
            ]
          },
          "metadata": {},
          "execution_count": 16
        }
      ]
    },
    {
      "cell_type": "markdown",
      "source": [
        "Подсчитаем суммарные продажи во всех регионах и сохраним в отдельный столбец 'total_sales'."
      ],
      "metadata": {
        "id": "6UFfmLzICT7X"
      }
    },
    {
      "cell_type": "code",
      "source": [
        "df[\"global_sales\"] = df.na_sales + df.eu_sales + df.jp_sales + df.other_sales                                        #добавление столбца"
      ],
      "metadata": {
        "id": "NpEYmif0DB57"
      },
      "execution_count": 17,
      "outputs": []
    },
    {
      "cell_type": "markdown",
      "source": [
        "Выведем на экран таблицу."
      ],
      "metadata": {
        "id": "1bPWKnfcDZOC"
      }
    },
    {
      "cell_type": "code",
      "source": [
        "df.head()                                                                                                            #вывод таблицы на экран"
      ],
      "metadata": {
        "colab": {
          "base_uri": "https://localhost:8080/",
          "height": 319
        },
        "id": "2zzdZIC9DfWo",
        "outputId": "d79ba018-f922-412c-e667-e70462b1b8ff"
      },
      "execution_count": 18,
      "outputs": [
        {
          "output_type": "execute_result",
          "data": {
            "text/plain": [
              "                       name platform  year_of_release         genre  na_sales  \\\n",
              "0                Wii Sports      Wii             2006        Sports     41.36   \n",
              "1         Super Mario Bros.      NES             1985      Platform     29.08   \n",
              "2            Mario Kart Wii      Wii             2008        Racing     15.68   \n",
              "3         Wii Sports Resort      Wii             2009        Sports     15.61   \n",
              "4  Pokemon Red/Pokemon Blue       GB             1996  Role-Playing     11.27   \n",
              "\n",
              "   eu_sales  jp_sales  other_sales  critic_score  user_score   rating  \\\n",
              "0     28.96      3.77         8.45          76.0         8.0        E   \n",
              "1      3.58      6.81         0.77          -1.0        -1.0  Unknown   \n",
              "2     12.76      3.79         3.29          82.0         8.3        E   \n",
              "3     10.93      3.28         2.95          80.0         8.0        E   \n",
              "4      8.89     10.22         1.00          -1.0        -1.0  Unknown   \n",
              "\n",
              "   global_sales  \n",
              "0         82.54  \n",
              "1         40.24  \n",
              "2         35.52  \n",
              "3         32.77  \n",
              "4         31.38  "
            ],
            "text/html": [
              "\n",
              "  <div id=\"df-7e469f98-e7ac-4143-b530-18a041855dca\">\n",
              "    <div class=\"colab-df-container\">\n",
              "      <div>\n",
              "<style scoped>\n",
              "    .dataframe tbody tr th:only-of-type {\n",
              "        vertical-align: middle;\n",
              "    }\n",
              "\n",
              "    .dataframe tbody tr th {\n",
              "        vertical-align: top;\n",
              "    }\n",
              "\n",
              "    .dataframe thead th {\n",
              "        text-align: right;\n",
              "    }\n",
              "</style>\n",
              "<table border=\"1\" class=\"dataframe\">\n",
              "  <thead>\n",
              "    <tr style=\"text-align: right;\">\n",
              "      <th></th>\n",
              "      <th>name</th>\n",
              "      <th>platform</th>\n",
              "      <th>year_of_release</th>\n",
              "      <th>genre</th>\n",
              "      <th>na_sales</th>\n",
              "      <th>eu_sales</th>\n",
              "      <th>jp_sales</th>\n",
              "      <th>other_sales</th>\n",
              "      <th>critic_score</th>\n",
              "      <th>user_score</th>\n",
              "      <th>rating</th>\n",
              "      <th>global_sales</th>\n",
              "    </tr>\n",
              "  </thead>\n",
              "  <tbody>\n",
              "    <tr>\n",
              "      <th>0</th>\n",
              "      <td>Wii Sports</td>\n",
              "      <td>Wii</td>\n",
              "      <td>2006</td>\n",
              "      <td>Sports</td>\n",
              "      <td>41.36</td>\n",
              "      <td>28.96</td>\n",
              "      <td>3.77</td>\n",
              "      <td>8.45</td>\n",
              "      <td>76.0</td>\n",
              "      <td>8.0</td>\n",
              "      <td>E</td>\n",
              "      <td>82.54</td>\n",
              "    </tr>\n",
              "    <tr>\n",
              "      <th>1</th>\n",
              "      <td>Super Mario Bros.</td>\n",
              "      <td>NES</td>\n",
              "      <td>1985</td>\n",
              "      <td>Platform</td>\n",
              "      <td>29.08</td>\n",
              "      <td>3.58</td>\n",
              "      <td>6.81</td>\n",
              "      <td>0.77</td>\n",
              "      <td>-1.0</td>\n",
              "      <td>-1.0</td>\n",
              "      <td>Unknown</td>\n",
              "      <td>40.24</td>\n",
              "    </tr>\n",
              "    <tr>\n",
              "      <th>2</th>\n",
              "      <td>Mario Kart Wii</td>\n",
              "      <td>Wii</td>\n",
              "      <td>2008</td>\n",
              "      <td>Racing</td>\n",
              "      <td>15.68</td>\n",
              "      <td>12.76</td>\n",
              "      <td>3.79</td>\n",
              "      <td>3.29</td>\n",
              "      <td>82.0</td>\n",
              "      <td>8.3</td>\n",
              "      <td>E</td>\n",
              "      <td>35.52</td>\n",
              "    </tr>\n",
              "    <tr>\n",
              "      <th>3</th>\n",
              "      <td>Wii Sports Resort</td>\n",
              "      <td>Wii</td>\n",
              "      <td>2009</td>\n",
              "      <td>Sports</td>\n",
              "      <td>15.61</td>\n",
              "      <td>10.93</td>\n",
              "      <td>3.28</td>\n",
              "      <td>2.95</td>\n",
              "      <td>80.0</td>\n",
              "      <td>8.0</td>\n",
              "      <td>E</td>\n",
              "      <td>32.77</td>\n",
              "    </tr>\n",
              "    <tr>\n",
              "      <th>4</th>\n",
              "      <td>Pokemon Red/Pokemon Blue</td>\n",
              "      <td>GB</td>\n",
              "      <td>1996</td>\n",
              "      <td>Role-Playing</td>\n",
              "      <td>11.27</td>\n",
              "      <td>8.89</td>\n",
              "      <td>10.22</td>\n",
              "      <td>1.00</td>\n",
              "      <td>-1.0</td>\n",
              "      <td>-1.0</td>\n",
              "      <td>Unknown</td>\n",
              "      <td>31.38</td>\n",
              "    </tr>\n",
              "  </tbody>\n",
              "</table>\n",
              "</div>\n",
              "      <button class=\"colab-df-convert\" onclick=\"convertToInteractive('df-7e469f98-e7ac-4143-b530-18a041855dca')\"\n",
              "              title=\"Convert this dataframe to an interactive table.\"\n",
              "              style=\"display:none;\">\n",
              "        \n",
              "  <svg xmlns=\"http://www.w3.org/2000/svg\" height=\"24px\"viewBox=\"0 0 24 24\"\n",
              "       width=\"24px\">\n",
              "    <path d=\"M0 0h24v24H0V0z\" fill=\"none\"/>\n",
              "    <path d=\"M18.56 5.44l.94 2.06.94-2.06 2.06-.94-2.06-.94-.94-2.06-.94 2.06-2.06.94zm-11 1L8.5 8.5l.94-2.06 2.06-.94-2.06-.94L8.5 2.5l-.94 2.06-2.06.94zm10 10l.94 2.06.94-2.06 2.06-.94-2.06-.94-.94-2.06-.94 2.06-2.06.94z\"/><path d=\"M17.41 7.96l-1.37-1.37c-.4-.4-.92-.59-1.43-.59-.52 0-1.04.2-1.43.59L10.3 9.45l-7.72 7.72c-.78.78-.78 2.05 0 2.83L4 21.41c.39.39.9.59 1.41.59.51 0 1.02-.2 1.41-.59l7.78-7.78 2.81-2.81c.8-.78.8-2.07 0-2.86zM5.41 20L4 18.59l7.72-7.72 1.47 1.35L5.41 20z\"/>\n",
              "  </svg>\n",
              "      </button>\n",
              "      \n",
              "  <style>\n",
              "    .colab-df-container {\n",
              "      display:flex;\n",
              "      flex-wrap:wrap;\n",
              "      gap: 12px;\n",
              "    }\n",
              "\n",
              "    .colab-df-convert {\n",
              "      background-color: #E8F0FE;\n",
              "      border: none;\n",
              "      border-radius: 50%;\n",
              "      cursor: pointer;\n",
              "      display: none;\n",
              "      fill: #1967D2;\n",
              "      height: 32px;\n",
              "      padding: 0 0 0 0;\n",
              "      width: 32px;\n",
              "    }\n",
              "\n",
              "    .colab-df-convert:hover {\n",
              "      background-color: #E2EBFA;\n",
              "      box-shadow: 0px 1px 2px rgba(60, 64, 67, 0.3), 0px 1px 3px 1px rgba(60, 64, 67, 0.15);\n",
              "      fill: #174EA6;\n",
              "    }\n",
              "\n",
              "    [theme=dark] .colab-df-convert {\n",
              "      background-color: #3B4455;\n",
              "      fill: #D2E3FC;\n",
              "    }\n",
              "\n",
              "    [theme=dark] .colab-df-convert:hover {\n",
              "      background-color: #434B5C;\n",
              "      box-shadow: 0px 1px 3px 1px rgba(0, 0, 0, 0.15);\n",
              "      filter: drop-shadow(0px 1px 2px rgba(0, 0, 0, 0.3));\n",
              "      fill: #FFFFFF;\n",
              "    }\n",
              "  </style>\n",
              "\n",
              "      <script>\n",
              "        const buttonEl =\n",
              "          document.querySelector('#df-7e469f98-e7ac-4143-b530-18a041855dca button.colab-df-convert');\n",
              "        buttonEl.style.display =\n",
              "          google.colab.kernel.accessAllowed ? 'block' : 'none';\n",
              "\n",
              "        async function convertToInteractive(key) {\n",
              "          const element = document.querySelector('#df-7e469f98-e7ac-4143-b530-18a041855dca');\n",
              "          const dataTable =\n",
              "            await google.colab.kernel.invokeFunction('convertToInteractive',\n",
              "                                                     [key], {});\n",
              "          if (!dataTable) return;\n",
              "\n",
              "          const docLinkHtml = 'Like what you see? Visit the ' +\n",
              "            '<a target=\"_blank\" href=https://colab.research.google.com/notebooks/data_table.ipynb>data table notebook</a>'\n",
              "            + ' to learn more about interactive tables.';\n",
              "          element.innerHTML = '';\n",
              "          dataTable['output_type'] = 'display_data';\n",
              "          await google.colab.output.renderOutput(dataTable, element);\n",
              "          const docLink = document.createElement('div');\n",
              "          docLink.innerHTML = docLinkHtml;\n",
              "          element.appendChild(docLink);\n",
              "        }\n",
              "      </script>\n",
              "    </div>\n",
              "  </div>\n",
              "  "
            ]
          },
          "metadata": {},
          "execution_count": 18
        }
      ]
    },
    {
      "cell_type": "markdown",
      "source": [
        "**Вывод**\n",
        "\n",
        "Обработанный датафрейм в первую очередь имел неправильный регистр в названиях столбцов.\n",
        "\n",
        "Также присутствует наличие пропусков в столбцах рейтинга игр. Такие пропуски были оставлены с применнение 'заглушки'. Их образование указывает на изначальную невозможность оценить игру. Такими причинами может быть то что игры продавались малым тиражом и их просто напросто не оценивали,либо из-зи года выпуска игры. Старые игры не были доступны большенству людей и о них просто не знали, поэтому невозможно было дать объективную оценку.\n",
        "\n",
        "Были изменены типы данных в столбцах 'year_of_release' и 'user_score'.\n",
        "В 'user_score' было обработана аббревиатура 'tbd' обозначающая низкий рейтинг игры.\n",
        "\n",
        "Произведён подсчёт продаж каждой игры по всему миру."
      ],
      "metadata": {
        "id": "LXkeQ98P70Yw"
      }
    },
    {
      "cell_type": "markdown",
      "source": [
        "--------------------------------------------------------------------------------"
      ],
      "metadata": {
        "id": "Dy--C7j5EBlL"
      }
    },
    {
      "cell_type": "markdown",
      "source": [
        "**ИССЛЕДОВАТЕЛЬСКИЙ АНАЛИЗ ДАННЫХ**"
      ],
      "metadata": {
        "id": "aABYe1A0Epq-"
      }
    },
    {
      "cell_type": "markdown",
      "source": [
        "**Посмотрите, сколько игр выпускалось в разные годы. Важны ли данные за все\n",
        "периоды?**"
      ],
      "metadata": {
        "id": "D_NRL7IEFCcZ"
      }
    },
    {
      "cell_type": "markdown",
      "source": [
        "Построим гистограмму выпуска игр по годам."
      ],
      "metadata": {
        "id": "s896WiyQFZLZ"
      }
    },
    {
      "cell_type": "code",
      "source": [
        "df.year_of_release.hist(bins = 22, figsize = (6,4), range = (1990, 2016))                                                                     #постройка гистограммы"
      ],
      "metadata": {
        "id": "kzK0WXDvmIIT",
        "colab": {
          "base_uri": "https://localhost:8080/",
          "height": 282
        },
        "outputId": "6e05f2c2-087b-4513-fc0a-c6d237ee1334"
      },
      "execution_count": 19,
      "outputs": [
        {
          "output_type": "execute_result",
          "data": {
            "text/plain": [
              "<matplotlib.axes._subplots.AxesSubplot at 0x7f7baa93acd0>"
            ]
          },
          "metadata": {},
          "execution_count": 19
        },
        {
          "output_type": "display_data",
          "data": {
            "text/plain": [
              "<Figure size 432x288 with 1 Axes>"
            ],
            "image/png": "[encoded data removed]"
          },
          "metadata": {
            "needs_background": "light"
          }
        }
      ]
    },
    {
      "cell_type": "markdown",
      "source": [
        "Из гистограммы видно что активный рост происходит с начала 1995 года и по 2008 год. Но для построения прогнозов на 2017 год такой период не подходит поэтому лучше ориентироваться на ближайшие года с 2012 - 2016г."
      ],
      "metadata": {
        "id": "I3qtEYNQJs89"
      }
    },
    {
      "cell_type": "markdown",
      "source": [
        "**Посмотрите, как менялись продажи по платформам. Выберите платформы с\n",
        "наибольшими суммарными продажами и постройте распределение по годам.\n",
        "За какой характерный срок появляются новые и исчезают старые платформы?**"
      ],
      "metadata": {
        "id": "2YQGp-iXLX84"
      }
    },
    {
      "cell_type": "markdown",
      "source": [
        "Найдём платформы с наибольшими продажами."
      ],
      "metadata": {
        "id": "dta__aw73Zyl"
      }
    },
    {
      "cell_type": "code",
      "source": [
        "df.groupby(\"platform\")[\"global_sales\"].sum().sort_values(ascending = False)                                             #сортировка платформ по продажам\n"
      ],
      "metadata": {
        "colab": {
          "base_uri": "https://localhost:8080/"
        },
        "id": "LmtoW57PtujC",
        "outputId": "086b5f7f-5753-4657-902b-5624b2ee6db0"
      },
      "execution_count": 20,
      "outputs": [
        {
          "output_type": "execute_result",
          "data": {
            "text/plain": [
              "platform\n",
              "PS2     1233.56\n",
              "X360     961.24\n",
              "PS3      931.34\n",
              "Wii      891.18\n",
              "DS       802.78\n",
              "PS       727.58\n",
              "PS4      314.14\n",
              "GBA      312.88\n",
              "PSP      289.53\n",
              "3DS      257.81\n",
              "PC       255.76\n",
              "GB       254.43\n",
              "XB       251.57\n",
              "NES      251.05\n",
              "N64      218.01\n",
              "SNES     200.04\n",
              "GC       196.73\n",
              "XOne     159.32\n",
              "2600      86.48\n",
              "WiiU      82.19\n",
              "PSV       53.81\n",
              "SAT       33.59\n",
              "GEN       30.77\n",
              "DC        15.95\n",
              "SCD        1.86\n",
              "NG         1.44\n",
              "WS         1.42\n",
              "TG16       0.16\n",
              "3DO        0.10\n",
              "GG         0.04\n",
              "PCFX       0.03\n",
              "Name: global_sales, dtype: float64"
            ]
          },
          "metadata": {},
          "execution_count": 20
        }
      ]
    },
    {
      "cell_type": "markdown",
      "source": [
        "Возьмём первые 4 и постром столбиковую диаграмму."
      ],
      "metadata": {
        "id": "V2ji40f7341n"
      }
    },
    {
      "cell_type": "code",
      "source": [
        "platforms = df.groupby(\"platform\")[\"global_sales\"].sum().sort_values(ascending = False).head(4).index.values                                    #спиcок из платформ"
      ],
      "metadata": {
        "id": "8s-sq0VNwvGI"
      },
      "execution_count": 21,
      "outputs": []
    },
    {
      "cell_type": "code",
      "source": [
        "platforms_df = df.pivot_table(index = \"year_of_release\", columns = \"platform\",values = \"global_sales\", aggfunc = sum)                          #построение сводной таблицы"
      ],
      "metadata": {
        "id": "TFhaqYFtIuJg"
      },
      "execution_count": 22,
      "outputs": []
    },
    {
      "cell_type": "code",
      "source": [
        "platforms_df.plot(y = platforms, kind = \"bar\", figsize = (15,10))                                                                         #вывод столбиковой диаграммы"
      ],
      "metadata": {
        "colab": {
          "base_uri": "https://localhost:8080/",
          "height": 639
        },
        "id": "SAuVJ1VAR5ub",
        "outputId": "cf2beadc-fb16-45af-face-7b84026f6848"
      },
      "execution_count": 23,
      "outputs": [
        {
          "output_type": "execute_result",
          "data": {
            "text/plain": [
              "<matplotlib.axes._subplots.AxesSubplot at 0x7f7bab1e56d0>"
            ]
          },
          "metadata": {},
          "execution_count": 23
        },
        {
          "output_type": "display_data",
          "data": {
            "text/plain": [
              "<Figure size 1080x720 with 1 Axes>"
            ],
            "image/png": "[encoded data removed]"
          },
          "metadata": {
            "needs_background": "light"
          }
        }
      ]
    },
    {
      "cell_type": "markdown",
      "source": [
        "Для 4 платформ можно заметить одинаковые особенности.\n",
        "\n",
        "Из диаграмм видно что скорость появления таких платформ примерно год.\n",
        "Время существования(популярности) от 3-5 лет,  а потом в течении 3-4 лет использование платформы прекращается."
      ],
      "metadata": {
        "id": "E5Ld-T684tGS"
      }
    },
    {
      "cell_type": "markdown",
      "source": [
        "**Возьмите данные за соответствующий актуальный период. Актуальный\n",
        "период определите самостоятельно в результате исследования предыдущих\n",
        "вопросов. Основной фактор — эти данные помогут построить прогноз на 2017\n",
        "год.**"
      ],
      "metadata": {
        "id": "I5pJ2_dHh124"
      }
    },
    {
      "cell_type": "markdown",
      "source": [
        "Для построения прогноза на 2017 год необходимы данные примерно за 4 прошедших года. По таким данным можно определить набирающую популярность платформу и примерный срок ее существования.\n",
        "\n",
        "Сохраним в переменную данные с 2012 года.\n",
        "Выведем таблицу на экран."
      ],
      "metadata": {
        "id": "JVUNPTcx_df_"
      }
    },
    {
      "cell_type": "code",
      "source": [
        "topical_df = df.query('year_of_release >= 2011')                                                                             #срез по году\n",
        "topical_df                                                                                                                   #вывод таблицы"
      ],
      "metadata": {
        "colab": {
          "base_uri": "https://localhost:8080/",
          "height": 730
        },
        "id": "8VKVtTWsh75h",
        "outputId": "1dd9cfa5-6f35-4866-f55f-1c0e4ed78868"
      },
      "execution_count": 24,
      "outputs": [
        {
          "output_type": "execute_result",
          "data": {
            "text/plain": [
              "                                 name platform  year_of_release         genre  \\\n",
              "16                 Grand Theft Auto V      PS3             2013        Action   \n",
              "23                 Grand Theft Auto V     X360             2013        Action   \n",
              "29     Call of Duty: Modern Warfare 3     X360             2011       Shooter   \n",
              "31          Call of Duty: Black Ops 3      PS4             2015       Shooter   \n",
              "33                Pokemon X/Pokemon Y      3DS             2013  Role-Playing   \n",
              "...                               ...      ...              ...           ...   \n",
              "16703                Strawberry Nauts      PSV             2016     Adventure   \n",
              "16707                Aiyoku no Eustia      PSV             2014          Misc   \n",
              "16710   Samurai Warriors: Sanada Maru      PS3             2016        Action   \n",
              "16712         Haitaka no Psychedelica      PSV             2016     Adventure   \n",
              "16714             Winning Post 8 2016      PSV             2016    Simulation   \n",
              "\n",
              "       na_sales  eu_sales  jp_sales  other_sales  critic_score  user_score  \\\n",
              "16         7.02      9.09      0.98         3.96          97.0         8.2   \n",
              "23         9.66      5.14      0.06         1.41          97.0         8.1   \n",
              "29         9.04      4.24      0.13         1.32          88.0         3.4   \n",
              "31         6.03      5.86      0.36         2.38          -1.0        -1.0   \n",
              "33         5.28      4.19      4.35         0.78          -1.0        -1.0   \n",
              "...         ...       ...       ...          ...           ...         ...   \n",
              "16703      0.00      0.00      0.01         0.00          -1.0        -1.0   \n",
              "16707      0.00      0.00      0.01         0.00          -1.0        -1.0   \n",
              "16710      0.00      0.00      0.01         0.00          -1.0        -1.0   \n",
              "16712      0.00      0.00      0.01         0.00          -1.0        -1.0   \n",
              "16714      0.00      0.00      0.01         0.00          -1.0        -1.0   \n",
              "\n",
              "        rating  global_sales  \n",
              "16           M         21.05  \n",
              "23           M         16.27  \n",
              "29           M         14.73  \n",
              "31     Unknown         14.63  \n",
              "33     Unknown         14.60  \n",
              "...        ...           ...  \n",
              "16703  Unknown          0.01  \n",
              "16707  Unknown          0.01  \n",
              "16710  Unknown          0.01  \n",
              "16712  Unknown          0.01  \n",
              "16714  Unknown          0.01  \n",
              "\n",
              "[4022 rows x 12 columns]"
            ],
            "text/html": [
              "\n",
              "  <div id=\"df-4b7d14fd-701c-40bc-8a56-98b8f0085845\">\n",
              "    <div class=\"colab-df-container\">\n",
              "      <div>\n",
              "<style scoped>\n",
              "    .dataframe tbody tr th:only-of-type {\n",
              "        vertical-align: middle;\n",
              "    }\n",
              "\n",
              "    .dataframe tbody tr th {\n",
              "        vertical-align: top;\n",
              "    }\n",
              "\n",
              "    .dataframe thead th {\n",
              "        text-align: right;\n",
              "    }\n",
              "</style>\n",
              "<table border=\"1\" class=\"dataframe\">\n",
              "  <thead>\n",
              "    <tr style=\"text-align: right;\">\n",
              "      <th></th>\n",
              "      <th>name</th>\n",
              "      <th>platform</th>\n",
              "      <th>year_of_release</th>\n",
              "      <th>genre</th>\n",
              "      <th>na_sales</th>\n",
              "      <th>eu_sales</th>\n",
              "      <th>jp_sales</th>\n",
              "      <th>other_sales</th>\n",
              "      <th>critic_score</th>\n",
              "      <th>user_score</th>\n",
              "      <th>rating</th>\n",
              "      <th>global_sales</th>\n",
              "    </tr>\n",
              "  </thead>\n",
              "  <tbody>\n",
              "    <tr>\n",
              "      <th>16</th>\n",
              "      <td>Grand Theft Auto V</td>\n",
              "      <td>PS3</td>\n",
              "      <td>2013</td>\n",
              "      <td>Action</td>\n",
              "      <td>7.02</td>\n",
              "      <td>9.09</td>\n",
              "      <td>0.98</td>\n",
              "      <td>3.96</td>\n",
              "      <td>97.0</td>\n",
              "      <td>8.2</td>\n",
              "      <td>M</td>\n",
              "      <td>21.05</td>\n",
              "    </tr>\n",
              "    <tr>\n",
              "      <th>23</th>\n",
              "      <td>Grand Theft Auto V</td>\n",
              "      <td>X360</td>\n",
              "      <td>2013</td>\n",
              "      <td>Action</td>\n",
              "      <td>9.66</td>\n",
              "      <td>5.14</td>\n",
              "      <td>0.06</td>\n",
              "      <td>1.41</td>\n",
              "      <td>97.0</td>\n",
              "      <td>8.1</td>\n",
              "      <td>M</td>\n",
              "      <td>16.27</td>\n",
              "    </tr>\n",
              "    <tr>\n",
              "      <th>29</th>\n",
              "      <td>Call of Duty: Modern Warfare 3</td>\n",
              "      <td>X360</td>\n",
              "      <td>2011</td>\n",
              "      <td>Shooter</td>\n",
              "      <td>9.04</td>\n",
              "      <td>4.24</td>\n",
              "      <td>0.13</td>\n",
              "      <td>1.32</td>\n",
              "      <td>88.0</td>\n",
              "      <td>3.4</td>\n",
              "      <td>M</td>\n",
              "      <td>14.73</td>\n",
              "    </tr>\n",
              "    <tr>\n",
              "      <th>31</th>\n",
              "      <td>Call of Duty: Black Ops 3</td>\n",
              "      <td>PS4</td>\n",
              "      <td>2015</td>\n",
              "      <td>Shooter</td>\n",
              "      <td>6.03</td>\n",
              "      <td>5.86</td>\n",
              "      <td>0.36</td>\n",
              "      <td>2.38</td>\n",
              "      <td>-1.0</td>\n",
              "      <td>-1.0</td>\n",
              "      <td>Unknown</td>\n",
              "      <td>14.63</td>\n",
              "    </tr>\n",
              "    <tr>\n",
              "      <th>33</th>\n",
              "      <td>Pokemon X/Pokemon Y</td>\n",
              "      <td>3DS</td>\n",
              "      <td>2013</td>\n",
              "      <td>Role-Playing</td>\n",
              "      <td>5.28</td>\n",
              "      <td>4.19</td>\n",
              "      <td>4.35</td>\n",
              "      <td>0.78</td>\n",
              "      <td>-1.0</td>\n",
              "      <td>-1.0</td>\n",
              "      <td>Unknown</td>\n",
              "      <td>14.60</td>\n",
              "    </tr>\n",
              "    <tr>\n",
              "      <th>...</th>\n",
              "      <td>...</td>\n",
              "      <td>...</td>\n",
              "      <td>...</td>\n",
              "      <td>...</td>\n",
              "      <td>...</td>\n",
              "      <td>...</td>\n",
              "      <td>...</td>\n",
              "      <td>...</td>\n",
              "      <td>...</td>\n",
              "      <td>...</td>\n",
              "      <td>...</td>\n",
              "      <td>...</td>\n",
              "    </tr>\n",
              "    <tr>\n",
              "      <th>16703</th>\n",
              "      <td>Strawberry Nauts</td>\n",
              "      <td>PSV</td>\n",
              "      <td>2016</td>\n",
              "      <td>Adventure</td>\n",
              "      <td>0.00</td>\n",
              "      <td>0.00</td>\n",
              "      <td>0.01</td>\n",
              "      <td>0.00</td>\n",
              "      <td>-1.0</td>\n",
              "      <td>-1.0</td>\n",
              "      <td>Unknown</td>\n",
              "      <td>0.01</td>\n",
              "    </tr>\n",
              "    <tr>\n",
              "      <th>16707</th>\n",
              "      <td>Aiyoku no Eustia</td>\n",
              "      <td>PSV</td>\n",
              "      <td>2014</td>\n",
              "      <td>Misc</td>\n",
              "      <td>0.00</td>\n",
              "      <td>0.00</td>\n",
              "      <td>0.01</td>\n",
              "      <td>0.00</td>\n",
              "      <td>-1.0</td>\n",
              "      <td>-1.0</td>\n",
              "      <td>Unknown</td>\n",
              "      <td>0.01</td>\n",
              "    </tr>\n",
              "    <tr>\n",
              "      <th>16710</th>\n",
              "      <td>Samurai Warriors: Sanada Maru</td>\n",
              "      <td>PS3</td>\n",
              "      <td>2016</td>\n",
              "      <td>Action</td>\n",
              "      <td>0.00</td>\n",
              "      <td>0.00</td>\n",
              "      <td>0.01</td>\n",
              "      <td>0.00</td>\n",
              "      <td>-1.0</td>\n",
              "      <td>-1.0</td>\n",
              "      <td>Unknown</td>\n",
              "      <td>0.01</td>\n",
              "    </tr>\n",
              "    <tr>\n",
              "      <th>16712</th>\n",
              "      <td>Haitaka no Psychedelica</td>\n",
              "      <td>PSV</td>\n",
              "      <td>2016</td>\n",
              "      <td>Adventure</td>\n",
              "      <td>0.00</td>\n",
              "      <td>0.00</td>\n",
              "      <td>0.01</td>\n",
              "      <td>0.00</td>\n",
              "      <td>-1.0</td>\n",
              "      <td>-1.0</td>\n",
              "      <td>Unknown</td>\n",
              "      <td>0.01</td>\n",
              "    </tr>\n",
              "    <tr>\n",
              "      <th>16714</th>\n",
              "      <td>Winning Post 8 2016</td>\n",
              "      <td>PSV</td>\n",
              "      <td>2016</td>\n",
              "      <td>Simulation</td>\n",
              "      <td>0.00</td>\n",
              "      <td>0.00</td>\n",
              "      <td>0.01</td>\n",
              "      <td>0.00</td>\n",
              "      <td>-1.0</td>\n",
              "      <td>-1.0</td>\n",
              "      <td>Unknown</td>\n",
              "      <td>0.01</td>\n",
              "    </tr>\n",
              "  </tbody>\n",
              "</table>\n",
              "<p>4022 rows × 12 columns</p>\n",
              "</div>\n",
              "      <button class=\"colab-df-convert\" onclick=\"convertToInteractive('df-4b7d14fd-701c-40bc-8a56-98b8f0085845')\"\n",
              "              title=\"Convert this dataframe to an interactive table.\"\n",
              "              style=\"display:none;\">\n",
              "        \n",
              "  <svg xmlns=\"http://www.w3.org/2000/svg\" height=\"24px\"viewBox=\"0 0 24 24\"\n",
              "       width=\"24px\">\n",
              "    <path d=\"M0 0h24v24H0V0z\" fill=\"none\"/>\n",
              "    <path d=\"M18.56 5.44l.94 2.06.94-2.06 2.06-.94-2.06-.94-.94-2.06-.94 2.06-2.06.94zm-11 1L8.5 8.5l.94-2.06 2.06-.94-2.06-.94L8.5 2.5l-.94 2.06-2.06.94zm10 10l.94 2.06.94-2.06 2.06-.94-2.06-.94-.94-2.06-.94 2.06-2.06.94z\"/><path d=\"M17.41 7.96l-1.37-1.37c-.4-.4-.92-.59-1.43-.59-.52 0-1.04.2-1.43.59L10.3 9.45l-7.72 7.72c-.78.78-.78 2.05 0 2.83L4 21.41c.39.39.9.59 1.41.59.51 0 1.02-.2 1.41-.59l7.78-7.78 2.81-2.81c.8-.78.8-2.07 0-2.86zM5.41 20L4 18.59l7.72-7.72 1.47 1.35L5.41 20z\"/>\n",
              "  </svg>\n",
              "      </button>\n",
              "      \n",
              "  <style>\n",
              "    .colab-df-container {\n",
              "      display:flex;\n",
              "      flex-wrap:wrap;\n",
              "      gap: 12px;\n",
              "    }\n",
              "\n",
              "    .colab-df-convert {\n",
              "      background-color: #E8F0FE;\n",
              "      border: none;\n",
              "      border-radius: 50%;\n",
              "      cursor: pointer;\n",
              "      display: none;\n",
              "      fill: #1967D2;\n",
              "      height: 32px;\n",
              "      padding: 0 0 0 0;\n",
              "      width: 32px;\n",
              "    }\n",
              "\n",
              "    .colab-df-convert:hover {\n",
              "      background-color: #E2EBFA;\n",
              "      box-shadow: 0px 1px 2px rgba(60, 64, 67, 0.3), 0px 1px 3px 1px rgba(60, 64, 67, 0.15);\n",
              "      fill: #174EA6;\n",
              "    }\n",
              "\n",
              "    [theme=dark] .colab-df-convert {\n",
              "      background-color: #3B4455;\n",
              "      fill: #D2E3FC;\n",
              "    }\n",
              "\n",
              "    [theme=dark] .colab-df-convert:hover {\n",
              "      background-color: #434B5C;\n",
              "      box-shadow: 0px 1px 3px 1px rgba(0, 0, 0, 0.15);\n",
              "      filter: drop-shadow(0px 1px 2px rgba(0, 0, 0, 0.3));\n",
              "      fill: #FFFFFF;\n",
              "    }\n",
              "  </style>\n",
              "\n",
              "      <script>\n",
              "        const buttonEl =\n",
              "          document.querySelector('#df-4b7d14fd-701c-40bc-8a56-98b8f0085845 button.colab-df-convert');\n",
              "        buttonEl.style.display =\n",
              "          google.colab.kernel.accessAllowed ? 'block' : 'none';\n",
              "\n",
              "        async function convertToInteractive(key) {\n",
              "          const element = document.querySelector('#df-4b7d14fd-701c-40bc-8a56-98b8f0085845');\n",
              "          const dataTable =\n",
              "            await google.colab.kernel.invokeFunction('convertToInteractive',\n",
              "                                                     [key], {});\n",
              "          if (!dataTable) return;\n",
              "\n",
              "          const docLinkHtml = 'Like what you see? Visit the ' +\n",
              "            '<a target=\"_blank\" href=https://colab.research.google.com/notebooks/data_table.ipynb>data table notebook</a>'\n",
              "            + ' to learn more about interactive tables.';\n",
              "          element.innerHTML = '';\n",
              "          dataTable['output_type'] = 'display_data';\n",
              "          await google.colab.output.renderOutput(dataTable, element);\n",
              "          const docLink = document.createElement('div');\n",
              "          docLink.innerHTML = docLinkHtml;\n",
              "          element.appendChild(docLink);\n",
              "        }\n",
              "      </script>\n",
              "    </div>\n",
              "  </div>\n",
              "  "
            ]
          },
          "metadata": {},
          "execution_count": 24
        }
      ]
    },
    {
      "cell_type": "markdown",
      "source": [
        "**Какие платформы лидируют по продажам, растут или падают? Выберите\n",
        "несколько потенциально прибыльных платформ.**"
      ],
      "metadata": {
        "id": "qWc3qucwo7bW"
      }
    },
    {
      "cell_type": "markdown",
      "source": [
        "Выведем  список платформ лидирующие по продажам с 2012 года."
      ],
      "metadata": {
        "id": "--e8lf5ICv83"
      }
    },
    {
      "cell_type": "code",
      "source": [
        "topical_platforms = topical_df.groupby(\"platform\")[\"global_sales\"].sum().sort_values(ascending = False).head(7).index.values                    #список из платформ\n",
        "topical_platforms                                                                                                                               #вывод списка на экран"
      ],
      "metadata": {
        "colab": {
          "base_uri": "https://localhost:8080/"
        },
        "id": "iw1DVUnQ7UKq",
        "outputId": "2889a064-b7f5-463b-c761-28b9709eefcf"
      },
      "execution_count": 25,
      "outputs": [
        {
          "output_type": "execute_result",
          "data": {
            "text/plain": [
              "array(['PS3', 'X360', 'PS4', '3DS', 'XOne', 'PC', 'Wii'], dtype=object)"
            ]
          },
          "metadata": {},
          "execution_count": 25
        }
      ]
    },
    {
      "cell_type": "markdown",
      "source": [
        "Построим диаграмму с платформами из этого списка по годам."
      ],
      "metadata": {
        "id": "MFeqZ3CkDGqX"
      }
    },
    {
      "cell_type": "code",
      "source": [
        "topical_df.pivot_table(index = \"year_of_release\", columns = \"platform\",values = \"global_sales\", aggfunc = sum).plot(y = topical_platforms, kind = \"bar\",figsize = (12,10))"
      ],
      "metadata": {
        "colab": {
          "base_uri": "https://localhost:8080/",
          "height": 639
        },
        "id": "7T9tVWLdjDMN",
        "outputId": "66d1bfad-6d18-4baf-8de0-2f0cddfec3fd"
      },
      "execution_count": 26,
      "outputs": [
        {
          "output_type": "execute_result",
          "data": {
            "text/plain": [
              "<matplotlib.axes._subplots.AxesSubplot at 0x7f7baa82e590>"
            ]
          },
          "metadata": {},
          "execution_count": 26
        },
        {
          "output_type": "display_data",
          "data": {
            "text/plain": [
              "<Figure size 864x720 with 1 Axes>"
            ],
            "image/png": "[encoded data removed]"
          },
          "metadata": {
            "needs_background": "light"
          }
        }
      ]
    },
    {
      "cell_type": "markdown",
      "source": [
        "Диаграмма показывает общий спад на всех платформах,вероятно это сказано тем что год еще не закончен и данные не полные. Тем не менее можно заметить что c момента выпуска 'ps4' и 'XOne' прошло 3 года что говорит о потанцеале платформ.\n",
        "\n",
        "Также можно заметить довольно стабильные показатели на '3DS','PC' и 'WiiU'.\n",
        "Показатели платформ 'ps3' и 'X360'  достигли минимума."
      ],
      "metadata": {
        "id": "UKdOH5S3DiSD"
      }
    },
    {
      "cell_type": "markdown",
      "source": [
        "**Постройте график «ящик с усами» по глобальным продажам игр в разбивке по\n",
        "платформам. Опишите результат.**"
      ],
      "metadata": {
        "id": "WQOl0AJ-9Q3U"
      }
    },
    {
      "cell_type": "markdown",
      "source": [
        "Построим 'boxplot' по глобальным продажам в разбивке по платформам из 'актуальной таблицы'."
      ],
      "metadata": {
        "id": "IEaFgjYyNA_1"
      }
    },
    {
      "cell_type": "code",
      "source": [
        "plt.figure(figsize = (14,8))\n",
        "plt.ylim(0,2.5)\n",
        "sns.boxplot(x=\"platform\", y=\"global_sales\", data=topical_df)\n"
      ],
      "metadata": {
        "id": "DOhx7Tngp3EW",
        "colab": {
          "base_uri": "https://localhost:8080/",
          "height": 518
        },
        "outputId": "36b109c3-1a7d-4c4a-ee07-abbc60ebf6b1"
      },
      "execution_count": 27,
      "outputs": [
        {
          "output_type": "execute_result",
          "data": {
            "text/plain": [
              "<matplotlib.axes._subplots.AxesSubplot at 0x7f7ba9e799d0>"
            ]
          },
          "metadata": {},
          "execution_count": 27
        },
        {
          "output_type": "display_data",
          "data": {
            "text/plain": [
              "<Figure size 1008x576 with 1 Axes>"
            ],
            "image/png": "[encoded data removed]"
          },
          "metadata": {
            "needs_background": "light"
          }
        }
      ]
    },
    {
      "cell_type": "markdown",
      "source": [
        "Из диаграммы видно что самыми популярной были платформы 'X360', 'ps4',\"XOne\",'WiiU' и 'ps3'. Остальные платформы не имеют таких высоких продаж."
      ],
      "metadata": {
        "id": "d0fJ9jgYNk__"
      }
    },
    {
      "cell_type": "markdown",
      "source": [
        "**Посмотрите, как влияют на продажи внутри одной популярной платформы\n",
        "отзывы пользователей и критиков. Постройте диаграмму рассеяния и\n",
        "посчитайте корреляцию между отзывами и продажами. Сформулируйте\n",
        "выводы.**"
      ],
      "metadata": {
        "id": "P6jY_q8iPBk9"
      }
    },
    {
      "cell_type": "markdown",
      "source": [
        "Выберем платформу 'PS4' для постройки диаграмм рассеяния.\n",
        "\n",
        "Посмотрим на взаимосвязь между отзывами критиков и глобальными продажами."
      ],
      "metadata": {
        "id": "HIKySXlDRipw"
      }
    },
    {
      "cell_type": "code",
      "source": [
        "topical_df.query('critic_score != -1 and platform  == \"PS4\"').plot(y = \"global_sales\", x = \"critic_score\", kind = \"scatter\", ylim = (-0.4,5))"
      ],
      "metadata": {
        "colab": {
          "base_uri": "https://localhost:8080/",
          "height": 302
        },
        "id": "Siv6PwFf6GLR",
        "outputId": "4f238bf1-ca8c-439b-ae40-c963e1d955d4"
      },
      "execution_count": 47,
      "outputs": [
        {
          "output_type": "execute_result",
          "data": {
            "text/plain": [
              "<matplotlib.axes._subplots.AxesSubplot at 0x7f7ba7673050>"
            ]
          },
          "metadata": {},
          "execution_count": 47
        },
        {
          "output_type": "display_data",
          "data": {
            "text/plain": [
              "<Figure size 432x288 with 1 Axes>"
            ],
            "image/png": "[encoded data removed]"
          },
          "metadata": {
            "needs_background": "light"
          }
        }
      ]
    },
    {
      "cell_type": "markdown",
      "source": [
        "Проверим зависимость."
      ],
      "metadata": {
        "id": "5fmpKAhiAJnz"
      }
    },
    {
      "cell_type": "code",
      "source": [
        "topical_df.query('critic_score != -1 and platform  == \"PS4\"')[\"critic_score\"].corr(topical_df.query('critic_score != -1 and platform  == \"PS4\"')[\"global_sales\"])"
      ],
      "metadata": {
        "id": "UE-3Z0YQMJ7a",
        "colab": {
          "base_uri": "https://localhost:8080/"
        },
        "outputId": "f0137190-71b4-4198-f32e-ae3afe477a1b"
      },
      "execution_count": 44,
      "outputs": [
        {
          "output_type": "execute_result",
          "data": {
            "text/plain": [
              "0.40656790206178095"
            ]
          },
          "metadata": {},
          "execution_count": 44
        }
      ]
    },
    {
      "cell_type": "markdown",
      "source": [
        "Посмотрим на взаимосвязь между отзывами пользователей и глобальными продажами."
      ],
      "metadata": {
        "id": "4zhoTb4JANxK"
      }
    },
    {
      "cell_type": "code",
      "source": [
        "topical_df.query('user_score != -1 and platform  == \"PS4\"').plot(y = \"global_sales\", x = \"user_score\", kind = \"scatter\", ylim = (-0.4,5))"
      ],
      "metadata": {
        "colab": {
          "base_uri": "https://localhost:8080/",
          "height": 300
        },
        "id": "QsOV1O4X8pMI",
        "outputId": "5b6cb5fe-1e2e-456b-f050-f80fa9d476f8"
      },
      "execution_count": 48,
      "outputs": [
        {
          "output_type": "execute_result",
          "data": {
            "text/plain": [
              "<matplotlib.axes._subplots.AxesSubplot at 0x7f7ba764cd10>"
            ]
          },
          "metadata": {},
          "execution_count": 48
        },
        {
          "output_type": "display_data",
          "data": {
            "text/plain": [
              "<Figure size 432x288 with 1 Axes>"
            ],
            "image/png": "[encoded data removed]"
          },
          "metadata": {
            "needs_background": "light"
          }
        }
      ]
    },
    {
      "cell_type": "code",
      "source": [
        "topical_df.query('user_score != -1 and platform  == \"PS4\"')[\"user_score\"].corr(topical_df.query('user_score != -1 and platform  == \"PS4\"')[\"global_sales\"])"
      ],
      "metadata": {
        "colab": {
          "base_uri": "https://localhost:8080/"
        },
        "id": "nVMy2_9R9g5h",
        "outputId": "ef3bdfeb-46c7-4276-9873-99f0ebdc490f"
      },
      "execution_count": 46,
      "outputs": [
        {
          "output_type": "execute_result",
          "data": {
            "text/plain": [
              "0.023279300963610326"
            ]
          },
          "metadata": {},
          "execution_count": 46
        }
      ]
    },
    {
      "cell_type": "markdown",
      "source": [
        "Из построенных диаграмм для платформы 'PS4' можно увидеть большую зависимость  между отзывами критиков и глобальными продажами. Диаграмма показывает небольшую нелинейную положительную зависимость.\n",
        "\n",
        "Для отзывов пользователей и глобальными ценами зависимости нет что показывает более рассеенные значения на диаграмме. \n",
        "Количество продаж не сильно зависит от голосов пользователей."
      ],
      "metadata": {
        "id": "EnEYh5qICR38"
      }
    },
    {
      "cell_type": "markdown",
      "source": [
        "**Соотнесите выводы с продажами игр на других платформах.**"
      ],
      "metadata": {
        "id": "ngRW78LxD4oH"
      }
    },
    {
      "cell_type": "markdown",
      "source": [
        "Построим диаграммы рассеяния для всех платформ и сравним зависимости.\n",
        "\n",
        "Построим диаграмму зависимости между оценками критиков и продажами."
      ],
      "metadata": {
        "id": "CS5s1DzUJNXQ"
      }
    },
    {
      "cell_type": "code",
      "source": [
        "plt.figure(figsize = (9,7))\n",
        "plt.ylim(-0.4,15)\n",
        "for name, group_df in topical_df.groupby(\"platform\"):\n",
        "  sns.scatterplot(data = group_df.query('platform == @name and critic_score != -1'), x = \"critic_score\", y = \"global_sales\", )"
      ],
      "metadata": {
        "colab": {
          "base_uri": "https://localhost:8080/",
          "height": 443
        },
        "id": "tEyYnlhJ91aM",
        "outputId": "5381a23a-a33a-4a90-9d3d-387520f0b180"
      },
      "execution_count": 61,
      "outputs": [
        {
          "output_type": "display_data",
          "data": {
            "text/plain": [
              "<Figure size 648x504 with 1 Axes>"
            ],
            "image/png": "[encoded data removed]"
          },
          "metadata": {
            "needs_background": "light"
          }
        }
      ]
    },
    {
      "cell_type": "markdown",
      "source": [
        "Построим диаграмму зависимостей между оценками пользователей и  продажами."
      ],
      "metadata": {
        "id": "cylBUbZsJoRW"
      }
    },
    {
      "cell_type": "code",
      "source": [
        "plt.figure(figsize = (9,7))\n",
        "plt.ylim(-0.4,15)\n",
        "for name, group_df in topical_df.groupby(\"platform\"):\n",
        "  sns.scatterplot(data = group_df.query('platform == @name and user_score != -1'), x = \"user_score\", y = \"global_sales\")"
      ],
      "metadata": {
        "colab": {
          "base_uri": "https://localhost:8080/",
          "height": 442
        },
        "id": "O8zeQ-ifG8SA",
        "outputId": "031f931b-2d81-49d9-aee1-b46d217ee31a"
      },
      "execution_count": 62,
      "outputs": [
        {
          "output_type": "display_data",
          "data": {
            "text/plain": [
              "<Figure size 648x504 with 1 Axes>"
            ],
            "image/png": "[encoded data removed]"
          },
          "metadata": {
            "needs_background": "light"
          }
        }
      ]
    },
    {
      "cell_type": "markdown",
      "source": [
        "Как и для отдельной платформы можно наблюдать нелинейную положительную зависимость между диаграмм между оценками критиков и глобальными продажами.\n",
        "\n",
        "Для диаграмм между оценками пользователей и продажами наблюдается всё такое же отсутствие зависимости и более рассеенные показатели. \n",
        "\n",
        "Исходя из построенных диаграмм можно предположить что продажи чуствительны к отзывам критиков поторые превышают 60 баллов."
      ],
      "metadata": {
        "id": "pFY4VKknK_iX"
      }
    },
    {
      "cell_type": "markdown",
      "source": [
        "**Посмотрите на общее распределение игр по жанрам. Что можно сказать о\n",
        "самых прибыльных жанрах? Выделяются ли жанры с высокими и низкими\n",
        "продажами?**"
      ],
      "metadata": {
        "id": "mZ_tWKyIOk2x"
      }
    },
    {
      "cell_type": "code",
      "source": [
        ""
      ],
      "metadata": {
        "id": "-zKlLk_BIEqi"
      },
      "execution_count": null,
      "outputs": []
    }
  ],
  "metadata": {
    "kernelspec": {
      "display_name": "Python 3",
      "language": "python",
      "name": "python3"
    },
    "language_info": {
      "codemirror_mode": {
        "name": "ipython",
        "version": 3
      },
      "file_extension": ".py",
      "mimetype": "text/x-python",
      "name": "python",
      "nbconvert_exporter": "python",
      "pygments_lexer": "ipython3",
      "version": "3.7.8"
    },
    "toc": {
      "base_numbering": 1,
      "nav_menu": {},
      "number_sections": true,
      "sideBar": true,
      "skip_h1_title": true,
      "title_cell": "Table of Contents",
      "title_sidebar": "Contents",
      "toc_cell": false,
      "toc_position": {},
      "toc_section_display": true,
      "toc_window_display": false
    },
    "colab": {
      "name": "Сборный проект - 1 .ipynb",
      "provenance": [],
      "collapsed_sections": [],
      "include_colab_link": true
    }
  },
  "nbformat": 4,
  "nbformat_minor": 0
}