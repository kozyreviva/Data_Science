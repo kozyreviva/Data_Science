{
  "cells": [
    {
      "cell_type": "markdown",
      "metadata": {
        "id": "_uEeri9JYMO7"
      },
      "source": [
        "# Защита персональных данных клиентов"
      ]
    },
    {
      "cell_type": "markdown",
      "metadata": {
        "id": "IUK_ql1dYMO9"
      },
      "source": [
        "Вам нужно защитить данные клиентов страховой компании «Хоть потоп». Разработайте такой метод преобразования данных, чтобы по ним было сложно восстановить персональную информацию. Обоснуйте корректность его работы.\n",
        "\n",
        "Нужно защитить данные, чтобы при преобразовании качество моделей машинного обучения не ухудшилось. Подбирать наилучшую модель не требуется."
      ]
    },
    {
      "cell_type": "markdown",
      "metadata": {
        "id": "U2Xgiy_bYMPA"
      },
      "source": [
        "## Загрузка данных"
      ]
    },
    {
      "cell_type": "markdown",
      "metadata": {
        "id": "Vf9eWWxyYMPB"
      },
      "source": [
        "Загружаем библиотеки."
      ]
    },
    {
      "cell_type": "code",
      "execution_count": null,
      "metadata": {
        "id": "-JPxjx11YMPD"
      },
      "outputs": [],
      "source": [
        "#загрузка библиотек\n",
        "import pandas as pd\n",
        "import numpy as np\n",
        "from sklearn.linear_model import LinearRegression\n",
        "from sklearn.metrics import r2_score"
      ]
    },
    {
      "cell_type": "markdown",
      "metadata": {
        "id": "wgfWQnWZYMPH"
      },
      "source": [
        "Скачаем датасет и сохраним в переменную"
      ]
    },
    {
      "cell_type": "code",
      "execution_count": null,
      "metadata": {
        "scrolled": true,
        "id": "mVpdKptHYMPI"
      },
      "outputs": [],
      "source": [
        "#сохранение датасета в переменной\n",
        "df = pd.read_csv(\"/datasets/insurance.csv\")"
      ]
    },
    {
      "cell_type": "markdown",
      "metadata": {
        "id": "IlB75flMYMPJ"
      },
      "source": [
        "Выведем датасет и проверим информацию."
      ]
    },
    {
      "cell_type": "code",
      "execution_count": null,
      "metadata": {
        "id": "HhxRFvqXYMPK",
        "outputId": "ff124f5c-edaa-4802-edb1-50d1fd0c0fb7"
      },
      "outputs": [
        {
          "data": {
            "text/html": [
              "<div>\n",
              "<style scoped>\n",
              "    .dataframe tbody tr th:only-of-type {\n",
              "        vertical-align: middle;\n",
              "    }\n",
              "\n",
              "    .dataframe tbody tr th {\n",
              "        vertical-align: top;\n",
              "    }\n",
              "\n",
              "    .dataframe thead th {\n",
              "        text-align: right;\n",
              "    }\n",
              "</style>\n",
              "<table border=\"1\" class=\"dataframe\">\n",
              "  <thead>\n",
              "    <tr style=\"text-align: right;\">\n",
              "      <th></th>\n",
              "      <th>Пол</th>\n",
              "      <th>Возраст</th>\n",
              "      <th>Зарплата</th>\n",
              "      <th>Члены семьи</th>\n",
              "      <th>Страховые выплаты</th>\n",
              "    </tr>\n",
              "  </thead>\n",
              "  <tbody>\n",
              "    <tr>\n",
              "      <th>0</th>\n",
              "      <td>1</td>\n",
              "      <td>41.0</td>\n",
              "      <td>49600.0</td>\n",
              "      <td>1</td>\n",
              "      <td>0</td>\n",
              "    </tr>\n",
              "    <tr>\n",
              "      <th>1</th>\n",
              "      <td>0</td>\n",
              "      <td>46.0</td>\n",
              "      <td>38000.0</td>\n",
              "      <td>1</td>\n",
              "      <td>1</td>\n",
              "    </tr>\n",
              "    <tr>\n",
              "      <th>2</th>\n",
              "      <td>0</td>\n",
              "      <td>29.0</td>\n",
              "      <td>21000.0</td>\n",
              "      <td>0</td>\n",
              "      <td>0</td>\n",
              "    </tr>\n",
              "    <tr>\n",
              "      <th>3</th>\n",
              "      <td>0</td>\n",
              "      <td>21.0</td>\n",
              "      <td>41700.0</td>\n",
              "      <td>2</td>\n",
              "      <td>0</td>\n",
              "    </tr>\n",
              "    <tr>\n",
              "      <th>4</th>\n",
              "      <td>1</td>\n",
              "      <td>28.0</td>\n",
              "      <td>26100.0</td>\n",
              "      <td>0</td>\n",
              "      <td>0</td>\n",
              "    </tr>\n",
              "  </tbody>\n",
              "</table>\n",
              "</div>"
            ],
            "text/plain": [
              "   Пол  Возраст  Зарплата  Члены семьи  Страховые выплаты\n",
              "0    1     41.0   49600.0            1                  0\n",
              "1    0     46.0   38000.0            1                  1\n",
              "2    0     29.0   21000.0            0                  0\n",
              "3    0     21.0   41700.0            2                  0\n",
              "4    1     28.0   26100.0            0                  0"
            ]
          },
          "execution_count": 65,
          "metadata": {},
          "output_type": "execute_result"
        }
      ],
      "source": [
        "#вывод датасета\n",
        "df.head()"
      ]
    },
    {
      "cell_type": "code",
      "execution_count": null,
      "metadata": {
        "id": "Fr0XhpLGYMPM",
        "outputId": "c09650c5-24bc-4e82-b650-5a2f33d2ca81"
      },
      "outputs": [
        {
          "name": "stdout",
          "output_type": "stream",
          "text": [
            "<class 'pandas.core.frame.DataFrame'>\n",
            "RangeIndex: 5000 entries, 0 to 4999\n",
            "Data columns (total 5 columns):\n",
            " #   Column             Non-Null Count  Dtype  \n",
            "---  ------             --------------  -----  \n",
            " 0   Пол                5000 non-null   int64  \n",
            " 1   Возраст            5000 non-null   float64\n",
            " 2   Зарплата           5000 non-null   float64\n",
            " 3   Члены семьи        5000 non-null   int64  \n",
            " 4   Страховые выплаты  5000 non-null   int64  \n",
            "dtypes: float64(2), int64(3)\n",
            "memory usage: 195.4 KB\n"
          ]
        }
      ],
      "source": [
        "#вывод информации о датасете\n",
        "df.info()"
      ]
    },
    {
      "cell_type": "markdown",
      "metadata": {
        "id": "luXlmxn3YMPP"
      },
      "source": [
        "Изменим типы данных в столбцах."
      ]
    },
    {
      "cell_type": "code",
      "execution_count": null,
      "metadata": {
        "scrolled": false,
        "id": "7ueqHHz3YMPP"
      },
      "outputs": [],
      "source": [
        "#изменение типов данных\n",
        "df = df.astype(int)"
      ]
    },
    {
      "cell_type": "markdown",
      "metadata": {
        "id": "dygL4Fw2YMPQ"
      },
      "source": [
        "Изменим язык и регистр названий столбцов"
      ]
    },
    {
      "cell_type": "code",
      "execution_count": null,
      "metadata": {
        "id": "pRUj5DD5YMPR"
      },
      "outputs": [],
      "source": [
        "#изменение языка и регистра названий столбцов\n",
        "df = df.rename(columns  = {\"Пол\":\"gender\", \n",
        "                      \"Возраст\":\"age\", \n",
        "                      \"Зарплата\":\"income\", \n",
        "                      \"Члены семьи\":\"family\", \n",
        "                      \"Страховые выплаты\":\"payments\"})"
      ]
    },
    {
      "cell_type": "markdown",
      "metadata": {
        "id": "utU6CJeHYMPR"
      },
      "source": [
        "Далее разделим датафрейм на признаки и целевой признак."
      ]
    },
    {
      "cell_type": "code",
      "execution_count": null,
      "metadata": {
        "id": "aVRtIFvAYMPS"
      },
      "outputs": [],
      "source": [
        "#разделение на признаки\n",
        "features = df.drop([\"payments\"], axis = 1 )\n",
        "target = df[\"payments\"]"
      ]
    },
    {
      "cell_type": "markdown",
      "metadata": {
        "id": "MtleeZ5eYMPT"
      },
      "source": [
        "## Умножение матриц"
      ]
    },
    {
      "cell_type": "markdown",
      "metadata": {
        "id": "vDZRRD22YMPT"
      },
      "source": [
        "### Теоретическая часть"
      ]
    },
    {
      "cell_type": "markdown",
      "metadata": {
        "id": "R5m0fc7WYMPT"
      },
      "source": [
        "Для работы нам необходимы несколько формул."
      ]
    },
    {
      "cell_type": "markdown",
      "metadata": {
        "id": "KllzqKVVYMPU"
      },
      "source": [
        "\n",
        "Задача обучения:\n",
        "\n",
        "$$\n",
        "w = \\arg\\min_w MSE(Xw, y)\n",
        "$$\n",
        "\n",
        "Задачу обучения можно записать формулой:\n",
        "\n",
        "$$\n",
        "w = (X^T X)^{-1} X^T y\n",
        "$$"
      ]
    },
    {
      "cell_type": "markdown",
      "metadata": {
        "id": "Zb8GknemYMPU"
      },
      "source": [
        "Для предсказания нам потребуется формула:\n",
        "\n",
        "$$\n",
        "a = Xw+w_0\n",
        "$$\n"
      ]
    },
    {
      "cell_type": "markdown",
      "metadata": {
        "id": "tLSa8O-TYMPV"
      },
      "source": [
        "Обозначения:\n",
        "\n",
        "- $X$ — матрица признаков (нулевой столбец состоит из единиц)\n",
        "\n",
        "- $y$ — вектор целевого признака\n",
        "\n",
        "- $P$ — матрица, на которую умножаются признаки\n",
        "\n",
        "- $w$ — вектор весов линейной регрессии (нулевой элемент равен сдвигу)\n",
        "\n",
        "- $w_0$ - сдвиг"
      ]
    },
    {
      "cell_type": "markdown",
      "metadata": {
        "id": "XJylF8r3YMPV"
      },
      "source": [
        "Так же у нас будет преобразование признаков и слeдовательно будет формула:\n",
        "\n",
        "$$\n",
        "a_1 = X_1w_1 + w_0\n",
        "$$ \n",
        "\n"
      ]
    },
    {
      "cell_type": "markdown",
      "metadata": {
        "id": "jMITGilAYMPW"
      },
      "source": [
        "**Задача: Признаки умножают на обратимую матрицу. Изменится ли качество линейной регрессии?**"
      ]
    },
    {
      "cell_type": "markdown",
      "metadata": {
        "id": "w20F7MiiYMPX"
      },
      "source": [
        "Создадим обритимую(квадратную), рандомную матрицу $P$ размером равным количеству столбцов в таблице признаков."
      ]
    },
    {
      "cell_type": "markdown",
      "metadata": {
        "id": "ZYzE_uaUYMPX"
      },
      "source": [
        "Т.к при создании матрицы может быть так что матрица будет необратимая(содержать 0). Напишем функцию для создания обратимой матрицы.  Функция поможет наверняка избежать необратимости."
      ]
    },
    {
      "cell_type": "markdown",
      "metadata": {
        "id": "W2vrx1xbYMPY"
      },
      "source": [
        "Преобразуем признаки с помощью матрицы и проверим размер новой таблицы."
      ]
    },
    {
      "cell_type": "code",
      "execution_count": null,
      "metadata": {
        "scrolled": false,
        "id": "eNISlQ1LYMPZ",
        "outputId": "2f07df6d-a13d-4b15-89cb-b051c2da9b88"
      },
      "outputs": [
        {
          "name": "stdout",
          "output_type": "stream",
          "text": [
            "(5000, 4)\n",
            "(4, 4)\n",
            "(5000, 4)\n"
          ]
        },
        {
          "data": {
            "text/html": [
              "<div>\n",
              "<style scoped>\n",
              "    .dataframe tbody tr th:only-of-type {\n",
              "        vertical-align: middle;\n",
              "    }\n",
              "\n",
              "    .dataframe tbody tr th {\n",
              "        vertical-align: top;\n",
              "    }\n",
              "\n",
              "    .dataframe thead th {\n",
              "        text-align: right;\n",
              "    }\n",
              "</style>\n",
              "<table border=\"1\" class=\"dataframe\">\n",
              "  <thead>\n",
              "    <tr style=\"text-align: right;\">\n",
              "      <th></th>\n",
              "      <th>0</th>\n",
              "      <th>1</th>\n",
              "      <th>2</th>\n",
              "      <th>3</th>\n",
              "    </tr>\n",
              "  </thead>\n",
              "  <tbody>\n",
              "    <tr>\n",
              "      <th>0</th>\n",
              "      <td>-66711.478891</td>\n",
              "      <td>-5219.915102</td>\n",
              "      <td>61130.484784</td>\n",
              "      <td>-82561.195585</td>\n",
              "    </tr>\n",
              "    <tr>\n",
              "      <th>1</th>\n",
              "      <td>-51113.638283</td>\n",
              "      <td>-4018.173722</td>\n",
              "      <td>46817.791548</td>\n",
              "      <td>-63248.413034</td>\n",
              "    </tr>\n",
              "    <tr>\n",
              "      <th>2</th>\n",
              "      <td>-28247.325332</td>\n",
              "      <td>-2225.582133</td>\n",
              "      <td>25869.267869</td>\n",
              "      <td>-34952.361052</td>\n",
              "    </tr>\n",
              "    <tr>\n",
              "      <th>3</th>\n",
              "      <td>-56083.817426</td>\n",
              "      <td>-4369.434206</td>\n",
              "      <td>51409.159560</td>\n",
              "      <td>-69414.745854</td>\n",
              "    </tr>\n",
              "    <tr>\n",
              "      <th>4</th>\n",
              "      <td>-35105.329026</td>\n",
              "      <td>-2755.910727</td>\n",
              "      <td>32160.139103</td>\n",
              "      <td>-43442.835113</td>\n",
              "    </tr>\n",
              "  </tbody>\n",
              "</table>\n",
              "</div>"
            ],
            "text/plain": [
              "              0            1             2             3\n",
              "0 -66711.478891 -5219.915102  61130.484784 -82561.195585\n",
              "1 -51113.638283 -4018.173722  46817.791548 -63248.413034\n",
              "2 -28247.325332 -2225.582133  25869.267869 -34952.361052\n",
              "3 -56083.817426 -4369.434206  51409.159560 -69414.745854\n",
              "4 -35105.329026 -2755.910727  32160.139103 -43442.835113"
            ]
          },
          "execution_count": 81,
          "metadata": {},
          "output_type": "execute_result"
        }
      ],
      "source": [
        "#размер таблицы признаков\n",
        "print(features.shape)\n",
        "\n",
        "#создадим матрицу\n",
        "P = rnd_matrix(features.shape[1])\n",
        "print(P.shape)\n",
        "\n",
        "#применим матричное умножение\n",
        "features_new = features @ P \n",
        "print(features_new.shape)\n",
        "\n",
        "#выведем новые признаки\n",
        "features_new.head()               "
      ]
    },
    {
      "cell_type": "markdown",
      "metadata": {
        "id": "xdLol8-OYMPZ"
      },
      "source": [
        "После умножения признаков на рандомную матрицу у нас образовались новые признаки.  \n",
        "Запишем это формулой:\n",
        "\n",
        "$$\n",
        "X_1 = XP\n",
        "$$"
      ]
    },
    {
      "cell_type": "markdown",
      "metadata": {
        "id": "wSoiLLrzYMPc"
      },
      "source": [
        "При преобразовании признаков мы видим что значения меняются но размер таблицы остаётся тем же."
      ]
    },
    {
      "cell_type": "markdown",
      "metadata": {
        "id": "8IpeMQVcYMPd"
      },
      "source": [
        "Получившимися новыми признаками обучим модель линейной регрессии.  \n",
        "Метрикой R2 проверим нашу модель."
      ]
    },
    {
      "cell_type": "code",
      "execution_count": null,
      "metadata": {
        "id": "liVPAbG6YMPd",
        "outputId": "c05ec57c-baae-414d-d99b-514af12694e5"
      },
      "outputs": [
        {
          "name": "stdout",
          "output_type": "stream",
          "text": [
            "0.42494550308113277\n"
          ]
        }
      ],
      "source": [
        "#обучение модели\n",
        "model = LinearRegression()\n",
        "model.fit(features_new, target)\n",
        "predictions = model.predict(features_new)\n",
        "\n",
        "print(r2_score(target, predictions))"
      ]
    },
    {
      "cell_type": "markdown",
      "metadata": {
        "id": "01SLByu_YMPe"
      },
      "source": [
        "**Ответ:**  \n",
        "Видим что коэффициент детерминации этой модели равен 42%. \n",
        "\n",
        "**Обоснование:**  \n",
        "В процессе трансформации признаков была применена формула преобразования: $X_1 = XP$  \n",
        "Где $X$ - признаки, $P$ - матрица шифрования.  \n",
        "При этом можно заметить что при разных значениях $P$ результат предсказа R2 сильно не меняется. Из этого можно сдельать вывод что при шифровании значение $P$ не влияет на результат. В этом процессе происходит только сокрытие данных $X$"
      ]
    },
    {
      "cell_type": "markdown",
      "metadata": {
        "id": "pBMI1VDlYMPe"
      },
      "source": [
        "## Алгоритм преобразования"
      ]
    },
    {
      "cell_type": "markdown",
      "metadata": {
        "id": "F_UCvWOdYMPe"
      },
      "source": [
        "**Предложите алгоритм преобразования данных для решения задачи. Обоснуйте, почему качество линейной регрессии не поменяется.**"
      ]
    },
    {
      "cell_type": "markdown",
      "metadata": {
        "id": "NGFbVJpRYMPf"
      },
      "source": [
        "**Алгоритм**"
      ]
    },
    {
      "cell_type": "markdown",
      "metadata": {
        "id": "IjycKMkRYMPf"
      },
      "source": [
        "Создадим класс линейной регрессии который содержит 2 метода: обучение модели и предсказание.  \n",
        "Метод обучения принимает признаки и целевой признак. \n",
        "Далее к матрице признаков добавляется нулевой столбец куда записываются все единицы.\n",
        "Вектор весов находится по формуле:\n",
        "\n",
        "$$\n",
        "w = (X^T X)^{-1} X^T y\n",
        "$$\n",
        "\n",
        "Затем сохраняем вектор весов как параметр функции при этом нулевое значение вектора это отлельный пареметр сдвига.\n",
        "\n"
      ]
    },
    {
      "cell_type": "markdown",
      "metadata": {
        "id": "m98U-WPSYMPf"
      },
      "source": [
        "Метод пердсказания работает по формуле:\n",
        "\n",
        "$$\n",
        "a = Xw + w_0\n",
        "$$ \n",
        "\n"
      ]
    },
    {
      "cell_type": "code",
      "execution_count": null,
      "metadata": {
        "id": "pOUXFSlWYMPg"
      },
      "outputs": [],
      "source": [
        "#класс линейной регрессии\n",
        "class LinReg:\n",
        "    def fit(self, train_features, train_target):\n",
        "        X = np.concatenate((np.ones((train_features.shape[0], 1)), train_features), axis=1)\n",
        "        y = train_target\n",
        "        w = np.linalg.inv(X.T @ X) @ X.T @ y\n",
        "        self.w = w[1:]\n",
        "        self.w0 = w[0]\n",
        "        \n",
        "    def predict(self, test_features):\n",
        "        return test_features.dot(self.w) + self.w0"
      ]
    },
    {
      "cell_type": "markdown",
      "metadata": {
        "id": "T8ltAt_PYMPg"
      },
      "source": [
        "**Обоснование**  \n",
        "Цель данной задачи была доказать что качество линейной регрессии не меняется при преобразованных признаках и исходных.\n",
        "\n",
        "$$\n",
        "a = a_1\n",
        "$$\n",
        "\n",
        "Если для неизменённых данных действует обычная формула, то для преобразованных данных работает формула:\n",
        "\n",
        "$$\n",
        "a_1 = X_1w_1 + w_0\n",
        "$$ \n",
        "Где:\n",
        "\n",
        "$$\n",
        "X_1 = XP\n",
        "$$\n",
        "\n",
        "Где:\n",
        "\n",
        "$$\n",
        "w_1 = (X_1^T X_1)^{-1} X_1^T y = ((XP)^TXP)^{-1}(XP)^Ty = \n",
        "$$\n",
        "$$\n",
        "(P^TX^TXP)^{-1}P^TX^Ty = P^{-1}(X^TX)^{-1}(P^T)^{-1}P^TX^Ty\n",
        "$$\n",
        "\n",
        "В данной фофрмуле произведение матриц $(P^T)^{-1}P^T$  представляют собой единичную матрицу $E$. А так как в ходе умножения матриц $AE$ или  $EA$  результатом будет матрица $A$, то уберем единичную матрицу из формулы.\n",
        "\n",
        "Получим формулу:\n",
        "\n",
        "$$\n",
        "w_1 = P^{-1}(X^TX)^{-1}X^Ty = P^{-1}w\n",
        "$$\n",
        "\n",
        "Из этого следует что:\n",
        "\n",
        "$$\n",
        "a_1 = X_1w_1 = (XP)(P^{-1}w) = XPP^{-1}w\n",
        "$$\n",
        "\n",
        "Опять матрицы $PP^{-1}$ образовали матрицу $E$.\n",
        "Далее:\n",
        "\n",
        "$$\n",
        "a = Xw = a_1\n",
        "$$\n",
        "\n",
        "Следовательно матрицы  $a_1$ и $a$ тождественны.\n",
        "\n",
        "$$\n",
        "a = a_1\n",
        "$$\n",
        "\n",
        "Можно сделать вывод что предсказания $a$ и $a_1$ должны  давать одинаковый результат R2."
      ]
    },
    {
      "cell_type": "markdown",
      "metadata": {
        "id": "wf00EeXsYMPj"
      },
      "source": [
        "## Проверка алгоритма"
      ]
    },
    {
      "cell_type": "markdown",
      "metadata": {
        "id": "Zdyj6y9SYMPj"
      },
      "source": [
        "Применим получившийся класс и предскажем результат.\n",
        "Используем неизменённые признаки."
      ]
    },
    {
      "cell_type": "markdown",
      "metadata": {
        "id": "GWqatUChYMPk"
      },
      "source": [
        "Сначала создадим модель из библиотеки sklearn и выведем результат."
      ]
    },
    {
      "cell_type": "code",
      "execution_count": null,
      "metadata": {
        "scrolled": true,
        "id": "ZGAr2YTKYMPk",
        "outputId": "f2fbb596-83a9-43ed-ae83-af5b5463516c"
      },
      "outputs": [
        {
          "name": "stdout",
          "output_type": "stream",
          "text": [
            "R2: 0.42494550308169177\n"
          ]
        }
      ],
      "source": [
        "#модель линейной регрессии\n",
        "model = LinearRegression()\n",
        "model.fit(features, target)\n",
        "predictions = model.predict(features)\n",
        "\n",
        "print(\"R2:\",r2_score(target, predictions))\n"
      ]
    },
    {
      "cell_type": "markdown",
      "metadata": {
        "id": "Jw-C6xigYMPl"
      },
      "source": [
        "Обучим собственную модель."
      ]
    },
    {
      "cell_type": "code",
      "execution_count": null,
      "metadata": {
        "scrolled": false,
        "id": "gCgwFAmAYMPl",
        "outputId": "c7b30cbf-c9f7-4565-ed9d-be5423c479dd"
      },
      "outputs": [
        {
          "name": "stdout",
          "output_type": "stream",
          "text": [
            "R2: 0.42494550308169177\n"
          ]
        }
      ],
      "source": [
        "#модель линейной регрессии \n",
        "def_model = LinReg()\n",
        "def_model.fit(features, target)\n",
        "predictions = def_model.predict(features)\n",
        "\n",
        "print(\"R2:\",r2_score(target, predictions))"
      ]
    },
    {
      "cell_type": "markdown",
      "metadata": {
        "id": "Q50J9hRoYMPl"
      },
      "source": [
        "Используем изменённые признаки."
      ]
    },
    {
      "cell_type": "code",
      "execution_count": null,
      "metadata": {
        "id": "yI4bf2tTYMPm",
        "outputId": "0b308bee-ae91-4c53-b018-054524e33e5b"
      },
      "outputs": [
        {
          "name": "stdout",
          "output_type": "stream",
          "text": [
            "R2: 0.42494550308113277\n"
          ]
        }
      ],
      "source": [
        "#модель линейной регрессии\n",
        "model = LinearRegression()\n",
        "model.fit(features_new, target)\n",
        "predictions = model.predict(features_new)\n",
        "\n",
        "print(\"R2:\",r2_score(target, predictions))"
      ]
    },
    {
      "cell_type": "code",
      "execution_count": null,
      "metadata": {
        "scrolled": true,
        "id": "PqCI9pjIYMPm",
        "outputId": "47eb75f1-4753-4aaf-c82a-376890112757"
      },
      "outputs": [
        {
          "name": "stdout",
          "output_type": "stream",
          "text": [
            "R2: 0.42479009308923255\n"
          ]
        }
      ],
      "source": [
        "#модель линейной регрессии\n",
        "def_model = LinReg()\n",
        "def_model.fit(features_new,target)\n",
        "predictions = def_model.predict(features_new)\n",
        "\n",
        "print(\"R2:\",r2_score(target,predictions))"
      ]
    },
    {
      "cell_type": "markdown",
      "metadata": {
        "id": "WXyBnGMnYMPn"
      },
      "source": [
        "**Общие выводы**"
      ]
    },
    {
      "cell_type": "markdown",
      "metadata": {
        "id": "qjD8vVklYMPo"
      },
      "source": [
        "Применяя библиотечную функцию и собственную, к данным исходным и преобразованным получили результат в 42%.\n",
        "Т.к. результат идентичный, подтверждаем что при шифровании данных не влияет на качество линейной регрессии.\n",
        "И следовательно:\n",
        "\n",
        "$$\n",
        "a = a_1\n",
        "$$"
      ]
    }
  ],
  "metadata": {
    "ExecuteTimeLog": [
      {
        "duration": 60,
        "start_time": "2022-06-05T11:26:45.350Z"
      },
      {
        "duration": 424,
        "start_time": "2022-06-05T11:26:51.541Z"
      },
      {
        "duration": 70,
        "start_time": "2022-06-05T11:26:54.863Z"
      },
      {
        "duration": 15,
        "start_time": "2022-06-05T11:27:06.299Z"
      },
      {
        "duration": 12,
        "start_time": "2022-06-05T11:27:43.051Z"
      },
      {
        "duration": 994,
        "start_time": "2022-06-05T14:29:36.191Z"
      },
      {
        "duration": 80,
        "start_time": "2022-06-05T14:29:37.187Z"
      },
      {
        "duration": 87,
        "start_time": "2022-06-05T14:29:37.915Z"
      },
      {
        "duration": 16,
        "start_time": "2022-06-05T14:29:56.495Z"
      },
      {
        "duration": 8,
        "start_time": "2022-06-05T14:30:03.994Z"
      },
      {
        "duration": 11,
        "start_time": "2022-06-05T14:30:12.422Z"
      },
      {
        "duration": 12,
        "start_time": "2022-06-05T14:30:44.095Z"
      },
      {
        "duration": 7,
        "start_time": "2022-06-05T14:30:50.459Z"
      },
      {
        "duration": 5,
        "start_time": "2022-06-05T14:33:39.720Z"
      },
      {
        "duration": 12,
        "start_time": "2022-06-05T14:33:57.291Z"
      },
      {
        "duration": 12,
        "start_time": "2022-06-05T14:34:03.622Z"
      },
      {
        "duration": 3,
        "start_time": "2022-06-05T14:34:39.748Z"
      },
      {
        "duration": 11,
        "start_time": "2022-06-05T14:34:42.495Z"
      },
      {
        "duration": 108,
        "start_time": "2022-06-05T15:26:24.560Z"
      },
      {
        "duration": 16,
        "start_time": "2022-06-05T15:26:32.704Z"
      },
      {
        "duration": 13,
        "start_time": "2022-06-05T15:26:49.277Z"
      },
      {
        "duration": 15,
        "start_time": "2022-06-05T15:27:06.474Z"
      },
      {
        "duration": 14,
        "start_time": "2022-06-05T15:27:54.967Z"
      },
      {
        "duration": 16,
        "start_time": "2022-06-05T15:29:14.717Z"
      },
      {
        "duration": 27,
        "start_time": "2022-06-05T15:29:19.902Z"
      },
      {
        "duration": 10,
        "start_time": "2022-06-05T15:29:20.397Z"
      },
      {
        "duration": 10,
        "start_time": "2022-06-05T15:29:20.968Z"
      },
      {
        "duration": 6,
        "start_time": "2022-06-05T15:29:21.556Z"
      },
      {
        "duration": 4,
        "start_time": "2022-06-05T15:29:22.199Z"
      },
      {
        "duration": 13,
        "start_time": "2022-06-05T15:29:22.828Z"
      },
      {
        "duration": 13,
        "start_time": "2022-06-05T15:29:54.191Z"
      },
      {
        "duration": 11,
        "start_time": "2022-06-05T15:30:18.950Z"
      },
      {
        "duration": 16,
        "start_time": "2022-06-05T15:37:57.425Z"
      },
      {
        "duration": 4,
        "start_time": "2022-06-05T15:38:17.020Z"
      },
      {
        "duration": 5,
        "start_time": "2022-06-05T15:38:31.411Z"
      },
      {
        "duration": 8,
        "start_time": "2022-06-05T15:38:36.854Z"
      },
      {
        "duration": 9,
        "start_time": "2022-06-05T15:38:40.538Z"
      },
      {
        "duration": 10,
        "start_time": "2022-06-05T15:38:52.300Z"
      },
      {
        "duration": 10,
        "start_time": "2022-06-05T15:38:55.478Z"
      },
      {
        "duration": 10,
        "start_time": "2022-06-05T15:38:57.323Z"
      },
      {
        "duration": 9,
        "start_time": "2022-06-05T15:38:59.263Z"
      },
      {
        "duration": 10,
        "start_time": "2022-06-05T15:39:01.087Z"
      },
      {
        "duration": 19,
        "start_time": "2022-06-05T15:41:51.885Z"
      },
      {
        "duration": 10,
        "start_time": "2022-06-05T15:41:54.661Z"
      },
      {
        "duration": 11,
        "start_time": "2022-06-05T15:41:56.480Z"
      },
      {
        "duration": 10,
        "start_time": "2022-06-05T15:41:58.785Z"
      },
      {
        "duration": 12,
        "start_time": "2022-06-05T15:42:00.645Z"
      },
      {
        "duration": 10,
        "start_time": "2022-06-05T15:42:03.032Z"
      },
      {
        "duration": 12,
        "start_time": "2022-06-05T15:42:05.200Z"
      },
      {
        "duration": 11,
        "start_time": "2022-06-05T15:42:07.061Z"
      },
      {
        "duration": 12,
        "start_time": "2022-06-05T15:42:09.160Z"
      },
      {
        "duration": 10,
        "start_time": "2022-06-05T15:42:11.337Z"
      },
      {
        "duration": 15,
        "start_time": "2022-06-05T15:42:13.712Z"
      },
      {
        "duration": 5,
        "start_time": "2022-06-05T16:02:47.979Z"
      },
      {
        "duration": 17,
        "start_time": "2022-06-05T16:02:51.907Z"
      },
      {
        "duration": 99,
        "start_time": "2022-06-05T19:20:37.960Z"
      },
      {
        "duration": 10,
        "start_time": "2022-06-05T19:20:39.564Z"
      },
      {
        "duration": 1087,
        "start_time": "2022-06-05T19:20:52.690Z"
      },
      {
        "duration": 99,
        "start_time": "2022-06-05T19:20:53.780Z"
      },
      {
        "duration": 84,
        "start_time": "2022-06-05T19:20:53.881Z"
      },
      {
        "duration": 29,
        "start_time": "2022-06-05T19:20:53.969Z"
      },
      {
        "duration": 4,
        "start_time": "2022-06-05T19:20:54.006Z"
      },
      {
        "duration": 8,
        "start_time": "2022-06-05T19:20:54.013Z"
      },
      {
        "duration": 7,
        "start_time": "2022-06-05T19:20:54.023Z"
      },
      {
        "duration": 13,
        "start_time": "2022-06-05T19:20:54.033Z"
      },
      {
        "duration": 51,
        "start_time": "2022-06-05T19:20:54.048Z"
      },
      {
        "duration": 92,
        "start_time": "2022-06-05T19:20:54.102Z"
      },
      {
        "duration": 114,
        "start_time": "2022-06-05T19:20:54.197Z"
      },
      {
        "duration": 125,
        "start_time": "2022-06-05T19:20:54.313Z"
      },
      {
        "duration": 85,
        "start_time": "2022-06-05T19:22:43.244Z"
      },
      {
        "duration": 16,
        "start_time": "2022-06-05T19:24:33.312Z"
      },
      {
        "duration": 19,
        "start_time": "2022-06-05T19:24:47.985Z"
      },
      {
        "duration": 14,
        "start_time": "2022-06-05T19:25:01.409Z"
      },
      {
        "duration": 13,
        "start_time": "2022-06-05T19:25:05.914Z"
      },
      {
        "duration": 13,
        "start_time": "2022-06-05T19:27:21.411Z"
      },
      {
        "duration": 16,
        "start_time": "2022-06-05T19:28:41.975Z"
      },
      {
        "duration": 13,
        "start_time": "2022-06-05T19:28:55.212Z"
      },
      {
        "duration": 8,
        "start_time": "2022-06-05T19:29:10.314Z"
      },
      {
        "duration": 144,
        "start_time": "2022-06-05T19:29:13.575Z"
      },
      {
        "duration": 21,
        "start_time": "2022-06-05T19:29:15.438Z"
      },
      {
        "duration": 9,
        "start_time": "2022-06-05T19:29:19.440Z"
      },
      {
        "duration": 10,
        "start_time": "2022-06-05T19:29:21.780Z"
      },
      {
        "duration": 18,
        "start_time": "2022-06-05T19:29:25.414Z"
      },
      {
        "duration": 12,
        "start_time": "2022-06-05T19:29:27.414Z"
      },
      {
        "duration": 7,
        "start_time": "2022-06-05T19:29:40.049Z"
      },
      {
        "duration": 18,
        "start_time": "2022-06-05T19:29:42.909Z"
      },
      {
        "duration": 50,
        "start_time": "2022-06-05T19:29:45.250Z"
      },
      {
        "duration": 15,
        "start_time": "2022-06-05T19:29:47.519Z"
      },
      {
        "duration": 17,
        "start_time": "2022-06-05T19:29:49.288Z"
      },
      {
        "duration": 42,
        "start_time": "2022-06-05T19:29:53.886Z"
      },
      {
        "duration": 15,
        "start_time": "2022-06-05T19:29:56.165Z"
      },
      {
        "duration": 35,
        "start_time": "2022-06-05T19:29:57.886Z"
      },
      {
        "duration": 16,
        "start_time": "2022-06-05T19:30:00.451Z"
      },
      {
        "duration": 22,
        "start_time": "2022-06-05T19:30:03.503Z"
      },
      {
        "duration": 23,
        "start_time": "2022-06-05T19:30:09.009Z"
      },
      {
        "duration": 5,
        "start_time": "2022-06-05T19:30:10.764Z"
      },
      {
        "duration": 16,
        "start_time": "2022-06-05T19:30:12.836Z"
      },
      {
        "duration": 14,
        "start_time": "2022-06-05T19:30:14.778Z"
      },
      {
        "duration": 4,
        "start_time": "2022-06-05T19:30:27.547Z"
      },
      {
        "duration": 16,
        "start_time": "2022-06-05T19:30:30.609Z"
      },
      {
        "duration": 12,
        "start_time": "2022-06-05T19:30:33.068Z"
      },
      {
        "duration": 10,
        "start_time": "2022-06-05T19:31:15.852Z"
      },
      {
        "duration": 6,
        "start_time": "2022-06-05T19:31:20.078Z"
      },
      {
        "duration": 25,
        "start_time": "2022-06-05T19:31:22.376Z"
      },
      {
        "duration": 107,
        "start_time": "2022-06-05T19:31:24.520Z"
      },
      {
        "duration": 12,
        "start_time": "2022-06-05T19:31:26.210Z"
      },
      {
        "duration": 31,
        "start_time": "2022-06-05T19:33:22.489Z"
      },
      {
        "duration": 184,
        "start_time": "2022-06-05T19:33:27.320Z"
      },
      {
        "duration": 11,
        "start_time": "2022-06-05T19:33:31.042Z"
      },
      {
        "duration": 13,
        "start_time": "2022-06-05T19:33:32.815Z"
      },
      {
        "duration": 11,
        "start_time": "2022-06-05T19:33:34.944Z"
      },
      {
        "duration": 16,
        "start_time": "2022-06-05T19:33:45.529Z"
      },
      {
        "duration": 36,
        "start_time": "2022-06-05T19:33:48.304Z"
      },
      {
        "duration": 7,
        "start_time": "2022-06-05T19:36:06.043Z"
      },
      {
        "duration": 10,
        "start_time": "2022-06-05T19:36:08.568Z"
      },
      {
        "duration": 8,
        "start_time": "2022-06-05T19:36:21.413Z"
      },
      {
        "duration": 16,
        "start_time": "2022-06-05T19:36:25.918Z"
      },
      {
        "duration": 21,
        "start_time": "2022-06-05T19:36:27.491Z"
      },
      {
        "duration": 11,
        "start_time": "2022-06-05T19:36:31.112Z"
      },
      {
        "duration": 9,
        "start_time": "2022-06-05T19:36:33.454Z"
      },
      {
        "duration": 6,
        "start_time": "2022-06-05T19:36:35.462Z"
      },
      {
        "duration": 10,
        "start_time": "2022-06-05T19:36:37.542Z"
      },
      {
        "duration": 6,
        "start_time": "2022-06-05T19:36:41.458Z"
      },
      {
        "duration": 9,
        "start_time": "2022-06-05T19:36:43.121Z"
      },
      {
        "duration": 15,
        "start_time": "2022-06-05T19:36:49.253Z"
      },
      {
        "duration": 23,
        "start_time": "2022-06-05T19:37:41.179Z"
      },
      {
        "duration": 15,
        "start_time": "2022-06-05T19:37:43.344Z"
      },
      {
        "duration": 21,
        "start_time": "2022-06-05T19:37:55.535Z"
      },
      {
        "duration": 31,
        "start_time": "2022-06-05T19:37:58.724Z"
      },
      {
        "duration": 16,
        "start_time": "2022-06-05T19:38:00.954Z"
      },
      {
        "duration": 38,
        "start_time": "2022-06-05T19:38:02.977Z"
      },
      {
        "duration": 14,
        "start_time": "2022-06-05T19:38:06.445Z"
      },
      {
        "duration": 26,
        "start_time": "2022-06-05T19:38:08.090Z"
      },
      {
        "duration": 15,
        "start_time": "2022-06-05T19:38:10.010Z"
      },
      {
        "duration": 17,
        "start_time": "2022-06-05T19:38:11.709Z"
      },
      {
        "duration": 12,
        "start_time": "2022-06-05T19:38:14.411Z"
      },
      {
        "duration": 22,
        "start_time": "2022-06-05T19:38:16.042Z"
      },
      {
        "duration": 13,
        "start_time": "2022-06-05T19:56:40.414Z"
      },
      {
        "duration": 44,
        "start_time": "2022-06-05T19:57:38.142Z"
      },
      {
        "duration": 12,
        "start_time": "2022-06-05T19:57:43.352Z"
      },
      {
        "duration": 27,
        "start_time": "2022-06-05T19:57:51.056Z"
      },
      {
        "duration": 14,
        "start_time": "2022-06-05T19:57:59.666Z"
      },
      {
        "duration": 6,
        "start_time": "2022-06-05T20:27:24.019Z"
      },
      {
        "duration": 14,
        "start_time": "2022-06-05T20:27:27.125Z"
      },
      {
        "duration": 28,
        "start_time": "2022-06-05T20:27:30.103Z"
      },
      {
        "duration": 11,
        "start_time": "2022-06-05T20:27:32.046Z"
      },
      {
        "duration": 21,
        "start_time": "2022-06-05T20:27:35.408Z"
      },
      {
        "duration": 23,
        "start_time": "2022-06-05T20:27:39.114Z"
      },
      {
        "duration": 12,
        "start_time": "2022-06-05T20:27:42.941Z"
      },
      {
        "duration": 4,
        "start_time": "2022-06-05T20:30:57.681Z"
      },
      {
        "duration": 18,
        "start_time": "2022-06-05T20:31:00.733Z"
      },
      {
        "duration": 20,
        "start_time": "2022-06-05T20:31:03.612Z"
      },
      {
        "duration": 11,
        "start_time": "2022-06-05T20:31:05.220Z"
      },
      {
        "duration": 14,
        "start_time": "2022-06-05T20:31:10.887Z"
      },
      {
        "duration": 5,
        "start_time": "2022-06-05T20:31:12.876Z"
      },
      {
        "duration": 13,
        "start_time": "2022-06-05T20:31:15.384Z"
      },
      {
        "duration": 11,
        "start_time": "2022-06-05T20:31:22.750Z"
      },
      {
        "duration": 9,
        "start_time": "2022-06-05T20:31:32.554Z"
      },
      {
        "duration": 19,
        "start_time": "2022-06-05T20:31:35.112Z"
      },
      {
        "duration": 21,
        "start_time": "2022-06-05T20:31:37.419Z"
      },
      {
        "duration": 14,
        "start_time": "2022-06-05T20:34:47.725Z"
      },
      {
        "duration": 14,
        "start_time": "2022-06-05T20:35:01.061Z"
      },
      {
        "duration": 10,
        "start_time": "2022-06-05T20:35:02.824Z"
      },
      {
        "duration": 11,
        "start_time": "2022-06-05T20:35:04.828Z"
      },
      {
        "duration": 24,
        "start_time": "2022-06-05T20:35:06.383Z"
      },
      {
        "duration": 6,
        "start_time": "2022-06-05T20:35:09.448Z"
      },
      {
        "duration": 5,
        "start_time": "2022-06-05T20:36:16.763Z"
      },
      {
        "duration": 16,
        "start_time": "2022-06-05T20:36:19.811Z"
      },
      {
        "duration": 13,
        "start_time": "2022-06-05T20:36:21.997Z"
      },
      {
        "duration": 6,
        "start_time": "2022-06-05T20:39:39.031Z"
      },
      {
        "duration": 15,
        "start_time": "2022-06-05T20:39:43.572Z"
      },
      {
        "duration": 11,
        "start_time": "2022-06-05T20:39:45.364Z"
      },
      {
        "duration": 6,
        "start_time": "2022-06-05T20:44:12.821Z"
      },
      {
        "duration": 19,
        "start_time": "2022-06-05T20:44:15.366Z"
      },
      {
        "duration": 10,
        "start_time": "2022-06-05T20:44:33.203Z"
      },
      {
        "duration": 46,
        "start_time": "2022-06-05T20:44:36.287Z"
      },
      {
        "duration": 7,
        "start_time": "2022-06-05T20:49:29.074Z"
      },
      {
        "duration": 77,
        "start_time": "2022-06-05T20:49:32.417Z"
      },
      {
        "duration": 910,
        "start_time": "2022-06-06T09:43:50.106Z"
      },
      {
        "duration": 78,
        "start_time": "2022-06-06T09:43:51.018Z"
      },
      {
        "duration": 81,
        "start_time": "2022-06-06T09:43:51.098Z"
      },
      {
        "duration": 18,
        "start_time": "2022-06-06T09:43:51.182Z"
      },
      {
        "duration": 5,
        "start_time": "2022-06-06T09:43:51.202Z"
      },
      {
        "duration": 7,
        "start_time": "2022-06-06T09:43:51.209Z"
      },
      {
        "duration": 7,
        "start_time": "2022-06-06T09:43:51.217Z"
      },
      {
        "duration": 18,
        "start_time": "2022-06-06T09:43:51.226Z"
      },
      {
        "duration": 32,
        "start_time": "2022-06-06T09:43:51.245Z"
      },
      {
        "duration": 7,
        "start_time": "2022-06-06T09:43:51.280Z"
      },
      {
        "duration": 101,
        "start_time": "2022-06-06T09:43:51.366Z"
      },
      {
        "duration": 259,
        "start_time": "2022-06-06T09:43:51.470Z"
      },
      {
        "duration": 4,
        "start_time": "2022-06-06T09:44:31.051Z"
      },
      {
        "duration": 12,
        "start_time": "2022-06-06T09:44:33.575Z"
      },
      {
        "duration": 13,
        "start_time": "2022-06-06T09:44:37.686Z"
      },
      {
        "duration": 13,
        "start_time": "2022-06-06T09:44:54.373Z"
      },
      {
        "duration": 9,
        "start_time": "2022-06-06T09:44:57.757Z"
      },
      {
        "duration": 10,
        "start_time": "2022-06-06T09:45:01.707Z"
      },
      {
        "duration": 11,
        "start_time": "2022-06-06T09:45:17.037Z"
      },
      {
        "duration": 11,
        "start_time": "2022-06-06T09:45:46.514Z"
      },
      {
        "duration": 15,
        "start_time": "2022-06-06T09:45:48.612Z"
      },
      {
        "duration": 15,
        "start_time": "2022-06-06T09:45:59.675Z"
      },
      {
        "duration": 12,
        "start_time": "2022-06-06T09:46:10.741Z"
      },
      {
        "duration": 17,
        "start_time": "2022-06-06T09:46:13.319Z"
      },
      {
        "duration": 6,
        "start_time": "2022-06-06T09:51:47.988Z"
      },
      {
        "duration": 19,
        "start_time": "2022-06-06T09:51:51.184Z"
      },
      {
        "duration": 17,
        "start_time": "2022-06-06T09:51:53.253Z"
      },
      {
        "duration": 15,
        "start_time": "2022-06-06T09:52:17.453Z"
      },
      {
        "duration": 4,
        "start_time": "2022-06-06T09:52:41.534Z"
      },
      {
        "duration": 12,
        "start_time": "2022-06-06T09:52:44.387Z"
      },
      {
        "duration": 10,
        "start_time": "2022-06-06T09:52:45.384Z"
      },
      {
        "duration": 13,
        "start_time": "2022-06-06T09:52:58.002Z"
      },
      {
        "duration": 5,
        "start_time": "2022-06-06T09:53:23.488Z"
      },
      {
        "duration": 10,
        "start_time": "2022-06-06T09:53:27.980Z"
      },
      {
        "duration": 13,
        "start_time": "2022-06-06T09:53:33.677Z"
      },
      {
        "duration": 21,
        "start_time": "2022-06-06T09:56:38.224Z"
      },
      {
        "duration": 7,
        "start_time": "2022-06-06T09:56:40.360Z"
      },
      {
        "duration": 5,
        "start_time": "2022-06-06T09:56:46.578Z"
      },
      {
        "duration": 18,
        "start_time": "2022-06-06T09:56:49.371Z"
      },
      {
        "duration": 25,
        "start_time": "2022-06-06T09:56:53.390Z"
      },
      {
        "duration": 14,
        "start_time": "2022-06-06T09:56:55.819Z"
      },
      {
        "duration": 16,
        "start_time": "2022-06-06T09:56:59.029Z"
      },
      {
        "duration": 13,
        "start_time": "2022-06-06T09:57:04.819Z"
      },
      {
        "duration": 9,
        "start_time": "2022-06-06T09:57:09.742Z"
      },
      {
        "duration": 11,
        "start_time": "2022-06-06T09:57:11.830Z"
      },
      {
        "duration": 11,
        "start_time": "2022-06-06T09:57:17.218Z"
      },
      {
        "duration": 12,
        "start_time": "2022-06-06T09:57:19.174Z"
      },
      {
        "duration": 70,
        "start_time": "2022-06-06T09:59:07.309Z"
      },
      {
        "duration": 19,
        "start_time": "2022-06-06T09:59:16.230Z"
      },
      {
        "duration": 12,
        "start_time": "2022-06-06T09:59:17.043Z"
      },
      {
        "duration": 13,
        "start_time": "2022-06-06T09:59:21.034Z"
      },
      {
        "duration": 20,
        "start_time": "2022-06-06T09:59:26.959Z"
      },
      {
        "duration": 6,
        "start_time": "2022-06-06T10:13:48.077Z"
      },
      {
        "duration": 5,
        "start_time": "2022-06-06T10:13:52.659Z"
      },
      {
        "duration": 0,
        "start_time": "2022-06-06T10:14:23.922Z"
      },
      {
        "duration": 0,
        "start_time": "2022-06-06T10:14:23.924Z"
      },
      {
        "duration": 0,
        "start_time": "2022-06-06T10:14:23.925Z"
      },
      {
        "duration": 5,
        "start_time": "2022-06-06T10:16:15.525Z"
      },
      {
        "duration": 3,
        "start_time": "2022-06-06T10:16:21.365Z"
      },
      {
        "duration": 41,
        "start_time": "2022-06-06T10:16:21.371Z"
      },
      {
        "duration": 12,
        "start_time": "2022-06-06T10:16:21.414Z"
      },
      {
        "duration": 16,
        "start_time": "2022-06-06T10:16:21.428Z"
      },
      {
        "duration": 4,
        "start_time": "2022-06-06T10:16:21.446Z"
      },
      {
        "duration": 12,
        "start_time": "2022-06-06T10:16:21.452Z"
      },
      {
        "duration": 5,
        "start_time": "2022-06-06T10:16:21.466Z"
      },
      {
        "duration": 17,
        "start_time": "2022-06-06T10:16:21.473Z"
      },
      {
        "duration": 82,
        "start_time": "2022-06-06T10:16:21.492Z"
      },
      {
        "duration": 102,
        "start_time": "2022-06-06T10:16:21.576Z"
      },
      {
        "duration": 0,
        "start_time": "2022-06-06T10:16:21.680Z"
      },
      {
        "duration": 0,
        "start_time": "2022-06-06T10:16:21.681Z"
      },
      {
        "duration": 0,
        "start_time": "2022-06-06T10:16:21.683Z"
      },
      {
        "duration": 0,
        "start_time": "2022-06-06T10:16:21.684Z"
      },
      {
        "duration": 0,
        "start_time": "2022-06-06T10:16:21.686Z"
      },
      {
        "duration": 5,
        "start_time": "2022-06-06T10:16:39.253Z"
      },
      {
        "duration": 21,
        "start_time": "2022-06-06T10:16:42.255Z"
      },
      {
        "duration": 25883,
        "start_time": "2022-06-06T10:16:43.515Z"
      },
      {
        "duration": 0,
        "start_time": "2022-06-06T10:17:09.400Z"
      },
      {
        "duration": 0,
        "start_time": "2022-06-06T10:17:09.402Z"
      },
      {
        "duration": 7,
        "start_time": "2022-06-06T10:18:12.255Z"
      },
      {
        "duration": 88,
        "start_time": "2022-06-06T10:18:15.079Z"
      },
      {
        "duration": 10,
        "start_time": "2022-06-06T10:18:16.245Z"
      },
      {
        "duration": 11,
        "start_time": "2022-06-06T10:18:17.804Z"
      },
      {
        "duration": 12,
        "start_time": "2022-06-06T10:18:18.935Z"
      },
      {
        "duration": 16,
        "start_time": "2022-06-06T10:21:08.609Z"
      },
      {
        "duration": 15,
        "start_time": "2022-06-06T10:21:27.238Z"
      },
      {
        "duration": 956,
        "start_time": "2022-06-06T18:53:50.398Z"
      },
      {
        "duration": 132,
        "start_time": "2022-06-06T18:53:51.357Z"
      },
      {
        "duration": 90,
        "start_time": "2022-06-06T18:53:51.491Z"
      },
      {
        "duration": 19,
        "start_time": "2022-06-06T18:53:51.583Z"
      },
      {
        "duration": 10,
        "start_time": "2022-06-06T18:53:51.604Z"
      },
      {
        "duration": 37,
        "start_time": "2022-06-06T18:53:51.616Z"
      },
      {
        "duration": 17,
        "start_time": "2022-06-06T18:53:51.657Z"
      },
      {
        "duration": 25,
        "start_time": "2022-06-06T18:53:51.676Z"
      },
      {
        "duration": 39,
        "start_time": "2022-06-06T18:53:51.703Z"
      },
      {
        "duration": 109,
        "start_time": "2022-06-06T18:53:51.752Z"
      },
      {
        "duration": 66,
        "start_time": "2022-06-06T18:53:51.863Z"
      },
      {
        "duration": 134,
        "start_time": "2022-06-06T18:53:51.931Z"
      },
      {
        "duration": 179,
        "start_time": "2022-06-06T18:53:52.067Z"
      },
      {
        "duration": 208,
        "start_time": "2022-06-06T18:53:52.248Z"
      },
      {
        "duration": 10,
        "start_time": "2022-06-06T18:54:45.382Z"
      },
      {
        "duration": 12,
        "start_time": "2022-06-06T18:54:47.674Z"
      },
      {
        "duration": 906,
        "start_time": "2022-06-07T05:51:56.003Z"
      },
      {
        "duration": 29,
        "start_time": "2022-06-07T05:51:56.911Z"
      },
      {
        "duration": 58,
        "start_time": "2022-06-07T05:51:56.942Z"
      },
      {
        "duration": 19,
        "start_time": "2022-06-07T05:51:57.002Z"
      },
      {
        "duration": 5,
        "start_time": "2022-06-07T05:51:57.022Z"
      },
      {
        "duration": 7,
        "start_time": "2022-06-07T05:51:57.028Z"
      },
      {
        "duration": 6,
        "start_time": "2022-06-07T05:51:57.037Z"
      },
      {
        "duration": 11,
        "start_time": "2022-06-07T05:51:57.045Z"
      },
      {
        "duration": 72,
        "start_time": "2022-06-07T05:51:57.058Z"
      },
      {
        "duration": 97,
        "start_time": "2022-06-07T05:51:57.133Z"
      },
      {
        "duration": 20,
        "start_time": "2022-06-07T05:51:57.231Z"
      },
      {
        "duration": 83,
        "start_time": "2022-06-07T05:51:57.253Z"
      },
      {
        "duration": 106,
        "start_time": "2022-06-07T05:51:57.428Z"
      },
      {
        "duration": 201,
        "start_time": "2022-06-07T05:51:57.536Z"
      },
      {
        "duration": 859,
        "start_time": "2022-06-07T14:46:52.595Z"
      },
      {
        "duration": 94,
        "start_time": "2022-06-07T14:46:53.456Z"
      },
      {
        "duration": 76,
        "start_time": "2022-06-07T14:46:53.552Z"
      },
      {
        "duration": 11,
        "start_time": "2022-06-07T14:46:53.629Z"
      },
      {
        "duration": 5,
        "start_time": "2022-06-07T14:46:53.641Z"
      },
      {
        "duration": 6,
        "start_time": "2022-06-07T14:46:53.648Z"
      },
      {
        "duration": 8,
        "start_time": "2022-06-07T14:46:53.656Z"
      },
      {
        "duration": 14,
        "start_time": "2022-06-07T14:46:53.665Z"
      },
      {
        "duration": 27,
        "start_time": "2022-06-07T14:46:53.694Z"
      },
      {
        "duration": 73,
        "start_time": "2022-06-07T14:46:53.723Z"
      },
      {
        "duration": 124,
        "start_time": "2022-06-07T14:46:53.799Z"
      },
      {
        "duration": 88,
        "start_time": "2022-06-07T14:46:53.924Z"
      },
      {
        "duration": 195,
        "start_time": "2022-06-07T14:46:54.015Z"
      },
      {
        "duration": 92,
        "start_time": "2022-06-07T14:46:54.217Z"
      },
      {
        "duration": 3,
        "start_time": "2022-06-07T14:47:32.290Z"
      },
      {
        "duration": 37,
        "start_time": "2022-06-07T14:47:32.295Z"
      },
      {
        "duration": 9,
        "start_time": "2022-06-07T14:47:32.333Z"
      },
      {
        "duration": 14,
        "start_time": "2022-06-07T14:47:32.343Z"
      },
      {
        "duration": 8,
        "start_time": "2022-06-07T14:47:32.359Z"
      },
      {
        "duration": 8,
        "start_time": "2022-06-07T14:47:32.369Z"
      },
      {
        "duration": 17,
        "start_time": "2022-06-07T14:47:32.379Z"
      },
      {
        "duration": 21,
        "start_time": "2022-06-07T14:47:32.398Z"
      },
      {
        "duration": 77,
        "start_time": "2022-06-07T14:47:32.421Z"
      },
      {
        "duration": 99,
        "start_time": "2022-06-07T14:47:32.500Z"
      },
      {
        "duration": 10,
        "start_time": "2022-06-07T14:47:32.601Z"
      },
      {
        "duration": 82,
        "start_time": "2022-06-07T14:47:32.613Z"
      },
      {
        "duration": 100,
        "start_time": "2022-06-07T14:47:32.698Z"
      },
      {
        "duration": 111,
        "start_time": "2022-06-07T14:47:32.800Z"
      },
      {
        "duration": 4,
        "start_time": "2022-06-07T14:49:07.460Z"
      },
      {
        "duration": 42,
        "start_time": "2022-06-07T14:49:07.466Z"
      },
      {
        "duration": 11,
        "start_time": "2022-06-07T14:49:07.509Z"
      },
      {
        "duration": 24,
        "start_time": "2022-06-07T14:49:07.523Z"
      },
      {
        "duration": 11,
        "start_time": "2022-06-07T14:49:07.549Z"
      },
      {
        "duration": 26,
        "start_time": "2022-06-07T14:49:07.562Z"
      },
      {
        "duration": 12,
        "start_time": "2022-06-07T14:49:07.592Z"
      },
      {
        "duration": 36,
        "start_time": "2022-06-07T14:49:07.606Z"
      },
      {
        "duration": 12,
        "start_time": "2022-06-07T14:49:07.644Z"
      },
      {
        "duration": 152,
        "start_time": "2022-06-07T14:49:07.658Z"
      },
      {
        "duration": 18,
        "start_time": "2022-06-07T14:49:07.812Z"
      },
      {
        "duration": 172,
        "start_time": "2022-06-07T14:49:07.832Z"
      },
      {
        "duration": 202,
        "start_time": "2022-06-07T14:49:08.006Z"
      },
      {
        "duration": 86,
        "start_time": "2022-06-07T14:49:08.213Z"
      },
      {
        "duration": 3,
        "start_time": "2022-06-07T14:49:35.602Z"
      },
      {
        "duration": 33,
        "start_time": "2022-06-07T14:49:35.607Z"
      },
      {
        "duration": 8,
        "start_time": "2022-06-07T14:49:35.642Z"
      },
      {
        "duration": 12,
        "start_time": "2022-06-07T14:49:35.651Z"
      },
      {
        "duration": 10,
        "start_time": "2022-06-07T14:49:35.665Z"
      },
      {
        "duration": 8,
        "start_time": "2022-06-07T14:49:35.676Z"
      },
      {
        "duration": 7,
        "start_time": "2022-06-07T14:49:35.686Z"
      },
      {
        "duration": 12,
        "start_time": "2022-06-07T14:49:35.695Z"
      },
      {
        "duration": 17,
        "start_time": "2022-06-07T14:49:35.709Z"
      },
      {
        "duration": 103,
        "start_time": "2022-06-07T14:49:35.797Z"
      },
      {
        "duration": 12,
        "start_time": "2022-06-07T14:49:35.903Z"
      },
      {
        "duration": 82,
        "start_time": "2022-06-07T14:49:35.917Z"
      },
      {
        "duration": 108,
        "start_time": "2022-06-07T14:49:36.001Z"
      },
      {
        "duration": 185,
        "start_time": "2022-06-07T14:49:36.110Z"
      },
      {
        "duration": 4,
        "start_time": "2022-06-07T14:50:14.505Z"
      },
      {
        "duration": 10,
        "start_time": "2022-06-07T14:50:16.799Z"
      },
      {
        "duration": 195,
        "start_time": "2022-06-07T14:50:18.858Z"
      },
      {
        "duration": 5,
        "start_time": "2022-06-07T14:50:28.758Z"
      },
      {
        "duration": 7,
        "start_time": "2022-06-07T14:50:34.398Z"
      },
      {
        "duration": 4,
        "start_time": "2022-06-07T14:50:54.606Z"
      },
      {
        "duration": 3,
        "start_time": "2022-06-07T15:08:39.473Z"
      },
      {
        "duration": 71,
        "start_time": "2022-06-07T15:08:39.477Z"
      },
      {
        "duration": 8,
        "start_time": "2022-06-07T15:08:39.549Z"
      },
      {
        "duration": 11,
        "start_time": "2022-06-07T15:08:39.558Z"
      },
      {
        "duration": 4,
        "start_time": "2022-06-07T15:08:39.571Z"
      },
      {
        "duration": 6,
        "start_time": "2022-06-07T15:08:39.576Z"
      },
      {
        "duration": 7,
        "start_time": "2022-06-07T15:08:39.583Z"
      },
      {
        "duration": 12,
        "start_time": "2022-06-07T15:08:39.591Z"
      },
      {
        "duration": 14,
        "start_time": "2022-06-07T15:08:39.604Z"
      },
      {
        "duration": 84,
        "start_time": "2022-06-07T15:08:39.620Z"
      },
      {
        "duration": 102,
        "start_time": "2022-06-07T15:08:39.705Z"
      },
      {
        "duration": 92,
        "start_time": "2022-06-07T15:08:39.812Z"
      },
      {
        "duration": 100,
        "start_time": "2022-06-07T15:08:39.907Z"
      },
      {
        "duration": 100,
        "start_time": "2022-06-07T15:08:40.009Z"
      },
      {
        "duration": 8,
        "start_time": "2022-06-07T15:33:03.045Z"
      },
      {
        "duration": 11,
        "start_time": "2022-06-07T15:33:24.417Z"
      },
      {
        "duration": 33,
        "start_time": "2022-06-07T16:17:04.176Z"
      },
      {
        "duration": 3,
        "start_time": "2022-06-07T16:28:28.180Z"
      },
      {
        "duration": 11,
        "start_time": "2022-06-07T16:29:08.742Z"
      },
      {
        "duration": 41,
        "start_time": "2022-06-08T11:44:51.976Z"
      },
      {
        "duration": 43,
        "start_time": "2022-06-08T12:52:45.061Z"
      },
      {
        "duration": 38,
        "start_time": "2022-06-09T20:15:17.778Z"
      }
    ],
    "kernelspec": {
      "display_name": "Python 3 (ipykernel)",
      "language": "python",
      "name": "python3"
    },
    "language_info": {
      "codemirror_mode": {
        "name": "ipython",
        "version": 3
      },
      "file_extension": ".py",
      "mimetype": "text/x-python",
      "name": "python",
      "nbconvert_exporter": "python",
      "pygments_lexer": "ipython3",
      "version": "3.9.5"
    },
    "toc": {
      "base_numbering": 1,
      "nav_menu": {},
      "number_sections": true,
      "sideBar": true,
      "skip_h1_title": true,
      "title_cell": "Содержание",
      "title_sidebar": "Contents",
      "toc_cell": true,
      "toc_position": {
        "height": "calc(100% - 180px)",
        "left": "10px",
        "top": "150px",
        "width": "189.08px"
      },
      "toc_section_display": true,
      "toc_window_display": true
    },
    "colab": {
      "provenance": [],
      "collapsed_sections": []
    }
  },
  "nbformat": 4,
  "nbformat_minor": 0
}