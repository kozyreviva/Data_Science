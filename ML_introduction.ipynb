{
  "nbformat": 4,
  "nbformat_minor": 0,
  "metadata": {
    "colab": {
      "name": "ML_introduction.ipynb",
      "provenance": [],
      "collapsed_sections": [],
      "authorship_tag": "ABX9TyMP7cATAylGo1SXNBNQ16A4",
      "include_colab_link": true
    },
    "kernelspec": {
      "name": "python3",
      "display_name": "Python 3"
    },
    "language_info": {
      "name": "python"
    }
  },
  "cells": [
    {
      "cell_type": "markdown",
      "metadata": {
        "id": "view-in-github",
        "colab_type": "text"
      },
      "source": [
        "<a href=\"https://colab.research.google.com/github/kozyreviva/Data_Science/blob/main/ML_introduction.ipynb\" target=\"_parent\"><img src=\"https://colab.research.google.com/assets/colab-badge.svg\" alt=\"Open In Colab\"/></a>"
      ]
    },
    {
      "cell_type": "markdown",
      "source": [
        "<div class=\"alert alert-info\">\n",
        "<b>Комментарий студента:</b>\n",
        "<br>Дописал) Спасибо за подсказку.\n",
        "</div>"
      ],
      "metadata": {
        "id": "4Pq6gMZbDgZU"
      }
    },
    {
      "cell_type": "markdown",
      "source": [
        "**ВВЕДЕНИЕ В МАШИННОЕ ОБУЧЕНИЕ**\n",
        "\n",
        "Оператор мобильной связи «Мегалайн» хочет построить систему, способную проанализировать поведение клиентов и предложить пользователям новые тарифы: «Смарт» или «Ультра».\n",
        "\n",
        "В нашем распоряжении данные о поведении клиентов, которые уже перешли на эти тарифы. Нужно построить модель для задачи классификации, которая выберет подходящий тариф.\n",
        "\n",
        "Необходимо постройте модель с максимально большим значением accuracy. Нужно довести долю правильных ответов по крайней мере до 0.75.\n",
        "\n",
        "\n",
        "\n",
        "**План работы**\n",
        " * Открыть файл с данными и изучить его. Путь к файлу: datasets/users_behavior.csv. Скачать датасет.\n",
        " * Разделить исходные данные на обучающую, валидационную и тестовую выборки.\n",
        " * Исследовать качество разных моделей, меняя гиперпараметры. Кратко написать выводы исследования.\n",
        " * Проверить качество модели на тестовой выборке.\n",
        " * Дополнительное задание: проверить модель на вменяемость."
      ],
      "metadata": {
        "id": "YhkOWGibgKje"
      }
    },
    {
      "cell_type": "markdown",
      "source": [
        "Подключение библиотек."
      ],
      "metadata": {
        "id": "ZXS0R5Z5iMPv"
      }
    },
    {
      "cell_type": "code",
      "source": [
        "#подключение библиотек\n",
        "import pandas as pd\n",
        "from sklearn.tree import DecisionTreeRegressor\n",
        "from sklearn.ensemble import RandomForestRegressor\n",
        "from sklearn.linear_model import LinearRegression\n",
        "from sklearn.model_selection import train_test_split\n",
        "from sklearn.metrics import mean_squared_error\n",
        "from sklearn.metrics import accuracy_score"
      ],
      "metadata": {
        "id": "iachnwH2iTu5"
      },
      "execution_count": 71,
      "outputs": []
    },
    {
      "cell_type": "markdown",
      "source": [
        ""
      ],
      "metadata": {
        "id": "B2WOLG__hmLY"
      }
    },
    {
      "cell_type": "code",
      "execution_count": 72,
      "metadata": {
        "id": "ptvIsrfSfuKA"
      },
      "outputs": [],
      "source": [
        "#датафрейм сохраняем в переменную\n",
        "try:\n",
        "  df = pd.read_csv(\"/datasets/users_behavior.csv\")\n",
        "except:\n",
        "  df = pd.read_csv(\"users_behavior.csv\")"
      ]
    },
    {
      "cell_type": "markdown",
      "source": [
        "Просмотр датафрейма."
      ],
      "metadata": {
        "id": "J2YW0Fpfj0xB"
      }
    },
    {
      "cell_type": "code",
      "source": [
        "#вывод первых 5 строк датафрейма\n",
        "df.head()"
      ],
      "metadata": {
        "colab": {
          "base_uri": "https://localhost:8080/",
          "height": 206
        },
        "id": "w47KL9rIjeZ_",
        "outputId": "1970bf9f-a54f-4eb9-f116-af9b088ab530"
      },
      "execution_count": 73,
      "outputs": [
        {
          "output_type": "execute_result",
          "data": {
            "text/plain": [
              "   calls  minutes  messages   mb_used  is_ultra\n",
              "0   40.0   311.90      83.0  19915.42         0\n",
              "1   85.0   516.75      56.0  22696.96         0\n",
              "2   77.0   467.66      86.0  21060.45         0\n",
              "3  106.0   745.53      81.0   8437.39         1\n",
              "4   66.0   418.74       1.0  14502.75         0"
            ],
            "text/html": [
              "\n",
              "  <div id=\"df-79c45aaf-2c56-411b-aa9f-005bc3bf8e66\">\n",
              "    <div class=\"colab-df-container\">\n",
              "      <div>\n",
              "<style scoped>\n",
              "    .dataframe tbody tr th:only-of-type {\n",
              "        vertical-align: middle;\n",
              "    }\n",
              "\n",
              "    .dataframe tbody tr th {\n",
              "        vertical-align: top;\n",
              "    }\n",
              "\n",
              "    .dataframe thead th {\n",
              "        text-align: right;\n",
              "    }\n",
              "</style>\n",
              "<table border=\"1\" class=\"dataframe\">\n",
              "  <thead>\n",
              "    <tr style=\"text-align: right;\">\n",
              "      <th></th>\n",
              "      <th>calls</th>\n",
              "      <th>minutes</th>\n",
              "      <th>messages</th>\n",
              "      <th>mb_used</th>\n",
              "      <th>is_ultra</th>\n",
              "    </tr>\n",
              "  </thead>\n",
              "  <tbody>\n",
              "    <tr>\n",
              "      <th>0</th>\n",
              "      <td>40.0</td>\n",
              "      <td>311.90</td>\n",
              "      <td>83.0</td>\n",
              "      <td>19915.42</td>\n",
              "      <td>0</td>\n",
              "    </tr>\n",
              "    <tr>\n",
              "      <th>1</th>\n",
              "      <td>85.0</td>\n",
              "      <td>516.75</td>\n",
              "      <td>56.0</td>\n",
              "      <td>22696.96</td>\n",
              "      <td>0</td>\n",
              "    </tr>\n",
              "    <tr>\n",
              "      <th>2</th>\n",
              "      <td>77.0</td>\n",
              "      <td>467.66</td>\n",
              "      <td>86.0</td>\n",
              "      <td>21060.45</td>\n",
              "      <td>0</td>\n",
              "    </tr>\n",
              "    <tr>\n",
              "      <th>3</th>\n",
              "      <td>106.0</td>\n",
              "      <td>745.53</td>\n",
              "      <td>81.0</td>\n",
              "      <td>8437.39</td>\n",
              "      <td>1</td>\n",
              "    </tr>\n",
              "    <tr>\n",
              "      <th>4</th>\n",
              "      <td>66.0</td>\n",
              "      <td>418.74</td>\n",
              "      <td>1.0</td>\n",
              "      <td>14502.75</td>\n",
              "      <td>0</td>\n",
              "    </tr>\n",
              "  </tbody>\n",
              "</table>\n",
              "</div>\n",
              "      <button class=\"colab-df-convert\" onclick=\"convertToInteractive('df-79c45aaf-2c56-411b-aa9f-005bc3bf8e66')\"\n",
              "              title=\"Convert this dataframe to an interactive table.\"\n",
              "              style=\"display:none;\">\n",
              "        \n",
              "  <svg xmlns=\"http://www.w3.org/2000/svg\" height=\"24px\"viewBox=\"0 0 24 24\"\n",
              "       width=\"24px\">\n",
              "    <path d=\"M0 0h24v24H0V0z\" fill=\"none\"/>\n",
              "    <path d=\"M18.56 5.44l.94 2.06.94-2.06 2.06-.94-2.06-.94-.94-2.06-.94 2.06-2.06.94zm-11 1L8.5 8.5l.94-2.06 2.06-.94-2.06-.94L8.5 2.5l-.94 2.06-2.06.94zm10 10l.94 2.06.94-2.06 2.06-.94-2.06-.94-.94-2.06-.94 2.06-2.06.94z\"/><path d=\"M17.41 7.96l-1.37-1.37c-.4-.4-.92-.59-1.43-.59-.52 0-1.04.2-1.43.59L10.3 9.45l-7.72 7.72c-.78.78-.78 2.05 0 2.83L4 21.41c.39.39.9.59 1.41.59.51 0 1.02-.2 1.41-.59l7.78-7.78 2.81-2.81c.8-.78.8-2.07 0-2.86zM5.41 20L4 18.59l7.72-7.72 1.47 1.35L5.41 20z\"/>\n",
              "  </svg>\n",
              "      </button>\n",
              "      \n",
              "  <style>\n",
              "    .colab-df-container {\n",
              "      display:flex;\n",
              "      flex-wrap:wrap;\n",
              "      gap: 12px;\n",
              "    }\n",
              "\n",
              "    .colab-df-convert {\n",
              "      background-color: #E8F0FE;\n",
              "      border: none;\n",
              "      border-radius: 50%;\n",
              "      cursor: pointer;\n",
              "      display: none;\n",
              "      fill: #1967D2;\n",
              "      height: 32px;\n",
              "      padding: 0 0 0 0;\n",
              "      width: 32px;\n",
              "    }\n",
              "\n",
              "    .colab-df-convert:hover {\n",
              "      background-color: #E2EBFA;\n",
              "      box-shadow: 0px 1px 2px rgba(60, 64, 67, 0.3), 0px 1px 3px 1px rgba(60, 64, 67, 0.15);\n",
              "      fill: #174EA6;\n",
              "    }\n",
              "\n",
              "    [theme=dark] .colab-df-convert {\n",
              "      background-color: #3B4455;\n",
              "      fill: #D2E3FC;\n",
              "    }\n",
              "\n",
              "    [theme=dark] .colab-df-convert:hover {\n",
              "      background-color: #434B5C;\n",
              "      box-shadow: 0px 1px 3px 1px rgba(0, 0, 0, 0.15);\n",
              "      filter: drop-shadow(0px 1px 2px rgba(0, 0, 0, 0.3));\n",
              "      fill: #FFFFFF;\n",
              "    }\n",
              "  </style>\n",
              "\n",
              "      <script>\n",
              "        const buttonEl =\n",
              "          document.querySelector('#df-79c45aaf-2c56-411b-aa9f-005bc3bf8e66 button.colab-df-convert');\n",
              "        buttonEl.style.display =\n",
              "          google.colab.kernel.accessAllowed ? 'block' : 'none';\n",
              "\n",
              "        async function convertToInteractive(key) {\n",
              "          const element = document.querySelector('#df-79c45aaf-2c56-411b-aa9f-005bc3bf8e66');\n",
              "          const dataTable =\n",
              "            await google.colab.kernel.invokeFunction('convertToInteractive',\n",
              "                                                     [key], {});\n",
              "          if (!dataTable) return;\n",
              "\n",
              "          const docLinkHtml = 'Like what you see? Visit the ' +\n",
              "            '<a target=\"_blank\" href=https://colab.research.google.com/notebooks/data_table.ipynb>data table notebook</a>'\n",
              "            + ' to learn more about interactive tables.';\n",
              "          element.innerHTML = '';\n",
              "          dataTable['output_type'] = 'display_data';\n",
              "          await google.colab.output.renderOutput(dataTable, element);\n",
              "          const docLink = document.createElement('div');\n",
              "          docLink.innerHTML = docLinkHtml;\n",
              "          element.appendChild(docLink);\n",
              "        }\n",
              "      </script>\n",
              "    </div>\n",
              "  </div>\n",
              "  "
            ]
          },
          "metadata": {},
          "execution_count": 73
        }
      ]
    },
    {
      "cell_type": "markdown",
      "source": [
        "Для построения обучающих моделей необходимо разделить датафрейм на признаки и целевой признак. \n",
        "\n",
        "Запишим их в переменные."
      ],
      "metadata": {
        "id": "Lj8l2bs2jXvT"
      }
    },
    {
      "cell_type": "code",
      "source": [
        "features = df.drop(\"is_ultra\", axis = 1)\n",
        "target = df[\"is_ultra\"]"
      ],
      "metadata": {
        "id": "bqzXY2Md7FDr"
      },
      "execution_count": 74,
      "outputs": []
    },
    {
      "cell_type": "markdown",
      "source": [
        "Для обучения моделей разделим поделим признаки на 3 части. \n",
        "\n",
        "* Тренировочную - для обучения модели\n",
        "* Валидационную - для проверки подели\n",
        "* Тестовую - для оценки готовой модели\n",
        "\n",
        "Т.к. мы пользуемся одним набором данных, то поделим признаки сначало в соотношении 80/20/20"
      ],
      "metadata": {
        "id": "fWSTDYGe8wek"
      }
    },
    {
      "cell_type": "code",
      "source": [
        "features_train, features_test, target_train, target_test = train_test_split(features, target,\n",
        "                                                                                 random_state = 12345, test_size = 0.4)"
      ],
      "metadata": {
        "id": "Ji5N7vrk8xGk"
      },
      "execution_count": 75,
      "outputs": []
    },
    {
      "cell_type": "markdown",
      "source": [
        "Поделим тестовую выборку пополам."
      ],
      "metadata": {
        "id": "7DryTDux9nF4"
      }
    },
    {
      "cell_type": "code",
      "source": [
        "features_test, features_valid, target_test, target_valid = train_test_split(features_test, target_test,\n",
        "                                                                             random_state = 12345,test_size = 0.5)"
      ],
      "metadata": {
        "id": "Dga0cFfr9nqz"
      },
      "execution_count": 76,
      "outputs": []
    },
    {
      "cell_type": "markdown",
      "source": [
        "Подберем наилучшую модель для более точного прогноза.\n",
        "Чтобы оценить качество модели для задач классификации будет пользоваться  метрикой accuracy_score.\n",
        "\n",
        "\n",
        "Деерево решений.\n",
        "Зададим гиперпараметры. Для псевдослучайности random_state зададим 12345. Глубину дерева max_depth подберем в цикле для того чтобы избежать недообучения и переобучения. Выведем наилучшую точность и гиперпараметр."
      ],
      "metadata": {
        "id": "5o8_oGZs-mBV"
      }
    },
    {
      "cell_type": "code",
      "source": [
        "\n",
        "best_tree_depht = 0\n",
        "best_accuracy = 0\n",
        "\n",
        "\n",
        "for depth in range(1,11):\n",
        "        model = DecisionTreeRegressor(random_state = 12345,max_depth = depth)\n",
        "        model.fit(features_train, target_train)\n",
        "        predictions = model.predict(features_valid)\n",
        "        accuracy = accuracy_score(target_valid, predictions.round())\n",
        "        if accuracy > best_accuracy:\n",
        "            best_accuracy = accuracy \n",
        "            best_tree_depth = depth\n",
        "            best_model = model\n",
        "\n",
        "\n",
        "print(best_accuracy)\n",
        "print(best_tree_depth)\n",
        "\n"
      ],
      "metadata": {
        "colab": {
          "base_uri": "https://localhost:8080/"
        },
        "id": "MWfcZOQH-38d",
        "outputId": "ba9f791a-b139-4095-d439-ac4cc2674202"
      },
      "execution_count": 77,
      "outputs": [
        {
          "output_type": "stream",
          "name": "stdout",
          "text": [
            "0.7931570762052877\n",
            "7\n"
          ]
        }
      ]
    },
    {
      "cell_type": "markdown",
      "source": [
        "Случайный лес.\n",
        "Зададим гиперпараметры. Для псевдослучайности random_state зададим 12345. Глубину дерева max_depth подберем в цикле от 1 до 10. Количество деревьев подберем в цикле с шагом 10. Выведем наилучшую точность и гиперпараметры."
      ],
      "metadata": {
        "id": "vhDBqXNRW4Ne"
      }
    },
    {
      "cell_type": "code",
      "source": [
        "\n",
        "best_forest_depht = 0\n",
        "best_nest = 0\n",
        "best_accuracy = 0\n",
        "\n",
        "\n",
        "for est in range(10, 51, 5):\n",
        "    for depth in range(1,11):\n",
        "        model = RandomForestRegressor(random_state = 12345,n_estimators = est, max_depth = depth)\n",
        "        model.fit(features_train, target_train)\n",
        "        predictions = model.predict(features_valid)\n",
        "        accuracy = accuracy_score(target_valid,predictions.round())\n",
        "        if accuracy>best_accuracy:\n",
        "            best_accuracy =accuracy\n",
        "            best_forest_depth = depth\n",
        "            best_nest = est\n",
        "\n",
        "\n",
        "print(best_accuracy)\n",
        "print(best_forest_depth)\n",
        "print(best_nest)\n"
      ],
      "metadata": {
        "colab": {
          "base_uri": "https://localhost:8080/"
        },
        "id": "ob3nQXnlXl32",
        "outputId": "4aee2f5b-b61f-4e1f-9d17-8a4dc8f13b31"
      },
      "execution_count": 78,
      "outputs": [
        {
          "output_type": "stream",
          "name": "stdout",
          "text": [
            "0.8118195956454122\n",
            "9\n",
            "15\n"
          ]
        }
      ]
    },
    {
      "cell_type": "markdown",
      "source": [
        "Линейная регрессия.\n",
        "\n",
        "Выведем точность модели."
      ],
      "metadata": {
        "id": "gz4MPmPqXGNS"
      }
    },
    {
      "cell_type": "code",
      "source": [
        "\n",
        "\n",
        "\n",
        "model = LinearRegression()\n",
        "model.fit(features_train, target_train)\n",
        "predictions = model.predict(features_valid)\n",
        "accuracy = accuracy_score(target_valid,predictions.round())\n",
        "        \n",
        "print(accuracy)\n",
        "\n"
      ],
      "metadata": {
        "colab": {
          "base_uri": "https://localhost:8080/"
        },
        "id": "72dmLyroY4Ng",
        "outputId": "c8752b54-642a-4955-c8dc-475ffe52c82c"
      },
      "execution_count": 79,
      "outputs": [
        {
          "output_type": "stream",
          "name": "stdout",
          "text": [
            "0.7402799377916018\n"
          ]
        }
      ]
    },
    {
      "cell_type": "markdown",
      "source": [
        "**Выводы**\n",
        "\n",
        "Как видим,  модель \"Случайный лес\" показала наибольшую точность в 81%. Количество деревьев 15 и глубина 9, такие гиперараметры дали наилучший результат. \n",
        "\n",
        "Оценим готовую модель случайного леса на тестовой выборке."
      ],
      "metadata": {
        "id": "-tz40UkZXLVU"
      }
    },
    {
      "cell_type": "code",
      "source": [
        "model = RandomForestRegressor(random_state = 12345, n_estimators = 15, max_depth = 9)\n",
        "model.fit(features_train,target_train)\n",
        "predictions = model.predict(features_test)\n",
        "\n",
        "print(accuracy_score(target_test,predictions.round()))"
      ],
      "metadata": {
        "colab": {
          "base_uri": "https://localhost:8080/"
        },
        "id": "zvosSE9PRnAs",
        "outputId": "c13ee530-ca09-4b31-cdb2-37bc63942349"
      },
      "execution_count": 80,
      "outputs": [
        {
          "output_type": "stream",
          "name": "stdout",
          "text": [
            "0.7869362363919129\n"
          ]
        }
      ]
    },
    {
      "cell_type": "markdown",
      "source": [
        "Предсказанные значения точны на 78% с реальными значениями."
      ],
      "metadata": {
        "id": "tWl2PjiICnQk"
      }
    },
    {
      "cell_type": "code",
      "source": [
        ""
      ],
      "metadata": {
        "id": "yAkVb7UP9Hxg"
      },
      "execution_count": 80,
      "outputs": []
    }
  ]
}