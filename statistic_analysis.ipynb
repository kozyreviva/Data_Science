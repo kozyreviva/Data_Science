{
  "cells": [
    {
      "cell_type": "markdown",
      "metadata": {
        "id": "view-in-github",
        "colab_type": "text"
      },
      "source": [
        "<a href=\"https://colab.research.google.com/github/kozyreviva/Data_Science/blob/main/statistic_analysis.ipynb\" target=\"_parent\"><img src=\"https://colab.research.google.com/assets/colab-badge.svg\" alt=\"Open In Colab\"/></a>"
      ]
    },
    {
      "cell_type": "markdown",
      "metadata": {
        "id": "Zdy2lilZOO0G"
      },
      "source": [
        "<font size=\"4\"><b>Определение перспективного тарифа для телеком-компании</b></font>\n",
        "\n",
        "\n",
        "Имеется два тарифных плана: «Смарт» и «Ультра».\n",
        "\n",
        "**Тариф «Смарт»**\n",
        "1. Ежемесячная плата: 550 рублей\n",
        "2. Включено 500 минут разговора, 50 сообщений и 15 Гб интернет-трафика\n",
        "3. Стоимость услуг сверх тарифного пакета:\n",
        "  * минута разговора: 3 рубля\n",
        "  * сообщение: 3 рубля\n",
        "  * 1 Гб интернет-трафика: 200 рублей\n",
        "**Тариф «Ультра»**\n",
        "1. Ежемесячная плата: 1950 рублей\n",
        "2. Включено 3000 минут разговора, 1000 сообщений и 30 Гб интернет-трафика\n",
        "3. Стоимость услуг сверх тарифного пакета:\n",
        "  * минута разговора: 1 рубль\n",
        "  * сообщение: 1 рубль\n",
        "  * 1 Гб интернет-трафика: 150 рублей\n",
        "  \n",
        "Задача: Определить какой тарифа приносит больший доход.\n",
        "\n",
        "Необходимо сделать предварительный анализ тарифов на небольшой выборке клиентов. Имеются данные 500 пользователей «Мегалайна»: кто они, откуда, каким тарифом пользуются, сколько звонков и сообщений каждый отправил за 2018 год. Нужно проанализировать поведение клиентов и сделать вывод — какой тариф лучше.\n",
        "\n",
        "**План**\n",
        "\n",
        "* Приведение данных к нужным типам\n",
        "* Проверка на наличие ошибок и их исправление\n",
        "* Подсчет для каждого пользователя:\n",
        "  * количество сделанных звонков и израсходованных минут разговора по месяцам;\n",
        "  * количество отправленных сообщений по месяцам;\n",
        "  * объем израсходованного интернет-трафика по месяцам;\n",
        "  * помесячную выручку с каждого пользователя.\n",
        "* Провести анализ данных\n",
        "* Проверить гипотезы:\n",
        "  * средняя выручка пользователей тарифов «Ультра» и «Смарт» различаются;\n",
        "  * средняя выручка пользователей из Москвы отличается от выручки пользователей из других регионов."
      ]
    },
    {
      "cell_type": "markdown",
      "metadata": {
        "id": "nb4GzoNHLv0k"
      },
      "source": [
        " **Откройте файл с данными и изучите общую информацию** \n",
        "\n",
        " Подключаем необходимые библиотеки."
      ]
    },
    {
      "cell_type": "code",
      "execution_count": null,
      "metadata": {
        "id": "VC0p_jb3KfAC"
      },
      "outputs": [],
      "source": [
        "import pandas as pd                                                            #импорт библиотек\n",
        "import numpy as np\n",
        "from scipy import stats as st\n",
        "import matplotlib.pyplot as plt"
      ]
    },
    {
      "cell_type": "markdown",
      "metadata": {
        "id": "mOI2yk2jMT7Y"
      },
      "source": [
        "Открываем файлы датасетов.\n",
        "Учтём путь загрузки."
      ]
    },
    {
      "cell_type": "code",
      "execution_count": null,
      "metadata": {
        "id": "EsU45q2RKT6X"
      },
      "outputs": [],
      "source": [
        "try:                                                                           #открытие файлов\n",
        "  calls_df = pd.read_csv(\"/datasets/calls.csv\")\n",
        "  internet_df = pd.read_csv(\"/datasets/internet.csv\",index_col = 0)\n",
        "  messages_df = pd.read_csv(\"/datasets/messages.csv\")\n",
        "  tariffs_df = pd.read_csv(\"/datasets/tariffs.csv\")\n",
        "  users_df = pd.read_csv(\"/datasets/users.csv\")\n",
        "except:\n",
        "  calls_df = pd.read_csv(\"calls.csv\")\n",
        "  internet_df = pd.read_csv(\"internet.csv\",index_col = 0)\n",
        "  messages_df = pd.read_csv(\"messages.csv\")\n",
        "  tariffs_df = pd.read_csv(\"tariffs.csv\")\n",
        "  users_df = pd.read_csv(\"users.csv\")"
      ]
    },
    {
      "cell_type": "markdown",
      "metadata": {
        "id": "cwfW558MLd8g"
      },
      "source": [
        "Выведем все датасеты на экран по 5 строк и информацию по ним."
      ]
    },
    {
      "cell_type": "code",
      "execution_count": null,
      "metadata": {
        "colab": {
          "base_uri": "https://localhost:8080/",
          "height": 206
        },
        "id": "FNfxc_DbktEE",
        "outputId": "e623b85d-8652-4336-f6f7-dba0b72c67ef"
      },
      "outputs": [
        {
          "data": {
            "text/html": [
              "<div>\n",
              "<style scoped>\n",
              "    .dataframe tbody tr th:only-of-type {\n",
              "        vertical-align: middle;\n",
              "    }\n",
              "\n",
              "    .dataframe tbody tr th {\n",
              "        vertical-align: top;\n",
              "    }\n",
              "\n",
              "    .dataframe thead th {\n",
              "        text-align: right;\n",
              "    }\n",
              "</style>\n",
              "<table border=\"1\" class=\"dataframe\">\n",
              "  <thead>\n",
              "    <tr style=\"text-align: right;\">\n",
              "      <th></th>\n",
              "      <th>id</th>\n",
              "      <th>call_date</th>\n",
              "      <th>duration</th>\n",
              "      <th>user_id</th>\n",
              "    </tr>\n",
              "  </thead>\n",
              "  <tbody>\n",
              "    <tr>\n",
              "      <th>0</th>\n",
              "      <td>1000_0</td>\n",
              "      <td>2018-07-25</td>\n",
              "      <td>0.00</td>\n",
              "      <td>1000</td>\n",
              "    </tr>\n",
              "    <tr>\n",
              "      <th>1</th>\n",
              "      <td>1000_1</td>\n",
              "      <td>2018-08-17</td>\n",
              "      <td>0.00</td>\n",
              "      <td>1000</td>\n",
              "    </tr>\n",
              "    <tr>\n",
              "      <th>2</th>\n",
              "      <td>1000_2</td>\n",
              "      <td>2018-06-11</td>\n",
              "      <td>2.85</td>\n",
              "      <td>1000</td>\n",
              "    </tr>\n",
              "    <tr>\n",
              "      <th>3</th>\n",
              "      <td>1000_3</td>\n",
              "      <td>2018-09-21</td>\n",
              "      <td>13.80</td>\n",
              "      <td>1000</td>\n",
              "    </tr>\n",
              "    <tr>\n",
              "      <th>4</th>\n",
              "      <td>1000_4</td>\n",
              "      <td>2018-12-15</td>\n",
              "      <td>5.18</td>\n",
              "      <td>1000</td>\n",
              "    </tr>\n",
              "  </tbody>\n",
              "</table>\n",
              "</div>"
            ],
            "text/plain": [
              "       id   call_date  duration  user_id\n",
              "0  1000_0  2018-07-25      0.00     1000\n",
              "1  1000_1  2018-08-17      0.00     1000\n",
              "2  1000_2  2018-06-11      2.85     1000\n",
              "3  1000_3  2018-09-21     13.80     1000\n",
              "4  1000_4  2018-12-15      5.18     1000"
            ]
          },
          "execution_count": 3,
          "metadata": {},
          "output_type": "execute_result"
        }
      ],
      "source": [
        "calls_df.head()                                                                 #вывод на экран таблицы"
      ]
    },
    {
      "cell_type": "code",
      "execution_count": null,
      "metadata": {
        "colab": {
          "base_uri": "https://localhost:8080/"
        },
        "id": "uOGf1XEoW37W",
        "outputId": "bded7ced-f292-4cae-d5d5-fade20c069b9"
      },
      "outputs": [
        {
          "name": "stdout",
          "output_type": "stream",
          "text": [
            "<class 'pandas.core.frame.DataFrame'>\n",
            "RangeIndex: 202607 entries, 0 to 202606\n",
            "Data columns (total 4 columns):\n",
            " #   Column     Non-Null Count   Dtype  \n",
            "---  ------     --------------   -----  \n",
            " 0   id         202607 non-null  object \n",
            " 1   call_date  202607 non-null  object \n",
            " 2   duration   202607 non-null  float64\n",
            " 3   user_id    202607 non-null  int64  \n",
            "dtypes: float64(1), int64(1), object(2)\n",
            "memory usage: 6.2+ MB\n"
          ]
        }
      ],
      "source": [
        "calls_df.info()                                                                 #вывод на экран информации"
      ]
    },
    {
      "cell_type": "code",
      "execution_count": null,
      "metadata": {
        "colab": {
          "base_uri": "https://localhost:8080/",
          "height": 206
        },
        "id": "T8U0_03MJbfj",
        "outputId": "e5460e0b-c5eb-4081-c9fd-d0d0c3f1a289",
        "scrolled": true
      },
      "outputs": [
        {
          "data": {
            "text/html": [
              "<div>\n",
              "<style scoped>\n",
              "    .dataframe tbody tr th:only-of-type {\n",
              "        vertical-align: middle;\n",
              "    }\n",
              "\n",
              "    .dataframe tbody tr th {\n",
              "        vertical-align: top;\n",
              "    }\n",
              "\n",
              "    .dataframe thead th {\n",
              "        text-align: right;\n",
              "    }\n",
              "</style>\n",
              "<table border=\"1\" class=\"dataframe\">\n",
              "  <thead>\n",
              "    <tr style=\"text-align: right;\">\n",
              "      <th></th>\n",
              "      <th>id</th>\n",
              "      <th>mb_used</th>\n",
              "      <th>session_date</th>\n",
              "      <th>user_id</th>\n",
              "    </tr>\n",
              "  </thead>\n",
              "  <tbody>\n",
              "    <tr>\n",
              "      <th>0</th>\n",
              "      <td>1000_0</td>\n",
              "      <td>112.95</td>\n",
              "      <td>2018-11-25</td>\n",
              "      <td>1000</td>\n",
              "    </tr>\n",
              "    <tr>\n",
              "      <th>1</th>\n",
              "      <td>1000_1</td>\n",
              "      <td>1052.81</td>\n",
              "      <td>2018-09-07</td>\n",
              "      <td>1000</td>\n",
              "    </tr>\n",
              "    <tr>\n",
              "      <th>2</th>\n",
              "      <td>1000_2</td>\n",
              "      <td>1197.26</td>\n",
              "      <td>2018-06-25</td>\n",
              "      <td>1000</td>\n",
              "    </tr>\n",
              "    <tr>\n",
              "      <th>3</th>\n",
              "      <td>1000_3</td>\n",
              "      <td>550.27</td>\n",
              "      <td>2018-08-22</td>\n",
              "      <td>1000</td>\n",
              "    </tr>\n",
              "    <tr>\n",
              "      <th>4</th>\n",
              "      <td>1000_4</td>\n",
              "      <td>302.56</td>\n",
              "      <td>2018-09-24</td>\n",
              "      <td>1000</td>\n",
              "    </tr>\n",
              "  </tbody>\n",
              "</table>\n",
              "</div>"
            ],
            "text/plain": [
              "       id  mb_used session_date  user_id\n",
              "0  1000_0   112.95   2018-11-25     1000\n",
              "1  1000_1  1052.81   2018-09-07     1000\n",
              "2  1000_2  1197.26   2018-06-25     1000\n",
              "3  1000_3   550.27   2018-08-22     1000\n",
              "4  1000_4   302.56   2018-09-24     1000"
            ]
          },
          "execution_count": 5,
          "metadata": {},
          "output_type": "execute_result"
        }
      ],
      "source": [
        "internet_df.head()                                                              #вывод на экран таблицы"
      ]
    },
    {
      "cell_type": "code",
      "execution_count": null,
      "metadata": {
        "colab": {
          "base_uri": "https://localhost:8080/"
        },
        "id": "xfRMv2ylXUIi",
        "outputId": "734068bc-f77d-49c5-a430-16c3db8c5235"
      },
      "outputs": [
        {
          "name": "stdout",
          "output_type": "stream",
          "text": [
            "<class 'pandas.core.frame.DataFrame'>\n",
            "Int64Index: 149396 entries, 0 to 149395\n",
            "Data columns (total 4 columns):\n",
            " #   Column        Non-Null Count   Dtype  \n",
            "---  ------        --------------   -----  \n",
            " 0   id            149396 non-null  object \n",
            " 1   mb_used       149396 non-null  float64\n",
            " 2   session_date  149396 non-null  object \n",
            " 3   user_id       149396 non-null  int64  \n",
            "dtypes: float64(1), int64(1), object(2)\n",
            "memory usage: 5.7+ MB\n"
          ]
        }
      ],
      "source": [
        "internet_df.info()                                                              #вывод на экран информации"
      ]
    },
    {
      "cell_type": "code",
      "execution_count": null,
      "metadata": {
        "colab": {
          "base_uri": "https://localhost:8080/",
          "height": 206
        },
        "id": "atsmKHEek22m",
        "outputId": "001a6965-8d73-4365-da01-20fc66484d80"
      },
      "outputs": [
        {
          "data": {
            "text/html": [
              "<div>\n",
              "<style scoped>\n",
              "    .dataframe tbody tr th:only-of-type {\n",
              "        vertical-align: middle;\n",
              "    }\n",
              "\n",
              "    .dataframe tbody tr th {\n",
              "        vertical-align: top;\n",
              "    }\n",
              "\n",
              "    .dataframe thead th {\n",
              "        text-align: right;\n",
              "    }\n",
              "</style>\n",
              "<table border=\"1\" class=\"dataframe\">\n",
              "  <thead>\n",
              "    <tr style=\"text-align: right;\">\n",
              "      <th></th>\n",
              "      <th>id</th>\n",
              "      <th>message_date</th>\n",
              "      <th>user_id</th>\n",
              "    </tr>\n",
              "  </thead>\n",
              "  <tbody>\n",
              "    <tr>\n",
              "      <th>0</th>\n",
              "      <td>1000_0</td>\n",
              "      <td>2018-06-27</td>\n",
              "      <td>1000</td>\n",
              "    </tr>\n",
              "    <tr>\n",
              "      <th>1</th>\n",
              "      <td>1000_1</td>\n",
              "      <td>2018-10-08</td>\n",
              "      <td>1000</td>\n",
              "    </tr>\n",
              "    <tr>\n",
              "      <th>2</th>\n",
              "      <td>1000_2</td>\n",
              "      <td>2018-08-04</td>\n",
              "      <td>1000</td>\n",
              "    </tr>\n",
              "    <tr>\n",
              "      <th>3</th>\n",
              "      <td>1000_3</td>\n",
              "      <td>2018-06-16</td>\n",
              "      <td>1000</td>\n",
              "    </tr>\n",
              "    <tr>\n",
              "      <th>4</th>\n",
              "      <td>1000_4</td>\n",
              "      <td>2018-12-05</td>\n",
              "      <td>1000</td>\n",
              "    </tr>\n",
              "  </tbody>\n",
              "</table>\n",
              "</div>"
            ],
            "text/plain": [
              "       id message_date  user_id\n",
              "0  1000_0   2018-06-27     1000\n",
              "1  1000_1   2018-10-08     1000\n",
              "2  1000_2   2018-08-04     1000\n",
              "3  1000_3   2018-06-16     1000\n",
              "4  1000_4   2018-12-05     1000"
            ]
          },
          "execution_count": 7,
          "metadata": {},
          "output_type": "execute_result"
        }
      ],
      "source": [
        "messages_df.head()                                                              #вывод на экран таблицы"
      ]
    },
    {
      "cell_type": "code",
      "execution_count": null,
      "metadata": {
        "colab": {
          "base_uri": "https://localhost:8080/"
        },
        "id": "lsF3LI6MXZ0q",
        "outputId": "97980f1b-9981-4aaf-a525-097f31cc4d21"
      },
      "outputs": [
        {
          "name": "stdout",
          "output_type": "stream",
          "text": [
            "<class 'pandas.core.frame.DataFrame'>\n",
            "RangeIndex: 123036 entries, 0 to 123035\n",
            "Data columns (total 3 columns):\n",
            " #   Column        Non-Null Count   Dtype \n",
            "---  ------        --------------   ----- \n",
            " 0   id            123036 non-null  object\n",
            " 1   message_date  123036 non-null  object\n",
            " 2   user_id       123036 non-null  int64 \n",
            "dtypes: int64(1), object(2)\n",
            "memory usage: 2.8+ MB\n"
          ]
        }
      ],
      "source": [
        "messages_df.info()                                                              #вывод на экран информации"
      ]
    },
    {
      "cell_type": "code",
      "execution_count": null,
      "metadata": {
        "colab": {
          "base_uri": "https://localhost:8080/",
          "height": 112
        },
        "id": "aXvflXUAlCHf",
        "outputId": "cbe92c33-b06a-4e23-981d-e5f6e0d2c349"
      },
      "outputs": [
        {
          "data": {
            "text/html": [
              "<div>\n",
              "<style scoped>\n",
              "    .dataframe tbody tr th:only-of-type {\n",
              "        vertical-align: middle;\n",
              "    }\n",
              "\n",
              "    .dataframe tbody tr th {\n",
              "        vertical-align: top;\n",
              "    }\n",
              "\n",
              "    .dataframe thead th {\n",
              "        text-align: right;\n",
              "    }\n",
              "</style>\n",
              "<table border=\"1\" class=\"dataframe\">\n",
              "  <thead>\n",
              "    <tr style=\"text-align: right;\">\n",
              "      <th></th>\n",
              "      <th>messages_included</th>\n",
              "      <th>mb_per_month_included</th>\n",
              "      <th>minutes_included</th>\n",
              "      <th>rub_monthly_fee</th>\n",
              "      <th>rub_per_gb</th>\n",
              "      <th>rub_per_message</th>\n",
              "      <th>rub_per_minute</th>\n",
              "      <th>tariff_name</th>\n",
              "    </tr>\n",
              "  </thead>\n",
              "  <tbody>\n",
              "    <tr>\n",
              "      <th>0</th>\n",
              "      <td>50</td>\n",
              "      <td>15360</td>\n",
              "      <td>500</td>\n",
              "      <td>550</td>\n",
              "      <td>200</td>\n",
              "      <td>3</td>\n",
              "      <td>3</td>\n",
              "      <td>smart</td>\n",
              "    </tr>\n",
              "    <tr>\n",
              "      <th>1</th>\n",
              "      <td>1000</td>\n",
              "      <td>30720</td>\n",
              "      <td>3000</td>\n",
              "      <td>1950</td>\n",
              "      <td>150</td>\n",
              "      <td>1</td>\n",
              "      <td>1</td>\n",
              "      <td>ultra</td>\n",
              "    </tr>\n",
              "  </tbody>\n",
              "</table>\n",
              "</div>"
            ],
            "text/plain": [
              "   messages_included  mb_per_month_included  minutes_included  \\\n",
              "0                 50                  15360               500   \n",
              "1               1000                  30720              3000   \n",
              "\n",
              "   rub_monthly_fee  rub_per_gb  rub_per_message  rub_per_minute tariff_name  \n",
              "0              550         200                3               3       smart  \n",
              "1             1950         150                1               1       ultra  "
            ]
          },
          "execution_count": 9,
          "metadata": {},
          "output_type": "execute_result"
        }
      ],
      "source": [
        "tariffs_df.head()                                                               #вывод на экран таблицы"
      ]
    },
    {
      "cell_type": "code",
      "execution_count": null,
      "metadata": {
        "colab": {
          "base_uri": "https://localhost:8080/"
        },
        "id": "ykQr68ShXenb",
        "outputId": "666184d9-3552-439a-edaa-c3a8bb5188fc"
      },
      "outputs": [
        {
          "name": "stdout",
          "output_type": "stream",
          "text": [
            "<class 'pandas.core.frame.DataFrame'>\n",
            "RangeIndex: 2 entries, 0 to 1\n",
            "Data columns (total 8 columns):\n",
            " #   Column                 Non-Null Count  Dtype \n",
            "---  ------                 --------------  ----- \n",
            " 0   messages_included      2 non-null      int64 \n",
            " 1   mb_per_month_included  2 non-null      int64 \n",
            " 2   minutes_included       2 non-null      int64 \n",
            " 3   rub_monthly_fee        2 non-null      int64 \n",
            " 4   rub_per_gb             2 non-null      int64 \n",
            " 5   rub_per_message        2 non-null      int64 \n",
            " 6   rub_per_minute         2 non-null      int64 \n",
            " 7   tariff_name            2 non-null      object\n",
            "dtypes: int64(7), object(1)\n",
            "memory usage: 256.0+ bytes\n"
          ]
        }
      ],
      "source": [
        "tariffs_df.info()                                                               #вывод на экран информации"
      ]
    },
    {
      "cell_type": "code",
      "execution_count": null,
      "metadata": {
        "colab": {
          "base_uri": "https://localhost:8080/",
          "height": 206
        },
        "id": "ONlCRCPCOiki",
        "outputId": "834aa7b6-5e75-41ac-8d4f-f3be0d7e3635"
      },
      "outputs": [
        {
          "data": {
            "text/html": [
              "<div>\n",
              "<style scoped>\n",
              "    .dataframe tbody tr th:only-of-type {\n",
              "        vertical-align: middle;\n",
              "    }\n",
              "\n",
              "    .dataframe tbody tr th {\n",
              "        vertical-align: top;\n",
              "    }\n",
              "\n",
              "    .dataframe thead th {\n",
              "        text-align: right;\n",
              "    }\n",
              "</style>\n",
              "<table border=\"1\" class=\"dataframe\">\n",
              "  <thead>\n",
              "    <tr style=\"text-align: right;\">\n",
              "      <th></th>\n",
              "      <th>user_id</th>\n",
              "      <th>age</th>\n",
              "      <th>churn_date</th>\n",
              "      <th>city</th>\n",
              "      <th>first_name</th>\n",
              "      <th>last_name</th>\n",
              "      <th>reg_date</th>\n",
              "      <th>tariff</th>\n",
              "    </tr>\n",
              "  </thead>\n",
              "  <tbody>\n",
              "    <tr>\n",
              "      <th>0</th>\n",
              "      <td>1000</td>\n",
              "      <td>52</td>\n",
              "      <td>NaN</td>\n",
              "      <td>Краснодар</td>\n",
              "      <td>Рафаил</td>\n",
              "      <td>Верещагин</td>\n",
              "      <td>2018-05-25</td>\n",
              "      <td>ultra</td>\n",
              "    </tr>\n",
              "    <tr>\n",
              "      <th>1</th>\n",
              "      <td>1001</td>\n",
              "      <td>41</td>\n",
              "      <td>NaN</td>\n",
              "      <td>Москва</td>\n",
              "      <td>Иван</td>\n",
              "      <td>Ежов</td>\n",
              "      <td>2018-11-01</td>\n",
              "      <td>smart</td>\n",
              "    </tr>\n",
              "    <tr>\n",
              "      <th>2</th>\n",
              "      <td>1002</td>\n",
              "      <td>59</td>\n",
              "      <td>NaN</td>\n",
              "      <td>Стерлитамак</td>\n",
              "      <td>Евгений</td>\n",
              "      <td>Абрамович</td>\n",
              "      <td>2018-06-17</td>\n",
              "      <td>smart</td>\n",
              "    </tr>\n",
              "    <tr>\n",
              "      <th>3</th>\n",
              "      <td>1003</td>\n",
              "      <td>23</td>\n",
              "      <td>NaN</td>\n",
              "      <td>Москва</td>\n",
              "      <td>Белла</td>\n",
              "      <td>Белякова</td>\n",
              "      <td>2018-08-17</td>\n",
              "      <td>ultra</td>\n",
              "    </tr>\n",
              "    <tr>\n",
              "      <th>4</th>\n",
              "      <td>1004</td>\n",
              "      <td>68</td>\n",
              "      <td>NaN</td>\n",
              "      <td>Новокузнецк</td>\n",
              "      <td>Татьяна</td>\n",
              "      <td>Авдеенко</td>\n",
              "      <td>2018-05-14</td>\n",
              "      <td>ultra</td>\n",
              "    </tr>\n",
              "  </tbody>\n",
              "</table>\n",
              "</div>"
            ],
            "text/plain": [
              "   user_id  age churn_date         city first_name  last_name    reg_date  \\\n",
              "0     1000   52        NaN    Краснодар     Рафаил  Верещагин  2018-05-25   \n",
              "1     1001   41        NaN       Москва       Иван       Ежов  2018-11-01   \n",
              "2     1002   59        NaN  Стерлитамак    Евгений  Абрамович  2018-06-17   \n",
              "3     1003   23        NaN       Москва      Белла   Белякова  2018-08-17   \n",
              "4     1004   68        NaN  Новокузнецк    Татьяна   Авдеенко  2018-05-14   \n",
              "\n",
              "  tariff  \n",
              "0  ultra  \n",
              "1  smart  \n",
              "2  smart  \n",
              "3  ultra  \n",
              "4  ultra  "
            ]
          },
          "execution_count": 11,
          "metadata": {},
          "output_type": "execute_result"
        }
      ],
      "source": [
        "users_df.head()                                                                 #вывод на экран таблицы"
      ]
    },
    {
      "cell_type": "code",
      "execution_count": null,
      "metadata": {
        "colab": {
          "base_uri": "https://localhost:8080/"
        },
        "id": "y8NWDeUEXjrk",
        "outputId": "c89f6e16-53d8-4225-ce46-1f8e58555bd1"
      },
      "outputs": [
        {
          "name": "stdout",
          "output_type": "stream",
          "text": [
            "<class 'pandas.core.frame.DataFrame'>\n",
            "RangeIndex: 500 entries, 0 to 499\n",
            "Data columns (total 8 columns):\n",
            " #   Column      Non-Null Count  Dtype \n",
            "---  ------      --------------  ----- \n",
            " 0   user_id     500 non-null    int64 \n",
            " 1   age         500 non-null    int64 \n",
            " 2   churn_date  38 non-null     object\n",
            " 3   city        500 non-null    object\n",
            " 4   first_name  500 non-null    object\n",
            " 5   last_name   500 non-null    object\n",
            " 6   reg_date    500 non-null    object\n",
            " 7   tariff      500 non-null    object\n",
            "dtypes: int64(2), object(6)\n",
            "memory usage: 31.4+ KB\n"
          ]
        }
      ],
      "source": [
        "users_df.info()                                                                 #вывод на экран информации"
      ]
    },
    {
      "cell_type": "markdown",
      "metadata": {
        "id": "X0k7g0xkS_3Y"
      },
      "source": [
        "**Описание данных**\n",
        "\n",
        "Таблица users (информация о пользователях):\n",
        "* user_id — уникальный идентификатор пользователя\n",
        "* first_name — имя пользователя\n",
        "* last_name — фамилия пользователя\n",
        "* age — возраст пользователя (годы)\n",
        "* reg_date — дата подключения тарифа (день, месяц, год)\n",
        "* churn_date — дата прекращения пользования тарифом (если значение пропущено, то тариф ещё действовал на момент выгрузки данных)\n",
        "* city — город проживания пользователя\n",
        "* tarif — название тарифного плана\n",
        "\n",
        "Таблица calls (информация о звонках):\n",
        "* id — уникальный номер звонка\n",
        "* call_date — дата звонка\n",
        "* duration — длительность звонка в минутах\n",
        "* user_id — идентификатор пользователя, сделавшего звонок\n",
        "\n",
        "Таблица messages (информация о сообщениях):\n",
        "* id — уникальный номер сообщения\n",
        "* message_date — дата сообщения\n",
        "* user_id — идентификатор пользователя, отправившего сообщение\n",
        "\n",
        "Таблица internet (информация об интернет-сессиях):\n",
        "* id — уникальный номер сессии\n",
        "* mb_used — объём потраченного за сессию интернет-трафика (в мегабайтах)\n",
        "* session_date — дата интернет-сессии\n",
        "* user_id — идентификатор пользователя\n",
        "\n",
        "Таблица tariffs (информация о тарифах):\n",
        "* tariff_name — название тарифа\n",
        "* rub_monthly_fee — ежемесячная абонентская плата в рублях\n",
        "* minutes_included — количество минут разговора в месяц, включённых в абонентскую плату\n",
        "* messages_included — количество сообщений в месяц, включённых в абонентскую плату\n",
        "* mb_per_month_included — объём интернет-трафика, включённого в абонентскую плату (в мегабайтах)\n",
        "* rub_per_minute — стоимость минуты разговора сверх тарифного пакета (например, если в тарифе 100 минут разговора в месяц, то со 101 минуты будет взиматься плата)\n",
        "* rub_per_message — стоимость отправки сообщения сверх тарифного пакета\n",
        "* rub_per_gb — стоимость дополнительного гигабайта интернет-трафика сверх тарифного пакета (1 гигабайт = 1024 мегабайта)\n",
        "\n"
      ]
    },
    {
      "cell_type": "markdown",
      "metadata": {
        "id": "LBC1wNqPMicx"
      },
      "source": [
        "**Краткий вывод о данных**\n",
        "\n",
        "Из представленных таблиц видно что в данных нет пропусков(в таблице 'users_df' столбце 'churn_date' пропуски обоснованы тем что тариф действующий и нет даты окончания). \n",
        "Можно заметить что во всех таблицах идёт несоответствие типов данных в столбцах содержащих дату."
      ]
    },
    {
      "cell_type": "markdown",
      "metadata": {
        "id": "wTauhXb_UGll"
      },
      "source": [
        "**Предобработка данных**"
      ]
    },
    {
      "cell_type": "markdown",
      "metadata": {
        "id": "SDKs_KJSXrBI"
      },
      "source": [
        "В 4 таблицах есть данные содержащие дату, они записаны в неправильном формате.\n",
        "\n",
        "'reg_date', 'churn_date', 'session_date', 'call_date', ',message_date' столбцы в таблицах которые требуют исправления."
      ]
    },
    {
      "cell_type": "code",
      "execution_count": null,
      "metadata": {
        "id": "x_U9ACfPYpNt"
      },
      "outputs": [],
      "source": [
        "users_df[\"reg_date\"] = pd.to_datetime(users_df[\"reg_date\"],format = \"%Y-%m-%d\")                         #форматироване даты в таблицах\n",
        "users_df[\"churn_date\"] = pd.to_datetime(users_df[\"churn_date\"],format = \"%Y-%m-%d\")\n",
        "calls_df[\"call_date\"] = pd.to_datetime(calls_df[\"call_date\"],format = \"%Y-%m-%d\" )\n",
        "messages_df[\"message_date\"] = pd.to_datetime(messages_df[\"message_date\"],format = \"%Y-%m-%d\")\n",
        "internet_df[\"session_date\"] = pd.to_datetime(internet_df[\"session_date\"],format = \"%Y-%m-%d\" )"
      ]
    },
    {
      "cell_type": "markdown",
      "metadata": {
        "id": "RSplb_PHbjnm"
      },
      "source": [
        "Проверим изменения."
      ]
    },
    {
      "cell_type": "code",
      "execution_count": null,
      "metadata": {
        "colab": {
          "base_uri": "https://localhost:8080/"
        },
        "id": "wWlQlz0OVqYI",
        "outputId": "59402491-0dd8-42de-cddb-935cac0ae9a5"
      },
      "outputs": [
        {
          "name": "stdout",
          "output_type": "stream",
          "text": [
            "<class 'pandas.core.frame.DataFrame'>\n",
            "RangeIndex: 500 entries, 0 to 499\n",
            "Data columns (total 8 columns):\n",
            " #   Column      Non-Null Count  Dtype         \n",
            "---  ------      --------------  -----         \n",
            " 0   user_id     500 non-null    int64         \n",
            " 1   age         500 non-null    int64         \n",
            " 2   churn_date  38 non-null     datetime64[ns]\n",
            " 3   city        500 non-null    object        \n",
            " 4   first_name  500 non-null    object        \n",
            " 5   last_name   500 non-null    object        \n",
            " 6   reg_date    500 non-null    datetime64[ns]\n",
            " 7   tariff      500 non-null    object        \n",
            "dtypes: datetime64[ns](2), int64(2), object(4)\n",
            "memory usage: 31.4+ KB\n",
            "None\n",
            "<class 'pandas.core.frame.DataFrame'>\n",
            "RangeIndex: 202607 entries, 0 to 202606\n",
            "Data columns (total 4 columns):\n",
            " #   Column     Non-Null Count   Dtype         \n",
            "---  ------     --------------   -----         \n",
            " 0   id         202607 non-null  object        \n",
            " 1   call_date  202607 non-null  datetime64[ns]\n",
            " 2   duration   202607 non-null  float64       \n",
            " 3   user_id    202607 non-null  int64         \n",
            "dtypes: datetime64[ns](1), float64(1), int64(1), object(1)\n",
            "memory usage: 6.2+ MB\n",
            "None\n",
            "<class 'pandas.core.frame.DataFrame'>\n",
            "RangeIndex: 123036 entries, 0 to 123035\n",
            "Data columns (total 3 columns):\n",
            " #   Column        Non-Null Count   Dtype         \n",
            "---  ------        --------------   -----         \n",
            " 0   id            123036 non-null  object        \n",
            " 1   message_date  123036 non-null  datetime64[ns]\n",
            " 2   user_id       123036 non-null  int64         \n",
            "dtypes: datetime64[ns](1), int64(1), object(1)\n",
            "memory usage: 2.8+ MB\n",
            "None\n",
            "<class 'pandas.core.frame.DataFrame'>\n",
            "Int64Index: 149396 entries, 0 to 149395\n",
            "Data columns (total 4 columns):\n",
            " #   Column        Non-Null Count   Dtype         \n",
            "---  ------        --------------   -----         \n",
            " 0   id            149396 non-null  object        \n",
            " 1   mb_used       149396 non-null  float64       \n",
            " 2   session_date  149396 non-null  datetime64[ns]\n",
            " 3   user_id       149396 non-null  int64         \n",
            "dtypes: datetime64[ns](1), float64(1), int64(1), object(1)\n",
            "memory usage: 5.7+ MB\n",
            "None\n"
          ]
        }
      ],
      "source": [
        "print(users_df.info())                                                          #вывод ницормации о таблицах\n",
        "print(calls_df.info())\n",
        "print(messages_df.info())\n",
        "print(internet_df.info())"
      ]
    },
    {
      "cell_type": "markdown",
      "metadata": {
        "id": "8xNNsdEdyxoN"
      },
      "source": [
        "В таблицах 'calls_df' и 'internet_df' есть столбцы 'duration' и 'mb_used' их можно округлить в большую сторону и привести к типу int для удобства работы т.к. секунды и килобайты не так важны(при совершении звонка в 10 секунд списание идет как за 1 минуту, следовательно в секундах нет большой необходимости)."
      ]
    },
    {
      "cell_type": "code",
      "execution_count": null,
      "metadata": {
        "id": "-WX4LwmNcEQo"
      },
      "outputs": [],
      "source": [
        "calls_df[\"duration\"] = np.ceil(calls_df[\"duration\"]).astype(int)        #округление в большую сторону со сменой типа данных\n",
        "internet_df[\"mb_used\"] = np.ceil(internet_df[\"mb_used\"]).astype(int)"
      ]
    },
    {
      "cell_type": "markdown",
      "metadata": {
        "id": "CmUnyAfd6Fi9"
      },
      "source": [
        "Проверим изменения."
      ]
    },
    {
      "cell_type": "code",
      "execution_count": null,
      "metadata": {
        "colab": {
          "base_uri": "https://localhost:8080/"
        },
        "id": "v3S8_A1e3LoM",
        "outputId": "55b3733a-9310-4b70-e1ff-bd0b2355bd68"
      },
      "outputs": [
        {
          "name": "stdout",
          "output_type": "stream",
          "text": [
            "<class 'pandas.core.frame.DataFrame'>\n",
            "RangeIndex: 202607 entries, 0 to 202606\n",
            "Data columns (total 4 columns):\n",
            " #   Column     Non-Null Count   Dtype         \n",
            "---  ------     --------------   -----         \n",
            " 0   id         202607 non-null  object        \n",
            " 1   call_date  202607 non-null  datetime64[ns]\n",
            " 2   duration   202607 non-null  int64         \n",
            " 3   user_id    202607 non-null  int64         \n",
            "dtypes: datetime64[ns](1), int64(2), object(1)\n",
            "memory usage: 6.2+ MB\n",
            "None\n",
            "<class 'pandas.core.frame.DataFrame'>\n",
            "Int64Index: 149396 entries, 0 to 149395\n",
            "Data columns (total 4 columns):\n",
            " #   Column        Non-Null Count   Dtype         \n",
            "---  ------        --------------   -----         \n",
            " 0   id            149396 non-null  object        \n",
            " 1   mb_used       149396 non-null  int64         \n",
            " 2   session_date  149396 non-null  datetime64[ns]\n",
            " 3   user_id       149396 non-null  int64         \n",
            "dtypes: datetime64[ns](1), int64(2), object(1)\n",
            "memory usage: 5.7+ MB\n",
            "None\n"
          ]
        }
      ],
      "source": [
        "print(calls_df.info())                                                          #вывод информации о таблице\n",
        "print(internet_df.info())"
      ]
    },
    {
      "cell_type": "markdown",
      "metadata": {
        "id": "NEI7inv2Qw34"
      },
      "source": [
        "**Вывод**\n",
        "Столбцы даты были записаны в неправильном формате из-зи изначального неправильного определения формата. Некоторые столбцы имели нужный формат, но для работы с данными пришлось его изменить."
      ]
    },
    {
      "cell_type": "markdown",
      "metadata": {
        "id": "ADI5pzKiSlk0"
      },
      "source": [
        "**Подсчитайте для каждого пользователя количество сделанных звонков и израсходованных минут разговора по месяцам**\n",
        "\n",
        "Применим сводную таблицу на датафрейме 'calls_df'. \n",
        "Пользователя выделим по 'user_id', месяц возьмём из столбца 'call_date', значения определим по столбцу 'duration'."
      ]
    },
    {
      "cell_type": "code",
      "execution_count": null,
      "metadata": {
        "colab": {
          "base_uri": "https://localhost:8080/",
          "height": 238
        },
        "id": "ks_2LfIrTR_b",
        "outputId": "1936e5d2-d542-43ec-de78-cf549b953669"
      },
      "outputs": [
        {
          "data": {
            "text/html": [
              "<div>\n",
              "<style scoped>\n",
              "    .dataframe tbody tr th:only-of-type {\n",
              "        vertical-align: middle;\n",
              "    }\n",
              "\n",
              "    .dataframe tbody tr th {\n",
              "        vertical-align: top;\n",
              "    }\n",
              "\n",
              "    .dataframe thead th {\n",
              "        text-align: right;\n",
              "    }\n",
              "</style>\n",
              "<table border=\"1\" class=\"dataframe\">\n",
              "  <thead>\n",
              "    <tr style=\"text-align: right;\">\n",
              "      <th></th>\n",
              "      <th></th>\n",
              "      <th>count</th>\n",
              "      <th>sum</th>\n",
              "    </tr>\n",
              "    <tr>\n",
              "      <th>user_id</th>\n",
              "      <th>call_date</th>\n",
              "      <th></th>\n",
              "      <th></th>\n",
              "    </tr>\n",
              "  </thead>\n",
              "  <tbody>\n",
              "    <tr>\n",
              "      <th rowspan=\"5\" valign=\"top\">1000</th>\n",
              "      <th>5</th>\n",
              "      <td>22</td>\n",
              "      <td>159</td>\n",
              "    </tr>\n",
              "    <tr>\n",
              "      <th>6</th>\n",
              "      <td>43</td>\n",
              "      <td>172</td>\n",
              "    </tr>\n",
              "    <tr>\n",
              "      <th>7</th>\n",
              "      <td>47</td>\n",
              "      <td>340</td>\n",
              "    </tr>\n",
              "    <tr>\n",
              "      <th>8</th>\n",
              "      <td>52</td>\n",
              "      <td>408</td>\n",
              "    </tr>\n",
              "    <tr>\n",
              "      <th>9</th>\n",
              "      <td>58</td>\n",
              "      <td>466</td>\n",
              "    </tr>\n",
              "  </tbody>\n",
              "</table>\n",
              "</div>"
            ],
            "text/plain": [
              "                   count  sum\n",
              "user_id call_date            \n",
              "1000    5             22  159\n",
              "        6             43  172\n",
              "        7             47  340\n",
              "        8             52  408\n",
              "        9             58  466"
            ]
          },
          "execution_count": 18,
          "metadata": {},
          "output_type": "execute_result"
        }
      ],
      "source": [
        "pt_calls = calls_df.pivot_table(index = [\"user_id\",calls_df.call_date.dt.month],\n",
        "                                values = \"duration\", aggfunc = (\"count\",\"sum\"))                 #построение сводной таблицы\n",
        "pt_calls.head()                                                                                 #вывод на экран"
      ]
    },
    {
      "cell_type": "markdown",
      "metadata": {
        "id": "paweijp2l3hQ"
      },
      "source": [
        "**Посчитайте для каждого пользователя количество отправленных сообщений по месяцам**\n",
        "\n",
        "Построим сводную талицу из датафрейма 'messages_df' по похожему принципу."
      ]
    },
    {
      "cell_type": "code",
      "execution_count": null,
      "metadata": {
        "colab": {
          "base_uri": "https://localhost:8080/",
          "height": 238
        },
        "id": "nAG3aHXEnjUR",
        "outputId": "90c39902-243a-4c83-ca02-364096662447"
      },
      "outputs": [
        {
          "data": {
            "text/html": [
              "<div>\n",
              "<style scoped>\n",
              "    .dataframe tbody tr th:only-of-type {\n",
              "        vertical-align: middle;\n",
              "    }\n",
              "\n",
              "    .dataframe tbody tr th {\n",
              "        vertical-align: top;\n",
              "    }\n",
              "\n",
              "    .dataframe thead th {\n",
              "        text-align: right;\n",
              "    }\n",
              "</style>\n",
              "<table border=\"1\" class=\"dataframe\">\n",
              "  <thead>\n",
              "    <tr style=\"text-align: right;\">\n",
              "      <th></th>\n",
              "      <th></th>\n",
              "      <th>id</th>\n",
              "    </tr>\n",
              "    <tr>\n",
              "      <th>user_id</th>\n",
              "      <th>message_date</th>\n",
              "      <th></th>\n",
              "    </tr>\n",
              "  </thead>\n",
              "  <tbody>\n",
              "    <tr>\n",
              "      <th rowspan=\"5\" valign=\"top\">1000</th>\n",
              "      <th>5</th>\n",
              "      <td>22</td>\n",
              "    </tr>\n",
              "    <tr>\n",
              "      <th>6</th>\n",
              "      <td>60</td>\n",
              "    </tr>\n",
              "    <tr>\n",
              "      <th>7</th>\n",
              "      <td>75</td>\n",
              "    </tr>\n",
              "    <tr>\n",
              "      <th>8</th>\n",
              "      <td>81</td>\n",
              "    </tr>\n",
              "    <tr>\n",
              "      <th>9</th>\n",
              "      <td>57</td>\n",
              "    </tr>\n",
              "  </tbody>\n",
              "</table>\n",
              "</div>"
            ],
            "text/plain": [
              "                      id\n",
              "user_id message_date    \n",
              "1000    5             22\n",
              "        6             60\n",
              "        7             75\n",
              "        8             81\n",
              "        9             57"
            ]
          },
          "execution_count": 19,
          "metadata": {},
          "output_type": "execute_result"
        }
      ],
      "source": [
        "pt_messages = messages_df.pivot_table(index = [\"user_id\",messages_df.message_date.dt.month],\n",
        "                                      values = \"id\", aggfunc = \"count\")                  #построение сводной таблицы\n",
        "pt_messages.head()                                                                       #вывод таблицы на экран"
      ]
    },
    {
      "cell_type": "markdown",
      "metadata": {
        "id": "CupJR3CHol0C"
      },
      "source": [
        "**Посчитайте для каждого пользователя объем израсходованного интернет-трафика по месяцам**\n",
        "\n",
        "Построим сводную таблицу из 'internet_df'."
      ]
    },
    {
      "cell_type": "code",
      "execution_count": null,
      "metadata": {
        "colab": {
          "base_uri": "https://localhost:8080/",
          "height": 238
        },
        "id": "AReeQrc0o5ZV",
        "outputId": "dce9e9ef-c33e-458f-e094-6d7645830e91"
      },
      "outputs": [
        {
          "data": {
            "text/html": [
              "<div>\n",
              "<style scoped>\n",
              "    .dataframe tbody tr th:only-of-type {\n",
              "        vertical-align: middle;\n",
              "    }\n",
              "\n",
              "    .dataframe tbody tr th {\n",
              "        vertical-align: top;\n",
              "    }\n",
              "\n",
              "    .dataframe thead th {\n",
              "        text-align: right;\n",
              "    }\n",
              "</style>\n",
              "<table border=\"1\" class=\"dataframe\">\n",
              "  <thead>\n",
              "    <tr style=\"text-align: right;\">\n",
              "      <th></th>\n",
              "      <th></th>\n",
              "      <th>mb_used</th>\n",
              "    </tr>\n",
              "    <tr>\n",
              "      <th>user_id</th>\n",
              "      <th>session_date</th>\n",
              "      <th></th>\n",
              "    </tr>\n",
              "  </thead>\n",
              "  <tbody>\n",
              "    <tr>\n",
              "      <th rowspan=\"5\" valign=\"top\">1000</th>\n",
              "      <th>5</th>\n",
              "      <td>2256</td>\n",
              "    </tr>\n",
              "    <tr>\n",
              "      <th>6</th>\n",
              "      <td>23257</td>\n",
              "    </tr>\n",
              "    <tr>\n",
              "      <th>7</th>\n",
              "      <td>14016</td>\n",
              "    </tr>\n",
              "    <tr>\n",
              "      <th>8</th>\n",
              "      <td>14070</td>\n",
              "    </tr>\n",
              "    <tr>\n",
              "      <th>9</th>\n",
              "      <td>14581</td>\n",
              "    </tr>\n",
              "  </tbody>\n",
              "</table>\n",
              "</div>"
            ],
            "text/plain": [
              "                      mb_used\n",
              "user_id session_date         \n",
              "1000    5                2256\n",
              "        6               23257\n",
              "        7               14016\n",
              "        8               14070\n",
              "        9               14581"
            ]
          },
          "execution_count": 20,
          "metadata": {},
          "output_type": "execute_result"
        }
      ],
      "source": [
        "pt_internet = internet_df.pivot_table(index = [\"user_id\",internet_df.session_date.dt.month],\n",
        "                                      values = \"mb_used\", aggfunc = \"sum\")                # построение сводной таблицы\n",
        "pt_internet.head()                                                                        #вывод таблицы на экран"
      ]
    },
    {
      "cell_type": "markdown",
      "metadata": {
        "id": "-L5uk6CKpgiV"
      },
      "source": [
        "**Посчитайте помесячную выручку с каждого пользователя (вычтите бесплатный лимит из суммарного количества звонков, сообщений и интернет-трафика; остаток умножьте на значение из тарифного плана; прибавьте абонентскую плату, соответствующую тарифному плану).**"
      ]
    },
    {
      "cell_type": "markdown",
      "metadata": {
        "id": "EdNu61dP7HX5"
      },
      "source": [
        "Приступим к объединению таблиц.\n",
        "\n",
        "Объеденим таблицу 'users_df' и 'tariffs_df'."
      ]
    },
    {
      "cell_type": "code",
      "execution_count": null,
      "metadata": {
        "colab": {
          "base_uri": "https://localhost:8080/",
          "height": 357
        },
        "id": "YCZMhaDPwxRq",
        "outputId": "61911863-0365-4a0f-e62e-cefac08973d1"
      },
      "outputs": [
        {
          "data": {
            "text/html": [
              "<div>\n",
              "<style scoped>\n",
              "    .dataframe tbody tr th:only-of-type {\n",
              "        vertical-align: middle;\n",
              "    }\n",
              "\n",
              "    .dataframe tbody tr th {\n",
              "        vertical-align: top;\n",
              "    }\n",
              "\n",
              "    .dataframe thead th {\n",
              "        text-align: right;\n",
              "    }\n",
              "</style>\n",
              "<table border=\"1\" class=\"dataframe\">\n",
              "  <thead>\n",
              "    <tr style=\"text-align: right;\">\n",
              "      <th></th>\n",
              "      <th>user_id</th>\n",
              "      <th>age</th>\n",
              "      <th>churn_date</th>\n",
              "      <th>city</th>\n",
              "      <th>first_name</th>\n",
              "      <th>last_name</th>\n",
              "      <th>reg_date</th>\n",
              "      <th>tariff</th>\n",
              "      <th>messages_included</th>\n",
              "      <th>mb_per_month_included</th>\n",
              "      <th>minutes_included</th>\n",
              "      <th>rub_monthly_fee</th>\n",
              "      <th>rub_per_gb</th>\n",
              "      <th>rub_per_message</th>\n",
              "      <th>rub_per_minute</th>\n",
              "    </tr>\n",
              "  </thead>\n",
              "  <tbody>\n",
              "    <tr>\n",
              "      <th>0</th>\n",
              "      <td>1000</td>\n",
              "      <td>52</td>\n",
              "      <td>NaT</td>\n",
              "      <td>Краснодар</td>\n",
              "      <td>Рафаил</td>\n",
              "      <td>Верещагин</td>\n",
              "      <td>2018-05-25</td>\n",
              "      <td>ultra</td>\n",
              "      <td>1000</td>\n",
              "      <td>30720</td>\n",
              "      <td>3000</td>\n",
              "      <td>1950</td>\n",
              "      <td>150</td>\n",
              "      <td>1</td>\n",
              "      <td>1</td>\n",
              "    </tr>\n",
              "    <tr>\n",
              "      <th>1</th>\n",
              "      <td>1001</td>\n",
              "      <td>41</td>\n",
              "      <td>NaT</td>\n",
              "      <td>Москва</td>\n",
              "      <td>Иван</td>\n",
              "      <td>Ежов</td>\n",
              "      <td>2018-11-01</td>\n",
              "      <td>smart</td>\n",
              "      <td>50</td>\n",
              "      <td>15360</td>\n",
              "      <td>500</td>\n",
              "      <td>550</td>\n",
              "      <td>200</td>\n",
              "      <td>3</td>\n",
              "      <td>3</td>\n",
              "    </tr>\n",
              "    <tr>\n",
              "      <th>2</th>\n",
              "      <td>1002</td>\n",
              "      <td>59</td>\n",
              "      <td>NaT</td>\n",
              "      <td>Стерлитамак</td>\n",
              "      <td>Евгений</td>\n",
              "      <td>Абрамович</td>\n",
              "      <td>2018-06-17</td>\n",
              "      <td>smart</td>\n",
              "      <td>50</td>\n",
              "      <td>15360</td>\n",
              "      <td>500</td>\n",
              "      <td>550</td>\n",
              "      <td>200</td>\n",
              "      <td>3</td>\n",
              "      <td>3</td>\n",
              "    </tr>\n",
              "    <tr>\n",
              "      <th>3</th>\n",
              "      <td>1003</td>\n",
              "      <td>23</td>\n",
              "      <td>NaT</td>\n",
              "      <td>Москва</td>\n",
              "      <td>Белла</td>\n",
              "      <td>Белякова</td>\n",
              "      <td>2018-08-17</td>\n",
              "      <td>ultra</td>\n",
              "      <td>1000</td>\n",
              "      <td>30720</td>\n",
              "      <td>3000</td>\n",
              "      <td>1950</td>\n",
              "      <td>150</td>\n",
              "      <td>1</td>\n",
              "      <td>1</td>\n",
              "    </tr>\n",
              "    <tr>\n",
              "      <th>4</th>\n",
              "      <td>1004</td>\n",
              "      <td>68</td>\n",
              "      <td>NaT</td>\n",
              "      <td>Новокузнецк</td>\n",
              "      <td>Татьяна</td>\n",
              "      <td>Авдеенко</td>\n",
              "      <td>2018-05-14</td>\n",
              "      <td>ultra</td>\n",
              "      <td>1000</td>\n",
              "      <td>30720</td>\n",
              "      <td>3000</td>\n",
              "      <td>1950</td>\n",
              "      <td>150</td>\n",
              "      <td>1</td>\n",
              "      <td>1</td>\n",
              "    </tr>\n",
              "  </tbody>\n",
              "</table>\n",
              "</div>"
            ],
            "text/plain": [
              "   user_id  age churn_date         city first_name  last_name   reg_date  \\\n",
              "0     1000   52        NaT    Краснодар     Рафаил  Верещагин 2018-05-25   \n",
              "1     1001   41        NaT       Москва       Иван       Ежов 2018-11-01   \n",
              "2     1002   59        NaT  Стерлитамак    Евгений  Абрамович 2018-06-17   \n",
              "3     1003   23        NaT       Москва      Белла   Белякова 2018-08-17   \n",
              "4     1004   68        NaT  Новокузнецк    Татьяна   Авдеенко 2018-05-14   \n",
              "\n",
              "  tariff  messages_included  mb_per_month_included  minutes_included  \\\n",
              "0  ultra               1000                  30720              3000   \n",
              "1  smart                 50                  15360               500   \n",
              "2  smart                 50                  15360               500   \n",
              "3  ultra               1000                  30720              3000   \n",
              "4  ultra               1000                  30720              3000   \n",
              "\n",
              "   rub_monthly_fee  rub_per_gb  rub_per_message  rub_per_minute  \n",
              "0             1950         150                1               1  \n",
              "1              550         200                3               3  \n",
              "2              550         200                3               3  \n",
              "3             1950         150                1               1  \n",
              "4             1950         150                1               1  "
            ]
          },
          "execution_count": 21,
          "metadata": {},
          "output_type": "execute_result"
        }
      ],
      "source": [
        "user_tariff_df = users_df.join(tariffs_df.set_index(\"tariff_name\"),\n",
        "                               on = \"tariff\", how = \"outer\").sort_index()        #объединение таблиц\n",
        "user_tariff_df.head()                                                           #вывод таблицы на экран"
      ]
    },
    {
      "cell_type": "markdown",
      "metadata": {
        "id": "OfiMwD21TOCK"
      },
      "source": [
        "Приведем pt_calls, pt_internet, pt_messages к виду удобному для объединения таблиц."
      ]
    },
    {
      "cell_type": "code",
      "execution_count": null,
      "metadata": {
        "id": "a_MYFUVvxCR0"
      },
      "outputs": [],
      "source": [
        "pt_calls = pt_calls.reset_index()                                               #сброс индекса\n",
        "pt_internet = pt_internet.reset_index()\n",
        "pt_messages = pt_messages.reset_index()\n",
        "pt_calls = pt_calls.rename(columns = {\"call_date\":\"month\",\"count\":\"count_calls\",\"sum\":\"sum_calls\"})               #изменение названий столбцов\n",
        "pt_internet = pt_internet.rename(columns ={\"session_date\":\"month\"})\n",
        "pt_messages = pt_messages.rename(columns = {\"message_date\":\"month\",\"id\":\"sum_msg\"})"
      ]
    },
    {
      "cell_type": "markdown",
      "metadata": {
        "id": "587KGlL1TlH9"
      },
      "source": [
        "Объеденим pt_calls, pt_internet, pt_messages.\n",
        "И заполним все пропуски нулями."
      ]
    },
    {
      "cell_type": "code",
      "execution_count": null,
      "metadata": {
        "id": "hABYBk_ZTuo3"
      },
      "outputs": [],
      "source": [
        "df_combine = pt_calls.set_index([\"user_id\",\"month\"]).join(other = [pt_internet.set_index([\"user_id\",\"month\"]),\n",
        "                                                                   pt_messages.set_index([\"user_id\",\"month\"])],\n",
        "                                                                   how= \"outer\").reset_index()                  #объединение таблиц\n",
        "df_combine = df_combine.fillna(0)                                                                               #заполнение пропусков нулями"
      ]
    },
    {
      "cell_type": "markdown",
      "metadata": {
        "id": "Vwk30DE5Ve-j"
      },
      "source": [
        "Соединим таблицы user_tariff_df и df_combine.\n",
        "Проверим на наличие пропусков"
      ]
    },
    {
      "cell_type": "code",
      "execution_count": null,
      "metadata": {
        "colab": {
          "base_uri": "https://localhost:8080/"
        },
        "id": "__bstbYj7GuT",
        "outputId": "224da783-974c-42cf-9d21-015146aa28b0",
        "scrolled": false
      },
      "outputs": [
        {
          "name": "stdout",
          "output_type": "stream",
          "text": [
            "<class 'pandas.core.frame.DataFrame'>\n",
            "Int64Index: 3216 entries, 0 to 3215\n",
            "Data columns (total 20 columns):\n",
            " #   Column                 Non-Null Count  Dtype         \n",
            "---  ------                 --------------  -----         \n",
            " 0   user_id                3216 non-null   int64         \n",
            " 1   month                  3214 non-null   float64       \n",
            " 2   count_calls            3214 non-null   float64       \n",
            " 3   sum_calls              3214 non-null   float64       \n",
            " 4   mb_used                3214 non-null   float64       \n",
            " 5   sum_msg                3214 non-null   float64       \n",
            " 6   age                    3216 non-null   int64         \n",
            " 7   churn_date             189 non-null    datetime64[ns]\n",
            " 8   city                   3216 non-null   object        \n",
            " 9   first_name             3216 non-null   object        \n",
            " 10  last_name              3216 non-null   object        \n",
            " 11  reg_date               3216 non-null   datetime64[ns]\n",
            " 12  tariff                 3216 non-null   object        \n",
            " 13  messages_included      3216 non-null   int64         \n",
            " 14  mb_per_month_included  3216 non-null   int64         \n",
            " 15  minutes_included       3216 non-null   int64         \n",
            " 16  rub_monthly_fee        3216 non-null   int64         \n",
            " 17  rub_per_gb             3216 non-null   int64         \n",
            " 18  rub_per_message        3216 non-null   int64         \n",
            " 19  rub_per_minute         3216 non-null   int64         \n",
            "dtypes: datetime64[ns](2), float64(5), int64(9), object(4)\n",
            "memory usage: 527.6+ KB\n"
          ]
        }
      ],
      "source": [
        "df_combine = df_combine.merge(user_tariff_df.set_index(\"user_id\"),\n",
        "                              how = \"outer\", on = \"user_id\")              #объединение таблиц\n",
        "df_combine.info()                                                               #вывод информации о таблице"
      ]
    },
    {
      "cell_type": "markdown",
      "metadata": {
        "id": "Q600vPbjOO0b"
      },
      "source": [
        "Проверим 2 пользователей без данных по пользованию сотовой связи."
      ]
    },
    {
      "cell_type": "code",
      "execution_count": null,
      "metadata": {
        "id": "xgnUaWSyOO0b",
        "outputId": "d21e1110-159f-45c0-f8a0-97aa010a90dc"
      },
      "outputs": [
        {
          "data": {
            "text/html": [
              "<div>\n",
              "<style scoped>\n",
              "    .dataframe tbody tr th:only-of-type {\n",
              "        vertical-align: middle;\n",
              "    }\n",
              "\n",
              "    .dataframe tbody tr th {\n",
              "        vertical-align: top;\n",
              "    }\n",
              "\n",
              "    .dataframe thead th {\n",
              "        text-align: right;\n",
              "    }\n",
              "</style>\n",
              "<table border=\"1\" class=\"dataframe\">\n",
              "  <thead>\n",
              "    <tr style=\"text-align: right;\">\n",
              "      <th></th>\n",
              "      <th>user_id</th>\n",
              "      <th>month</th>\n",
              "      <th>count_calls</th>\n",
              "      <th>sum_calls</th>\n",
              "      <th>mb_used</th>\n",
              "      <th>sum_msg</th>\n",
              "      <th>age</th>\n",
              "      <th>churn_date</th>\n",
              "      <th>city</th>\n",
              "      <th>first_name</th>\n",
              "      <th>last_name</th>\n",
              "      <th>reg_date</th>\n",
              "      <th>tariff</th>\n",
              "      <th>messages_included</th>\n",
              "      <th>mb_per_month_included</th>\n",
              "      <th>minutes_included</th>\n",
              "      <th>rub_monthly_fee</th>\n",
              "      <th>rub_per_gb</th>\n",
              "      <th>rub_per_message</th>\n",
              "      <th>rub_per_minute</th>\n",
              "    </tr>\n",
              "  </thead>\n",
              "  <tbody>\n",
              "    <tr>\n",
              "      <th>3214</th>\n",
              "      <td>1128</td>\n",
              "      <td>NaN</td>\n",
              "      <td>NaN</td>\n",
              "      <td>NaN</td>\n",
              "      <td>NaN</td>\n",
              "      <td>NaN</td>\n",
              "      <td>51</td>\n",
              "      <td>2018-12-23</td>\n",
              "      <td>Волжский</td>\n",
              "      <td>Ксения</td>\n",
              "      <td>Агаева</td>\n",
              "      <td>2018-12-15</td>\n",
              "      <td>ultra</td>\n",
              "      <td>1000</td>\n",
              "      <td>30720</td>\n",
              "      <td>3000</td>\n",
              "      <td>1950</td>\n",
              "      <td>150</td>\n",
              "      <td>1</td>\n",
              "      <td>1</td>\n",
              "    </tr>\n",
              "    <tr>\n",
              "      <th>3215</th>\n",
              "      <td>1371</td>\n",
              "      <td>NaN</td>\n",
              "      <td>NaN</td>\n",
              "      <td>NaN</td>\n",
              "      <td>NaN</td>\n",
              "      <td>NaN</td>\n",
              "      <td>50</td>\n",
              "      <td>2018-12-30</td>\n",
              "      <td>Омск</td>\n",
              "      <td>Ириней</td>\n",
              "      <td>Трофимов</td>\n",
              "      <td>2018-12-25</td>\n",
              "      <td>smart</td>\n",
              "      <td>50</td>\n",
              "      <td>15360</td>\n",
              "      <td>500</td>\n",
              "      <td>550</td>\n",
              "      <td>200</td>\n",
              "      <td>3</td>\n",
              "      <td>3</td>\n",
              "    </tr>\n",
              "  </tbody>\n",
              "</table>\n",
              "</div>"
            ],
            "text/plain": [
              "      user_id  month  count_calls  sum_calls  mb_used  sum_msg  age  \\\n",
              "3214     1128    NaN          NaN        NaN      NaN      NaN   51   \n",
              "3215     1371    NaN          NaN        NaN      NaN      NaN   50   \n",
              "\n",
              "     churn_date      city first_name last_name   reg_date tariff  \\\n",
              "3214 2018-12-23  Волжский     Ксения    Агаева 2018-12-15  ultra   \n",
              "3215 2018-12-30      Омск     Ириней  Трофимов 2018-12-25  smart   \n",
              "\n",
              "      messages_included  mb_per_month_included  minutes_included  \\\n",
              "3214               1000                  30720              3000   \n",
              "3215                 50                  15360               500   \n",
              "\n",
              "      rub_monthly_fee  rub_per_gb  rub_per_message  rub_per_minute  \n",
              "3214             1950         150                1               1  \n",
              "3215              550         200                3               3  "
            ]
          },
          "execution_count": 25,
          "metadata": {},
          "output_type": "execute_result"
        }
      ],
      "source": [
        "df_combine.query(\"month.isna()\",engine = \"python\")"
      ]
    },
    {
      "cell_type": "markdown",
      "metadata": {
        "id": "DH236eLnY08R"
      },
      "source": [
        "Видим что пользователи были зарегистрированны в самом конце года  и поэтому не имеют данных по пользованию тарифами.\n",
        "Пользователей целесообразнее оставить т.к они показывают прирост клиентов."
      ]
    },
    {
      "cell_type": "markdown",
      "metadata": {
        "id": "Rh8oB8f3gGE_"
      },
      "source": [
        "Для подсчета выручки с каждого пользователя напишем функцию income_month()."
      ]
    },
    {
      "cell_type": "code",
      "execution_count": null,
      "metadata": {
        "id": "4ZV5el4Nga47"
      },
      "outputs": [],
      "source": [
        "def income_month(row):                                                                             #функция подсчёта дохода\n",
        "  calls_income = 0\n",
        "  gb_income = 0\n",
        "  msg_income = 0\n",
        "  if((row.sum_calls - row.minutes_included) > 0):\n",
        "    calls_income = (row.sum_calls - row.minutes_included) * row.rub_per_minute\n",
        "\n",
        "  if((row.mb_used - row.mb_per_month_included) > 0):\n",
        "    gb_income = (np.ceil((row.mb_used - row.mb_per_month_included)/1024)) * row.rub_per_gb\n",
        "\n",
        "  if((row.sum_msg - row.messages_included) > 0):\n",
        "    msg_income = (row.sum_msg - row.messages_included) * row.rub_per_message\n",
        "\n",
        "  row[\"month_income\"] = calls_income + gb_income + msg_income + row.rub_monthly_fee\n",
        "\n",
        "  return row"
      ]
    },
    {
      "cell_type": "markdown",
      "metadata": {
        "id": "U-UTdFlatC5q"
      },
      "source": [
        "Применим функцию на таблице df_income."
      ]
    },
    {
      "cell_type": "code",
      "execution_count": null,
      "metadata": {
        "id": "Sbn9kAKI6gmE"
      },
      "outputs": [],
      "source": [
        "df_combine = df_combine.apply(income_month, axis = 1)                           #применение функции"
      ]
    },
    {
      "cell_type": "code",
      "execution_count": null,
      "metadata": {
        "id": "_FtEfxR_OO0d",
        "outputId": "8af2e86b-203d-4874-91b3-159804140065"
      },
      "outputs": [
        {
          "data": {
            "text/plain": [
              "4928251.0"
            ]
          },
          "execution_count": 28,
          "metadata": {},
          "output_type": "execute_result"
        }
      ],
      "source": [
        "# check\n",
        "\n",
        "df_combine[\"month_income\"].sum()"
      ]
    },
    {
      "cell_type": "markdown",
      "metadata": {
        "id": "UOqRAsF9tNF3"
      },
      "source": [
        "Проверим изменения."
      ]
    },
    {
      "cell_type": "code",
      "execution_count": null,
      "metadata": {
        "colab": {
          "base_uri": "https://localhost:8080/",
          "height": 630
        },
        "id": "7mD3wMl1tT_B",
        "outputId": "21d55e4b-9e61-43b6-936f-4d0fd77fbb60"
      },
      "outputs": [
        {
          "data": {
            "text/html": [
              "<div>\n",
              "<style scoped>\n",
              "    .dataframe tbody tr th:only-of-type {\n",
              "        vertical-align: middle;\n",
              "    }\n",
              "\n",
              "    .dataframe tbody tr th {\n",
              "        vertical-align: top;\n",
              "    }\n",
              "\n",
              "    .dataframe thead th {\n",
              "        text-align: right;\n",
              "    }\n",
              "</style>\n",
              "<table border=\"1\" class=\"dataframe\">\n",
              "  <thead>\n",
              "    <tr style=\"text-align: right;\">\n",
              "      <th></th>\n",
              "      <th>user_id</th>\n",
              "      <th>month</th>\n",
              "      <th>count_calls</th>\n",
              "      <th>sum_calls</th>\n",
              "      <th>mb_used</th>\n",
              "      <th>sum_msg</th>\n",
              "      <th>age</th>\n",
              "      <th>churn_date</th>\n",
              "      <th>city</th>\n",
              "      <th>first_name</th>\n",
              "      <th>...</th>\n",
              "      <th>reg_date</th>\n",
              "      <th>tariff</th>\n",
              "      <th>messages_included</th>\n",
              "      <th>mb_per_month_included</th>\n",
              "      <th>minutes_included</th>\n",
              "      <th>rub_monthly_fee</th>\n",
              "      <th>rub_per_gb</th>\n",
              "      <th>rub_per_message</th>\n",
              "      <th>rub_per_minute</th>\n",
              "      <th>month_income</th>\n",
              "    </tr>\n",
              "  </thead>\n",
              "  <tbody>\n",
              "    <tr>\n",
              "      <th>0</th>\n",
              "      <td>1000</td>\n",
              "      <td>5.0</td>\n",
              "      <td>22.0</td>\n",
              "      <td>159.0</td>\n",
              "      <td>2256.0</td>\n",
              "      <td>22.0</td>\n",
              "      <td>52</td>\n",
              "      <td>NaT</td>\n",
              "      <td>Краснодар</td>\n",
              "      <td>Рафаил</td>\n",
              "      <td>...</td>\n",
              "      <td>2018-05-25</td>\n",
              "      <td>ultra</td>\n",
              "      <td>1000</td>\n",
              "      <td>30720</td>\n",
              "      <td>3000</td>\n",
              "      <td>1950</td>\n",
              "      <td>150</td>\n",
              "      <td>1</td>\n",
              "      <td>1</td>\n",
              "      <td>1950.0</td>\n",
              "    </tr>\n",
              "    <tr>\n",
              "      <th>1</th>\n",
              "      <td>1000</td>\n",
              "      <td>6.0</td>\n",
              "      <td>43.0</td>\n",
              "      <td>172.0</td>\n",
              "      <td>23257.0</td>\n",
              "      <td>60.0</td>\n",
              "      <td>52</td>\n",
              "      <td>NaT</td>\n",
              "      <td>Краснодар</td>\n",
              "      <td>Рафаил</td>\n",
              "      <td>...</td>\n",
              "      <td>2018-05-25</td>\n",
              "      <td>ultra</td>\n",
              "      <td>1000</td>\n",
              "      <td>30720</td>\n",
              "      <td>3000</td>\n",
              "      <td>1950</td>\n",
              "      <td>150</td>\n",
              "      <td>1</td>\n",
              "      <td>1</td>\n",
              "      <td>1950.0</td>\n",
              "    </tr>\n",
              "    <tr>\n",
              "      <th>2</th>\n",
              "      <td>1000</td>\n",
              "      <td>7.0</td>\n",
              "      <td>47.0</td>\n",
              "      <td>340.0</td>\n",
              "      <td>14016.0</td>\n",
              "      <td>75.0</td>\n",
              "      <td>52</td>\n",
              "      <td>NaT</td>\n",
              "      <td>Краснодар</td>\n",
              "      <td>Рафаил</td>\n",
              "      <td>...</td>\n",
              "      <td>2018-05-25</td>\n",
              "      <td>ultra</td>\n",
              "      <td>1000</td>\n",
              "      <td>30720</td>\n",
              "      <td>3000</td>\n",
              "      <td>1950</td>\n",
              "      <td>150</td>\n",
              "      <td>1</td>\n",
              "      <td>1</td>\n",
              "      <td>1950.0</td>\n",
              "    </tr>\n",
              "    <tr>\n",
              "      <th>3</th>\n",
              "      <td>1000</td>\n",
              "      <td>8.0</td>\n",
              "      <td>52.0</td>\n",
              "      <td>408.0</td>\n",
              "      <td>14070.0</td>\n",
              "      <td>81.0</td>\n",
              "      <td>52</td>\n",
              "      <td>NaT</td>\n",
              "      <td>Краснодар</td>\n",
              "      <td>Рафаил</td>\n",
              "      <td>...</td>\n",
              "      <td>2018-05-25</td>\n",
              "      <td>ultra</td>\n",
              "      <td>1000</td>\n",
              "      <td>30720</td>\n",
              "      <td>3000</td>\n",
              "      <td>1950</td>\n",
              "      <td>150</td>\n",
              "      <td>1</td>\n",
              "      <td>1</td>\n",
              "      <td>1950.0</td>\n",
              "    </tr>\n",
              "    <tr>\n",
              "      <th>4</th>\n",
              "      <td>1000</td>\n",
              "      <td>9.0</td>\n",
              "      <td>58.0</td>\n",
              "      <td>466.0</td>\n",
              "      <td>14581.0</td>\n",
              "      <td>57.0</td>\n",
              "      <td>52</td>\n",
              "      <td>NaT</td>\n",
              "      <td>Краснодар</td>\n",
              "      <td>Рафаил</td>\n",
              "      <td>...</td>\n",
              "      <td>2018-05-25</td>\n",
              "      <td>ultra</td>\n",
              "      <td>1000</td>\n",
              "      <td>30720</td>\n",
              "      <td>3000</td>\n",
              "      <td>1950</td>\n",
              "      <td>150</td>\n",
              "      <td>1</td>\n",
              "      <td>1</td>\n",
              "      <td>1950.0</td>\n",
              "    </tr>\n",
              "    <tr>\n",
              "      <th>5</th>\n",
              "      <td>1000</td>\n",
              "      <td>10.0</td>\n",
              "      <td>57.0</td>\n",
              "      <td>350.0</td>\n",
              "      <td>14717.0</td>\n",
              "      <td>73.0</td>\n",
              "      <td>52</td>\n",
              "      <td>NaT</td>\n",
              "      <td>Краснодар</td>\n",
              "      <td>Рафаил</td>\n",
              "      <td>...</td>\n",
              "      <td>2018-05-25</td>\n",
              "      <td>ultra</td>\n",
              "      <td>1000</td>\n",
              "      <td>30720</td>\n",
              "      <td>3000</td>\n",
              "      <td>1950</td>\n",
              "      <td>150</td>\n",
              "      <td>1</td>\n",
              "      <td>1</td>\n",
              "      <td>1950.0</td>\n",
              "    </tr>\n",
              "    <tr>\n",
              "      <th>6</th>\n",
              "      <td>1000</td>\n",
              "      <td>11.0</td>\n",
              "      <td>43.0</td>\n",
              "      <td>338.0</td>\n",
              "      <td>14768.0</td>\n",
              "      <td>58.0</td>\n",
              "      <td>52</td>\n",
              "      <td>NaT</td>\n",
              "      <td>Краснодар</td>\n",
              "      <td>Рафаил</td>\n",
              "      <td>...</td>\n",
              "      <td>2018-05-25</td>\n",
              "      <td>ultra</td>\n",
              "      <td>1000</td>\n",
              "      <td>30720</td>\n",
              "      <td>3000</td>\n",
              "      <td>1950</td>\n",
              "      <td>150</td>\n",
              "      <td>1</td>\n",
              "      <td>1</td>\n",
              "      <td>1950.0</td>\n",
              "    </tr>\n",
              "    <tr>\n",
              "      <th>7</th>\n",
              "      <td>1000</td>\n",
              "      <td>12.0</td>\n",
              "      <td>46.0</td>\n",
              "      <td>333.0</td>\n",
              "      <td>9827.0</td>\n",
              "      <td>70.0</td>\n",
              "      <td>52</td>\n",
              "      <td>NaT</td>\n",
              "      <td>Краснодар</td>\n",
              "      <td>Рафаил</td>\n",
              "      <td>...</td>\n",
              "      <td>2018-05-25</td>\n",
              "      <td>ultra</td>\n",
              "      <td>1000</td>\n",
              "      <td>30720</td>\n",
              "      <td>3000</td>\n",
              "      <td>1950</td>\n",
              "      <td>150</td>\n",
              "      <td>1</td>\n",
              "      <td>1</td>\n",
              "      <td>1950.0</td>\n",
              "    </tr>\n",
              "    <tr>\n",
              "      <th>8</th>\n",
              "      <td>1001</td>\n",
              "      <td>11.0</td>\n",
              "      <td>59.0</td>\n",
              "      <td>430.0</td>\n",
              "      <td>18452.0</td>\n",
              "      <td>0.0</td>\n",
              "      <td>41</td>\n",
              "      <td>NaT</td>\n",
              "      <td>Москва</td>\n",
              "      <td>Иван</td>\n",
              "      <td>...</td>\n",
              "      <td>2018-11-01</td>\n",
              "      <td>smart</td>\n",
              "      <td>50</td>\n",
              "      <td>15360</td>\n",
              "      <td>500</td>\n",
              "      <td>550</td>\n",
              "      <td>200</td>\n",
              "      <td>3</td>\n",
              "      <td>3</td>\n",
              "      <td>1350.0</td>\n",
              "    </tr>\n",
              "    <tr>\n",
              "      <th>9</th>\n",
              "      <td>1001</td>\n",
              "      <td>12.0</td>\n",
              "      <td>63.0</td>\n",
              "      <td>414.0</td>\n",
              "      <td>14053.0</td>\n",
              "      <td>0.0</td>\n",
              "      <td>41</td>\n",
              "      <td>NaT</td>\n",
              "      <td>Москва</td>\n",
              "      <td>Иван</td>\n",
              "      <td>...</td>\n",
              "      <td>2018-11-01</td>\n",
              "      <td>smart</td>\n",
              "      <td>50</td>\n",
              "      <td>15360</td>\n",
              "      <td>500</td>\n",
              "      <td>550</td>\n",
              "      <td>200</td>\n",
              "      <td>3</td>\n",
              "      <td>3</td>\n",
              "      <td>550.0</td>\n",
              "    </tr>\n",
              "  </tbody>\n",
              "</table>\n",
              "<p>10 rows × 21 columns</p>\n",
              "</div>"
            ],
            "text/plain": [
              "   user_id  month  count_calls  sum_calls  mb_used  sum_msg  age churn_date  \\\n",
              "0     1000    5.0         22.0      159.0   2256.0     22.0   52        NaT   \n",
              "1     1000    6.0         43.0      172.0  23257.0     60.0   52        NaT   \n",
              "2     1000    7.0         47.0      340.0  14016.0     75.0   52        NaT   \n",
              "3     1000    8.0         52.0      408.0  14070.0     81.0   52        NaT   \n",
              "4     1000    9.0         58.0      466.0  14581.0     57.0   52        NaT   \n",
              "5     1000   10.0         57.0      350.0  14717.0     73.0   52        NaT   \n",
              "6     1000   11.0         43.0      338.0  14768.0     58.0   52        NaT   \n",
              "7     1000   12.0         46.0      333.0   9827.0     70.0   52        NaT   \n",
              "8     1001   11.0         59.0      430.0  18452.0      0.0   41        NaT   \n",
              "9     1001   12.0         63.0      414.0  14053.0      0.0   41        NaT   \n",
              "\n",
              "        city first_name  ...   reg_date tariff messages_included  \\\n",
              "0  Краснодар     Рафаил  ... 2018-05-25  ultra              1000   \n",
              "1  Краснодар     Рафаил  ... 2018-05-25  ultra              1000   \n",
              "2  Краснодар     Рафаил  ... 2018-05-25  ultra              1000   \n",
              "3  Краснодар     Рафаил  ... 2018-05-25  ultra              1000   \n",
              "4  Краснодар     Рафаил  ... 2018-05-25  ultra              1000   \n",
              "5  Краснодар     Рафаил  ... 2018-05-25  ultra              1000   \n",
              "6  Краснодар     Рафаил  ... 2018-05-25  ultra              1000   \n",
              "7  Краснодар     Рафаил  ... 2018-05-25  ultra              1000   \n",
              "8     Москва       Иван  ... 2018-11-01  smart                50   \n",
              "9     Москва       Иван  ... 2018-11-01  smart                50   \n",
              "\n",
              "   mb_per_month_included  minutes_included  rub_monthly_fee  rub_per_gb  \\\n",
              "0                  30720              3000             1950         150   \n",
              "1                  30720              3000             1950         150   \n",
              "2                  30720              3000             1950         150   \n",
              "3                  30720              3000             1950         150   \n",
              "4                  30720              3000             1950         150   \n",
              "5                  30720              3000             1950         150   \n",
              "6                  30720              3000             1950         150   \n",
              "7                  30720              3000             1950         150   \n",
              "8                  15360               500              550         200   \n",
              "9                  15360               500              550         200   \n",
              "\n",
              "   rub_per_message  rub_per_minute  month_income  \n",
              "0                1               1        1950.0  \n",
              "1                1               1        1950.0  \n",
              "2                1               1        1950.0  \n",
              "3                1               1        1950.0  \n",
              "4                1               1        1950.0  \n",
              "5                1               1        1950.0  \n",
              "6                1               1        1950.0  \n",
              "7                1               1        1950.0  \n",
              "8                3               3        1350.0  \n",
              "9                3               3         550.0  \n",
              "\n",
              "[10 rows x 21 columns]"
            ]
          },
          "execution_count": 29,
          "metadata": {},
          "output_type": "execute_result"
        }
      ],
      "source": [
        "df_combine.head(10)                                                             #вывод таблицы на экран"
      ]
    },
    {
      "cell_type": "markdown",
      "metadata": {
        "id": "FHPlxuEIuVV4"
      },
      "source": [
        "Выведем на экран доход с каждого пользователя по месяцам."
      ]
    },
    {
      "cell_type": "code",
      "execution_count": null,
      "metadata": {
        "colab": {
          "base_uri": "https://localhost:8080/",
          "height": 363
        },
        "id": "G0wR1f1q_k78",
        "outputId": "2fe87742-d3a1-4f38-c12a-13d6026ad484"
      },
      "outputs": [
        {
          "data": {
            "text/html": [
              "<div>\n",
              "<style scoped>\n",
              "    .dataframe tbody tr th:only-of-type {\n",
              "        vertical-align: middle;\n",
              "    }\n",
              "\n",
              "    .dataframe tbody tr th {\n",
              "        vertical-align: top;\n",
              "    }\n",
              "\n",
              "    .dataframe thead th {\n",
              "        text-align: right;\n",
              "    }\n",
              "</style>\n",
              "<table border=\"1\" class=\"dataframe\">\n",
              "  <thead>\n",
              "    <tr style=\"text-align: right;\">\n",
              "      <th></th>\n",
              "      <th>user_id</th>\n",
              "      <th>month</th>\n",
              "      <th>month_income</th>\n",
              "    </tr>\n",
              "  </thead>\n",
              "  <tbody>\n",
              "    <tr>\n",
              "      <th>0</th>\n",
              "      <td>1000</td>\n",
              "      <td>5.0</td>\n",
              "      <td>1950.0</td>\n",
              "    </tr>\n",
              "    <tr>\n",
              "      <th>1</th>\n",
              "      <td>1000</td>\n",
              "      <td>6.0</td>\n",
              "      <td>1950.0</td>\n",
              "    </tr>\n",
              "    <tr>\n",
              "      <th>2</th>\n",
              "      <td>1000</td>\n",
              "      <td>7.0</td>\n",
              "      <td>1950.0</td>\n",
              "    </tr>\n",
              "    <tr>\n",
              "      <th>3</th>\n",
              "      <td>1000</td>\n",
              "      <td>8.0</td>\n",
              "      <td>1950.0</td>\n",
              "    </tr>\n",
              "    <tr>\n",
              "      <th>4</th>\n",
              "      <td>1000</td>\n",
              "      <td>9.0</td>\n",
              "      <td>1950.0</td>\n",
              "    </tr>\n",
              "    <tr>\n",
              "      <th>5</th>\n",
              "      <td>1000</td>\n",
              "      <td>10.0</td>\n",
              "      <td>1950.0</td>\n",
              "    </tr>\n",
              "    <tr>\n",
              "      <th>6</th>\n",
              "      <td>1000</td>\n",
              "      <td>11.0</td>\n",
              "      <td>1950.0</td>\n",
              "    </tr>\n",
              "    <tr>\n",
              "      <th>7</th>\n",
              "      <td>1000</td>\n",
              "      <td>12.0</td>\n",
              "      <td>1950.0</td>\n",
              "    </tr>\n",
              "    <tr>\n",
              "      <th>8</th>\n",
              "      <td>1001</td>\n",
              "      <td>11.0</td>\n",
              "      <td>1350.0</td>\n",
              "    </tr>\n",
              "    <tr>\n",
              "      <th>9</th>\n",
              "      <td>1001</td>\n",
              "      <td>12.0</td>\n",
              "      <td>550.0</td>\n",
              "    </tr>\n",
              "  </tbody>\n",
              "</table>\n",
              "</div>"
            ],
            "text/plain": [
              "   user_id  month  month_income\n",
              "0     1000    5.0        1950.0\n",
              "1     1000    6.0        1950.0\n",
              "2     1000    7.0        1950.0\n",
              "3     1000    8.0        1950.0\n",
              "4     1000    9.0        1950.0\n",
              "5     1000   10.0        1950.0\n",
              "6     1000   11.0        1950.0\n",
              "7     1000   12.0        1950.0\n",
              "8     1001   11.0        1350.0\n",
              "9     1001   12.0         550.0"
            ]
          },
          "execution_count": 30,
          "metadata": {},
          "output_type": "execute_result"
        }
      ],
      "source": [
        "df_combine[[\"user_id\",\"month\",\"month_income\"]].sort_values(by = [\"user_id\",\"month\"]).head(10)      #таблица отображающая доход по месяцам"
      ]
    },
    {
      "cell_type": "markdown",
      "metadata": {
        "id": "HP-050IsujaU"
      },
      "source": [
        "**Опишите поведение клиентов оператора, исходя из выборки. Сколько минут разговора, сколько сообщений и какой объём интернет-трафика требуется пользователям каждого тарифа в месяц? Посчитайте среднее количество, дисперсию и стандартное отклонение. Постройте гистограммы. Опишите распределения.**"
      ]
    },
    {
      "cell_type": "markdown",
      "metadata": {
        "id": "9NU3JPoA1UHt"
      },
      "source": [
        "Построим сводную таблицу для тарифов с количеством минут разговора, трафиком и количеством сообщений распределённых по месяцам."
      ]
    },
    {
      "cell_type": "code",
      "execution_count": null,
      "metadata": {
        "colab": {
          "base_uri": "https://localhost:8080/",
          "height": 865
        },
        "id": "E7cCQgRqvdGE",
        "outputId": "e590303f-83be-4486-e066-435e4b10e661",
        "scrolled": false
      },
      "outputs": [
        {
          "data": {
            "text/html": [
              "<div>\n",
              "<style scoped>\n",
              "    .dataframe tbody tr th:only-of-type {\n",
              "        vertical-align: middle;\n",
              "    }\n",
              "\n",
              "    .dataframe tbody tr th {\n",
              "        vertical-align: top;\n",
              "    }\n",
              "\n",
              "    .dataframe thead th {\n",
              "        text-align: right;\n",
              "    }\n",
              "</style>\n",
              "<table border=\"1\" class=\"dataframe\">\n",
              "  <thead>\n",
              "    <tr style=\"text-align: right;\">\n",
              "      <th></th>\n",
              "      <th></th>\n",
              "      <th>mb_used</th>\n",
              "      <th>sum_calls</th>\n",
              "      <th>sum_msg</th>\n",
              "    </tr>\n",
              "    <tr>\n",
              "      <th>month</th>\n",
              "      <th>tariff</th>\n",
              "      <th></th>\n",
              "      <th></th>\n",
              "      <th></th>\n",
              "    </tr>\n",
              "  </thead>\n",
              "  <tbody>\n",
              "    <tr>\n",
              "      <th rowspan=\"2\" valign=\"top\">1.0</th>\n",
              "      <th>smart</th>\n",
              "      <td>289831.0</td>\n",
              "      <td>6931.0</td>\n",
              "      <td>620.0</td>\n",
              "    </tr>\n",
              "    <tr>\n",
              "      <th>ultra</th>\n",
              "      <td>118382.0</td>\n",
              "      <td>3853.0</td>\n",
              "      <td>304.0</td>\n",
              "    </tr>\n",
              "    <tr>\n",
              "      <th rowspan=\"2\" valign=\"top\">2.0</th>\n",
              "      <th>smart</th>\n",
              "      <td>673461.0</td>\n",
              "      <td>17324.0</td>\n",
              "      <td>1397.0</td>\n",
              "    </tr>\n",
              "    <tr>\n",
              "      <th>ultra</th>\n",
              "      <td>282887.0</td>\n",
              "      <td>7131.0</td>\n",
              "      <td>527.0</td>\n",
              "    </tr>\n",
              "    <tr>\n",
              "      <th rowspan=\"2\" valign=\"top\">3.0</th>\n",
              "      <th>smart</th>\n",
              "      <td>1164537.0</td>\n",
              "      <td>30034.0</td>\n",
              "      <td>2453.0</td>\n",
              "    </tr>\n",
              "    <tr>\n",
              "      <th>ultra</th>\n",
              "      <td>649423.0</td>\n",
              "      <td>18117.0</td>\n",
              "      <td>1195.0</td>\n",
              "    </tr>\n",
              "    <tr>\n",
              "      <th rowspan=\"2\" valign=\"top\">4.0</th>\n",
              "      <th>smart</th>\n",
              "      <td>1509702.0</td>\n",
              "      <td>41119.0</td>\n",
              "      <td>3443.0</td>\n",
              "    </tr>\n",
              "    <tr>\n",
              "      <th>ultra</th>\n",
              "      <td>926409.0</td>\n",
              "      <td>25191.0</td>\n",
              "      <td>1736.0</td>\n",
              "    </tr>\n",
              "    <tr>\n",
              "      <th rowspan=\"2\" valign=\"top\">5.0</th>\n",
              "      <th>smart</th>\n",
              "      <td>2231353.0</td>\n",
              "      <td>54618.0</td>\n",
              "      <td>4762.0</td>\n",
              "    </tr>\n",
              "    <tr>\n",
              "      <th>ultra</th>\n",
              "      <td>1298540.0</td>\n",
              "      <td>34192.0</td>\n",
              "      <td>2536.0</td>\n",
              "    </tr>\n",
              "    <tr>\n",
              "      <th rowspan=\"2\" valign=\"top\">6.0</th>\n",
              "      <th>smart</th>\n",
              "      <td>2593622.0</td>\n",
              "      <td>64885.0</td>\n",
              "      <td>5478.0</td>\n",
              "    </tr>\n",
              "    <tr>\n",
              "      <th>ultra</th>\n",
              "      <td>1591148.0</td>\n",
              "      <td>40295.0</td>\n",
              "      <td>3505.0</td>\n",
              "    </tr>\n",
              "    <tr>\n",
              "      <th rowspan=\"2\" valign=\"top\">7.0</th>\n",
              "      <th>smart</th>\n",
              "      <td>3168466.0</td>\n",
              "      <td>82079.0</td>\n",
              "      <td>6784.0</td>\n",
              "    </tr>\n",
              "    <tr>\n",
              "      <th>ultra</th>\n",
              "      <td>1866833.0</td>\n",
              "      <td>49667.0</td>\n",
              "      <td>4536.0</td>\n",
              "    </tr>\n",
              "    <tr>\n",
              "      <th rowspan=\"2\" valign=\"top\">8.0</th>\n",
              "      <th>smart</th>\n",
              "      <td>3908561.0</td>\n",
              "      <td>99045.0</td>\n",
              "      <td>7905.0</td>\n",
              "    </tr>\n",
              "    <tr>\n",
              "      <th>ultra</th>\n",
              "      <td>2096565.0</td>\n",
              "      <td>54653.0</td>\n",
              "      <td>5183.0</td>\n",
              "    </tr>\n",
              "    <tr>\n",
              "      <th rowspan=\"2\" valign=\"top\">9.0</th>\n",
              "      <th>smart</th>\n",
              "      <td>4244377.0</td>\n",
              "      <td>111439.0</td>\n",
              "      <td>8746.0</td>\n",
              "    </tr>\n",
              "    <tr>\n",
              "      <th>ultra</th>\n",
              "      <td>2210554.0</td>\n",
              "      <td>62036.0</td>\n",
              "      <td>6013.0</td>\n",
              "    </tr>\n",
              "    <tr>\n",
              "      <th rowspan=\"2\" valign=\"top\">10.0</th>\n",
              "      <th>smart</th>\n",
              "      <td>4932898.0</td>\n",
              "      <td>125284.0</td>\n",
              "      <td>9927.0</td>\n",
              "    </tr>\n",
              "    <tr>\n",
              "      <th>ultra</th>\n",
              "      <td>2467856.0</td>\n",
              "      <td>68644.0</td>\n",
              "      <td>7187.0</td>\n",
              "    </tr>\n",
              "    <tr>\n",
              "      <th rowspan=\"2\" valign=\"top\">11.0</th>\n",
              "      <th>smart</th>\n",
              "      <td>5345940.0</td>\n",
              "      <td>137544.0</td>\n",
              "      <td>10768.0</td>\n",
              "    </tr>\n",
              "    <tr>\n",
              "      <th>ultra</th>\n",
              "      <td>2653912.0</td>\n",
              "      <td>72545.0</td>\n",
              "      <td>7476.0</td>\n",
              "    </tr>\n",
              "    <tr>\n",
              "      <th rowspan=\"2\" valign=\"top\">12.0</th>\n",
              "      <th>smart</th>\n",
              "      <td>6112113.0</td>\n",
              "      <td>161275.0</td>\n",
              "      <td>12130.0</td>\n",
              "    </tr>\n",
              "    <tr>\n",
              "      <th>ultra</th>\n",
              "      <td>3032089.0</td>\n",
              "      <td>82400.0</td>\n",
              "      <td>8425.0</td>\n",
              "    </tr>\n",
              "  </tbody>\n",
              "</table>\n",
              "</div>"
            ],
            "text/plain": [
              "                mb_used  sum_calls  sum_msg\n",
              "month tariff                               \n",
              "1.0   smart    289831.0     6931.0    620.0\n",
              "      ultra    118382.0     3853.0    304.0\n",
              "2.0   smart    673461.0    17324.0   1397.0\n",
              "      ultra    282887.0     7131.0    527.0\n",
              "3.0   smart   1164537.0    30034.0   2453.0\n",
              "      ultra    649423.0    18117.0   1195.0\n",
              "4.0   smart   1509702.0    41119.0   3443.0\n",
              "      ultra    926409.0    25191.0   1736.0\n",
              "5.0   smart   2231353.0    54618.0   4762.0\n",
              "      ultra   1298540.0    34192.0   2536.0\n",
              "6.0   smart   2593622.0    64885.0   5478.0\n",
              "      ultra   1591148.0    40295.0   3505.0\n",
              "7.0   smart   3168466.0    82079.0   6784.0\n",
              "      ultra   1866833.0    49667.0   4536.0\n",
              "8.0   smart   3908561.0    99045.0   7905.0\n",
              "      ultra   2096565.0    54653.0   5183.0\n",
              "9.0   smart   4244377.0   111439.0   8746.0\n",
              "      ultra   2210554.0    62036.0   6013.0\n",
              "10.0  smart   4932898.0   125284.0   9927.0\n",
              "      ultra   2467856.0    68644.0   7187.0\n",
              "11.0  smart   5345940.0   137544.0  10768.0\n",
              "      ultra   2653912.0    72545.0   7476.0\n",
              "12.0  smart   6112113.0   161275.0  12130.0\n",
              "      ultra   3032089.0    82400.0   8425.0"
            ]
          },
          "execution_count": 31,
          "metadata": {},
          "output_type": "execute_result"
        }
      ],
      "source": [
        "df_combine.pivot_table(index = [\"month\",\"tariff\"], values = [\"sum_calls\",\"mb_used\",\"sum_msg\"], aggfunc = \"sum\")    #построение сводной таблицы"
      ]
    },
    {
      "cell_type": "markdown",
      "metadata": {
        "id": "X5MNN8HeOO0e"
      },
      "source": [
        "Построим диаграмму для каждого столбца для наглядности."
      ]
    },
    {
      "cell_type": "code",
      "execution_count": null,
      "metadata": {
        "id": "daXt8r7VOO0e",
        "outputId": "d1554f1b-93bd-48d0-d87a-350957e39cbc"
      },
      "outputs": [
        {
          "data": {
            "text/plain": [
              "<AxesSubplot:xlabel='month'>"
            ]
          },
          "execution_count": 32,
          "metadata": {},
          "output_type": "execute_result"
        },
        {
          "data": {
            "image/png": "[encoded data removed]",
            "text/plain": [
              "<Figure size 864x288 with 1 Axes>"
            ]
          },
          "metadata": {
            "needs_background": "light"
          },
          "output_type": "display_data"
        }
      ],
      "source": [
        "(df_combine\n",
        " .pivot_table(index = \"tariff\",columns =\"month\", values = \"mb_used\", aggfunc = \"sum\")\n",
        " .T\n",
        " .plot(kind =\"line\",style =\"o-\",figsize = (12,4)))                                   # вывод диаграммы "
      ]
    },
    {
      "cell_type": "code",
      "execution_count": null,
      "metadata": {
        "id": "WaII2Pb1OO0e",
        "outputId": "fe9be8d6-71c2-48e3-d1bb-7bf473a3e54c"
      },
      "outputs": [
        {
          "data": {
            "text/plain": [
              "<AxesSubplot:xlabel='month'>"
            ]
          },
          "execution_count": 33,
          "metadata": {},
          "output_type": "execute_result"
        },
        {
          "data": {
            "image/png": "[encoded data removed]",
            "text/plain": [
              "<Figure size 864x288 with 1 Axes>"
            ]
          },
          "metadata": {
            "needs_background": "light"
          },
          "output_type": "display_data"
        }
      ],
      "source": [
        "(df_combine\n",
        " .pivot_table(index = \"tariff\",columns =\"month\", values = \"sum_calls\", aggfunc = \"sum\")\n",
        " .T\n",
        " .plot(kind =\"line\",style =\"o-\",figsize = (12,4)))                                          # вывод диаграммы"
      ]
    },
    {
      "cell_type": "code",
      "execution_count": null,
      "metadata": {
        "id": "-jL4kvXQOO0e",
        "outputId": "545de211-ddf9-4c01-fe70-72b9c6742751"
      },
      "outputs": [
        {
          "data": {
            "text/plain": [
              "<AxesSubplot:xlabel='month'>"
            ]
          },
          "execution_count": 34,
          "metadata": {},
          "output_type": "execute_result"
        },
        {
          "data": {
            "image/png": "[encoded data removed]",
            "text/plain": [
              "<Figure size 864x288 with 1 Axes>"
            ]
          },
          "metadata": {
            "needs_background": "light"
          },
          "output_type": "display_data"
        }
      ],
      "source": [
        "(df_combine\n",
        " .pivot_table(index = \"tariff\",columns =\"month\", values = \"sum_msg\", aggfunc = \"sum\")\n",
        " .T\n",
        " .plot(kind =\"line\",style =\"o-\",figsize = (12,4)))                                         # вывод диаграммы"
      ]
    },
    {
      "cell_type": "code",
      "execution_count": null,
      "metadata": {
        "id": "Hc2JwRlOOO0f",
        "outputId": "a6b61a4a-e169-4fcd-a630-5fe5a6022a8a"
      },
      "outputs": [
        {
          "data": {
            "text/plain": [
              "<AxesSubplot:xlabel='tariff'>"
            ]
          },
          "execution_count": 35,
          "metadata": {},
          "output_type": "execute_result"
        },
        {
          "data": {
            "image/png": "[encoded data removed]",
            "text/plain": [
              "<Figure size 864x288 with 1 Axes>"
            ]
          },
          "metadata": {
            "needs_background": "light"
          },
          "output_type": "display_data"
        }
      ],
      "source": [
        "(df_combine\n",
        " .pivot_table(index = \"tariff\",columns =\"month\", values = \"sum_msg\", aggfunc = \"sum\")\n",
        "#  .T\n",
        " .plot(kind =\"line\",style =\"o-\",figsize = (12,4)))                                         # вывод диаграммы"
      ]
    },
    {
      "cell_type": "markdown",
      "metadata": {
        "id": "lAQdZmnnFhry"
      },
      "source": [
        "Видно что показатели с каждым месяцем для каждого тарифа увеличиваются.\n",
        "\n",
        "Выведем стандартное отклонение,среднее количество и дисперсию для звонков."
      ]
    },
    {
      "cell_type": "code",
      "execution_count": null,
      "metadata": {
        "colab": {
          "base_uri": "https://localhost:8080/"
        },
        "id": "FgFj_9VdGbQH",
        "outputId": "f5fb429a-80b8-4563-90c3-bf0e8ff0aa50"
      },
      "outputs": [
        {
          "name": "stdout",
          "output_type": "stream",
          "text": [
            "smart\n",
            "Среднее: 417.93\n",
            "Дисперсия: 36219.32\n",
            "Стандартное отклонение: 190.31\n",
            "\n",
            "ultra\n",
            "Среднее: 526.62\n",
            "Дисперсия: 100873.63\n",
            "Стандартное отклонение: 317.61\n",
            "\n"
          ]
        }
      ],
      "source": [
        "for name, group_df in df_combine.groupby(\"tariff\"):                             #выовод в цикле значений для каждого тарифа\n",
        "  print(name)\n",
        "  print(\"Среднее: {:.2f}\".format(group_df.query(\"tariff == @name\")[\"sum_calls\"].mean()))\n",
        "  print(\"Дисперсия: {:.2f}\".format(group_df.query(\"tariff == @name\")[\"sum_calls\"].var()))\n",
        "  print(\"Стандартное отклонение: {:.2f}\".format(group_df.query(\"tariff == @name\")[\"sum_calls\"].std()))\n",
        "  print(\"\")"
      ]
    },
    {
      "cell_type": "markdown",
      "metadata": {
        "id": "lb3XDBEZKzEs"
      },
      "source": [
        "Построим гистограмму для звонков по тарифам."
      ]
    },
    {
      "cell_type": "code",
      "execution_count": null,
      "metadata": {
        "colab": {
          "base_uri": "https://localhost:8080/",
          "height": 545
        },
        "id": "uk_F1lUboZJF",
        "outputId": "daff2055-67df-4fec-c524-aeb8fbec2cef"
      },
      "outputs": [
        {
          "data": {
            "image/png": "[encoded data removed]",
            "text/plain": [
              "<Figure size 432x288 with 1 Axes>"
            ]
          },
          "metadata": {
            "needs_background": "light"
          },
          "output_type": "display_data"
        },
        {
          "data": {
            "image/png": "[encoded data removed]",
            "text/plain": [
              "<Figure size 432x288 with 1 Axes>"
            ]
          },
          "metadata": {
            "needs_background": "light"
          },
          "output_type": "display_data"
        }
      ],
      "source": [
        "for name, group_df in df_combine.groupby(\"tariff\"):                             #постройка гистограмм для каждого тарифа\n",
        "  group_df.plot(y = \"sum_calls\", kind = \"hist\", title = name, bins = 100)"
      ]
    },
    {
      "cell_type": "markdown",
      "metadata": {
        "id": "tSQLSUSCLCDL"
      },
      "source": [
        "На гистограммах видно нормальное распределение с пиковыми значениями в районе от 400 до 500 минут. На графике с тарифом ultra выделяется нулевое значение, это говорит об отсутствии звонков.\n",
        "\n",
        "Выведем стандартное отклонение,среднееколичество и дисперсию для сообщений."
      ]
    },
    {
      "cell_type": "code",
      "execution_count": null,
      "metadata": {
        "colab": {
          "base_uri": "https://localhost:8080/"
        },
        "id": "2KwswafNNlTJ",
        "outputId": "7fb63710-e191-4dc5-a2d5-83e470dca584"
      },
      "outputs": [
        {
          "name": "stdout",
          "output_type": "stream",
          "text": [
            "smart\n",
            "Среднее:  33.384028712427096\n",
            "Дисперсия:  796.8129584480083\n",
            "Стандартное отклонение:  28.22787555676141\n",
            "\n",
            "ultra\n",
            "Среднее:  49.36345177664975\n",
            "Дисперсия:  2285.266142544674\n",
            "Стандартное отклонение:  47.80445735017472\n",
            "\n"
          ]
        }
      ],
      "source": [
        "for name, group_df in df_combine.groupby(\"tariff\"):                             #выовод в цикле значений для каждого тарифа\n",
        "  print(name)\n",
        "  print(\"Среднее: \", group_df.query(\"tariff == @name\")[\"sum_msg\"].mean())\n",
        "  print(\"Дисперсия: \", group_df.query(\"tariff == @name\")[\"sum_msg\"].var())\n",
        "  print(\"Стандартное отклонение: \",group_df.query(\"tariff == @name\")[\"sum_msg\"].std())\n",
        "  print(\"\")"
      ]
    },
    {
      "cell_type": "markdown",
      "metadata": {
        "id": "fjyKYLUaQKY3"
      },
      "source": [
        "Построим гистограммы для сообщений и разделим по тарифам."
      ]
    },
    {
      "cell_type": "code",
      "execution_count": null,
      "metadata": {
        "colab": {
          "base_uri": "https://localhost:8080/",
          "height": 545
        },
        "id": "yQ6XvIJI21LC",
        "outputId": "a6bd3fbc-b04e-4b92-e0f1-a5448cdf7558"
      },
      "outputs": [
        {
          "data": {
            "image/png": "[encoded data removed]",
            "text/plain": [
              "<Figure size 432x288 with 1 Axes>"
            ]
          },
          "metadata": {
            "needs_background": "light"
          },
          "output_type": "display_data"
        },
        {
          "data": {
            "image/png": "[encoded data removed]",
            "text/plain": [
              "<Figure size 432x288 with 1 Axes>"
            ]
          },
          "metadata": {
            "needs_background": "light"
          },
          "output_type": "display_data"
        }
      ],
      "source": [
        "for name, group_df in df_combine.groupby(\"tariff\"):                             #постройка гистограмм для каждого тарифа\n",
        "  group_df.plot(y = \"sum_msg\", kind = \"hist\", title = name, bins = 50)"
      ]
    },
    {
      "cell_type": "markdown",
      "metadata": {
        "id": "qP_pk6M-Qdqs"
      },
      "source": [
        "На гистограммах видно что данные по сообщениям распеделены более полого, но для каждого тарифа можно выделить значения от 0 до 50 как пиковые, дальше количество сообщений идёт на спад.  Во двух тарифах имеется данные со значением 0, это говорит о том что большенство пользователей не пользуется сообщениями.\n",
        "\n",
        "Выведем стандартное отклонение,среднееколичество и дисперсию для трафика."
      ]
    },
    {
      "cell_type": "code",
      "execution_count": null,
      "metadata": {
        "colab": {
          "base_uri": "https://localhost:8080/"
        },
        "id": "R6P5TgjwSY3d",
        "outputId": "40bc7b5d-f50a-443e-f1d0-a5de3c56e08d"
      },
      "outputs": [
        {
          "name": "stdout",
          "output_type": "stream",
          "text": [
            "smart\n",
            "Среднее:  16229.188425302826\n",
            "Дисперсия:  34545911.12695753\n",
            "Стандартное отклонение:  5877.576977544193\n",
            "\n",
            "ultra\n",
            "Среднее:  19486.90152284264\n",
            "Дисперсия:  101935621.04821923\n",
            "Стандартное отклонение:  10096.317202238608\n",
            "\n"
          ]
        }
      ],
      "source": [
        "for name, group_df in df_combine.groupby(\"tariff\"):                             #выовод в цикле значений для каждого тарифа\n",
        "  print(name)\n",
        "  print(\"Среднее: \", group_df.query(\"tariff == @name\")[\"mb_used\"].mean())\n",
        "  print(\"Дисперсия: \", group_df.query(\"tariff == @name\")[\"mb_used\"].var())\n",
        "  print(\"Стандартное отклонение: \",group_df.query(\"tariff == @name\")[\"mb_used\"].std())\n",
        "  print(\"\")"
      ]
    },
    {
      "cell_type": "markdown",
      "metadata": {
        "id": "Reyt1K5MTfHV"
      },
      "source": [
        "Построим гистограммы трафика для каждого тарифа."
      ]
    },
    {
      "cell_type": "code",
      "execution_count": null,
      "metadata": {
        "colab": {
          "base_uri": "https://localhost:8080/",
          "height": 545
        },
        "id": "Ear46wA49l-J",
        "outputId": "3975cb5c-bf29-41f5-92c0-783bd76b58de"
      },
      "outputs": [
        {
          "data": {
            "image/png": "[encoded data removed]",
            "text/plain": [
              "<Figure size 432x288 with 1 Axes>"
            ]
          },
          "metadata": {
            "needs_background": "light"
          },
          "output_type": "display_data"
        },
        {
          "data": {
            "image/png": "[encoded data removed]",
            "text/plain": [
              "<Figure size 432x288 with 1 Axes>"
            ]
          },
          "metadata": {
            "needs_background": "light"
          },
          "output_type": "display_data"
        }
      ],
      "source": [
        "for name, group_df in df_combine.groupby(\"tariff\"):                             #постройка гистограмм для каждого тарифа\n",
        "  group_df.plot(y = \"mb_used\", kind = \"hist\", title = name, bins = 100)"
      ]
    },
    {
      "cell_type": "markdown",
      "metadata": {
        "id": "wfwClkWiTxa3"
      },
      "source": [
        "На гистограммаз видно нормальное распределение трафика с пиковым значением 14000 - 20000 для тарифа smart и 15000 - 22000 для ultra. При этом нулевое количество трафика не преобладает ни на одной гистограмме. Это говорит что большенство пользуется интернетом."
      ]
    },
    {
      "cell_type": "markdown",
      "metadata": {
        "id": "x1F76NyVVf1_"
      },
      "source": [
        "**Вывод**\n",
        "\n",
        "Исходя из сводной таблицы разбитой помесяцам можно увидеть рост всех значений по месяцам. Косвенно можно предположить что количество пользователей растет.\n",
        "\n",
        "Тариф smart характерен более высокая плотность в пиковых значениях\n",
        "Тариф ultra более широкий, что доказывает дисперсия для всех значений.\n",
        "\n",
        "Можно заметить ярковыраженные нулевые значения на гистограммах сообщений и звонков. Такие показатели говорят о том что для звонков и сообщений может быть использован интернет,который,исходя из гистограммы, характерен минимальными нулевыми значениями."
      ]
    },
    {
      "cell_type": "markdown",
      "metadata": {
        "id": "ntyWUFLFx14M"
      },
      "source": [
        "**ПРОВЕРКА ГИПОТЕЗ**\n",
        "\n",
        "**Cредняя выручка пользователей тарифов «Ультра» и «Смарт» различаются**"
      ]
    },
    {
      "cell_type": "markdown",
      "metadata": {
        "id": "4MPlZCsL9py5"
      },
      "source": [
        "Нулевая гипотеза: Средняя выручка для двух тарифов одинакова.\n",
        "\n",
        "Альтернативная гипотеза: Средняя выучка для двух тарифов разная."
      ]
    },
    {
      "cell_type": "markdown",
      "metadata": {
        "id": "vFIYHbO70QLj"
      },
      "source": [
        "Для проверки гипотез нам нужны данные по каждому тарифу."
      ]
    },
    {
      "cell_type": "code",
      "execution_count": null,
      "metadata": {
        "colab": {
          "base_uri": "https://localhost:8080/"
        },
        "id": "hIufTF-89soe",
        "outputId": "f65c62cb-03f4-4bc5-f9bf-1a8af95a6c00"
      },
      "outputs": [
        {
          "data": {
            "text/plain": [
              "<PandasArray>\n",
              "[1950, 1950, 1950, 1950, 1950, 1950, 1950, 1950, 1950, 1950,\n",
              " ...\n",
              " 1950, 1950, 1950, 3750, 1950, 2400, 1950, 3300, 1950, 1950]\n",
              "Length: 986, dtype: int64"
            ]
          },
          "execution_count": 44,
          "metadata": {},
          "output_type": "execute_result"
        }
      ],
      "source": [
        "ultra_income = ((df_combine.query('tariff == \"ultra\"')[\"month_income\"]).astype(int)).array    #создание массива доходов по тарифу\n",
        "ultra_income"
      ]
    },
    {
      "cell_type": "code",
      "execution_count": null,
      "metadata": {
        "colab": {
          "base_uri": "https://localhost:8080/"
        },
        "id": "wCaBGRYv2_MY",
        "outputId": "1d057c71-96a6-40a9-927c-18d699c6de53"
      },
      "outputs": [
        {
          "data": {
            "text/plain": [
              "<PandasArray>\n",
              "[1350,  550,  550, 1150, 1550,  950,  550, 1350, 1150,  550,\n",
              " ...\n",
              " 1685,  550, 2386, 1950, 1750,  550, 1150, 1513,  598,  550]\n",
              "Length: 2230, dtype: int64"
            ]
          },
          "execution_count": 45,
          "metadata": {},
          "output_type": "execute_result"
        }
      ],
      "source": [
        "smart_income = ((df_combine.query('tariff == \"smart\"')[\"month_income\"]).astype(int)).array    #создание массива доходов по тарифу\n",
        "smart_income"
      ]
    },
    {
      "cell_type": "markdown",
      "metadata": {
        "id": "pdkcaCgo5aaX"
      },
      "source": [
        "Списки созданы. \n",
        "При выводе списков на экран можно заметить разную длинну выборок.\n",
        "В методе st.ttest_ind() аргумент equal variance будет равен False для того чтобы дисперсия считалась отдельно для двух выборок.\n",
        "\n",
        "Значение alpha выставим на 5%.\n",
        "\n",
        "Приступим к проверке гипотез. \n",
        "Применим метод scipy.stats.ttest_ind() и сохраним в переменную."
      ]
    },
    {
      "cell_type": "code",
      "execution_count": null,
      "metadata": {
        "id": "eX8HYMnz47st"
      },
      "outputs": [],
      "source": [
        "alpha = .05                                                                     #уровень значимости\n",
        "\n",
        "result  = st.ttest_ind(ultra_income,smart_income,equal_var = False)             #посчет значимости"
      ]
    },
    {
      "cell_type": "markdown",
      "metadata": {
        "id": "3JwS50ev_xHN"
      },
      "source": [
        "Сравним значение alpha c pvalue для определения результата."
      ]
    },
    {
      "cell_type": "code",
      "execution_count": null,
      "metadata": {
        "colab": {
          "base_uri": "https://localhost:8080/"
        },
        "id": "zxDj12hD_sZL",
        "outputId": "06548f5a-3435-405e-e092-fc4248420911"
      },
      "outputs": [
        {
          "name": "stdout",
          "output_type": "stream",
          "text": [
            "1.2414049931248708e-246\n"
          ]
        },
        {
          "data": {
            "text/plain": [
              "True"
            ]
          },
          "execution_count": 47,
          "metadata": {},
          "output_type": "execute_result"
        }
      ],
      "source": [
        "print(result.pvalue)                                                            #результат сравнения выборок \n",
        "result.pvalue < alpha"
      ]
    },
    {
      "cell_type": "markdown",
      "metadata": {
        "id": "2GQlecu4FH7I"
      },
      "source": [
        "P-value  показывает крайне маленькое значение, это говорит о высокой разнице между выборками. Примем альтернативную гипотезу."
      ]
    },
    {
      "cell_type": "markdown",
      "metadata": {
        "id": "NMSD5nR1F6gO"
      },
      "source": [
        "**Средняя выручка пользователей из Москвы отличается от выручки пользователей из других регионов.**\n",
        "\n",
        "Нулевая гипотеза: выручка пользователей из москвы одинакова с выручкой пользователей из других регионов.\n",
        "\n",
        "Альтернативная гипотеза: выручка пользователей из Москвы и других регионов отличаются."
      ]
    },
    {
      "cell_type": "markdown",
      "metadata": {
        "id": "uXp7wF-6HPIy"
      },
      "source": [
        "Приступим к проверке гипотез.\n",
        "Разобьём выборки по городам и применим метод scipy.stats.ttest_ind(). Сохраним результат в переменную."
      ]
    },
    {
      "cell_type": "code",
      "execution_count": null,
      "metadata": {
        "id": "0H9XUJrJAysN"
      },
      "outputs": [],
      "source": [
        "result = st.ttest_ind(df_combine.query('city == \"Москва\"')[\"month_income\"],\n",
        "                      df_combine.query('city != \"Москва\"')[\"month_income\"])    #подсчёт значимости"
      ]
    },
    {
      "cell_type": "markdown",
      "metadata": {
        "id": "OYN1od_2IahQ"
      },
      "source": [
        "Выставим уровень статистической значимости на 0.05 и сравним показатели."
      ]
    },
    {
      "cell_type": "code",
      "execution_count": null,
      "metadata": {
        "colab": {
          "base_uri": "https://localhost:8080/"
        },
        "id": "_5bJTZIaIToP",
        "outputId": "888046e2-8334-4f57-eb4e-815000dd39e3"
      },
      "outputs": [
        {
          "name": "stdout",
          "output_type": "stream",
          "text": [
            "0.5277299573181309\n"
          ]
        },
        {
          "data": {
            "text/plain": [
              "False"
            ]
          },
          "execution_count": 49,
          "metadata": {},
          "output_type": "execute_result"
        }
      ],
      "source": [
        "alpha = .05                                                                     #уровень значимости\n",
        "\n",
        "print(result.pvalue)                                                            #результат сравнения выборок\n",
        "result.pvalue < alpha"
      ]
    },
    {
      "cell_type": "markdown",
      "metadata": {
        "id": "OXRwos4RJ18i"
      },
      "source": [
        "Вероятность 52% что средняя выручка в Москве и регионах одинакова. P-value показывает значение 0.52  что говорит что разница между выборками статистически не значима. Отвергнуть нулевую гипотезу не удалось."
      ]
    },
    {
      "cell_type": "code",
      "execution_count": null,
      "metadata": {
        "id": "JlEZalx7OO0l",
        "outputId": "c9682eb3-d219-4ede-df48-cc016c9bf608"
      },
      "outputs": [
        {
          "name": "stdout",
          "output_type": "stream",
          "text": [
            "p-значение: 0.1912450522572209\n",
            "Не получилось отвергнуть нулевую гипотезу\n"
          ]
        }
      ],
      "source": [
        "# Приведены два датасета: сумма покупок, совершённых за месяц посетителями ...\n",
        "\n",
        "sample_1 = [3071, 3636, 3454, 3151, 2185, 3259, 1727, 2263, 2015,\n",
        "2582, 4815, 633, 3186, 887, 2028, 3589, 2564, 1422, 1785,\n",
        "3180, 1770, 2716, 2546, 1848, 4644, 3134, 475, 2686,\n",
        "1838, 3352]\n",
        "sample_2 = [1211, 1228, 2157, 3699, 600, 1898, 1688, 1420, 5048, 3007,\n",
        "509, 3777, 5583, 3949, 121, 1674, 4300, 1338, 3066,\n",
        "3562, 1010, 2311, 462, 863, 2021, 528, 1849, 255,\n",
        "1740, 2596]\n",
        "alpha = .05 # критический уровень статистической значимости\n",
        "# если p-value окажется меньше него - отвергнем гипотезу\n",
        "results = st.ttest_ind(\n",
        "sample_1,\n",
        "sample_2)\n",
        "print('p-значение:', results.pvalue)\n",
        "if (results.pvalue < alpha):\n",
        "    print(\"Отвергаем нулевую гипотезу\")\n",
        "else:\n",
        "    print(\"Не получилось отвергнуть нулевую гипотезу\")"
      ]
    },
    {
      "cell_type": "markdown",
      "metadata": {
        "id": "B3huRugxKHEq"
      },
      "source": [
        "**Вывод**\n",
        "\n",
        "Одна из двух гипотез была подтверждена. \n",
        "\n",
        "Сдедний доход по каждому тарифу действительно разные, что доказывает значение pvalue. \n",
        "Во второй гипотезе видно что значимая вероятность не переходит границу статистической значимости, следовательно гипотеза о разной величине дохода между Москвой и регионами отвергнута. Если увеличить уровень alpha то гипотеза могла быть подтверждена."
      ]
    },
    {
      "cell_type": "markdown",
      "metadata": {
        "id": "2vSvfKIhNQ5o"
      },
      "source": [
        "**Общие выводы**\n",
        "\n",
        "При работе с таблицами был выявлен неправельный формат записи значений дат во всех таблицах. Такие значения могли быть неправилно записаны изначально либо появиться в ходе копирования из другой таблицы. Также некоторые значения были переведены в другой формат по причине необходимости этого,для дальнейшей работы с данными.\n",
        "\n",
        "Все имеющиеся таблицы были объединены в одну для удобства работы по исследованию данных и подтверждения гипотез.\n",
        "\n",
        "Анализ данных показал что в течении 2018 года количество пользователей обоих тарифов росло. Также пользователи в основном пользуются мобильной связью и активно используют интернет. Передача сообщений имеет место быть, но в основном показатели не такие высокие.\n",
        "\n",
        "Выведем спредние показатели по сообшениям, звонкам и трафику по каждому тарифу."
      ]
    },
    {
      "cell_type": "code",
      "execution_count": null,
      "metadata": {
        "scrolled": true,
        "id": "KCiwbnaqOO0m",
        "outputId": "ea8e3734-f73e-4ca3-c8f4-42c4fbd70346"
      },
      "outputs": [
        {
          "data": {
            "text/html": [
              "<div>\n",
              "<style scoped>\n",
              "    .dataframe tbody tr th:only-of-type {\n",
              "        vertical-align: middle;\n",
              "    }\n",
              "\n",
              "    .dataframe tbody tr th {\n",
              "        vertical-align: top;\n",
              "    }\n",
              "\n",
              "    .dataframe thead th {\n",
              "        text-align: right;\n",
              "    }\n",
              "</style>\n",
              "<table border=\"1\" class=\"dataframe\">\n",
              "  <thead>\n",
              "    <tr style=\"text-align: right;\">\n",
              "      <th></th>\n",
              "      <th>mb_used</th>\n",
              "      <th>sum_calls</th>\n",
              "      <th>sum_msg</th>\n",
              "    </tr>\n",
              "    <tr>\n",
              "      <th>tariff</th>\n",
              "      <th></th>\n",
              "      <th></th>\n",
              "      <th></th>\n",
              "    </tr>\n",
              "  </thead>\n",
              "  <tbody>\n",
              "    <tr>\n",
              "      <th>smart</th>\n",
              "      <td>16229.188425</td>\n",
              "      <td>417.934948</td>\n",
              "      <td>33.384029</td>\n",
              "    </tr>\n",
              "    <tr>\n",
              "      <th>ultra</th>\n",
              "      <td>19486.901523</td>\n",
              "      <td>526.623350</td>\n",
              "      <td>49.363452</td>\n",
              "    </tr>\n",
              "  </tbody>\n",
              "</table>\n",
              "</div>"
            ],
            "text/plain": [
              "             mb_used   sum_calls    sum_msg\n",
              "tariff                                     \n",
              "smart   16229.188425  417.934948  33.384029\n",
              "ultra   19486.901523  526.623350  49.363452"
            ]
          },
          "execution_count": 51,
          "metadata": {},
          "output_type": "execute_result"
        }
      ],
      "source": [
        "df_combine.pivot_table(index = \"tariff\", values = [\"sum_calls\",\"sum_msg\",\"mb_used\"], aggfunc = \"mean\")"
      ]
    },
    {
      "cell_type": "markdown",
      "metadata": {
        "id": "2DP9KSj0OO0m"
      },
      "source": [
        "Видим что средние показатели по всем трём видам передачи информации выше у тарифа ultra."
      ]
    },
    {
      "cell_type": "markdown",
      "metadata": {
        "id": "XImeCULBOO0m"
      },
      "source": [
        "Произведем сравнение по городам. Сравним теже показатели по Москве и по регионам."
      ]
    },
    {
      "cell_type": "code",
      "execution_count": null,
      "metadata": {
        "scrolled": true,
        "id": "eD0Hey3sOO0n",
        "outputId": "625ef4b2-fbc5-42d7-bab6-f2635a69a501"
      },
      "outputs": [
        {
          "name": "stdout",
          "output_type": "stream",
          "text": [
            "Москва\n"
          ]
        },
        {
          "data": {
            "text/html": [
              "<div>\n",
              "<style scoped>\n",
              "    .dataframe tbody tr th:only-of-type {\n",
              "        vertical-align: middle;\n",
              "    }\n",
              "\n",
              "    .dataframe tbody tr th {\n",
              "        vertical-align: top;\n",
              "    }\n",
              "\n",
              "    .dataframe thead th {\n",
              "        text-align: right;\n",
              "    }\n",
              "</style>\n",
              "<table border=\"1\" class=\"dataframe\">\n",
              "  <thead>\n",
              "    <tr style=\"text-align: right;\">\n",
              "      <th></th>\n",
              "      <th>mb_used</th>\n",
              "      <th>sum_calls</th>\n",
              "      <th>sum_msg</th>\n",
              "    </tr>\n",
              "    <tr>\n",
              "      <th>tariff</th>\n",
              "      <th></th>\n",
              "      <th></th>\n",
              "      <th></th>\n",
              "    </tr>\n",
              "  </thead>\n",
              "  <tbody>\n",
              "    <tr>\n",
              "      <th>smart</th>\n",
              "      <td>16038.512953</td>\n",
              "      <td>417.481865</td>\n",
              "      <td>27.772021</td>\n",
              "    </tr>\n",
              "    <tr>\n",
              "      <th>ultra</th>\n",
              "      <td>21321.777778</td>\n",
              "      <td>557.791111</td>\n",
              "      <td>55.213333</td>\n",
              "    </tr>\n",
              "  </tbody>\n",
              "</table>\n",
              "</div>"
            ],
            "text/plain": [
              "             mb_used   sum_calls    sum_msg\n",
              "tariff                                     \n",
              "smart   16038.512953  417.481865  27.772021\n",
              "ultra   21321.777778  557.791111  55.213333"
            ]
          },
          "execution_count": 52,
          "metadata": {},
          "output_type": "execute_result"
        }
      ],
      "source": [
        "print(\"Москва\")\n",
        "df_combine.query('city == \"Москва\"').pivot_table(index = \"tariff\", values = [\"sum_calls\",\"sum_msg\",\"mb_used\"], aggfunc = \"mean\")"
      ]
    },
    {
      "cell_type": "code",
      "execution_count": null,
      "metadata": {
        "scrolled": true,
        "id": "09rNa2xpOO0n",
        "outputId": "dad48235-6fc7-4585-9f26-6cc83869e0fb"
      },
      "outputs": [
        {
          "name": "stdout",
          "output_type": "stream",
          "text": [
            "Регионы\n"
          ]
        },
        {
          "data": {
            "text/html": [
              "<div>\n",
              "<style scoped>\n",
              "    .dataframe tbody tr th:only-of-type {\n",
              "        vertical-align: middle;\n",
              "    }\n",
              "\n",
              "    .dataframe tbody tr th {\n",
              "        vertical-align: top;\n",
              "    }\n",
              "\n",
              "    .dataframe thead th {\n",
              "        text-align: right;\n",
              "    }\n",
              "</style>\n",
              "<table border=\"1\" class=\"dataframe\">\n",
              "  <thead>\n",
              "    <tr style=\"text-align: right;\">\n",
              "      <th></th>\n",
              "      <th>mb_used</th>\n",
              "      <th>sum_calls</th>\n",
              "      <th>sum_msg</th>\n",
              "    </tr>\n",
              "    <tr>\n",
              "      <th>tariff</th>\n",
              "      <th></th>\n",
              "      <th></th>\n",
              "      <th></th>\n",
              "    </tr>\n",
              "  </thead>\n",
              "  <tbody>\n",
              "    <tr>\n",
              "      <th>smart</th>\n",
              "      <td>16269.123711</td>\n",
              "      <td>418.029843</td>\n",
              "      <td>34.559414</td>\n",
              "    </tr>\n",
              "    <tr>\n",
              "      <th>ultra</th>\n",
              "      <td>18943.681579</td>\n",
              "      <td>517.396053</td>\n",
              "      <td>47.631579</td>\n",
              "    </tr>\n",
              "  </tbody>\n",
              "</table>\n",
              "</div>"
            ],
            "text/plain": [
              "             mb_used   sum_calls    sum_msg\n",
              "tariff                                     \n",
              "smart   16269.123711  418.029843  34.559414\n",
              "ultra   18943.681579  517.396053  47.631579"
            ]
          },
          "execution_count": 53,
          "metadata": {},
          "output_type": "execute_result"
        }
      ],
      "source": [
        "print(\"Регионы\")\n",
        "df_combine.query('city != \"Москва\"').pivot_table(index = \"tariff\", values = [\"sum_calls\",\"sum_msg\",\"mb_used\"], aggfunc = \"mean\")"
      ]
    },
    {
      "cell_type": "markdown",
      "metadata": {
        "id": "d2ZxoU8iOO0n"
      },
      "source": [
        "Показатели по тарифам для Москвы и регионов одинаково больше в тарифе ultra."
      ]
    },
    {
      "cell_type": "markdown",
      "metadata": {
        "id": "WJCbhZYkOO0n"
      },
      "source": [
        "Произведём сравнение годовой выручки по тарфам.\n",
        "\n",
        "Оценим доход от тарифов в процентах."
      ]
    },
    {
      "cell_type": "code",
      "execution_count": null,
      "metadata": {
        "scrolled": true,
        "id": "v-FoQ5RZOO0n",
        "outputId": "eb3e594e-8f33-4cc3-cd12-62d4d82e6c0b"
      },
      "outputs": [
        {
          "name": "stdout",
          "output_type": "stream",
          "text": [
            "Доход от тарифа ultra: 41.43%\n",
            "Доход от тарифа smart: 58.57%\n"
          ]
        }
      ],
      "source": [
        "print(\"Доход от тарифа ultra: {:.2f}%\".format((df_combine.query('tariff == \"ultra\"')[\"month_income\"].sum()/df_combine.month_income.sum())*100))\n",
        "print(\"Доход от тарифа smart: {:.2f}%\".format((df_combine.query('tariff == \"smart\"')[\"month_income\"].sum()/df_combine.month_income.sum())*100))"
      ]
    },
    {
      "cell_type": "markdown",
      "metadata": {
        "id": "oGz8RzYVOO0n"
      },
      "source": [
        "Показатели использования связи выше у тарифа ultra а большей доход на 17% приносит тариф smart."
      ]
    },
    {
      "cell_type": "markdown",
      "metadata": {
        "id": "5SCzc4CoOO0n"
      },
      "source": [
        "Проверка гипотез показала сильное различие по среднему доходу между тарифами и отсутствие различия между доходом с пользователей из Москвы и других регионов.\n"
      ]
    },
    {
      "cell_type": "code",
      "execution_count": null,
      "metadata": {
        "id": "6RB5NYzGOO0r"
      },
      "outputs": [],
      "source": [
        ""
      ]
    }
  ],
  "metadata": {
    "ExecuteTimeLog": [
      {
        "duration": 122,
        "start_time": "2022-03-25T20:00:34.624Z"
      },
      {
        "duration": 69,
        "start_time": "2022-03-25T20:03:50.713Z"
      },
      {
        "duration": 13,
        "start_time": "2022-03-25T20:08:06.008Z"
      },
      {
        "duration": 131,
        "start_time": "2022-03-25T20:11:15.022Z"
      },
      {
        "duration": 99,
        "start_time": "2022-03-25T20:16:54.419Z"
      },
      {
        "duration": 1133,
        "start_time": "2022-03-25T20:18:13.025Z"
      },
      {
        "duration": 1997,
        "start_time": "2022-03-25T20:18:14.161Z"
      },
      {
        "duration": 23,
        "start_time": "2022-03-25T20:18:16.160Z"
      },
      {
        "duration": 35,
        "start_time": "2022-03-25T20:18:16.186Z"
      },
      {
        "duration": 12,
        "start_time": "2022-03-25T20:18:16.223Z"
      },
      {
        "duration": 36,
        "start_time": "2022-03-25T20:18:16.238Z"
      },
      {
        "duration": 13,
        "start_time": "2022-03-25T20:18:16.284Z"
      },
      {
        "duration": 44,
        "start_time": "2022-03-25T20:18:16.300Z"
      },
      {
        "duration": 15,
        "start_time": "2022-03-25T20:18:16.346Z"
      },
      {
        "duration": 25,
        "start_time": "2022-03-25T20:18:16.366Z"
      },
      {
        "duration": 23,
        "start_time": "2022-03-25T20:18:16.394Z"
      },
      {
        "duration": 70,
        "start_time": "2022-03-25T20:18:16.420Z"
      },
      {
        "duration": 26,
        "start_time": "2022-03-25T20:18:16.493Z"
      },
      {
        "duration": 130,
        "start_time": "2022-03-25T20:18:16.521Z"
      },
      {
        "duration": 156,
        "start_time": "2022-03-25T20:18:16.654Z"
      },
      {
        "duration": 11,
        "start_time": "2022-03-25T20:18:16.813Z"
      },
      {
        "duration": 98,
        "start_time": "2022-03-25T20:18:16.826Z"
      },
      {
        "duration": 102,
        "start_time": "2022-03-25T20:18:16.927Z"
      },
      {
        "duration": 74,
        "start_time": "2022-03-25T20:18:17.032Z"
      },
      {
        "duration": 58,
        "start_time": "2022-03-25T20:18:17.109Z"
      },
      {
        "duration": 32,
        "start_time": "2022-03-25T20:18:17.169Z"
      },
      {
        "duration": 11,
        "start_time": "2022-03-25T20:18:17.203Z"
      },
      {
        "duration": 61,
        "start_time": "2022-03-25T20:18:17.217Z"
      },
      {
        "duration": 34,
        "start_time": "2022-03-25T20:18:17.281Z"
      },
      {
        "duration": 14,
        "start_time": "2022-03-25T20:18:17.317Z"
      },
      {
        "duration": 7,
        "start_time": "2022-03-25T20:18:17.333Z"
      },
      {
        "duration": 4735,
        "start_time": "2022-03-25T20:18:17.343Z"
      },
      {
        "duration": 37,
        "start_time": "2022-03-25T20:18:22.083Z"
      },
      {
        "duration": 18,
        "start_time": "2022-03-25T20:18:22.122Z"
      },
      {
        "duration": 72,
        "start_time": "2022-03-25T20:18:22.142Z"
      },
      {
        "duration": 37,
        "start_time": "2022-03-25T20:18:22.216Z"
      },
      {
        "duration": 1465,
        "start_time": "2022-03-25T20:18:22.256Z"
      },
      {
        "duration": 60,
        "start_time": "2022-03-25T20:18:23.724Z"
      },
      {
        "duration": 663,
        "start_time": "2022-03-25T20:18:23.787Z"
      },
      {
        "duration": 53,
        "start_time": "2022-03-25T20:18:24.453Z"
      },
      {
        "duration": 977,
        "start_time": "2022-03-25T20:18:24.509Z"
      },
      {
        "duration": 16,
        "start_time": "2022-03-25T20:18:25.488Z"
      },
      {
        "duration": 13,
        "start_time": "2022-03-25T20:18:25.506Z"
      },
      {
        "duration": 5,
        "start_time": "2022-03-25T20:18:25.521Z"
      },
      {
        "duration": 11,
        "start_time": "2022-03-25T20:18:25.528Z"
      },
      {
        "duration": 71,
        "start_time": "2022-03-25T20:18:25.541Z"
      },
      {
        "duration": 8,
        "start_time": "2022-03-25T20:18:25.615Z"
      },
      {
        "duration": 8,
        "start_time": "2022-03-25T20:18:55.442Z"
      },
      {
        "duration": 1002,
        "start_time": "2022-03-25T20:37:40.020Z"
      },
      {
        "duration": 514,
        "start_time": "2022-03-25T20:37:41.025Z"
      },
      {
        "duration": 24,
        "start_time": "2022-03-25T20:37:41.541Z"
      },
      {
        "duration": 37,
        "start_time": "2022-03-25T20:37:41.567Z"
      },
      {
        "duration": 13,
        "start_time": "2022-03-25T20:37:41.607Z"
      },
      {
        "duration": 45,
        "start_time": "2022-03-25T20:37:41.622Z"
      },
      {
        "duration": 19,
        "start_time": "2022-03-25T20:37:41.669Z"
      },
      {
        "duration": 29,
        "start_time": "2022-03-25T20:37:41.691Z"
      },
      {
        "duration": 19,
        "start_time": "2022-03-25T20:37:41.724Z"
      },
      {
        "duration": 25,
        "start_time": "2022-03-25T20:37:41.746Z"
      },
      {
        "duration": 22,
        "start_time": "2022-03-25T20:37:41.784Z"
      },
      {
        "duration": 43,
        "start_time": "2022-03-25T20:37:41.809Z"
      },
      {
        "duration": 39,
        "start_time": "2022-03-25T20:37:41.854Z"
      },
      {
        "duration": 130,
        "start_time": "2022-03-25T20:37:41.899Z"
      },
      {
        "duration": 90,
        "start_time": "2022-03-25T20:37:42.032Z"
      },
      {
        "duration": 8,
        "start_time": "2022-03-25T20:37:42.124Z"
      },
      {
        "duration": 61,
        "start_time": "2022-03-25T20:37:42.134Z"
      },
      {
        "duration": 99,
        "start_time": "2022-03-25T20:37:42.198Z"
      },
      {
        "duration": 62,
        "start_time": "2022-03-25T20:37:42.300Z"
      },
      {
        "duration": 75,
        "start_time": "2022-03-25T20:37:42.365Z"
      },
      {
        "duration": 46,
        "start_time": "2022-03-25T20:37:42.443Z"
      },
      {
        "duration": 11,
        "start_time": "2022-03-25T20:37:42.491Z"
      },
      {
        "duration": 65,
        "start_time": "2022-03-25T20:37:42.505Z"
      },
      {
        "duration": 30,
        "start_time": "2022-03-25T20:37:42.572Z"
      },
      {
        "duration": 12,
        "start_time": "2022-03-25T20:37:42.604Z"
      },
      {
        "duration": 19,
        "start_time": "2022-03-25T20:37:42.618Z"
      },
      {
        "duration": 3821,
        "start_time": "2022-03-25T20:37:42.639Z"
      },
      {
        "duration": 6,
        "start_time": "2022-03-25T20:37:46.462Z"
      },
      {
        "duration": 34,
        "start_time": "2022-03-25T20:37:46.483Z"
      },
      {
        "duration": 16,
        "start_time": "2022-03-25T20:37:46.519Z"
      },
      {
        "duration": 55,
        "start_time": "2022-03-25T20:37:46.537Z"
      },
      {
        "duration": 40,
        "start_time": "2022-03-25T20:37:46.594Z"
      },
      {
        "duration": 1309,
        "start_time": "2022-03-25T20:37:46.636Z"
      },
      {
        "duration": 57,
        "start_time": "2022-03-25T20:37:47.948Z"
      },
      {
        "duration": 645,
        "start_time": "2022-03-25T20:37:48.008Z"
      },
      {
        "duration": 50,
        "start_time": "2022-03-25T20:37:48.656Z"
      },
      {
        "duration": 902,
        "start_time": "2022-03-25T20:37:48.709Z"
      },
      {
        "duration": 12,
        "start_time": "2022-03-25T20:37:49.614Z"
      },
      {
        "duration": 18,
        "start_time": "2022-03-25T20:37:49.628Z"
      },
      {
        "duration": 7,
        "start_time": "2022-03-25T20:37:49.648Z"
      },
      {
        "duration": 6,
        "start_time": "2022-03-25T20:37:49.686Z"
      },
      {
        "duration": 15,
        "start_time": "2022-03-25T20:37:49.695Z"
      },
      {
        "duration": 12,
        "start_time": "2022-03-25T20:37:49.712Z"
      },
      {
        "duration": 7,
        "start_time": "2022-03-25T20:38:37.146Z"
      },
      {
        "duration": 6,
        "start_time": "2022-03-25T20:38:40.219Z"
      },
      {
        "duration": 770,
        "start_time": "2022-03-25T20:38:41.425Z"
      },
      {
        "duration": 7,
        "start_time": "2022-03-25T20:38:42.226Z"
      },
      {
        "duration": 1001,
        "start_time": "2022-03-25T20:38:58.819Z"
      },
      {
        "duration": 516,
        "start_time": "2022-03-25T20:38:59.822Z"
      },
      {
        "duration": 23,
        "start_time": "2022-03-25T20:39:00.340Z"
      },
      {
        "duration": 47,
        "start_time": "2022-03-25T20:39:00.366Z"
      },
      {
        "duration": 12,
        "start_time": "2022-03-25T20:39:00.417Z"
      },
      {
        "duration": 37,
        "start_time": "2022-03-25T20:39:00.431Z"
      },
      {
        "duration": 16,
        "start_time": "2022-03-25T20:39:00.470Z"
      },
      {
        "duration": 32,
        "start_time": "2022-03-25T20:39:00.488Z"
      },
      {
        "duration": 18,
        "start_time": "2022-03-25T20:39:00.522Z"
      },
      {
        "duration": 42,
        "start_time": "2022-03-25T20:39:00.542Z"
      },
      {
        "duration": 14,
        "start_time": "2022-03-25T20:39:00.586Z"
      },
      {
        "duration": 26,
        "start_time": "2022-03-25T20:39:00.603Z"
      },
      {
        "duration": 32,
        "start_time": "2022-03-25T20:39:00.631Z"
      },
      {
        "duration": 136,
        "start_time": "2022-03-25T20:39:00.668Z"
      },
      {
        "duration": 87,
        "start_time": "2022-03-25T20:39:00.806Z"
      },
      {
        "duration": 9,
        "start_time": "2022-03-25T20:39:00.895Z"
      },
      {
        "duration": 80,
        "start_time": "2022-03-25T20:39:00.906Z"
      },
      {
        "duration": 88,
        "start_time": "2022-03-25T20:39:00.988Z"
      },
      {
        "duration": 58,
        "start_time": "2022-03-25T20:39:01.083Z"
      },
      {
        "duration": 79,
        "start_time": "2022-03-25T20:39:01.143Z"
      },
      {
        "duration": 27,
        "start_time": "2022-03-25T20:39:01.224Z"
      },
      {
        "duration": 35,
        "start_time": "2022-03-25T20:39:01.255Z"
      },
      {
        "duration": 40,
        "start_time": "2022-03-25T20:39:01.292Z"
      },
      {
        "duration": 28,
        "start_time": "2022-03-25T20:39:01.335Z"
      },
      {
        "duration": 29,
        "start_time": "2022-03-25T20:39:01.366Z"
      },
      {
        "duration": 16,
        "start_time": "2022-03-25T20:39:01.397Z"
      },
      {
        "duration": 3917,
        "start_time": "2022-03-25T20:39:01.415Z"
      },
      {
        "duration": 7,
        "start_time": "2022-03-25T20:39:05.334Z"
      },
      {
        "duration": 47,
        "start_time": "2022-03-25T20:39:05.343Z"
      },
      {
        "duration": 16,
        "start_time": "2022-03-25T20:39:05.393Z"
      },
      {
        "duration": 28,
        "start_time": "2022-03-25T20:39:05.411Z"
      },
      {
        "duration": 68,
        "start_time": "2022-03-25T20:39:05.441Z"
      },
      {
        "duration": 1367,
        "start_time": "2022-03-25T20:39:05.511Z"
      },
      {
        "duration": 40,
        "start_time": "2022-03-25T20:39:06.885Z"
      },
      {
        "duration": 675,
        "start_time": "2022-03-25T20:39:06.928Z"
      },
      {
        "duration": 42,
        "start_time": "2022-03-25T20:39:07.605Z"
      },
      {
        "duration": 951,
        "start_time": "2022-03-25T20:39:07.649Z"
      },
      {
        "duration": 15,
        "start_time": "2022-03-25T20:39:08.602Z"
      },
      {
        "duration": 37,
        "start_time": "2022-03-25T20:39:08.620Z"
      },
      {
        "duration": 22,
        "start_time": "2022-03-25T20:39:08.660Z"
      },
      {
        "duration": 26,
        "start_time": "2022-03-25T20:39:08.689Z"
      },
      {
        "duration": 22,
        "start_time": "2022-03-25T20:39:08.718Z"
      },
      {
        "duration": 21,
        "start_time": "2022-03-25T20:39:08.743Z"
      },
      {
        "duration": 109,
        "start_time": "2022-03-25T20:41:40.369Z"
      },
      {
        "duration": 99,
        "start_time": "2022-03-25T20:45:31.913Z"
      },
      {
        "duration": 5,
        "start_time": "2022-03-25T20:48:03.520Z"
      },
      {
        "duration": 409,
        "start_time": "2022-03-25T20:48:26.825Z"
      },
      {
        "duration": 363,
        "start_time": "2022-03-25T20:48:29.345Z"
      },
      {
        "duration": 91,
        "start_time": "2022-03-25T20:48:48.184Z"
      },
      {
        "duration": 301,
        "start_time": "2022-03-25T20:48:50.714Z"
      },
      {
        "duration": 272,
        "start_time": "2022-03-25T20:49:15.282Z"
      },
      {
        "duration": 273,
        "start_time": "2022-03-25T20:49:18.859Z"
      },
      {
        "duration": 295,
        "start_time": "2022-03-25T20:49:26.258Z"
      },
      {
        "duration": 293,
        "start_time": "2022-03-25T20:49:43.803Z"
      },
      {
        "duration": 366,
        "start_time": "2022-03-25T20:50:06.971Z"
      },
      {
        "duration": 3,
        "start_time": "2022-03-25T20:50:24.805Z"
      },
      {
        "duration": 279,
        "start_time": "2022-03-25T20:50:27.044Z"
      },
      {
        "duration": 293,
        "start_time": "2022-03-25T20:50:46.084Z"
      },
      {
        "duration": 303,
        "start_time": "2022-03-25T20:51:01.422Z"
      },
      {
        "duration": 15,
        "start_time": "2022-03-25T20:51:18.535Z"
      },
      {
        "duration": 361,
        "start_time": "2022-03-25T20:51:46.207Z"
      },
      {
        "duration": 267,
        "start_time": "2022-03-25T20:51:49.335Z"
      },
      {
        "duration": 1962,
        "start_time": "2022-03-25T20:53:42.252Z"
      },
      {
        "duration": 122,
        "start_time": "2022-03-25T20:53:50.435Z"
      },
      {
        "duration": 1583,
        "start_time": "2022-03-25T20:54:09.349Z"
      },
      {
        "duration": 134,
        "start_time": "2022-03-25T20:54:38.821Z"
      },
      {
        "duration": 1114,
        "start_time": "2022-03-25T20:58:54.554Z"
      },
      {
        "duration": 519,
        "start_time": "2022-03-25T20:58:55.671Z"
      },
      {
        "duration": 24,
        "start_time": "2022-03-25T20:58:56.193Z"
      },
      {
        "duration": 33,
        "start_time": "2022-03-25T20:58:56.220Z"
      },
      {
        "duration": 13,
        "start_time": "2022-03-25T20:58:56.284Z"
      },
      {
        "duration": 33,
        "start_time": "2022-03-25T20:58:56.299Z"
      },
      {
        "duration": 12,
        "start_time": "2022-03-25T20:58:56.334Z"
      },
      {
        "duration": 25,
        "start_time": "2022-03-25T20:58:56.384Z"
      },
      {
        "duration": 14,
        "start_time": "2022-03-25T20:58:56.411Z"
      },
      {
        "duration": 19,
        "start_time": "2022-03-25T20:58:56.428Z"
      },
      {
        "duration": 49,
        "start_time": "2022-03-25T20:58:56.450Z"
      },
      {
        "duration": 19,
        "start_time": "2022-03-25T20:58:56.502Z"
      },
      {
        "duration": 22,
        "start_time": "2022-03-25T20:58:56.524Z"
      },
      {
        "duration": 125,
        "start_time": "2022-03-25T20:58:56.586Z"
      },
      {
        "duration": 88,
        "start_time": "2022-03-25T20:58:56.714Z"
      },
      {
        "duration": 9,
        "start_time": "2022-03-25T20:58:56.805Z"
      },
      {
        "duration": 47,
        "start_time": "2022-03-25T20:58:56.816Z"
      },
      {
        "duration": 99,
        "start_time": "2022-03-25T20:58:56.885Z"
      },
      {
        "duration": 59,
        "start_time": "2022-03-25T20:58:56.987Z"
      },
      {
        "duration": 79,
        "start_time": "2022-03-25T20:58:57.048Z"
      },
      {
        "duration": 27,
        "start_time": "2022-03-25T20:58:57.130Z"
      },
      {
        "duration": 35,
        "start_time": "2022-03-25T20:58:57.159Z"
      },
      {
        "duration": 67,
        "start_time": "2022-03-25T20:58:57.197Z"
      },
      {
        "duration": 51,
        "start_time": "2022-03-25T20:58:57.267Z"
      },
      {
        "duration": 15,
        "start_time": "2022-03-25T20:58:57.321Z"
      },
      {
        "duration": 8,
        "start_time": "2022-03-25T20:58:57.339Z"
      },
      {
        "duration": 3845,
        "start_time": "2022-03-25T20:58:57.349Z"
      },
      {
        "duration": 7,
        "start_time": "2022-03-25T20:59:01.197Z"
      },
      {
        "duration": 36,
        "start_time": "2022-03-25T20:59:01.206Z"
      },
      {
        "duration": 47,
        "start_time": "2022-03-25T20:59:01.244Z"
      },
      {
        "duration": 30,
        "start_time": "2022-03-25T20:59:01.293Z"
      },
      {
        "duration": 67,
        "start_time": "2022-03-25T20:59:01.325Z"
      },
      {
        "duration": 1297,
        "start_time": "2022-03-25T20:59:01.394Z"
      },
      {
        "duration": 37,
        "start_time": "2022-03-25T20:59:02.694Z"
      },
      {
        "duration": 665,
        "start_time": "2022-03-25T20:59:02.734Z"
      },
      {
        "duration": 36,
        "start_time": "2022-03-25T20:59:03.402Z"
      },
      {
        "duration": 939,
        "start_time": "2022-03-25T20:59:03.441Z"
      },
      {
        "duration": 17,
        "start_time": "2022-03-25T20:59:04.384Z"
      },
      {
        "duration": 14,
        "start_time": "2022-03-25T20:59:04.403Z"
      },
      {
        "duration": 6,
        "start_time": "2022-03-25T20:59:04.420Z"
      },
      {
        "duration": 13,
        "start_time": "2022-03-25T20:59:04.433Z"
      },
      {
        "duration": 17,
        "start_time": "2022-03-25T20:59:04.485Z"
      },
      {
        "duration": 10,
        "start_time": "2022-03-25T20:59:04.504Z"
      },
      {
        "duration": 278,
        "start_time": "2022-03-25T20:59:04.517Z"
      },
      {
        "duration": 295,
        "start_time": "2022-03-25T20:59:04.797Z"
      },
      {
        "duration": 282,
        "start_time": "2022-03-25T20:59:05.094Z"
      },
      {
        "duration": 282,
        "start_time": "2022-03-25T20:59:05.379Z"
      },
      {
        "duration": 45,
        "start_time": "2022-03-25T20:59:05.663Z"
      },
      {
        "duration": 1690,
        "start_time": "2022-03-25T20:59:05.711Z"
      },
      {
        "duration": 55,
        "start_time": "2022-03-27T18:26:26.250Z"
      },
      {
        "duration": 7,
        "start_time": "2022-03-27T18:27:14.792Z"
      },
      {
        "duration": 831,
        "start_time": "2022-03-27T18:27:34.490Z"
      },
      {
        "duration": 479,
        "start_time": "2022-03-27T18:27:35.323Z"
      },
      {
        "duration": 18,
        "start_time": "2022-03-27T18:27:35.804Z"
      },
      {
        "duration": 29,
        "start_time": "2022-03-27T18:27:35.824Z"
      },
      {
        "duration": 10,
        "start_time": "2022-03-27T18:27:44.551Z"
      },
      {
        "duration": 23,
        "start_time": "2022-03-27T18:27:48.971Z"
      },
      {
        "duration": 165,
        "start_time": "2022-03-27T18:31:21.867Z"
      },
      {
        "duration": 649,
        "start_time": "2022-03-27T18:31:27.214Z"
      },
      {
        "duration": 533,
        "start_time": "2022-03-27T18:32:09.557Z"
      },
      {
        "duration": 397,
        "start_time": "2022-03-27T18:32:16.751Z"
      },
      {
        "duration": 269,
        "start_time": "2022-03-27T18:32:22.676Z"
      },
      {
        "duration": 697,
        "start_time": "2022-03-27T18:34:35.854Z"
      },
      {
        "duration": 496,
        "start_time": "2022-03-27T18:34:47.115Z"
      },
      {
        "duration": 387,
        "start_time": "2022-03-27T18:34:54.727Z"
      },
      {
        "duration": 376,
        "start_time": "2022-03-27T18:35:09.342Z"
      },
      {
        "duration": 208,
        "start_time": "2022-03-27T18:35:20.998Z"
      },
      {
        "duration": 230,
        "start_time": "2022-03-27T18:37:12.197Z"
      },
      {
        "duration": 170,
        "start_time": "2022-03-27T18:49:22.178Z"
      },
      {
        "duration": 213,
        "start_time": "2022-03-27T18:49:33.614Z"
      },
      {
        "duration": 66,
        "start_time": "2022-03-27T19:02:53.641Z"
      },
      {
        "duration": 9,
        "start_time": "2022-03-27T19:03:19.760Z"
      },
      {
        "duration": 8,
        "start_time": "2022-03-27T19:03:32.549Z"
      },
      {
        "duration": 8,
        "start_time": "2022-03-27T19:03:55.128Z"
      },
      {
        "duration": 52,
        "start_time": "2022-03-27T19:04:04.545Z"
      },
      {
        "duration": 8,
        "start_time": "2022-03-27T19:04:47.308Z"
      },
      {
        "duration": 3,
        "start_time": "2022-03-27T19:05:08.158Z"
      },
      {
        "duration": 461,
        "start_time": "2022-03-27T19:05:08.163Z"
      },
      {
        "duration": 9,
        "start_time": "2022-03-27T19:05:08.627Z"
      },
      {
        "duration": 31,
        "start_time": "2022-03-27T19:05:08.637Z"
      },
      {
        "duration": 9,
        "start_time": "2022-03-27T19:05:08.670Z"
      },
      {
        "duration": 25,
        "start_time": "2022-03-27T19:05:08.681Z"
      },
      {
        "duration": 25,
        "start_time": "2022-03-27T19:05:08.708Z"
      },
      {
        "duration": 23,
        "start_time": "2022-03-27T19:05:08.735Z"
      },
      {
        "duration": 9,
        "start_time": "2022-03-27T19:05:08.759Z"
      },
      {
        "duration": 20,
        "start_time": "2022-03-27T19:05:08.769Z"
      },
      {
        "duration": 19,
        "start_time": "2022-03-27T19:05:08.792Z"
      },
      {
        "duration": 25,
        "start_time": "2022-03-27T19:05:08.813Z"
      },
      {
        "duration": 237,
        "start_time": "2022-03-27T19:05:08.840Z"
      },
      {
        "duration": 94,
        "start_time": "2022-03-27T19:05:09.079Z"
      },
      {
        "duration": 64,
        "start_time": "2022-03-27T19:05:09.175Z"
      },
      {
        "duration": 9,
        "start_time": "2022-03-27T19:05:09.241Z"
      },
      {
        "duration": 34,
        "start_time": "2022-03-27T19:05:09.251Z"
      },
      {
        "duration": 83,
        "start_time": "2022-03-27T19:05:09.287Z"
      },
      {
        "duration": 61,
        "start_time": "2022-03-27T19:05:09.372Z"
      },
      {
        "duration": 45,
        "start_time": "2022-03-27T19:05:09.434Z"
      },
      {
        "duration": 17,
        "start_time": "2022-03-27T19:05:09.481Z"
      },
      {
        "duration": 33,
        "start_time": "2022-03-27T19:05:09.500Z"
      },
      {
        "duration": 29,
        "start_time": "2022-03-27T19:05:09.535Z"
      },
      {
        "duration": 18,
        "start_time": "2022-03-27T19:05:09.566Z"
      },
      {
        "duration": 9,
        "start_time": "2022-03-27T19:05:09.586Z"
      },
      {
        "duration": 4,
        "start_time": "2022-03-27T19:05:09.597Z"
      },
      {
        "duration": 2436,
        "start_time": "2022-03-27T19:05:09.633Z"
      },
      {
        "duration": 4,
        "start_time": "2022-03-27T19:05:12.071Z"
      },
      {
        "duration": 38,
        "start_time": "2022-03-27T19:05:12.079Z"
      },
      {
        "duration": 42,
        "start_time": "2022-03-27T19:05:12.119Z"
      },
      {
        "duration": 48,
        "start_time": "2022-03-27T19:05:12.162Z"
      },
      {
        "duration": 48,
        "start_time": "2022-03-27T19:05:12.212Z"
      },
      {
        "duration": 641,
        "start_time": "2022-03-27T19:05:12.261Z"
      },
      {
        "duration": 39,
        "start_time": "2022-03-27T19:05:12.904Z"
      },
      {
        "duration": 467,
        "start_time": "2022-03-27T19:05:12.945Z"
      },
      {
        "duration": 33,
        "start_time": "2022-03-27T19:05:13.414Z"
      },
      {
        "duration": 759,
        "start_time": "2022-03-27T19:05:13.449Z"
      },
      {
        "duration": 9,
        "start_time": "2022-03-27T19:05:14.210Z"
      },
      {
        "duration": 41,
        "start_time": "2022-03-27T19:05:14.220Z"
      },
      {
        "duration": 19,
        "start_time": "2022-03-27T19:05:14.263Z"
      },
      {
        "duration": 22,
        "start_time": "2022-03-27T19:05:14.283Z"
      },
      {
        "duration": 31,
        "start_time": "2022-03-27T19:05:14.306Z"
      },
      {
        "duration": 39,
        "start_time": "2022-03-27T19:05:14.339Z"
      },
      {
        "duration": 84,
        "start_time": "2022-03-27T19:05:14.379Z"
      },
      {
        "duration": 194,
        "start_time": "2022-03-27T19:05:14.464Z"
      },
      {
        "duration": 194,
        "start_time": "2022-03-27T19:05:14.660Z"
      },
      {
        "duration": 197,
        "start_time": "2022-03-27T19:05:14.856Z"
      },
      {
        "duration": 52,
        "start_time": "2022-03-27T19:05:15.055Z"
      },
      {
        "duration": 1253,
        "start_time": "2022-03-27T19:05:15.108Z"
      },
      {
        "duration": 10,
        "start_time": "2022-03-27T19:05:40.079Z"
      },
      {
        "duration": 3,
        "start_time": "2022-03-27T19:05:53.625Z"
      },
      {
        "duration": 468,
        "start_time": "2022-03-27T19:05:53.631Z"
      },
      {
        "duration": 9,
        "start_time": "2022-03-27T19:05:54.102Z"
      },
      {
        "duration": 35,
        "start_time": "2022-03-27T19:05:54.113Z"
      },
      {
        "duration": 9,
        "start_time": "2022-03-27T19:05:54.151Z"
      },
      {
        "duration": 31,
        "start_time": "2022-03-27T19:05:54.162Z"
      },
      {
        "duration": 8,
        "start_time": "2022-03-27T19:05:54.195Z"
      },
      {
        "duration": 39,
        "start_time": "2022-03-27T19:05:54.205Z"
      },
      {
        "duration": 9,
        "start_time": "2022-03-27T19:05:54.246Z"
      },
      {
        "duration": 14,
        "start_time": "2022-03-27T19:05:54.256Z"
      },
      {
        "duration": 13,
        "start_time": "2022-03-27T19:05:54.273Z"
      },
      {
        "duration": 15,
        "start_time": "2022-03-27T19:05:54.288Z"
      },
      {
        "duration": 248,
        "start_time": "2022-03-27T19:05:54.305Z"
      },
      {
        "duration": 81,
        "start_time": "2022-03-27T19:05:54.555Z"
      },
      {
        "duration": 57,
        "start_time": "2022-03-27T19:05:54.638Z"
      },
      {
        "duration": 8,
        "start_time": "2022-03-27T19:05:54.696Z"
      },
      {
        "duration": 56,
        "start_time": "2022-03-27T19:05:54.706Z"
      },
      {
        "duration": 68,
        "start_time": "2022-03-27T19:05:54.764Z"
      },
      {
        "duration": 42,
        "start_time": "2022-03-27T19:05:54.834Z"
      },
      {
        "duration": 61,
        "start_time": "2022-03-27T19:05:54.878Z"
      },
      {
        "duration": 20,
        "start_time": "2022-03-27T19:05:54.941Z"
      },
      {
        "duration": 8,
        "start_time": "2022-03-27T19:05:54.962Z"
      },
      {
        "duration": 29,
        "start_time": "2022-03-27T19:05:54.972Z"
      },
      {
        "duration": 47,
        "start_time": "2022-03-27T19:05:55.003Z"
      },
      {
        "duration": 12,
        "start_time": "2022-03-27T19:05:55.052Z"
      },
      {
        "duration": 6,
        "start_time": "2022-03-27T19:05:55.066Z"
      },
      {
        "duration": 2595,
        "start_time": "2022-03-27T19:05:55.074Z"
      },
      {
        "duration": 5,
        "start_time": "2022-03-27T19:05:57.671Z"
      },
      {
        "duration": 36,
        "start_time": "2022-03-27T19:05:57.680Z"
      },
      {
        "duration": 27,
        "start_time": "2022-03-27T19:05:57.718Z"
      },
      {
        "duration": 25,
        "start_time": "2022-03-27T19:05:57.747Z"
      },
      {
        "duration": 27,
        "start_time": "2022-03-27T19:05:57.773Z"
      },
      {
        "duration": 620,
        "start_time": "2022-03-27T19:05:57.802Z"
      },
      {
        "duration": 30,
        "start_time": "2022-03-27T19:05:58.424Z"
      },
      {
        "duration": 441,
        "start_time": "2022-03-27T19:05:58.456Z"
      },
      {
        "duration": 38,
        "start_time": "2022-03-27T19:05:58.899Z"
      },
      {
        "duration": 755,
        "start_time": "2022-03-27T19:05:58.938Z"
      },
      {
        "duration": 9,
        "start_time": "2022-03-27T19:05:59.695Z"
      },
      {
        "duration": 26,
        "start_time": "2022-03-27T19:05:59.706Z"
      },
      {
        "duration": 26,
        "start_time": "2022-03-27T19:05:59.734Z"
      },
      {
        "duration": 35,
        "start_time": "2022-03-27T19:05:59.762Z"
      },
      {
        "duration": 16,
        "start_time": "2022-03-27T19:05:59.799Z"
      },
      {
        "duration": 24,
        "start_time": "2022-03-27T19:05:59.816Z"
      },
      {
        "duration": 21,
        "start_time": "2022-03-27T19:05:59.841Z"
      },
      {
        "duration": 199,
        "start_time": "2022-03-27T19:05:59.864Z"
      },
      {
        "duration": 187,
        "start_time": "2022-03-27T19:06:00.065Z"
      },
      {
        "duration": 191,
        "start_time": "2022-03-27T19:06:00.254Z"
      },
      {
        "duration": 52,
        "start_time": "2022-03-27T19:06:00.447Z"
      },
      {
        "duration": 1192,
        "start_time": "2022-03-27T19:06:00.502Z"
      },
      {
        "duration": 3,
        "start_time": "2022-03-27T19:07:33.610Z"
      },
      {
        "duration": 456,
        "start_time": "2022-03-27T19:07:33.618Z"
      },
      {
        "duration": 9,
        "start_time": "2022-03-27T19:07:34.076Z"
      },
      {
        "duration": 35,
        "start_time": "2022-03-27T19:07:34.087Z"
      },
      {
        "duration": 9,
        "start_time": "2022-03-27T19:07:34.125Z"
      },
      {
        "duration": 24,
        "start_time": "2022-03-27T19:07:34.136Z"
      },
      {
        "duration": 8,
        "start_time": "2022-03-27T19:07:34.161Z"
      },
      {
        "duration": 22,
        "start_time": "2022-03-27T19:07:34.171Z"
      },
      {
        "duration": 37,
        "start_time": "2022-03-27T19:07:34.195Z"
      },
      {
        "duration": 11,
        "start_time": "2022-03-27T19:07:34.233Z"
      },
      {
        "duration": 12,
        "start_time": "2022-03-27T19:07:34.247Z"
      },
      {
        "duration": 13,
        "start_time": "2022-03-27T19:07:34.261Z"
      },
      {
        "duration": 243,
        "start_time": "2022-03-27T19:07:34.275Z"
      },
      {
        "duration": 82,
        "start_time": "2022-03-27T19:07:34.520Z"
      },
      {
        "duration": 65,
        "start_time": "2022-03-27T19:07:34.604Z"
      },
      {
        "duration": 7,
        "start_time": "2022-03-27T19:07:34.671Z"
      },
      {
        "duration": 36,
        "start_time": "2022-03-27T19:07:34.680Z"
      },
      {
        "duration": 68,
        "start_time": "2022-03-27T19:07:34.718Z"
      },
      {
        "duration": 62,
        "start_time": "2022-03-27T19:07:34.788Z"
      },
      {
        "duration": 41,
        "start_time": "2022-03-27T19:07:34.851Z"
      },
      {
        "duration": 23,
        "start_time": "2022-03-27T19:07:34.894Z"
      },
      {
        "duration": 8,
        "start_time": "2022-03-27T19:07:34.932Z"
      },
      {
        "duration": 29,
        "start_time": "2022-03-27T19:07:34.942Z"
      },
      {
        "duration": 18,
        "start_time": "2022-03-27T19:07:34.973Z"
      },
      {
        "duration": 10,
        "start_time": "2022-03-27T19:07:34.993Z"
      },
      {
        "duration": 31,
        "start_time": "2022-03-27T19:07:35.004Z"
      },
      {
        "duration": 2530,
        "start_time": "2022-03-27T19:07:35.037Z"
      },
      {
        "duration": 6,
        "start_time": "2022-03-27T19:07:37.569Z"
      },
      {
        "duration": 23,
        "start_time": "2022-03-27T19:07:37.579Z"
      },
      {
        "duration": 30,
        "start_time": "2022-03-27T19:07:37.604Z"
      },
      {
        "duration": 21,
        "start_time": "2022-03-27T19:07:37.635Z"
      },
      {
        "duration": 28,
        "start_time": "2022-03-27T19:07:37.657Z"
      },
      {
        "duration": 655,
        "start_time": "2022-03-27T19:07:37.687Z"
      },
      {
        "duration": 32,
        "start_time": "2022-03-27T19:07:38.344Z"
      },
      {
        "duration": 455,
        "start_time": "2022-03-27T19:07:38.379Z"
      },
      {
        "duration": 26,
        "start_time": "2022-03-27T19:07:38.835Z"
      },
      {
        "duration": 639,
        "start_time": "2022-03-27T19:07:38.863Z"
      },
      {
        "duration": 10,
        "start_time": "2022-03-27T19:07:39.504Z"
      },
      {
        "duration": 20,
        "start_time": "2022-03-27T19:07:39.515Z"
      },
      {
        "duration": 8,
        "start_time": "2022-03-27T19:07:39.537Z"
      },
      {
        "duration": 14,
        "start_time": "2022-03-27T19:07:39.546Z"
      },
      {
        "duration": 15,
        "start_time": "2022-03-27T19:07:39.562Z"
      },
      {
        "duration": 8,
        "start_time": "2022-03-27T19:07:39.579Z"
      },
      {
        "duration": 7,
        "start_time": "2022-03-27T19:07:39.588Z"
      },
      {
        "duration": 422,
        "start_time": "2022-03-27T19:07:39.597Z"
      },
      {
        "duration": 199,
        "start_time": "2022-03-27T19:07:40.021Z"
      },
      {
        "duration": 205,
        "start_time": "2022-03-27T19:07:40.222Z"
      },
      {
        "duration": 50,
        "start_time": "2022-03-27T19:07:40.431Z"
      },
      {
        "duration": 1209,
        "start_time": "2022-03-27T19:07:40.483Z"
      },
      {
        "duration": 7,
        "start_time": "2022-03-27T19:10:27.324Z"
      },
      {
        "duration": 10,
        "start_time": "2022-03-27T19:10:40.071Z"
      },
      {
        "duration": 3,
        "start_time": "2022-03-27T19:14:44.148Z"
      },
      {
        "duration": 487,
        "start_time": "2022-03-27T19:14:44.155Z"
      },
      {
        "duration": 9,
        "start_time": "2022-03-27T19:14:44.645Z"
      },
      {
        "duration": 33,
        "start_time": "2022-03-27T19:14:44.655Z"
      },
      {
        "duration": 9,
        "start_time": "2022-03-27T19:14:44.691Z"
      },
      {
        "duration": 41,
        "start_time": "2022-03-27T19:14:44.701Z"
      },
      {
        "duration": 8,
        "start_time": "2022-03-27T19:14:44.743Z"
      },
      {
        "duration": 23,
        "start_time": "2022-03-27T19:14:44.753Z"
      },
      {
        "duration": 9,
        "start_time": "2022-03-27T19:14:44.778Z"
      },
      {
        "duration": 17,
        "start_time": "2022-03-27T19:14:44.789Z"
      },
      {
        "duration": 11,
        "start_time": "2022-03-27T19:14:44.833Z"
      },
      {
        "duration": 13,
        "start_time": "2022-03-27T19:14:44.846Z"
      },
      {
        "duration": 239,
        "start_time": "2022-03-27T19:14:44.861Z"
      },
      {
        "duration": 79,
        "start_time": "2022-03-27T19:14:45.102Z"
      },
      {
        "duration": 65,
        "start_time": "2022-03-27T19:14:45.183Z"
      },
      {
        "duration": 6,
        "start_time": "2022-03-27T19:14:45.250Z"
      },
      {
        "duration": 34,
        "start_time": "2022-03-27T19:14:45.258Z"
      },
      {
        "duration": 81,
        "start_time": "2022-03-27T19:14:45.294Z"
      },
      {
        "duration": 42,
        "start_time": "2022-03-27T19:14:45.377Z"
      },
      {
        "duration": 40,
        "start_time": "2022-03-27T19:14:45.433Z"
      },
      {
        "duration": 18,
        "start_time": "2022-03-27T19:14:45.475Z"
      },
      {
        "duration": 9,
        "start_time": "2022-03-27T19:14:45.495Z"
      },
      {
        "duration": 31,
        "start_time": "2022-03-27T19:14:45.532Z"
      },
      {
        "duration": 18,
        "start_time": "2022-03-27T19:14:45.565Z"
      },
      {
        "duration": 12,
        "start_time": "2022-03-27T19:14:45.585Z"
      },
      {
        "duration": 20,
        "start_time": "2022-03-27T19:14:45.599Z"
      },
      {
        "duration": 2332,
        "start_time": "2022-03-27T19:14:45.621Z"
      },
      {
        "duration": 6,
        "start_time": "2022-03-27T19:14:47.955Z"
      },
      {
        "duration": 21,
        "start_time": "2022-03-27T19:14:47.965Z"
      },
      {
        "duration": 12,
        "start_time": "2022-03-27T19:14:47.989Z"
      },
      {
        "duration": 47,
        "start_time": "2022-03-27T19:14:48.003Z"
      },
      {
        "duration": 26,
        "start_time": "2022-03-27T19:14:48.052Z"
      },
      {
        "duration": 657,
        "start_time": "2022-03-27T19:14:48.081Z"
      },
      {
        "duration": 26,
        "start_time": "2022-03-27T19:14:48.741Z"
      },
      {
        "duration": 443,
        "start_time": "2022-03-27T19:14:48.770Z"
      },
      {
        "duration": 33,
        "start_time": "2022-03-27T19:14:49.216Z"
      },
      {
        "duration": 608,
        "start_time": "2022-03-27T19:14:49.251Z"
      },
      {
        "duration": 10,
        "start_time": "2022-03-27T19:14:49.862Z"
      },
      {
        "duration": 17,
        "start_time": "2022-03-27T19:14:49.874Z"
      },
      {
        "duration": 4,
        "start_time": "2022-03-27T19:14:49.893Z"
      },
      {
        "duration": 10,
        "start_time": "2022-03-27T19:14:49.900Z"
      },
      {
        "duration": 10,
        "start_time": "2022-03-27T19:14:49.932Z"
      },
      {
        "duration": 7,
        "start_time": "2022-03-27T19:14:49.943Z"
      },
      {
        "duration": 6,
        "start_time": "2022-03-27T19:14:49.951Z"
      },
      {
        "duration": 223,
        "start_time": "2022-03-27T19:14:49.959Z"
      },
      {
        "duration": 185,
        "start_time": "2022-03-27T19:14:50.184Z"
      },
      {
        "duration": 191,
        "start_time": "2022-03-27T19:14:50.371Z"
      },
      {
        "duration": 48,
        "start_time": "2022-03-27T19:14:50.564Z"
      },
      {
        "duration": 1364,
        "start_time": "2022-03-27T19:14:50.614Z"
      },
      {
        "duration": 4,
        "start_time": "2022-03-27T19:44:28.994Z"
      },
      {
        "duration": 472,
        "start_time": "2022-03-27T19:44:29.001Z"
      },
      {
        "duration": 9,
        "start_time": "2022-03-27T19:44:29.475Z"
      },
      {
        "duration": 35,
        "start_time": "2022-03-27T19:44:29.485Z"
      },
      {
        "duration": 8,
        "start_time": "2022-03-27T19:44:29.523Z"
      },
      {
        "duration": 25,
        "start_time": "2022-03-27T19:44:29.533Z"
      },
      {
        "duration": 7,
        "start_time": "2022-03-27T19:44:29.560Z"
      },
      {
        "duration": 22,
        "start_time": "2022-03-27T19:44:29.569Z"
      },
      {
        "duration": 8,
        "start_time": "2022-03-27T19:44:29.593Z"
      },
      {
        "duration": 44,
        "start_time": "2022-03-27T19:44:29.603Z"
      },
      {
        "duration": 16,
        "start_time": "2022-03-27T19:44:29.652Z"
      },
      {
        "duration": 22,
        "start_time": "2022-03-27T19:44:29.671Z"
      },
      {
        "duration": 277,
        "start_time": "2022-03-27T19:44:29.696Z"
      },
      {
        "duration": 88,
        "start_time": "2022-03-27T19:44:29.974Z"
      },
      {
        "duration": 57,
        "start_time": "2022-03-27T19:44:30.064Z"
      },
      {
        "duration": 7,
        "start_time": "2022-03-27T19:44:30.132Z"
      },
      {
        "duration": 39,
        "start_time": "2022-03-27T19:44:30.141Z"
      },
      {
        "duration": 77,
        "start_time": "2022-03-27T19:44:30.182Z"
      },
      {
        "duration": 48,
        "start_time": "2022-03-27T19:44:30.262Z"
      },
      {
        "duration": 58,
        "start_time": "2022-03-27T19:44:30.312Z"
      },
      {
        "duration": 19,
        "start_time": "2022-03-27T19:44:30.372Z"
      },
      {
        "duration": 14,
        "start_time": "2022-03-27T19:44:30.393Z"
      },
      {
        "duration": 45,
        "start_time": "2022-03-27T19:44:30.409Z"
      },
      {
        "duration": 20,
        "start_time": "2022-03-27T19:44:30.456Z"
      },
      {
        "duration": 10,
        "start_time": "2022-03-27T19:44:30.477Z"
      },
      {
        "duration": 7,
        "start_time": "2022-03-27T19:44:30.489Z"
      },
      {
        "duration": 2480,
        "start_time": "2022-03-27T19:44:30.498Z"
      },
      {
        "duration": 7,
        "start_time": "2022-03-27T19:44:32.980Z"
      },
      {
        "duration": 38,
        "start_time": "2022-03-27T19:44:32.992Z"
      },
      {
        "duration": 22,
        "start_time": "2022-03-27T19:44:33.033Z"
      },
      {
        "duration": 30,
        "start_time": "2022-03-27T19:44:33.056Z"
      },
      {
        "duration": 37,
        "start_time": "2022-03-27T19:44:33.087Z"
      },
      {
        "duration": 795,
        "start_time": "2022-03-27T19:44:33.126Z"
      },
      {
        "duration": 33,
        "start_time": "2022-03-27T19:44:33.922Z"
      },
      {
        "duration": 460,
        "start_time": "2022-03-27T19:44:33.957Z"
      },
      {
        "duration": 36,
        "start_time": "2022-03-27T19:44:34.419Z"
      },
      {
        "duration": 666,
        "start_time": "2022-03-27T19:44:34.456Z"
      },
      {
        "duration": 14,
        "start_time": "2022-03-27T19:44:35.125Z"
      },
      {
        "duration": 11,
        "start_time": "2022-03-27T19:44:35.141Z"
      },
      {
        "duration": 7,
        "start_time": "2022-03-27T19:44:35.153Z"
      },
      {
        "duration": 12,
        "start_time": "2022-03-27T19:44:35.162Z"
      },
      {
        "duration": 13,
        "start_time": "2022-03-27T19:44:35.176Z"
      },
      {
        "duration": 43,
        "start_time": "2022-03-27T19:44:35.191Z"
      },
      {
        "duration": 5,
        "start_time": "2022-03-27T19:44:35.236Z"
      },
      {
        "duration": 220,
        "start_time": "2022-03-27T19:44:35.243Z"
      },
      {
        "duration": 201,
        "start_time": "2022-03-27T19:44:35.465Z"
      },
      {
        "duration": 198,
        "start_time": "2022-03-27T19:44:35.667Z"
      },
      {
        "duration": 53,
        "start_time": "2022-03-27T19:44:35.867Z"
      },
      {
        "duration": 1176,
        "start_time": "2022-03-27T19:44:35.921Z"
      },
      {
        "duration": 862,
        "start_time": "2022-03-28T17:44:32.679Z"
      },
      {
        "duration": 384,
        "start_time": "2022-03-28T17:44:33.543Z"
      },
      {
        "duration": 15,
        "start_time": "2022-03-28T17:44:33.928Z"
      },
      {
        "duration": 30,
        "start_time": "2022-03-28T17:44:33.945Z"
      },
      {
        "duration": 11,
        "start_time": "2022-03-28T17:44:33.977Z"
      },
      {
        "duration": 30,
        "start_time": "2022-03-28T17:44:33.990Z"
      },
      {
        "duration": 7,
        "start_time": "2022-03-28T17:44:34.022Z"
      },
      {
        "duration": 22,
        "start_time": "2022-03-28T17:44:34.031Z"
      },
      {
        "duration": 8,
        "start_time": "2022-03-28T17:44:34.055Z"
      },
      {
        "duration": 11,
        "start_time": "2022-03-28T17:44:34.065Z"
      },
      {
        "duration": 34,
        "start_time": "2022-03-28T17:44:34.078Z"
      },
      {
        "duration": 12,
        "start_time": "2022-03-28T17:44:34.114Z"
      },
      {
        "duration": 620,
        "start_time": "2022-03-28T17:44:34.128Z"
      },
      {
        "duration": 106,
        "start_time": "2022-03-28T17:44:34.750Z"
      },
      {
        "duration": 59,
        "start_time": "2022-03-28T17:44:34.858Z"
      },
      {
        "duration": 8,
        "start_time": "2022-03-28T17:44:34.919Z"
      },
      {
        "duration": 30,
        "start_time": "2022-03-28T17:44:34.929Z"
      },
      {
        "duration": 84,
        "start_time": "2022-03-28T17:44:34.961Z"
      },
      {
        "duration": 41,
        "start_time": "2022-03-28T17:44:35.047Z"
      },
      {
        "duration": 53,
        "start_time": "2022-03-28T17:44:35.090Z"
      },
      {
        "duration": 16,
        "start_time": "2022-03-28T17:44:35.145Z"
      },
      {
        "duration": 9,
        "start_time": "2022-03-28T17:44:55.988Z"
      },
      {
        "duration": 7,
        "start_time": "2022-03-28T17:44:59.438Z"
      },
      {
        "duration": 7,
        "start_time": "2022-03-28T17:45:01.330Z"
      },
      {
        "duration": 2,
        "start_time": "2022-03-28T17:52:27.210Z"
      },
      {
        "duration": 388,
        "start_time": "2022-03-28T17:52:27.217Z"
      },
      {
        "duration": 8,
        "start_time": "2022-03-28T17:52:27.607Z"
      },
      {
        "duration": 26,
        "start_time": "2022-03-28T17:52:27.616Z"
      },
      {
        "duration": 8,
        "start_time": "2022-03-28T17:52:27.643Z"
      },
      {
        "duration": 20,
        "start_time": "2022-03-28T17:52:27.654Z"
      },
      {
        "duration": 6,
        "start_time": "2022-03-28T17:52:27.676Z"
      },
      {
        "duration": 42,
        "start_time": "2022-03-28T17:52:27.684Z"
      },
      {
        "duration": 8,
        "start_time": "2022-03-28T17:52:27.727Z"
      },
      {
        "duration": 10,
        "start_time": "2022-03-28T17:52:27.737Z"
      },
      {
        "duration": 10,
        "start_time": "2022-03-28T17:52:27.748Z"
      },
      {
        "duration": 10,
        "start_time": "2022-03-28T17:52:27.759Z"
      },
      {
        "duration": 230,
        "start_time": "2022-03-28T17:52:27.771Z"
      },
      {
        "duration": 66,
        "start_time": "2022-03-28T17:52:28.008Z"
      },
      {
        "duration": 56,
        "start_time": "2022-03-28T17:52:28.077Z"
      },
      {
        "duration": 6,
        "start_time": "2022-03-28T17:52:28.135Z"
      },
      {
        "duration": 29,
        "start_time": "2022-03-28T17:52:28.143Z"
      },
      {
        "duration": 74,
        "start_time": "2022-03-28T17:52:28.174Z"
      },
      {
        "duration": 40,
        "start_time": "2022-03-28T17:52:28.250Z"
      },
      {
        "duration": 50,
        "start_time": "2022-03-28T17:52:28.292Z"
      },
      {
        "duration": 18,
        "start_time": "2022-03-28T17:52:28.344Z"
      },
      {
        "duration": 4,
        "start_time": "2022-03-28T17:52:28.363Z"
      },
      {
        "duration": 96,
        "start_time": "2022-03-28T17:52:34.826Z"
      },
      {
        "duration": 9,
        "start_time": "2022-03-28T17:52:49.973Z"
      },
      {
        "duration": 7,
        "start_time": "2022-03-28T17:52:52.314Z"
      },
      {
        "duration": 31,
        "start_time": "2022-03-28T17:53:14.068Z"
      },
      {
        "duration": 19,
        "start_time": "2022-03-28T17:53:16.677Z"
      },
      {
        "duration": 66,
        "start_time": "2022-03-28T18:03:05.303Z"
      },
      {
        "duration": 19,
        "start_time": "2022-03-28T18:07:43.810Z"
      },
      {
        "duration": 101,
        "start_time": "2022-03-28T18:13:07.147Z"
      },
      {
        "duration": 4,
        "start_time": "2022-03-28T18:14:39.103Z"
      },
      {
        "duration": 2221,
        "start_time": "2022-03-28T18:14:42.760Z"
      },
      {
        "duration": 5,
        "start_time": "2022-03-28T18:15:03.144Z"
      },
      {
        "duration": 7,
        "start_time": "2022-03-28T18:15:33.252Z"
      },
      {
        "duration": 22,
        "start_time": "2022-03-28T18:15:41.568Z"
      },
      {
        "duration": 413,
        "start_time": "2022-03-28T18:26:19.676Z"
      },
      {
        "duration": 5,
        "start_time": "2022-03-28T18:26:21.637Z"
      },
      {
        "duration": 32,
        "start_time": "2022-03-28T18:26:25.346Z"
      },
      {
        "duration": 3,
        "start_time": "2022-03-28T18:32:24.758Z"
      },
      {
        "duration": 430,
        "start_time": "2022-03-28T18:32:24.764Z"
      },
      {
        "duration": 8,
        "start_time": "2022-03-28T18:32:25.196Z"
      },
      {
        "duration": 27,
        "start_time": "2022-03-28T18:32:25.206Z"
      },
      {
        "duration": 9,
        "start_time": "2022-03-28T18:32:25.235Z"
      },
      {
        "duration": 26,
        "start_time": "2022-03-28T18:32:25.246Z"
      },
      {
        "duration": 8,
        "start_time": "2022-03-28T18:32:25.273Z"
      },
      {
        "duration": 44,
        "start_time": "2022-03-28T18:32:25.283Z"
      },
      {
        "duration": 8,
        "start_time": "2022-03-28T18:32:25.329Z"
      },
      {
        "duration": 11,
        "start_time": "2022-03-28T18:32:25.338Z"
      },
      {
        "duration": 11,
        "start_time": "2022-03-28T18:32:25.351Z"
      },
      {
        "duration": 13,
        "start_time": "2022-03-28T18:32:25.363Z"
      },
      {
        "duration": 316,
        "start_time": "2022-03-28T18:32:25.378Z"
      },
      {
        "duration": 80,
        "start_time": "2022-03-28T18:32:25.696Z"
      },
      {
        "duration": 65,
        "start_time": "2022-03-28T18:32:25.778Z"
      },
      {
        "duration": 7,
        "start_time": "2022-03-28T18:32:25.845Z"
      },
      {
        "duration": 33,
        "start_time": "2022-03-28T18:32:25.853Z"
      },
      {
        "duration": 60,
        "start_time": "2022-03-28T18:32:25.909Z"
      },
      {
        "duration": 52,
        "start_time": "2022-03-28T18:32:25.970Z"
      },
      {
        "duration": 40,
        "start_time": "2022-03-28T18:32:26.024Z"
      },
      {
        "duration": 18,
        "start_time": "2022-03-28T18:32:26.065Z"
      },
      {
        "duration": 9,
        "start_time": "2022-03-28T18:32:26.109Z"
      },
      {
        "duration": 28,
        "start_time": "2022-03-28T18:32:26.119Z"
      },
      {
        "duration": 19,
        "start_time": "2022-03-28T18:32:26.149Z"
      },
      {
        "duration": 51,
        "start_time": "2022-03-28T18:32:26.169Z"
      },
      {
        "duration": 5,
        "start_time": "2022-03-28T18:32:26.223Z"
      },
      {
        "duration": 2363,
        "start_time": "2022-03-28T18:32:26.230Z"
      },
      {
        "duration": 5,
        "start_time": "2022-03-28T18:32:28.594Z"
      },
      {
        "duration": 25,
        "start_time": "2022-03-28T18:32:28.611Z"
      },
      {
        "duration": 12,
        "start_time": "2022-03-28T18:32:28.638Z"
      },
      {
        "duration": 23,
        "start_time": "2022-03-28T18:32:28.651Z"
      },
      {
        "duration": 50,
        "start_time": "2022-03-28T18:32:28.675Z"
      },
      {
        "duration": 24,
        "start_time": "2022-03-28T18:32:57.293Z"
      },
      {
        "duration": 26,
        "start_time": "2022-03-28T18:33:05.836Z"
      },
      {
        "duration": 61,
        "start_time": "2022-03-28T18:35:08.470Z"
      },
      {
        "duration": 87,
        "start_time": "2022-03-28T18:35:38.696Z"
      },
      {
        "duration": 26,
        "start_time": "2022-03-28T18:35:42.633Z"
      },
      {
        "duration": 71,
        "start_time": "2022-03-28T18:36:01.447Z"
      },
      {
        "duration": 94,
        "start_time": "2022-03-28T18:36:07.679Z"
      },
      {
        "duration": 77,
        "start_time": "2022-03-28T18:36:18.655Z"
      },
      {
        "duration": 803,
        "start_time": "2022-03-28T18:43:45.068Z"
      },
      {
        "duration": 411,
        "start_time": "2022-03-28T18:43:45.873Z"
      },
      {
        "duration": 15,
        "start_time": "2022-03-28T18:43:46.286Z"
      },
      {
        "duration": 25,
        "start_time": "2022-03-28T18:43:46.304Z"
      },
      {
        "duration": 8,
        "start_time": "2022-03-28T18:43:46.331Z"
      },
      {
        "duration": 23,
        "start_time": "2022-03-28T18:43:46.341Z"
      },
      {
        "duration": 8,
        "start_time": "2022-03-28T18:43:46.366Z"
      },
      {
        "duration": 21,
        "start_time": "2022-03-28T18:43:46.376Z"
      },
      {
        "duration": 9,
        "start_time": "2022-03-28T18:43:46.398Z"
      },
      {
        "duration": 11,
        "start_time": "2022-03-28T18:43:46.434Z"
      },
      {
        "duration": 17,
        "start_time": "2022-03-28T18:43:46.447Z"
      },
      {
        "duration": 15,
        "start_time": "2022-03-28T18:43:46.465Z"
      },
      {
        "duration": 665,
        "start_time": "2022-03-28T18:43:46.481Z"
      },
      {
        "duration": 99,
        "start_time": "2022-03-28T18:43:47.148Z"
      },
      {
        "duration": 48,
        "start_time": "2022-03-28T18:43:47.249Z"
      },
      {
        "duration": 9,
        "start_time": "2022-03-28T18:43:47.299Z"
      },
      {
        "duration": 50,
        "start_time": "2022-03-28T18:43:47.310Z"
      },
      {
        "duration": 75,
        "start_time": "2022-03-28T18:43:47.362Z"
      },
      {
        "duration": 45,
        "start_time": "2022-03-28T18:43:47.439Z"
      },
      {
        "duration": 60,
        "start_time": "2022-03-28T18:43:47.486Z"
      },
      {
        "duration": 19,
        "start_time": "2022-03-28T18:43:47.548Z"
      },
      {
        "duration": 11,
        "start_time": "2022-03-28T18:43:47.569Z"
      },
      {
        "duration": 60,
        "start_time": "2022-03-28T18:43:47.582Z"
      },
      {
        "duration": 17,
        "start_time": "2022-03-28T18:43:47.643Z"
      },
      {
        "duration": 17,
        "start_time": "2022-03-28T18:43:47.662Z"
      },
      {
        "duration": 6,
        "start_time": "2022-03-28T18:43:47.681Z"
      },
      {
        "duration": 2109,
        "start_time": "2022-03-28T18:43:47.689Z"
      },
      {
        "duration": 4,
        "start_time": "2022-03-28T18:43:49.802Z"
      },
      {
        "duration": 35,
        "start_time": "2022-03-28T18:43:49.807Z"
      },
      {
        "duration": 12,
        "start_time": "2022-03-28T18:43:49.843Z"
      },
      {
        "duration": 23,
        "start_time": "2022-03-28T18:43:49.857Z"
      },
      {
        "duration": 25,
        "start_time": "2022-03-28T18:43:51.709Z"
      },
      {
        "duration": 22,
        "start_time": "2022-03-28T18:44:20.874Z"
      },
      {
        "duration": 23,
        "start_time": "2022-03-28T18:44:46.406Z"
      },
      {
        "duration": 828,
        "start_time": "2022-03-28T18:55:42.751Z"
      },
      {
        "duration": 404,
        "start_time": "2022-03-28T18:55:43.580Z"
      },
      {
        "duration": 17,
        "start_time": "2022-03-28T18:55:43.986Z"
      },
      {
        "duration": 34,
        "start_time": "2022-03-28T18:55:44.006Z"
      },
      {
        "duration": 9,
        "start_time": "2022-03-28T18:55:44.043Z"
      },
      {
        "duration": 37,
        "start_time": "2022-03-28T18:55:44.054Z"
      },
      {
        "duration": 8,
        "start_time": "2022-03-28T18:55:44.093Z"
      },
      {
        "duration": 20,
        "start_time": "2022-03-28T18:55:44.103Z"
      },
      {
        "duration": 18,
        "start_time": "2022-03-28T18:55:44.125Z"
      },
      {
        "duration": 11,
        "start_time": "2022-03-28T18:55:44.147Z"
      },
      {
        "duration": 13,
        "start_time": "2022-03-28T18:55:44.160Z"
      },
      {
        "duration": 16,
        "start_time": "2022-03-28T18:55:44.175Z"
      },
      {
        "duration": 696,
        "start_time": "2022-03-28T18:55:44.193Z"
      },
      {
        "duration": 94,
        "start_time": "2022-03-28T18:55:44.891Z"
      },
      {
        "duration": 74,
        "start_time": "2022-03-28T18:55:44.987Z"
      },
      {
        "duration": 9,
        "start_time": "2022-03-28T18:55:45.063Z"
      },
      {
        "duration": 33,
        "start_time": "2022-03-28T18:55:45.074Z"
      },
      {
        "duration": 90,
        "start_time": "2022-03-28T18:55:45.109Z"
      },
      {
        "duration": 63,
        "start_time": "2022-03-28T18:55:45.202Z"
      },
      {
        "duration": 44,
        "start_time": "2022-03-28T18:55:45.268Z"
      },
      {
        "duration": 35,
        "start_time": "2022-03-28T18:55:45.314Z"
      },
      {
        "duration": 9,
        "start_time": "2022-03-28T18:55:45.351Z"
      },
      {
        "duration": 27,
        "start_time": "2022-03-28T18:55:45.361Z"
      },
      {
        "duration": 18,
        "start_time": "2022-03-28T18:55:45.390Z"
      },
      {
        "duration": 45,
        "start_time": "2022-03-28T18:55:45.410Z"
      },
      {
        "duration": 7,
        "start_time": "2022-03-28T18:55:45.457Z"
      },
      {
        "duration": 2249,
        "start_time": "2022-03-28T18:55:45.465Z"
      },
      {
        "duration": 5,
        "start_time": "2022-03-28T18:55:47.718Z"
      },
      {
        "duration": 47,
        "start_time": "2022-03-28T18:55:47.725Z"
      },
      {
        "duration": 29,
        "start_time": "2022-03-28T18:55:47.774Z"
      },
      {
        "duration": 70,
        "start_time": "2022-03-28T18:55:47.805Z"
      },
      {
        "duration": 34,
        "start_time": "2022-03-28T18:55:47.876Z"
      },
      {
        "duration": 330,
        "start_time": "2022-03-28T18:56:15.533Z"
      },
      {
        "duration": 3,
        "start_time": "2022-03-28T18:57:14.801Z"
      },
      {
        "duration": 259,
        "start_time": "2022-03-28T18:57:33.714Z"
      },
      {
        "duration": 250,
        "start_time": "2022-03-28T18:57:52.777Z"
      },
      {
        "duration": 303,
        "start_time": "2022-03-28T18:59:00.399Z"
      },
      {
        "duration": 165,
        "start_time": "2022-03-28T18:59:12.898Z"
      },
      {
        "duration": 536,
        "start_time": "2022-03-28T19:12:56.397Z"
      },
      {
        "duration": 267,
        "start_time": "2022-03-28T19:14:06.513Z"
      },
      {
        "duration": 179,
        "start_time": "2022-03-28T19:14:33.390Z"
      },
      {
        "duration": 164,
        "start_time": "2022-03-28T19:15:10.205Z"
      },
      {
        "duration": 193,
        "start_time": "2022-03-28T19:18:55.969Z"
      },
      {
        "duration": 418,
        "start_time": "2022-03-28T19:19:50.560Z"
      },
      {
        "duration": 208,
        "start_time": "2022-03-28T19:20:12.286Z"
      },
      {
        "duration": 160,
        "start_time": "2022-03-28T19:20:33.409Z"
      },
      {
        "duration": 393,
        "start_time": "2022-03-28T19:21:08.766Z"
      },
      {
        "duration": 124,
        "start_time": "2022-03-28T19:21:49.003Z"
      },
      {
        "duration": 129,
        "start_time": "2022-03-28T19:21:59.809Z"
      },
      {
        "duration": 286,
        "start_time": "2022-03-28T19:22:05.295Z"
      },
      {
        "duration": 40,
        "start_time": "2022-03-28T19:22:43.396Z"
      },
      {
        "duration": 115,
        "start_time": "2022-03-28T19:23:50.315Z"
      },
      {
        "duration": 28,
        "start_time": "2022-03-28T19:23:57.016Z"
      },
      {
        "duration": 153,
        "start_time": "2022-03-28T19:24:06.957Z"
      },
      {
        "duration": 148,
        "start_time": "2022-03-28T19:24:28.675Z"
      },
      {
        "duration": 136,
        "start_time": "2022-03-28T19:26:18.739Z"
      },
      {
        "duration": 172,
        "start_time": "2022-03-28T19:26:52.326Z"
      },
      {
        "duration": 23,
        "start_time": "2022-03-28T19:28:31.407Z"
      },
      {
        "duration": 190,
        "start_time": "2022-03-28T19:28:59.934Z"
      },
      {
        "duration": 162,
        "start_time": "2022-03-28T19:29:05.534Z"
      },
      {
        "duration": 11,
        "start_time": "2022-03-28T19:48:02.707Z"
      },
      {
        "duration": 3,
        "start_time": "2022-03-28T19:48:11.992Z"
      },
      {
        "duration": 426,
        "start_time": "2022-03-28T19:48:11.997Z"
      },
      {
        "duration": 9,
        "start_time": "2022-03-28T19:48:12.425Z"
      },
      {
        "duration": 28,
        "start_time": "2022-03-28T19:48:12.436Z"
      },
      {
        "duration": 9,
        "start_time": "2022-03-28T19:48:12.466Z"
      },
      {
        "duration": 23,
        "start_time": "2022-03-28T19:48:12.477Z"
      },
      {
        "duration": 8,
        "start_time": "2022-03-28T19:48:12.502Z"
      },
      {
        "duration": 40,
        "start_time": "2022-03-28T19:48:12.511Z"
      },
      {
        "duration": 9,
        "start_time": "2022-03-28T19:48:12.554Z"
      },
      {
        "duration": 11,
        "start_time": "2022-03-28T19:48:12.565Z"
      },
      {
        "duration": 11,
        "start_time": "2022-03-28T19:48:12.578Z"
      },
      {
        "duration": 13,
        "start_time": "2022-03-28T19:48:12.591Z"
      },
      {
        "duration": 210,
        "start_time": "2022-03-28T19:48:12.638Z"
      },
      {
        "duration": 73,
        "start_time": "2022-03-28T19:48:12.850Z"
      },
      {
        "duration": 60,
        "start_time": "2022-03-28T19:48:12.925Z"
      },
      {
        "duration": 7,
        "start_time": "2022-03-28T19:48:12.987Z"
      },
      {
        "duration": 62,
        "start_time": "2022-03-28T19:48:12.996Z"
      },
      {
        "duration": 59,
        "start_time": "2022-03-28T19:48:13.060Z"
      },
      {
        "duration": 55,
        "start_time": "2022-03-28T19:48:13.120Z"
      },
      {
        "duration": 41,
        "start_time": "2022-03-28T19:48:13.176Z"
      },
      {
        "duration": 34,
        "start_time": "2022-03-28T19:48:13.218Z"
      },
      {
        "duration": 9,
        "start_time": "2022-03-28T19:48:13.253Z"
      },
      {
        "duration": 26,
        "start_time": "2022-03-28T19:48:13.263Z"
      },
      {
        "duration": 17,
        "start_time": "2022-03-28T19:48:13.293Z"
      },
      {
        "duration": 19,
        "start_time": "2022-03-28T19:48:13.337Z"
      },
      {
        "duration": 4,
        "start_time": "2022-03-28T19:48:13.358Z"
      },
      {
        "duration": 2190,
        "start_time": "2022-03-28T19:48:13.363Z"
      },
      {
        "duration": 5,
        "start_time": "2022-03-28T19:48:15.554Z"
      },
      {
        "duration": 29,
        "start_time": "2022-03-28T19:48:15.560Z"
      },
      {
        "duration": 13,
        "start_time": "2022-03-28T19:48:15.591Z"
      },
      {
        "duration": 42,
        "start_time": "2022-03-28T19:48:15.606Z"
      },
      {
        "duration": 168,
        "start_time": "2022-03-28T19:48:15.650Z"
      },
      {
        "duration": 180,
        "start_time": "2022-03-28T19:48:15.819Z"
      },
      {
        "duration": 180,
        "start_time": "2022-03-28T19:48:16.001Z"
      },
      {
        "duration": 26,
        "start_time": "2022-03-28T19:48:16.183Z"
      },
      {
        "duration": 676,
        "start_time": "2022-03-28T19:48:16.211Z"
      },
      {
        "duration": 25,
        "start_time": "2022-03-28T19:48:16.889Z"
      },
      {
        "duration": 436,
        "start_time": "2022-03-28T19:48:16.916Z"
      },
      {
        "duration": 26,
        "start_time": "2022-03-28T19:48:17.354Z"
      },
      {
        "duration": 596,
        "start_time": "2022-03-28T19:48:17.382Z"
      },
      {
        "duration": 9,
        "start_time": "2022-03-28T19:48:17.979Z"
      },
      {
        "duration": 11,
        "start_time": "2022-03-28T19:48:17.989Z"
      },
      {
        "duration": 8,
        "start_time": "2022-03-28T19:48:18.001Z"
      },
      {
        "duration": 8,
        "start_time": "2022-03-28T19:48:18.011Z"
      },
      {
        "duration": 24,
        "start_time": "2022-03-28T19:48:18.021Z"
      },
      {
        "duration": 10,
        "start_time": "2022-03-28T19:48:18.047Z"
      },
      {
        "duration": 190,
        "start_time": "2022-03-28T19:48:18.059Z"
      },
      {
        "duration": 171,
        "start_time": "2022-03-28T19:48:18.250Z"
      },
      {
        "duration": 165,
        "start_time": "2022-03-28T19:48:18.422Z"
      },
      {
        "duration": 175,
        "start_time": "2022-03-28T19:48:18.588Z"
      },
      {
        "duration": 37,
        "start_time": "2022-03-28T19:48:18.765Z"
      },
      {
        "duration": 1139,
        "start_time": "2022-03-28T19:48:18.803Z"
      },
      {
        "duration": 6,
        "start_time": "2022-03-28T19:48:31.199Z"
      },
      {
        "duration": 1556,
        "start_time": "2022-03-29T17:36:15.503Z"
      },
      {
        "duration": 580,
        "start_time": "2022-03-29T17:36:17.061Z"
      },
      {
        "duration": 17,
        "start_time": "2022-03-29T17:36:17.644Z"
      },
      {
        "duration": 43,
        "start_time": "2022-03-29T17:36:17.664Z"
      },
      {
        "duration": 12,
        "start_time": "2022-03-29T17:36:17.709Z"
      },
      {
        "duration": 57,
        "start_time": "2022-03-29T17:36:17.723Z"
      },
      {
        "duration": 11,
        "start_time": "2022-03-29T17:36:17.782Z"
      },
      {
        "duration": 27,
        "start_time": "2022-03-29T17:36:17.795Z"
      },
      {
        "duration": 12,
        "start_time": "2022-03-29T17:36:17.824Z"
      },
      {
        "duration": 16,
        "start_time": "2022-03-29T17:36:17.870Z"
      },
      {
        "duration": 14,
        "start_time": "2022-03-29T17:36:17.888Z"
      },
      {
        "duration": 16,
        "start_time": "2022-03-29T17:36:17.904Z"
      },
      {
        "duration": 383,
        "start_time": "2022-03-29T17:36:17.922Z"
      },
      {
        "duration": 120,
        "start_time": "2022-03-29T17:36:18.307Z"
      },
      {
        "duration": 88,
        "start_time": "2022-03-29T17:36:18.429Z"
      },
      {
        "duration": 10,
        "start_time": "2022-03-29T17:36:18.520Z"
      },
      {
        "duration": 68,
        "start_time": "2022-03-29T17:36:18.532Z"
      },
      {
        "duration": 89,
        "start_time": "2022-03-29T17:36:18.602Z"
      },
      {
        "duration": 76,
        "start_time": "2022-03-29T17:36:18.693Z"
      },
      {
        "duration": 55,
        "start_time": "2022-03-29T17:36:18.771Z"
      },
      {
        "duration": 47,
        "start_time": "2022-03-29T17:36:18.828Z"
      },
      {
        "duration": 18,
        "start_time": "2022-03-29T17:36:18.878Z"
      },
      {
        "duration": 84,
        "start_time": "2022-03-29T17:36:18.899Z"
      },
      {
        "duration": 39,
        "start_time": "2022-03-29T17:36:18.987Z"
      },
      {
        "duration": 58,
        "start_time": "2022-03-29T17:36:19.029Z"
      },
      {
        "duration": 9,
        "start_time": "2022-03-29T17:36:19.091Z"
      },
      {
        "duration": 5216,
        "start_time": "2022-03-29T17:36:19.103Z"
      },
      {
        "duration": 7,
        "start_time": "2022-03-29T17:36:24.324Z"
      },
      {
        "duration": 61,
        "start_time": "2022-03-29T17:36:24.333Z"
      },
      {
        "duration": 18,
        "start_time": "2022-03-29T17:36:24.397Z"
      },
      {
        "duration": 51,
        "start_time": "2022-03-29T17:36:24.418Z"
      },
      {
        "duration": 273,
        "start_time": "2022-03-29T17:36:24.472Z"
      },
      {
        "duration": 282,
        "start_time": "2022-03-29T17:36:24.748Z"
      },
      {
        "duration": 283,
        "start_time": "2022-03-29T17:36:25.032Z"
      },
      {
        "duration": 56,
        "start_time": "2022-03-29T17:36:25.317Z"
      },
      {
        "duration": 982,
        "start_time": "2022-03-29T17:36:25.375Z"
      },
      {
        "duration": 114,
        "start_time": "2022-03-29T17:36:26.359Z"
      },
      {
        "duration": 623,
        "start_time": "2022-03-29T17:36:26.476Z"
      },
      {
        "duration": 37,
        "start_time": "2022-03-29T17:36:27.102Z"
      },
      {
        "duration": 894,
        "start_time": "2022-03-29T17:36:27.141Z"
      },
      {
        "duration": 12,
        "start_time": "2022-03-29T17:36:28.038Z"
      },
      {
        "duration": 18,
        "start_time": "2022-03-29T17:36:28.068Z"
      },
      {
        "duration": 15,
        "start_time": "2022-03-29T17:36:28.089Z"
      },
      {
        "duration": 22,
        "start_time": "2022-03-29T17:36:28.106Z"
      },
      {
        "duration": 16,
        "start_time": "2022-03-29T17:36:28.131Z"
      },
      {
        "duration": 34,
        "start_time": "2022-03-29T17:36:28.149Z"
      },
      {
        "duration": 104,
        "start_time": "2022-03-29T17:36:28.185Z"
      },
      {
        "duration": 275,
        "start_time": "2022-03-29T17:36:28.292Z"
      },
      {
        "duration": 256,
        "start_time": "2022-03-29T17:36:28.569Z"
      },
      {
        "duration": 265,
        "start_time": "2022-03-29T17:36:28.827Z"
      },
      {
        "duration": 39,
        "start_time": "2022-03-29T17:36:29.094Z"
      },
      {
        "duration": 1629,
        "start_time": "2022-03-29T17:36:29.135Z"
      },
      {
        "duration": 14,
        "start_time": "2022-03-29T17:36:48.241Z"
      },
      {
        "duration": 7,
        "start_time": "2022-03-29T17:36:52.123Z"
      },
      {
        "duration": 47,
        "start_time": "2022-03-30T14:19:38.910Z"
      },
      {
        "duration": 1294,
        "start_time": "2022-03-30T14:19:44.204Z"
      },
      {
        "duration": 484,
        "start_time": "2022-03-30T14:19:45.501Z"
      },
      {
        "duration": 14,
        "start_time": "2022-03-30T14:19:45.987Z"
      },
      {
        "duration": 31,
        "start_time": "2022-03-30T14:19:46.003Z"
      },
      {
        "duration": 9,
        "start_time": "2022-03-30T14:19:46.036Z"
      },
      {
        "duration": 26,
        "start_time": "2022-03-30T14:19:46.046Z"
      },
      {
        "duration": 8,
        "start_time": "2022-03-30T14:19:46.074Z"
      },
      {
        "duration": 20,
        "start_time": "2022-03-30T14:19:46.084Z"
      },
      {
        "duration": 8,
        "start_time": "2022-03-30T14:19:46.106Z"
      },
      {
        "duration": 31,
        "start_time": "2022-03-30T14:19:46.116Z"
      },
      {
        "duration": 12,
        "start_time": "2022-03-30T14:19:46.149Z"
      },
      {
        "duration": 14,
        "start_time": "2022-03-30T14:19:46.162Z"
      },
      {
        "duration": 247,
        "start_time": "2022-03-30T14:19:46.178Z"
      },
      {
        "duration": 80,
        "start_time": "2022-03-30T14:19:46.429Z"
      },
      {
        "duration": 67,
        "start_time": "2022-03-30T14:19:46.511Z"
      },
      {
        "duration": 7,
        "start_time": "2022-03-30T14:19:46.580Z"
      },
      {
        "duration": 49,
        "start_time": "2022-03-30T14:19:46.589Z"
      },
      {
        "duration": 65,
        "start_time": "2022-03-30T14:19:46.640Z"
      },
      {
        "duration": 62,
        "start_time": "2022-03-30T14:19:46.707Z"
      },
      {
        "duration": 43,
        "start_time": "2022-03-30T14:19:46.771Z"
      },
      {
        "duration": 33,
        "start_time": "2022-03-30T14:19:46.816Z"
      },
      {
        "duration": 8,
        "start_time": "2022-03-30T14:19:46.851Z"
      },
      {
        "duration": 38,
        "start_time": "2022-03-30T14:19:46.861Z"
      },
      {
        "duration": 16,
        "start_time": "2022-03-30T14:19:46.901Z"
      },
      {
        "duration": 34,
        "start_time": "2022-03-30T14:19:46.919Z"
      },
      {
        "duration": 5,
        "start_time": "2022-03-30T14:19:46.954Z"
      },
      {
        "duration": 2191,
        "start_time": "2022-03-30T14:19:46.960Z"
      },
      {
        "duration": 5,
        "start_time": "2022-03-30T14:19:49.153Z"
      },
      {
        "duration": 28,
        "start_time": "2022-03-30T14:19:49.159Z"
      },
      {
        "duration": 11,
        "start_time": "2022-03-30T14:19:49.189Z"
      },
      {
        "duration": 43,
        "start_time": "2022-03-30T14:19:49.202Z"
      },
      {
        "duration": 182,
        "start_time": "2022-03-30T14:19:49.247Z"
      },
      {
        "duration": 188,
        "start_time": "2022-03-30T14:19:49.431Z"
      },
      {
        "duration": 179,
        "start_time": "2022-03-30T14:19:49.621Z"
      },
      {
        "duration": 38,
        "start_time": "2022-03-30T14:19:49.802Z"
      },
      {
        "duration": 559,
        "start_time": "2022-03-30T14:19:49.842Z"
      },
      {
        "duration": 126,
        "start_time": "2022-03-30T14:19:50.402Z"
      },
      {
        "duration": 386,
        "start_time": "2022-03-30T14:19:50.530Z"
      },
      {
        "duration": 37,
        "start_time": "2022-03-30T14:19:50.917Z"
      },
      {
        "duration": 564,
        "start_time": "2022-03-30T14:19:50.955Z"
      },
      {
        "duration": 15,
        "start_time": "2022-03-30T14:19:51.523Z"
      },
      {
        "duration": 13,
        "start_time": "2022-03-30T14:19:51.540Z"
      },
      {
        "duration": 4,
        "start_time": "2022-03-30T14:19:51.555Z"
      },
      {
        "duration": 8,
        "start_time": "2022-03-30T14:19:51.560Z"
      },
      {
        "duration": 11,
        "start_time": "2022-03-30T14:19:51.570Z"
      },
      {
        "duration": 5,
        "start_time": "2022-03-30T14:19:51.582Z"
      },
      {
        "duration": 20,
        "start_time": "2022-03-30T14:19:51.588Z"
      },
      {
        "duration": 74,
        "start_time": "2022-03-30T14:19:51.609Z"
      },
      {
        "duration": 187,
        "start_time": "2022-03-30T14:19:51.685Z"
      },
      {
        "duration": 184,
        "start_time": "2022-03-30T14:19:51.874Z"
      },
      {
        "duration": 183,
        "start_time": "2022-03-30T14:19:52.059Z"
      },
      {
        "duration": 32,
        "start_time": "2022-03-30T14:19:52.244Z"
      },
      {
        "duration": 1281,
        "start_time": "2022-03-30T14:19:52.278Z"
      },
      {
        "duration": 195,
        "start_time": "2022-03-30T14:20:43.130Z"
      },
      {
        "duration": 15,
        "start_time": "2022-03-30T14:21:43.284Z"
      },
      {
        "duration": 138,
        "start_time": "2022-03-30T14:38:02.317Z"
      },
      {
        "duration": 1924,
        "start_time": "2022-03-30T14:38:14.264Z"
      },
      {
        "duration": 13,
        "start_time": "2022-03-30T14:39:04.992Z"
      },
      {
        "duration": 14,
        "start_time": "2022-03-30T14:39:16.376Z"
      },
      {
        "duration": 8,
        "start_time": "2022-03-30T14:39:34.644Z"
      },
      {
        "duration": 7,
        "start_time": "2022-03-30T14:39:45.437Z"
      },
      {
        "duration": 9,
        "start_time": "2022-03-30T14:40:11.536Z"
      },
      {
        "duration": 7,
        "start_time": "2022-03-30T14:40:25.685Z"
      },
      {
        "duration": 11,
        "start_time": "2022-03-30T14:42:31.145Z"
      },
      {
        "duration": 10,
        "start_time": "2022-03-30T14:42:39.305Z"
      },
      {
        "duration": 17,
        "start_time": "2022-03-30T14:50:31.628Z"
      },
      {
        "duration": 18,
        "start_time": "2022-03-30T14:51:09.856Z"
      },
      {
        "duration": 19,
        "start_time": "2022-03-30T14:52:45.946Z"
      },
      {
        "duration": 1190,
        "start_time": "2022-03-31T06:43:13.664Z"
      },
      {
        "duration": 446,
        "start_time": "2022-03-31T06:43:14.857Z"
      },
      {
        "duration": 13,
        "start_time": "2022-03-31T06:43:15.305Z"
      },
      {
        "duration": 31,
        "start_time": "2022-03-31T06:43:15.320Z"
      },
      {
        "duration": 11,
        "start_time": "2022-03-31T06:43:15.353Z"
      },
      {
        "duration": 22,
        "start_time": "2022-03-31T06:43:15.366Z"
      },
      {
        "duration": 24,
        "start_time": "2022-03-31T06:43:15.390Z"
      },
      {
        "duration": 25,
        "start_time": "2022-03-31T06:43:15.415Z"
      },
      {
        "duration": 7,
        "start_time": "2022-03-31T06:43:15.441Z"
      },
      {
        "duration": 13,
        "start_time": "2022-03-31T06:43:15.451Z"
      },
      {
        "duration": 12,
        "start_time": "2022-03-31T06:43:15.465Z"
      },
      {
        "duration": 14,
        "start_time": "2022-03-31T06:43:15.478Z"
      },
      {
        "duration": 199,
        "start_time": "2022-03-31T06:43:15.493Z"
      },
      {
        "duration": 80,
        "start_time": "2022-03-31T06:43:15.694Z"
      },
      {
        "duration": 46,
        "start_time": "2022-03-31T06:43:15.776Z"
      },
      {
        "duration": 7,
        "start_time": "2022-03-31T06:43:15.824Z"
      },
      {
        "duration": 49,
        "start_time": "2022-03-31T06:43:15.832Z"
      },
      {
        "duration": 62,
        "start_time": "2022-03-31T06:43:15.883Z"
      },
      {
        "duration": 51,
        "start_time": "2022-03-31T06:43:15.947Z"
      },
      {
        "duration": 45,
        "start_time": "2022-03-31T06:43:15.999Z"
      },
      {
        "duration": 32,
        "start_time": "2022-03-31T06:43:16.046Z"
      },
      {
        "duration": 9,
        "start_time": "2022-03-31T06:43:16.080Z"
      },
      {
        "duration": 25,
        "start_time": "2022-03-31T06:43:16.091Z"
      },
      {
        "duration": 45,
        "start_time": "2022-03-31T06:43:16.118Z"
      },
      {
        "duration": 17,
        "start_time": "2022-03-31T06:43:16.164Z"
      },
      {
        "duration": 5,
        "start_time": "2022-03-31T06:43:16.182Z"
      },
      {
        "duration": 2091,
        "start_time": "2022-03-31T06:43:16.188Z"
      },
      {
        "duration": 5,
        "start_time": "2022-03-31T06:43:18.283Z"
      },
      {
        "duration": 24,
        "start_time": "2022-03-31T06:43:18.289Z"
      },
      {
        "duration": 10,
        "start_time": "2022-03-31T06:43:18.315Z"
      },
      {
        "duration": 49,
        "start_time": "2022-03-31T06:43:18.327Z"
      },
      {
        "duration": 147,
        "start_time": "2022-03-31T06:43:18.378Z"
      },
      {
        "duration": 159,
        "start_time": "2022-03-31T06:43:18.527Z"
      },
      {
        "duration": 150,
        "start_time": "2022-03-31T06:43:18.687Z"
      },
      {
        "duration": 34,
        "start_time": "2022-03-31T06:43:18.839Z"
      },
      {
        "duration": 477,
        "start_time": "2022-03-31T06:43:18.875Z"
      },
      {
        "duration": 114,
        "start_time": "2022-03-31T06:43:19.354Z"
      },
      {
        "duration": 352,
        "start_time": "2022-03-31T06:43:19.470Z"
      },
      {
        "duration": 25,
        "start_time": "2022-03-31T06:43:19.823Z"
      },
      {
        "duration": 496,
        "start_time": "2022-03-31T06:43:19.850Z"
      },
      {
        "duration": 8,
        "start_time": "2022-03-31T06:43:20.348Z"
      },
      {
        "duration": 7,
        "start_time": "2022-03-31T06:43:20.363Z"
      },
      {
        "duration": 4,
        "start_time": "2022-03-31T06:43:20.372Z"
      },
      {
        "duration": 6,
        "start_time": "2022-03-31T06:43:20.377Z"
      },
      {
        "duration": 10,
        "start_time": "2022-03-31T06:43:20.384Z"
      },
      {
        "duration": 5,
        "start_time": "2022-03-31T06:43:20.395Z"
      },
      {
        "duration": 18,
        "start_time": "2022-03-31T06:43:20.401Z"
      },
      {
        "duration": 44,
        "start_time": "2022-03-31T06:43:20.420Z"
      },
      {
        "duration": 16,
        "start_time": "2022-03-31T06:43:20.466Z"
      },
      {
        "duration": 8,
        "start_time": "2022-03-31T06:43:20.484Z"
      },
      {
        "duration": 69,
        "start_time": "2022-03-31T06:43:20.494Z"
      },
      {
        "duration": 173,
        "start_time": "2022-03-31T06:43:20.565Z"
      },
      {
        "duration": 152,
        "start_time": "2022-03-31T06:43:20.740Z"
      },
      {
        "duration": 157,
        "start_time": "2022-03-31T06:43:20.894Z"
      },
      {
        "duration": 28,
        "start_time": "2022-03-31T06:43:21.053Z"
      },
      {
        "duration": 1187,
        "start_time": "2022-03-31T06:43:21.082Z"
      },
      {
        "duration": 3,
        "start_time": "2022-03-31T06:51:35.634Z"
      },
      {
        "duration": 388,
        "start_time": "2022-03-31T06:51:35.642Z"
      },
      {
        "duration": 8,
        "start_time": "2022-03-31T06:51:36.032Z"
      },
      {
        "duration": 29,
        "start_time": "2022-03-31T06:51:36.042Z"
      },
      {
        "duration": 8,
        "start_time": "2022-03-31T06:51:36.072Z"
      },
      {
        "duration": 21,
        "start_time": "2022-03-31T06:51:36.082Z"
      },
      {
        "duration": 7,
        "start_time": "2022-03-31T06:51:36.104Z"
      },
      {
        "duration": 19,
        "start_time": "2022-03-31T06:51:36.112Z"
      },
      {
        "duration": 30,
        "start_time": "2022-03-31T06:51:36.133Z"
      },
      {
        "duration": 10,
        "start_time": "2022-03-31T06:51:36.165Z"
      },
      {
        "duration": 12,
        "start_time": "2022-03-31T06:51:36.176Z"
      },
      {
        "duration": 10,
        "start_time": "2022-03-31T06:51:36.189Z"
      },
      {
        "duration": 190,
        "start_time": "2022-03-31T06:51:36.201Z"
      },
      {
        "duration": 74,
        "start_time": "2022-03-31T06:51:36.393Z"
      },
      {
        "duration": 47,
        "start_time": "2022-03-31T06:51:36.471Z"
      },
      {
        "duration": 6,
        "start_time": "2022-03-31T06:51:36.520Z"
      },
      {
        "duration": 50,
        "start_time": "2022-03-31T06:51:36.528Z"
      },
      {
        "duration": 53,
        "start_time": "2022-03-31T06:51:36.580Z"
      },
      {
        "duration": 54,
        "start_time": "2022-03-31T06:51:36.635Z"
      },
      {
        "duration": 37,
        "start_time": "2022-03-31T06:51:36.691Z"
      },
      {
        "duration": 34,
        "start_time": "2022-03-31T06:51:36.729Z"
      },
      {
        "duration": 9,
        "start_time": "2022-03-31T06:51:36.764Z"
      },
      {
        "duration": 27,
        "start_time": "2022-03-31T06:51:36.774Z"
      },
      {
        "duration": 16,
        "start_time": "2022-03-31T06:51:36.803Z"
      },
      {
        "duration": 16,
        "start_time": "2022-03-31T06:51:36.820Z"
      },
      {
        "duration": 25,
        "start_time": "2022-03-31T06:51:36.838Z"
      },
      {
        "duration": 2143,
        "start_time": "2022-03-31T06:51:36.864Z"
      },
      {
        "duration": 4,
        "start_time": "2022-03-31T06:51:39.010Z"
      },
      {
        "duration": 25,
        "start_time": "2022-03-31T06:51:39.016Z"
      },
      {
        "duration": 23,
        "start_time": "2022-03-31T06:51:39.043Z"
      },
      {
        "duration": 20,
        "start_time": "2022-03-31T06:51:39.067Z"
      },
      {
        "duration": 162,
        "start_time": "2022-03-31T06:51:39.089Z"
      },
      {
        "duration": 160,
        "start_time": "2022-03-31T06:51:39.253Z"
      },
      {
        "duration": 157,
        "start_time": "2022-03-31T06:51:39.415Z"
      },
      {
        "duration": 22,
        "start_time": "2022-03-31T06:51:39.574Z"
      },
      {
        "duration": 491,
        "start_time": "2022-03-31T06:51:39.598Z"
      },
      {
        "duration": 127,
        "start_time": "2022-03-31T06:51:40.091Z"
      },
      {
        "duration": 345,
        "start_time": "2022-03-31T06:51:40.220Z"
      },
      {
        "duration": 23,
        "start_time": "2022-03-31T06:51:40.566Z"
      },
      {
        "duration": 488,
        "start_time": "2022-03-31T06:51:40.591Z"
      },
      {
        "duration": 8,
        "start_time": "2022-03-31T06:51:41.081Z"
      },
      {
        "duration": 8,
        "start_time": "2022-03-31T06:51:41.092Z"
      },
      {
        "duration": 4,
        "start_time": "2022-03-31T06:51:41.101Z"
      },
      {
        "duration": 10,
        "start_time": "2022-03-31T06:51:41.106Z"
      },
      {
        "duration": 12,
        "start_time": "2022-03-31T06:51:41.117Z"
      },
      {
        "duration": 4,
        "start_time": "2022-03-31T06:51:41.130Z"
      },
      {
        "duration": 12,
        "start_time": "2022-03-31T06:51:41.163Z"
      },
      {
        "duration": 15,
        "start_time": "2022-03-31T06:51:41.177Z"
      },
      {
        "duration": 14,
        "start_time": "2022-03-31T06:51:41.194Z"
      },
      {
        "duration": 8,
        "start_time": "2022-03-31T06:51:41.210Z"
      },
      {
        "duration": 4,
        "start_time": "2022-03-31T06:51:41.220Z"
      },
      {
        "duration": 176,
        "start_time": "2022-03-31T06:51:41.225Z"
      },
      {
        "duration": 150,
        "start_time": "2022-03-31T06:51:41.403Z"
      },
      {
        "duration": 148,
        "start_time": "2022-03-31T06:51:41.562Z"
      },
      {
        "duration": 29,
        "start_time": "2022-03-31T06:51:41.712Z"
      },
      {
        "duration": 1199,
        "start_time": "2022-03-31T06:51:41.742Z"
      },
      {
        "duration": 3,
        "start_time": "2022-03-31T06:53:33.972Z"
      },
      {
        "duration": 370,
        "start_time": "2022-03-31T06:53:33.981Z"
      },
      {
        "duration": 7,
        "start_time": "2022-03-31T06:53:34.354Z"
      },
      {
        "duration": 31,
        "start_time": "2022-03-31T06:53:34.363Z"
      },
      {
        "duration": 7,
        "start_time": "2022-03-31T06:53:34.395Z"
      },
      {
        "duration": 21,
        "start_time": "2022-03-31T06:53:34.404Z"
      },
      {
        "duration": 6,
        "start_time": "2022-03-31T06:53:34.427Z"
      },
      {
        "duration": 37,
        "start_time": "2022-03-31T06:53:34.434Z"
      },
      {
        "duration": 7,
        "start_time": "2022-03-31T06:53:34.473Z"
      },
      {
        "duration": 12,
        "start_time": "2022-03-31T06:53:34.481Z"
      },
      {
        "duration": 13,
        "start_time": "2022-03-31T06:53:34.494Z"
      },
      {
        "duration": 10,
        "start_time": "2022-03-31T06:53:34.509Z"
      },
      {
        "duration": 184,
        "start_time": "2022-03-31T06:53:34.521Z"
      },
      {
        "duration": 73,
        "start_time": "2022-03-31T06:53:34.706Z"
      },
      {
        "duration": 47,
        "start_time": "2022-03-31T06:53:34.782Z"
      },
      {
        "duration": 5,
        "start_time": "2022-03-31T06:53:34.831Z"
      },
      {
        "duration": 46,
        "start_time": "2022-03-31T06:53:34.838Z"
      },
      {
        "duration": 53,
        "start_time": "2022-03-31T06:53:34.885Z"
      },
      {
        "duration": 50,
        "start_time": "2022-03-31T06:53:34.940Z"
      },
      {
        "duration": 38,
        "start_time": "2022-03-31T06:53:34.991Z"
      },
      {
        "duration": 38,
        "start_time": "2022-03-31T06:53:35.031Z"
      },
      {
        "duration": 8,
        "start_time": "2022-03-31T06:53:35.071Z"
      },
      {
        "duration": 27,
        "start_time": "2022-03-31T06:53:35.080Z"
      },
      {
        "duration": 16,
        "start_time": "2022-03-31T06:53:35.109Z"
      },
      {
        "duration": 38,
        "start_time": "2022-03-31T06:53:35.126Z"
      },
      {
        "duration": 5,
        "start_time": "2022-03-31T06:53:35.165Z"
      },
      {
        "duration": 2079,
        "start_time": "2022-03-31T06:53:35.171Z"
      },
      {
        "duration": 4,
        "start_time": "2022-03-31T06:53:37.252Z"
      },
      {
        "duration": 27,
        "start_time": "2022-03-31T06:53:37.257Z"
      },
      {
        "duration": 11,
        "start_time": "2022-03-31T06:53:37.286Z"
      },
      {
        "duration": 20,
        "start_time": "2022-03-31T06:53:37.299Z"
      },
      {
        "duration": 181,
        "start_time": "2022-03-31T06:53:37.321Z"
      },
      {
        "duration": 161,
        "start_time": "2022-03-31T06:53:37.504Z"
      },
      {
        "duration": 154,
        "start_time": "2022-03-31T06:53:37.666Z"
      },
      {
        "duration": 23,
        "start_time": "2022-03-31T06:53:37.822Z"
      },
      {
        "duration": 500,
        "start_time": "2022-03-31T06:53:37.847Z"
      },
      {
        "duration": 134,
        "start_time": "2022-03-31T06:53:38.348Z"
      },
      {
        "duration": 348,
        "start_time": "2022-03-31T06:53:38.484Z"
      },
      {
        "duration": 37,
        "start_time": "2022-03-31T06:53:38.834Z"
      },
      {
        "duration": 502,
        "start_time": "2022-03-31T06:53:38.872Z"
      },
      {
        "duration": 9,
        "start_time": "2022-03-31T06:53:39.376Z"
      },
      {
        "duration": 9,
        "start_time": "2022-03-31T06:53:39.389Z"
      },
      {
        "duration": 5,
        "start_time": "2022-03-31T06:53:39.399Z"
      },
      {
        "duration": 5,
        "start_time": "2022-03-31T06:53:39.406Z"
      },
      {
        "duration": 12,
        "start_time": "2022-03-31T06:53:39.413Z"
      },
      {
        "duration": 4,
        "start_time": "2022-03-31T06:53:39.426Z"
      },
      {
        "duration": 39,
        "start_time": "2022-03-31T06:53:39.432Z"
      },
      {
        "duration": 14,
        "start_time": "2022-03-31T06:53:39.473Z"
      },
      {
        "duration": 14,
        "start_time": "2022-03-31T06:53:39.488Z"
      },
      {
        "duration": 8,
        "start_time": "2022-03-31T06:53:39.504Z"
      },
      {
        "duration": 4,
        "start_time": "2022-03-31T06:53:39.513Z"
      },
      {
        "duration": 172,
        "start_time": "2022-03-31T06:53:39.518Z"
      },
      {
        "duration": 154,
        "start_time": "2022-03-31T06:53:39.692Z"
      },
      {
        "duration": 158,
        "start_time": "2022-03-31T06:53:39.847Z"
      },
      {
        "duration": 31,
        "start_time": "2022-03-31T06:53:40.007Z"
      },
      {
        "duration": 1082,
        "start_time": "2022-03-31T06:53:41.218Z"
      },
      {
        "duration": 153,
        "start_time": "2022-03-31T14:34:27.019Z"
      },
      {
        "duration": 1362,
        "start_time": "2022-03-31T14:36:42.657Z"
      },
      {
        "duration": 500,
        "start_time": "2022-03-31T14:36:44.022Z"
      },
      {
        "duration": 16,
        "start_time": "2022-03-31T14:36:44.524Z"
      },
      {
        "duration": 46,
        "start_time": "2022-03-31T14:36:44.543Z"
      },
      {
        "duration": 12,
        "start_time": "2022-03-31T14:36:44.591Z"
      },
      {
        "duration": 40,
        "start_time": "2022-03-31T14:36:44.605Z"
      },
      {
        "duration": 24,
        "start_time": "2022-03-31T14:36:44.648Z"
      },
      {
        "duration": 50,
        "start_time": "2022-03-31T14:36:44.674Z"
      },
      {
        "duration": 22,
        "start_time": "2022-03-31T14:36:44.727Z"
      },
      {
        "duration": 34,
        "start_time": "2022-03-31T14:36:44.753Z"
      },
      {
        "duration": 36,
        "start_time": "2022-03-31T14:36:44.790Z"
      },
      {
        "duration": 27,
        "start_time": "2022-03-31T14:36:44.828Z"
      },
      {
        "duration": 356,
        "start_time": "2022-03-31T14:36:44.857Z"
      },
      {
        "duration": 114,
        "start_time": "2022-03-31T14:36:45.215Z"
      },
      {
        "duration": 82,
        "start_time": "2022-03-31T14:36:45.331Z"
      },
      {
        "duration": 10,
        "start_time": "2022-03-31T14:36:45.416Z"
      },
      {
        "duration": 62,
        "start_time": "2022-03-31T14:36:45.428Z"
      },
      {
        "duration": 96,
        "start_time": "2022-03-31T14:36:45.493Z"
      },
      {
        "duration": 55,
        "start_time": "2022-03-31T14:36:45.591Z"
      },
      {
        "duration": 78,
        "start_time": "2022-03-31T14:36:45.648Z"
      },
      {
        "duration": 25,
        "start_time": "2022-03-31T14:36:45.728Z"
      },
      {
        "duration": 30,
        "start_time": "2022-03-31T14:36:45.755Z"
      },
      {
        "duration": 40,
        "start_time": "2022-03-31T14:36:45.787Z"
      },
      {
        "duration": 27,
        "start_time": "2022-03-31T14:36:45.829Z"
      },
      {
        "duration": 46,
        "start_time": "2022-03-31T14:36:45.859Z"
      },
      {
        "duration": 7,
        "start_time": "2022-03-31T14:36:45.907Z"
      },
      {
        "duration": 3436,
        "start_time": "2022-03-31T14:36:45.917Z"
      },
      {
        "duration": 7,
        "start_time": "2022-03-31T14:36:49.361Z"
      },
      {
        "duration": 45,
        "start_time": "2022-03-31T14:36:49.370Z"
      },
      {
        "duration": 17,
        "start_time": "2022-03-31T14:36:49.417Z"
      },
      {
        "duration": 60,
        "start_time": "2022-03-31T14:36:49.436Z"
      },
      {
        "duration": 270,
        "start_time": "2022-03-31T14:36:49.498Z"
      },
      {
        "duration": 282,
        "start_time": "2022-03-31T14:36:49.770Z"
      },
      {
        "duration": 268,
        "start_time": "2022-03-31T14:36:50.054Z"
      },
      {
        "duration": 38,
        "start_time": "2022-03-31T14:36:50.325Z"
      },
      {
        "duration": 884,
        "start_time": "2022-03-31T14:36:50.382Z"
      },
      {
        "duration": 113,
        "start_time": "2022-03-31T14:36:51.269Z"
      },
      {
        "duration": 614,
        "start_time": "2022-03-31T14:36:51.385Z"
      },
      {
        "duration": 38,
        "start_time": "2022-03-31T14:36:52.002Z"
      },
      {
        "duration": 926,
        "start_time": "2022-03-31T14:36:52.042Z"
      },
      {
        "duration": 17,
        "start_time": "2022-03-31T14:36:52.971Z"
      },
      {
        "duration": 17,
        "start_time": "2022-03-31T14:36:52.990Z"
      },
      {
        "duration": 11,
        "start_time": "2022-03-31T14:36:53.009Z"
      },
      {
        "duration": 10,
        "start_time": "2022-03-31T14:36:53.022Z"
      },
      {
        "duration": 15,
        "start_time": "2022-03-31T14:36:53.035Z"
      },
      {
        "duration": 35,
        "start_time": "2022-03-31T14:36:53.052Z"
      },
      {
        "duration": 23,
        "start_time": "2022-03-31T14:36:53.089Z"
      },
      {
        "duration": 23,
        "start_time": "2022-03-31T14:36:53.115Z"
      },
      {
        "duration": 59,
        "start_time": "2022-03-31T14:36:53.140Z"
      },
      {
        "duration": 15,
        "start_time": "2022-03-31T14:36:53.202Z"
      },
      {
        "duration": 96,
        "start_time": "2022-03-31T14:36:53.219Z"
      },
      {
        "duration": 376,
        "start_time": "2022-03-31T14:36:53.318Z"
      },
      {
        "duration": 261,
        "start_time": "2022-03-31T14:36:53.696Z"
      },
      {
        "duration": 269,
        "start_time": "2022-03-31T14:36:53.959Z"
      },
      {
        "duration": 37,
        "start_time": "2022-03-31T14:36:54.231Z"
      },
      {
        "duration": 1613,
        "start_time": "2022-03-31T14:36:54.271Z"
      },
      {
        "duration": 392,
        "start_time": "2022-03-31T14:36:55.890Z"
      },
      {
        "duration": 26,
        "start_time": "2022-03-31T14:36:57.299Z"
      },
      {
        "duration": 32,
        "start_time": "2022-03-31T14:37:05.959Z"
      },
      {
        "duration": 541,
        "start_time": "2022-03-31T14:37:36.871Z"
      },
      {
        "duration": 390,
        "start_time": "2022-03-31T14:37:48.558Z"
      },
      {
        "duration": 357,
        "start_time": "2022-03-31T14:38:02.087Z"
      },
      {
        "duration": 356,
        "start_time": "2022-03-31T14:38:10.519Z"
      },
      {
        "duration": 152,
        "start_time": "2022-03-31T14:39:30.098Z"
      },
      {
        "duration": 9,
        "start_time": "2022-03-31T14:40:51.196Z"
      },
      {
        "duration": 456,
        "start_time": "2022-03-31T14:43:52.299Z"
      },
      {
        "duration": 1341,
        "start_time": "2022-03-31T14:49:02.541Z"
      },
      {
        "duration": 502,
        "start_time": "2022-03-31T14:49:03.885Z"
      },
      {
        "duration": 18,
        "start_time": "2022-03-31T14:49:04.392Z"
      },
      {
        "duration": 60,
        "start_time": "2022-03-31T14:49:04.413Z"
      },
      {
        "duration": 19,
        "start_time": "2022-03-31T14:49:04.476Z"
      },
      {
        "duration": 47,
        "start_time": "2022-03-31T14:49:04.498Z"
      },
      {
        "duration": 58,
        "start_time": "2022-03-31T14:49:04.548Z"
      },
      {
        "duration": 73,
        "start_time": "2022-03-31T14:49:04.608Z"
      },
      {
        "duration": 24,
        "start_time": "2022-03-31T14:49:04.684Z"
      },
      {
        "duration": 39,
        "start_time": "2022-03-31T14:49:04.711Z"
      },
      {
        "duration": 40,
        "start_time": "2022-03-31T14:49:04.753Z"
      },
      {
        "duration": 32,
        "start_time": "2022-03-31T14:49:04.796Z"
      },
      {
        "duration": 338,
        "start_time": "2022-03-31T14:49:04.832Z"
      },
      {
        "duration": 116,
        "start_time": "2022-03-31T14:49:05.172Z"
      },
      {
        "duration": 70,
        "start_time": "2022-03-31T14:49:05.290Z"
      },
      {
        "duration": 25,
        "start_time": "2022-03-31T14:49:05.362Z"
      },
      {
        "duration": 58,
        "start_time": "2022-03-31T14:49:05.389Z"
      },
      {
        "duration": 81,
        "start_time": "2022-03-31T14:49:05.450Z"
      },
      {
        "duration": 66,
        "start_time": "2022-03-31T14:49:05.533Z"
      },
      {
        "duration": 53,
        "start_time": "2022-03-31T14:49:05.601Z"
      },
      {
        "duration": 43,
        "start_time": "2022-03-31T14:49:05.657Z"
      },
      {
        "duration": 32,
        "start_time": "2022-03-31T14:49:05.703Z"
      },
      {
        "duration": 51,
        "start_time": "2022-03-31T14:49:05.737Z"
      },
      {
        "duration": 23,
        "start_time": "2022-03-31T14:49:05.790Z"
      },
      {
        "duration": 41,
        "start_time": "2022-03-31T14:49:05.815Z"
      },
      {
        "duration": 11,
        "start_time": "2022-03-31T14:49:05.858Z"
      },
      {
        "duration": 3506,
        "start_time": "2022-03-31T14:49:05.872Z"
      },
      {
        "duration": 7,
        "start_time": "2022-03-31T14:49:09.383Z"
      },
      {
        "duration": 39,
        "start_time": "2022-03-31T14:49:09.392Z"
      },
      {
        "duration": 18,
        "start_time": "2022-03-31T14:49:09.433Z"
      },
      {
        "duration": 59,
        "start_time": "2022-03-31T14:49:09.453Z"
      },
      {
        "duration": 267,
        "start_time": "2022-03-31T14:49:09.515Z"
      },
      {
        "duration": 267,
        "start_time": "2022-03-31T14:49:09.785Z"
      },
      {
        "duration": 256,
        "start_time": "2022-03-31T14:49:10.055Z"
      },
      {
        "duration": 372,
        "start_time": "2022-03-31T14:49:10.314Z"
      },
      {
        "duration": 27,
        "start_time": "2022-03-31T14:49:10.688Z"
      },
      {
        "duration": 34,
        "start_time": "2022-03-31T14:49:10.718Z"
      },
      {
        "duration": 35,
        "start_time": "2022-03-31T14:49:10.783Z"
      },
      {
        "duration": 818,
        "start_time": "2022-03-31T14:49:10.821Z"
      },
      {
        "duration": 121,
        "start_time": "2022-03-31T14:49:11.646Z"
      },
      {
        "duration": 576,
        "start_time": "2022-03-31T14:49:11.769Z"
      },
      {
        "duration": 55,
        "start_time": "2022-03-31T14:49:12.347Z"
      },
      {
        "duration": 810,
        "start_time": "2022-03-31T14:49:12.405Z"
      },
      {
        "duration": 12,
        "start_time": "2022-03-31T14:49:13.218Z"
      },
      {
        "duration": 40,
        "start_time": "2022-03-31T14:49:13.232Z"
      },
      {
        "duration": 22,
        "start_time": "2022-03-31T14:49:13.274Z"
      },
      {
        "duration": 17,
        "start_time": "2022-03-31T14:49:13.298Z"
      },
      {
        "duration": 35,
        "start_time": "2022-03-31T14:49:13.318Z"
      },
      {
        "duration": 12,
        "start_time": "2022-03-31T14:49:13.355Z"
      },
      {
        "duration": 10,
        "start_time": "2022-03-31T14:49:13.369Z"
      },
      {
        "duration": 23,
        "start_time": "2022-03-31T14:49:13.381Z"
      },
      {
        "duration": 26,
        "start_time": "2022-03-31T14:49:13.406Z"
      },
      {
        "duration": 56,
        "start_time": "2022-03-31T14:49:13.435Z"
      },
      {
        "duration": 14,
        "start_time": "2022-03-31T14:49:13.493Z"
      },
      {
        "duration": 97,
        "start_time": "2022-03-31T14:49:13.509Z"
      },
      {
        "duration": 264,
        "start_time": "2022-03-31T14:49:13.609Z"
      },
      {
        "duration": 255,
        "start_time": "2022-03-31T14:49:13.876Z"
      },
      {
        "duration": 264,
        "start_time": "2022-03-31T14:49:14.134Z"
      },
      {
        "duration": 39,
        "start_time": "2022-03-31T14:49:14.401Z"
      },
      {
        "duration": 1712,
        "start_time": "2022-03-31T14:49:14.442Z"
      }
    ],
    "colab": {
      "collapsed_sections": [],
      "name": "statistic_analysis.ipynb",
      "provenance": [],
      "include_colab_link": true
    },
    "kernelspec": {
      "display_name": "Python 3 (ipykernel)",
      "language": "python",
      "name": "python3"
    },
    "language_info": {
      "codemirror_mode": {
        "name": "ipython",
        "version": 3
      },
      "file_extension": ".py",
      "mimetype": "text/x-python",
      "name": "python",
      "nbconvert_exporter": "python",
      "pygments_lexer": "ipython3",
      "version": "3.9.7"
    },
    "toc": {
      "base_numbering": 1,
      "nav_menu": {},
      "number_sections": true,
      "sideBar": true,
      "skip_h1_title": true,
      "title_cell": "Table of Contents",
      "title_sidebar": "Contents",
      "toc_cell": false,
      "toc_position": {},
      "toc_section_display": true,
      "toc_window_display": false
    }
  },
  "nbformat": 4,
  "nbformat_minor": 0
}